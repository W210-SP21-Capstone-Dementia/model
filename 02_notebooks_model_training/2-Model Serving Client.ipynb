{
 "cells": [
  {
   "cell_type": "code",
   "execution_count": 1,
   "id": "premier-intent",
   "metadata": {},
   "outputs": [],
   "source": [
    "import tensorflow as tf\n",
    "import numpy as np\n",
    "from tensorflow.keras.layers.experimental import preprocessing\n",
    "from tensorflow.keras import layers\n",
    "from tensorflow.keras import models\n",
    "seed = 30\n",
    "tf.random.set_seed(seed)\n",
    "np.random.seed(seed)"
   ]
  },
  {
   "cell_type": "markdown",
   "id": "undefined-danish",
   "metadata": {},
   "source": [
    "# Load model and test it locally"
   ]
  },
  {
   "cell_type": "code",
   "execution_count": 2,
   "id": "ideal-weather",
   "metadata": {},
   "outputs": [],
   "source": [
    "def get_data(file_path):\n",
    "    audio_binary = tf.io.read_file(file_path)\n",
    "    audio, _ = tf.audio.decode_wav(audio_binary)\n",
    "    waveform = tf.squeeze(audio, axis=-1)    \n",
    "    \n",
    "    zero_padding = tf.zeros([10000000] - tf.shape(waveform), dtype=tf.float32)\n",
    "    waveform = tf.cast(waveform, tf.float32)\n",
    "    equal_length = tf.concat([waveform, zero_padding], 0)\n",
    "    \n",
    "    spectrogram = tf.signal.stft(equal_length, frame_length=255, frame_step=128)\n",
    "    spectrogram = tf.abs(spectrogram)\n",
    "    spectrogram = tf.expand_dims(spectrogram, -1)\n",
    "    return spectrogram"
   ]
  },
  {
   "cell_type": "code",
   "execution_count": 3,
   "id": "binding-midwest",
   "metadata": {},
   "outputs": [
    {
     "name": "stdout",
     "output_type": "stream",
     "text": [
      "Model: \"sequential_2\"\n",
      "_________________________________________________________________\n",
      "Layer (type)                 Output Shape              Param #   \n",
      "=================================================================\n",
      "resizing_2 (Resizing)        (None, 32, 32, 1)         0         \n",
      "_________________________________________________________________\n",
      "normalization_2 (Normalizati (None, 32, 32, 1)         3         \n",
      "_________________________________________________________________\n",
      "conv2d_2 (Conv2D)            (None, 30, 30, 16)        160       \n",
      "_________________________________________________________________\n",
      "max_pooling2d_2 (MaxPooling2 (None, 15, 15, 16)        0         \n",
      "_________________________________________________________________\n",
      "dropout_4 (Dropout)          (None, 15, 15, 16)        0         \n",
      "_________________________________________________________________\n",
      "flatten_2 (Flatten)          (None, 3600)              0         \n",
      "_________________________________________________________________\n",
      "dense_4 (Dense)              (None, 128)               460928    \n",
      "_________________________________________________________________\n",
      "dropout_5 (Dropout)          (None, 128)               0         \n",
      "_________________________________________________________________\n",
      "dense_5 (Dense)              (None, 1)                 129       \n",
      "=================================================================\n",
      "Total params: 461,220\n",
      "Trainable params: 461,217\n",
      "Non-trainable params: 3\n",
      "_________________________________________________________________\n"
     ]
    }
   ],
   "source": [
    "new_model = tf.keras.models.load_model('saved_model/base_line/20210210')\n",
    "new_model.summary()"
   ]
  },
  {
   "cell_type": "code",
   "execution_count": 4,
   "id": "found-preservation",
   "metadata": {},
   "outputs": [
    {
     "name": "stdout",
     "output_type": "stream",
     "text": [
      "1/1 - 0s\n"
     ]
    },
    {
     "data": {
      "text/plain": [
       "array([[28.210304]], dtype=float32)"
      ]
     },
     "execution_count": 4,
     "metadata": {},
     "output_type": "execute_result"
    }
   ],
   "source": [
    "file = '/tf/Berkeley/W210/dementia/0extra/ADReSS-IS2020-data 2/train/Full_wave_enhanced_audio/cc/S043.wav'\n",
    "new_model.predict(tf.expand_dims(get_data(file), axis = 0), verbose=2)"
   ]
  },
  {
   "cell_type": "markdown",
   "id": "selective-queue",
   "metadata": {},
   "source": [
    "# Query the server"
   ]
  },
  {
   "cell_type": "code",
   "execution_count": 5,
   "id": "environmental-nepal",
   "metadata": {},
   "outputs": [],
   "source": [
    "import json\n",
    "import requests"
   ]
  },
  {
   "cell_type": "code",
   "execution_count": 6,
   "id": "cheap-coach",
   "metadata": {},
   "outputs": [],
   "source": [
    "file = '/tf/Berkeley/W210/dementia/0extra/ADReSS-IS2020-data 2/train/Full_wave_enhanced_audio/cc/S043.wav'\n",
    "\n",
    "spectrogram = tf.expand_dims(get_data(file), axis = 0).numpy().tolist()"
   ]
  },
  {
   "cell_type": "code",
   "execution_count": 7,
   "id": "binary-buffer",
   "metadata": {},
   "outputs": [],
   "source": [
    "data = json.dumps({ \n",
    "    \"instances\": spectrogram\n",
    "})\n",
    "headers = {\"content-type\": \"application/json\"}"
   ]
  },
  {
   "cell_type": "code",
   "execution_count": 8,
   "id": "found-spray",
   "metadata": {},
   "outputs": [
    {
     "name": "stdout",
     "output_type": "stream",
     "text": [
      "28.2103043\n"
     ]
    }
   ],
   "source": [
    "response = requests.post('http://model_server:8501/v1/models/base_line:predict', data=data, headers=headers)\n",
    "result = response.json()['predictions'][0][0]\n",
    "print(result)"
   ]
  },
  {
   "cell_type": "code",
   "execution_count": 9,
   "id": "boolean-discussion",
   "metadata": {},
   "outputs": [],
   "source": [
    "# written to model_serving_request.py\n",
    "\n",
    "def model_serving_request(filepath, server_ip):\n",
    "\n",
    "    import tensorflow as tf\n",
    "    import numpy as np\n",
    "    import json\n",
    "    import requests\t\n",
    "\n",
    "    audio_binary = tf.io.read_file(filepath)\n",
    "    audio, _ = tf.audio.decode_wav(audio_binary)\n",
    "\n",
    "    waveform = tf.squeeze(audio, axis=-1)    \n",
    "    zero_padding = tf.zeros([10000000] - tf.shape(waveform), dtype=tf.float32)\n",
    "    waveform = tf.cast(waveform, tf.float32)\n",
    "    equal_length = tf.concat([waveform, zero_padding], 0)\n",
    "    \n",
    "    spectrogram = tf.signal.stft(equal_length, frame_length=255, frame_step=128)\n",
    "    spectrogram = tf.abs(spectrogram)\n",
    "    spectrogram = tf.expand_dims(spectrogram, -1)\n",
    "\n",
    "    spectrogram = tf.expand_dims(get_data(filepath), axis = 0).numpy().tolist()\n",
    "    data = json.dumps({\n",
    "        \"instances\": spectrogram\n",
    "        })\n",
    "    headers = {\"content-type\": \"application/json\"}\n",
    "    response = requests.post('http://' + server_ip + ':8501/v1/models/base_line:predict', data=data, headers=headers)\n",
    "    result = response.json()['predictions'][0][0]\n",
    "\n",
    "    return result\n"
   ]
  },
  {
   "cell_type": "code",
   "execution_count": 10,
   "id": "serial-appraisal",
   "metadata": {},
   "outputs": [
    {
     "data": {
      "text/plain": [
       "28.2103043"
      ]
     },
     "execution_count": 10,
     "metadata": {},
     "output_type": "execute_result"
    }
   ],
   "source": [
    "model_serving_request(filepath = file, server_ip = 'model_server')"
   ]
  }
 ],
 "metadata": {
  "kernelspec": {
   "display_name": "Python 3",
   "language": "python",
   "name": "python3"
  },
  "language_info": {
   "codemirror_mode": {
    "name": "ipython",
    "version": 3
   },
   "file_extension": ".py",
   "mimetype": "text/x-python",
   "name": "python",
   "nbconvert_exporter": "python",
   "pygments_lexer": "ipython3",
   "version": "3.8.5"
  }
 },
 "nbformat": 4,
 "nbformat_minor": 5
}
