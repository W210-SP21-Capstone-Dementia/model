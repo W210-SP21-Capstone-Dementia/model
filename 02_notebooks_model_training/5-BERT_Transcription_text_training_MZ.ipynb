{
 "cells": [
  {
   "cell_type": "code",
   "execution_count": 1,
   "metadata": {
    "colab": {
     "base_uri": "https://localhost:8080/"
    },
    "id": "NUtZDYs87V-R",
    "outputId": "e09f523f-85cb-45b9-8d0b-4a112aa335a7"
   },
   "outputs": [
    {
     "name": "stdout",
     "output_type": "stream",
     "text": [
      "Collecting pip\n",
      "  Downloading pip-21.0.1-py3-none-any.whl (1.5 MB)\n",
      "\u001b[K     |████████████████████████████████| 1.5 MB 19.5 MB/s eta 0:00:01\n",
      "\u001b[?25hInstalling collected packages: pip\n",
      "  Attempting uninstall: pip\n",
      "    Found existing installation: pip 20.2.4\n",
      "    Uninstalling pip-20.2.4:\n",
      "      Successfully uninstalled pip-20.2.4\n",
      "Successfully installed pip-21.0.1\n",
      "Collecting SpeechRecognition\n",
      "  Downloading SpeechRecognition-3.8.1-py2.py3-none-any.whl (32.8 MB)\n",
      "\u001b[K     |████████████████████████████████| 32.8 MB 15.5 MB/s eta 0:00:01\n",
      "\u001b[?25hInstalling collected packages: SpeechRecognition\n",
      "Successfully installed SpeechRecognition-3.8.1\n",
      "Collecting pydub\n",
      "  Downloading pydub-0.25.1-py2.py3-none-any.whl (32 kB)\n",
      "Installing collected packages: pydub\n",
      "Successfully installed pydub-0.25.1\n",
      "Collecting sklearn\n",
      "  Downloading sklearn-0.0.tar.gz (1.1 kB)\n",
      "Requirement already satisfied: scikit-learn in /usr/local/lib/python3.6/dist-packages (from sklearn) (0.22.2)\n",
      "Requirement already satisfied: joblib>=0.11 in /usr/local/lib/python3.6/dist-packages (from scikit-learn->sklearn) (0.14.1)\n",
      "Requirement already satisfied: scipy>=0.17.0 in /usr/local/lib/python3.6/dist-packages (from scikit-learn->sklearn) (1.4.1)\n",
      "Requirement already satisfied: numpy>=1.11.0 in /usr/local/lib/python3.6/dist-packages (from scikit-learn->sklearn) (1.19.2)\n",
      "Building wheels for collected packages: sklearn\n",
      "  Building wheel for sklearn (setup.py) ... \u001b[?25ldone\n",
      "\u001b[?25h  Created wheel for sklearn: filename=sklearn-0.0-py2.py3-none-any.whl size=1316 sha256=b3ef5930dae08c802e08fcc68a5b608dfde49d162632863c5726d3eca20f3c34\n",
      "  Stored in directory: /root/.cache/pip/wheels/23/9d/42/5ec745cbbb17517000a53cecc49d6a865450d1f5cb16dc8a9c\n",
      "Successfully built sklearn\n",
      "Installing collected packages: sklearn\n",
      "Successfully installed sklearn-0.0\n",
      "Collecting pylangacq\n",
      "  Downloading pylangacq-0.13.1-py3-none-any.whl (66 kB)\n",
      "\u001b[K     |████████████████████████████████| 66 kB 6.9 MB/s  eta 0:00:01\n",
      "\u001b[?25hCollecting dataclasses\n",
      "  Downloading dataclasses-0.8-py3-none-any.whl (19 kB)\n",
      "Requirement already satisfied: python-dateutil<=3.0.0,>=2.0.0 in /usr/local/lib/python3.6/dist-packages (from pylangacq) (2.8.1)\n",
      "Requirement already satisfied: requests<=3.0.0,>=2.18.0 in /usr/local/lib/python3.6/dist-packages (from pylangacq) (2.23.0)\n",
      "Requirement already satisfied: six>=1.5 in /usr/local/lib/python3.6/dist-packages (from python-dateutil<=3.0.0,>=2.0.0->pylangacq) (1.15.0)\n",
      "Requirement already satisfied: chardet<4,>=3.0.2 in /usr/local/lib/python3.6/dist-packages (from requests<=3.0.0,>=2.18.0->pylangacq) (3.0.4)\n",
      "Requirement already satisfied: urllib3!=1.25.0,!=1.25.1,<1.26,>=1.21.1 in /usr/local/lib/python3.6/dist-packages (from requests<=3.0.0,>=2.18.0->pylangacq) (1.25.8)\n",
      "Requirement already satisfied: certifi>=2017.4.17 in /usr/local/lib/python3.6/dist-packages (from requests<=3.0.0,>=2.18.0->pylangacq) (2019.11.28)\n",
      "Requirement already satisfied: idna<3,>=2.5 in /usr/local/lib/python3.6/dist-packages (from requests<=3.0.0,>=2.18.0->pylangacq) (2.9)\n",
      "Installing collected packages: dataclasses, pylangacq\n",
      "Successfully installed dataclasses-0.8 pylangacq-0.13.1\n"
     ]
    }
   ],
   "source": [
    "! python3 -m pip install --upgrade pip\n",
    "! python3 -m pip install --upgrade SpeechRecognition\n",
    "! python3 -m pip install --upgrade pydub\n",
    "! python3 -m pip install --upgrade sklearn\n",
    "! python3 -m pip install --upgrade pylangacq"
   ]
  },
  {
   "cell_type": "code",
   "execution_count": 2,
   "metadata": {
    "id": "7AIUCb9L7V-a"
   },
   "outputs": [],
   "source": [
    "import IPython.display as ipd\n",
    "import librosa\n",
    "import librosa.display\n",
    "import kapre\n",
    "import matplotlib.pyplot as plt\n",
    "import numpy as np\n",
    "import pathlib\n",
    "import io\n",
    "import os\n",
    "import pandas as pd\n",
    "import random\n",
    "import re\n",
    "import shutil\n",
    "import speech_recognition as sr\n",
    "import tensorflow as tf\n",
    "from os import listdir\n",
    "from os.path import isfile, join\n",
    "from os import path\n",
    "from plotnine import *\n",
    "from pydub import AudioSegment\n",
    "from sklearn import tree\n",
    "from sklearn.ensemble import RandomForestClassifier, StackingClassifier\n",
    "from sklearn.feature_extraction.text import TfidfVectorizer\n",
    "from sklearn.feature_extraction.text import CountVectorizer\n",
    "from sklearn.linear_model import LogisticRegression\n",
    "from sklearn.metrics import classification_report, accuracy_score, confusion_matrix, plot_confusion_matrix\n",
    "from sklearn.model_selection import train_test_split, cross_val_score, GridSearchCV\n",
    "from sklearn.neighbors import KNeighborsClassifier\n",
    "from sklearn.neural_network import MLPClassifier\n",
    "from sklearn.svm import SVC\n",
    "from pydub.silence import split_on_silence \n",
    "\n",
    "# Cloud storage\n",
    "# from google.cloud import storage\n",
    "\n",
    "# .cha file reader\n",
    "import pylangacq"
   ]
  },
  {
   "cell_type": "code",
   "execution_count": null,
   "metadata": {
    "colab": {
     "base_uri": "https://localhost:8080/"
    },
    "id": "VIOZu3Yp7yoV",
    "outputId": "81be9f86-1d70-4db9-d03a-7f7bab774c98"
   },
   "outputs": [],
   "source": [
    "from google.colab import drive\n",
    "drive.mount('/content/drive')"
   ]
  },
  {
   "cell_type": "markdown",
   "metadata": {
    "id": "S7pDqEm27V-a"
   },
   "source": [
    "# Transcribe audio data to txt data"
   ]
  },
  {
   "cell_type": "code",
   "execution_count": null,
   "metadata": {
    "id": "AChR_mX4RXZr"
   },
   "outputs": [],
   "source": [
    "# !ls '/content/drive/My Drive/Berkeley/W210/Capstone/ADReSS-IS2020-data/train/Full_wave_enhanced_audio/cd/'"
   ]
  },
  {
   "cell_type": "code",
   "execution_count": null,
   "metadata": {
    "id": "bMhfoxRMTSNn"
   },
   "outputs": [],
   "source": [
    "# initialize the speech recognizer\n",
    "r = sr.Recognizer()\n",
    "\n",
    "# a function that splits the audio file into chunks \n",
    "# and applies speech recognition \n",
    "def silence_based_conversion(path, wav_file): \n",
    "    text_df = pd.DataFrame()\n",
    "  \n",
    "    # open the audio file stored in \n",
    "    # the local system as a wav file. \n",
    "    song = AudioSegment.from_wav(path + wav_file) \n",
    "    print(song)\n",
    "  \n",
    "    # open a file where we will concatenate   \n",
    "    # and store the recognized text \n",
    "    text_file = wav_file.partition('.')[0] + \".txt\"\n",
    "    text_file_dir = path + \"output_text/\" \n",
    "    if not os.path.exists(text_file_dir):\n",
    "        os.makedirs(text_file_dir)    \n",
    "    text_file_path = text_file_dir + text_file\n",
    "    fh = open(text_file_path, \"w+\") \n",
    "          \n",
    "\n",
    "    dBFS = song.dBFS\n",
    "    print('dBFS: ' + str(dBFS))\n",
    "    # chunks = split_on_silence(song, \n",
    "    #     min_silence_len = 500,\n",
    "    #     silence_thresh = dBFS-16,\n",
    "    #     keep_silence = 250 \n",
    "    # )\n",
    "\n",
    "    # split track where silence is 0.5 seconds  \n",
    "    # or more and get chunks \n",
    "    chunks = split_on_silence(song, \n",
    "        # must be silent for at least 0.5 seconds \n",
    "        # or 500 ms. adjust this value based on user \n",
    "        # requirement. if the speaker stays silent for  \n",
    "        # longer, increase this value. else, decrease it. \n",
    "        min_silence_len = 250, \n",
    "  \n",
    "        # consider it silent if quieter than -16 dBFS \n",
    "        # adjust this per requirement \n",
    "        silence_thresh = dBFS - 16\n",
    "        # keep_silence = 250\n",
    "    ) \n",
    "    # setting minimum length of each chunk to 25 seconds\n",
    "    target_length = 20 * 1000 \n",
    "    output_chunks = [chunks[0]]\n",
    "    for chunk in chunks[1:]:\n",
    "      print('Length of chunk: ' + str(len(output_chunks[-1])) )\n",
    "      if len(output_chunks[-1]) < target_length:\n",
    "        output_chunks[-1] += chunk\n",
    "      else:\n",
    "        # if the last output chunk is longer than the target length,\n",
    "        # we can start a new one\n",
    "        output_chunks.append(chunk)    \n",
    "    # print(chunks)\n",
    "  \n",
    "    # create a directory to store the audio chunks. \n",
    "    try: \n",
    "        os.mkdir(path + 'audio_chunks') \n",
    "    except(FileExistsError): \n",
    "        pass\n",
    "  \n",
    "    # move into the directory to \n",
    "    # store the audio files. \n",
    "    os.chdir(path +'audio_chunks') \n",
    "  \n",
    "    i = 0\n",
    "    # process each chunk \n",
    "    for chunk in output_chunks: \n",
    "              \n",
    "        # Create 0.5 seconds silence chunk \n",
    "        chunk_silent = AudioSegment.silent(duration = 10) \n",
    "  \n",
    "        # add 0.5 sec silence to beginning and  \n",
    "        # end of audio chunk. This is done so that \n",
    "        # it doesn't seem abruptly sliced. \n",
    "        audio_chunk = chunk_silent + chunk + chunk_silent \n",
    "  \n",
    "        # export audio chunk and save it in  \n",
    "        # the current directory. \n",
    "        text_file_id = text_file.partition('.')[0]\n",
    "        chunk_file_name = text_file_id + \"_\" + \"chunk\" + str(i) + \".wav\"\n",
    "        print(\"saving \" + chunk_file_name) \n",
    "        # specify the bitrate to be 192 k \n",
    "        audio_chunk.export(\"./\" + chunk_file_name, bitrate ='192k', format =\"wav\") \n",
    "  \n",
    "        # the name of the newly created chunk \n",
    "        filename = chunk_file_name\n",
    "  \n",
    "        print(\"Processing chunk file: \" + filename) \n",
    "  \n",
    "        # get the name of the newly created chunk \n",
    "        # in the AUDIO_FILE variable for later use. \n",
    "        file = filename \n",
    "  \n",
    "        # create a speech recognition object \n",
    "        r = sr.Recognizer() \n",
    "  \n",
    "        # recognize the chunk \n",
    "        with sr.AudioFile(file) as source: \n",
    "            # remove this if it is not working \n",
    "            # correctly. \n",
    "            #r.adjust_for_ambient_noise(source) \n",
    "            audio_listened = r.record(source) \n",
    "  \n",
    "        try: \n",
    "            # try converting it to text \n",
    "            rec = r.recognize_google(audio_listened) \n",
    "            # write the output to the file. \n",
    "            fh.write(rec+\". \") \n",
    "            text_df = text_df.append({'ID': text_file_id, 'Text': rec}, ignore_index = True)\n",
    "  \n",
    "        # catch any errors. \n",
    "        except sr.UnknownValueError: \n",
    "            print(\"Could not understand audio\") \n",
    "  \n",
    "        except sr.RequestError as e: \n",
    "            print(\"Could not request results. check your internet connection\") \n",
    "  \n",
    "        i += 1\n",
    "    return text_df\n",
    "\n",
    "# silence_based_conversion(audio_path_cc, 'S001.wav')        \n",
    "# text_df = silence_based_conversion(audio_path_cd, 'S079.wav')        \n",
    "# print(text_df)\n",
    "# silence_based_conversion(audio_path_cc + 'spkr0.wav')        "
   ]
  },
  {
   "cell_type": "markdown",
   "metadata": {
    "id": "Oa5fretXfdQw"
   },
   "source": [
    "## Read csv data file with ID, TEXT and MMSE scores to be used for training and validation"
   ]
  },
  {
   "cell_type": "code",
   "execution_count": null,
   "metadata": {},
   "outputs": [],
   "source": [
    "!ls /tf/data/"
   ]
  },
  {
   "cell_type": "code",
   "execution_count": 3,
   "metadata": {
    "colab": {
     "base_uri": "https://localhost:8080/",
     "height": 204
    },
    "id": "3nVhlY2HCczG",
    "outputId": "fb3b03ee-d478-4316-853e-558784999766"
   },
   "outputs": [
    {
     "data": {
      "text/html": [
       "<div>\n",
       "<style scoped>\n",
       "    .dataframe tbody tr th:only-of-type {\n",
       "        vertical-align: middle;\n",
       "    }\n",
       "\n",
       "    .dataframe tbody tr th {\n",
       "        vertical-align: top;\n",
       "    }\n",
       "\n",
       "    .dataframe thead th {\n",
       "        text-align: right;\n",
       "    }\n",
       "</style>\n",
       "<table border=\"1\" class=\"dataframe\">\n",
       "  <thead>\n",
       "    <tr style=\"text-align: right;\">\n",
       "      <th></th>\n",
       "      <th>Unnamed: 0</th>\n",
       "      <th>ID</th>\n",
       "      <th>Age</th>\n",
       "      <th>Gender</th>\n",
       "      <th>TEXT</th>\n",
       "      <th>MMSE</th>\n",
       "      <th>Group</th>\n",
       "    </tr>\n",
       "  </thead>\n",
       "  <tbody>\n",
       "    <tr>\n",
       "      <th>0</th>\n",
       "      <td>0</td>\n",
       "      <td>S001</td>\n",
       "      <td>74</td>\n",
       "      <td>male</td>\n",
       "      <td>well there's a mother standing there washing ...</td>\n",
       "      <td>30</td>\n",
       "      <td>cc</td>\n",
       "    </tr>\n",
       "    <tr>\n",
       "      <th>1</th>\n",
       "      <td>1</td>\n",
       "      <td>S001</td>\n",
       "      <td>74</td>\n",
       "      <td>male</td>\n",
       "      <td>he's standing up there in the cupboard taking...</td>\n",
       "      <td>30</td>\n",
       "      <td>cc</td>\n",
       "    </tr>\n",
       "    <tr>\n",
       "      <th>2</th>\n",
       "      <td>2</td>\n",
       "      <td>S001</td>\n",
       "      <td>74</td>\n",
       "      <td>male</td>\n",
       "      <td>and outside the window there's a curved walk ...</td>\n",
       "      <td>30</td>\n",
       "      <td>cc</td>\n",
       "    </tr>\n",
       "    <tr>\n",
       "      <th>3</th>\n",
       "      <td>3</td>\n",
       "      <td>S001</td>\n",
       "      <td>74</td>\n",
       "      <td>male</td>\n",
       "      <td>and the window's open . the kids are somewher...</td>\n",
       "      <td>30</td>\n",
       "      <td>cc</td>\n",
       "    </tr>\n",
       "    <tr>\n",
       "      <th>4</th>\n",
       "      <td>4</td>\n",
       "      <td>S001</td>\n",
       "      <td>74</td>\n",
       "      <td>male</td>\n",
       "      <td>and there are two cups and a saucer on the si...</td>\n",
       "      <td>30</td>\n",
       "      <td>cc</td>\n",
       "    </tr>\n",
       "  </tbody>\n",
       "</table>\n",
       "</div>"
      ],
      "text/plain": [
       "   Unnamed: 0    ID  Age  Gender  \\\n",
       "0           0  S001   74   male    \n",
       "1           1  S001   74   male    \n",
       "2           2  S001   74   male    \n",
       "3           3  S001   74   male    \n",
       "4           4  S001   74   male    \n",
       "\n",
       "                                                TEXT  MMSE Group  \n",
       "0   well there's a mother standing there washing ...    30    cc  \n",
       "1   he's standing up there in the cupboard taking...    30    cc  \n",
       "2   and outside the window there's a curved walk ...    30    cc  \n",
       "3   and the window's open . the kids are somewher...    30    cc  \n",
       "4   and there are two cups and a saucer on the si...    30    cc  "
      ]
     },
     "execution_count": 3,
     "metadata": {},
     "output_type": "execute_result"
    }
   ],
   "source": [
    "data_path = '/tf'\n",
    "\n",
    "transcription_combination_txt_file_path = data_path + \"/data/\" + \"transcription_combination_id_txt_mmse.csv\"\n",
    "filtered_merged_data = pd.read_csv(transcription_combination_txt_file_path)\n",
    "filtered_merged_data.head()"
   ]
  },
  {
   "cell_type": "markdown",
   "metadata": {
    "id": "edtMpOLRe4Tw"
   },
   "source": [
    "# BERT Transfer Learning"
   ]
  },
  {
   "cell_type": "code",
   "execution_count": 4,
   "metadata": {},
   "outputs": [],
   "source": [
    "gpus = tf.config.list_physical_devices('GPU')"
   ]
  },
  {
   "cell_type": "code",
   "execution_count": 5,
   "metadata": {},
   "outputs": [
    {
     "data": {
      "text/plain": [
       "[PhysicalDevice(name='/physical_device:GPU:0', device_type='GPU')]"
      ]
     },
     "execution_count": 5,
     "metadata": {},
     "output_type": "execute_result"
    }
   ],
   "source": [
    "gpus"
   ]
  },
  {
   "cell_type": "code",
   "execution_count": 6,
   "metadata": {},
   "outputs": [],
   "source": [
    "if len(gpus)>0:\n",
    "\n",
    "    from tensorflow.compat.v1 import ConfigProto\n",
    "    from tensorflow.compat.v1 import InteractiveSession\n",
    "\n",
    "    config = ConfigProto()\n",
    "    config.gpu_options.allow_growth = True\n",
    "    session = InteractiveSession(config=config)"
   ]
  },
  {
   "cell_type": "code",
   "execution_count": 7,
   "metadata": {
    "colab": {
     "base_uri": "https://localhost:8080/"
    },
    "id": "hmbnSP7SRlQM",
    "outputId": "41ffc9b4-cecc-4440-fae6-91c5b6472a6e"
   },
   "outputs": [
    {
     "name": "stdout",
     "output_type": "stream",
     "text": [
      "Collecting transformers==3.0.2\n",
      "  Downloading transformers-3.0.2-py3-none-any.whl (769 kB)\n",
      "\u001b[K     |████████████████████████████████| 769 kB 19.6 MB/s eta 0:00:01\n",
      "\u001b[?25hCollecting regex!=2019.12.17\n",
      "  Downloading regex-2021.4.4-cp36-cp36m-manylinux2014_x86_64.whl (722 kB)\n",
      "\u001b[K     |████████████████████████████████| 722 kB 56.7 MB/s eta 0:00:01\n",
      "\u001b[?25hRequirement already satisfied: packaging in /usr/local/lib/python3.6/dist-packages (from transformers==3.0.2) (20.8)\n",
      "Requirement already satisfied: numpy in /usr/local/lib/python3.6/dist-packages (from transformers==3.0.2) (1.19.2)\n",
      "Collecting filelock\n",
      "  Downloading filelock-3.0.12-py3-none-any.whl (7.6 kB)\n",
      "Requirement already satisfied: requests in /usr/local/lib/python3.6/dist-packages (from transformers==3.0.2) (2.23.0)\n",
      "Collecting sacremoses\n",
      "  Downloading sacremoses-0.0.44.tar.gz (862 kB)\n",
      "\u001b[K     |████████████████████████████████| 862 kB 59.9 MB/s eta 0:00:01\n",
      "\u001b[?25hRequirement already satisfied: dataclasses in /usr/local/lib/python3.6/dist-packages (from transformers==3.0.2) (0.8)\n",
      "Requirement already satisfied: tqdm>=4.27 in /usr/local/lib/python3.6/dist-packages (from transformers==3.0.2) (4.43.0)\n",
      "Collecting sentencepiece!=0.1.92\n",
      "  Downloading sentencepiece-0.1.95-cp36-cp36m-manylinux2014_x86_64.whl (1.2 MB)\n",
      "\u001b[K     |████████████████████████████████| 1.2 MB 57.9 MB/s eta 0:00:01\n",
      "\u001b[?25hCollecting tokenizers==0.8.1.rc1\n",
      "  Downloading tokenizers-0.8.1rc1-cp36-cp36m-manylinux1_x86_64.whl (3.0 MB)\n",
      "\u001b[K     |████████████████████████████████| 3.0 MB 42.6 MB/s eta 0:00:01\n",
      "\u001b[?25hRequirement already satisfied: pyparsing>=2.0.2 in /usr/local/lib/python3.6/dist-packages (from packaging->transformers==3.0.2) (2.4.6)\n",
      "Requirement already satisfied: urllib3!=1.25.0,!=1.25.1,<1.26,>=1.21.1 in /usr/local/lib/python3.6/dist-packages (from requests->transformers==3.0.2) (1.25.8)\n",
      "Requirement already satisfied: idna<3,>=2.5 in /usr/local/lib/python3.6/dist-packages (from requests->transformers==3.0.2) (2.9)\n",
      "Requirement already satisfied: chardet<4,>=3.0.2 in /usr/local/lib/python3.6/dist-packages (from requests->transformers==3.0.2) (3.0.4)\n",
      "Requirement already satisfied: certifi>=2017.4.17 in /usr/local/lib/python3.6/dist-packages (from requests->transformers==3.0.2) (2019.11.28)\n",
      "Requirement already satisfied: six in /usr/local/lib/python3.6/dist-packages (from sacremoses->transformers==3.0.2) (1.15.0)\n",
      "Requirement already satisfied: click in /usr/local/lib/python3.6/dist-packages (from sacremoses->transformers==3.0.2) (7.1.2)\n",
      "Requirement already satisfied: joblib in /usr/local/lib/python3.6/dist-packages (from sacremoses->transformers==3.0.2) (0.14.1)\n",
      "Building wheels for collected packages: sacremoses\n",
      "  Building wheel for sacremoses (setup.py) ... \u001b[?25ldone\n",
      "\u001b[?25h  Created wheel for sacremoses: filename=sacremoses-0.0.44-py3-none-any.whl size=886084 sha256=b49ae608acb8f776ecad724dcb25e722136e128f47f249d0b504f771e500f0a8\n",
      "  Stored in directory: /root/.cache/pip/wheels/d4/6d/ad/81106f259084ee9e99156f754f8a4957e4c2cb9c1ccf866f8a\n",
      "Successfully built sacremoses\n",
      "Installing collected packages: regex, tokenizers, sentencepiece, sacremoses, filelock, transformers\n",
      "Successfully installed filelock-3.0.12 regex-2021.4.4 sacremoses-0.0.44 sentencepiece-0.1.95 tokenizers-0.8.1rc1 transformers-3.0.2\n"
     ]
    }
   ],
   "source": [
    "!pip install transformers==3.0.2"
   ]
  },
  {
   "cell_type": "code",
   "execution_count": 8,
   "metadata": {
    "colab": {
     "base_uri": "https://localhost:8080/",
     "height": 66,
     "referenced_widgets": [
      "32b3685608794162b3d664d0bb2f0c4b",
      "22bc9c121ffb48ee94a7a0b79a2a0608",
      "e92bc291fa9c49e0b15d2197c66a09fb",
      "dae38468598c45e9b3009fdfdf0fc9a7",
      "b6c8487cf9604eb2a4c1870da9f4aff4",
      "65dab205820a4a03907a2515516f4215",
      "351e376422ba46d2bd4867c8cb0b6eea",
      "7809b893f2084653b0df083b23f146ff"
     ]
    },
    "id": "7DeHcSbJRbs6",
    "outputId": "2e2a90a7-826c-4eb7-bee7-f06501bd129f"
   },
   "outputs": [
    {
     "data": {
      "application/vnd.jupyter.widget-view+json": {
       "model_id": "bbae09ed97e0408dafd2783aa986aff1",
       "version_major": 2,
       "version_minor": 0
      },
      "text/plain": [
       "HBox(children=(FloatProgress(value=0.0, description='Downloading', max=231508.0, style=ProgressStyle(descripti…"
      ]
     },
     "metadata": {},
     "output_type": "display_data"
    },
    {
     "name": "stdout",
     "output_type": "stream",
     "text": [
      "\n"
     ]
    }
   ],
   "source": [
    "from transformers import BertTokenizer\n",
    "bert_name = 'bert-base-uncased'\n",
    "tokenizer = BertTokenizer.from_pretrained(bert_name,\n",
    "                                          add_special_tokens=True,\n",
    "                                          do_lower_case=True,\n",
    "                                          max_length=256,\n",
    "                                          pad_to_max_length=True)\n"
   ]
  },
  {
   "cell_type": "code",
   "execution_count": 9,
   "metadata": {
    "id": "6uPFIMrsWYU5"
   },
   "outputs": [],
   "source": [
    "def bert_encoder(input_text):\n",
    "    # txt = input_text.numpy().decode('utf-8')\n",
    "    txt = input_text\n",
    "    encoded = tokenizer.encode_plus(txt, add_special_tokens=True, \n",
    "                                    max_length=256, \n",
    "                                    pad_to_max_length=True, \n",
    "                                    return_attention_mask=True, \n",
    "                                    return_token_type_ids=True,\n",
    "                                    truncation=True)\n",
    "    return encoded['input_ids'], encoded['token_type_ids'], \\\n",
    "           encoded['attention_mask']"
   ]
  },
  {
   "cell_type": "code",
   "execution_count": 10,
   "metadata": {},
   "outputs": [
    {
     "data": {
      "text/html": [
       "<div>\n",
       "<style scoped>\n",
       "    .dataframe tbody tr th:only-of-type {\n",
       "        vertical-align: middle;\n",
       "    }\n",
       "\n",
       "    .dataframe tbody tr th {\n",
       "        vertical-align: top;\n",
       "    }\n",
       "\n",
       "    .dataframe thead th {\n",
       "        text-align: right;\n",
       "    }\n",
       "</style>\n",
       "<table border=\"1\" class=\"dataframe\">\n",
       "  <thead>\n",
       "    <tr style=\"text-align: right;\">\n",
       "      <th></th>\n",
       "      <th>Unnamed: 0</th>\n",
       "      <th>index</th>\n",
       "      <th>ID</th>\n",
       "      <th>Age</th>\n",
       "      <th>Gender</th>\n",
       "      <th>MMSE</th>\n",
       "      <th>Group</th>\n",
       "      <th>split</th>\n",
       "      <th>predict</th>\n",
       "      <th>predict_group</th>\n",
       "    </tr>\n",
       "  </thead>\n",
       "  <tbody>\n",
       "    <tr>\n",
       "      <th>0</th>\n",
       "      <td>0</td>\n",
       "      <td>0</td>\n",
       "      <td>S001</td>\n",
       "      <td>74</td>\n",
       "      <td>male</td>\n",
       "      <td>30</td>\n",
       "      <td>cc</td>\n",
       "      <td>train</td>\n",
       "      <td>26.871142</td>\n",
       "      <td>cc</td>\n",
       "    </tr>\n",
       "    <tr>\n",
       "      <th>1</th>\n",
       "      <td>1</td>\n",
       "      <td>1</td>\n",
       "      <td>S002</td>\n",
       "      <td>62</td>\n",
       "      <td>female</td>\n",
       "      <td>30</td>\n",
       "      <td>cc</td>\n",
       "      <td>train</td>\n",
       "      <td>26.556385</td>\n",
       "      <td>cc</td>\n",
       "    </tr>\n",
       "    <tr>\n",
       "      <th>2</th>\n",
       "      <td>2</td>\n",
       "      <td>2</td>\n",
       "      <td>S003</td>\n",
       "      <td>69</td>\n",
       "      <td>female</td>\n",
       "      <td>29</td>\n",
       "      <td>cc</td>\n",
       "      <td>train</td>\n",
       "      <td>25.519604</td>\n",
       "      <td>cc</td>\n",
       "    </tr>\n",
       "    <tr>\n",
       "      <th>3</th>\n",
       "      <td>3</td>\n",
       "      <td>3</td>\n",
       "      <td>S004</td>\n",
       "      <td>71</td>\n",
       "      <td>female</td>\n",
       "      <td>30</td>\n",
       "      <td>cc</td>\n",
       "      <td>train</td>\n",
       "      <td>27.771522</td>\n",
       "      <td>cc</td>\n",
       "    </tr>\n",
       "    <tr>\n",
       "      <th>4</th>\n",
       "      <td>4</td>\n",
       "      <td>4</td>\n",
       "      <td>S005</td>\n",
       "      <td>74</td>\n",
       "      <td>female</td>\n",
       "      <td>30</td>\n",
       "      <td>cc</td>\n",
       "      <td>train</td>\n",
       "      <td>26.533502</td>\n",
       "      <td>cc</td>\n",
       "    </tr>\n",
       "  </tbody>\n",
       "</table>\n",
       "</div>"
      ],
      "text/plain": [
       "   Unnamed: 0  index    ID  Age    Gender  MMSE Group  split    predict  \\\n",
       "0           0      0  S001   74     male     30    cc  train  26.871142   \n",
       "1           1      1  S002   62   female     30    cc  train  26.556385   \n",
       "2           2      2  S003   69   female     29    cc  train  25.519604   \n",
       "3           3      3  S004   71   female     30    cc  train  27.771522   \n",
       "4           4      4  S005   74   female     30    cc  train  26.533502   \n",
       "\n",
       "  predict_group  \n",
       "0            cc  \n",
       "1            cc  \n",
       "2            cc  \n",
       "3            cc  \n",
       "4            cc  "
      ]
     },
     "execution_count": 10,
     "metadata": {},
     "output_type": "execute_result"
    }
   ],
   "source": [
    "meta_smile = pd.read_csv('meta_eGeMAPSv01b.csv')\n",
    "meta_smile['ID'] = [x[0:4] for x in meta_smile['ID']]\n",
    "meta_smile.head()"
   ]
  },
  {
   "cell_type": "code",
   "execution_count": 11,
   "metadata": {},
   "outputs": [],
   "source": [
    "split = pd.merge(filtered_merged_data, meta_smile[['ID', 'split']], on = ['ID'], how = 'left') "
   ]
  },
  {
   "cell_type": "code",
   "execution_count": 12,
   "metadata": {},
   "outputs": [
    {
     "data": {
      "text/html": [
       "<div>\n",
       "<style scoped>\n",
       "    .dataframe tbody tr th:only-of-type {\n",
       "        vertical-align: middle;\n",
       "    }\n",
       "\n",
       "    .dataframe tbody tr th {\n",
       "        vertical-align: top;\n",
       "    }\n",
       "\n",
       "    .dataframe thead th {\n",
       "        text-align: right;\n",
       "    }\n",
       "</style>\n",
       "<table border=\"1\" class=\"dataframe\">\n",
       "  <thead>\n",
       "    <tr style=\"text-align: right;\">\n",
       "      <th></th>\n",
       "      <th>Unnamed: 0</th>\n",
       "      <th>ID</th>\n",
       "      <th>Age</th>\n",
       "      <th>Gender</th>\n",
       "      <th>TEXT</th>\n",
       "      <th>MMSE</th>\n",
       "      <th>Group</th>\n",
       "      <th>split</th>\n",
       "    </tr>\n",
       "  </thead>\n",
       "  <tbody>\n",
       "    <tr>\n",
       "      <th>0</th>\n",
       "      <td>0</td>\n",
       "      <td>S001</td>\n",
       "      <td>74</td>\n",
       "      <td>male</td>\n",
       "      <td>well there's a mother standing there washing ...</td>\n",
       "      <td>30</td>\n",
       "      <td>cc</td>\n",
       "      <td>train</td>\n",
       "    </tr>\n",
       "    <tr>\n",
       "      <th>1</th>\n",
       "      <td>1</td>\n",
       "      <td>S001</td>\n",
       "      <td>74</td>\n",
       "      <td>male</td>\n",
       "      <td>he's standing up there in the cupboard taking...</td>\n",
       "      <td>30</td>\n",
       "      <td>cc</td>\n",
       "      <td>train</td>\n",
       "    </tr>\n",
       "    <tr>\n",
       "      <th>2</th>\n",
       "      <td>2</td>\n",
       "      <td>S001</td>\n",
       "      <td>74</td>\n",
       "      <td>male</td>\n",
       "      <td>and outside the window there's a curved walk ...</td>\n",
       "      <td>30</td>\n",
       "      <td>cc</td>\n",
       "      <td>train</td>\n",
       "    </tr>\n",
       "    <tr>\n",
       "      <th>3</th>\n",
       "      <td>3</td>\n",
       "      <td>S001</td>\n",
       "      <td>74</td>\n",
       "      <td>male</td>\n",
       "      <td>and the window's open . the kids are somewher...</td>\n",
       "      <td>30</td>\n",
       "      <td>cc</td>\n",
       "      <td>train</td>\n",
       "    </tr>\n",
       "    <tr>\n",
       "      <th>4</th>\n",
       "      <td>4</td>\n",
       "      <td>S001</td>\n",
       "      <td>74</td>\n",
       "      <td>male</td>\n",
       "      <td>and there are two cups and a saucer on the si...</td>\n",
       "      <td>30</td>\n",
       "      <td>cc</td>\n",
       "      <td>train</td>\n",
       "    </tr>\n",
       "  </tbody>\n",
       "</table>\n",
       "</div>"
      ],
      "text/plain": [
       "   Unnamed: 0    ID  Age  Gender  \\\n",
       "0           0  S001   74   male    \n",
       "1           1  S001   74   male    \n",
       "2           2  S001   74   male    \n",
       "3           3  S001   74   male    \n",
       "4           4  S001   74   male    \n",
       "\n",
       "                                                TEXT  MMSE Group  split  \n",
       "0   well there's a mother standing there washing ...    30    cc  train  \n",
       "1   he's standing up there in the cupboard taking...    30    cc  train  \n",
       "2   and outside the window there's a curved walk ...    30    cc  train  \n",
       "3   and the window's open . the kids are somewher...    30    cc  train  \n",
       "4   and there are two cups and a saucer on the si...    30    cc  train  "
      ]
     },
     "execution_count": 12,
     "metadata": {},
     "output_type": "execute_result"
    }
   ],
   "source": [
    "split.head()"
   ]
  },
  {
   "cell_type": "code",
   "execution_count": 13,
   "metadata": {
    "id": "MfJ9Ocb8WnRV"
   },
   "outputs": [],
   "source": [
    "bert_train = [bert_encoder(r) for r in filtered_merged_data[\"TEXT\"]]\n",
    "bert_lbl = filtered_merged_data[\"MMSE\"]\n",
    "bert_train = np.array(bert_train)\n",
    "# bert_lbl = tf.keras.utils.to_categorical(bert_lbl)"
   ]
  },
  {
   "cell_type": "code",
   "execution_count": 14,
   "metadata": {},
   "outputs": [],
   "source": [
    "x_train = bert_train[split['split'] == 'train']\n",
    "x_test = bert_train[split['split'] == 'test']\n",
    "x_val = bert_train[split['split'] == 'val']\n",
    "\n",
    "y_train = bert_lbl[split['split'] == 'train']\n",
    "y_test = bert_lbl[split['split'] == 'test']\n",
    "y_val = bert_lbl[split['split'] == 'val']"
   ]
  },
  {
   "cell_type": "code",
   "execution_count": 15,
   "metadata": {},
   "outputs": [
    {
     "name": "stdout",
     "output_type": "stream",
     "text": [
      "(966, 3, 256) (966,)\n",
      "(219, 3, 256) (219,)\n",
      "(215, 3, 256) (215,)\n"
     ]
    }
   ],
   "source": [
    "print(x_train.shape, y_train.shape)\n",
    "print(x_val.shape, y_val.shape)\n",
    "print(x_test.shape, y_test.shape)"
   ]
  },
  {
   "cell_type": "code",
   "execution_count": 16,
   "metadata": {
    "id": "8h4OVqrSfhM5"
   },
   "outputs": [],
   "source": [
    "tr_reviews, tr_segments, tr_masks = np.split(x_train, 3, axis=1)\n",
    "val_reviews, val_segments, val_masks = np.split(x_val, 3, axis=1)\n",
    "test_reviews, test_segments, test_masks = np.split(x_test, 3, axis=1)\n",
    "\n",
    "tr_reviews = tr_reviews.squeeze()\n",
    "tr_segments = tr_segments.squeeze()\n",
    "tr_masks = tr_masks.squeeze()\n",
    "val_reviews = val_reviews.squeeze()\n",
    "val_segments = val_segments.squeeze()\n",
    "val_masks = val_masks.squeeze()\n",
    "test_reviews = test_reviews.squeeze()\n",
    "test_segments = test_segments.squeeze()\n",
    "test_masks = test_masks.squeeze()"
   ]
  },
  {
   "cell_type": "code",
   "execution_count": 17,
   "metadata": {
    "id": "FYjUyn-sfx3t"
   },
   "outputs": [],
   "source": [
    "def example_to_features(input_ids,attention_masks,token_type_ids,y):\n",
    "  return {\"input_ids\": input_ids,\n",
    "          \"attention_mask\": attention_masks,\n",
    "          \"token_type_ids\": token_type_ids},y\n"
   ]
  },
  {
   "cell_type": "code",
   "execution_count": 18,
   "metadata": {
    "id": "FPLTwTqEr_gq"
   },
   "outputs": [],
   "source": [
    "train_ds = tf.data.Dataset.from_tensor_slices((tr_reviews, tr_masks, tr_segments, y_train)).\\\n",
    "            map(example_to_features).shuffle(100).batch(64)\n",
    "valid_ds = tf.data.Dataset.from_tensor_slices((val_reviews,val_masks, val_segments, y_val)).\\\n",
    "            map(example_to_features).shuffle(100).batch(64)\n",
    "test_ds = tf.data.Dataset.from_tensor_slices((test_reviews,test_masks, test_segments, y_test)).\\\n",
    "            map(example_to_features).shuffle(100).batch(64)"
   ]
  },
  {
   "cell_type": "code",
   "execution_count": 19,
   "metadata": {
    "colab": {
     "base_uri": "https://localhost:8080/"
    },
    "id": "j8pLdOIfNvr0",
    "outputId": "d2bc0034-5ffc-4c7c-a29f-4929874d5642"
   },
   "outputs": [
    {
     "data": {
      "text/plain": [
       "<BatchDataset shapes: ({input_ids: (None, 256), attention_mask: (None, 256), token_type_ids: (None, 256)}, (None,)), types: ({input_ids: tf.int64, attention_mask: tf.int64, token_type_ids: tf.int64}, tf.int64)>"
      ]
     },
     "execution_count": 19,
     "metadata": {},
     "output_type": "execute_result"
    }
   ],
   "source": [
    "train_ds"
   ]
  },
  {
   "cell_type": "code",
   "execution_count": 107,
   "metadata": {
    "id": "5ibPEuRKf5Jx"
   },
   "outputs": [],
   "source": [
    "# from transformers import TFBertForSequenceClassification\n",
    "# bert_model = TFBertForSequenceClassification.from_pretrained(bert_name, num_labels=31)"
   ]
  },
  {
   "cell_type": "code",
   "execution_count": 97,
   "metadata": {
    "id": "-6I-G_UIf9gJ"
   },
   "outputs": [],
   "source": [
    "# # optimizer = tf.keras.optimizers.Adam(learning_rate=2e-5)\n",
    "\n",
    "# # loss = tf.keras.losses.SparseCategoricalCrossentropy(from_logits=True, name=\"sparse_categorical_crossentropy\")\n",
    "# # loss = tf.keras.losses.CategoricalCrossentropy(from_logits=True)\n",
    "# # metrics = tf.metrics.CategoricalCrossentropy()\n",
    "# # bert_model.compile(optimizer=optimizer, loss=loss, metrics=['accuracy'])\n",
    "# optimizer = tf.compat.v1.train.GradientDescentOptimizer(learning_rate=2e-5)\n",
    "# bert_model.compile(optimizer = optimizer, \n",
    "#                    loss=tf.keras.metrics.mean_squared_error,\n",
    "#                    metrics=[tf.keras.metrics.RootMeanSquaredError(name='rmse')])"
   ]
  },
  {
   "cell_type": "code",
   "execution_count": 98,
   "metadata": {
    "id": "ucPabQiUgDut"
   },
   "outputs": [],
   "source": [
    "# print(\"Fine-tuning BERT on Training data\")\n",
    "# bert_history = bert_model.fit(train_ds, epochs=25, \n",
    "#                               validation_data=valid_ds)"
   ]
  },
  {
   "cell_type": "code",
   "execution_count": 50,
   "metadata": {
    "id": "2jxKxum_bxJc"
   },
   "outputs": [],
   "source": [
    "from tensorflow.keras.layers import Dense, Input, Dropout\n",
    "from tensorflow.keras.models import Model\n",
    "\n",
    "def build_model(transformer, max_len=512):\n",
    "    \"\"\"\n",
    "    https://www.kaggle.com/xhlulu/jigsaw-tpu-distilbert-with-huggingface-and-keras\n",
    "    \"\"\"\n",
    "    input_word_ids = Input(shape=(max_len,), dtype=tf.int32, name=\"input_ids\")\n",
    "    sequence_output = transformer(input_word_ids)[0]\n",
    "    cls_token = sequence_output[:, 0, :]\n",
    "#     dropout = Dropout(0.25, name='dropout_1')(cls_token)\n",
    "    out = Dense(1, activation='relu', kernel_initializer='he_normal')(cls_token)\n",
    "#     run_opts = tf.RunOptions(report_tensor_allocations_upon_oom = True)\n",
    "    model = Model(inputs=input_word_ids, outputs=out)\n",
    "    for layer in model.layers[:-1]:\n",
    "      layer.trainable = False\n",
    "    # model.compile(Adam(lr=1e-5), loss='binary_crossentropy', metrics=['accuracy']) #, options = run_opts)\n",
    "    # optimizer = tf.compat.v1.train.GradientDescentOptimizer(learning_rate=2e-5)\n",
    "    optimizer = tf.keras.optimizers.Adam(learning_rate=2e-5)\n",
    "    model.compile(optimizer = optimizer, \n",
    "                  loss=tf.keras.metrics.mean_squared_error,\n",
    "                  metrics=[tf.keras.metrics.RootMeanSquaredError(name='rmse')])\n",
    "    return model"
   ]
  },
  {
   "cell_type": "code",
   "execution_count": 51,
   "metadata": {
    "id": "VGToiAgibpGU"
   },
   "outputs": [],
   "source": [
    "import transformers\n",
    "MAX_LEN = 256\n",
    "# with strategy.scope():\n",
    "def create_model():\n",
    "  transformer_layer = (\n",
    "      transformers.TFAutoModelWithLMHead.from_pretrained(bert_name)\n",
    "  )\n",
    "  model = build_model(transformer_layer, max_len=MAX_LEN)\n",
    "  return model\n"
   ]
  },
  {
   "cell_type": "code",
   "execution_count": 52,
   "metadata": {},
   "outputs": [
    {
     "data": {
      "text/plain": [
       "[<matplotlib.lines.Line2D at 0x7fbcc4545ac8>]"
      ]
     },
     "execution_count": 52,
     "metadata": {},
     "output_type": "execute_result"
    },
    {
     "data": {
      "image/png": "[encoded data removed]",
      "text/plain": [
       "<Figure size 432x288 with 1 Axes>"
      ]
     },
     "metadata": {
      "needs_background": "light"
     },
     "output_type": "display_data"
    }
   ],
   "source": [
    "class SquareRootScheduler:\n",
    "    def __init__(self, lr=0.1):\n",
    "        self.lr = lr\n",
    "\n",
    "    def __call__(self, num_update):\n",
    "        return self.lr * pow(num_update + 1.0, -0.3)\n",
    "    \n",
    "lr_callback = tf.keras.callbacks.LearningRateScheduler(SquareRootScheduler(lr=0.01))\n",
    "\n",
    "scheduler = SquareRootScheduler(lr=0.01)\n",
    "plt.plot(tf.range(1000), [scheduler(t) for t in range(1000)])"
   ]
  },
  {
   "cell_type": "code",
   "execution_count": 53,
   "metadata": {
    "colab": {
     "base_uri": "https://localhost:8080/"
    },
    "id": "Zf_V5UrM6VJS",
    "outputId": "a2050742-5b38-429b-f3c1-fa75fac8a317",
    "scrolled": true
   },
   "outputs": [
    {
     "name": "stderr",
     "output_type": "stream",
     "text": [
      "WARNING:transformers.modeling_tf_utils:Some weights of the model checkpoint at bert-base-uncased were not used when initializing TFBertForMaskedLM: ['nsp___cls']\n",
      "- This IS expected if you are initializing TFBertForMaskedLM from the checkpoint of a model trained on another task or with another architecture (e.g. initializing a BertForSequenceClassification model from a BertForPretraining model).\n",
      "- This IS NOT expected if you are initializing TFBertForMaskedLM from the checkpoint of a model that you expect to be exactly identical (initializing a BertForSequenceClassification model from a BertForSequenceClassification model).\n",
      "WARNING:transformers.modeling_tf_utils:All the weights of TFBertForMaskedLM were initialized from the model checkpoint at bert-base-uncased.\n",
      "If your task is similar to the task the model of the ckeckpoint was trained on, you can already use TFBertForMaskedLM for predictions without further training.\n"
     ]
    },
    {
     "name": "stdout",
     "output_type": "stream",
     "text": [
      "Model: \"model_6\"\n",
      "_________________________________________________________________\n",
      "Layer (type)                 Output Shape              Param #   \n",
      "=================================================================\n",
      "input_ids (InputLayer)       [(None, 256)]             0         \n",
      "_________________________________________________________________\n",
      "tf_bert_for_masked_lm_7 (TFB ((None, 256, 30522),)     110104890 \n",
      "_________________________________________________________________\n",
      "tf.__operators__.getitem_7 ( (None, 30522)             0         \n",
      "_________________________________________________________________\n",
      "dense_6 (Dense)              (None, 1)                 30523     \n",
      "=================================================================\n",
      "Total params: 110,135,413\n",
      "Trainable params: 30,523\n",
      "Non-trainable params: 110,104,890\n",
      "_________________________________________________________________\n",
      "Fine-tuning BERT on Training data\n",
      "Epoch 1/100\n"
     ]
    },
    {
     "name": "stderr",
     "output_type": "stream",
     "text": [
      "/usr/local/lib/python3.6/dist-packages/tensorflow/python/keras/engine/functional.py:595: UserWarning: Input dict contained keys ['attention_mask', 'token_type_ids'] which did not match any model input. They will be ignored by the model.\n"
     ]
    },
    {
     "name": "stdout",
     "output_type": "stream",
     "text": [
      "16/16 [==============================] - 25s 721ms/step - loss: 513.5513 - rmse: 22.5161 - val_loss: 271.3319 - val_rmse: 16.4722\n",
      "\n",
      "Epoch 00001: val_loss improved from inf to 271.33191, saving model to /tf/saved_model/checkpoints/cp.ckpt\n",
      "Epoch 2/100\n",
      "16/16 [==============================] - 8s 521ms/step - loss: 287.1390 - rmse: 16.9296 - val_loss: 245.6773 - val_rmse: 15.6741\n",
      "\n",
      "Epoch 00002: val_loss improved from 271.33191 to 245.67726, saving model to /tf/saved_model/checkpoints/cp.ckpt\n",
      "Epoch 3/100\n",
      "16/16 [==============================] - 8s 520ms/step - loss: 235.3720 - rmse: 15.3250 - val_loss: 135.3697 - val_rmse: 11.6349\n",
      "\n",
      "Epoch 00003: val_loss improved from 245.67726 to 135.36974, saving model to /tf/saved_model/checkpoints/cp.ckpt\n",
      "Epoch 4/100\n",
      "16/16 [==============================] - 8s 520ms/step - loss: 151.2048 - rmse: 12.2561 - val_loss: 92.2451 - val_rmse: 9.6044\n",
      "\n",
      "Epoch 00004: val_loss improved from 135.36974 to 92.24511, saving model to /tf/saved_model/checkpoints/cp.ckpt\n",
      "Epoch 5/100\n",
      "16/16 [==============================] - 8s 521ms/step - loss: 99.0400 - rmse: 9.9128 - val_loss: 92.9328 - val_rmse: 9.6402\n",
      "\n",
      "Epoch 00005: val_loss did not improve from 92.24511\n",
      "Epoch 6/100\n",
      "16/16 [==============================] - 8s 521ms/step - loss: 62.6549 - rmse: 7.9095 - val_loss: 91.3972 - val_rmse: 9.5602\n",
      "\n",
      "Epoch 00006: val_loss improved from 92.24511 to 91.39721, saving model to /tf/saved_model/checkpoints/cp.ckpt\n",
      "Epoch 7/100\n",
      "16/16 [==============================] - 8s 520ms/step - loss: 50.2897 - rmse: 7.0805 - val_loss: 91.6767 - val_rmse: 9.5748\n",
      "\n",
      "Epoch 00007: val_loss did not improve from 91.39721\n",
      "Epoch 8/100\n",
      "16/16 [==============================] - 8s 522ms/step - loss: 50.2657 - rmse: 7.0856 - val_loss: 89.1339 - val_rmse: 9.4411\n",
      "\n",
      "Epoch 00008: val_loss improved from 91.39721 to 89.13393, saving model to /tf/saved_model/checkpoints/cp.ckpt\n",
      "Epoch 9/100\n",
      "16/16 [==============================] - 8s 522ms/step - loss: 53.9441 - rmse: 7.3411 - val_loss: 89.4861 - val_rmse: 9.4597\n",
      "\n",
      "Epoch 00009: val_loss did not improve from 89.13393\n",
      "Epoch 10/100\n",
      "16/16 [==============================] - 8s 522ms/step - loss: 51.5249 - rmse: 7.1749 - val_loss: 88.9790 - val_rmse: 9.4329\n",
      "\n",
      "Epoch 00010: val_loss improved from 89.13393 to 88.97905, saving model to /tf/saved_model/checkpoints/cp.ckpt\n",
      "Epoch 11/100\n",
      "16/16 [==============================] - 8s 521ms/step - loss: 50.5962 - rmse: 7.1101 - val_loss: 89.0287 - val_rmse: 9.4355\n",
      "\n",
      "Epoch 00011: val_loss did not improve from 88.97905\n",
      "Epoch 12/100\n",
      "16/16 [==============================] - 8s 522ms/step - loss: 53.2459 - rmse: 7.2949 - val_loss: 87.2821 - val_rmse: 9.3425\n",
      "\n",
      "Epoch 00012: val_loss improved from 88.97905 to 87.28206, saving model to /tf/saved_model/checkpoints/cp.ckpt\n",
      "Epoch 13/100\n",
      "16/16 [==============================] - 8s 521ms/step - loss: 51.6663 - rmse: 7.1858 - val_loss: 88.8588 - val_rmse: 9.4265\n",
      "\n",
      "Epoch 00013: val_loss did not improve from 87.28206\n",
      "Epoch 14/100\n",
      "16/16 [==============================] - 8s 521ms/step - loss: 53.6704 - rmse: 7.3242 - val_loss: 87.1149 - val_rmse: 9.3335\n",
      "\n",
      "Epoch 00014: val_loss improved from 87.28206 to 87.11490, saving model to /tf/saved_model/checkpoints/cp.ckpt\n",
      "Epoch 15/100\n",
      "16/16 [==============================] - 8s 523ms/step - loss: 51.4592 - rmse: 7.1718 - val_loss: 87.2038 - val_rmse: 9.3383\n",
      "\n",
      "Epoch 00015: val_loss did not improve from 87.11490\n",
      "Epoch 16/100\n",
      "16/16 [==============================] - 8s 522ms/step - loss: 50.5201 - rmse: 7.1026 - val_loss: 89.0627 - val_rmse: 9.4373\n",
      "\n",
      "Epoch 00016: val_loss did not improve from 87.11490\n",
      "Epoch 17/100\n",
      "16/16 [==============================] - 8s 522ms/step - loss: 53.7342 - rmse: 7.3296 - val_loss: 87.8443 - val_rmse: 9.3725\n",
      "\n",
      "Epoch 00017: val_loss did not improve from 87.11490\n",
      "Epoch 18/100\n",
      "16/16 [==============================] - 8s 525ms/step - loss: 49.3744 - rmse: 7.0228 - val_loss: 87.8966 - val_rmse: 9.3753\n",
      "\n",
      "Epoch 00018: val_loss did not improve from 87.11490\n",
      "Epoch 19/100\n",
      "16/16 [==============================] - 8s 523ms/step - loss: 49.3482 - rmse: 7.0225 - val_loss: 87.4312 - val_rmse: 9.3505\n",
      "\n",
      "Epoch 00019: val_loss did not improve from 87.11490\n",
      "Epoch 20/100\n",
      "16/16 [==============================] - 8s 522ms/step - loss: 49.1012 - rmse: 7.0026 - val_loss: 87.1231 - val_rmse: 9.3340\n",
      "\n",
      "Epoch 00020: val_loss did not improve from 87.11490\n",
      "Epoch 21/100\n",
      "16/16 [==============================] - 8s 522ms/step - loss: 49.5004 - rmse: 7.0331 - val_loss: 88.7142 - val_rmse: 9.4188\n",
      "\n",
      "Epoch 00021: val_loss did not improve from 87.11490\n",
      "Epoch 22/100\n",
      "16/16 [==============================] - 8s 523ms/step - loss: 49.4482 - rmse: 7.0306 - val_loss: 86.2599 - val_rmse: 9.2876\n",
      "\n",
      "Epoch 00022: val_loss improved from 87.11490 to 86.25989, saving model to /tf/saved_model/checkpoints/cp.ckpt\n",
      "Epoch 23/100\n",
      "16/16 [==============================] - 8s 522ms/step - loss: 49.8466 - rmse: 7.0584 - val_loss: 86.9792 - val_rmse: 9.3263\n",
      "\n",
      "Epoch 00023: val_loss did not improve from 86.25989\n",
      "Epoch 24/100\n",
      "16/16 [==============================] - 8s 523ms/step - loss: 50.2230 - rmse: 7.0857 - val_loss: 84.3286 - val_rmse: 9.1831\n",
      "\n",
      "Epoch 00024: val_loss improved from 86.25989 to 84.32855, saving model to /tf/saved_model/checkpoints/cp.ckpt\n",
      "Epoch 25/100\n",
      "16/16 [==============================] - 8s 522ms/step - loss: 46.8318 - rmse: 6.8395 - val_loss: 86.4198 - val_rmse: 9.2962\n",
      "\n",
      "Epoch 00025: val_loss did not improve from 84.32855\n",
      "Epoch 26/100\n",
      "16/16 [==============================] - 8s 524ms/step - loss: 50.5332 - rmse: 7.1077 - val_loss: 84.3631 - val_rmse: 9.1849\n",
      "\n",
      "Epoch 00026: val_loss did not improve from 84.32855\n",
      "Epoch 27/100\n",
      "16/16 [==============================] - 8s 522ms/step - loss: 47.4329 - rmse: 6.8817 - val_loss: 85.6701 - val_rmse: 9.2558\n",
      "\n",
      "Epoch 00027: val_loss did not improve from 84.32855\n",
      "Epoch 28/100\n",
      "16/16 [==============================] - 8s 523ms/step - loss: 49.9584 - rmse: 7.0672 - val_loss: 83.3881 - val_rmse: 9.1317\n",
      "\n",
      "Epoch 00028: val_loss improved from 84.32855 to 83.38812, saving model to /tf/saved_model/checkpoints/cp.ckpt\n",
      "Epoch 29/100\n",
      "16/16 [==============================] - 8s 521ms/step - loss: 45.4561 - rmse: 6.7384 - val_loss: 83.8219 - val_rmse: 9.1554\n",
      "\n",
      "Epoch 00029: val_loss did not improve from 83.38812\n",
      "Epoch 30/100\n",
      "16/16 [==============================] - 8s 522ms/step - loss: 48.5747 - rmse: 6.9680 - val_loss: 83.5213 - val_rmse: 9.1390\n",
      "\n",
      "Epoch 00030: val_loss did not improve from 83.38812\n",
      "Epoch 31/100\n",
      "16/16 [==============================] - 8s 522ms/step - loss: 50.1095 - rmse: 7.0776 - val_loss: 83.3951 - val_rmse: 9.1321\n",
      "\n",
      "Epoch 00031: val_loss did not improve from 83.38812\n",
      "Epoch 32/100\n",
      "16/16 [==============================] - 8s 523ms/step - loss: 48.0347 - rmse: 6.9298 - val_loss: 82.2683 - val_rmse: 9.0702\n",
      "\n",
      "Epoch 00032: val_loss improved from 83.38812 to 82.26833, saving model to /tf/saved_model/checkpoints/cp.ckpt\n",
      "Epoch 33/100\n",
      "16/16 [==============================] - 8s 522ms/step - loss: 47.4706 - rmse: 6.8885 - val_loss: 81.3736 - val_rmse: 9.0207\n",
      "\n",
      "Epoch 00033: val_loss improved from 82.26833 to 81.37365, saving model to /tf/saved_model/checkpoints/cp.ckpt\n",
      "Epoch 34/100\n",
      "16/16 [==============================] - 8s 522ms/step - loss: 46.5073 - rmse: 6.8177 - val_loss: 82.3133 - val_rmse: 9.0727\n",
      "\n",
      "Epoch 00034: val_loss did not improve from 81.37365\n",
      "Epoch 35/100\n",
      "16/16 [==============================] - 8s 522ms/step - loss: 48.1991 - rmse: 6.9415 - val_loss: 82.3564 - val_rmse: 9.0750\n",
      "\n",
      "Epoch 00035: val_loss did not improve from 81.37365\n",
      "Epoch 36/100\n",
      "16/16 [==============================] - 8s 524ms/step - loss: 46.1895 - rmse: 6.7945 - val_loss: 82.4125 - val_rmse: 9.0781\n",
      "\n",
      "Epoch 00036: val_loss did not improve from 81.37365\n",
      "Epoch 37/100\n",
      "16/16 [==============================] - 8s 522ms/step - loss: 44.7540 - rmse: 6.6870 - val_loss: 82.1568 - val_rmse: 9.0640\n",
      "\n",
      "Epoch 00037: val_loss did not improve from 81.37365\n",
      "Epoch 38/100\n",
      "16/16 [==============================] - 8s 522ms/step - loss: 46.7186 - rmse: 6.8342 - val_loss: 80.5924 - val_rmse: 8.9773\n",
      "\n",
      "Epoch 00038: val_loss improved from 81.37365 to 80.59245, saving model to /tf/saved_model/checkpoints/cp.ckpt\n",
      "Epoch 39/100\n"
     ]
    },
    {
     "name": "stdout",
     "output_type": "stream",
     "text": [
      "16/16 [==============================] - 8s 521ms/step - loss: 47.6800 - rmse: 6.9033 - val_loss: 82.3049 - val_rmse: 9.0722\n",
      "\n",
      "Epoch 00039: val_loss did not improve from 80.59245\n",
      "Epoch 40/100\n",
      "16/16 [==============================] - 8s 522ms/step - loss: 49.0910 - rmse: 7.0041 - val_loss: 80.5486 - val_rmse: 8.9749\n",
      "\n",
      "Epoch 00040: val_loss improved from 80.59245 to 80.54864, saving model to /tf/saved_model/checkpoints/cp.ckpt\n",
      "Epoch 41/100\n",
      "16/16 [==============================] - 8s 521ms/step - loss: 46.0536 - rmse: 6.7852 - val_loss: 81.5258 - val_rmse: 9.0292\n",
      "\n",
      "Epoch 00041: val_loss did not improve from 80.54864\n",
      "Epoch 42/100\n",
      "16/16 [==============================] - 9s 545ms/step - loss: 44.4500 - rmse: 6.6651 - val_loss: 80.0209 - val_rmse: 8.9454\n",
      "\n",
      "Epoch 00042: val_loss improved from 80.54864 to 80.02094, saving model to /tf/saved_model/checkpoints/cp.ckpt\n",
      "Epoch 43/100\n",
      "16/16 [==============================] - 8s 521ms/step - loss: 44.5087 - rmse: 6.6695 - val_loss: 81.9092 - val_rmse: 9.0504\n",
      "\n",
      "Epoch 00043: val_loss did not improve from 80.02094\n",
      "Epoch 44/100\n",
      "16/16 [==============================] - 8s 522ms/step - loss: 45.8161 - rmse: 6.7685 - val_loss: 77.3969 - val_rmse: 8.7975\n",
      "\n",
      "Epoch 00044: val_loss improved from 80.02094 to 77.39687, saving model to /tf/saved_model/checkpoints/cp.ckpt\n",
      "Epoch 45/100\n",
      "16/16 [==============================] - 8s 521ms/step - loss: 48.2135 - rmse: 6.9420 - val_loss: 81.4476 - val_rmse: 9.0248\n",
      "\n",
      "Epoch 00045: val_loss did not improve from 77.39687\n",
      "Epoch 46/100\n",
      "16/16 [==============================] - 8s 522ms/step - loss: 47.8368 - rmse: 6.9150 - val_loss: 78.4483 - val_rmse: 8.8571\n",
      "\n",
      "Epoch 00046: val_loss did not improve from 77.39687\n",
      "Epoch 47/100\n",
      "16/16 [==============================] - 8s 521ms/step - loss: 44.1037 - rmse: 6.6395 - val_loss: 79.6173 - val_rmse: 8.9229\n",
      "\n",
      "Epoch 00047: val_loss did not improve from 77.39687\n",
      "Epoch 48/100\n",
      "16/16 [==============================] - 8s 522ms/step - loss: 44.0403 - rmse: 6.6353 - val_loss: 79.4288 - val_rmse: 8.9123\n",
      "\n",
      "Epoch 00048: val_loss did not improve from 77.39687\n",
      "Epoch 49/100\n",
      "16/16 [==============================] - 8s 521ms/step - loss: 44.5945 - rmse: 6.6762 - val_loss: 79.5502 - val_rmse: 8.9191\n",
      "\n",
      "Epoch 00049: val_loss did not improve from 77.39687\n",
      "Epoch 50/100\n",
      "16/16 [==============================] - 8s 522ms/step - loss: 44.6234 - rmse: 6.6788 - val_loss: 78.3005 - val_rmse: 8.8488\n",
      "\n",
      "Epoch 00050: val_loss did not improve from 77.39687\n",
      "Epoch 51/100\n",
      "16/16 [==============================] - 8s 521ms/step - loss: 44.3473 - rmse: 6.6581 - val_loss: 79.1263 - val_rmse: 8.8953\n",
      "\n",
      "Epoch 00051: val_loss did not improve from 77.39687\n",
      "Epoch 52/100\n",
      "16/16 [==============================] - 8s 522ms/step - loss: 44.8391 - rmse: 6.6948 - val_loss: 78.7143 - val_rmse: 8.8721\n",
      "\n",
      "Epoch 00052: val_loss did not improve from 77.39687\n",
      "Epoch 53/100\n",
      "16/16 [==============================] - 8s 523ms/step - loss: 44.7633 - rmse: 6.6894 - val_loss: 77.5930 - val_rmse: 8.8087\n",
      "\n",
      "Epoch 00053: val_loss did not improve from 77.39687\n",
      "Epoch 54/100\n",
      "16/16 [==============================] - 8s 524ms/step - loss: 45.4592 - rmse: 6.7412 - val_loss: 79.2746 - val_rmse: 8.9036\n",
      "\n",
      "Epoch 00054: val_loss did not improve from 77.39687\n",
      "Epoch 55/100\n",
      "16/16 [==============================] - 8s 523ms/step - loss: 46.4171 - rmse: 6.8112 - val_loss: 76.7827 - val_rmse: 8.7626\n",
      "\n",
      "Epoch 00055: val_loss improved from 77.39687 to 76.78274, saving model to /tf/saved_model/checkpoints/cp.ckpt\n",
      "Epoch 56/100\n",
      "16/16 [==============================] - 8s 522ms/step - loss: 45.3580 - rmse: 6.7325 - val_loss: 78.1797 - val_rmse: 8.8419\n",
      "\n",
      "Epoch 00056: val_loss did not improve from 76.78274\n",
      "Epoch 57/100\n",
      "16/16 [==============================] - 8s 523ms/step - loss: 45.2539 - rmse: 6.7238 - val_loss: 78.3397 - val_rmse: 8.8510\n",
      "\n",
      "Epoch 00057: val_loss did not improve from 76.78274\n",
      "Epoch 58/100\n",
      "16/16 [==============================] - 8s 523ms/step - loss: 46.3114 - rmse: 6.8043 - val_loss: 77.2503 - val_rmse: 8.7892\n",
      "\n",
      "Epoch 00058: val_loss did not improve from 76.78274\n",
      "Epoch 59/100\n",
      "16/16 [==============================] - 8s 522ms/step - loss: 45.0492 - rmse: 6.7101 - val_loss: 78.0802 - val_rmse: 8.8363\n",
      "\n",
      "Epoch 00059: val_loss did not improve from 76.78274\n",
      "Epoch 60/100\n",
      "16/16 [==============================] - 8s 522ms/step - loss: 45.8934 - rmse: 6.7725 - val_loss: 76.1600 - val_rmse: 8.7270\n",
      "\n",
      "Epoch 00060: val_loss improved from 76.78274 to 76.15996, saving model to /tf/saved_model/checkpoints/cp.ckpt\n",
      "Epoch 61/100\n",
      "16/16 [==============================] - 8s 522ms/step - loss: 41.8069 - rmse: 6.4626 - val_loss: 78.2348 - val_rmse: 8.8450\n",
      "\n",
      "Epoch 00061: val_loss did not improve from 76.15996\n",
      "Epoch 62/100\n",
      "16/16 [==============================] - 8s 523ms/step - loss: 42.3937 - rmse: 6.5085 - val_loss: 78.6899 - val_rmse: 8.8707\n",
      "\n",
      "Epoch 00062: val_loss did not improve from 76.15996\n",
      "Epoch 63/100\n",
      "16/16 [==============================] - 8s 522ms/step - loss: 45.5326 - rmse: 6.7469 - val_loss: 76.6404 - val_rmse: 8.7545\n",
      "\n",
      "Epoch 00063: val_loss did not improve from 76.15996\n",
      "Epoch 64/100\n",
      "16/16 [==============================] - 8s 521ms/step - loss: 44.7035 - rmse: 6.6836 - val_loss: 79.3393 - val_rmse: 8.9073\n",
      "\n",
      "Epoch 00064: val_loss did not improve from 76.15996\n",
      "Epoch 65/100\n",
      "16/16 [==============================] - 8s 522ms/step - loss: 45.2509 - rmse: 6.7256 - val_loss: 75.9925 - val_rmse: 8.7174\n",
      "\n",
      "Epoch 00065: val_loss improved from 76.15996 to 75.99250, saving model to /tf/saved_model/checkpoints/cp.ckpt\n",
      "Epoch 66/100\n",
      "16/16 [==============================] - 8s 521ms/step - loss: 42.9050 - rmse: 6.5489 - val_loss: 77.4043 - val_rmse: 8.7980\n",
      "\n",
      "Epoch 00066: val_loss did not improve from 75.99250\n",
      "Epoch 67/100\n",
      "16/16 [==============================] - 8s 522ms/step - loss: 45.6119 - rmse: 6.7523 - val_loss: 77.9700 - val_rmse: 8.8301\n",
      "\n",
      "Epoch 00067: val_loss did not improve from 75.99250\n",
      "Epoch 68/100\n",
      "16/16 [==============================] - 8s 522ms/step - loss: 44.6629 - rmse: 6.6820 - val_loss: 75.9059 - val_rmse: 8.7124\n",
      "\n",
      "Epoch 00068: val_loss improved from 75.99250 to 75.90593, saving model to /tf/saved_model/checkpoints/cp.ckpt\n",
      "Epoch 69/100\n",
      "16/16 [==============================] - 8s 521ms/step - loss: 42.7866 - rmse: 6.5404 - val_loss: 76.5205 - val_rmse: 8.7476\n",
      "\n",
      "Epoch 00069: val_loss did not improve from 75.90593\n",
      "Epoch 70/100\n",
      "16/16 [==============================] - 8s 522ms/step - loss: 42.2926 - rmse: 6.5020 - val_loss: 76.1377 - val_rmse: 8.7257\n",
      "\n",
      "Epoch 00070: val_loss did not improve from 75.90593\n",
      "Epoch 71/100\n",
      "16/16 [==============================] - 8s 521ms/step - loss: 41.6334 - rmse: 6.4500 - val_loss: 77.5811 - val_rmse: 8.8080\n",
      "\n",
      "Epoch 00071: val_loss did not improve from 75.90593\n",
      "Epoch 72/100\n",
      "16/16 [==============================] - 8s 522ms/step - loss: 45.4749 - rmse: 6.7406 - val_loss: 76.1301 - val_rmse: 8.7253\n",
      "\n",
      "Epoch 00072: val_loss did not improve from 75.90593\n",
      "Epoch 73/100\n",
      "16/16 [==============================] - 8s 522ms/step - loss: 43.5762 - rmse: 6.5988 - val_loss: 76.6653 - val_rmse: 8.7559\n",
      "\n",
      "Epoch 00073: val_loss did not improve from 75.90593\n",
      "Epoch 74/100\n",
      "16/16 [==============================] - 8s 522ms/step - loss: 42.4978 - rmse: 6.5175 - val_loss: 74.5491 - val_rmse: 8.6342\n",
      "\n",
      "Epoch 00074: val_loss improved from 75.90593 to 74.54908, saving model to /tf/saved_model/checkpoints/cp.ckpt\n",
      "Epoch 75/100\n",
      "16/16 [==============================] - 8s 525ms/step - loss: 39.7033 - rmse: 6.2979 - val_loss: 75.1841 - val_rmse: 8.6709\n",
      "\n",
      "Epoch 00075: val_loss did not improve from 74.54908\n",
      "Epoch 76/100\n",
      "16/16 [==============================] - 8s 521ms/step - loss: 42.6951 - rmse: 6.5328 - val_loss: 74.2221 - val_rmse: 8.6152\n",
      "\n",
      "Epoch 00076: val_loss improved from 74.54908 to 74.22205, saving model to /tf/saved_model/checkpoints/cp.ckpt\n",
      "Epoch 77/100\n",
      "16/16 [==============================] - 8s 524ms/step - loss: 42.0501 - rmse: 6.4831 - val_loss: 73.8320 - val_rmse: 8.5926\n",
      "\n",
      "Epoch 00077: val_loss improved from 74.22205 to 73.83196, saving model to /tf/saved_model/checkpoints/cp.ckpt\n",
      "Epoch 78/100\n",
      "16/16 [==============================] - 8s 521ms/step - loss: 44.2560 - rmse: 6.6492 - val_loss: 77.4710 - val_rmse: 8.8018\n",
      "\n",
      "Epoch 00078: val_loss did not improve from 73.83196\n",
      "Epoch 79/100\n"
     ]
    },
    {
     "name": "stdout",
     "output_type": "stream",
     "text": [
      "16/16 [==============================] - 8s 522ms/step - loss: 46.8781 - rmse: 6.8449 - val_loss: 73.4465 - val_rmse: 8.5701\n",
      "\n",
      "Epoch 00079: val_loss improved from 73.83196 to 73.44646, saving model to /tf/saved_model/checkpoints/cp.ckpt\n",
      "Epoch 80/100\n",
      "16/16 [==============================] - 8s 520ms/step - loss: 40.5036 - rmse: 6.3623 - val_loss: 75.6475 - val_rmse: 8.6976\n",
      "\n",
      "Epoch 00080: val_loss did not improve from 73.44646\n",
      "Epoch 81/100\n",
      "16/16 [==============================] - 8s 522ms/step - loss: 42.7337 - rmse: 6.5341 - val_loss: 75.4849 - val_rmse: 8.6882\n",
      "\n",
      "Epoch 00081: val_loss did not improve from 73.44646\n",
      "Epoch 82/100\n",
      "16/16 [==============================] - 8s 522ms/step - loss: 41.3155 - rmse: 6.4264 - val_loss: 75.5223 - val_rmse: 8.6904\n",
      "\n",
      "Epoch 00082: val_loss did not improve from 73.44646\n",
      "Epoch 83/100\n",
      "16/16 [==============================] - 8s 521ms/step - loss: 41.3075 - rmse: 6.4258 - val_loss: 76.3885 - val_rmse: 8.7400\n",
      "\n",
      "Epoch 00083: val_loss did not improve from 73.44646\n",
      "Epoch 84/100\n",
      "16/16 [==============================] - 8s 521ms/step - loss: 42.0434 - rmse: 6.4833 - val_loss: 74.3507 - val_rmse: 8.6227\n",
      "\n",
      "Epoch 00084: val_loss did not improve from 73.44646\n",
      "Epoch 85/100\n",
      "16/16 [==============================] - 8s 522ms/step - loss: 40.7026 - rmse: 6.3778 - val_loss: 75.6318 - val_rmse: 8.6967\n",
      "\n",
      "Epoch 00085: val_loss did not improve from 73.44646\n",
      "Epoch 86/100\n",
      "16/16 [==============================] - 8s 522ms/step - loss: 41.3108 - rmse: 6.4269 - val_loss: 74.9222 - val_rmse: 8.6558\n",
      "\n",
      "Epoch 00086: val_loss did not improve from 73.44646\n",
      "Epoch 87/100\n",
      "16/16 [==============================] - 8s 522ms/step - loss: 40.7911 - rmse: 6.3862 - val_loss: 73.6987 - val_rmse: 8.5848\n",
      "\n",
      "Epoch 00087: val_loss did not improve from 73.44646\n",
      "Epoch 88/100\n",
      "16/16 [==============================] - 8s 524ms/step - loss: 42.0697 - rmse: 6.4841 - val_loss: 75.1799 - val_rmse: 8.6706\n",
      "\n",
      "Epoch 00088: val_loss did not improve from 73.44646\n",
      "Epoch 89/100\n",
      "16/16 [==============================] - 8s 523ms/step - loss: 43.3401 - rmse: 6.5825 - val_loss: 75.0677 - val_rmse: 8.6642\n",
      "\n",
      "Epoch 00089: val_loss did not improve from 73.44646\n",
      "Epoch 90/100\n",
      "16/16 [==============================] - 9s 566ms/step - loss: 40.4142 - rmse: 6.3560 - val_loss: 74.1665 - val_rmse: 8.6120\n",
      "\n",
      "Epoch 00090: val_loss did not improve from 73.44646\n",
      "Epoch 91/100\n",
      "16/16 [==============================] - 8s 521ms/step - loss: 39.7396 - rmse: 6.2991 - val_loss: 77.1302 - val_rmse: 8.7824\n",
      "\n",
      "Epoch 00091: val_loss did not improve from 73.44646\n",
      "Epoch 92/100\n",
      "16/16 [==============================] - 8s 522ms/step - loss: 40.0441 - rmse: 6.3263 - val_loss: 74.2647 - val_rmse: 8.6177\n",
      "\n",
      "Epoch 00092: val_loss did not improve from 73.44646\n",
      "Epoch 93/100\n",
      "16/16 [==============================] - 8s 521ms/step - loss: 41.1631 - rmse: 6.4141 - val_loss: 75.0409 - val_rmse: 8.6626\n",
      "\n",
      "Epoch 00093: val_loss did not improve from 73.44646\n",
      "Epoch 94/100\n",
      "16/16 [==============================] - 8s 521ms/step - loss: 41.4141 - rmse: 6.4345 - val_loss: 72.8404 - val_rmse: 8.5347\n",
      "\n",
      "Epoch 00094: val_loss improved from 73.44646 to 72.84042, saving model to /tf/saved_model/checkpoints/cp.ckpt\n",
      "Epoch 95/100\n",
      "16/16 [==============================] - 8s 521ms/step - loss: 40.6605 - rmse: 6.3743 - val_loss: 76.4822 - val_rmse: 8.7454\n",
      "\n",
      "Epoch 00095: val_loss did not improve from 72.84042\n",
      "Epoch 96/100\n",
      "16/16 [==============================] - 8s 522ms/step - loss: 43.9140 - rmse: 6.6251 - val_loss: 73.1437 - val_rmse: 8.5524\n",
      "\n",
      "Epoch 00096: val_loss did not improve from 72.84042\n",
      "Epoch 97/100\n",
      "16/16 [==============================] - 8s 521ms/step - loss: 41.6984 - rmse: 6.4560 - val_loss: 75.0016 - val_rmse: 8.6603\n",
      "\n",
      "Epoch 00097: val_loss did not improve from 72.84042\n",
      "Epoch 98/100\n",
      "16/16 [==============================] - 8s 520ms/step - loss: 40.8717 - rmse: 6.3913 - val_loss: 72.9696 - val_rmse: 8.5422\n",
      "\n",
      "Epoch 00098: val_loss did not improve from 72.84042\n",
      "Epoch 99/100\n",
      "16/16 [==============================] - 8s 521ms/step - loss: 41.4122 - rmse: 6.4341 - val_loss: 76.2109 - val_rmse: 8.7299\n",
      "\n",
      "Epoch 00099: val_loss did not improve from 72.84042\n",
      "Epoch 100/100\n",
      "16/16 [==============================] - 8s 523ms/step - loss: 40.2409 - rmse: 6.3425 - val_loss: 73.6281 - val_rmse: 8.5807\n",
      "\n",
      "Epoch 00100: val_loss did not improve from 72.84042\n"
     ]
    }
   ],
   "source": [
    "model = create_model()\n",
    "model.summary()\n",
    "\n",
    "checkpoint_path = \"/tf/saved_model/checkpoints/cp.ckpt\"\n",
    "checkpoint_dir = os.path.dirname(checkpoint_path)\n",
    "\n",
    "# Create a callback that saves the model's weights\n",
    "cp_callback = tf.keras.callbacks.ModelCheckpoint(filepath=checkpoint_path,\n",
    "                                                 save_weights_only=True,\n",
    "                                                 save_best_only=True,\n",
    "                                                 monitor='val_loss', \n",
    "                                                 patience=50, \n",
    "                                                 restore_best_weights=True,\n",
    "                                                 verbose=1)\n",
    "\n",
    "es_callback = tf.keras.callbacks.EarlyStopping(\n",
    "    monitor='val_loss', \n",
    "    patience=50, \n",
    "    restore_best_weights=True)\n",
    "\n",
    "print(\"Fine-tuning BERT on Training data\")\n",
    "bert_history = model.fit(train_ds, \n",
    "                         epochs=100, \n",
    "                         validation_data=valid_ds,\n",
    "                         callbacks=[cp_callback, es_callback])"
   ]
  },
  {
   "cell_type": "code",
   "execution_count": 54,
   "metadata": {
    "colab": {
     "base_uri": "https://localhost:8080/",
     "height": 323
    },
    "id": "wcKDxNTxzjv1",
    "outputId": "1a54bba3-02e6-4600-ff51-e7a322c14d00"
   },
   "outputs": [
    {
     "data": {
      "image/png": "[encoded data removed]",
      "text/plain": [
       "<Figure size 432x288 with 1 Axes>"
      ]
     },
     "metadata": {
      "needs_background": "light"
     },
     "output_type": "display_data"
    }
   ],
   "source": [
    "metrics = bert_history.history\n",
    "plt.plot(bert_history.epoch, metrics['rmse'], metrics['val_rmse'])\n",
    "plt.legend(['rmse', 'val_rmse'])\n",
    "# axes = plt.axes()\n",
    "# axes.set_ylim([2, 10])\n",
    "plt.show()"
   ]
  },
  {
   "cell_type": "markdown",
   "metadata": {
    "id": "r_Aon79e7V-i"
   },
   "source": [
    "# Evaluation and prediction based on BERT model"
   ]
  },
  {
   "cell_type": "code",
   "execution_count": 70,
   "metadata": {},
   "outputs": [
    {
     "name": "stderr",
     "output_type": "stream",
     "text": [
      "WARNING:transformers.modeling_tf_utils:Some weights of the model checkpoint at bert-base-uncased were not used when initializing TFBertForMaskedLM: ['nsp___cls']\n",
      "- This IS expected if you are initializing TFBertForMaskedLM from the checkpoint of a model trained on another task or with another architecture (e.g. initializing a BertForSequenceClassification model from a BertForPretraining model).\n",
      "- This IS NOT expected if you are initializing TFBertForMaskedLM from the checkpoint of a model that you expect to be exactly identical (initializing a BertForSequenceClassification model from a BertForSequenceClassification model).\n",
      "WARNING:transformers.modeling_tf_utils:All the weights of TFBertForMaskedLM were initialized from the model checkpoint at bert-base-uncased.\n",
      "If your task is similar to the task the model of the ckeckpoint was trained on, you can already use TFBertForMaskedLM for predictions without further training.\n"
     ]
    },
    {
     "name": "stdout",
     "output_type": "stream",
     "text": [
      "Model: \"model_7\"\n",
      "_________________________________________________________________\n",
      "Layer (type)                 Output Shape              Param #   \n",
      "=================================================================\n",
      "input_ids (InputLayer)       [(None, 256)]             0         \n",
      "_________________________________________________________________\n",
      "tf_bert_for_masked_lm_8 (TFB ((None, 256, 30522),)     110104890 \n",
      "_________________________________________________________________\n",
      "tf.__operators__.getitem_8 ( (None, 30522)             0         \n",
      "_________________________________________________________________\n",
      "dense_7 (Dense)              (None, 1)                 30523     \n",
      "=================================================================\n",
      "Total params: 110,135,413\n",
      "Trainable params: 30,523\n",
      "Non-trainable params: 110,104,890\n",
      "_________________________________________________________________\n"
     ]
    }
   ],
   "source": [
    "model_reload = create_model()\n",
    "model_reload.load_weights(checkpoint_path)\n",
    "model_reload.summary()"
   ]
  },
  {
   "cell_type": "code",
   "execution_count": 72,
   "metadata": {
    "colab": {
     "base_uri": "https://localhost:8080/"
    },
    "id": "LxJ50UzG0GNu",
    "outputId": "432052f1-c3cd-4838-8f25-d151b9d36e6d"
   },
   "outputs": [
    {
     "name": "stdout",
     "output_type": "stream",
     "text": [
      "Evaluate on vale data\n",
      "4/4 [==============================] - 1s 332ms/step - loss: 73.6281 - rmse: 8.5807\n",
      "val rmse: 8.580681202840784\n"
     ]
    }
   ],
   "source": [
    "print(\"Evaluate on vale data\")\n",
    "results = model.evaluate(val_reviews, y_val, batch_size=64)\n",
    "print(\"val rmse:\", np.sqrt(results)[0])"
   ]
  },
  {
   "cell_type": "code",
   "execution_count": 73,
   "metadata": {},
   "outputs": [
    {
     "name": "stdout",
     "output_type": "stream",
     "text": [
      "Evaluate on train data\n",
      "16/16 [==============================] - 6s 382ms/step - loss: 33.9569 - rmse: 5.8273\n",
      "train rmse: 5.827256697947955\n"
     ]
    }
   ],
   "source": [
    "print(\"Evaluate on train data\")\n",
    "results = model.evaluate(tr_reviews, y_train, batch_size=64)\n",
    "print(\"train rmse:\", np.sqrt(results)[0])"
   ]
  },
  {
   "cell_type": "code",
   "execution_count": 74,
   "metadata": {},
   "outputs": [
    {
     "name": "stdout",
     "output_type": "stream",
     "text": [
      "Evaluate on test data\n",
      "4/4 [==============================] - 1s 326ms/step - loss: 42.7405 - rmse: 6.5376\n",
      "test rmse: 6.537622290902546\n"
     ]
    }
   ],
   "source": [
    "print(\"Evaluate on test data\")\n",
    "results = model.evaluate(test_reviews, y_test, batch_size=64)\n",
    "print(\"test rmse:\", np.sqrt(results)[0])"
   ]
  },
  {
   "cell_type": "code",
   "execution_count": 59,
   "metadata": {
    "id": "wBIm_3C3n2LH"
   },
   "outputs": [
    {
     "data": {
      "text/html": [
       "<div>\n",
       "<style scoped>\n",
       "    .dataframe tbody tr th:only-of-type {\n",
       "        vertical-align: middle;\n",
       "    }\n",
       "\n",
       "    .dataframe tbody tr th {\n",
       "        vertical-align: top;\n",
       "    }\n",
       "\n",
       "    .dataframe thead th {\n",
       "        text-align: right;\n",
       "    }\n",
       "</style>\n",
       "<table border=\"1\" class=\"dataframe\">\n",
       "  <thead>\n",
       "    <tr style=\"text-align: right;\">\n",
       "      <th></th>\n",
       "      <th>Unnamed: 0</th>\n",
       "      <th>ID</th>\n",
       "      <th>Age</th>\n",
       "      <th>Gender</th>\n",
       "      <th>TEXT</th>\n",
       "      <th>MMSE</th>\n",
       "      <th>Group</th>\n",
       "    </tr>\n",
       "  </thead>\n",
       "  <tbody>\n",
       "    <tr>\n",
       "      <th>0</th>\n",
       "      <td>0</td>\n",
       "      <td>S001</td>\n",
       "      <td>74</td>\n",
       "      <td>male</td>\n",
       "      <td>well there's a mother standing there washing ...</td>\n",
       "      <td>30</td>\n",
       "      <td>cc</td>\n",
       "    </tr>\n",
       "    <tr>\n",
       "      <th>1</th>\n",
       "      <td>1</td>\n",
       "      <td>S002</td>\n",
       "      <td>62</td>\n",
       "      <td>female</td>\n",
       "      <td>somebody's getting cookies out_of the cookie ...</td>\n",
       "      <td>30</td>\n",
       "      <td>cc</td>\n",
       "    </tr>\n",
       "    <tr>\n",
       "      <th>2</th>\n",
       "      <td>2</td>\n",
       "      <td>S003</td>\n",
       "      <td>69</td>\n",
       "      <td>female</td>\n",
       "      <td>okay . there's a little boy and he's standing...</td>\n",
       "      <td>29</td>\n",
       "      <td>cc</td>\n",
       "    </tr>\n",
       "    <tr>\n",
       "      <th>3</th>\n",
       "      <td>3</td>\n",
       "      <td>S004</td>\n",
       "      <td>71</td>\n",
       "      <td>female</td>\n",
       "      <td>are you ready ? well the sink is overflowing ...</td>\n",
       "      <td>30</td>\n",
       "      <td>cc</td>\n",
       "    </tr>\n",
       "    <tr>\n",
       "      <th>4</th>\n",
       "      <td>4</td>\n",
       "      <td>S005</td>\n",
       "      <td>74</td>\n",
       "      <td>female</td>\n",
       "      <td>okay . the mother's washing the dishes and th...</td>\n",
       "      <td>30</td>\n",
       "      <td>cc</td>\n",
       "    </tr>\n",
       "  </tbody>\n",
       "</table>\n",
       "</div>"
      ],
      "text/plain": [
       "   Unnamed: 0    ID  Age    Gender  \\\n",
       "0           0  S001   74     male    \n",
       "1           1  S002   62   female    \n",
       "2           2  S003   69   female    \n",
       "3           3  S004   71   female    \n",
       "4           4  S005   74   female    \n",
       "\n",
       "                                                TEXT  MMSE Group  \n",
       "0   well there's a mother standing there washing ...    30    cc  \n",
       "1   somebody's getting cookies out_of the cookie ...    30    cc  \n",
       "2   okay . there's a little boy and he's standing...    29    cc  \n",
       "3   are you ready ? well the sink is overflowing ...    30    cc  \n",
       "4   okay . the mother's washing the dishes and th...    30    cc  "
      ]
     },
     "execution_count": 59,
     "metadata": {},
     "output_type": "execute_result"
    }
   ],
   "source": [
    "transcription_txt_file_path = data_path + \"/data/\" + \"transcription_original_id_txt_mmse.csv\"\n",
    "filtered_merged_data = pd.read_csv(transcription_txt_file_path)\n",
    "filtered_merged_data.head()"
   ]
  },
  {
   "cell_type": "code",
   "execution_count": 60,
   "metadata": {},
   "outputs": [],
   "source": [
    "bert_train = [bert_encoder(r) for r in filtered_merged_data[\"TEXT\"]]\n",
    "bert_lbl = filtered_merged_data[\"MMSE\"]\n",
    "bert_train = np.array(bert_train)"
   ]
  },
  {
   "cell_type": "code",
   "execution_count": 69,
   "metadata": {},
   "outputs": [
    {
     "data": {
      "text/plain": [
       "'/tf/saved_model/checkpoints/cp.ckpt'"
      ]
     },
     "execution_count": 69,
     "metadata": {},
     "output_type": "execute_result"
    }
   ],
   "source": [
    "checkpoint_path"
   ]
  },
  {
   "cell_type": "code",
   "execution_count": 75,
   "metadata": {},
   "outputs": [
    {
     "data": {
      "text/html": [
       "<div>\n",
       "<style scoped>\n",
       "    .dataframe tbody tr th:only-of-type {\n",
       "        vertical-align: middle;\n",
       "    }\n",
       "\n",
       "    .dataframe tbody tr th {\n",
       "        vertical-align: top;\n",
       "    }\n",
       "\n",
       "    .dataframe thead th {\n",
       "        text-align: right;\n",
       "    }\n",
       "</style>\n",
       "<table border=\"1\" class=\"dataframe\">\n",
       "  <thead>\n",
       "    <tr style=\"text-align: right;\">\n",
       "      <th></th>\n",
       "      <th>Unnamed: 0</th>\n",
       "      <th>ID</th>\n",
       "      <th>Age</th>\n",
       "      <th>Gender</th>\n",
       "      <th>TEXT</th>\n",
       "      <th>MMSE</th>\n",
       "      <th>Group</th>\n",
       "      <th>predict</th>\n",
       "    </tr>\n",
       "  </thead>\n",
       "  <tbody>\n",
       "    <tr>\n",
       "      <th>0</th>\n",
       "      <td>0</td>\n",
       "      <td>S001</td>\n",
       "      <td>74</td>\n",
       "      <td>male</td>\n",
       "      <td>well there's a mother standing there washing ...</td>\n",
       "      <td>30</td>\n",
       "      <td>cc</td>\n",
       "      <td>26.000910</td>\n",
       "    </tr>\n",
       "    <tr>\n",
       "      <th>1</th>\n",
       "      <td>1</td>\n",
       "      <td>S002</td>\n",
       "      <td>62</td>\n",
       "      <td>female</td>\n",
       "      <td>somebody's getting cookies out_of the cookie ...</td>\n",
       "      <td>30</td>\n",
       "      <td>cc</td>\n",
       "      <td>28.357574</td>\n",
       "    </tr>\n",
       "    <tr>\n",
       "      <th>2</th>\n",
       "      <td>2</td>\n",
       "      <td>S003</td>\n",
       "      <td>69</td>\n",
       "      <td>female</td>\n",
       "      <td>okay . there's a little boy and he's standing...</td>\n",
       "      <td>29</td>\n",
       "      <td>cc</td>\n",
       "      <td>25.372913</td>\n",
       "    </tr>\n",
       "    <tr>\n",
       "      <th>3</th>\n",
       "      <td>3</td>\n",
       "      <td>S004</td>\n",
       "      <td>71</td>\n",
       "      <td>female</td>\n",
       "      <td>are you ready ? well the sink is overflowing ...</td>\n",
       "      <td>30</td>\n",
       "      <td>cc</td>\n",
       "      <td>23.448502</td>\n",
       "    </tr>\n",
       "    <tr>\n",
       "      <th>4</th>\n",
       "      <td>4</td>\n",
       "      <td>S005</td>\n",
       "      <td>74</td>\n",
       "      <td>female</td>\n",
       "      <td>okay . the mother's washing the dishes and th...</td>\n",
       "      <td>30</td>\n",
       "      <td>cc</td>\n",
       "      <td>26.735813</td>\n",
       "    </tr>\n",
       "  </tbody>\n",
       "</table>\n",
       "</div>"
      ],
      "text/plain": [
       "   Unnamed: 0    ID  Age    Gender  \\\n",
       "0           0  S001   74     male    \n",
       "1           1  S002   62   female    \n",
       "2           2  S003   69   female    \n",
       "3           3  S004   71   female    \n",
       "4           4  S005   74   female    \n",
       "\n",
       "                                                TEXT  MMSE Group    predict  \n",
       "0   well there's a mother standing there washing ...    30    cc  26.000910  \n",
       "1   somebody's getting cookies out_of the cookie ...    30    cc  28.357574  \n",
       "2   okay . there's a little boy and he's standing...    29    cc  25.372913  \n",
       "3   are you ready ? well the sink is overflowing ...    30    cc  23.448502  \n",
       "4   okay . the mother's washing the dishes and th...    30    cc  26.735813  "
      ]
     },
     "execution_count": 75,
     "metadata": {},
     "output_type": "execute_result"
    }
   ],
   "source": [
    "sc_reviews, sc_segments, sc_masks = np.split(bert_train, 3, axis=1)\n",
    "predict = model_reload.predict(sc_reviews.squeeze(), batch_size=64)\n",
    "filtered_merged_data['predict'] = [x[0] if x[0] <= 30 else 30 for x in predict]\n",
    "filtered_merged_data.head()"
   ]
  },
  {
   "cell_type": "code",
   "execution_count": 76,
   "metadata": {},
   "outputs": [
    {
     "data": {
      "text/plain": [
       "6.375482706226624"
      ]
     },
     "execution_count": 76,
     "metadata": {},
     "output_type": "execute_result"
    }
   ],
   "source": [
    "from sklearn.metrics import  mean_squared_error\n",
    "np.sqrt(mean_squared_error(filtered_merged_data['MMSE'], filtered_merged_data['predict']))"
   ]
  },
  {
   "cell_type": "code",
   "execution_count": 77,
   "metadata": {},
   "outputs": [],
   "source": [
    "pd.merge(filtered_merged_data, meta_smile[['ID', 'split']], on = ['ID'], how = 'left').\\\n",
    "    to_csv(path_or_buf = 'meta_bert.csv', index=True)"
   ]
  },
  {
   "cell_type": "code",
   "execution_count": 78,
   "metadata": {},
   "outputs": [
    {
     "data": {
      "image/png": "[encoded data removed]",
      "text/plain": [
       "<Figure size 1500x800 with 3 Axes>"
      ]
     },
     "metadata": {},
     "output_type": "display_data"
    },
    {
     "data": {
      "text/plain": [
       "<ggplot: (8777619853860)>"
      ]
     },
     "execution_count": 78,
     "metadata": {},
     "output_type": "execute_result"
    }
   ],
   "source": [
    "ggplot(pd.merge(filtered_merged_data, meta_smile[['ID', 'split']], on = ['ID'], how = 'left')) + \\\n",
    "geom_point(aes(x = 'MMSE', y = 'predict', colour = 'split')) + \\\n",
    "facet_wrap('split', nrow = 1) + \\\n",
    "geom_abline(aes(intercept = 0, slope = 1, lty = 2)) + \\\n",
    "geom_hline(aes(yintercept = 24, lty = 2)) + \\\n",
    "geom_vline(aes(xintercept = 24, lty = 2)) + \\\n",
    "theme(figure_size = (15, 8))"
   ]
  },
  {
   "cell_type": "code",
   "execution_count": null,
   "metadata": {},
   "outputs": [],
   "source": []
  }
 ],
 "metadata": {
  "accelerator": "GPU",
  "colab": {
   "collapsed_sections": [],
   "machine_shape": "hm",
   "name": "BERT-Transcription-text-training.ipynb",
   "provenance": []
  },
  "kernelspec": {
   "display_name": "Python 3",
   "language": "python",
   "name": "python3"
  },
  "language_info": {
   "codemirror_mode": {
    "name": "ipython",
    "version": 3
   },
   "file_extension": ".py",
   "mimetype": "text/x-python",
   "name": "python",
   "nbconvert_exporter": "python",
   "pygments_lexer": "ipython3",
   "version": "3.6.9"
  },
  "widgets": {
   "application/vnd.jupyter.widget-state+json": {
    "22bc9c121ffb48ee94a7a0b79a2a0608": {
     "model_module": "@jupyter-widgets/base",
     "model_name": "LayoutModel",
     "state": {
      "_model_module": "@jupyter-widgets/base",
      "_model_module_version": "1.2.0",
      "_model_name": "LayoutModel",
      "_view_count": null,
      "_view_module": "@jupyter-widgets/base",
      "_view_module_version": "1.2.0",
      "_view_name": "LayoutView",
      "align_content": null,
      "align_items": null,
      "align_self": null,
      "border": null,
      "bottom": null,
      "display": null,
      "flex": null,
      "flex_flow": null,
      "grid_area": null,
      "grid_auto_columns": null,
      "grid_auto_flow": null,
      "grid_auto_rows": null,
      "grid_column": null,
      "grid_gap": null,
      "grid_row": null,
      "grid_template_areas": null,
      "grid_template_columns": null,
      "grid_template_rows": null,
      "height": null,
      "justify_content": null,
      "justify_items": null,
      "left": null,
      "margin": null,
      "max_height": null,
      "max_width": null,
      "min_height": null,
      "min_width": null,
      "object_fit": null,
      "object_position": null,
      "order": null,
      "overflow": null,
      "overflow_x": null,
      "overflow_y": null,
      "padding": null,
      "right": null,
      "top": null,
      "visibility": null,
      "width": null
     }
    },
    "32b3685608794162b3d664d0bb2f0c4b": {
     "model_module": "@jupyter-widgets/controls",
     "model_name": "HBoxModel",
     "state": {
      "_dom_classes": [],
      "_model_module": "@jupyter-widgets/controls",
      "_model_module_version": "1.5.0",
      "_model_name": "HBoxModel",
      "_view_count": null,
      "_view_module": "@jupyter-widgets/controls",
      "_view_module_version": "1.5.0",
      "_view_name": "HBoxView",
      "box_style": "",
      "children": [
       "IPY_MODEL_e92bc291fa9c49e0b15d2197c66a09fb",
       "IPY_MODEL_dae38468598c45e9b3009fdfdf0fc9a7"
      ],
      "layout": "IPY_MODEL_22bc9c121ffb48ee94a7a0b79a2a0608"
     }
    },
    "351e376422ba46d2bd4867c8cb0b6eea": {
     "model_module": "@jupyter-widgets/controls",
     "model_name": "DescriptionStyleModel",
     "state": {
      "_model_module": "@jupyter-widgets/controls",
      "_model_module_version": "1.5.0",
      "_model_name": "DescriptionStyleModel",
      "_view_count": null,
      "_view_module": "@jupyter-widgets/base",
      "_view_module_version": "1.2.0",
      "_view_name": "StyleView",
      "description_width": ""
     }
    },
    "65dab205820a4a03907a2515516f4215": {
     "model_module": "@jupyter-widgets/base",
     "model_name": "LayoutModel",
     "state": {
      "_model_module": "@jupyter-widgets/base",
      "_model_module_version": "1.2.0",
      "_model_name": "LayoutModel",
      "_view_count": null,
      "_view_module": "@jupyter-widgets/base",
      "_view_module_version": "1.2.0",
      "_view_name": "LayoutView",
      "align_content": null,
      "align_items": null,
      "align_self": null,
      "border": null,
      "bottom": null,
      "display": null,
      "flex": null,
      "flex_flow": null,
      "grid_area": null,
      "grid_auto_columns": null,
      "grid_auto_flow": null,
      "grid_auto_rows": null,
      "grid_column": null,
      "grid_gap": null,
      "grid_row": null,
      "grid_template_areas": null,
      "grid_template_columns": null,
      "grid_template_rows": null,
      "height": null,
      "justify_content": null,
      "justify_items": null,
      "left": null,
      "margin": null,
      "max_height": null,
      "max_width": null,
      "min_height": null,
      "min_width": null,
      "object_fit": null,
      "object_position": null,
      "order": null,
      "overflow": null,
      "overflow_x": null,
      "overflow_y": null,
      "padding": null,
      "right": null,
      "top": null,
      "visibility": null,
      "width": null
     }
    },
    "7809b893f2084653b0df083b23f146ff": {
     "model_module": "@jupyter-widgets/base",
     "model_name": "LayoutModel",
     "state": {
      "_model_module": "@jupyter-widgets/base",
      "_model_module_version": "1.2.0",
      "_model_name": "LayoutModel",
      "_view_count": null,
      "_view_module": "@jupyter-widgets/base",
      "_view_module_version": "1.2.0",
      "_view_name": "LayoutView",
      "align_content": null,
      "align_items": null,
      "align_self": null,
      "border": null,
      "bottom": null,
      "display": null,
      "flex": null,
      "flex_flow": null,
      "grid_area": null,
      "grid_auto_columns": null,
      "grid_auto_flow": null,
      "grid_auto_rows": null,
      "grid_column": null,
      "grid_gap": null,
      "grid_row": null,
      "grid_template_areas": null,
      "grid_template_columns": null,
      "grid_template_rows": null,
      "height": null,
      "justify_content": null,
      "justify_items": null,
      "left": null,
      "margin": null,
      "max_height": null,
      "max_width": null,
      "min_height": null,
      "min_width": null,
      "object_fit": null,
      "object_position": null,
      "order": null,
      "overflow": null,
      "overflow_x": null,
      "overflow_y": null,
      "padding": null,
      "right": null,
      "top": null,
      "visibility": null,
      "width": null
     }
    },
    "b6c8487cf9604eb2a4c1870da9f4aff4": {
     "model_module": "@jupyter-widgets/controls",
     "model_name": "ProgressStyleModel",
     "state": {
      "_model_module": "@jupyter-widgets/controls",
      "_model_module_version": "1.5.0",
      "_model_name": "ProgressStyleModel",
      "_view_count": null,
      "_view_module": "@jupyter-widgets/base",
      "_view_module_version": "1.2.0",
      "_view_name": "StyleView",
      "bar_color": null,
      "description_width": "initial"
     }
    },
    "dae38468598c45e9b3009fdfdf0fc9a7": {
     "model_module": "@jupyter-widgets/controls",
     "model_name": "HTMLModel",
     "state": {
      "_dom_classes": [],
      "_model_module": "@jupyter-widgets/controls",
      "_model_module_version": "1.5.0",
      "_model_name": "HTMLModel",
      "_view_count": null,
      "_view_module": "@jupyter-widgets/controls",
      "_view_module_version": "1.5.0",
      "_view_name": "HTMLView",
      "description": "",
      "description_tooltip": null,
      "layout": "IPY_MODEL_7809b893f2084653b0df083b23f146ff",
      "placeholder": "​",
      "style": "IPY_MODEL_351e376422ba46d2bd4867c8cb0b6eea",
      "value": " 232k/232k [00:00&lt;00:00, 793kB/s]"
     }
    },
    "e92bc291fa9c49e0b15d2197c66a09fb": {
     "model_module": "@jupyter-widgets/controls",
     "model_name": "FloatProgressModel",
     "state": {
      "_dom_classes": [],
      "_model_module": "@jupyter-widgets/controls",
      "_model_module_version": "1.5.0",
      "_model_name": "FloatProgressModel",
      "_view_count": null,
      "_view_module": "@jupyter-widgets/controls",
      "_view_module_version": "1.5.0",
      "_view_name": "ProgressView",
      "bar_style": "success",
      "description": "Downloading: 100%",
      "description_tooltip": null,
      "layout": "IPY_MODEL_65dab205820a4a03907a2515516f4215",
      "max": 231508,
      "min": 0,
      "orientation": "horizontal",
      "style": "IPY_MODEL_b6c8487cf9604eb2a4c1870da9f4aff4",
      "value": 231508
     }
    }
   }
  }
 },
 "nbformat": 4,
 "nbformat_minor": 1
}
