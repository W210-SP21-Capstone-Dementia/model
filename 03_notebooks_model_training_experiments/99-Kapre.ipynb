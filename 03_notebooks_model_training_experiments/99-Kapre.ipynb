{
 "cells": [
  {
   "cell_type": "code",
   "execution_count": 1,
   "metadata": {},
   "outputs": [],
   "source": [
    "import tensorflow as tf\n",
    "from tensorflow.keras.layers.experimental import preprocessing\n",
    "from tensorflow.keras import layers\n",
    "from tensorflow.keras import models\n",
    "import pathlib\n",
    "import os\n",
    "import numpy as np\n",
    "import pandas as pd\n",
    "import time\n",
    "import matplotlib.pyplot as plt\n",
    "from plotnine import *\n",
    "import seaborn as sn\n",
    "from kapre import STFT, Magnitude, MagnitudeToDecibel\n",
    "from kapre.composed import get_melspectrogram_layer, get_log_frequency_spectrogram_layer\n",
    "\n",
    "%matplotlib inline\n",
    "\n",
    "seed = 30\n",
    "tf.random.set_seed(seed)\n",
    "gpus = tf.config.list_physical_devices('GPU')"
   ]
  },
  {
   "cell_type": "code",
   "execution_count": 2,
   "metadata": {},
   "outputs": [],
   "source": [
    "## need this if training on GPU\n",
    "## tensorflow, get your shit together\n",
    "\n",
    "if len(gpus)>0:\n",
    "\n",
    "    from tensorflow.compat.v1 import ConfigProto\n",
    "    from tensorflow.compat.v1 import InteractiveSession\n",
    "\n",
    "    config = ConfigProto()\n",
    "    config.gpu_options.allow_growth = True\n",
    "    session = InteractiveSession(config=config)"
   ]
  },
  {
   "cell_type": "code",
   "execution_count": 3,
   "metadata": {},
   "outputs": [],
   "source": [
    "data_path = '/tf/data/ADReSS-IS2020'\n",
    "\n",
    "filenames = tf.random.shuffle(tf.io.gfile.glob(data_path + '/Full_wave_enhanced_audio/*/*'))\n",
    "\n",
    "train_cutoff = int(len(filenames)*0.7)\n",
    "val_cutoff = int(len(filenames)*0.85)\n",
    "\n",
    "train_files = filenames[:train_cutoff]\n",
    "val_files = filenames[train_cutoff:val_cutoff]\n",
    "test_files = filenames[val_cutoff:]"
   ]
  },
  {
   "cell_type": "code",
   "execution_count": 4,
   "metadata": {},
   "outputs": [],
   "source": [
    "meta_cc = pd.read_csv(data_path + '/cc_meta_data.txt', sep=\";\", header=0, \n",
    "                  names = ['ID', 'Age', 'Gender', 'MMSE'])\n",
    "meta_cd = pd.read_csv(data_path + '/cd_meta_data.txt', sep=\";\", header=0, \n",
    "                      names = ['ID', 'Age', 'Gender', 'MMSE'])\n",
    "\n",
    "meta = meta_cc.assign(Group = 'cc').append(meta_cd.assign(Group = 'cd')).reset_index()\n",
    "meta.MMSE = pd.to_numeric(meta.MMSE.replace(' NA', 30))"
   ]
  },
  {
   "cell_type": "code",
   "execution_count": 5,
   "metadata": {},
   "outputs": [],
   "source": [
    "AUTOTUNE = tf.data.AUTOTUNE"
   ]
  },
  {
   "cell_type": "code",
   "execution_count": 6,
   "metadata": {},
   "outputs": [],
   "source": [
    "def window(x, size, stride):\n",
    "    length = int(len(x))\n",
    "    if length // size == 0:\n",
    "        zero_padding =  tf.zeros([size] - tf.shape(x), dtype=tf.float32)\n",
    "        x = tf.cast(x, tf.float32)\n",
    "        x = tf.concat([x, zero_padding], 0)\n",
    "        length = int(len(x))\n",
    "    return tf.map_fn(lambda i: x[i*stride:i*stride+size], tf.range((length-size)//stride+1), dtype=tf.float32)\n",
    "\n",
    "def get_data(file_path):\n",
    "\n",
    "    names = meta.ID\n",
    "    name = tf.strings.split(tf.strings.split(file_path, os.path.sep)[-1], '.')[0] + ' '\n",
    "    label = tf.gather(meta.MMSE, tf.where(tf.equal(names, name))[0][0])\n",
    "    \n",
    "    audio_binary = tf.io.read_file(file_path)\n",
    "    audio, _ = tf.audio.decode_wav(audio_binary)\n",
    "    waveform = tf.squeeze(audio, axis=-1)\n",
    "        \n",
    "    rolling_waveform_tensors = window(waveform, size=_*size_sec, stride=_*stride_sec)\n",
    "\n",
    "    return rolling_waveform_tensors, label"
   ]
  },
  {
   "cell_type": "code",
   "execution_count": 7,
   "metadata": {},
   "outputs": [],
   "source": [
    "def preprocess_dataset(files):\n",
    "    files_ds = tf.data.Dataset.from_tensor_slices(files)\n",
    "    output_ds = files_ds.map(get_data, num_parallel_calls=AUTOTUNE)\\\n",
    "                        .cache()\\\n",
    "                        .prefetch(100)\\\n",
    "                        .flat_map(lambda x,y: tf.data.Dataset.zip((\n",
    "                                    tf.data.Dataset.from_tensor_slices(x), \n",
    "                                    tf.data.Dataset.from_tensor_slices([y])\n",
    "                        )))\\\n",
    "                        .shuffle(100)\n",
    "    return output_ds"
   ]
  },
  {
   "cell_type": "code",
   "execution_count": 8,
   "metadata": {},
   "outputs": [],
   "source": [
    "size_sec = 30\n",
    "stride_sec = 1"
   ]
  },
  {
   "cell_type": "code",
   "execution_count": 9,
   "metadata": {},
   "outputs": [
    {
     "name": "stdout",
     "output_type": "stream",
     "text": [
      "WARNING:tensorflow:From /usr/local/lib/python3.6/dist-packages/tensorflow/python/util/deprecation.py:605: calling map_fn_v2 (from tensorflow.python.ops.map_fn) with dtype is deprecated and will be removed in a future version.\n",
      "Instructions for updating:\n",
      "Use fn_output_signature instead\n"
     ]
    }
   ],
   "source": [
    "train_ds = preprocess_dataset(train_files)\n",
    "val_ds = preprocess_dataset(val_files)\n",
    "test_ds = preprocess_dataset(test_files)"
   ]
  },
  {
   "cell_type": "code",
   "execution_count": 10,
   "metadata": {
    "scrolled": true
   },
   "outputs": [
    {
     "name": "stdout",
     "output_type": "stream",
     "text": [
      "(1323000,)\n",
      "tf.Tensor(28, shape=(), dtype=int64)\n"
     ]
    }
   ],
   "source": [
    "for spectrogram, y in train_ds.take(1):\n",
    "    input_shape = spectrogram.shape\n",
    "    print(input_shape)\n",
    "    print(y)\n"
   ]
  },
  {
   "cell_type": "code",
   "execution_count": 11,
   "metadata": {},
   "outputs": [],
   "source": [
    "batch_size = 32\n",
    "train_ds_b = train_ds.batch(batch_size)\n",
    "val_ds_b = val_ds.batch(batch_size)"
   ]
  },
  {
   "cell_type": "code",
   "execution_count": 12,
   "metadata": {},
   "outputs": [
    {
     "name": "stdout",
     "output_type": "stream",
     "text": [
      "Input shape: (1323000,)\n",
      "Model: \"sequential\"\n",
      "_________________________________________________________________\n",
      "Layer (type)                 Output Shape              Param #   \n",
      "=================================================================\n",
      "stft (STFT)                  (None, 1291, 1025, 1)     0         \n",
      "_________________________________________________________________\n",
      "magnitude (Magnitude)        (None, 1291, 1025, 1)     0         \n",
      "_________________________________________________________________\n",
      "magnitude_to_decibel (Magnit (None, 1291, 1025, 1)     0         \n",
      "_________________________________________________________________\n",
      "reshape (Reshape)            (None, 1291, 1025)        0         \n",
      "_________________________________________________________________\n",
      "batch_normalization (BatchNo (None, 1291, 1025)        4100      \n",
      "_________________________________________________________________\n",
      "dense (Dense)                (None, 1291, 256)         262656    \n",
      "_________________________________________________________________\n",
      "dropout (Dropout)            (None, 1291, 256)         0         \n",
      "_________________________________________________________________\n",
      "lstm (LSTM)                  (None, 1291, 128)         197120    \n",
      "_________________________________________________________________\n",
      "dropout_1 (Dropout)          (None, 1291, 128)         0         \n",
      "_________________________________________________________________\n",
      "lstm_1 (LSTM)                (None, 64)                49408     \n",
      "_________________________________________________________________\n",
      "dropout_2 (Dropout)          (None, 64)                0         \n",
      "_________________________________________________________________\n",
      "dense_1 (Dense)              (None, 32)                2080      \n",
      "_________________________________________________________________\n",
      "dropout_3 (Dropout)          (None, 32)                0         \n",
      "_________________________________________________________________\n",
      "dense_2 (Dense)              (None, 1)                 33        \n",
      "=================================================================\n",
      "Total params: 515,397\n",
      "Trainable params: 513,347\n",
      "Non-trainable params: 2,050\n",
      "_________________________________________________________________\n"
     ]
    }
   ],
   "source": [
    "print('Input shape:', input_shape)\n",
    "\n",
    "model = models.Sequential([\n",
    "    STFT(n_fft=2048, win_length=2018, hop_length=1024,\n",
    "               window_name=None, pad_end=False,\n",
    "               input_data_format='channels_last', \n",
    "               output_data_format='channels_last',\n",
    "               input_shape=(1323000,1)),\n",
    "    Magnitude(),\n",
    "    MagnitudeToDecibel(),\n",
    "    layers.Reshape((1291,1025)),\n",
    "    layers.BatchNormalization(),\n",
    "    layers.Dense(256,  activation='relu', kernel_initializer='he_normal'),\n",
    "    layers.Dropout(0.25),\n",
    "    layers.LSTM(128, \n",
    "                activation='tanh', \n",
    "                recurrent_activation='sigmoid', \n",
    "                recurrent_dropout=0,\n",
    "                unroll=False,\n",
    "                use_bias=True,\n",
    "                kernel_initializer='he_normal', \n",
    "                return_sequences=True),\n",
    "    layers.Dropout(0.25),\n",
    "    layers.LSTM(64,\n",
    "                activation='tanh', \n",
    "                recurrent_activation='sigmoid', \n",
    "                recurrent_dropout=0,\n",
    "                unroll=False,\n",
    "                use_bias=True,\n",
    "                kernel_initializer='he_normal'),\n",
    "    layers.Dropout(0.25),\n",
    "    layers.Dense(32, activation='relu', kernel_initializer='he_normal'),\n",
    "    layers.Dropout(0.25),\n",
    "    layers.Dense(1)\n",
    "])\n",
    "\n",
    "model.summary()"
   ]
  },
  {
   "cell_type": "code",
   "execution_count": 13,
   "metadata": {},
   "outputs": [],
   "source": [
    "callback = tf.keras.callbacks.EarlyStopping(monitor='val_loss', patience=200)\n",
    "\n",
    "model.compile(\n",
    "    optimizer=tf.keras.optimizers.Adam(learning_rate=0.001, clipnorm=1.0),\n",
    "    loss='mse',\n",
    "    metrics='mse'\n",
    ")"
   ]
  },
  {
   "cell_type": "code",
   "execution_count": 14,
   "metadata": {
    "scrolled": true
   },
   "outputs": [
    {
     "name": "stdout",
     "output_type": "stream",
     "text": [
      "Epoch 1/10000\n",
      "3/3 [==============================] - 5s 867ms/step - loss: 596.7336 - mse: 596.7336 - val_loss: 569.1003 - val_mse: 569.1003\n",
      "Epoch 2/10000\n",
      "3/3 [==============================] - 1s 211ms/step - loss: 550.5321 - mse: 550.5321 - val_loss: 541.9237 - val_mse: 541.9237\n",
      "Epoch 3/10000\n",
      "3/3 [==============================] - 1s 213ms/step - loss: 538.1422 - mse: 538.1422 - val_loss: 513.1115 - val_mse: 513.1115\n",
      "Epoch 4/10000\n",
      "3/3 [==============================] - 1s 215ms/step - loss: 521.7508 - mse: 521.7508 - val_loss: 483.2199 - val_mse: 483.2199\n",
      "Epoch 5/10000\n",
      "3/3 [==============================] - 1s 200ms/step - loss: 481.1594 - mse: 481.1594 - val_loss: 460.8921 - val_mse: 460.8921\n",
      "Epoch 6/10000\n",
      "3/3 [==============================] - 1s 209ms/step - loss: 453.8316 - mse: 453.8316 - val_loss: 424.5221 - val_mse: 424.5221\n",
      "Epoch 7/10000\n",
      "3/3 [==============================] - 1s 207ms/step - loss: 414.0198 - mse: 414.0198 - val_loss: 394.4042 - val_mse: 394.4042\n",
      "Epoch 8/10000\n",
      "3/3 [==============================] - 1s 201ms/step - loss: 380.4461 - mse: 380.4461 - val_loss: 366.9442 - val_mse: 366.9442\n",
      "Epoch 9/10000\n",
      "3/3 [==============================] - 1s 205ms/step - loss: 370.8492 - mse: 370.8492 - val_loss: 340.4041 - val_mse: 340.4041\n",
      "Epoch 10/10000\n",
      "3/3 [==============================] - 1s 211ms/step - loss: 345.8703 - mse: 345.8703 - val_loss: 316.7161 - val_mse: 316.7161\n",
      "Epoch 11/10000\n",
      "3/3 [==============================] - 1s 251ms/step - loss: 332.9176 - mse: 332.9176 - val_loss: 293.2337 - val_mse: 293.2337\n",
      "Epoch 12/10000\n",
      "3/3 [==============================] - 1s 214ms/step - loss: 320.0026 - mse: 320.0026 - val_loss: 272.7605 - val_mse: 272.7605\n",
      "Epoch 13/10000\n",
      "3/3 [==============================] - 1s 205ms/step - loss: 301.7611 - mse: 301.7611 - val_loss: 253.7453 - val_mse: 253.7453\n",
      "Epoch 14/10000\n",
      "3/3 [==============================] - 1s 208ms/step - loss: 299.8933 - mse: 299.8933 - val_loss: 237.0404 - val_mse: 237.0404\n",
      "Epoch 15/10000\n",
      "3/3 [==============================] - 1s 212ms/step - loss: 233.2691 - mse: 233.2691 - val_loss: 221.3036 - val_mse: 221.3036\n",
      "Epoch 16/10000\n",
      "3/3 [==============================] - 1s 206ms/step - loss: 262.5257 - mse: 262.5257 - val_loss: 206.4708 - val_mse: 206.4708\n",
      "Epoch 17/10000\n",
      "3/3 [==============================] - 1s 219ms/step - loss: 210.8775 - mse: 210.8775 - val_loss: 192.0221 - val_mse: 192.0221\n",
      "Epoch 18/10000\n",
      "3/3 [==============================] - 1s 210ms/step - loss: 208.3612 - mse: 208.3612 - val_loss: 177.9468 - val_mse: 177.9468\n",
      "Epoch 19/10000\n",
      "3/3 [==============================] - 1s 210ms/step - loss: 200.5873 - mse: 200.5873 - val_loss: 164.6577 - val_mse: 164.6577\n",
      "Epoch 20/10000\n",
      "3/3 [==============================] - 1s 207ms/step - loss: 175.0314 - mse: 175.0314 - val_loss: 151.6261 - val_mse: 151.6261\n",
      "Epoch 21/10000\n",
      "3/3 [==============================] - 1s 212ms/step - loss: 150.8951 - mse: 150.8951 - val_loss: 139.3251 - val_mse: 139.3251\n",
      "Epoch 22/10000\n",
      "3/3 [==============================] - 1s 214ms/step - loss: 151.2321 - mse: 151.2321 - val_loss: 127.5741 - val_mse: 127.5741\n",
      "Epoch 23/10000\n",
      "3/3 [==============================] - 1s 204ms/step - loss: 144.3054 - mse: 144.3054 - val_loss: 116.4185 - val_mse: 116.4185\n",
      "Epoch 24/10000\n",
      "3/3 [==============================] - 1s 207ms/step - loss: 132.5990 - mse: 132.5990 - val_loss: 105.9090 - val_mse: 105.9090\n",
      "Epoch 25/10000\n",
      "3/3 [==============================] - 1s 194ms/step - loss: 143.3888 - mse: 143.3888 - val_loss: 95.9613 - val_mse: 95.9613\n",
      "Epoch 26/10000\n",
      "3/3 [==============================] - 1s 200ms/step - loss: 112.4001 - mse: 112.4001 - val_loss: 86.6488 - val_mse: 86.6488\n",
      "Epoch 27/10000\n",
      "3/3 [==============================] - 1s 210ms/step - loss: 134.8183 - mse: 134.8183 - val_loss: 78.2357 - val_mse: 78.2357\n",
      "Epoch 28/10000\n",
      "3/3 [==============================] - 1s 216ms/step - loss: 105.9501 - mse: 105.9501 - val_loss: 70.8903 - val_mse: 70.8903\n",
      "Epoch 29/10000\n",
      "3/3 [==============================] - 1s 203ms/step - loss: 118.2499 - mse: 118.2499 - val_loss: 64.7766 - val_mse: 64.7766\n",
      "Epoch 30/10000\n",
      "3/3 [==============================] - 1s 202ms/step - loss: 86.4885 - mse: 86.4885 - val_loss: 59.2100 - val_mse: 59.2100\n",
      "Epoch 31/10000\n",
      "3/3 [==============================] - 1s 209ms/step - loss: 100.8392 - mse: 100.8392 - val_loss: 54.3273 - val_mse: 54.3273\n",
      "Epoch 32/10000\n",
      "3/3 [==============================] - 1s 209ms/step - loss: 98.3877 - mse: 98.3877 - val_loss: 50.2943 - val_mse: 50.2943\n",
      "Epoch 33/10000\n",
      "3/3 [==============================] - 1s 204ms/step - loss: 91.4324 - mse: 91.4324 - val_loss: 47.2095 - val_mse: 47.2095\n",
      "Epoch 34/10000\n",
      "3/3 [==============================] - 1s 249ms/step - loss: 65.6801 - mse: 65.6801 - val_loss: 45.2088 - val_mse: 45.2088\n",
      "Epoch 35/10000\n",
      "3/3 [==============================] - 1s 214ms/step - loss: 72.0405 - mse: 72.0405 - val_loss: 43.9072 - val_mse: 43.9072\n",
      "Epoch 36/10000\n",
      "3/3 [==============================] - 1s 206ms/step - loss: 91.6081 - mse: 91.6081 - val_loss: 43.1003 - val_mse: 43.1003\n",
      "Epoch 37/10000\n",
      "3/3 [==============================] - 1s 215ms/step - loss: 74.1015 - mse: 74.1015 - val_loss: 42.8119 - val_mse: 42.8119\n",
      "Epoch 38/10000\n",
      "3/3 [==============================] - 1s 216ms/step - loss: 80.0982 - mse: 80.0982 - val_loss: 42.7176 - val_mse: 42.7176\n",
      "Epoch 39/10000\n",
      "3/3 [==============================] - 1s 206ms/step - loss: 81.3021 - mse: 81.3021 - val_loss: 42.6824 - val_mse: 42.6824\n",
      "Epoch 40/10000\n",
      "3/3 [==============================] - 1s 211ms/step - loss: 73.2395 - mse: 73.2395 - val_loss: 42.6830 - val_mse: 42.6830\n",
      "Epoch 41/10000\n",
      "3/3 [==============================] - 1s 208ms/step - loss: 74.2372 - mse: 74.2372 - val_loss: 42.7058 - val_mse: 42.7058\n",
      "Epoch 42/10000\n",
      "3/3 [==============================] - 1s 207ms/step - loss: 72.2416 - mse: 72.2416 - val_loss: 42.7442 - val_mse: 42.7442\n",
      "Epoch 43/10000\n",
      "3/3 [==============================] - 1s 209ms/step - loss: 94.2304 - mse: 94.2304 - val_loss: 42.7621 - val_mse: 42.7621\n",
      "Epoch 44/10000\n",
      "3/3 [==============================] - 1s 212ms/step - loss: 71.3580 - mse: 71.3580 - val_loss: 42.8058 - val_mse: 42.8058\n",
      "Epoch 45/10000\n",
      "3/3 [==============================] - 1s 206ms/step - loss: 74.3404 - mse: 74.3404 - val_loss: 42.9053 - val_mse: 42.9053\n",
      "Epoch 46/10000\n",
      "3/3 [==============================] - 1s 209ms/step - loss: 93.4020 - mse: 93.4020 - val_loss: 42.9773 - val_mse: 42.9773\n",
      "Epoch 47/10000\n",
      "3/3 [==============================] - 1s 210ms/step - loss: 74.7209 - mse: 74.7209 - val_loss: 43.0779 - val_mse: 43.0779\n",
      "Epoch 48/10000\n",
      "3/3 [==============================] - 1s 204ms/step - loss: 57.8470 - mse: 57.8470 - val_loss: 43.1146 - val_mse: 43.1146\n",
      "Epoch 49/10000\n",
      "3/3 [==============================] - 1s 211ms/step - loss: 81.4865 - mse: 81.4865 - val_loss: 43.1530 - val_mse: 43.1530\n",
      "Epoch 50/10000\n",
      "3/3 [==============================] - 1s 223ms/step - loss: 83.3695 - mse: 83.3695 - val_loss: 43.2723 - val_mse: 43.2723\n",
      "Epoch 51/10000\n",
      "3/3 [==============================] - 1s 212ms/step - loss: 104.1156 - mse: 104.1156 - val_loss: 43.3555 - val_mse: 43.3555\n",
      "Epoch 52/10000\n",
      "3/3 [==============================] - 1s 213ms/step - loss: 71.3238 - mse: 71.3238 - val_loss: 43.4338 - val_mse: 43.4338\n",
      "Epoch 53/10000\n",
      "3/3 [==============================] - 1s 209ms/step - loss: 84.7661 - mse: 84.7661 - val_loss: 43.5966 - val_mse: 43.5966\n",
      "Epoch 54/10000\n",
      "3/3 [==============================] - 1s 202ms/step - loss: 81.3820 - mse: 81.3820 - val_loss: 43.7709 - val_mse: 43.7709\n",
      "Epoch 55/10000\n",
      "3/3 [==============================] - 1s 208ms/step - loss: 62.1428 - mse: 62.1428 - val_loss: 43.9162 - val_mse: 43.9162\n",
      "Epoch 56/10000\n",
      "3/3 [==============================] - 1s 213ms/step - loss: 84.8349 - mse: 84.8349 - val_loss: 43.9796 - val_mse: 43.9796\n",
      "Epoch 57/10000\n",
      "3/3 [==============================] - 1s 217ms/step - loss: 73.4552 - mse: 73.4552 - val_loss: 44.0210 - val_mse: 44.0210\n",
      "Epoch 58/10000\n",
      "3/3 [==============================] - 1s 214ms/step - loss: 67.7284 - mse: 67.7284 - val_loss: 43.9478 - val_mse: 43.9478\n",
      "Epoch 59/10000\n"
     ]
    },
    {
     "name": "stdout",
     "output_type": "stream",
     "text": [
      "3/3 [==============================] - 1s 212ms/step - loss: 83.2667 - mse: 83.2667 - val_loss: 43.8300 - val_mse: 43.8300\n",
      "Epoch 60/10000\n",
      "3/3 [==============================] - 1s 204ms/step - loss: 65.3315 - mse: 65.3315 - val_loss: 43.9832 - val_mse: 43.9832\n",
      "Epoch 61/10000\n",
      "3/3 [==============================] - 1s 199ms/step - loss: 90.6276 - mse: 90.6276 - val_loss: 44.2871 - val_mse: 44.2871\n",
      "Epoch 62/10000\n",
      "3/3 [==============================] - 1s 208ms/step - loss: 85.3062 - mse: 85.3062 - val_loss: 44.5762 - val_mse: 44.5762\n",
      "Epoch 63/10000\n",
      "3/3 [==============================] - 1s 212ms/step - loss: 85.4441 - mse: 85.4441 - val_loss: 44.9362 - val_mse: 44.9362\n",
      "Epoch 64/10000\n",
      "3/3 [==============================] - 1s 204ms/step - loss: 89.1386 - mse: 89.1386 - val_loss: 45.1276 - val_mse: 45.1276\n",
      "Epoch 65/10000\n",
      "3/3 [==============================] - 1s 210ms/step - loss: 76.3635 - mse: 76.3635 - val_loss: 44.8901 - val_mse: 44.8901\n",
      "Epoch 66/10000\n",
      "3/3 [==============================] - 1s 213ms/step - loss: 67.9861 - mse: 67.9861 - val_loss: 44.5970 - val_mse: 44.5970\n",
      "Epoch 67/10000\n",
      "3/3 [==============================] - 1s 216ms/step - loss: 76.0586 - mse: 76.0586 - val_loss: 44.1886 - val_mse: 44.1886\n",
      "Epoch 68/10000\n",
      "3/3 [==============================] - 1s 213ms/step - loss: 68.0598 - mse: 68.0598 - val_loss: 43.7798 - val_mse: 43.7798\n",
      "Epoch 69/10000\n",
      "3/3 [==============================] - 1s 205ms/step - loss: 83.9047 - mse: 83.9047 - val_loss: 43.5525 - val_mse: 43.5525\n",
      "Epoch 70/10000\n",
      "3/3 [==============================] - 1s 206ms/step - loss: 70.7261 - mse: 70.7261 - val_loss: 43.3271 - val_mse: 43.3271\n",
      "Epoch 71/10000\n",
      "3/3 [==============================] - 1s 212ms/step - loss: 76.2262 - mse: 76.2262 - val_loss: 43.3888 - val_mse: 43.3888\n",
      "Epoch 72/10000\n",
      "3/3 [==============================] - 1s 209ms/step - loss: 68.2565 - mse: 68.2565 - val_loss: 43.5524 - val_mse: 43.5524\n",
      "Epoch 73/10000\n",
      "3/3 [==============================] - 1s 258ms/step - loss: 89.6164 - mse: 89.6164 - val_loss: 43.5686 - val_mse: 43.5686\n",
      "Epoch 74/10000\n",
      "3/3 [==============================] - 1s 216ms/step - loss: 78.5946 - mse: 78.5946 - val_loss: 43.5656 - val_mse: 43.5656\n",
      "Epoch 75/10000\n",
      "3/3 [==============================] - 1s 209ms/step - loss: 84.5567 - mse: 84.5567 - val_loss: 43.6286 - val_mse: 43.6286\n",
      "Epoch 76/10000\n",
      "3/3 [==============================] - 1s 205ms/step - loss: 80.4874 - mse: 80.4874 - val_loss: 43.6189 - val_mse: 43.6189\n",
      "Epoch 77/10000\n",
      "3/3 [==============================] - 1s 206ms/step - loss: 66.9522 - mse: 66.9522 - val_loss: 43.7361 - val_mse: 43.7361\n",
      "Epoch 78/10000\n",
      "3/3 [==============================] - 1s 207ms/step - loss: 81.1060 - mse: 81.1060 - val_loss: 43.8671 - val_mse: 43.8671\n",
      "Epoch 79/10000\n",
      "3/3 [==============================] - 1s 212ms/step - loss: 87.0634 - mse: 87.0634 - val_loss: 43.9104 - val_mse: 43.9104\n",
      "Epoch 80/10000\n",
      "3/3 [==============================] - 1s 213ms/step - loss: 73.8799 - mse: 73.8799 - val_loss: 44.1073 - val_mse: 44.1073\n",
      "Epoch 81/10000\n",
      "3/3 [==============================] - 1s 208ms/step - loss: 68.9860 - mse: 68.9860 - val_loss: 44.3149 - val_mse: 44.3149\n",
      "Epoch 82/10000\n",
      "3/3 [==============================] - 1s 210ms/step - loss: 73.8413 - mse: 73.8413 - val_loss: 45.4028 - val_mse: 45.4028\n",
      "Epoch 83/10000\n",
      "3/3 [==============================] - 1s 202ms/step - loss: 75.9402 - mse: 75.9402 - val_loss: 46.4576 - val_mse: 46.4576\n",
      "Epoch 84/10000\n",
      "3/3 [==============================] - 1s 210ms/step - loss: 69.0374 - mse: 69.0374 - val_loss: 46.2339 - val_mse: 46.2339\n",
      "Epoch 85/10000\n",
      "3/3 [==============================] - 1s 210ms/step - loss: 78.6327 - mse: 78.6327 - val_loss: 45.5898 - val_mse: 45.5898\n",
      "Epoch 86/10000\n",
      "3/3 [==============================] - 1s 214ms/step - loss: 75.4843 - mse: 75.4843 - val_loss: 45.3182 - val_mse: 45.3182\n",
      "Epoch 87/10000\n",
      "3/3 [==============================] - 1s 213ms/step - loss: 74.5534 - mse: 74.5534 - val_loss: 45.0794 - val_mse: 45.0794\n",
      "Epoch 88/10000\n",
      "3/3 [==============================] - 1s 213ms/step - loss: 75.9417 - mse: 75.9417 - val_loss: 44.9471 - val_mse: 44.9471\n",
      "Epoch 89/10000\n",
      "3/3 [==============================] - 1s 214ms/step - loss: 86.5388 - mse: 86.5388 - val_loss: 45.2658 - val_mse: 45.2658\n",
      "Epoch 90/10000\n",
      "3/3 [==============================] - 1s 214ms/step - loss: 70.7086 - mse: 70.7086 - val_loss: 45.0585 - val_mse: 45.0585\n",
      "Epoch 91/10000\n",
      "3/3 [==============================] - 1s 211ms/step - loss: 60.7967 - mse: 60.7967 - val_loss: 44.6021 - val_mse: 44.6021\n",
      "Epoch 92/10000\n",
      "3/3 [==============================] - 1s 202ms/step - loss: 78.1665 - mse: 78.1665 - val_loss: 44.9400 - val_mse: 44.9400\n",
      "Epoch 93/10000\n",
      "3/3 [==============================] - 1s 217ms/step - loss: 76.3918 - mse: 76.3918 - val_loss: 45.0275 - val_mse: 45.0275\n",
      "Epoch 94/10000\n",
      "3/3 [==============================] - 1s 213ms/step - loss: 71.2085 - mse: 71.2085 - val_loss: 45.4877 - val_mse: 45.4877\n",
      "Epoch 95/10000\n",
      "3/3 [==============================] - 1s 205ms/step - loss: 87.4443 - mse: 87.4443 - val_loss: 47.0983 - val_mse: 47.0983\n",
      "Epoch 96/10000\n",
      "3/3 [==============================] - 1s 207ms/step - loss: 70.6072 - mse: 70.6072 - val_loss: 47.9847 - val_mse: 47.9847\n",
      "Epoch 97/10000\n",
      "3/3 [==============================] - 1s 204ms/step - loss: 80.9667 - mse: 80.9667 - val_loss: 47.9598 - val_mse: 47.9598\n",
      "Epoch 98/10000\n",
      "3/3 [==============================] - 1s 206ms/step - loss: 65.1078 - mse: 65.1078 - val_loss: 45.8783 - val_mse: 45.8783\n",
      "Epoch 99/10000\n",
      "3/3 [==============================] - 1s 206ms/step - loss: 71.8915 - mse: 71.8915 - val_loss: 44.5947 - val_mse: 44.5947\n",
      "Epoch 100/10000\n",
      "3/3 [==============================] - 1s 214ms/step - loss: 63.1700 - mse: 63.1700 - val_loss: 44.4138 - val_mse: 44.4138\n",
      "Epoch 101/10000\n",
      "3/3 [==============================] - 1s 209ms/step - loss: 66.7808 - mse: 66.7808 - val_loss: 47.2386 - val_mse: 47.2386\n",
      "Epoch 102/10000\n",
      "3/3 [==============================] - 1s 210ms/step - loss: 59.9407 - mse: 59.9407 - val_loss: 50.2421 - val_mse: 50.2421\n",
      "Epoch 103/10000\n",
      "3/3 [==============================] - 1s 214ms/step - loss: 63.2379 - mse: 63.2379 - val_loss: 51.2139 - val_mse: 51.2139\n",
      "Epoch 104/10000\n",
      "3/3 [==============================] - 1s 263ms/step - loss: 98.3526 - mse: 98.3526 - val_loss: 51.4452 - val_mse: 51.4452\n",
      "Epoch 105/10000\n",
      "3/3 [==============================] - 1s 214ms/step - loss: 66.9543 - mse: 66.9543 - val_loss: 50.1574 - val_mse: 50.1574\n",
      "Epoch 106/10000\n",
      "3/3 [==============================] - 1s 211ms/step - loss: 73.9217 - mse: 73.9217 - val_loss: 48.3591 - val_mse: 48.3591\n",
      "Epoch 107/10000\n",
      "3/3 [==============================] - 1s 218ms/step - loss: 74.2202 - mse: 74.2202 - val_loss: 46.4582 - val_mse: 46.4582\n",
      "Epoch 108/10000\n",
      "3/3 [==============================] - 1s 208ms/step - loss: 64.7663 - mse: 64.7663 - val_loss: 44.8877 - val_mse: 44.8877\n",
      "Epoch 109/10000\n",
      "3/3 [==============================] - 1s 205ms/step - loss: 55.0292 - mse: 55.0292 - val_loss: 42.4314 - val_mse: 42.4314\n",
      "Epoch 110/10000\n",
      "3/3 [==============================] - 1s 216ms/step - loss: 85.4306 - mse: 85.4306 - val_loss: 40.3854 - val_mse: 40.3854\n",
      "Epoch 111/10000\n",
      "3/3 [==============================] - 1s 206ms/step - loss: 62.2039 - mse: 62.2039 - val_loss: 41.1676 - val_mse: 41.1676\n",
      "Epoch 112/10000\n",
      "3/3 [==============================] - 1s 209ms/step - loss: 56.2822 - mse: 56.2822 - val_loss: 43.9640 - val_mse: 43.9640\n",
      "Epoch 113/10000\n",
      "3/3 [==============================] - 1s 213ms/step - loss: 63.8199 - mse: 63.8199 - val_loss: 47.2687 - val_mse: 47.2687\n",
      "Epoch 114/10000\n",
      "3/3 [==============================] - 1s 218ms/step - loss: 65.4560 - mse: 65.4560 - val_loss: 47.6643 - val_mse: 47.6643\n",
      "Epoch 115/10000\n",
      "3/3 [==============================] - 1s 228ms/step - loss: 50.0434 - mse: 50.0434 - val_loss: 49.3884 - val_mse: 49.3884\n",
      "Epoch 116/10000\n",
      "3/3 [==============================] - 1s 211ms/step - loss: 57.0631 - mse: 57.0631 - val_loss: 46.1252 - val_mse: 46.1252\n",
      "Epoch 117/10000\n",
      "3/3 [==============================] - 1s 207ms/step - loss: 62.4272 - mse: 62.4272 - val_loss: 46.5678 - val_mse: 46.5678\n",
      "Epoch 118/10000\n"
     ]
    },
    {
     "name": "stdout",
     "output_type": "stream",
     "text": [
      "3/3 [==============================] - 1s 202ms/step - loss: 58.7326 - mse: 58.7326 - val_loss: 45.2184 - val_mse: 45.2184\n",
      "Epoch 119/10000\n",
      "3/3 [==============================] - 1s 213ms/step - loss: 66.1664 - mse: 66.1664 - val_loss: 47.1868 - val_mse: 47.1868\n",
      "Epoch 120/10000\n",
      "3/3 [==============================] - 1s 210ms/step - loss: 56.1144 - mse: 56.1144 - val_loss: 49.7380 - val_mse: 49.7380\n",
      "Epoch 121/10000\n",
      "3/3 [==============================] - 1s 210ms/step - loss: 50.8415 - mse: 50.8415 - val_loss: 49.6490 - val_mse: 49.6490\n",
      "Epoch 122/10000\n",
      "3/3 [==============================] - 1s 211ms/step - loss: 54.6861 - mse: 54.6861 - val_loss: 50.4330 - val_mse: 50.4330\n",
      "Epoch 123/10000\n",
      "3/3 [==============================] - 1s 207ms/step - loss: 49.2890 - mse: 49.2890 - val_loss: 50.4914 - val_mse: 50.4914\n",
      "Epoch 124/10000\n",
      "3/3 [==============================] - 1s 217ms/step - loss: 56.6318 - mse: 56.6318 - val_loss: 48.9949 - val_mse: 48.9949\n",
      "Epoch 125/10000\n",
      "3/3 [==============================] - 1s 219ms/step - loss: 66.5970 - mse: 66.5970 - val_loss: 49.5412 - val_mse: 49.5412\n",
      "Epoch 126/10000\n",
      "3/3 [==============================] - 1s 214ms/step - loss: 58.0419 - mse: 58.0419 - val_loss: 50.2425 - val_mse: 50.2425\n",
      "Epoch 127/10000\n",
      "3/3 [==============================] - 1s 202ms/step - loss: 56.4705 - mse: 56.4705 - val_loss: 51.9022 - val_mse: 51.9022\n",
      "Epoch 128/10000\n",
      "3/3 [==============================] - 1s 219ms/step - loss: 55.0539 - mse: 55.0539 - val_loss: 56.5327 - val_mse: 56.5327\n",
      "Epoch 129/10000\n",
      "3/3 [==============================] - 1s 210ms/step - loss: 48.6239 - mse: 48.6239 - val_loss: 62.8097 - val_mse: 62.8097\n",
      "Epoch 130/10000\n",
      "3/3 [==============================] - 1s 254ms/step - loss: 57.5565 - mse: 57.5565 - val_loss: 59.5795 - val_mse: 59.5795\n",
      "Epoch 131/10000\n",
      "3/3 [==============================] - 1s 201ms/step - loss: 56.8081 - mse: 56.8081 - val_loss: 63.5037 - val_mse: 63.5037\n",
      "Epoch 132/10000\n",
      "3/3 [==============================] - 1s 210ms/step - loss: 46.5395 - mse: 46.5395 - val_loss: 62.7871 - val_mse: 62.7871\n",
      "Epoch 133/10000\n",
      "3/3 [==============================] - 1s 208ms/step - loss: 56.2853 - mse: 56.2853 - val_loss: 69.3113 - val_mse: 69.3113\n",
      "Epoch 134/10000\n",
      "3/3 [==============================] - 1s 205ms/step - loss: 41.7519 - mse: 41.7519 - val_loss: 56.2529 - val_mse: 56.2529\n",
      "Epoch 135/10000\n",
      "3/3 [==============================] - 1s 214ms/step - loss: 44.5492 - mse: 44.5492 - val_loss: 56.0823 - val_mse: 56.0823\n",
      "Epoch 136/10000\n",
      "3/3 [==============================] - 1s 205ms/step - loss: 48.4493 - mse: 48.4493 - val_loss: 65.1781 - val_mse: 65.1781\n",
      "Epoch 137/10000\n",
      "3/3 [==============================] - 1s 219ms/step - loss: 47.6633 - mse: 47.6633 - val_loss: 67.9874 - val_mse: 67.9874\n",
      "Epoch 138/10000\n",
      "3/3 [==============================] - 1s 204ms/step - loss: 35.7810 - mse: 35.7810 - val_loss: 74.4533 - val_mse: 74.4533\n",
      "Epoch 139/10000\n",
      "3/3 [==============================] - 1s 214ms/step - loss: 45.1422 - mse: 45.1422 - val_loss: 74.2328 - val_mse: 74.2328\n",
      "Epoch 140/10000\n",
      "3/3 [==============================] - 1s 211ms/step - loss: 36.3771 - mse: 36.3771 - val_loss: 78.2860 - val_mse: 78.2860\n",
      "Epoch 141/10000\n",
      "3/3 [==============================] - 1s 219ms/step - loss: 45.1350 - mse: 45.1350 - val_loss: 71.4835 - val_mse: 71.4835\n",
      "Epoch 142/10000\n",
      "3/3 [==============================] - 1s 218ms/step - loss: 46.8488 - mse: 46.8488 - val_loss: 58.4128 - val_mse: 58.4128\n",
      "Epoch 143/10000\n",
      "3/3 [==============================] - 1s 208ms/step - loss: 49.7622 - mse: 49.7622 - val_loss: 49.3022 - val_mse: 49.3022\n",
      "Epoch 144/10000\n",
      "3/3 [==============================] - 1s 212ms/step - loss: 42.4599 - mse: 42.4599 - val_loss: 55.4660 - val_mse: 55.4660\n",
      "Epoch 145/10000\n",
      "3/3 [==============================] - 1s 222ms/step - loss: 51.2590 - mse: 51.2590 - val_loss: 54.9555 - val_mse: 54.9555\n",
      "Epoch 146/10000\n",
      "3/3 [==============================] - 1s 218ms/step - loss: 46.5862 - mse: 46.5862 - val_loss: 60.1904 - val_mse: 60.1904\n",
      "Epoch 147/10000\n",
      "3/3 [==============================] - 1s 213ms/step - loss: 44.1558 - mse: 44.1558 - val_loss: 71.8703 - val_mse: 71.8703\n",
      "Epoch 148/10000\n",
      "3/3 [==============================] - 1s 233ms/step - loss: 29.3004 - mse: 29.3004 - val_loss: 57.4360 - val_mse: 57.4360\n",
      "Epoch 149/10000\n",
      "3/3 [==============================] - 1s 217ms/step - loss: 50.2091 - mse: 50.2091 - val_loss: 71.5640 - val_mse: 71.5640\n",
      "Epoch 150/10000\n",
      "3/3 [==============================] - 1s 211ms/step - loss: 47.5714 - mse: 47.5714 - val_loss: 68.5145 - val_mse: 68.5145\n",
      "Epoch 151/10000\n",
      "3/3 [==============================] - 1s 211ms/step - loss: 30.3073 - mse: 30.3073 - val_loss: 63.6809 - val_mse: 63.6809\n",
      "Epoch 152/10000\n",
      "3/3 [==============================] - 1s 219ms/step - loss: 33.9843 - mse: 33.9843 - val_loss: 35.0620 - val_mse: 35.0620\n",
      "Epoch 153/10000\n",
      "3/3 [==============================] - 1s 272ms/step - loss: 32.2281 - mse: 32.2281 - val_loss: 34.1347 - val_mse: 34.1347\n",
      "Epoch 154/10000\n",
      "3/3 [==============================] - 1s 217ms/step - loss: 35.4960 - mse: 35.4960 - val_loss: 50.6758 - val_mse: 50.6758\n",
      "Epoch 155/10000\n",
      "3/3 [==============================] - 1s 217ms/step - loss: 29.4121 - mse: 29.4121 - val_loss: 72.4967 - val_mse: 72.4967\n",
      "Epoch 156/10000\n",
      "3/3 [==============================] - 1s 203ms/step - loss: 30.0912 - mse: 30.0912 - val_loss: 65.2245 - val_mse: 65.2245\n",
      "Epoch 157/10000\n",
      "3/3 [==============================] - 1s 202ms/step - loss: 37.8566 - mse: 37.8566 - val_loss: 50.5233 - val_mse: 50.5233\n",
      "Epoch 158/10000\n",
      "3/3 [==============================] - 1s 207ms/step - loss: 45.5872 - mse: 45.5872 - val_loss: 55.3874 - val_mse: 55.3874\n",
      "Epoch 159/10000\n",
      "3/3 [==============================] - 1s 213ms/step - loss: 25.8075 - mse: 25.8075 - val_loss: 46.9376 - val_mse: 46.9376\n",
      "Epoch 160/10000\n",
      "3/3 [==============================] - 1s 201ms/step - loss: 36.6371 - mse: 36.6371 - val_loss: 62.2366 - val_mse: 62.2366\n",
      "Epoch 161/10000\n",
      "3/3 [==============================] - 1s 218ms/step - loss: 32.4750 - mse: 32.4750 - val_loss: 74.1342 - val_mse: 74.1342\n",
      "Epoch 162/10000\n",
      "3/3 [==============================] - 1s 214ms/step - loss: 38.3610 - mse: 38.3610 - val_loss: 65.8355 - val_mse: 65.8355\n",
      "Epoch 163/10000\n",
      "3/3 [==============================] - 1s 216ms/step - loss: 37.8269 - mse: 37.8269 - val_loss: 77.0511 - val_mse: 77.0511\n",
      "Epoch 164/10000\n",
      "3/3 [==============================] - 1s 225ms/step - loss: 32.7880 - mse: 32.7880 - val_loss: 74.4766 - val_mse: 74.4766\n",
      "Epoch 165/10000\n",
      "3/3 [==============================] - 1s 217ms/step - loss: 30.2560 - mse: 30.2560 - val_loss: 64.8643 - val_mse: 64.8643\n",
      "Epoch 166/10000\n",
      "3/3 [==============================] - 1s 205ms/step - loss: 37.7162 - mse: 37.7162 - val_loss: 62.0842 - val_mse: 62.0842\n",
      "Epoch 167/10000\n",
      "3/3 [==============================] - 1s 216ms/step - loss: 31.3150 - mse: 31.3150 - val_loss: 68.3313 - val_mse: 68.3313\n",
      "Epoch 168/10000\n",
      "3/3 [==============================] - 1s 224ms/step - loss: 37.9219 - mse: 37.9219 - val_loss: 72.5250 - val_mse: 72.5250\n",
      "Epoch 169/10000\n",
      "3/3 [==============================] - 1s 210ms/step - loss: 41.6288 - mse: 41.6288 - val_loss: 90.4008 - val_mse: 90.4008\n",
      "Epoch 170/10000\n",
      "3/3 [==============================] - 1s 203ms/step - loss: 51.9952 - mse: 51.9952 - val_loss: 94.5034 - val_mse: 94.5034\n",
      "Epoch 171/10000\n",
      "3/3 [==============================] - 1s 207ms/step - loss: 31.7406 - mse: 31.7406 - val_loss: 71.1407 - val_mse: 71.1407\n",
      "Epoch 172/10000\n",
      "3/3 [==============================] - 1s 209ms/step - loss: 41.2717 - mse: 41.2717 - val_loss: 75.4783 - val_mse: 75.4783\n",
      "Epoch 173/10000\n",
      "3/3 [==============================] - 1s 217ms/step - loss: 26.9065 - mse: 26.9065 - val_loss: 89.1768 - val_mse: 89.1768\n",
      "Epoch 174/10000\n",
      "3/3 [==============================] - 1s 221ms/step - loss: 39.1027 - mse: 39.1027 - val_loss: 59.2891 - val_mse: 59.2891\n",
      "Epoch 175/10000\n",
      "3/3 [==============================] - 1s 204ms/step - loss: 45.7724 - mse: 45.7724 - val_loss: 58.0812 - val_mse: 58.0812\n",
      "Epoch 176/10000\n",
      "3/3 [==============================] - 1s 218ms/step - loss: 39.7399 - mse: 39.7399 - val_loss: 64.3598 - val_mse: 64.3598\n",
      "Epoch 177/10000\n"
     ]
    },
    {
     "name": "stdout",
     "output_type": "stream",
     "text": [
      "3/3 [==============================] - 1s 209ms/step - loss: 34.3498 - mse: 34.3498 - val_loss: 77.6836 - val_mse: 77.6836\n",
      "Epoch 178/10000\n",
      "3/3 [==============================] - 1s 211ms/step - loss: 36.2196 - mse: 36.2196 - val_loss: 68.9576 - val_mse: 68.9576\n",
      "Epoch 179/10000\n",
      "3/3 [==============================] - 1s 210ms/step - loss: 32.2196 - mse: 32.2196 - val_loss: 74.4578 - val_mse: 74.4578\n",
      "Epoch 180/10000\n",
      "3/3 [==============================] - 1s 204ms/step - loss: 39.9099 - mse: 39.9099 - val_loss: 67.0838 - val_mse: 67.0838\n",
      "Epoch 181/10000\n",
      "3/3 [==============================] - 1s 211ms/step - loss: 33.6162 - mse: 33.6162 - val_loss: 84.7024 - val_mse: 84.7024\n",
      "Epoch 182/10000\n",
      "3/3 [==============================] - 1s 208ms/step - loss: 28.8260 - mse: 28.8260 - val_loss: 63.2944 - val_mse: 63.2944\n",
      "Epoch 183/10000\n",
      "3/3 [==============================] - 1s 208ms/step - loss: 21.9081 - mse: 21.9081 - val_loss: 67.4240 - val_mse: 67.4240\n",
      "Epoch 184/10000\n",
      "3/3 [==============================] - 1s 219ms/step - loss: 25.9341 - mse: 25.9341 - val_loss: 70.3674 - val_mse: 70.3674\n",
      "Epoch 185/10000\n",
      "3/3 [==============================] - 1s 214ms/step - loss: 34.2983 - mse: 34.2983 - val_loss: 69.8074 - val_mse: 69.8074\n",
      "Epoch 186/10000\n",
      "3/3 [==============================] - 1s 220ms/step - loss: 42.7085 - mse: 42.7085 - val_loss: 70.2603 - val_mse: 70.2603\n",
      "Epoch 187/10000\n",
      "3/3 [==============================] - 1s 214ms/step - loss: 31.1877 - mse: 31.1877 - val_loss: 76.6892 - val_mse: 76.6892\n",
      "Epoch 188/10000\n",
      "3/3 [==============================] - 1s 219ms/step - loss: 48.3350 - mse: 48.3350 - val_loss: 73.2143 - val_mse: 73.2143\n",
      "Epoch 189/10000\n",
      "3/3 [==============================] - 1s 207ms/step - loss: 32.8790 - mse: 32.8790 - val_loss: 69.7001 - val_mse: 69.7001\n",
      "Epoch 190/10000\n",
      "3/3 [==============================] - 1s 211ms/step - loss: 32.2601 - mse: 32.2601 - val_loss: 62.1938 - val_mse: 62.1938\n",
      "Epoch 191/10000\n",
      "3/3 [==============================] - 1s 210ms/step - loss: 30.1430 - mse: 30.1430 - val_loss: 60.0408 - val_mse: 60.0408\n",
      "Epoch 192/10000\n",
      "3/3 [==============================] - 1s 246ms/step - loss: 41.6272 - mse: 41.6272 - val_loss: 79.6011 - val_mse: 79.6011\n",
      "Epoch 193/10000\n",
      "3/3 [==============================] - 1s 210ms/step - loss: 31.5141 - mse: 31.5141 - val_loss: 76.3687 - val_mse: 76.3687\n",
      "Epoch 194/10000\n",
      "3/3 [==============================] - 1s 211ms/step - loss: 39.1420 - mse: 39.1420 - val_loss: 66.0470 - val_mse: 66.0470\n",
      "Epoch 195/10000\n",
      "3/3 [==============================] - 1s 208ms/step - loss: 33.8783 - mse: 33.8783 - val_loss: 62.2604 - val_mse: 62.2604\n",
      "Epoch 196/10000\n",
      "3/3 [==============================] - 1s 214ms/step - loss: 37.2822 - mse: 37.2822 - val_loss: 81.4696 - val_mse: 81.4696\n",
      "Epoch 197/10000\n",
      "3/3 [==============================] - 1s 218ms/step - loss: 31.7050 - mse: 31.7050 - val_loss: 78.2209 - val_mse: 78.2209\n",
      "Epoch 198/10000\n",
      "3/3 [==============================] - 1s 211ms/step - loss: 33.0300 - mse: 33.0300 - val_loss: 64.2012 - val_mse: 64.2012\n",
      "Epoch 199/10000\n",
      "3/3 [==============================] - 1s 219ms/step - loss: 26.8325 - mse: 26.8325 - val_loss: 59.4726 - val_mse: 59.4726\n",
      "Epoch 200/10000\n",
      "3/3 [==============================] - 1s 217ms/step - loss: 30.0954 - mse: 30.0954 - val_loss: 45.3117 - val_mse: 45.3117\n",
      "Epoch 201/10000\n",
      "3/3 [==============================] - 1s 217ms/step - loss: 34.2979 - mse: 34.2979 - val_loss: 52.5166 - val_mse: 52.5166\n",
      "Epoch 202/10000\n",
      "3/3 [==============================] - 1s 203ms/step - loss: 44.9849 - mse: 44.9849 - val_loss: 50.2480 - val_mse: 50.2480\n",
      "Epoch 203/10000\n",
      "3/3 [==============================] - 1s 203ms/step - loss: 33.9024 - mse: 33.9024 - val_loss: 52.5481 - val_mse: 52.5481\n",
      "Epoch 204/10000\n",
      "3/3 [==============================] - 1s 218ms/step - loss: 33.6665 - mse: 33.6665 - val_loss: 57.6099 - val_mse: 57.6099\n",
      "Epoch 205/10000\n",
      "3/3 [==============================] - 1s 210ms/step - loss: 31.9814 - mse: 31.9814 - val_loss: 66.2812 - val_mse: 66.2812\n",
      "Epoch 206/10000\n",
      "3/3 [==============================] - 1s 215ms/step - loss: 28.0388 - mse: 28.0388 - val_loss: 83.5612 - val_mse: 83.5612\n",
      "Epoch 207/10000\n",
      "3/3 [==============================] - 1s 214ms/step - loss: 31.5648 - mse: 31.5648 - val_loss: 74.1883 - val_mse: 74.1883\n",
      "Epoch 208/10000\n",
      "3/3 [==============================] - 1s 214ms/step - loss: 45.4035 - mse: 45.4035 - val_loss: 69.3709 - val_mse: 69.3709\n",
      "Epoch 209/10000\n",
      "3/3 [==============================] - 1s 208ms/step - loss: 40.4289 - mse: 40.4289 - val_loss: 63.5220 - val_mse: 63.5220\n",
      "Epoch 210/10000\n",
      "3/3 [==============================] - 1s 214ms/step - loss: 36.0028 - mse: 36.0028 - val_loss: 50.0659 - val_mse: 50.0659\n",
      "Epoch 211/10000\n",
      "3/3 [==============================] - 1s 217ms/step - loss: 31.0755 - mse: 31.0755 - val_loss: 46.4550 - val_mse: 46.4550\n",
      "Epoch 212/10000\n",
      "3/3 [==============================] - 1s 211ms/step - loss: 37.1935 - mse: 37.1935 - val_loss: 46.7920 - val_mse: 46.7920\n",
      "Epoch 213/10000\n",
      "3/3 [==============================] - 1s 223ms/step - loss: 31.5653 - mse: 31.5653 - val_loss: 58.0747 - val_mse: 58.0747\n",
      "Epoch 214/10000\n",
      "3/3 [==============================] - 1s 220ms/step - loss: 39.9427 - mse: 39.9427 - val_loss: 63.3934 - val_mse: 63.3934\n",
      "Epoch 215/10000\n",
      "3/3 [==============================] - 1s 213ms/step - loss: 36.1082 - mse: 36.1082 - val_loss: 64.6325 - val_mse: 64.6325\n",
      "Epoch 216/10000\n",
      "3/3 [==============================] - 1s 204ms/step - loss: 36.2140 - mse: 36.2140 - val_loss: 66.8776 - val_mse: 66.8776\n",
      "Epoch 217/10000\n",
      "3/3 [==============================] - 1s 207ms/step - loss: 29.2560 - mse: 29.2560 - val_loss: 67.4994 - val_mse: 67.4994\n",
      "Epoch 218/10000\n",
      "3/3 [==============================] - 1s 201ms/step - loss: 28.1565 - mse: 28.1565 - val_loss: 53.2003 - val_mse: 53.2003\n",
      "Epoch 219/10000\n",
      "3/3 [==============================] - 1s 212ms/step - loss: 30.9179 - mse: 30.9179 - val_loss: 55.5229 - val_mse: 55.5229\n",
      "Epoch 220/10000\n",
      "3/3 [==============================] - 1s 219ms/step - loss: 24.8986 - mse: 24.8986 - val_loss: 52.5082 - val_mse: 52.5082\n",
      "Epoch 221/10000\n",
      "3/3 [==============================] - 1s 207ms/step - loss: 29.5327 - mse: 29.5327 - val_loss: 50.2232 - val_mse: 50.2232\n",
      "Epoch 222/10000\n",
      "3/3 [==============================] - 1s 207ms/step - loss: 37.2899 - mse: 37.2899 - val_loss: 63.0404 - val_mse: 63.0404\n",
      "Epoch 223/10000\n",
      "3/3 [==============================] - 1s 263ms/step - loss: 35.3579 - mse: 35.3579 - val_loss: 56.3274 - val_mse: 56.3274\n",
      "Epoch 224/10000\n",
      "3/3 [==============================] - 1s 213ms/step - loss: 22.3798 - mse: 22.3798 - val_loss: 58.5613 - val_mse: 58.5613\n",
      "Epoch 225/10000\n",
      "3/3 [==============================] - 1s 216ms/step - loss: 29.9856 - mse: 29.9856 - val_loss: 62.6577 - val_mse: 62.6577\n",
      "Epoch 226/10000\n",
      "3/3 [==============================] - 1s 215ms/step - loss: 31.4434 - mse: 31.4434 - val_loss: 64.7992 - val_mse: 64.7992\n",
      "Epoch 227/10000\n",
      "3/3 [==============================] - 1s 218ms/step - loss: 31.6195 - mse: 31.6195 - val_loss: 63.2071 - val_mse: 63.2071\n",
      "Epoch 228/10000\n",
      "3/3 [==============================] - 1s 210ms/step - loss: 35.0707 - mse: 35.0707 - val_loss: 68.9905 - val_mse: 68.9905\n",
      "Epoch 229/10000\n",
      "3/3 [==============================] - 1s 214ms/step - loss: 30.2124 - mse: 30.2124 - val_loss: 73.8428 - val_mse: 73.8428\n",
      "Epoch 230/10000\n",
      "3/3 [==============================] - 1s 223ms/step - loss: 31.7718 - mse: 31.7718 - val_loss: 69.9754 - val_mse: 69.9754\n",
      "Epoch 231/10000\n",
      "3/3 [==============================] - 1s 217ms/step - loss: 26.3548 - mse: 26.3548 - val_loss: 63.4207 - val_mse: 63.4207\n",
      "Epoch 232/10000\n",
      "3/3 [==============================] - 1s 210ms/step - loss: 33.0306 - mse: 33.0306 - val_loss: 68.4205 - val_mse: 68.4205\n",
      "Epoch 233/10000\n",
      "3/3 [==============================] - 1s 220ms/step - loss: 26.4238 - mse: 26.4238 - val_loss: 61.7363 - val_mse: 61.7363\n",
      "Epoch 234/10000\n",
      "3/3 [==============================] - 1s 214ms/step - loss: 28.0526 - mse: 28.0526 - val_loss: 55.4290 - val_mse: 55.4290\n",
      "Epoch 235/10000\n",
      "3/3 [==============================] - 1s 211ms/step - loss: 34.9403 - mse: 34.9403 - val_loss: 62.2402 - val_mse: 62.2402\n",
      "Epoch 236/10000\n"
     ]
    },
    {
     "name": "stdout",
     "output_type": "stream",
     "text": [
      "3/3 [==============================] - 1s 212ms/step - loss: 29.9990 - mse: 29.9990 - val_loss: 67.2080 - val_mse: 67.2080\n",
      "Epoch 237/10000\n",
      "3/3 [==============================] - 1s 220ms/step - loss: 27.2967 - mse: 27.2967 - val_loss: 78.5694 - val_mse: 78.5694\n",
      "Epoch 238/10000\n",
      "3/3 [==============================] - 1s 211ms/step - loss: 31.5623 - mse: 31.5623 - val_loss: 76.9303 - val_mse: 76.9303\n",
      "Epoch 239/10000\n",
      "3/3 [==============================] - 1s 215ms/step - loss: 18.9316 - mse: 18.9316 - val_loss: 86.4768 - val_mse: 86.4768\n",
      "Epoch 240/10000\n",
      "3/3 [==============================] - 1s 224ms/step - loss: 38.1550 - mse: 38.1550 - val_loss: 87.1693 - val_mse: 87.1693\n",
      "Epoch 241/10000\n",
      "3/3 [==============================] - 1s 212ms/step - loss: 30.2038 - mse: 30.2038 - val_loss: 80.3344 - val_mse: 80.3344\n",
      "Epoch 242/10000\n",
      "3/3 [==============================] - 1s 216ms/step - loss: 25.4910 - mse: 25.4910 - val_loss: 73.7595 - val_mse: 73.7595\n",
      "Epoch 243/10000\n",
      "3/3 [==============================] - 1s 217ms/step - loss: 23.4709 - mse: 23.4709 - val_loss: 78.4865 - val_mse: 78.4865\n",
      "Epoch 244/10000\n",
      "3/3 [==============================] - 1s 215ms/step - loss: 29.8498 - mse: 29.8498 - val_loss: 86.5139 - val_mse: 86.5139\n",
      "Epoch 245/10000\n",
      "3/3 [==============================] - 1s 212ms/step - loss: 22.7572 - mse: 22.7572 - val_loss: 83.6231 - val_mse: 83.6231\n",
      "Epoch 246/10000\n",
      "3/3 [==============================] - 1s 217ms/step - loss: 36.4111 - mse: 36.4111 - val_loss: 74.2549 - val_mse: 74.2549\n",
      "Epoch 247/10000\n",
      "3/3 [==============================] - 1s 209ms/step - loss: 27.1572 - mse: 27.1572 - val_loss: 81.9410 - val_mse: 81.9410\n",
      "Epoch 248/10000\n",
      "3/3 [==============================] - 1s 216ms/step - loss: 32.2999 - mse: 32.2999 - val_loss: 79.9794 - val_mse: 79.9794\n",
      "Epoch 249/10000\n",
      "3/3 [==============================] - 1s 267ms/step - loss: 27.6921 - mse: 27.6921 - val_loss: 72.3972 - val_mse: 72.3972\n",
      "Epoch 250/10000\n",
      "3/3 [==============================] - 1s 218ms/step - loss: 24.5076 - mse: 24.5076 - val_loss: 68.2551 - val_mse: 68.2551\n",
      "Epoch 251/10000\n",
      "3/3 [==============================] - 1s 218ms/step - loss: 30.2578 - mse: 30.2578 - val_loss: 64.3513 - val_mse: 64.3513\n",
      "Epoch 252/10000\n",
      "3/3 [==============================] - 1s 215ms/step - loss: 30.8069 - mse: 30.8069 - val_loss: 66.5089 - val_mse: 66.5089\n",
      "Epoch 253/10000\n",
      "3/3 [==============================] - 1s 211ms/step - loss: 28.8686 - mse: 28.8686 - val_loss: 70.0611 - val_mse: 70.0611\n",
      "Epoch 254/10000\n",
      "3/3 [==============================] - 1s 214ms/step - loss: 26.8202 - mse: 26.8202 - val_loss: 61.0252 - val_mse: 61.0252\n",
      "Epoch 255/10000\n",
      "3/3 [==============================] - 1s 220ms/step - loss: 41.7103 - mse: 41.7103 - val_loss: 58.4689 - val_mse: 58.4689\n",
      "Epoch 256/10000\n",
      "3/3 [==============================] - 1s 217ms/step - loss: 41.1379 - mse: 41.1379 - val_loss: 51.7876 - val_mse: 51.7876\n",
      "Epoch 257/10000\n",
      "3/3 [==============================] - 1s 209ms/step - loss: 29.9517 - mse: 29.9517 - val_loss: 64.4584 - val_mse: 64.4584\n",
      "Epoch 258/10000\n",
      "3/3 [==============================] - 1s 217ms/step - loss: 22.0239 - mse: 22.0239 - val_loss: 44.5042 - val_mse: 44.5042\n",
      "Epoch 259/10000\n",
      "3/3 [==============================] - 1s 211ms/step - loss: 26.4969 - mse: 26.4969 - val_loss: 50.3677 - val_mse: 50.3677\n",
      "Epoch 260/10000\n",
      "3/3 [==============================] - 1s 214ms/step - loss: 36.8428 - mse: 36.8428 - val_loss: 37.2676 - val_mse: 37.2676\n",
      "Epoch 261/10000\n",
      "3/3 [==============================] - 1s 207ms/step - loss: 30.8017 - mse: 30.8017 - val_loss: 42.8289 - val_mse: 42.8289\n",
      "Epoch 262/10000\n",
      "3/3 [==============================] - 1s 209ms/step - loss: 21.1381 - mse: 21.1381 - val_loss: 64.1761 - val_mse: 64.1761\n",
      "Epoch 263/10000\n",
      "3/3 [==============================] - 1s 213ms/step - loss: 33.1627 - mse: 33.1627 - val_loss: 60.7091 - val_mse: 60.7091\n",
      "Epoch 264/10000\n",
      "3/3 [==============================] - 1s 213ms/step - loss: 37.1936 - mse: 37.1936 - val_loss: 58.0587 - val_mse: 58.0587\n",
      "Epoch 265/10000\n",
      "3/3 [==============================] - 1s 221ms/step - loss: 29.9620 - mse: 29.9620 - val_loss: 54.4197 - val_mse: 54.4197\n",
      "Epoch 266/10000\n",
      "3/3 [==============================] - 1s 218ms/step - loss: 34.2444 - mse: 34.2444 - val_loss: 52.8783 - val_mse: 52.8783\n",
      "Epoch 267/10000\n",
      "3/3 [==============================] - 1s 219ms/step - loss: 34.0486 - mse: 34.0486 - val_loss: 64.3827 - val_mse: 64.3827\n",
      "Epoch 268/10000\n",
      "3/3 [==============================] - 1s 223ms/step - loss: 33.1499 - mse: 33.1499 - val_loss: 63.1328 - val_mse: 63.1328\n",
      "Epoch 269/10000\n",
      "3/3 [==============================] - 1s 216ms/step - loss: 30.2954 - mse: 30.2954 - val_loss: 52.9349 - val_mse: 52.9349\n",
      "Epoch 270/10000\n",
      "3/3 [==============================] - 1s 214ms/step - loss: 28.9498 - mse: 28.9498 - val_loss: 59.9581 - val_mse: 59.9581\n",
      "Epoch 271/10000\n",
      "3/3 [==============================] - 1s 207ms/step - loss: 33.4366 - mse: 33.4366 - val_loss: 67.2130 - val_mse: 67.2130\n",
      "Epoch 272/10000\n",
      "3/3 [==============================] - 1s 217ms/step - loss: 26.9304 - mse: 26.9304 - val_loss: 68.4937 - val_mse: 68.4937\n",
      "Epoch 273/10000\n",
      "3/3 [==============================] - 1s 262ms/step - loss: 31.0259 - mse: 31.0259 - val_loss: 69.4569 - val_mse: 69.4569\n",
      "Epoch 274/10000\n",
      "3/3 [==============================] - 1s 211ms/step - loss: 24.9984 - mse: 24.9984 - val_loss: 69.4570 - val_mse: 69.4570\n",
      "Epoch 275/10000\n",
      "3/3 [==============================] - 1s 213ms/step - loss: 30.6093 - mse: 30.6093 - val_loss: 77.3835 - val_mse: 77.3835\n",
      "Epoch 276/10000\n",
      "3/3 [==============================] - 1s 222ms/step - loss: 27.5052 - mse: 27.5052 - val_loss: 81.9626 - val_mse: 81.9626\n",
      "Epoch 277/10000\n",
      "3/3 [==============================] - 1s 216ms/step - loss: 28.5243 - mse: 28.5243 - val_loss: 88.3136 - val_mse: 88.3136\n",
      "Epoch 278/10000\n",
      "3/3 [==============================] - 1s 216ms/step - loss: 24.7561 - mse: 24.7561 - val_loss: 79.1821 - val_mse: 79.1821\n",
      "Epoch 279/10000\n",
      "3/3 [==============================] - 1s 215ms/step - loss: 33.5387 - mse: 33.5387 - val_loss: 64.3434 - val_mse: 64.3434\n",
      "Epoch 280/10000\n",
      "3/3 [==============================] - 1s 215ms/step - loss: 22.6966 - mse: 22.6966 - val_loss: 61.5660 - val_mse: 61.5660\n",
      "Epoch 281/10000\n",
      "3/3 [==============================] - 1s 217ms/step - loss: 21.2880 - mse: 21.2880 - val_loss: 62.8447 - val_mse: 62.8447\n",
      "Epoch 282/10000\n",
      "3/3 [==============================] - 1s 219ms/step - loss: 22.8122 - mse: 22.8122 - val_loss: 61.4015 - val_mse: 61.4015\n",
      "Epoch 283/10000\n",
      "3/3 [==============================] - 1s 221ms/step - loss: 31.9741 - mse: 31.9741 - val_loss: 58.8421 - val_mse: 58.8421\n",
      "Epoch 284/10000\n",
      "3/3 [==============================] - 1s 211ms/step - loss: 23.6380 - mse: 23.6380 - val_loss: 68.4545 - val_mse: 68.4545\n",
      "Epoch 285/10000\n",
      "3/3 [==============================] - 1s 223ms/step - loss: 23.3129 - mse: 23.3129 - val_loss: 85.7937 - val_mse: 85.7937\n",
      "Epoch 286/10000\n",
      "3/3 [==============================] - 1s 209ms/step - loss: 24.5205 - mse: 24.5205 - val_loss: 86.9287 - val_mse: 86.9287\n",
      "Epoch 287/10000\n",
      "3/3 [==============================] - 1s 218ms/step - loss: 36.1833 - mse: 36.1833 - val_loss: 84.3094 - val_mse: 84.3094\n",
      "Epoch 288/10000\n",
      "3/3 [==============================] - 1s 213ms/step - loss: 24.5043 - mse: 24.5043 - val_loss: 73.6351 - val_mse: 73.6351\n",
      "Epoch 289/10000\n",
      "3/3 [==============================] - 1s 216ms/step - loss: 23.0812 - mse: 23.0812 - val_loss: 64.2489 - val_mse: 64.2489\n",
      "Epoch 290/10000\n",
      "3/3 [==============================] - 1s 225ms/step - loss: 31.3983 - mse: 31.3983 - val_loss: 52.9339 - val_mse: 52.9339\n",
      "Epoch 291/10000\n",
      "3/3 [==============================] - 1s 221ms/step - loss: 19.5529 - mse: 19.5529 - val_loss: 50.2471 - val_mse: 50.2471\n",
      "Epoch 292/10000\n",
      "3/3 [==============================] - 1s 213ms/step - loss: 28.2154 - mse: 28.2154 - val_loss: 79.6429 - val_mse: 79.6429\n",
      "Epoch 293/10000\n",
      "3/3 [==============================] - 1s 214ms/step - loss: 31.3948 - mse: 31.3948 - val_loss: 91.2578 - val_mse: 91.2578\n",
      "Epoch 294/10000\n",
      "3/3 [==============================] - 1s 215ms/step - loss: 41.1299 - mse: 41.1299 - val_loss: 75.8213 - val_mse: 75.8213\n",
      "Epoch 295/10000\n"
     ]
    },
    {
     "name": "stdout",
     "output_type": "stream",
     "text": [
      "3/3 [==============================] - 1s 209ms/step - loss: 23.0880 - mse: 23.0880 - val_loss: 56.9501 - val_mse: 56.9501\n",
      "Epoch 296/10000\n",
      "3/3 [==============================] - 1s 214ms/step - loss: 27.3283 - mse: 27.3283 - val_loss: 59.5385 - val_mse: 59.5385\n",
      "Epoch 297/10000\n",
      "3/3 [==============================] - 1s 228ms/step - loss: 30.9822 - mse: 30.9822 - val_loss: 70.1444 - val_mse: 70.1444\n",
      "Epoch 298/10000\n",
      "3/3 [==============================] - 1s 217ms/step - loss: 25.7909 - mse: 25.7909 - val_loss: 74.0764 - val_mse: 74.0764\n",
      "Epoch 299/10000\n",
      "3/3 [==============================] - 1s 200ms/step - loss: 28.2535 - mse: 28.2535 - val_loss: 83.1477 - val_mse: 83.1477\n",
      "Epoch 300/10000\n",
      "3/3 [==============================] - 1s 220ms/step - loss: 36.7445 - mse: 36.7445 - val_loss: 70.1171 - val_mse: 70.1171\n",
      "Epoch 301/10000\n",
      "3/3 [==============================] - 1s 210ms/step - loss: 31.3487 - mse: 31.3487 - val_loss: 53.8556 - val_mse: 53.8556\n",
      "Epoch 302/10000\n",
      "3/3 [==============================] - 1s 203ms/step - loss: 22.8853 - mse: 22.8853 - val_loss: 57.8311 - val_mse: 57.8311\n",
      "Epoch 303/10000\n",
      "3/3 [==============================] - 1s 207ms/step - loss: 30.5991 - mse: 30.5991 - val_loss: 64.3977 - val_mse: 64.3977\n",
      "Epoch 304/10000\n",
      "3/3 [==============================] - 1s 208ms/step - loss: 30.3560 - mse: 30.3560 - val_loss: 62.9143 - val_mse: 62.9143\n",
      "Epoch 305/10000\n",
      "3/3 [==============================] - 1s 219ms/step - loss: 31.2678 - mse: 31.2678 - val_loss: 70.8049 - val_mse: 70.8049\n",
      "Epoch 306/10000\n",
      "3/3 [==============================] - 1s 213ms/step - loss: 31.9916 - mse: 31.9916 - val_loss: 73.0973 - val_mse: 73.0973\n",
      "Epoch 307/10000\n",
      "3/3 [==============================] - 1s 214ms/step - loss: 25.1036 - mse: 25.1036 - val_loss: 62.3281 - val_mse: 62.3281\n",
      "Epoch 308/10000\n",
      "3/3 [==============================] - 1s 218ms/step - loss: 16.6091 - mse: 16.6091 - val_loss: 52.2087 - val_mse: 52.2087\n",
      "Epoch 309/10000\n",
      "3/3 [==============================] - 1s 206ms/step - loss: 25.7454 - mse: 25.7454 - val_loss: 52.3028 - val_mse: 52.3028\n",
      "Epoch 310/10000\n",
      "3/3 [==============================] - 1s 203ms/step - loss: 16.6554 - mse: 16.6554 - val_loss: 56.8575 - val_mse: 56.8575\n",
      "Epoch 311/10000\n",
      "3/3 [==============================] - 1s 207ms/step - loss: 34.3290 - mse: 34.3290 - val_loss: 48.9740 - val_mse: 48.9740\n",
      "Epoch 312/10000\n",
      "3/3 [==============================] - 1s 210ms/step - loss: 33.1003 - mse: 33.1003 - val_loss: 45.5663 - val_mse: 45.5663\n",
      "Epoch 313/10000\n",
      "3/3 [==============================] - 1s 209ms/step - loss: 28.2031 - mse: 28.2031 - val_loss: 48.0454 - val_mse: 48.0454\n",
      "Epoch 314/10000\n",
      "3/3 [==============================] - 1s 260ms/step - loss: 30.1908 - mse: 30.1908 - val_loss: 62.5351 - val_mse: 62.5351\n",
      "Epoch 315/10000\n",
      "3/3 [==============================] - 1s 210ms/step - loss: 25.0902 - mse: 25.0902 - val_loss: 64.3199 - val_mse: 64.3199\n",
      "Epoch 316/10000\n",
      "3/3 [==============================] - 1s 228ms/step - loss: 31.7502 - mse: 31.7502 - val_loss: 62.3343 - val_mse: 62.3343\n",
      "Epoch 317/10000\n",
      "3/3 [==============================] - 1s 216ms/step - loss: 27.5904 - mse: 27.5904 - val_loss: 50.9716 - val_mse: 50.9716\n",
      "Epoch 318/10000\n",
      "3/3 [==============================] - 1s 214ms/step - loss: 25.8477 - mse: 25.8477 - val_loss: 41.5086 - val_mse: 41.5086\n",
      "Epoch 319/10000\n",
      "3/3 [==============================] - 1s 209ms/step - loss: 26.4031 - mse: 26.4031 - val_loss: 41.2387 - val_mse: 41.2387\n",
      "Epoch 320/10000\n",
      "3/3 [==============================] - 1s 212ms/step - loss: 31.1725 - mse: 31.1725 - val_loss: 45.1462 - val_mse: 45.1462\n",
      "Epoch 321/10000\n",
      "3/3 [==============================] - 1s 195ms/step - loss: 29.0448 - mse: 29.0448 - val_loss: 48.0288 - val_mse: 48.0288\n",
      "Epoch 322/10000\n",
      "3/3 [==============================] - 1s 208ms/step - loss: 27.6082 - mse: 27.6082 - val_loss: 52.9109 - val_mse: 52.9109\n",
      "Epoch 323/10000\n",
      "3/3 [==============================] - 1s 210ms/step - loss: 26.9049 - mse: 26.9049 - val_loss: 54.2199 - val_mse: 54.2199\n",
      "Epoch 324/10000\n",
      "3/3 [==============================] - 1s 212ms/step - loss: 34.3098 - mse: 34.3098 - val_loss: 56.5375 - val_mse: 56.5375\n",
      "Epoch 325/10000\n",
      "3/3 [==============================] - 1s 210ms/step - loss: 31.0965 - mse: 31.0965 - val_loss: 58.7537 - val_mse: 58.7537\n",
      "Epoch 326/10000\n",
      "3/3 [==============================] - 1s 214ms/step - loss: 30.7433 - mse: 30.7433 - val_loss: 56.3997 - val_mse: 56.3997\n",
      "Epoch 327/10000\n",
      "3/3 [==============================] - 1s 220ms/step - loss: 26.9822 - mse: 26.9822 - val_loss: 54.8831 - val_mse: 54.8831\n",
      "Epoch 328/10000\n",
      "3/3 [==============================] - 1s 208ms/step - loss: 30.4139 - mse: 30.4139 - val_loss: 57.0943 - val_mse: 57.0943\n",
      "Epoch 329/10000\n",
      "3/3 [==============================] - 1s 199ms/step - loss: 28.1125 - mse: 28.1125 - val_loss: 72.5296 - val_mse: 72.5296\n",
      "Epoch 330/10000\n",
      "3/3 [==============================] - 1s 228ms/step - loss: 27.9168 - mse: 27.9168 - val_loss: 75.8746 - val_mse: 75.8746\n",
      "Epoch 331/10000\n",
      "3/3 [==============================] - 1s 211ms/step - loss: 28.7762 - mse: 28.7762 - val_loss: 61.1107 - val_mse: 61.1107\n",
      "Epoch 332/10000\n",
      "3/3 [==============================] - 1s 221ms/step - loss: 25.5770 - mse: 25.5770 - val_loss: 59.1345 - val_mse: 59.1345\n",
      "Epoch 333/10000\n",
      "3/3 [==============================] - 1s 211ms/step - loss: 37.8324 - mse: 37.8324 - val_loss: 57.4171 - val_mse: 57.4171\n",
      "Epoch 334/10000\n",
      "3/3 [==============================] - 1s 219ms/step - loss: 25.9863 - mse: 25.9863 - val_loss: 60.3581 - val_mse: 60.3581\n",
      "Epoch 335/10000\n",
      "3/3 [==============================] - 1s 216ms/step - loss: 23.4195 - mse: 23.4195 - val_loss: 64.5462 - val_mse: 64.5462\n",
      "Epoch 336/10000\n",
      "3/3 [==============================] - 1s 206ms/step - loss: 31.4501 - mse: 31.4501 - val_loss: 62.0401 - val_mse: 62.0401\n",
      "Epoch 337/10000\n",
      "3/3 [==============================] - 1s 218ms/step - loss: 28.3998 - mse: 28.3998 - val_loss: 58.4832 - val_mse: 58.4832\n",
      "Epoch 338/10000\n",
      "3/3 [==============================] - 1s 210ms/step - loss: 22.3029 - mse: 22.3029 - val_loss: 52.6297 - val_mse: 52.6297\n",
      "Epoch 339/10000\n",
      "3/3 [==============================] - 1s 203ms/step - loss: 28.6790 - mse: 28.6790 - val_loss: 50.5021 - val_mse: 50.5021\n",
      "Epoch 340/10000\n",
      "3/3 [==============================] - 1s 214ms/step - loss: 26.5020 - mse: 26.5020 - val_loss: 52.0487 - val_mse: 52.0487\n",
      "Epoch 341/10000\n",
      "3/3 [==============================] - 1s 218ms/step - loss: 20.6090 - mse: 20.6090 - val_loss: 56.3974 - val_mse: 56.3974\n",
      "Epoch 342/10000\n",
      "3/3 [==============================] - 1s 212ms/step - loss: 29.7147 - mse: 29.7147 - val_loss: 53.6118 - val_mse: 53.6118\n",
      "Epoch 343/10000\n",
      "3/3 [==============================] - 1s 218ms/step - loss: 27.2166 - mse: 27.2166 - val_loss: 59.4409 - val_mse: 59.4409\n",
      "Epoch 344/10000\n",
      "3/3 [==============================] - 1s 207ms/step - loss: 23.9020 - mse: 23.9020 - val_loss: 62.6174 - val_mse: 62.6174\n",
      "Epoch 345/10000\n",
      "3/3 [==============================] - 1s 211ms/step - loss: 23.9671 - mse: 23.9671 - val_loss: 58.9017 - val_mse: 58.9017\n",
      "Epoch 346/10000\n",
      "3/3 [==============================] - 1s 214ms/step - loss: 18.6180 - mse: 18.6180 - val_loss: 59.5391 - val_mse: 59.5391\n",
      "Epoch 347/10000\n",
      "3/3 [==============================] - 1s 257ms/step - loss: 31.1652 - mse: 31.1652 - val_loss: 52.9342 - val_mse: 52.9342\n",
      "Epoch 348/10000\n",
      "3/3 [==============================] - 1s 215ms/step - loss: 35.0050 - mse: 35.0050 - val_loss: 56.9491 - val_mse: 56.9491\n",
      "Epoch 349/10000\n",
      "3/3 [==============================] - 1s 216ms/step - loss: 27.1790 - mse: 27.1790 - val_loss: 58.1036 - val_mse: 58.1036\n",
      "Epoch 350/10000\n",
      "3/3 [==============================] - 1s 221ms/step - loss: 26.1868 - mse: 26.1868 - val_loss: 60.9380 - val_mse: 60.9380\n",
      "Epoch 351/10000\n",
      "3/3 [==============================] - 1s 217ms/step - loss: 22.0841 - mse: 22.0841 - val_loss: 57.9104 - val_mse: 57.9104\n",
      "Epoch 352/10000\n",
      "3/3 [==============================] - 1s 223ms/step - loss: 20.6235 - mse: 20.6235 - val_loss: 45.6632 - val_mse: 45.6632\n",
      "Epoch 353/10000\n",
      "3/3 [==============================] - 1s 209ms/step - loss: 32.0416 - mse: 32.0416 - val_loss: 50.0546 - val_mse: 50.0546\n"
     ]
    }
   ],
   "source": [
    "EPOCHS = 10000\n",
    "history = model.fit(\n",
    "    train_ds_b, \n",
    "    validation_data=val_ds_b,  \n",
    "    epochs=EPOCHS,\n",
    "    callbacks=[callback]\n",
    ")"
   ]
  },
  {
   "cell_type": "code",
   "execution_count": 15,
   "metadata": {},
   "outputs": [
    {
     "data": {
      "image/png": "[encoded data removed]",
      "text/plain": [
       "<Figure size 432x288 with 1 Axes>"
      ]
     },
     "metadata": {
      "needs_background": "light"
     },
     "output_type": "display_data"
    }
   ],
   "source": [
    "metrics = history.history\n",
    "plt.plot(history.epoch, np.sqrt(metrics['mse']), np.sqrt(metrics['val_mse']))\n",
    "plt.legend(['rmse', 'val_rmse'])\n",
    "plt.show()"
   ]
  },
  {
   "cell_type": "code",
   "execution_count": 16,
   "metadata": {},
   "outputs": [
    {
     "name": "stdout",
     "output_type": "stream",
     "text": [
      "1/1 [==============================] - 0s 134ms/step - loss: 50.0546 - mse: 50.0546\n"
     ]
    },
    {
     "data": {
      "text/plain": [
       "array([7.07492916, 7.07492916])"
      ]
     },
     "execution_count": 16,
     "metadata": {},
     "output_type": "execute_result"
    }
   ],
   "source": [
    "np.sqrt(model.evaluate(val_ds.batch(batch_size)))"
   ]
  },
  {
   "cell_type": "code",
   "execution_count": 17,
   "metadata": {},
   "outputs": [
    {
     "name": "stdout",
     "output_type": "stream",
     "text": [
      "1/1 [==============================] - 1s 810ms/step - loss: 109.4740 - mse: 109.4740\n"
     ]
    },
    {
     "data": {
      "text/plain": [
       "array([10.46298268, 10.46298268])"
      ]
     },
     "execution_count": 17,
     "metadata": {},
     "output_type": "execute_result"
    }
   ],
   "source": [
    "np.sqrt(model.evaluate(test_ds.batch(batch_size)))"
   ]
  },
  {
   "cell_type": "code",
   "execution_count": 18,
   "metadata": {},
   "outputs": [
    {
     "name": "stdout",
     "output_type": "stream",
     "text": [
      "1/1 - 1s\n"
     ]
    },
    {
     "data": {
      "text/plain": [
       "array([[20.079771]], dtype=float32)"
      ]
     },
     "execution_count": 18,
     "metadata": {},
     "output_type": "execute_result"
    }
   ],
   "source": [
    "model.predict(preprocess_dataset([train_files[0]]).batch(30), verbose=2)"
   ]
  },
  {
   "cell_type": "code",
   "execution_count": 19,
   "metadata": {},
   "outputs": [
    {
     "data": {
      "text/plain": [
       "array([[20.079771],\n",
       "       [16.81776 ],\n",
       "       [26.318089],\n",
       "       [25.99425 ],\n",
       "       [17.146868],\n",
       "       [25.386007],\n",
       "       [25.345251],\n",
       "       [23.555567],\n",
       "       [23.917797],\n",
       "       [26.248844],\n",
       "       [23.004177],\n",
       "       [20.153202],\n",
       "       [18.384935],\n",
       "       [14.327631],\n",
       "       [16.310162],\n",
       "       [14.993082],\n",
       "       [16.223171],\n",
       "       [23.05632 ],\n",
       "       [18.316576],\n",
       "       [14.628019],\n",
       "       [19.832985],\n",
       "       [20.653887],\n",
       "       [19.2356  ],\n",
       "       [22.106802],\n",
       "       [21.76202 ],\n",
       "       [27.827068],\n",
       "       [19.584213],\n",
       "       [24.999395],\n",
       "       [16.44311 ],\n",
       "       [24.052725]], dtype=float32)"
      ]
     },
     "execution_count": 19,
     "metadata": {},
     "output_type": "execute_result"
    }
   ],
   "source": [
    "model.predict(get_data(train_files[0])[0])"
   ]
  },
  {
   "cell_type": "code",
   "execution_count": 20,
   "metadata": {},
   "outputs": [
    {
     "data": {
      "text/plain": [
       "<tf.Tensor: shape=(), dtype=int64, numpy=27>"
      ]
     },
     "execution_count": 20,
     "metadata": {},
     "output_type": "execute_result"
    }
   ],
   "source": [
    "get_data(train_files[5])[1]"
   ]
  },
  {
   "cell_type": "code",
   "execution_count": 21,
   "metadata": {},
   "outputs": [],
   "source": [
    "meta = meta.assign(split = '', predict = -99.99, predict_group = 'cc')\n",
    "for file in train_files:\n",
    "    ID = file.numpy().decode('utf-8').split('/')[-1].split('.')[0]\n",
    "    predict = model.predict(get_data(file)[0]).mean()\n",
    "    meta.at[np.where(meta.ID == (ID + ' '))[0][0], 'predict'] = max(1, min(predict, 30))\n",
    "    meta.at[np.where(meta.ID == (ID + ' '))[0][0], 'split'] = 'train'\n",
    "    if (predict < 24):\n",
    "        meta.at[np.where(meta.ID == (ID + ' '))[0][0], 'predict_group'] = 'cd'\n",
    "for file in test_files:\n",
    "    ID = file.numpy().decode('utf-8').split('/')[-1].split('.')[0]\n",
    "    predict = model.predict(get_data(file)[0]).mean()\n",
    "    meta.at[np.where(meta.ID == (ID + ' '))[0][0], 'predict'] = max(1, min(predict, 30))\n",
    "    meta.at[np.where(meta.ID == (ID + ' '))[0][0], 'split'] = 'test'\n",
    "    if (predict < 24):\n",
    "        meta.at[np.where(meta.ID == (ID + ' '))[0][0], 'predict_group'] = 'cd'\n",
    "for file in val_files:\n",
    "    ID = file.numpy().decode('utf-8').split('/')[-1].split('.')[0]\n",
    "    predict = model.predict(get_data(file)[0]).mean()\n",
    "    meta.at[np.where(meta.ID == (ID + ' '))[0][0], 'predict'] = max(1, min(predict, 30))\n",
    "    meta.at[np.where(meta.ID == (ID + ' '))[0][0], 'split'] = 'val'\n",
    "    if (predict < 24):\n",
    "        meta.at[np.where(meta.ID == (ID + ' '))[0][0], 'predict_group'] = 'cd'"
   ]
  },
  {
   "cell_type": "code",
   "execution_count": 22,
   "metadata": {},
   "outputs": [
    {
     "data": {
      "text/plain": [
       "count    108.000000\n",
       "mean      21.874337\n",
       "std        3.091948\n",
       "min       12.087054\n",
       "25%       19.397238\n",
       "50%       21.977011\n",
       "75%       24.219676\n",
       "max       28.058397\n",
       "Name: predict, dtype: float64"
      ]
     },
     "execution_count": 22,
     "metadata": {},
     "output_type": "execute_result"
    }
   ],
   "source": [
    "meta.predict.describe()"
   ]
  },
  {
   "cell_type": "code",
   "execution_count": 23,
   "metadata": {},
   "outputs": [
    {
     "data": {
      "text/html": [
       "<div>\n",
       "<style scoped>\n",
       "    .dataframe tbody tr th:only-of-type {\n",
       "        vertical-align: middle;\n",
       "    }\n",
       "\n",
       "    .dataframe tbody tr th {\n",
       "        vertical-align: top;\n",
       "    }\n",
       "\n",
       "    .dataframe thead th {\n",
       "        text-align: right;\n",
       "    }\n",
       "</style>\n",
       "<table border=\"1\" class=\"dataframe\">\n",
       "  <thead>\n",
       "    <tr style=\"text-align: right;\">\n",
       "      <th></th>\n",
       "      <th>split</th>\n",
       "      <th>rmse</th>\n",
       "    </tr>\n",
       "  </thead>\n",
       "  <tbody>\n",
       "    <tr>\n",
       "      <th>0</th>\n",
       "      <td>test</td>\n",
       "      <td>8.756286</td>\n",
       "    </tr>\n",
       "    <tr>\n",
       "      <th>1</th>\n",
       "      <td>train</td>\n",
       "      <td>6.054662</td>\n",
       "    </tr>\n",
       "    <tr>\n",
       "      <th>2</th>\n",
       "      <td>val</td>\n",
       "      <td>6.873691</td>\n",
       "    </tr>\n",
       "  </tbody>\n",
       "</table>\n",
       "</div>"
      ],
      "text/plain": [
       "   split      rmse\n",
       "0   test  8.756286\n",
       "1  train  6.054662\n",
       "2    val  6.873691"
      ]
     },
     "execution_count": 23,
     "metadata": {},
     "output_type": "execute_result"
    }
   ],
   "source": [
    "from sklearn.metrics import confusion_matrix, mean_squared_error\n",
    "def cal_rmse(g):\n",
    "    rmse = np.sqrt(mean_squared_error(g['MMSE'], g['predict'] ) )\n",
    "    return pd.Series(dict(rmse = rmse ))\n",
    "\n",
    "meta.groupby('split').apply(cal_rmse).reset_index()"
   ]
  },
  {
   "cell_type": "code",
   "execution_count": 24,
   "metadata": {
    "scrolled": true
   },
   "outputs": [
    {
     "data": {
      "text/html": [
       "<div>\n",
       "<style scoped>\n",
       "    .dataframe tbody tr th:only-of-type {\n",
       "        vertical-align: middle;\n",
       "    }\n",
       "\n",
       "    .dataframe tbody tr th {\n",
       "        vertical-align: top;\n",
       "    }\n",
       "\n",
       "    .dataframe thead th {\n",
       "        text-align: right;\n",
       "    }\n",
       "</style>\n",
       "<table border=\"1\" class=\"dataframe\">\n",
       "  <thead>\n",
       "    <tr style=\"text-align: right;\">\n",
       "      <th></th>\n",
       "      <th>Gender</th>\n",
       "      <th>rmse</th>\n",
       "    </tr>\n",
       "  </thead>\n",
       "  <tbody>\n",
       "    <tr>\n",
       "      <th>0</th>\n",
       "      <td>female</td>\n",
       "      <td>7.288521</td>\n",
       "    </tr>\n",
       "    <tr>\n",
       "      <th>1</th>\n",
       "      <td>male</td>\n",
       "      <td>5.812098</td>\n",
       "    </tr>\n",
       "  </tbody>\n",
       "</table>\n",
       "</div>"
      ],
      "text/plain": [
       "     Gender      rmse\n",
       "0   female   7.288521\n",
       "1     male   5.812098"
      ]
     },
     "execution_count": 24,
     "metadata": {},
     "output_type": "execute_result"
    }
   ],
   "source": [
    "meta.groupby('Gender').apply(cal_rmse).reset_index()"
   ]
  },
  {
   "cell_type": "code",
   "execution_count": 25,
   "metadata": {},
   "outputs": [
    {
     "data": {
      "text/plain": [
       "6.672785581978311"
      ]
     },
     "execution_count": 25,
     "metadata": {},
     "output_type": "execute_result"
    }
   ],
   "source": [
    "np.sqrt(mean_squared_error(meta['MMSE'], meta['predict'] ))"
   ]
  },
  {
   "cell_type": "code",
   "execution_count": 26,
   "metadata": {},
   "outputs": [
    {
     "data": {
      "image/png": "[encoded data removed]",
      "text/plain": [
       "<Figure size 1500x800 with 3 Axes>"
      ]
     },
     "metadata": {},
     "output_type": "display_data"
    },
    {
     "data": {
      "text/plain": [
       "<ggplot: (-9223363283810958560)>"
      ]
     },
     "execution_count": 26,
     "metadata": {},
     "output_type": "execute_result"
    }
   ],
   "source": [
    "ggplot(meta) + \\\n",
    "geom_point(aes(x = 'MMSE', y = 'predict', colour = 'split')) + \\\n",
    "facet_wrap('split', nrow = 1) + \\\n",
    "geom_abline(aes(intercept = 0, slope = 1, lty = 2)) + \\\n",
    "geom_hline(aes(yintercept = 24, lty = 2)) + \\\n",
    "geom_vline(aes(xintercept = 24, lty = 2)) + \\\n",
    "theme(figure_size = (15, 8))"
   ]
  },
  {
   "cell_type": "code",
   "execution_count": 27,
   "metadata": {},
   "outputs": [
    {
     "data": {
      "text/plain": [
       "<matplotlib.axes._subplots.AxesSubplot at 0x7f5fa1a63908>"
      ]
     },
     "execution_count": 27,
     "metadata": {},
     "output_type": "execute_result"
    },
    {
     "data": {
      "image/png": "[encoded data removed]",
      "text/plain": [
       "<Figure size 720x504 with 2 Axes>"
      ]
     },
     "metadata": {
      "needs_background": "light"
     },
     "output_type": "display_data"
    }
   ],
   "source": [
    "y_true = meta.Group\n",
    "y_pred = meta.predict_group\n",
    "data = confusion_matrix(y_true, y_pred)\n",
    "df_cm = pd.DataFrame(data, columns=np.unique(y_true), index = np.unique(y_true))\n",
    "df_cm.index.name = 'Actual'\n",
    "df_cm.columns.name = 'Predicted'\n",
    "plt.figure(figsize = (10,7))\n",
    "sn.set(font_scale=1.4)#for label size\n",
    "sn.heatmap(df_cm, cmap=\"Reds\", annot=True,annot_kws={\"size\": 16})# font size"
   ]
  },
  {
   "cell_type": "code",
   "execution_count": 28,
   "metadata": {},
   "outputs": [
    {
     "name": "stderr",
     "output_type": "stream",
     "text": [
      "WARNING:absl:Found untraced functions such as lstm_cell_layer_call_fn, lstm_cell_layer_call_and_return_conditional_losses, lstm_cell_1_layer_call_fn, lstm_cell_1_layer_call_and_return_conditional_losses, lstm_cell_layer_call_fn while saving (showing 5 of 10). These functions will not be directly callable after loading.\n",
      "WARNING:absl:Found untraced functions such as lstm_cell_layer_call_fn, lstm_cell_layer_call_and_return_conditional_losses, lstm_cell_1_layer_call_fn, lstm_cell_1_layer_call_and_return_conditional_losses, lstm_cell_layer_call_fn while saving (showing 5 of 10). These functions will not be directly callable after loading.\n"
     ]
    },
    {
     "name": "stdout",
     "output_type": "stream",
     "text": [
      "INFO:tensorflow:Assets written to: saved_model/base_line/20210225/assets\n"
     ]
    },
    {
     "name": "stderr",
     "output_type": "stream",
     "text": [
      "INFO:tensorflow:Assets written to: saved_model/base_line/20210225/assets\n"
     ]
    }
   ],
   "source": [
    "model.save('saved_model/base_line/20210225')"
   ]
  },
  {
   "cell_type": "code",
   "execution_count": null,
   "metadata": {},
   "outputs": [],
   "source": []
  }
 ],
 "metadata": {
  "kernelspec": {
   "display_name": "Python 3",
   "language": "python",
   "name": "python3"
  },
  "language_info": {
   "codemirror_mode": {
    "name": "ipython",
    "version": 3
   },
   "file_extension": ".py",
   "mimetype": "text/x-python",
   "name": "python",
   "nbconvert_exporter": "python",
   "pygments_lexer": "ipython3",
   "version": "3.6.9"
  }
 },
 "nbformat": 4,
 "nbformat_minor": 4
}
