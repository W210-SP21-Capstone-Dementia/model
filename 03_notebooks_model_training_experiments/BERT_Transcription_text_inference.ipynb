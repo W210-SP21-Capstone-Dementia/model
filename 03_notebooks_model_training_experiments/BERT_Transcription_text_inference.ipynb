{
  "nbformat": 4,
  "nbformat_minor": 0,
  "metadata": {
    "kernelspec": {
      "display_name": "Python 3",
      "language": "python",
      "name": "python3"
    },
    "language_info": {
      "codemirror_mode": {
        "name": "ipython",
        "version": 3
      },
      "file_extension": ".py",
      "mimetype": "text/x-python",
      "name": "python",
      "nbconvert_exporter": "python",
      "pygments_lexer": "ipython3",
      "version": "3.6.9"
    },
    "colab": {
      "name": "BERT-Transcription-text-inference.ipynb",
      "provenance": [],
      "collapsed_sections": [],
      "machine_shape": "hm"
    },
    "widgets": {
      "application/vnd.jupyter.widget-state+json": {
        "e9dfdb2517554c73857c984743e9131e": {
          "model_module": "@jupyter-widgets/controls",
          "model_name": "HBoxModel",
          "state": {
            "_view_name": "HBoxView",
            "_dom_classes": [],
            "_model_name": "HBoxModel",
            "_view_module": "@jupyter-widgets/controls",
            "_model_module_version": "1.5.0",
            "_view_count": null,
            "_view_module_version": "1.5.0",
            "box_style": "",
            "layout": "IPY_MODEL_71cd93517ac34c98bdc55307d9f14c35",
            "_model_module": "@jupyter-widgets/controls",
            "children": [
              "IPY_MODEL_8a36779594514d13905a175e15433f53",
              "IPY_MODEL_59092cd74b644b7bb178c175adc03792"
            ]
          }
        },
        "71cd93517ac34c98bdc55307d9f14c35": {
          "model_module": "@jupyter-widgets/base",
          "model_name": "LayoutModel",
          "state": {
            "_view_name": "LayoutView",
            "grid_template_rows": null,
            "right": null,
            "justify_content": null,
            "_view_module": "@jupyter-widgets/base",
            "overflow": null,
            "_model_module_version": "1.2.0",
            "_view_count": null,
            "flex_flow": null,
            "width": null,
            "min_width": null,
            "border": null,
            "align_items": null,
            "bottom": null,
            "_model_module": "@jupyter-widgets/base",
            "top": null,
            "grid_column": null,
            "overflow_y": null,
            "overflow_x": null,
            "grid_auto_flow": null,
            "grid_area": null,
            "grid_template_columns": null,
            "flex": null,
            "_model_name": "LayoutModel",
            "justify_items": null,
            "grid_row": null,
            "max_height": null,
            "align_content": null,
            "visibility": null,
            "align_self": null,
            "height": null,
            "min_height": null,
            "padding": null,
            "grid_auto_rows": null,
            "grid_gap": null,
            "max_width": null,
            "order": null,
            "_view_module_version": "1.2.0",
            "grid_template_areas": null,
            "object_position": null,
            "object_fit": null,
            "grid_auto_columns": null,
            "margin": null,
            "display": null,
            "left": null
          }
        },
        "8a36779594514d13905a175e15433f53": {
          "model_module": "@jupyter-widgets/controls",
          "model_name": "FloatProgressModel",
          "state": {
            "_view_name": "ProgressView",
            "style": "IPY_MODEL_8a0bd952f68f40caadf108dedb23abd9",
            "_dom_classes": [],
            "description": "Downloading: 100%",
            "_model_name": "FloatProgressModel",
            "bar_style": "success",
            "max": 231508,
            "_view_module": "@jupyter-widgets/controls",
            "_model_module_version": "1.5.0",
            "value": 231508,
            "_view_count": null,
            "_view_module_version": "1.5.0",
            "orientation": "horizontal",
            "min": 0,
            "description_tooltip": null,
            "_model_module": "@jupyter-widgets/controls",
            "layout": "IPY_MODEL_faad711a27804e098cb31f4e0deb773c"
          }
        },
        "59092cd74b644b7bb178c175adc03792": {
          "model_module": "@jupyter-widgets/controls",
          "model_name": "HTMLModel",
          "state": {
            "_view_name": "HTMLView",
            "style": "IPY_MODEL_4b945c2458b945deb2793ed5a9cc09b0",
            "_dom_classes": [],
            "description": "",
            "_model_name": "HTMLModel",
            "placeholder": "​",
            "_view_module": "@jupyter-widgets/controls",
            "_model_module_version": "1.5.0",
            "value": " 232k/232k [00:00&lt;00:00, 2.95MB/s]",
            "_view_count": null,
            "_view_module_version": "1.5.0",
            "description_tooltip": null,
            "_model_module": "@jupyter-widgets/controls",
            "layout": "IPY_MODEL_b8c0c7c99c864a59bf6711ca7e37f1a3"
          }
        },
        "8a0bd952f68f40caadf108dedb23abd9": {
          "model_module": "@jupyter-widgets/controls",
          "model_name": "ProgressStyleModel",
          "state": {
            "_view_name": "StyleView",
            "_model_name": "ProgressStyleModel",
            "description_width": "initial",
            "_view_module": "@jupyter-widgets/base",
            "_model_module_version": "1.5.0",
            "_view_count": null,
            "_view_module_version": "1.2.0",
            "bar_color": null,
            "_model_module": "@jupyter-widgets/controls"
          }
        },
        "faad711a27804e098cb31f4e0deb773c": {
          "model_module": "@jupyter-widgets/base",
          "model_name": "LayoutModel",
          "state": {
            "_view_name": "LayoutView",
            "grid_template_rows": null,
            "right": null,
            "justify_content": null,
            "_view_module": "@jupyter-widgets/base",
            "overflow": null,
            "_model_module_version": "1.2.0",
            "_view_count": null,
            "flex_flow": null,
            "width": null,
            "min_width": null,
            "border": null,
            "align_items": null,
            "bottom": null,
            "_model_module": "@jupyter-widgets/base",
            "top": null,
            "grid_column": null,
            "overflow_y": null,
            "overflow_x": null,
            "grid_auto_flow": null,
            "grid_area": null,
            "grid_template_columns": null,
            "flex": null,
            "_model_name": "LayoutModel",
            "justify_items": null,
            "grid_row": null,
            "max_height": null,
            "align_content": null,
            "visibility": null,
            "align_self": null,
            "height": null,
            "min_height": null,
            "padding": null,
            "grid_auto_rows": null,
            "grid_gap": null,
            "max_width": null,
            "order": null,
            "_view_module_version": "1.2.0",
            "grid_template_areas": null,
            "object_position": null,
            "object_fit": null,
            "grid_auto_columns": null,
            "margin": null,
            "display": null,
            "left": null
          }
        },
        "4b945c2458b945deb2793ed5a9cc09b0": {
          "model_module": "@jupyter-widgets/controls",
          "model_name": "DescriptionStyleModel",
          "state": {
            "_view_name": "StyleView",
            "_model_name": "DescriptionStyleModel",
            "description_width": "",
            "_view_module": "@jupyter-widgets/base",
            "_model_module_version": "1.5.0",
            "_view_count": null,
            "_view_module_version": "1.2.0",
            "_model_module": "@jupyter-widgets/controls"
          }
        },
        "b8c0c7c99c864a59bf6711ca7e37f1a3": {
          "model_module": "@jupyter-widgets/base",
          "model_name": "LayoutModel",
          "state": {
            "_view_name": "LayoutView",
            "grid_template_rows": null,
            "right": null,
            "justify_content": null,
            "_view_module": "@jupyter-widgets/base",
            "overflow": null,
            "_model_module_version": "1.2.0",
            "_view_count": null,
            "flex_flow": null,
            "width": null,
            "min_width": null,
            "border": null,
            "align_items": null,
            "bottom": null,
            "_model_module": "@jupyter-widgets/base",
            "top": null,
            "grid_column": null,
            "overflow_y": null,
            "overflow_x": null,
            "grid_auto_flow": null,
            "grid_area": null,
            "grid_template_columns": null,
            "flex": null,
            "_model_name": "LayoutModel",
            "justify_items": null,
            "grid_row": null,
            "max_height": null,
            "align_content": null,
            "visibility": null,
            "align_self": null,
            "height": null,
            "min_height": null,
            "padding": null,
            "grid_auto_rows": null,
            "grid_gap": null,
            "max_width": null,
            "order": null,
            "_view_module_version": "1.2.0",
            "grid_template_areas": null,
            "object_position": null,
            "object_fit": null,
            "grid_auto_columns": null,
            "margin": null,
            "display": null,
            "left": null
          }
        },
        "e2da021fae69407ab8775e97c7f540bc": {
          "model_module": "@jupyter-widgets/controls",
          "model_name": "HBoxModel",
          "state": {
            "_view_name": "HBoxView",
            "_dom_classes": [],
            "_model_name": "HBoxModel",
            "_view_module": "@jupyter-widgets/controls",
            "_model_module_version": "1.5.0",
            "_view_count": null,
            "_view_module_version": "1.5.0",
            "box_style": "",
            "layout": "IPY_MODEL_202e5621271741c0ae55e2583889dffb",
            "_model_module": "@jupyter-widgets/controls",
            "children": [
              "IPY_MODEL_793781c8d0af4cd2b5e8ee0a69abab62",
              "IPY_MODEL_3ef07cf3c328403c977a17e6df38980c"
            ]
          }
        },
        "202e5621271741c0ae55e2583889dffb": {
          "model_module": "@jupyter-widgets/base",
          "model_name": "LayoutModel",
          "state": {
            "_view_name": "LayoutView",
            "grid_template_rows": null,
            "right": null,
            "justify_content": null,
            "_view_module": "@jupyter-widgets/base",
            "overflow": null,
            "_model_module_version": "1.2.0",
            "_view_count": null,
            "flex_flow": null,
            "width": null,
            "min_width": null,
            "border": null,
            "align_items": null,
            "bottom": null,
            "_model_module": "@jupyter-widgets/base",
            "top": null,
            "grid_column": null,
            "overflow_y": null,
            "overflow_x": null,
            "grid_auto_flow": null,
            "grid_area": null,
            "grid_template_columns": null,
            "flex": null,
            "_model_name": "LayoutModel",
            "justify_items": null,
            "grid_row": null,
            "max_height": null,
            "align_content": null,
            "visibility": null,
            "align_self": null,
            "height": null,
            "min_height": null,
            "padding": null,
            "grid_auto_rows": null,
            "grid_gap": null,
            "max_width": null,
            "order": null,
            "_view_module_version": "1.2.0",
            "grid_template_areas": null,
            "object_position": null,
            "object_fit": null,
            "grid_auto_columns": null,
            "margin": null,
            "display": null,
            "left": null
          }
        },
        "793781c8d0af4cd2b5e8ee0a69abab62": {
          "model_module": "@jupyter-widgets/controls",
          "model_name": "FloatProgressModel",
          "state": {
            "_view_name": "ProgressView",
            "style": "IPY_MODEL_95df38c66eb842fab798166e5f646c64",
            "_dom_classes": [],
            "description": "Downloading: 100%",
            "_model_name": "FloatProgressModel",
            "bar_style": "success",
            "max": 433,
            "_view_module": "@jupyter-widgets/controls",
            "_model_module_version": "1.5.0",
            "value": 433,
            "_view_count": null,
            "_view_module_version": "1.5.0",
            "orientation": "horizontal",
            "min": 0,
            "description_tooltip": null,
            "_model_module": "@jupyter-widgets/controls",
            "layout": "IPY_MODEL_685eaa7a071645a6b73976379ad2098f"
          }
        },
        "3ef07cf3c328403c977a17e6df38980c": {
          "model_module": "@jupyter-widgets/controls",
          "model_name": "HTMLModel",
          "state": {
            "_view_name": "HTMLView",
            "style": "IPY_MODEL_1e9ae088b48b42508d71dce1e0921fca",
            "_dom_classes": [],
            "description": "",
            "_model_name": "HTMLModel",
            "placeholder": "​",
            "_view_module": "@jupyter-widgets/controls",
            "_model_module_version": "1.5.0",
            "value": " 433/433 [00:00&lt;00:00, 10.0kB/s]",
            "_view_count": null,
            "_view_module_version": "1.5.0",
            "description_tooltip": null,
            "_model_module": "@jupyter-widgets/controls",
            "layout": "IPY_MODEL_9956f5004a2646a88e3ba7fbf3f3d150"
          }
        },
        "95df38c66eb842fab798166e5f646c64": {
          "model_module": "@jupyter-widgets/controls",
          "model_name": "ProgressStyleModel",
          "state": {
            "_view_name": "StyleView",
            "_model_name": "ProgressStyleModel",
            "description_width": "initial",
            "_view_module": "@jupyter-widgets/base",
            "_model_module_version": "1.5.0",
            "_view_count": null,
            "_view_module_version": "1.2.0",
            "bar_color": null,
            "_model_module": "@jupyter-widgets/controls"
          }
        },
        "685eaa7a071645a6b73976379ad2098f": {
          "model_module": "@jupyter-widgets/base",
          "model_name": "LayoutModel",
          "state": {
            "_view_name": "LayoutView",
            "grid_template_rows": null,
            "right": null,
            "justify_content": null,
            "_view_module": "@jupyter-widgets/base",
            "overflow": null,
            "_model_module_version": "1.2.0",
            "_view_count": null,
            "flex_flow": null,
            "width": null,
            "min_width": null,
            "border": null,
            "align_items": null,
            "bottom": null,
            "_model_module": "@jupyter-widgets/base",
            "top": null,
            "grid_column": null,
            "overflow_y": null,
            "overflow_x": null,
            "grid_auto_flow": null,
            "grid_area": null,
            "grid_template_columns": null,
            "flex": null,
            "_model_name": "LayoutModel",
            "justify_items": null,
            "grid_row": null,
            "max_height": null,
            "align_content": null,
            "visibility": null,
            "align_self": null,
            "height": null,
            "min_height": null,
            "padding": null,
            "grid_auto_rows": null,
            "grid_gap": null,
            "max_width": null,
            "order": null,
            "_view_module_version": "1.2.0",
            "grid_template_areas": null,
            "object_position": null,
            "object_fit": null,
            "grid_auto_columns": null,
            "margin": null,
            "display": null,
            "left": null
          }
        },
        "1e9ae088b48b42508d71dce1e0921fca": {
          "model_module": "@jupyter-widgets/controls",
          "model_name": "DescriptionStyleModel",
          "state": {
            "_view_name": "StyleView",
            "_model_name": "DescriptionStyleModel",
            "description_width": "",
            "_view_module": "@jupyter-widgets/base",
            "_model_module_version": "1.5.0",
            "_view_count": null,
            "_view_module_version": "1.2.0",
            "_model_module": "@jupyter-widgets/controls"
          }
        },
        "9956f5004a2646a88e3ba7fbf3f3d150": {
          "model_module": "@jupyter-widgets/base",
          "model_name": "LayoutModel",
          "state": {
            "_view_name": "LayoutView",
            "grid_template_rows": null,
            "right": null,
            "justify_content": null,
            "_view_module": "@jupyter-widgets/base",
            "overflow": null,
            "_model_module_version": "1.2.0",
            "_view_count": null,
            "flex_flow": null,
            "width": null,
            "min_width": null,
            "border": null,
            "align_items": null,
            "bottom": null,
            "_model_module": "@jupyter-widgets/base",
            "top": null,
            "grid_column": null,
            "overflow_y": null,
            "overflow_x": null,
            "grid_auto_flow": null,
            "grid_area": null,
            "grid_template_columns": null,
            "flex": null,
            "_model_name": "LayoutModel",
            "justify_items": null,
            "grid_row": null,
            "max_height": null,
            "align_content": null,
            "visibility": null,
            "align_self": null,
            "height": null,
            "min_height": null,
            "padding": null,
            "grid_auto_rows": null,
            "grid_gap": null,
            "max_width": null,
            "order": null,
            "_view_module_version": "1.2.0",
            "grid_template_areas": null,
            "object_position": null,
            "object_fit": null,
            "grid_auto_columns": null,
            "margin": null,
            "display": null,
            "left": null
          }
        },
        "b1c9feb9a9774986adbe0856b32eaba3": {
          "model_module": "@jupyter-widgets/controls",
          "model_name": "HBoxModel",
          "state": {
            "_view_name": "HBoxView",
            "_dom_classes": [],
            "_model_name": "HBoxModel",
            "_view_module": "@jupyter-widgets/controls",
            "_model_module_version": "1.5.0",
            "_view_count": null,
            "_view_module_version": "1.5.0",
            "box_style": "",
            "layout": "IPY_MODEL_7ce37fd7f8dc4768ba5d9fc0d0ead8e5",
            "_model_module": "@jupyter-widgets/controls",
            "children": [
              "IPY_MODEL_d6786f97b5c54d959478b12a77aa939f",
              "IPY_MODEL_cac258a7f5564fd6bba6739fa7e78429"
            ]
          }
        },
        "7ce37fd7f8dc4768ba5d9fc0d0ead8e5": {
          "model_module": "@jupyter-widgets/base",
          "model_name": "LayoutModel",
          "state": {
            "_view_name": "LayoutView",
            "grid_template_rows": null,
            "right": null,
            "justify_content": null,
            "_view_module": "@jupyter-widgets/base",
            "overflow": null,
            "_model_module_version": "1.2.0",
            "_view_count": null,
            "flex_flow": null,
            "width": null,
            "min_width": null,
            "border": null,
            "align_items": null,
            "bottom": null,
            "_model_module": "@jupyter-widgets/base",
            "top": null,
            "grid_column": null,
            "overflow_y": null,
            "overflow_x": null,
            "grid_auto_flow": null,
            "grid_area": null,
            "grid_template_columns": null,
            "flex": null,
            "_model_name": "LayoutModel",
            "justify_items": null,
            "grid_row": null,
            "max_height": null,
            "align_content": null,
            "visibility": null,
            "align_self": null,
            "height": null,
            "min_height": null,
            "padding": null,
            "grid_auto_rows": null,
            "grid_gap": null,
            "max_width": null,
            "order": null,
            "_view_module_version": "1.2.0",
            "grid_template_areas": null,
            "object_position": null,
            "object_fit": null,
            "grid_auto_columns": null,
            "margin": null,
            "display": null,
            "left": null
          }
        },
        "d6786f97b5c54d959478b12a77aa939f": {
          "model_module": "@jupyter-widgets/controls",
          "model_name": "FloatProgressModel",
          "state": {
            "_view_name": "ProgressView",
            "style": "IPY_MODEL_0322a471ee67485d9bc659db368a0926",
            "_dom_classes": [],
            "description": "Downloading: 100%",
            "_model_name": "FloatProgressModel",
            "bar_style": "success",
            "max": 536063208,
            "_view_module": "@jupyter-widgets/controls",
            "_model_module_version": "1.5.0",
            "value": 536063208,
            "_view_count": null,
            "_view_module_version": "1.5.0",
            "orientation": "horizontal",
            "min": 0,
            "description_tooltip": null,
            "_model_module": "@jupyter-widgets/controls",
            "layout": "IPY_MODEL_bfead1715f4f494896c9095c8c111ec1"
          }
        },
        "cac258a7f5564fd6bba6739fa7e78429": {
          "model_module": "@jupyter-widgets/controls",
          "model_name": "HTMLModel",
          "state": {
            "_view_name": "HTMLView",
            "style": "IPY_MODEL_78bebaa8adb94c8da790bc05a64dc8b7",
            "_dom_classes": [],
            "description": "",
            "_model_name": "HTMLModel",
            "placeholder": "​",
            "_view_module": "@jupyter-widgets/controls",
            "_model_module_version": "1.5.0",
            "value": " 536M/536M [00:16&lt;00:00, 32.3MB/s]",
            "_view_count": null,
            "_view_module_version": "1.5.0",
            "description_tooltip": null,
            "_model_module": "@jupyter-widgets/controls",
            "layout": "IPY_MODEL_def541c9e0e34f3b817d305c0884ce59"
          }
        },
        "0322a471ee67485d9bc659db368a0926": {
          "model_module": "@jupyter-widgets/controls",
          "model_name": "ProgressStyleModel",
          "state": {
            "_view_name": "StyleView",
            "_model_name": "ProgressStyleModel",
            "description_width": "initial",
            "_view_module": "@jupyter-widgets/base",
            "_model_module_version": "1.5.0",
            "_view_count": null,
            "_view_module_version": "1.2.0",
            "bar_color": null,
            "_model_module": "@jupyter-widgets/controls"
          }
        },
        "bfead1715f4f494896c9095c8c111ec1": {
          "model_module": "@jupyter-widgets/base",
          "model_name": "LayoutModel",
          "state": {
            "_view_name": "LayoutView",
            "grid_template_rows": null,
            "right": null,
            "justify_content": null,
            "_view_module": "@jupyter-widgets/base",
            "overflow": null,
            "_model_module_version": "1.2.0",
            "_view_count": null,
            "flex_flow": null,
            "width": null,
            "min_width": null,
            "border": null,
            "align_items": null,
            "bottom": null,
            "_model_module": "@jupyter-widgets/base",
            "top": null,
            "grid_column": null,
            "overflow_y": null,
            "overflow_x": null,
            "grid_auto_flow": null,
            "grid_area": null,
            "grid_template_columns": null,
            "flex": null,
            "_model_name": "LayoutModel",
            "justify_items": null,
            "grid_row": null,
            "max_height": null,
            "align_content": null,
            "visibility": null,
            "align_self": null,
            "height": null,
            "min_height": null,
            "padding": null,
            "grid_auto_rows": null,
            "grid_gap": null,
            "max_width": null,
            "order": null,
            "_view_module_version": "1.2.0",
            "grid_template_areas": null,
            "object_position": null,
            "object_fit": null,
            "grid_auto_columns": null,
            "margin": null,
            "display": null,
            "left": null
          }
        },
        "78bebaa8adb94c8da790bc05a64dc8b7": {
          "model_module": "@jupyter-widgets/controls",
          "model_name": "DescriptionStyleModel",
          "state": {
            "_view_name": "StyleView",
            "_model_name": "DescriptionStyleModel",
            "description_width": "",
            "_view_module": "@jupyter-widgets/base",
            "_model_module_version": "1.5.0",
            "_view_count": null,
            "_view_module_version": "1.2.0",
            "_model_module": "@jupyter-widgets/controls"
          }
        },
        "def541c9e0e34f3b817d305c0884ce59": {
          "model_module": "@jupyter-widgets/base",
          "model_name": "LayoutModel",
          "state": {
            "_view_name": "LayoutView",
            "grid_template_rows": null,
            "right": null,
            "justify_content": null,
            "_view_module": "@jupyter-widgets/base",
            "overflow": null,
            "_model_module_version": "1.2.0",
            "_view_count": null,
            "flex_flow": null,
            "width": null,
            "min_width": null,
            "border": null,
            "align_items": null,
            "bottom": null,
            "_model_module": "@jupyter-widgets/base",
            "top": null,
            "grid_column": null,
            "overflow_y": null,
            "overflow_x": null,
            "grid_auto_flow": null,
            "grid_area": null,
            "grid_template_columns": null,
            "flex": null,
            "_model_name": "LayoutModel",
            "justify_items": null,
            "grid_row": null,
            "max_height": null,
            "align_content": null,
            "visibility": null,
            "align_self": null,
            "height": null,
            "min_height": null,
            "padding": null,
            "grid_auto_rows": null,
            "grid_gap": null,
            "max_width": null,
            "order": null,
            "_view_module_version": "1.2.0",
            "grid_template_areas": null,
            "object_position": null,
            "object_fit": null,
            "grid_auto_columns": null,
            "margin": null,
            "display": null,
            "left": null
          }
        }
      }
    },
    "accelerator": "GPU"
  },
  "cells": [
    {
      "cell_type": "code",
      "metadata": {
        "colab": {
          "base_uri": "https://localhost:8080/"
        },
        "id": "NUtZDYs87V-R",
        "outputId": "0127b379-f4a2-411e-dabc-8be73c7fb3ca"
      },
      "source": [
        "! python3 -m pip install --upgrade pip\n",
        "! python3 -m pip install --upgrade SpeechRecognition\n",
        "! python3 -m pip install --upgrade pydub\n",
        "! python3 -m pip install --upgrade sklearn\n",
        "! python3 -m pip install --upgrade pylangacq"
      ],
      "execution_count": 1,
      "outputs": [
        {
          "output_type": "stream",
          "text": [
            "Collecting pip\n",
            "\u001b[?25l  Downloading https://files.pythonhosted.org/packages/fe/ef/60d7ba03b5c442309ef42e7d69959f73aacccd0d86008362a681c4698e83/pip-21.0.1-py3-none-any.whl (1.5MB)\n",
            "\u001b[K     |████████████████████████████████| 1.5MB 5.8MB/s \n",
            "\u001b[?25hInstalling collected packages: pip\n",
            "  Found existing installation: pip 19.3.1\n",
            "    Uninstalling pip-19.3.1:\n",
            "      Successfully uninstalled pip-19.3.1\n",
            "Successfully installed pip-21.0.1\n",
            "Collecting SpeechRecognition\n",
            "  Downloading SpeechRecognition-3.8.1-py2.py3-none-any.whl (32.8 MB)\n",
            "\u001b[K     |████████████████████████████████| 32.8 MB 66 kB/s \n",
            "\u001b[?25hInstalling collected packages: SpeechRecognition\n",
            "Successfully installed SpeechRecognition-3.8.1\n",
            "Collecting pydub\n",
            "  Downloading pydub-0.25.1-py2.py3-none-any.whl (32 kB)\n",
            "Installing collected packages: pydub\n",
            "Successfully installed pydub-0.25.1\n",
            "Requirement already satisfied: sklearn in /usr/local/lib/python3.7/dist-packages (0.0)\n",
            "Requirement already satisfied: scikit-learn in /usr/local/lib/python3.7/dist-packages (from sklearn) (0.22.2.post1)\n",
            "Requirement already satisfied: numpy>=1.11.0 in /usr/local/lib/python3.7/dist-packages (from scikit-learn->sklearn) (1.19.5)\n",
            "Requirement already satisfied: joblib>=0.11 in /usr/local/lib/python3.7/dist-packages (from scikit-learn->sklearn) (1.0.1)\n",
            "Requirement already satisfied: scipy>=0.17.0 in /usr/local/lib/python3.7/dist-packages (from scikit-learn->sklearn) (1.4.1)\n",
            "Collecting pylangacq\n",
            "  Downloading pylangacq-0.13.1-py3-none-any.whl (66 kB)\n",
            "\u001b[K     |████████████████████████████████| 66 kB 2.6 MB/s \n",
            "\u001b[?25hRequirement already satisfied: requests<=3.0.0,>=2.18.0 in /usr/local/lib/python3.7/dist-packages (from pylangacq) (2.23.0)\n",
            "Requirement already satisfied: python-dateutil<=3.0.0,>=2.0.0 in /usr/local/lib/python3.7/dist-packages (from pylangacq) (2.8.1)\n",
            "Requirement already satisfied: six>=1.5 in /usr/local/lib/python3.7/dist-packages (from python-dateutil<=3.0.0,>=2.0.0->pylangacq) (1.15.0)\n",
            "Requirement already satisfied: chardet<4,>=3.0.2 in /usr/local/lib/python3.7/dist-packages (from requests<=3.0.0,>=2.18.0->pylangacq) (3.0.4)\n",
            "Requirement already satisfied: idna<3,>=2.5 in /usr/local/lib/python3.7/dist-packages (from requests<=3.0.0,>=2.18.0->pylangacq) (2.10)\n",
            "Requirement already satisfied: certifi>=2017.4.17 in /usr/local/lib/python3.7/dist-packages (from requests<=3.0.0,>=2.18.0->pylangacq) (2020.12.5)\n",
            "Requirement already satisfied: urllib3!=1.25.0,!=1.25.1,<1.26,>=1.21.1 in /usr/local/lib/python3.7/dist-packages (from requests<=3.0.0,>=2.18.0->pylangacq) (1.24.3)\n",
            "Installing collected packages: pylangacq\n",
            "Successfully installed pylangacq-0.13.1\n"
          ],
          "name": "stdout"
        }
      ]
    },
    {
      "cell_type": "code",
      "metadata": {
        "id": "7AIUCb9L7V-a"
      },
      "source": [
        "import IPython.display as ipd\n",
        "import librosa\n",
        "import librosa.display\n",
        "import kapre\n",
        "import matplotlib.pyplot as plt\n",
        "import numpy as np\n",
        "import pathlib\n",
        "import io\n",
        "import os\n",
        "import pandas as pd\n",
        "import random\n",
        "import re\n",
        "import shutil\n",
        "import speech_recognition as sr\n",
        "import tensorflow as tf\n",
        "from os import listdir\n",
        "from os.path import isfile, join\n",
        "from os import path\n",
        "from plotnine import *\n",
        "from pydub import AudioSegment\n",
        "from sklearn import tree\n",
        "from sklearn.ensemble import RandomForestClassifier, StackingClassifier\n",
        "from sklearn.feature_extraction.text import TfidfVectorizer\n",
        "from sklearn.feature_extraction.text import CountVectorizer\n",
        "from sklearn.linear_model import LogisticRegression\n",
        "from sklearn.metrics import classification_report, accuracy_score, confusion_matrix, plot_confusion_matrix\n",
        "from sklearn.model_selection import train_test_split, cross_val_score, GridSearchCV\n",
        "from sklearn.neighbors import KNeighborsClassifier\n",
        "from sklearn.neural_network import MLPClassifier\n",
        "from sklearn.svm import SVC\n",
        "from pydub.silence import split_on_silence \n",
        "\n",
        "# Cloud storage\n",
        "from google.cloud import storage\n",
        "\n",
        "# .cha file reader\n",
        "import pylangacq"
      ],
      "execution_count": 2,
      "outputs": []
    },
    {
      "cell_type": "code",
      "metadata": {
        "colab": {
          "base_uri": "https://localhost:8080/"
        },
        "id": "VIOZu3Yp7yoV",
        "outputId": "7ffd1efb-e2a9-431c-887d-f4b90b5cd40f"
      },
      "source": [
        "from google.colab import drive\n",
        "drive.mount('/content/drive')"
      ],
      "execution_count": 3,
      "outputs": [
        {
          "output_type": "stream",
          "text": [
            "Mounted at /content/drive\n"
          ],
          "name": "stdout"
        }
      ]
    },
    {
      "cell_type": "markdown",
      "metadata": {
        "id": "S7pDqEm27V-a"
      },
      "source": [
        "# Transcribe audio data to txt data"
      ]
    },
    {
      "cell_type": "code",
      "metadata": {
        "id": "AChR_mX4RXZr"
      },
      "source": [
        "# !ls '/content/drive/My Drive/Berkeley/W210/Capstone/ADReSS-IS2020-data/train/Full_wave_enhanced_audio/cd/'"
      ],
      "execution_count": null,
      "outputs": []
    },
    {
      "cell_type": "code",
      "metadata": {
        "id": "bMhfoxRMTSNn"
      },
      "source": [
        "# initialize the speech recognizer\n",
        "r = sr.Recognizer()\n",
        "\n",
        "# a function that splits the audio file into chunks \n",
        "# and applies speech recognition \n",
        "def silence_based_conversion(path, wav_file): \n",
        "    text_df = pd.DataFrame()\n",
        "  \n",
        "    # open the audio file stored in \n",
        "    # the local system as a wav file. \n",
        "    song = AudioSegment.from_wav(path + wav_file) \n",
        "    print(song)\n",
        "  \n",
        "    # open a file where we will concatenate   \n",
        "    # and store the recognized text \n",
        "    text_file = wav_file.partition('.')[0] + \".txt\"\n",
        "    text_file_dir = path + \"output_text/\" \n",
        "    if not os.path.exists(text_file_dir):\n",
        "        os.makedirs(text_file_dir)    \n",
        "    text_file_path = text_file_dir + text_file\n",
        "    fh = open(text_file_path, \"w+\") \n",
        "          \n",
        "\n",
        "    dBFS = song.dBFS\n",
        "    print('dBFS: ' + str(dBFS))\n",
        "    # chunks = split_on_silence(song, \n",
        "    #     min_silence_len = 500,\n",
        "    #     silence_thresh = dBFS-16,\n",
        "    #     keep_silence = 250 \n",
        "    # )\n",
        "\n",
        "    # split track where silence is 0.5 seconds  \n",
        "    # or more and get chunks \n",
        "    chunks = split_on_silence(song, \n",
        "        # must be silent for at least 0.5 seconds \n",
        "        # or 500 ms. adjust this value based on user \n",
        "        # requirement. if the speaker stays silent for  \n",
        "        # longer, increase this value. else, decrease it. \n",
        "        min_silence_len = 250, \n",
        "  \n",
        "        # consider it silent if quieter than -16 dBFS \n",
        "        # adjust this per requirement \n",
        "        silence_thresh = dBFS - 16\n",
        "        # keep_silence = 250\n",
        "    ) \n",
        "    # setting minimum length of each chunk to 25 seconds\n",
        "    target_length = 20 * 1000 \n",
        "    output_chunks = [chunks[0]]\n",
        "    for chunk in chunks[1:]:\n",
        "      print('Length of chunk: ' + str(len(output_chunks[-1])) )\n",
        "      if len(output_chunks[-1]) < target_length:\n",
        "        output_chunks[-1] += chunk\n",
        "      else:\n",
        "        # if the last output chunk is longer than the target length,\n",
        "        # we can start a new one\n",
        "        output_chunks.append(chunk)    \n",
        "    # print(chunks)\n",
        "  \n",
        "    # create a directory to store the audio chunks. \n",
        "    try: \n",
        "        os.mkdir(path + 'audio_chunks') \n",
        "    except(FileExistsError): \n",
        "        pass\n",
        "  \n",
        "    # move into the directory to \n",
        "    # store the audio files. \n",
        "    os.chdir(path +'audio_chunks') \n",
        "  \n",
        "    i = 0\n",
        "    # process each chunk \n",
        "    for chunk in output_chunks: \n",
        "              \n",
        "        # Create 0.5 seconds silence chunk \n",
        "        chunk_silent = AudioSegment.silent(duration = 10) \n",
        "  \n",
        "        # add 0.5 sec silence to beginning and  \n",
        "        # end of audio chunk. This is done so that \n",
        "        # it doesn't seem abruptly sliced. \n",
        "        audio_chunk = chunk_silent + chunk + chunk_silent \n",
        "  \n",
        "        # export audio chunk and save it in  \n",
        "        # the current directory. \n",
        "        text_file_id = text_file.partition('.')[0]\n",
        "        chunk_file_name = text_file_id + \"_\" + \"chunk\" + str(i) + \".wav\"\n",
        "        print(\"saving \" + chunk_file_name) \n",
        "        # specify the bitrate to be 192 k \n",
        "        audio_chunk.export(\"./\" + chunk_file_name, bitrate ='192k', format =\"wav\") \n",
        "  \n",
        "        # the name of the newly created chunk \n",
        "        filename = chunk_file_name\n",
        "  \n",
        "        print(\"Processing chunk file: \" + filename) \n",
        "  \n",
        "        # get the name of the newly created chunk \n",
        "        # in the AUDIO_FILE variable for later use. \n",
        "        file = filename \n",
        "  \n",
        "        # create a speech recognition object \n",
        "        r = sr.Recognizer() \n",
        "  \n",
        "        # recognize the chunk \n",
        "        with sr.AudioFile(file) as source: \n",
        "            # remove this if it is not working \n",
        "            # correctly. \n",
        "            #r.adjust_for_ambient_noise(source) \n",
        "            audio_listened = r.record(source) \n",
        "  \n",
        "        try: \n",
        "            # try converting it to text \n",
        "            rec = r.recognize_google(audio_listened) \n",
        "            # write the output to the file. \n",
        "            fh.write(rec+\". \") \n",
        "            text_df = text_df.append({'ID': text_file_id, 'Text': rec}, ignore_index = True)\n",
        "  \n",
        "        # catch any errors. \n",
        "        except sr.UnknownValueError: \n",
        "            print(\"Could not understand audio\") \n",
        "  \n",
        "        except sr.RequestError as e: \n",
        "            print(\"Could not request results. check your internet connection\") \n",
        "  \n",
        "        i += 1\n",
        "    return text_df\n",
        "\n",
        "# silence_based_conversion(audio_path_cc, 'S001.wav')        \n",
        "# text_df = silence_based_conversion(audio_path_cd, 'S079.wav')        \n",
        "# print(text_df)\n",
        "# silence_based_conversion(audio_path_cc + 'spkr0.wav')        "
      ],
      "execution_count": 4,
      "outputs": []
    },
    {
      "cell_type": "markdown",
      "metadata": {
        "id": "Oa5fretXfdQw"
      },
      "source": [
        "## Read csv data file with ID, TEXT and MMSE scores to be used for training and validation"
      ]
    },
    {
      "cell_type": "markdown",
      "metadata": {
        "id": "edtMpOLRe4Tw"
      },
      "source": [
        "# BERT Transfer Learning"
      ]
    },
    {
      "cell_type": "code",
      "metadata": {
        "id": "hmbnSP7SRlQM",
        "colab": {
          "base_uri": "https://localhost:8080/"
        },
        "outputId": "0516ef66-46b9-49d3-c0e5-46cceeed7626"
      },
      "source": [
        "!pip install transformers==3.0.2"
      ],
      "execution_count": 5,
      "outputs": [
        {
          "output_type": "stream",
          "text": [
            "Collecting transformers==3.0.2\n",
            "  Downloading transformers-3.0.2-py3-none-any.whl (769 kB)\n",
            "\u001b[K     |████████████████████████████████| 769 kB 4.5 MB/s \n",
            "\u001b[?25hRequirement already satisfied: packaging in /usr/local/lib/python3.7/dist-packages (from transformers==3.0.2) (20.9)\n",
            "Collecting sacremoses\n",
            "  Downloading sacremoses-0.0.43.tar.gz (883 kB)\n",
            "\u001b[K     |████████████████████████████████| 883 kB 12.5 MB/s \n",
            "\u001b[?25hRequirement already satisfied: tqdm>=4.27 in /usr/local/lib/python3.7/dist-packages (from transformers==3.0.2) (4.41.1)\n",
            "Requirement already satisfied: requests in /usr/local/lib/python3.7/dist-packages (from transformers==3.0.2) (2.23.0)\n",
            "Collecting tokenizers==0.8.1.rc1\n",
            "  Downloading tokenizers-0.8.1rc1-cp37-cp37m-manylinux1_x86_64.whl (3.0 MB)\n",
            "\u001b[K     |████████████████████████████████| 3.0 MB 18.0 MB/s \n",
            "\u001b[?25hCollecting sentencepiece!=0.1.92\n",
            "  Downloading sentencepiece-0.1.95-cp37-cp37m-manylinux2014_x86_64.whl (1.2 MB)\n",
            "\u001b[K     |████████████████████████████████| 1.2 MB 37.2 MB/s \n",
            "\u001b[?25hRequirement already satisfied: filelock in /usr/local/lib/python3.7/dist-packages (from transformers==3.0.2) (3.0.12)\n",
            "Requirement already satisfied: regex!=2019.12.17 in /usr/local/lib/python3.7/dist-packages (from transformers==3.0.2) (2019.12.20)\n",
            "Requirement already satisfied: numpy in /usr/local/lib/python3.7/dist-packages (from transformers==3.0.2) (1.19.5)\n",
            "Requirement already satisfied: pyparsing>=2.0.2 in /usr/local/lib/python3.7/dist-packages (from packaging->transformers==3.0.2) (2.4.7)\n",
            "Requirement already satisfied: certifi>=2017.4.17 in /usr/local/lib/python3.7/dist-packages (from requests->transformers==3.0.2) (2020.12.5)\n",
            "Requirement already satisfied: urllib3!=1.25.0,!=1.25.1,<1.26,>=1.21.1 in /usr/local/lib/python3.7/dist-packages (from requests->transformers==3.0.2) (1.24.3)\n",
            "Requirement already satisfied: idna<3,>=2.5 in /usr/local/lib/python3.7/dist-packages (from requests->transformers==3.0.2) (2.10)\n",
            "Requirement already satisfied: chardet<4,>=3.0.2 in /usr/local/lib/python3.7/dist-packages (from requests->transformers==3.0.2) (3.0.4)\n",
            "Requirement already satisfied: six in /usr/local/lib/python3.7/dist-packages (from sacremoses->transformers==3.0.2) (1.15.0)\n",
            "Requirement already satisfied: click in /usr/local/lib/python3.7/dist-packages (from sacremoses->transformers==3.0.2) (7.1.2)\n",
            "Requirement already satisfied: joblib in /usr/local/lib/python3.7/dist-packages (from sacremoses->transformers==3.0.2) (1.0.1)\n",
            "Building wheels for collected packages: sacremoses\n",
            "  Building wheel for sacremoses (setup.py) ... \u001b[?25l\u001b[?25hdone\n",
            "  Created wheel for sacremoses: filename=sacremoses-0.0.43-py3-none-any.whl size=893258 sha256=19247f52ac3e3880421df9df3eab561381aef116b92c71985dad59e43d1ca505\n",
            "  Stored in directory: /root/.cache/pip/wheels/69/09/d1/bf058f7d6fa0ecba2ce7c66be3b8d012beb4bf61a6e0c101c0\n",
            "Successfully built sacremoses\n",
            "Installing collected packages: tokenizers, sentencepiece, sacremoses, transformers\n",
            "Successfully installed sacremoses-0.0.43 sentencepiece-0.1.95 tokenizers-0.8.1rc1 transformers-3.0.2\n"
          ],
          "name": "stdout"
        }
      ]
    },
    {
      "cell_type": "code",
      "metadata": {
        "id": "7DeHcSbJRbs6",
        "colab": {
          "base_uri": "https://localhost:8080/",
          "height": 66,
          "referenced_widgets": [
            "e9dfdb2517554c73857c984743e9131e",
            "71cd93517ac34c98bdc55307d9f14c35",
            "8a36779594514d13905a175e15433f53",
            "59092cd74b644b7bb178c175adc03792",
            "8a0bd952f68f40caadf108dedb23abd9",
            "faad711a27804e098cb31f4e0deb773c",
            "4b945c2458b945deb2793ed5a9cc09b0",
            "b8c0c7c99c864a59bf6711ca7e37f1a3"
          ]
        },
        "outputId": "02aee345-f902-4d6b-84a2-d694297cf7af"
      },
      "source": [
        "from transformers import BertTokenizer\n",
        "bert_name = 'bert-base-uncased'\n",
        "tokenizer = BertTokenizer.from_pretrained(bert_name,\n",
        "                                          add_special_tokens=True,\n",
        "                                          do_lower_case=True,\n",
        "                                          max_length=256,\n",
        "                                          pad_to_max_length=True)\n"
      ],
      "execution_count": 6,
      "outputs": [
        {
          "output_type": "display_data",
          "data": {
            "application/vnd.jupyter.widget-view+json": {
              "model_id": "e9dfdb2517554c73857c984743e9131e",
              "version_minor": 0,
              "version_major": 2
            },
            "text/plain": [
              "HBox(children=(FloatProgress(value=0.0, description='Downloading', max=231508.0, style=ProgressStyle(descripti…"
            ]
          },
          "metadata": {
            "tags": []
          }
        },
        {
          "output_type": "stream",
          "text": [
            "\n"
          ],
          "name": "stdout"
        }
      ]
    },
    {
      "cell_type": "code",
      "metadata": {
        "id": "6uPFIMrsWYU5"
      },
      "source": [
        "def bert_encoder(input_text):\n",
        "    # txt = input_text.numpy().decode('utf-8')\n",
        "    txt = input_text\n",
        "    encoded = tokenizer.encode_plus(txt, add_special_tokens=True, \n",
        "                                    max_length=256, \n",
        "                                    pad_to_max_length=True, \n",
        "                                    return_attention_mask=True, \n",
        "                                    return_token_type_ids=True,\n",
        "                                    truncation=True)\n",
        "    return encoded['input_ids'], encoded['token_type_ids'], \\\n",
        "           encoded['attention_mask']"
      ],
      "execution_count": 7,
      "outputs": []
    },
    {
      "cell_type": "code",
      "metadata": {
        "id": "FYjUyn-sfx3t"
      },
      "source": [
        "def example_to_features(input_ids,attention_masks,token_type_ids,y):\n",
        "  return {\"input_ids\": input_ids,\n",
        "          \"attention_mask\": attention_masks,\n",
        "          \"token_type_ids\": token_type_ids},y\n"
      ],
      "execution_count": 8,
      "outputs": []
    },
    {
      "cell_type": "code",
      "metadata": {
        "id": "x9LqQkO5ED3I"
      },
      "source": [
        "from tensorflow.keras.layers import Dense, Input\n",
        "from tensorflow.keras.models import Model\n",
        "\n",
        "def build_model(transformer, max_len=512):\n",
        "    \"\"\"\n",
        "    https://www.kaggle.com/xhlulu/jigsaw-tpu-distilbert-with-huggingface-and-keras\n",
        "    \"\"\"\n",
        "    input_word_ids = Input(shape=(max_len,), dtype=tf.int32, name=\"input_ids\")\n",
        "    sequence_output = transformer(input_word_ids)[0]\n",
        "    cls_token = sequence_output[:, 0, :]\n",
        "    out = Dense(1, activation='relu')(cls_token)\n",
        "#     run_opts = tf.RunOptions(report_tensor_allocations_upon_oom = True)\n",
        "    model = Model(inputs=input_word_ids, outputs=out)\n",
        "    for layer in model.layers[:-1]:\n",
        "      layer.trainable = False\n",
        "    # model.compile(Adam(lr=1e-5), loss='binary_crossentropy', metrics=['accuracy']) #, options = run_opts)\n",
        "    # optimizer = tf.compat.v1.train.GradientDescentOptimizer(learning_rate=2e-5)\n",
        "    optimizer = tf.keras.optimizers.Adam(learning_rate=2e-5)\n",
        "    model.compile(optimizer = optimizer, \n",
        "                  loss=tf.keras.metrics.mean_squared_error,\n",
        "                  metrics=[tf.keras.metrics.RootMeanSquaredError(name='rmse')])\n",
        "    return model"
      ],
      "execution_count": 11,
      "outputs": []
    },
    {
      "cell_type": "code",
      "metadata": {
        "id": "3D2kLRYpD5nP"
      },
      "source": [
        "import transformers\n",
        "MAX_LEN = 256\n",
        "# with strategy.scope():\n",
        "def create_model():\n",
        "  transformer_layer = (\n",
        "      transformers.TFAutoModelWithLMHead.from_pretrained(bert_name)\n",
        "  )\n",
        "  model = build_model(transformer_layer, max_len=MAX_LEN)\n",
        "  return model\n"
      ],
      "execution_count": 12,
      "outputs": []
    },
    {
      "cell_type": "markdown",
      "metadata": {
        "id": "GDbCeWpHocAw"
      },
      "source": [
        "## Reloaded model for predictions"
      ]
    },
    {
      "cell_type": "code",
      "metadata": {
        "colab": {
          "base_uri": "https://localhost:8080/"
        },
        "id": "fnHT94Brolna",
        "outputId": "46a16a90-4271-4014-eaa0-2990bcb0f2b9"
      },
      "source": [
        "checkpoint_path = \"/content/drive/My Drive/Berkeley/W210/Capstone/BERT_Model_Transcription/training_1/cp.ckpt\"\n",
        "checkpoint_dir = os.path.dirname(checkpoint_path)\n",
        "\n",
        "os.listdir(checkpoint_dir)"
      ],
      "execution_count": 13,
      "outputs": [
        {
          "output_type": "execute_result",
          "data": {
            "text/plain": [
              "['cp.ckpt.index', 'checkpoint', 'cp.ckpt.data-00000-of-00001']"
            ]
          },
          "metadata": {
            "tags": []
          },
          "execution_count": 13
        }
      ]
    },
    {
      "cell_type": "code",
      "metadata": {
        "id": "awzIC1QqmQZ8",
        "colab": {
          "base_uri": "https://localhost:8080/",
          "height": 492,
          "referenced_widgets": [
            "e2da021fae69407ab8775e97c7f540bc",
            "202e5621271741c0ae55e2583889dffb",
            "793781c8d0af4cd2b5e8ee0a69abab62",
            "3ef07cf3c328403c977a17e6df38980c",
            "95df38c66eb842fab798166e5f646c64",
            "685eaa7a071645a6b73976379ad2098f",
            "1e9ae088b48b42508d71dce1e0921fca",
            "9956f5004a2646a88e3ba7fbf3f3d150",
            "b1c9feb9a9774986adbe0856b32eaba3",
            "7ce37fd7f8dc4768ba5d9fc0d0ead8e5",
            "d6786f97b5c54d959478b12a77aa939f",
            "cac258a7f5564fd6bba6739fa7e78429",
            "0322a471ee67485d9bc659db368a0926",
            "bfead1715f4f494896c9095c8c111ec1",
            "78bebaa8adb94c8da790bc05a64dc8b7",
            "def541c9e0e34f3b817d305c0884ce59"
          ]
        },
        "outputId": "4a28ae80-264f-4ea2-9b79-2bf79552abf4"
      },
      "source": [
        "# Loads the weights\n",
        "reloaded_model = create_model()\n",
        "reloaded_model.load_weights(checkpoint_path)\n",
        "reloaded_model.summary()\n",
        "# result = reloaded_model.predict(train_ds)"
      ],
      "execution_count": 14,
      "outputs": [
        {
          "output_type": "display_data",
          "data": {
            "application/vnd.jupyter.widget-view+json": {
              "model_id": "e2da021fae69407ab8775e97c7f540bc",
              "version_minor": 0,
              "version_major": 2
            },
            "text/plain": [
              "HBox(children=(FloatProgress(value=0.0, description='Downloading', max=433.0, style=ProgressStyle(description_…"
            ]
          },
          "metadata": {
            "tags": []
          }
        },
        {
          "output_type": "stream",
          "text": [
            "\n"
          ],
          "name": "stdout"
        },
        {
          "output_type": "display_data",
          "data": {
            "application/vnd.jupyter.widget-view+json": {
              "model_id": "b1c9feb9a9774986adbe0856b32eaba3",
              "version_minor": 0,
              "version_major": 2
            },
            "text/plain": [
              "HBox(children=(FloatProgress(value=0.0, description='Downloading', max=536063208.0, style=ProgressStyle(descri…"
            ]
          },
          "metadata": {
            "tags": []
          }
        },
        {
          "output_type": "stream",
          "text": [
            "\n"
          ],
          "name": "stdout"
        },
        {
          "output_type": "stream",
          "text": [
            "Some weights of the model checkpoint at bert-base-uncased were not used when initializing TFBertForMaskedLM: ['nsp___cls']\n",
            "- This IS expected if you are initializing TFBertForMaskedLM from the checkpoint of a model trained on another task or with another architecture (e.g. initializing a BertForSequenceClassification model from a BertForPretraining model).\n",
            "- This IS NOT expected if you are initializing TFBertForMaskedLM from the checkpoint of a model that you expect to be exactly identical (initializing a BertForSequenceClassification model from a BertForSequenceClassification model).\n",
            "All the weights of TFBertForMaskedLM were initialized from the model checkpoint at bert-base-uncased.\n",
            "If your task is similar to the task the model of the ckeckpoint was trained on, you can already use TFBertForMaskedLM for predictions without further training.\n"
          ],
          "name": "stderr"
        },
        {
          "output_type": "stream",
          "text": [
            "Model: \"model\"\n",
            "_________________________________________________________________\n",
            "Layer (type)                 Output Shape              Param #   \n",
            "=================================================================\n",
            "input_ids (InputLayer)       [(None, 256)]             0         \n",
            "_________________________________________________________________\n",
            "tf_bert_for_masked_lm (TFBer ((None, 256, 30522),)     110104890 \n",
            "_________________________________________________________________\n",
            "tf.__operators__.getitem (Sl (None, 30522)             0         \n",
            "_________________________________________________________________\n",
            "dense (Dense)                (None, 1)                 30523     \n",
            "=================================================================\n",
            "Total params: 110,135,413\n",
            "Trainable params: 30,523\n",
            "Non-trainable params: 110,104,890\n",
            "_________________________________________________________________\n"
          ],
          "name": "stdout"
        }
      ]
    },
    {
      "cell_type": "code",
      "metadata": {
        "id": "ZUReNS52os14"
      },
      "source": [
        "data_path = '/content/drive/My Drive/Berkeley/W210/Capstone/ADReSS-IS2020-data/train'\n",
        "\n",
        "transcription_combination_txt_file_path_orig = data_path + \"/transcription_original_text/\" + \"transcription_combination_id_txt_mmse.csv\""
      ],
      "execution_count": 15,
      "outputs": []
    },
    {
      "cell_type": "code",
      "metadata": {
        "colab": {
          "base_uri": "https://localhost:8080/",
          "height": 204
        },
        "id": "NLunZ1Leo7ay",
        "outputId": "5431673f-6b71-4f90-9644-8fd8a1a0dc88"
      },
      "source": [
        "filtered_merged_data_orig = pd.read_csv(transcription_combination_txt_file_path_orig)\n",
        "filtered_merged_data_orig.tail()"
      ],
      "execution_count": 16,
      "outputs": [
        {
          "output_type": "execute_result",
          "data": {
            "text/html": [
              "<div>\n",
              "<style scoped>\n",
              "    .dataframe tbody tr th:only-of-type {\n",
              "        vertical-align: middle;\n",
              "    }\n",
              "\n",
              "    .dataframe tbody tr th {\n",
              "        vertical-align: top;\n",
              "    }\n",
              "\n",
              "    .dataframe thead th {\n",
              "        text-align: right;\n",
              "    }\n",
              "</style>\n",
              "<table border=\"1\" class=\"dataframe\">\n",
              "  <thead>\n",
              "    <tr style=\"text-align: right;\">\n",
              "      <th></th>\n",
              "      <th>Unnamed: 0</th>\n",
              "      <th>ID</th>\n",
              "      <th>Age</th>\n",
              "      <th>Gender</th>\n",
              "      <th>TEXT</th>\n",
              "      <th>MMSE</th>\n",
              "      <th>Group</th>\n",
              "    </tr>\n",
              "  </thead>\n",
              "  <tbody>\n",
              "    <tr>\n",
              "      <th>103</th>\n",
              "      <td>103</td>\n",
              "      <td>S150</td>\n",
              "      <td>58</td>\n",
              "      <td>male</td>\n",
              "      <td>well the boy on the stool is falling , reachi...</td>\n",
              "      <td>20</td>\n",
              "      <td>cd</td>\n",
              "    </tr>\n",
              "    <tr>\n",
              "      <th>104</th>\n",
              "      <td>104</td>\n",
              "      <td>S151</td>\n",
              "      <td>72</td>\n",
              "      <td>male</td>\n",
              "      <td>the boy and the girl are playing and he's gon...</td>\n",
              "      <td>24</td>\n",
              "      <td>cd</td>\n",
              "    </tr>\n",
              "    <tr>\n",
              "      <th>105</th>\n",
              "      <td>105</td>\n",
              "      <td>S153</td>\n",
              "      <td>68</td>\n",
              "      <td>female</td>\n",
              "      <td>oh you want me to on that ? oh okay looks lik...</td>\n",
              "      <td>12</td>\n",
              "      <td>cd</td>\n",
              "    </tr>\n",
              "    <tr>\n",
              "      <th>106</th>\n",
              "      <td>106</td>\n",
              "      <td>S154</td>\n",
              "      <td>65</td>\n",
              "      <td>female</td>\n",
              "      <td>you want me to tell you ? okay the boy's gett...</td>\n",
              "      <td>20</td>\n",
              "      <td>cd</td>\n",
              "    </tr>\n",
              "    <tr>\n",
              "      <th>107</th>\n",
              "      <td>107</td>\n",
              "      <td>S156</td>\n",
              "      <td>71</td>\n",
              "      <td>female</td>\n",
              "      <td>mhm . well this one is in the cookie jar . an...</td>\n",
              "      <td>13</td>\n",
              "      <td>cd</td>\n",
              "    </tr>\n",
              "  </tbody>\n",
              "</table>\n",
              "</div>"
            ],
            "text/plain": [
              "     Unnamed: 0    ID  ...  MMSE Group\n",
              "103         103  S150  ...    20    cd\n",
              "104         104  S151  ...    24    cd\n",
              "105         105  S153  ...    12    cd\n",
              "106         106  S154  ...    20    cd\n",
              "107         107  S156  ...    13    cd\n",
              "\n",
              "[5 rows x 7 columns]"
            ]
          },
          "metadata": {
            "tags": []
          },
          "execution_count": 16
        }
      ]
    },
    {
      "cell_type": "code",
      "metadata": {
        "id": "PFzY1eUxpuaV"
      },
      "source": [
        "bert_predict_data_orig = [bert_encoder(r) for r in filtered_merged_data_orig[\"TEXT\"]]\n",
        "bert_predict_lbl_orig = filtered_merged_data_orig[\"MMSE\"]\n",
        "bert_predict_data_orig = np.array(bert_predict_data_orig)"
      ],
      "execution_count": 17,
      "outputs": []
    },
    {
      "cell_type": "code",
      "metadata": {
        "colab": {
          "base_uri": "https://localhost:8080/"
        },
        "id": "v9Q8VirwrEeH",
        "outputId": "c61dea3d-9220-4fdd-d481-70c9ce325e38"
      },
      "source": [
        "print(bert_predict_data_orig.shape)\n",
        "print(bert_predict_lbl_orig.shape)"
      ],
      "execution_count": 18,
      "outputs": [
        {
          "output_type": "stream",
          "text": [
            "(108, 3, 256)\n",
            "(108,)\n"
          ],
          "name": "stdout"
        }
      ]
    },
    {
      "cell_type": "code",
      "metadata": {
        "id": "-wVnSQkwqcYR"
      },
      "source": [
        "predict_reviews, predict_segments, predict_masks = np.split(bert_predict_data_orig, 3, axis=1)\n",
        "predict_reviews = predict_reviews.squeeze()\n",
        "predict_segments = predict_segments.squeeze()\n",
        "predict_masks = predict_masks.squeeze()\n",
        "\n",
        "predict_ds = tf.data.Dataset.from_tensor_slices((predict_reviews, \n",
        "predict_masks, predict_segments, bert_predict_lbl_orig)).\\\n",
        "            map(example_to_features).shuffle(100).batch(16)"
      ],
      "execution_count": 19,
      "outputs": []
    },
    {
      "cell_type": "code",
      "metadata": {
        "colab": {
          "base_uri": "https://localhost:8080/"
        },
        "id": "MBFWLTsTsHWs",
        "outputId": "99320dfd-84e8-468e-df41-6729c5caf02c"
      },
      "source": [
        "predict_result = reloaded_model.predict(predict_ds)\n",
        "predict_result"
      ],
      "execution_count": 20,
      "outputs": [
        {
          "output_type": "stream",
          "text": [
            "/usr/local/lib/python3.7/dist-packages/tensorflow/python/keras/engine/functional.py:595: UserWarning: Input dict contained keys ['attention_mask', 'token_type_ids'] which did not match any model input. They will be ignored by the model.\n",
            "  [n for n in tensors.keys() if n not in ref_input_names])\n"
          ],
          "name": "stderr"
        },
        {
          "output_type": "execute_result",
          "data": {
            "text/plain": [
              "array([[17.417488],\n",
              "       [21.89738 ],\n",
              "       [26.807043],\n",
              "       [28.43382 ],\n",
              "       [32.202515],\n",
              "       [ 9.362244],\n",
              "       [26.134857],\n",
              "       [23.153185],\n",
              "       [28.120903],\n",
              "       [27.75021 ],\n",
              "       [31.104382],\n",
              "       [25.091267],\n",
              "       [26.818472],\n",
              "       [21.490232],\n",
              "       [30.082336],\n",
              "       [26.92623 ],\n",
              "       [19.931509],\n",
              "       [29.068512],\n",
              "       [28.223349],\n",
              "       [27.588337],\n",
              "       [26.826227],\n",
              "       [28.70575 ],\n",
              "       [25.580347],\n",
              "       [30.214148],\n",
              "       [32.741512],\n",
              "       [23.949755],\n",
              "       [23.338007],\n",
              "       [14.010484],\n",
              "       [25.996477],\n",
              "       [27.045008],\n",
              "       [27.748589],\n",
              "       [24.551346],\n",
              "       [20.31096 ],\n",
              "       [27.97299 ],\n",
              "       [25.529749],\n",
              "       [28.09269 ],\n",
              "       [29.775274],\n",
              "       [26.120173],\n",
              "       [29.612587],\n",
              "       [26.048782],\n",
              "       [16.683575],\n",
              "       [26.564142],\n",
              "       [29.688723],\n",
              "       [27.377878],\n",
              "       [23.187849],\n",
              "       [11.208713],\n",
              "       [21.238136],\n",
              "       [29.878986],\n",
              "       [27.78851 ],\n",
              "       [27.068914],\n",
              "       [21.96569 ],\n",
              "       [28.613306],\n",
              "       [13.793984],\n",
              "       [24.201311],\n",
              "       [29.766834],\n",
              "       [25.766136],\n",
              "       [23.133068],\n",
              "       [24.178679],\n",
              "       [26.359755],\n",
              "       [24.080704],\n",
              "       [28.149786],\n",
              "       [28.27033 ],\n",
              "       [26.610294],\n",
              "       [25.46044 ],\n",
              "       [32.277096],\n",
              "       [25.830812],\n",
              "       [25.855337],\n",
              "       [23.221567],\n",
              "       [29.73267 ],\n",
              "       [27.376108],\n",
              "       [28.513521],\n",
              "       [25.711084],\n",
              "       [24.426931],\n",
              "       [27.077839],\n",
              "       [28.668411],\n",
              "       [21.319218],\n",
              "       [15.973965],\n",
              "       [23.05    ],\n",
              "       [25.828398],\n",
              "       [22.092793],\n",
              "       [30.613377],\n",
              "       [23.788652],\n",
              "       [28.40016 ],\n",
              "       [24.088434],\n",
              "       [26.227427],\n",
              "       [22.76908 ],\n",
              "       [24.677711],\n",
              "       [24.978958],\n",
              "       [27.455185],\n",
              "       [26.058222],\n",
              "       [21.428463],\n",
              "       [27.58913 ],\n",
              "       [25.427341],\n",
              "       [29.866522],\n",
              "       [28.928358],\n",
              "       [30.870138],\n",
              "       [27.831577],\n",
              "       [29.560087],\n",
              "       [24.38956 ],\n",
              "       [28.051146],\n",
              "       [21.790148],\n",
              "       [25.20003 ],\n",
              "       [19.662802],\n",
              "       [29.968582],\n",
              "       [17.924786],\n",
              "       [20.23459 ],\n",
              "       [28.3156  ],\n",
              "       [23.204737]], dtype=float32)"
            ]
          },
          "metadata": {
            "tags": []
          },
          "execution_count": 20
        }
      ]
    },
    {
      "cell_type": "code",
      "metadata": {
        "colab": {
          "base_uri": "https://localhost:8080/"
        },
        "id": "K_2D83WSi3g1",
        "outputId": "0f016a9f-4472-4d4f-9e71-c252f6f640c5"
      },
      "source": [
        "print(type(predict_result))"
      ],
      "execution_count": null,
      "outputs": [
        {
          "output_type": "stream",
          "text": [
            "<class 'numpy.ndarray'>\n"
          ],
          "name": "stdout"
        }
      ]
    },
    {
      "cell_type": "code",
      "metadata": {
        "id": "z-uHdzZkEgGH"
      },
      "source": [
        "filtered_merged_data_orig['predict'] = predict_result"
      ],
      "execution_count": 21,
      "outputs": []
    },
    {
      "cell_type": "code",
      "metadata": {
        "colab": {
          "base_uri": "https://localhost:8080/",
          "height": 204
        },
        "id": "NhQy0wqFEoai",
        "outputId": "cb37b5fe-76cc-4652-8502-8046ef144e2d"
      },
      "source": [
        "filtered_merged_data_orig.head()"
      ],
      "execution_count": 22,
      "outputs": [
        {
          "output_type": "execute_result",
          "data": {
            "text/html": [
              "<div>\n",
              "<style scoped>\n",
              "    .dataframe tbody tr th:only-of-type {\n",
              "        vertical-align: middle;\n",
              "    }\n",
              "\n",
              "    .dataframe tbody tr th {\n",
              "        vertical-align: top;\n",
              "    }\n",
              "\n",
              "    .dataframe thead th {\n",
              "        text-align: right;\n",
              "    }\n",
              "</style>\n",
              "<table border=\"1\" class=\"dataframe\">\n",
              "  <thead>\n",
              "    <tr style=\"text-align: right;\">\n",
              "      <th></th>\n",
              "      <th>Unnamed: 0</th>\n",
              "      <th>ID</th>\n",
              "      <th>Age</th>\n",
              "      <th>Gender</th>\n",
              "      <th>TEXT</th>\n",
              "      <th>MMSE</th>\n",
              "      <th>Group</th>\n",
              "      <th>predict</th>\n",
              "    </tr>\n",
              "  </thead>\n",
              "  <tbody>\n",
              "    <tr>\n",
              "      <th>0</th>\n",
              "      <td>0</td>\n",
              "      <td>S001</td>\n",
              "      <td>74</td>\n",
              "      <td>male</td>\n",
              "      <td>well there's a mother standing there washing ...</td>\n",
              "      <td>30</td>\n",
              "      <td>cc</td>\n",
              "      <td>17.417488</td>\n",
              "    </tr>\n",
              "    <tr>\n",
              "      <th>1</th>\n",
              "      <td>1</td>\n",
              "      <td>S002</td>\n",
              "      <td>62</td>\n",
              "      <td>female</td>\n",
              "      <td>somebody's getting cookies out_of the cookie ...</td>\n",
              "      <td>30</td>\n",
              "      <td>cc</td>\n",
              "      <td>21.897381</td>\n",
              "    </tr>\n",
              "    <tr>\n",
              "      <th>2</th>\n",
              "      <td>2</td>\n",
              "      <td>S003</td>\n",
              "      <td>69</td>\n",
              "      <td>female</td>\n",
              "      <td>okay . there's a little boy and he's standing...</td>\n",
              "      <td>29</td>\n",
              "      <td>cc</td>\n",
              "      <td>26.807043</td>\n",
              "    </tr>\n",
              "    <tr>\n",
              "      <th>3</th>\n",
              "      <td>3</td>\n",
              "      <td>S004</td>\n",
              "      <td>71</td>\n",
              "      <td>female</td>\n",
              "      <td>are you ready ? well the sink is overflowing ...</td>\n",
              "      <td>30</td>\n",
              "      <td>cc</td>\n",
              "      <td>28.433821</td>\n",
              "    </tr>\n",
              "    <tr>\n",
              "      <th>4</th>\n",
              "      <td>4</td>\n",
              "      <td>S005</td>\n",
              "      <td>74</td>\n",
              "      <td>female</td>\n",
              "      <td>okay . the mother's washing the dishes and th...</td>\n",
              "      <td>30</td>\n",
              "      <td>cc</td>\n",
              "      <td>32.202515</td>\n",
              "    </tr>\n",
              "  </tbody>\n",
              "</table>\n",
              "</div>"
            ],
            "text/plain": [
              "   Unnamed: 0    ID  Age  ... MMSE Group    predict\n",
              "0           0  S001   74  ...   30    cc  17.417488\n",
              "1           1  S002   62  ...   30    cc  21.897381\n",
              "2           2  S003   69  ...   29    cc  26.807043\n",
              "3           3  S004   71  ...   30    cc  28.433821\n",
              "4           4  S005   74  ...   30    cc  32.202515\n",
              "\n",
              "[5 rows x 8 columns]"
            ]
          },
          "metadata": {
            "tags": []
          },
          "execution_count": 22
        }
      ]
    },
    {
      "cell_type": "code",
      "metadata": {
        "colab": {
          "base_uri": "https://localhost:8080/",
          "height": 204
        },
        "id": "bu4ZfIggGFfC",
        "outputId": "d38f8c61-1242-4c61-caa4-732168221720"
      },
      "source": [
        "filtered_merged_data_orig.loc[filtered_merged_data_orig['predict'] > 30, 'predict'] = 30\n",
        "filtered_merged_data_orig.head()"
      ],
      "execution_count": 24,
      "outputs": [
        {
          "output_type": "execute_result",
          "data": {
            "text/html": [
              "<div>\n",
              "<style scoped>\n",
              "    .dataframe tbody tr th:only-of-type {\n",
              "        vertical-align: middle;\n",
              "    }\n",
              "\n",
              "    .dataframe tbody tr th {\n",
              "        vertical-align: top;\n",
              "    }\n",
              "\n",
              "    .dataframe thead th {\n",
              "        text-align: right;\n",
              "    }\n",
              "</style>\n",
              "<table border=\"1\" class=\"dataframe\">\n",
              "  <thead>\n",
              "    <tr style=\"text-align: right;\">\n",
              "      <th></th>\n",
              "      <th>Unnamed: 0</th>\n",
              "      <th>ID</th>\n",
              "      <th>Age</th>\n",
              "      <th>Gender</th>\n",
              "      <th>TEXT</th>\n",
              "      <th>MMSE</th>\n",
              "      <th>Group</th>\n",
              "      <th>predict</th>\n",
              "    </tr>\n",
              "  </thead>\n",
              "  <tbody>\n",
              "    <tr>\n",
              "      <th>0</th>\n",
              "      <td>0</td>\n",
              "      <td>S001</td>\n",
              "      <td>74</td>\n",
              "      <td>male</td>\n",
              "      <td>well there's a mother standing there washing ...</td>\n",
              "      <td>30</td>\n",
              "      <td>cc</td>\n",
              "      <td>17.417488</td>\n",
              "    </tr>\n",
              "    <tr>\n",
              "      <th>1</th>\n",
              "      <td>1</td>\n",
              "      <td>S002</td>\n",
              "      <td>62</td>\n",
              "      <td>female</td>\n",
              "      <td>somebody's getting cookies out_of the cookie ...</td>\n",
              "      <td>30</td>\n",
              "      <td>cc</td>\n",
              "      <td>21.897381</td>\n",
              "    </tr>\n",
              "    <tr>\n",
              "      <th>2</th>\n",
              "      <td>2</td>\n",
              "      <td>S003</td>\n",
              "      <td>69</td>\n",
              "      <td>female</td>\n",
              "      <td>okay . there's a little boy and he's standing...</td>\n",
              "      <td>29</td>\n",
              "      <td>cc</td>\n",
              "      <td>26.807043</td>\n",
              "    </tr>\n",
              "    <tr>\n",
              "      <th>3</th>\n",
              "      <td>3</td>\n",
              "      <td>S004</td>\n",
              "      <td>71</td>\n",
              "      <td>female</td>\n",
              "      <td>are you ready ? well the sink is overflowing ...</td>\n",
              "      <td>30</td>\n",
              "      <td>cc</td>\n",
              "      <td>28.433821</td>\n",
              "    </tr>\n",
              "    <tr>\n",
              "      <th>4</th>\n",
              "      <td>4</td>\n",
              "      <td>S005</td>\n",
              "      <td>74</td>\n",
              "      <td>female</td>\n",
              "      <td>okay . the mother's washing the dishes and th...</td>\n",
              "      <td>30</td>\n",
              "      <td>cc</td>\n",
              "      <td>30.000000</td>\n",
              "    </tr>\n",
              "  </tbody>\n",
              "</table>\n",
              "</div>"
            ],
            "text/plain": [
              "   Unnamed: 0    ID  Age  ... MMSE Group    predict\n",
              "0           0  S001   74  ...   30    cc  17.417488\n",
              "1           1  S002   62  ...   30    cc  21.897381\n",
              "2           2  S003   69  ...   29    cc  26.807043\n",
              "3           3  S004   71  ...   30    cc  28.433821\n",
              "4           4  S005   74  ...   30    cc  30.000000\n",
              "\n",
              "[5 rows x 8 columns]"
            ]
          },
          "metadata": {
            "tags": []
          },
          "execution_count": 24
        }
      ]
    },
    {
      "cell_type": "code",
      "metadata": {
        "colab": {
          "base_uri": "https://localhost:8080/",
          "height": 204
        },
        "id": "gJwnuRROGWl7",
        "outputId": "f2259fa3-de9c-4c44-c260-241d51da1ec0"
      },
      "source": [
        "filtered_merged_data_orig.loc[filtered_merged_data_orig['predict'] >= 24, 'predict_group'] = 'cc'\n",
        "filtered_merged_data_orig.loc[filtered_merged_data_orig['predict'] < 24, 'predict_group'] = 'cd'\n",
        "filtered_merged_data_orig.head()"
      ],
      "execution_count": 25,
      "outputs": [
        {
          "output_type": "execute_result",
          "data": {
            "text/html": [
              "<div>\n",
              "<style scoped>\n",
              "    .dataframe tbody tr th:only-of-type {\n",
              "        vertical-align: middle;\n",
              "    }\n",
              "\n",
              "    .dataframe tbody tr th {\n",
              "        vertical-align: top;\n",
              "    }\n",
              "\n",
              "    .dataframe thead th {\n",
              "        text-align: right;\n",
              "    }\n",
              "</style>\n",
              "<table border=\"1\" class=\"dataframe\">\n",
              "  <thead>\n",
              "    <tr style=\"text-align: right;\">\n",
              "      <th></th>\n",
              "      <th>Unnamed: 0</th>\n",
              "      <th>ID</th>\n",
              "      <th>Age</th>\n",
              "      <th>Gender</th>\n",
              "      <th>TEXT</th>\n",
              "      <th>MMSE</th>\n",
              "      <th>Group</th>\n",
              "      <th>predict</th>\n",
              "      <th>predict_group</th>\n",
              "    </tr>\n",
              "  </thead>\n",
              "  <tbody>\n",
              "    <tr>\n",
              "      <th>0</th>\n",
              "      <td>0</td>\n",
              "      <td>S001</td>\n",
              "      <td>74</td>\n",
              "      <td>male</td>\n",
              "      <td>well there's a mother standing there washing ...</td>\n",
              "      <td>30</td>\n",
              "      <td>cc</td>\n",
              "      <td>17.417488</td>\n",
              "      <td>cd</td>\n",
              "    </tr>\n",
              "    <tr>\n",
              "      <th>1</th>\n",
              "      <td>1</td>\n",
              "      <td>S002</td>\n",
              "      <td>62</td>\n",
              "      <td>female</td>\n",
              "      <td>somebody's getting cookies out_of the cookie ...</td>\n",
              "      <td>30</td>\n",
              "      <td>cc</td>\n",
              "      <td>21.897381</td>\n",
              "      <td>cd</td>\n",
              "    </tr>\n",
              "    <tr>\n",
              "      <th>2</th>\n",
              "      <td>2</td>\n",
              "      <td>S003</td>\n",
              "      <td>69</td>\n",
              "      <td>female</td>\n",
              "      <td>okay . there's a little boy and he's standing...</td>\n",
              "      <td>29</td>\n",
              "      <td>cc</td>\n",
              "      <td>26.807043</td>\n",
              "      <td>cc</td>\n",
              "    </tr>\n",
              "    <tr>\n",
              "      <th>3</th>\n",
              "      <td>3</td>\n",
              "      <td>S004</td>\n",
              "      <td>71</td>\n",
              "      <td>female</td>\n",
              "      <td>are you ready ? well the sink is overflowing ...</td>\n",
              "      <td>30</td>\n",
              "      <td>cc</td>\n",
              "      <td>28.433821</td>\n",
              "      <td>cc</td>\n",
              "    </tr>\n",
              "    <tr>\n",
              "      <th>4</th>\n",
              "      <td>4</td>\n",
              "      <td>S005</td>\n",
              "      <td>74</td>\n",
              "      <td>female</td>\n",
              "      <td>okay . the mother's washing the dishes and th...</td>\n",
              "      <td>30</td>\n",
              "      <td>cc</td>\n",
              "      <td>30.000000</td>\n",
              "      <td>cc</td>\n",
              "    </tr>\n",
              "  </tbody>\n",
              "</table>\n",
              "</div>"
            ],
            "text/plain": [
              "   Unnamed: 0    ID  Age    Gender  ... MMSE  Group    predict  predict_group\n",
              "0           0  S001   74     male   ...   30     cc  17.417488             cd\n",
              "1           1  S002   62   female   ...   30     cc  21.897381             cd\n",
              "2           2  S003   69   female   ...   29     cc  26.807043             cc\n",
              "3           3  S004   71   female   ...   30     cc  28.433821             cc\n",
              "4           4  S005   74   female   ...   30     cc  30.000000             cc\n",
              "\n",
              "[5 rows x 9 columns]"
            ]
          },
          "metadata": {
            "tags": []
          },
          "execution_count": 25
        }
      ]
    },
    {
      "cell_type": "code",
      "metadata": {
        "id": "28qM2rrUnVbm",
        "colab": {
          "base_uri": "https://localhost:8080/"
        },
        "outputId": "1849fea3-f680-46f9-ce25-484c74fef220"
      },
      "source": [
        "predict_result_df = filtered_merged_data_orig[['ID', 'Age', 'Gender', 'MMSE', 'Group', 'predict', 'predict_group']]\n",
        "print(predict_result_df.head())\n",
        "predict_result_df.to_csv(data_path + \"/prediction_results.csv\")"
      ],
      "execution_count": 29,
      "outputs": [
        {
          "output_type": "stream",
          "text": [
            "     ID  Age    Gender  MMSE Group    predict predict_group\n",
            "0  S001   74     male     30    cc  17.417488            cd\n",
            "1  S002   62   female     30    cc  21.897381            cd\n",
            "2  S003   69   female     29    cc  26.807043            cc\n",
            "3  S004   71   female     30    cc  28.433821            cc\n",
            "4  S005   74   female     30    cc  30.000000            cc\n"
          ],
          "name": "stdout"
        }
      ]
    },
    {
      "cell_type": "code",
      "metadata": {
        "id": "wBIm_3C3n2LH"
      },
      "source": [
        ""
      ],
      "execution_count": null,
      "outputs": []
    }
  ]
}