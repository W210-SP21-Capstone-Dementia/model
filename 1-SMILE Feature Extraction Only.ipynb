{
 "cells": [
  {
   "cell_type": "code",
   "execution_count": 1,
   "metadata": {},
   "outputs": [],
   "source": [
    "import os\n",
    "import pathlib\n",
    "import opensmile\n",
    "\n",
    "import numpy as np\n",
    "import pandas as pd\n",
    "import tensorflow as tf\n",
    "from tensorflow.keras import models, layers\n",
    "from tensorflow.keras.layers.experimental import preprocessing\n",
    "\n",
    "import matplotlib.pyplot as plt"
   ]
  },
  {
   "cell_type": "code",
   "execution_count": 2,
   "metadata": {},
   "outputs": [],
   "source": [
    "data_path = '/tf/app/data/ADReSS-IS2020' # change this \n",
    "audio_path_cc = data_path + '/Full_wave_enhanced_audio/cc/'\n",
    "audio_path_cd = data_path + '/Full_wave_enhanced_audio/cd/'\n",
    "\n",
    "\n",
    "text_path_cc = data_path + '/transcription/cc/'\n",
    "text_path_cd = data_path + '/transcription/cd/'"
   ]
  },
  {
   "cell_type": "code",
   "execution_count": 3,
   "metadata": {},
   "outputs": [],
   "source": [
    "meta_cc = pd.read_csv(data_path + '/cc_meta_data.txt', sep=\";\", header=0, \n",
    "                      names = ['ID', 'Age', 'Gender', 'MMSE'])\n",
    "meta_cd = pd.read_csv(data_path + '/cd_meta_data.txt', sep=\";\", header=0, \n",
    "                      names = ['ID', 'Age', 'Gender', 'MMSE'])\n",
    "\n",
    "meta = meta_cc.assign(Group = 'cc').append(meta_cd.assign(Group = 'cd')).reset_index()"
   ]
  },
  {
   "cell_type": "code",
   "execution_count": 4,
   "metadata": {},
   "outputs": [],
   "source": [
    "meta[\"ID\"] = meta[\"ID\"].str.strip()"
   ]
  },
  {
   "cell_type": "code",
   "execution_count": 5,
   "metadata": {},
   "outputs": [],
   "source": [
    "ad_files = [str(f) for f in pathlib.Path(audio_path_cd).glob('*.wav')]\n",
    "control_files = [str(f) for f in pathlib.Path(audio_path_cc).glob('*.wav')]"
   ]
  },
  {
   "cell_type": "code",
   "execution_count": 6,
   "metadata": {},
   "outputs": [],
   "source": [
    "smile = opensmile.Smile(\n",
    "    feature_set=opensmile.FeatureSet.ComParE_2016,\n",
    "    feature_level=opensmile.FeatureLevel.Functionals,\n",
    ")"
   ]
  },
  {
   "cell_type": "code",
   "execution_count": 7,
   "metadata": {},
   "outputs": [],
   "source": [
    "ad_data = smile.process_files(ad_files)\n",
    "control_data = smile.process_files(control_files)"
   ]
  },
  {
   "cell_type": "code",
   "execution_count": 8,
   "metadata": {},
   "outputs": [],
   "source": [
    "def add_MMSE(data):\n",
    "    data.reset_index(inplace=True)\n",
    "    data[\"file\"] = data[\"file\"].str.split(\"/\").str[-1].str.split('.wav').str[0]\n",
    "    data = data.merge(meta[[\"ID\", \"MMSE\"]], how=\"inner\", left_on=\"file\", right_on=\"ID\").drop(\"ID\", axis=1)\n",
    "    data.set_index([\"file\",\"start\",\"end\"], inplace=True)\n",
    "    return data\n",
    "\n",
    "ad_data = add_MMSE(ad_data)\n",
    "control_data = add_MMSE(control_data)"
   ]
  },
  {
   "cell_type": "code",
   "execution_count": 9,
   "metadata": {},
   "outputs": [],
   "source": [
    "data = pd.concat([ad_data,control_data])"
   ]
  },
  {
   "cell_type": "code",
   "execution_count": 10,
   "metadata": {},
   "outputs": [],
   "source": [
    "data = data.sample(frac=1)"
   ]
  },
  {
   "cell_type": "code",
   "execution_count": 11,
   "metadata": {},
   "outputs": [],
   "source": [
    "data = data[data[\"MMSE\"]!=' NA']\n",
    "data[\"MMSE\"] = data[\"MMSE\"].astype(float)"
   ]
  },
  {
   "cell_type": "code",
   "execution_count": 12,
   "metadata": {},
   "outputs": [],
   "source": [
    "train_cutoff = int(len(data)*0.7)\n",
    "val_cutoff = int(len(data)*0.85)\n",
    "\n",
    "train = data[:train_cutoff]\n",
    "val = data[train_cutoff:val_cutoff]\n",
    "test = data[val_cutoff:]\n",
    "\n",
    "train_x = train.drop(\"MMSE\", axis=1).to_numpy()\n",
    "train_y = train[\"MMSE\"].to_numpy()\n",
    "\n",
    "val_x = val.drop(\"MMSE\", axis=1).to_numpy()\n",
    "val_y = val[\"MMSE\"].to_numpy()\n",
    "\n",
    "test_x = test.drop(\"MMSE\", axis=1).to_numpy()\n",
    "test_y = test[\"MMSE\"].to_numpy()"
   ]
  },
  {
   "cell_type": "code",
   "execution_count": 13,
   "metadata": {},
   "outputs": [
    {
     "name": "stdout",
     "output_type": "stream",
     "text": [
      "Model: \"sequential\"\n",
      "_________________________________________________________________\n",
      "Layer (type)                 Output Shape              Param #   \n",
      "=================================================================\n",
      "normalization (Normalization (None, 6373)              12747     \n",
      "_________________________________________________________________\n",
      "dense (Dense)                (None, 2056)              13104944  \n",
      "_________________________________________________________________\n",
      "dropout (Dropout)            (None, 2056)              0         \n",
      "_________________________________________________________________\n",
      "dense_1 (Dense)              (None, 512)               1053184   \n",
      "_________________________________________________________________\n",
      "dropout_1 (Dropout)          (None, 512)               0         \n",
      "_________________________________________________________________\n",
      "dense_2 (Dense)              (None, 128)               65664     \n",
      "_________________________________________________________________\n",
      "dropout_2 (Dropout)          (None, 128)               0         \n",
      "_________________________________________________________________\n",
      "dense_3 (Dense)              (None, 1)                 129       \n",
      "=================================================================\n",
      "Total params: 14,236,668\n",
      "Trainable params: 14,223,921\n",
      "Non-trainable params: 12,747\n",
      "_________________________________________________________________\n"
     ]
    }
   ],
   "source": [
    "norm_layer = preprocessing.Normalization()\n",
    "norm_layer.adapt(train_x)\n",
    "\n",
    "model = models.Sequential([\n",
    "    layers.Input(shape=(6373,)),\n",
    "    norm_layer,\n",
    "    layers.Dense(2056, activation='relu'),\n",
    "    layers.Dropout(0.5),\n",
    "    layers.Dense(512, activation='relu'),\n",
    "    layers.Dropout(0.5),\n",
    "    layers.Dense(128, activation='relu'),\n",
    "    layers.Dropout(0.5),\n",
    "    layers.Dense(1, activation='relu')\n",
    "])\n",
    "\n",
    "model.summary()"
   ]
  },
  {
   "cell_type": "code",
   "execution_count": 14,
   "metadata": {},
   "outputs": [],
   "source": [
    "model.compile(\n",
    "    optimizer=\"adam\",\n",
    "    loss='mse',\n",
    "    metrics=[tf.keras.losses.MeanSquaredError()]\n",
    ")"
   ]
  },
  {
   "cell_type": "code",
   "execution_count": 15,
   "metadata": {},
   "outputs": [
    {
     "name": "stdout",
     "output_type": "stream",
     "text": [
      "Epoch 1/100\n",
      "2/2 [==============================] - 1s 296ms/step - loss: 496.2222 - mean_squared_error: 395.3447 - val_loss: 1435732.8750 - val_mean_squared_error: 1435732.8750\n",
      "Epoch 2/100\n",
      "2/2 [==============================] - 0s 47ms/step - loss: 215.8638 - mean_squared_error: 209.0094 - val_loss: 586818.7500 - val_mean_squared_error: 586818.7500\n",
      "Epoch 3/100\n",
      "2/2 [==============================] - 0s 49ms/step - loss: 102.5193 - mean_squared_error: 105.6612 - val_loss: 199934.7812 - val_mean_squared_error: 199934.7812\n",
      "Epoch 4/100\n",
      "2/2 [==============================] - 0s 52ms/step - loss: 110.6555 - mean_squared_error: 105.7277 - val_loss: 191761.4062 - val_mean_squared_error: 191761.4062\n",
      "Epoch 5/100\n",
      "2/2 [==============================] - 0s 53ms/step - loss: 152.4055 - mean_squared_error: 169.8287 - val_loss: 207558.3438 - val_mean_squared_error: 207558.3438\n",
      "Epoch 6/100\n",
      "2/2 [==============================] - 0s 50ms/step - loss: 222.7461 - mean_squared_error: 262.0979 - val_loss: 146848.9844 - val_mean_squared_error: 146848.9844\n",
      "Epoch 7/100\n",
      "2/2 [==============================] - 0s 50ms/step - loss: 175.0446 - mean_squared_error: 165.0321 - val_loss: 95401.6562 - val_mean_squared_error: 95401.6562\n",
      "Epoch 8/100\n",
      "2/2 [==============================] - 0s 53ms/step - loss: 173.1414 - mean_squared_error: 157.6918 - val_loss: 58579.7031 - val_mean_squared_error: 58579.7031\n",
      "Epoch 9/100\n",
      "2/2 [==============================] - 0s 52ms/step - loss: 184.4649 - mean_squared_error: 190.2168 - val_loss: 55501.8828 - val_mean_squared_error: 55501.8828\n",
      "Epoch 10/100\n",
      "2/2 [==============================] - 0s 46ms/step - loss: 150.8332 - mean_squared_error: 138.0577 - val_loss: 65107.0664 - val_mean_squared_error: 65107.0664\n",
      "Epoch 11/100\n",
      "2/2 [==============================] - 0s 45ms/step - loss: 244.3814 - mean_squared_error: 215.2491 - val_loss: 71431.9453 - val_mean_squared_error: 71431.9453\n",
      "Epoch 12/100\n",
      "2/2 [==============================] - 0s 47ms/step - loss: 166.5075 - mean_squared_error: 192.9363 - val_loss: 64619.2109 - val_mean_squared_error: 64619.2109\n",
      "Epoch 13/100\n",
      "2/2 [==============================] - 0s 45ms/step - loss: 211.0598 - mean_squared_error: 189.5317 - val_loss: 44784.2734 - val_mean_squared_error: 44784.2734\n",
      "Epoch 14/100\n",
      "2/2 [==============================] - 0s 46ms/step - loss: 163.8923 - mean_squared_error: 184.8362 - val_loss: 31789.4023 - val_mean_squared_error: 31789.4023\n",
      "Epoch 15/100\n",
      "2/2 [==============================] - 0s 51ms/step - loss: 162.8450 - mean_squared_error: 169.7949 - val_loss: 29923.8203 - val_mean_squared_error: 29923.8203\n",
      "Epoch 16/100\n",
      "2/2 [==============================] - 0s 51ms/step - loss: 171.1053 - mean_squared_error: 181.4630 - val_loss: 30125.6621 - val_mean_squared_error: 30125.6621\n",
      "Epoch 17/100\n",
      "2/2 [==============================] - 0s 49ms/step - loss: 231.2471 - mean_squared_error: 188.6047 - val_loss: 28434.7344 - val_mean_squared_error: 28434.7344\n",
      "Epoch 18/100\n",
      "2/2 [==============================] - 0s 47ms/step - loss: 141.9814 - mean_squared_error: 141.5930 - val_loss: 29290.4121 - val_mean_squared_error: 29290.4121\n",
      "Epoch 19/100\n",
      "2/2 [==============================] - 0s 51ms/step - loss: 129.2951 - mean_squared_error: 156.0725 - val_loss: 30983.7031 - val_mean_squared_error: 30983.7031\n",
      "Epoch 20/100\n",
      "2/2 [==============================] - 0s 45ms/step - loss: 109.5235 - mean_squared_error: 99.8948 - val_loss: 32998.3828 - val_mean_squared_error: 32998.3828\n",
      "Epoch 21/100\n",
      "2/2 [==============================] - 0s 46ms/step - loss: 132.1336 - mean_squared_error: 131.8241 - val_loss: 32703.4961 - val_mean_squared_error: 32703.4961\n",
      "Epoch 22/100\n",
      "2/2 [==============================] - 0s 50ms/step - loss: 168.4572 - mean_squared_error: 228.0884 - val_loss: 29617.8438 - val_mean_squared_error: 29617.8438\n",
      "Epoch 23/100\n",
      "2/2 [==============================] - 0s 49ms/step - loss: 140.8294 - mean_squared_error: 149.1919 - val_loss: 23934.6113 - val_mean_squared_error: 23934.6113\n",
      "Epoch 24/100\n",
      "2/2 [==============================] - 0s 46ms/step - loss: 174.3787 - mean_squared_error: 167.3986 - val_loss: 17606.7617 - val_mean_squared_error: 17606.7617\n",
      "Epoch 25/100\n",
      "2/2 [==============================] - 0s 47ms/step - loss: 149.2256 - mean_squared_error: 133.0372 - val_loss: 13624.4277 - val_mean_squared_error: 13624.4277\n",
      "Epoch 26/100\n",
      "2/2 [==============================] - 0s 104ms/step - loss: 123.5898 - mean_squared_error: 131.3631 - val_loss: 11601.6680 - val_mean_squared_error: 11601.6680\n",
      "Epoch 27/100\n",
      "2/2 [==============================] - 0s 46ms/step - loss: 152.2928 - mean_squared_error: 180.5169 - val_loss: 14146.3125 - val_mean_squared_error: 14146.3125\n",
      "Epoch 28/100\n",
      "2/2 [==============================] - 0s 48ms/step - loss: 151.1950 - mean_squared_error: 149.4235 - val_loss: 20239.5391 - val_mean_squared_error: 20239.5391\n",
      "Epoch 29/100\n",
      "2/2 [==============================] - 0s 45ms/step - loss: 225.7573 - mean_squared_error: 231.1986 - val_loss: 20490.2832 - val_mean_squared_error: 20490.2832\n",
      "Epoch 30/100\n",
      "2/2 [==============================] - 0s 49ms/step - loss: 198.6173 - mean_squared_error: 216.1971 - val_loss: 15470.4639 - val_mean_squared_error: 15470.4639\n",
      "Epoch 31/100\n",
      "2/2 [==============================] - 0s 47ms/step - loss: 128.3203 - mean_squared_error: 119.0431 - val_loss: 12736.0000 - val_mean_squared_error: 12736.0000\n",
      "Epoch 32/100\n",
      "2/2 [==============================] - 0s 45ms/step - loss: 151.5315 - mean_squared_error: 147.4463 - val_loss: 11387.8838 - val_mean_squared_error: 11387.8838\n",
      "Epoch 33/100\n",
      "2/2 [==============================] - 0s 46ms/step - loss: 148.6497 - mean_squared_error: 123.4276 - val_loss: 11351.6270 - val_mean_squared_error: 11351.6270\n",
      "Epoch 34/100\n",
      "2/2 [==============================] - 0s 48ms/step - loss: 121.3652 - mean_squared_error: 144.3297 - val_loss: 13115.9570 - val_mean_squared_error: 13115.9570\n",
      "Epoch 35/100\n",
      "2/2 [==============================] - 0s 49ms/step - loss: 181.5059 - mean_squared_error: 148.8524 - val_loss: 11864.0439 - val_mean_squared_error: 11864.0439\n",
      "Epoch 36/100\n",
      "2/2 [==============================] - 0s 47ms/step - loss: 116.4418 - mean_squared_error: 124.4840 - val_loss: 10853.6533 - val_mean_squared_error: 10853.6533\n",
      "Epoch 37/100\n",
      "2/2 [==============================] - 0s 47ms/step - loss: 141.5720 - mean_squared_error: 148.3867 - val_loss: 9155.5713 - val_mean_squared_error: 9155.5713\n",
      "Epoch 38/100\n",
      "2/2 [==============================] - 0s 45ms/step - loss: 99.8425 - mean_squared_error: 99.0508 - val_loss: 7925.3423 - val_mean_squared_error: 7925.3423\n",
      "Epoch 39/100\n",
      "2/2 [==============================] - 0s 46ms/step - loss: 102.2685 - mean_squared_error: 100.4543 - val_loss: 8230.8770 - val_mean_squared_error: 8230.8770\n",
      "Epoch 40/100\n",
      "2/2 [==============================] - 0s 45ms/step - loss: 120.1819 - mean_squared_error: 110.4011 - val_loss: 8422.9639 - val_mean_squared_error: 8422.9639\n",
      "Epoch 41/100\n",
      "2/2 [==============================] - 0s 45ms/step - loss: 119.2564 - mean_squared_error: 93.4857 - val_loss: 7625.9321 - val_mean_squared_error: 7625.9321\n",
      "Epoch 42/100\n",
      "2/2 [==============================] - 0s 45ms/step - loss: 115.1336 - mean_squared_error: 102.7158 - val_loss: 9535.3770 - val_mean_squared_error: 9535.3770\n",
      "Epoch 43/100\n",
      "2/2 [==============================] - 0s 46ms/step - loss: 117.5718 - mean_squared_error: 132.6516 - val_loss: 10030.0322 - val_mean_squared_error: 10030.0322\n",
      "Epoch 44/100\n",
      "2/2 [==============================] - 0s 45ms/step - loss: 88.7948 - mean_squared_error: 103.0500 - val_loss: 12267.5723 - val_mean_squared_error: 12267.5723\n",
      "Epoch 45/100\n",
      "2/2 [==============================] - 0s 45ms/step - loss: 128.6298 - mean_squared_error: 184.1639 - val_loss: 12774.1914 - val_mean_squared_error: 12774.1914\n",
      "Epoch 46/100\n",
      "2/2 [==============================] - 0s 45ms/step - loss: 131.1970 - mean_squared_error: 143.1576 - val_loss: 12657.6230 - val_mean_squared_error: 12657.6230\n",
      "Epoch 47/100\n",
      "2/2 [==============================] - 0s 45ms/step - loss: 103.8897 - mean_squared_error: 107.0592 - val_loss: 14900.7676 - val_mean_squared_error: 14900.7676\n",
      "Epoch 48/100\n",
      "2/2 [==============================] - 0s 45ms/step - loss: 76.3771 - mean_squared_error: 73.3864 - val_loss: 14053.3857 - val_mean_squared_error: 14053.3857\n",
      "Epoch 49/100\n",
      "2/2 [==============================] - 0s 45ms/step - loss: 140.8807 - mean_squared_error: 148.3147 - val_loss: 11447.3301 - val_mean_squared_error: 11447.3301\n",
      "Epoch 50/100\n",
      "2/2 [==============================] - 0s 48ms/step - loss: 98.6748 - mean_squared_error: 101.4542 - val_loss: 10872.1416 - val_mean_squared_error: 10872.1416\n",
      "Epoch 51/100\n",
      "2/2 [==============================] - 0s 45ms/step - loss: 97.8193 - mean_squared_error: 92.5957 - val_loss: 10928.0527 - val_mean_squared_error: 10928.0527\n",
      "Epoch 52/100\n",
      "2/2 [==============================] - 0s 47ms/step - loss: 100.2675 - mean_squared_error: 111.5395 - val_loss: 12095.0723 - val_mean_squared_error: 12095.0723\n",
      "Epoch 53/100\n",
      "2/2 [==============================] - 0s 45ms/step - loss: 153.3678 - mean_squared_error: 142.1417 - val_loss: 12495.5107 - val_mean_squared_error: 12495.5107\n",
      "Epoch 54/100\n",
      "2/2 [==============================] - 0s 45ms/step - loss: 153.3076 - mean_squared_error: 126.8254 - val_loss: 13312.6396 - val_mean_squared_error: 13312.6396\n",
      "Epoch 55/100\n",
      "2/2 [==============================] - 0s 49ms/step - loss: 102.7349 - mean_squared_error: 92.0086 - val_loss: 14622.0205 - val_mean_squared_error: 14622.0205\n",
      "Epoch 56/100\n",
      "2/2 [==============================] - 0s 48ms/step - loss: 92.1090 - mean_squared_error: 119.2778 - val_loss: 16240.8936 - val_mean_squared_error: 16240.8936\n",
      "Epoch 57/100\n",
      "2/2 [==============================] - 0s 45ms/step - loss: 107.7149 - mean_squared_error: 108.4437 - val_loss: 17884.5273 - val_mean_squared_error: 17884.5273\n",
      "Epoch 58/100\n",
      "2/2 [==============================] - 0s 46ms/step - loss: 129.6693 - mean_squared_error: 121.7737 - val_loss: 17296.8027 - val_mean_squared_error: 17296.8027\n",
      "Epoch 59/100\n",
      "2/2 [==============================] - 0s 46ms/step - loss: 123.9763 - mean_squared_error: 120.2792 - val_loss: 17808.5352 - val_mean_squared_error: 17808.5352\n",
      "Epoch 60/100\n",
      "2/2 [==============================] - 0s 45ms/step - loss: 144.8084 - mean_squared_error: 126.0627 - val_loss: 15601.9072 - val_mean_squared_error: 15601.9072\n",
      "Epoch 61/100\n",
      "2/2 [==============================] - 0s 45ms/step - loss: 84.8772 - mean_squared_error: 109.3842 - val_loss: 13314.6992 - val_mean_squared_error: 13314.6992\n",
      "Epoch 62/100\n",
      "2/2 [==============================] - 0s 47ms/step - loss: 81.5527 - mean_squared_error: 102.1351 - val_loss: 13122.7715 - val_mean_squared_error: 13122.7715\n",
      "Epoch 63/100\n",
      "2/2 [==============================] - 0s 46ms/step - loss: 94.8368 - mean_squared_error: 86.3068 - val_loss: 12430.4932 - val_mean_squared_error: 12430.4932\n",
      "Epoch 64/100\n",
      "2/2 [==============================] - 0s 47ms/step - loss: 98.1497 - mean_squared_error: 77.5315 - val_loss: 10808.6357 - val_mean_squared_error: 10808.6357\n",
      "Epoch 65/100\n",
      "2/2 [==============================] - 0s 44ms/step - loss: 92.7914 - mean_squared_error: 88.8760 - val_loss: 9282.1514 - val_mean_squared_error: 9282.1514\n",
      "Epoch 66/100\n",
      "2/2 [==============================] - 0s 45ms/step - loss: 103.1266 - mean_squared_error: 115.8013 - val_loss: 8967.6230 - val_mean_squared_error: 8967.6230\n",
      "Epoch 67/100\n",
      "2/2 [==============================] - 0s 45ms/step - loss: 108.2113 - mean_squared_error: 92.6913 - val_loss: 9879.2383 - val_mean_squared_error: 9879.2383\n",
      "Epoch 68/100\n",
      "2/2 [==============================] - 0s 44ms/step - loss: 74.2290 - mean_squared_error: 87.3247 - val_loss: 11517.8418 - val_mean_squared_error: 11517.8418\n",
      "Epoch 69/100\n",
      "2/2 [==============================] - 0s 45ms/step - loss: 100.5278 - mean_squared_error: 136.9425 - val_loss: 15226.8330 - val_mean_squared_error: 15226.8330\n",
      "Epoch 70/100\n",
      "2/2 [==============================] - 0s 45ms/step - loss: 120.3630 - mean_squared_error: 106.1652 - val_loss: 17945.1484 - val_mean_squared_error: 17945.1484\n",
      "Epoch 71/100\n",
      "2/2 [==============================] - 0s 45ms/step - loss: 90.3594 - mean_squared_error: 84.6007 - val_loss: 19515.6719 - val_mean_squared_error: 19515.6719\n",
      "Epoch 72/100\n",
      "2/2 [==============================] - 0s 45ms/step - loss: 181.3049 - mean_squared_error: 151.2647 - val_loss: 19058.5820 - val_mean_squared_error: 19058.5820\n",
      "Epoch 73/100\n",
      "2/2 [==============================] - 0s 50ms/step - loss: 130.1656 - mean_squared_error: 175.5098 - val_loss: 15455.6934 - val_mean_squared_error: 15455.6934\n",
      "Epoch 74/100\n",
      "2/2 [==============================] - 0s 46ms/step - loss: 133.4107 - mean_squared_error: 115.0909 - val_loss: 12103.2871 - val_mean_squared_error: 12103.2871\n",
      "Epoch 75/100\n",
      "2/2 [==============================] - 0s 45ms/step - loss: 76.7442 - mean_squared_error: 70.5346 - val_loss: 11813.6953 - val_mean_squared_error: 11813.6953\n",
      "Epoch 76/100\n",
      "2/2 [==============================] - 0s 102ms/step - loss: 86.7429 - mean_squared_error: 87.5545 - val_loss: 13723.8018 - val_mean_squared_error: 13723.8018\n",
      "Epoch 77/100\n",
      "2/2 [==============================] - 0s 46ms/step - loss: 107.9788 - mean_squared_error: 93.0746 - val_loss: 17024.9551 - val_mean_squared_error: 17024.9551\n",
      "Epoch 78/100\n",
      "2/2 [==============================] - 0s 44ms/step - loss: 66.5850 - mean_squared_error: 60.8355 - val_loss: 20028.3809 - val_mean_squared_error: 20028.3809\n",
      "Epoch 79/100\n",
      "2/2 [==============================] - 0s 45ms/step - loss: 94.1003 - mean_squared_error: 89.1815 - val_loss: 20176.6367 - val_mean_squared_error: 20176.6367\n",
      "Epoch 80/100\n",
      "2/2 [==============================] - 0s 45ms/step - loss: 114.6040 - mean_squared_error: 99.5431 - val_loss: 19102.3828 - val_mean_squared_error: 19102.3828\n",
      "Epoch 81/100\n",
      "2/2 [==============================] - 0s 48ms/step - loss: 151.9242 - mean_squared_error: 135.7352 - val_loss: 17605.5977 - val_mean_squared_error: 17605.5977\n",
      "Epoch 82/100\n",
      "2/2 [==============================] - 0s 50ms/step - loss: 82.6120 - mean_squared_error: 85.6798 - val_loss: 17799.3281 - val_mean_squared_error: 17799.3281\n",
      "Epoch 83/100\n",
      "2/2 [==============================] - 0s 49ms/step - loss: 90.0168 - mean_squared_error: 90.3884 - val_loss: 22500.6992 - val_mean_squared_error: 22500.6992\n",
      "Epoch 84/100\n",
      "2/2 [==============================] - 0s 50ms/step - loss: 99.5003 - mean_squared_error: 96.1732 - val_loss: 26118.3535 - val_mean_squared_error: 26118.3535\n",
      "Epoch 85/100\n",
      "2/2 [==============================] - 0s 47ms/step - loss: 57.0864 - mean_squared_error: 55.1148 - val_loss: 28256.0449 - val_mean_squared_error: 28256.0449\n",
      "Epoch 86/100\n",
      "2/2 [==============================] - 0s 47ms/step - loss: 76.0378 - mean_squared_error: 71.3533 - val_loss: 31718.5059 - val_mean_squared_error: 31718.5059\n",
      "Epoch 87/100\n",
      "2/2 [==============================] - 0s 45ms/step - loss: 89.6465 - mean_squared_error: 89.1917 - val_loss: 34633.2695 - val_mean_squared_error: 34633.2695\n",
      "Epoch 88/100\n",
      "2/2 [==============================] - 0s 49ms/step - loss: 89.5920 - mean_squared_error: 81.9893 - val_loss: 36089.6523 - val_mean_squared_error: 36089.6523\n",
      "Epoch 89/100\n",
      "2/2 [==============================] - 0s 49ms/step - loss: 82.1468 - mean_squared_error: 74.5201 - val_loss: 37111.4062 - val_mean_squared_error: 37111.4062\n",
      "Epoch 90/100\n",
      "2/2 [==============================] - 0s 45ms/step - loss: 65.8208 - mean_squared_error: 69.2270 - val_loss: 35541.5781 - val_mean_squared_error: 35541.5781\n",
      "Epoch 91/100\n",
      "2/2 [==============================] - 0s 46ms/step - loss: 68.5038 - mean_squared_error: 71.6065 - val_loss: 31902.0098 - val_mean_squared_error: 31902.0098\n",
      "Epoch 92/100\n",
      "2/2 [==============================] - 0s 46ms/step - loss: 75.0152 - mean_squared_error: 71.8279 - val_loss: 30094.4648 - val_mean_squared_error: 30094.4648\n",
      "Epoch 93/100\n",
      "2/2 [==============================] - 0s 46ms/step - loss: 75.1299 - mean_squared_error: 75.8984 - val_loss: 32694.3594 - val_mean_squared_error: 32694.3594\n",
      "Epoch 94/100\n",
      "2/2 [==============================] - 0s 48ms/step - loss: 92.0087 - mean_squared_error: 89.2700 - val_loss: 37251.3945 - val_mean_squared_error: 37251.3945\n",
      "Epoch 95/100\n",
      "2/2 [==============================] - 0s 47ms/step - loss: 82.2110 - mean_squared_error: 68.8660 - val_loss: 41957.5742 - val_mean_squared_error: 41957.5742\n"
     ]
    },
    {
     "name": "stdout",
     "output_type": "stream",
     "text": [
      "Epoch 96/100\n",
      "2/2 [==============================] - 0s 44ms/step - loss: 74.9675 - mean_squared_error: 79.7580 - val_loss: 47313.6914 - val_mean_squared_error: 47313.6914\n",
      "Epoch 97/100\n",
      "2/2 [==============================] - 0s 47ms/step - loss: 87.9410 - mean_squared_error: 113.3675 - val_loss: 51129.0273 - val_mean_squared_error: 51129.0273\n",
      "Epoch 98/100\n",
      "2/2 [==============================] - 0s 47ms/step - loss: 73.7625 - mean_squared_error: 66.6808 - val_loss: 54410.1094 - val_mean_squared_error: 54410.1094\n",
      "Epoch 99/100\n",
      "2/2 [==============================] - 0s 45ms/step - loss: 64.7811 - mean_squared_error: 76.4528 - val_loss: 52406.0000 - val_mean_squared_error: 52406.0000\n",
      "Epoch 100/100\n",
      "2/2 [==============================] - 0s 49ms/step - loss: 66.4725 - mean_squared_error: 85.2526 - val_loss: 48574.9141 - val_mean_squared_error: 48574.9141\n"
     ]
    }
   ],
   "source": [
    "EPOCHS = 100\n",
    "history = model.fit(\n",
    "    train_x,\n",
    "    train_y,\n",
    "    batch_size=64,\n",
    "    epochs=EPOCHS,\n",
    "    validation_data=(val_x, val_y)\n",
    ")"
   ]
  },
  {
   "cell_type": "code",
   "execution_count": 18,
   "metadata": {},
   "outputs": [
    {
     "data": {
      "image/png": "[encoded data removed]",
      "text/plain": [
       "<Figure size 432x288 with 1 Axes>"
      ]
     },
     "metadata": {
      "needs_background": "light"
     },
     "output_type": "display_data"
    }
   ],
   "source": [
    "metrics = history.history\n",
    "plt.plot(history.epoch, np.sqrt(metrics['mean_squared_error']), np.sqrt(metrics['val_mean_squared_error']))\n",
    "plt.legend(['rmse', 'val_rmse'])\n",
    "plt.show()"
   ]
  },
  {
   "cell_type": "code",
   "execution_count": 17,
   "metadata": {},
   "outputs": [
    {
     "name": "stdout",
     "output_type": "stream",
     "text": [
      "Evaluate on test data\n",
      "1/1 [==============================] - 0s 12ms/step - loss: 126.6833 - mean_squared_error: 126.6833\n",
      "test rmse: 11.255365406207215\n"
     ]
    }
   ],
   "source": [
    "print(\"Evaluate on test data\")\n",
    "results = model.evaluate(test_x, test_y, batch_size=64)\n",
    "print(\"test rmse:\", np.sqrt(results)[0])"
   ]
  },
  {
   "cell_type": "code",
   "execution_count": null,
   "metadata": {},
   "outputs": [],
   "source": []
  }
 ],
 "metadata": {
  "kernelspec": {
   "display_name": "Python 3",
   "language": "python",
   "name": "python3"
  },
  "language_info": {
   "codemirror_mode": {
    "name": "ipython",
    "version": 3
   },
   "file_extension": ".py",
   "mimetype": "text/x-python",
   "name": "python",
   "nbconvert_exporter": "python",
   "pygments_lexer": "ipython3",
   "version": "3.6.9"
  }
 },
 "nbformat": 4,
 "nbformat_minor": 2
}
