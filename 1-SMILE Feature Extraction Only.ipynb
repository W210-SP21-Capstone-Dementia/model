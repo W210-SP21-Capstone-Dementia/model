{
 "cells": [
  {
   "cell_type": "code",
   "execution_count": 1,
   "metadata": {},
   "outputs": [],
   "source": [
    "import os\n",
    "import pathlib\n",
    "import opensmile\n",
    "\n",
    "import numpy as np\n",
    "import pandas as pd\n",
    "import tensorflow as tf\n",
    "from tensorflow.keras import models, layers\n",
    "from tensorflow.keras.layers.experimental import preprocessing\n",
    "\n",
    "import matplotlib.pyplot as plt"
   ]
  },
  {
   "cell_type": "code",
   "execution_count": 7,
   "metadata": {},
   "outputs": [],
   "source": [
    "data_path = '/tf/data/ADReSS-IS2020' # change this \n",
    "audio_path_cc = data_path + '/Full_wave_enhanced_audio/cc/'\n",
    "audio_path_cd = data_path + '/Full_wave_enhanced_audio/cd/'\n",
    "\n",
    "\n",
    "text_path_cc = data_path + '/transcription/cc/'\n",
    "text_path_cd = data_path + '/transcription/cd/'"
   ]
  },
  {
   "cell_type": "code",
   "execution_count": 8,
   "metadata": {},
   "outputs": [],
   "source": [
    "meta_cc = pd.read_csv(data_path + '/cc_meta_data.txt', sep=\";\", header=0, \n",
    "                      names = ['ID', 'Age', 'Gender', 'MMSE'])\n",
    "meta_cd = pd.read_csv(data_path + '/cd_meta_data.txt', sep=\";\", header=0, \n",
    "                      names = ['ID', 'Age', 'Gender', 'MMSE'])\n",
    "\n",
    "meta = meta_cc.assign(Group = 'cc').append(meta_cd.assign(Group = 'cd')).reset_index()"
   ]
  },
  {
   "cell_type": "code",
   "execution_count": 9,
   "metadata": {},
   "outputs": [],
   "source": [
    "meta[\"ID\"] = meta[\"ID\"].str.strip()"
   ]
  },
  {
   "cell_type": "code",
   "execution_count": 10,
   "metadata": {},
   "outputs": [],
   "source": [
    "ad_files = [str(f) for f in pathlib.Path(audio_path_cd).glob('*.wav')]\n",
    "control_files = [str(f) for f in pathlib.Path(audio_path_cc).glob('*.wav')]"
   ]
  },
  {
   "cell_type": "code",
   "execution_count": 11,
   "metadata": {},
   "outputs": [],
   "source": [
    "smile = opensmile.Smile(\n",
    "    feature_set=opensmile.FeatureSet.ComParE_2016,\n",
    "    feature_level=opensmile.FeatureLevel.Functionals,\n",
    ")"
   ]
  },
  {
   "cell_type": "code",
   "execution_count": null,
   "metadata": {},
   "outputs": [],
   "source": [
    "ad_data = smile.process_files(ad_files)\n",
    "control_data = smile.process_files(control_files)"
   ]
  },
  {
   "cell_type": "code",
   "execution_count": null,
   "metadata": {},
   "outputs": [],
   "source": [
    "def add_MMSE(data):\n",
    "    data.reset_index(inplace=True)\n",
    "    data[\"filename\"] = data[\"file\"].str.split(\"/\").str[-1].str.split('.wav').str[0]\n",
    "    data = data.merge(meta[[\"ID\", \"MMSE\"]], how=\"inner\", left_on=\"filename\", right_on=\"ID\").drop([\"ID\",\"filename\"], axis=1)\n",
    "    data.set_index([\"file\",\"start\",\"end\"], inplace=True)\n",
    "    return data\n",
    "\n",
    "ad_data = add_MMSE(ad_data)\n",
    "control_data = add_MMSE(control_data)"
   ]
  },
  {
   "cell_type": "code",
   "execution_count": null,
   "metadata": {},
   "outputs": [],
   "source": [
    "data = pd.concat([ad_data,control_data])"
   ]
  },
  {
   "cell_type": "code",
   "execution_count": null,
   "metadata": {},
   "outputs": [],
   "source": [
    "data = data.sample(frac=1)"
   ]
  },
  {
   "cell_type": "code",
   "execution_count": null,
   "metadata": {},
   "outputs": [],
   "source": [
    "data = data[data[\"MMSE\"]!=' NA']\n",
    "data[\"MMSE\"] = data[\"MMSE\"].astype(float)"
   ]
  },
  {
   "cell_type": "code",
   "execution_count": null,
   "metadata": {},
   "outputs": [],
   "source": [
    "data"
   ]
  },
  {
   "cell_type": "code",
   "execution_count": 17,
   "metadata": {},
   "outputs": [],
   "source": [
    "train_cutoff = int(len(data)*0.7)\n",
    "val_cutoff = int(len(data)*0.85)\n",
    "\n",
    "train = data[:train_cutoff]\n",
    "val = data[train_cutoff:val_cutoff]\n",
    "test = data[val_cutoff:]\n",
    "\n",
    "train_x = train.drop(\"MMSE\", axis=1).to_numpy()\n",
    "train_y = train[\"MMSE\"].to_numpy()\n",
    "\n",
    "val_x = val.drop(\"MMSE\", axis=1).to_numpy()\n",
    "val_y = val[\"MMSE\"].to_numpy()\n",
    "\n",
    "test_x = test.drop(\"MMSE\", axis=1).to_numpy()\n",
    "test_y = test[\"MMSE\"].to_numpy()"
   ]
  },
  {
   "cell_type": "code",
   "execution_count": 18,
   "metadata": {},
   "outputs": [
    {
     "name": "stdout",
     "output_type": "stream",
     "text": [
      "Model: \"sequential\"\n",
      "_________________________________________________________________\n",
      "Layer (type)                 Output Shape              Param #   \n",
      "=================================================================\n",
      "normalization (Normalization (None, 6373)              12747     \n",
      "_________________________________________________________________\n",
      "dense (Dense)                (None, 2056)              13104944  \n",
      "_________________________________________________________________\n",
      "dropout (Dropout)            (None, 2056)              0         \n",
      "_________________________________________________________________\n",
      "dense_1 (Dense)              (None, 512)               1053184   \n",
      "_________________________________________________________________\n",
      "dropout_1 (Dropout)          (None, 512)               0         \n",
      "_________________________________________________________________\n",
      "dense_2 (Dense)              (None, 128)               65664     \n",
      "_________________________________________________________________\n",
      "dropout_2 (Dropout)          (None, 128)               0         \n",
      "_________________________________________________________________\n",
      "dense_3 (Dense)              (None, 1)                 129       \n",
      "=================================================================\n",
      "Total params: 14,236,668\n",
      "Trainable params: 14,223,921\n",
      "Non-trainable params: 12,747\n",
      "_________________________________________________________________\n"
     ]
    }
   ],
   "source": [
    "norm_layer = preprocessing.Normalization()\n",
    "norm_layer.adapt(train_x)\n",
    "\n",
    "model = models.Sequential([\n",
    "    layers.Input(shape=(6373,)),\n",
    "    norm_layer,\n",
    "    layers.Dense(2056, activation='relu'),\n",
    "    layers.Dropout(0.5),\n",
    "    layers.Dense(512, activation='relu'),\n",
    "    layers.Dropout(0.5),\n",
    "    layers.Dense(128, activation='relu'),\n",
    "    layers.Dropout(0.5),\n",
    "    layers.Dense(1, activation='relu')\n",
    "])\n",
    "\n",
    "model.summary()"
   ]
  },
  {
   "cell_type": "code",
   "execution_count": 19,
   "metadata": {},
   "outputs": [],
   "source": [
    "model.compile(\n",
    "    optimizer=\"adam\",\n",
    "    loss='mse',\n",
    "    metrics=[tf.keras.losses.MeanSquaredError()]\n",
    ")"
   ]
  },
  {
   "cell_type": "code",
   "execution_count": 20,
   "metadata": {},
   "outputs": [
    {
     "name": "stdout",
     "output_type": "stream",
     "text": [
      "Epoch 1/100\n",
      "2/2 [==============================] - 0s 136ms/step - loss: 540.9540 - mean_squared_error: 483.1759 - val_loss: 151880881668096.0000 - val_mean_squared_error: 151880881668096.0000\n",
      "Epoch 2/100\n",
      "2/2 [==============================] - 0s 43ms/step - loss: 191.9819 - mean_squared_error: 303.6315 - val_loss: 247317101805568.0000 - val_mean_squared_error: 247317101805568.0000\n",
      "Epoch 3/100\n",
      "2/2 [==============================] - 0s 44ms/step - loss: 451.3779 - mean_squared_error: 401.9698 - val_loss: 75440236527616.0000 - val_mean_squared_error: 75440236527616.0000\n",
      "Epoch 4/100\n",
      "2/2 [==============================] - 0s 42ms/step - loss: 150.2363 - mean_squared_error: 169.1676 - val_loss: 26244422828032.0000 - val_mean_squared_error: 26244422828032.0000\n",
      "Epoch 5/100\n",
      "2/2 [==============================] - 0s 42ms/step - loss: 221.5382 - mean_squared_error: 223.5120 - val_loss: 21346710978560.0000 - val_mean_squared_error: 21346710978560.0000\n",
      "Epoch 6/100\n",
      "2/2 [==============================] - 0s 43ms/step - loss: 163.9644 - mean_squared_error: 162.1506 - val_loss: 29077815689216.0000 - val_mean_squared_error: 29077815689216.0000\n",
      "Epoch 7/100\n",
      "2/2 [==============================] - 0s 42ms/step - loss: 274.8346 - mean_squared_error: 221.6705 - val_loss: 27986015289344.0000 - val_mean_squared_error: 27986015289344.0000\n",
      "Epoch 8/100\n",
      "2/2 [==============================] - 0s 49ms/step - loss: 225.8561 - mean_squared_error: 187.5884 - val_loss: 16095407767552.0000 - val_mean_squared_error: 16095407767552.0000\n",
      "Epoch 9/100\n",
      "2/2 [==============================] - 0s 41ms/step - loss: 197.3673 - mean_squared_error: 159.8554 - val_loss: 8522179805184.0000 - val_mean_squared_error: 8522179805184.0000\n",
      "Epoch 10/100\n",
      "2/2 [==============================] - 0s 43ms/step - loss: 160.9744 - mean_squared_error: 145.7901 - val_loss: 6575452323840.0000 - val_mean_squared_error: 6575452323840.0000\n",
      "Epoch 11/100\n",
      "2/2 [==============================] - 0s 41ms/step - loss: 238.3887 - mean_squared_error: 203.0501 - val_loss: 5724186869760.0000 - val_mean_squared_error: 5724186869760.0000\n",
      "Epoch 12/100\n",
      "2/2 [==============================] - 0s 44ms/step - loss: 175.9818 - mean_squared_error: 173.5407 - val_loss: 7850329899008.0000 - val_mean_squared_error: 7850329899008.0000\n",
      "Epoch 13/100\n",
      "2/2 [==============================] - 0s 43ms/step - loss: 146.3881 - mean_squared_error: 151.0277 - val_loss: 9990019481600.0000 - val_mean_squared_error: 9990019481600.0000\n",
      "Epoch 14/100\n",
      "2/2 [==============================] - 0s 44ms/step - loss: 198.8819 - mean_squared_error: 167.4679 - val_loss: 9934352678912.0000 - val_mean_squared_error: 9934352678912.0000\n",
      "Epoch 15/100\n",
      "2/2 [==============================] - 0s 43ms/step - loss: 153.5947 - mean_squared_error: 156.4647 - val_loss: 9135530704896.0000 - val_mean_squared_error: 9135530704896.0000\n",
      "Epoch 16/100\n",
      "2/2 [==============================] - 0s 45ms/step - loss: 100.1805 - mean_squared_error: 101.3274 - val_loss: 7331610886144.0000 - val_mean_squared_error: 7331610886144.0000\n",
      "Epoch 17/100\n",
      "2/2 [==============================] - 0s 49ms/step - loss: 192.6110 - mean_squared_error: 175.6512 - val_loss: 5323152162816.0000 - val_mean_squared_error: 5323152162816.0000\n",
      "Epoch 18/100\n",
      "2/2 [==============================] - 0s 51ms/step - loss: 191.3470 - mean_squared_error: 217.8034 - val_loss: 4100210294784.0000 - val_mean_squared_error: 4100210294784.0000\n",
      "Epoch 19/100\n",
      "2/2 [==============================] - 0s 43ms/step - loss: 172.3507 - mean_squared_error: 157.0993 - val_loss: 3389495443456.0000 - val_mean_squared_error: 3389495443456.0000\n",
      "Epoch 20/100\n",
      "2/2 [==============================] - 0s 43ms/step - loss: 184.9373 - mean_squared_error: 161.1255 - val_loss: 3609101336576.0000 - val_mean_squared_error: 3609101336576.0000\n",
      "Epoch 21/100\n",
      "2/2 [==============================] - 0s 43ms/step - loss: 139.1850 - mean_squared_error: 145.9362 - val_loss: 4216147673088.0000 - val_mean_squared_error: 4216147673088.0000\n",
      "Epoch 22/100\n",
      "2/2 [==============================] - 0s 42ms/step - loss: 102.6642 - mean_squared_error: 86.6844 - val_loss: 5476150935552.0000 - val_mean_squared_error: 5476150935552.0000\n",
      "Epoch 23/100\n",
      "2/2 [==============================] - 0s 42ms/step - loss: 154.4005 - mean_squared_error: 159.7828 - val_loss: 5963893964800.0000 - val_mean_squared_error: 5963893964800.0000\n",
      "Epoch 24/100\n",
      "2/2 [==============================] - 0s 42ms/step - loss: 181.4444 - mean_squared_error: 185.6972 - val_loss: 4758910795776.0000 - val_mean_squared_error: 4758910795776.0000\n",
      "Epoch 25/100\n",
      "2/2 [==============================] - 0s 42ms/step - loss: 182.9750 - mean_squared_error: 181.1177 - val_loss: 3270560186368.0000 - val_mean_squared_error: 3270560186368.0000\n",
      "Epoch 26/100\n",
      "2/2 [==============================] - 0s 43ms/step - loss: 109.7692 - mean_squared_error: 129.3653 - val_loss: 2397928423424.0000 - val_mean_squared_error: 2397928423424.0000\n",
      "Epoch 27/100\n",
      "2/2 [==============================] - 0s 43ms/step - loss: 158.4960 - mean_squared_error: 221.0678 - val_loss: 2210119286784.0000 - val_mean_squared_error: 2210119286784.0000\n",
      "Epoch 28/100\n",
      "2/2 [==============================] - 0s 42ms/step - loss: 128.7444 - mean_squared_error: 128.9389 - val_loss: 2465318305792.0000 - val_mean_squared_error: 2465318305792.0000\n",
      "Epoch 29/100\n",
      "2/2 [==============================] - 0s 44ms/step - loss: 101.6606 - mean_squared_error: 113.1328 - val_loss: 3238847315968.0000 - val_mean_squared_error: 3238847315968.0000\n",
      "Epoch 30/100\n",
      "2/2 [==============================] - 0s 44ms/step - loss: 152.6823 - mean_squared_error: 214.8000 - val_loss: 3787488231424.0000 - val_mean_squared_error: 3787488231424.0000\n",
      "Epoch 31/100\n",
      "2/2 [==============================] - 0s 95ms/step - loss: 114.5020 - mean_squared_error: 105.4967 - val_loss: 3989434531840.0000 - val_mean_squared_error: 3989434531840.0000\n",
      "Epoch 32/100\n",
      "2/2 [==============================] - 0s 42ms/step - loss: 116.5863 - mean_squared_error: 95.6362 - val_loss: 3738612793344.0000 - val_mean_squared_error: 3738612793344.0000\n",
      "Epoch 33/100\n",
      "2/2 [==============================] - 0s 44ms/step - loss: 146.9692 - mean_squared_error: 130.3022 - val_loss: 3051700355072.0000 - val_mean_squared_error: 3051700355072.0000\n",
      "Epoch 34/100\n",
      "2/2 [==============================] - 0s 47ms/step - loss: 130.5913 - mean_squared_error: 168.0987 - val_loss: 2399782043648.0000 - val_mean_squared_error: 2399782043648.0000\n",
      "Epoch 35/100\n",
      "2/2 [==============================] - 0s 47ms/step - loss: 226.2573 - mean_squared_error: 223.5894 - val_loss: 2079758745600.0000 - val_mean_squared_error: 2079758745600.0000\n",
      "Epoch 36/100\n",
      "2/2 [==============================] - 0s 46ms/step - loss: 132.2271 - mean_squared_error: 108.5818 - val_loss: 2334132273152.0000 - val_mean_squared_error: 2334132273152.0000\n",
      "Epoch 37/100\n",
      "2/2 [==============================] - 0s 42ms/step - loss: 123.7892 - mean_squared_error: 106.8936 - val_loss: 2545507893248.0000 - val_mean_squared_error: 2545507893248.0000\n",
      "Epoch 38/100\n",
      "2/2 [==============================] - 0s 42ms/step - loss: 104.8951 - mean_squared_error: 102.1831 - val_loss: 2517013626880.0000 - val_mean_squared_error: 2517013626880.0000\n",
      "Epoch 39/100\n",
      "2/2 [==============================] - 0s 43ms/step - loss: 87.1214 - mean_squared_error: 77.9305 - val_loss: 2430100570112.0000 - val_mean_squared_error: 2430100570112.0000\n",
      "Epoch 40/100\n",
      "2/2 [==============================] - 0s 44ms/step - loss: 168.7534 - mean_squared_error: 144.7238 - val_loss: 2193279549440.0000 - val_mean_squared_error: 2193279549440.0000\n",
      "Epoch 41/100\n",
      "2/2 [==============================] - 0s 42ms/step - loss: 140.7454 - mean_squared_error: 120.3279 - val_loss: 2200968888320.0000 - val_mean_squared_error: 2200968888320.0000\n",
      "Epoch 42/100\n",
      "2/2 [==============================] - 0s 42ms/step - loss: 125.0445 - mean_squared_error: 108.9894 - val_loss: 2288109748224.0000 - val_mean_squared_error: 2288109748224.0000\n",
      "Epoch 43/100\n",
      "2/2 [==============================] - 0s 42ms/step - loss: 79.2201 - mean_squared_error: 72.4825 - val_loss: 2623548686336.0000 - val_mean_squared_error: 2623548686336.0000\n",
      "Epoch 44/100\n"
     ]
    },
    {
     "name": "stdout",
     "output_type": "stream",
     "text": [
      "2/2 [==============================] - 0s 42ms/step - loss: 119.2170 - mean_squared_error: 123.0833 - val_loss: 2816329121792.0000 - val_mean_squared_error: 2816329121792.0000\n",
      "Epoch 45/100\n",
      "2/2 [==============================] - 0s 51ms/step - loss: 85.0081 - mean_squared_error: 84.8463 - val_loss: 2980385390592.0000 - val_mean_squared_error: 2980385390592.0000\n",
      "Epoch 46/100\n",
      "2/2 [==============================] - 0s 43ms/step - loss: 93.5503 - mean_squared_error: 88.2053 - val_loss: 3197898063872.0000 - val_mean_squared_error: 3197898063872.0000\n",
      "Epoch 47/100\n",
      "2/2 [==============================] - 0s 45ms/step - loss: 101.2077 - mean_squared_error: 128.2963 - val_loss: 3212451250176.0000 - val_mean_squared_error: 3212451250176.0000\n",
      "Epoch 48/100\n",
      "2/2 [==============================] - 0s 45ms/step - loss: 99.1472 - mean_squared_error: 132.3317 - val_loss: 2998077227008.0000 - val_mean_squared_error: 2998077227008.0000\n",
      "Epoch 49/100\n",
      "2/2 [==============================] - 0s 47ms/step - loss: 63.8463 - mean_squared_error: 77.2204 - val_loss: 2818078932992.0000 - val_mean_squared_error: 2818078932992.0000\n",
      "Epoch 50/100\n",
      "2/2 [==============================] - 0s 42ms/step - loss: 91.1430 - mean_squared_error: 87.0114 - val_loss: 2853164285952.0000 - val_mean_squared_error: 2853164285952.0000\n",
      "Epoch 51/100\n",
      "2/2 [==============================] - 0s 42ms/step - loss: 80.7503 - mean_squared_error: 84.5683 - val_loss: 3330907045888.0000 - val_mean_squared_error: 3330907045888.0000\n",
      "Epoch 52/100\n",
      "2/2 [==============================] - 0s 44ms/step - loss: 100.1882 - mean_squared_error: 107.5058 - val_loss: 3664386195456.0000 - val_mean_squared_error: 3664386195456.0000\n",
      "Epoch 53/100\n",
      "2/2 [==============================] - 0s 43ms/step - loss: 98.2148 - mean_squared_error: 91.3635 - val_loss: 3700152336384.0000 - val_mean_squared_error: 3700152336384.0000\n",
      "Epoch 54/100\n",
      "2/2 [==============================] - 0s 42ms/step - loss: 96.8128 - mean_squared_error: 93.5822 - val_loss: 3406437285888.0000 - val_mean_squared_error: 3406437285888.0000\n",
      "Epoch 55/100\n",
      "2/2 [==============================] - 0s 44ms/step - loss: 78.6540 - mean_squared_error: 82.0510 - val_loss: 3241027043328.0000 - val_mean_squared_error: 3241027043328.0000\n",
      "Epoch 56/100\n",
      "2/2 [==============================] - 0s 45ms/step - loss: 55.7737 - mean_squared_error: 51.4850 - val_loss: 3303138131968.0000 - val_mean_squared_error: 3303138131968.0000\n",
      "Epoch 57/100\n",
      "2/2 [==============================] - 0s 42ms/step - loss: 119.8158 - mean_squared_error: 108.1084 - val_loss: 3355570339840.0000 - val_mean_squared_error: 3355570339840.0000\n",
      "Epoch 58/100\n",
      "2/2 [==============================] - 0s 43ms/step - loss: 69.5509 - mean_squared_error: 67.7196 - val_loss: 3407911583744.0000 - val_mean_squared_error: 3407911583744.0000\n",
      "Epoch 59/100\n",
      "2/2 [==============================] - 0s 42ms/step - loss: 113.3002 - mean_squared_error: 123.2964 - val_loss: 3135124013056.0000 - val_mean_squared_error: 3135124013056.0000\n",
      "Epoch 60/100\n",
      "2/2 [==============================] - 0s 42ms/step - loss: 86.0469 - mean_squared_error: 83.2651 - val_loss: 2896598925312.0000 - val_mean_squared_error: 2896598925312.0000\n",
      "Epoch 61/100\n",
      "2/2 [==============================] - 0s 51ms/step - loss: 84.9260 - mean_squared_error: 69.3986 - val_loss: 2863253159936.0000 - val_mean_squared_error: 2863253159936.0000\n",
      "Epoch 62/100\n",
      "2/2 [==============================] - 0s 42ms/step - loss: 56.2077 - mean_squared_error: 51.6863 - val_loss: 2993809260544.0000 - val_mean_squared_error: 2993809260544.0000\n",
      "Epoch 63/100\n",
      "2/2 [==============================] - 0s 41ms/step - loss: 85.1301 - mean_squared_error: 83.5388 - val_loss: 3148498862080.0000 - val_mean_squared_error: 3148498862080.0000\n",
      "Epoch 64/100\n",
      "2/2 [==============================] - 0s 41ms/step - loss: 101.0477 - mean_squared_error: 90.1054 - val_loss: 3476279525376.0000 - val_mean_squared_error: 3476279525376.0000\n",
      "Epoch 65/100\n",
      "2/2 [==============================] - 0s 42ms/step - loss: 74.0509 - mean_squared_error: 90.7519 - val_loss: 4056614961152.0000 - val_mean_squared_error: 4056614961152.0000\n",
      "Epoch 66/100\n",
      "2/2 [==============================] - 0s 46ms/step - loss: 61.9859 - mean_squared_error: 58.7292 - val_loss: 4772752523264.0000 - val_mean_squared_error: 4772752523264.0000\n",
      "Epoch 67/100\n",
      "2/2 [==============================] - 0s 43ms/step - loss: 73.4374 - mean_squared_error: 71.5490 - val_loss: 5296337453056.0000 - val_mean_squared_error: 5296337453056.0000\n",
      "Epoch 68/100\n",
      "2/2 [==============================] - 0s 43ms/step - loss: 162.6152 - mean_squared_error: 137.5001 - val_loss: 4758884581376.0000 - val_mean_squared_error: 4758884581376.0000\n",
      "Epoch 69/100\n",
      "2/2 [==============================] - 0s 43ms/step - loss: 86.5225 - mean_squared_error: 74.8947 - val_loss: 4326554861568.0000 - val_mean_squared_error: 4326554861568.0000\n",
      "Epoch 70/100\n",
      "2/2 [==============================] - 0s 44ms/step - loss: 57.2039 - mean_squared_error: 52.0443 - val_loss: 4167211941888.0000 - val_mean_squared_error: 4167211941888.0000\n",
      "Epoch 71/100\n",
      "2/2 [==============================] - 0s 43ms/step - loss: 109.5643 - mean_squared_error: 90.2845 - val_loss: 4049224073216.0000 - val_mean_squared_error: 4049224073216.0000\n",
      "Epoch 72/100\n",
      "2/2 [==============================] - 0s 42ms/step - loss: 72.5720 - mean_squared_error: 81.5072 - val_loss: 3887841411072.0000 - val_mean_squared_error: 3887841411072.0000\n",
      "Epoch 73/100\n",
      "2/2 [==============================] - 0s 44ms/step - loss: 81.3660 - mean_squared_error: 97.8389 - val_loss: 3692706136064.0000 - val_mean_squared_error: 3692706136064.0000\n",
      "Epoch 74/100\n",
      "2/2 [==============================] - 0s 42ms/step - loss: 50.7200 - mean_squared_error: 70.2129 - val_loss: 3581396910080.0000 - val_mean_squared_error: 3581396910080.0000\n",
      "Epoch 75/100\n",
      "2/2 [==============================] - 0s 42ms/step - loss: 75.9832 - mean_squared_error: 67.7138 - val_loss: 3558217351168.0000 - val_mean_squared_error: 3558217351168.0000\n",
      "Epoch 76/100\n",
      "2/2 [==============================] - 0s 41ms/step - loss: 63.8582 - mean_squared_error: 67.9414 - val_loss: 3057027907584.0000 - val_mean_squared_error: 3057027907584.0000\n",
      "Epoch 77/100\n",
      "2/2 [==============================] - 0s 43ms/step - loss: 84.3834 - mean_squared_error: 70.6031 - val_loss: 2505900818432.0000 - val_mean_squared_error: 2505900818432.0000\n",
      "Epoch 78/100\n",
      "2/2 [==============================] - 0s 43ms/step - loss: 67.5281 - mean_squared_error: 54.5866 - val_loss: 2154404904960.0000 - val_mean_squared_error: 2154404904960.0000\n",
      "Epoch 79/100\n",
      "2/2 [==============================] - 0s 43ms/step - loss: 74.2279 - mean_squared_error: 71.1184 - val_loss: 2059324751872.0000 - val_mean_squared_error: 2059324751872.0000\n",
      "Epoch 80/100\n",
      "2/2 [==============================] - 0s 54ms/step - loss: 81.3189 - mean_squared_error: 102.5775 - val_loss: 2012564291584.0000 - val_mean_squared_error: 2012564291584.0000\n",
      "Epoch 81/100\n",
      "2/2 [==============================] - 0s 96ms/step - loss: 54.7578 - mean_squared_error: 56.9301 - val_loss: 2092388319232.0000 - val_mean_squared_error: 2092388319232.0000\n",
      "Epoch 82/100\n",
      "2/2 [==============================] - 0s 43ms/step - loss: 60.7126 - mean_squared_error: 66.8092 - val_loss: 2458348158976.0000 - val_mean_squared_error: 2458348158976.0000\n",
      "Epoch 83/100\n",
      "2/2 [==============================] - 0s 42ms/step - loss: 102.3937 - mean_squared_error: 88.3995 - val_loss: 2874602946560.0000 - val_mean_squared_error: 2874602946560.0000\n",
      "Epoch 84/100\n",
      "2/2 [==============================] - 0s 42ms/step - loss: 75.1493 - mean_squared_error: 61.8270 - val_loss: 3386307510272.0000 - val_mean_squared_error: 3386307510272.0000\n",
      "Epoch 85/100\n",
      "2/2 [==============================] - 0s 45ms/step - loss: 67.6339 - mean_squared_error: 78.2354 - val_loss: 3541235138560.0000 - val_mean_squared_error: 3541235138560.0000\n",
      "Epoch 86/100\n",
      "2/2 [==============================] - 0s 42ms/step - loss: 82.1965 - mean_squared_error: 80.8094 - val_loss: 3409379065856.0000 - val_mean_squared_error: 3409379065856.0000\n",
      "Epoch 87/100\n",
      "2/2 [==============================] - 0s 44ms/step - loss: 85.9766 - mean_squared_error: 81.2961 - val_loss: 3128968609792.0000 - val_mean_squared_error: 3128968609792.0000\n"
     ]
    },
    {
     "name": "stdout",
     "output_type": "stream",
     "text": [
      "Epoch 88/100\n",
      "2/2 [==============================] - 0s 42ms/step - loss: 70.4503 - mean_squared_error: 61.4323 - val_loss: 2863452127232.0000 - val_mean_squared_error: 2863452127232.0000\n",
      "Epoch 89/100\n",
      "2/2 [==============================] - 0s 46ms/step - loss: 48.1733 - mean_squared_error: 46.7187 - val_loss: 2752644382720.0000 - val_mean_squared_error: 2752644382720.0000\n",
      "Epoch 90/100\n",
      "2/2 [==============================] - 0s 42ms/step - loss: 54.6174 - mean_squared_error: 50.1746 - val_loss: 2964086587392.0000 - val_mean_squared_error: 2964086587392.0000\n",
      "Epoch 91/100\n",
      "2/2 [==============================] - 0s 46ms/step - loss: 76.6128 - mean_squared_error: 75.8087 - val_loss: 3095869784064.0000 - val_mean_squared_error: 3095869784064.0000\n",
      "Epoch 92/100\n",
      "2/2 [==============================] - 0s 42ms/step - loss: 57.2012 - mean_squared_error: 55.6522 - val_loss: 3110464913408.0000 - val_mean_squared_error: 3110464913408.0000\n",
      "Epoch 93/100\n",
      "2/2 [==============================] - 0s 43ms/step - loss: 51.8359 - mean_squared_error: 49.9215 - val_loss: 3150003830784.0000 - val_mean_squared_error: 3150003830784.0000\n",
      "Epoch 94/100\n",
      "2/2 [==============================] - 0s 43ms/step - loss: 79.6302 - mean_squared_error: 73.0241 - val_loss: 3088813654016.0000 - val_mean_squared_error: 3088813654016.0000\n",
      "Epoch 95/100\n",
      "2/2 [==============================] - 0s 43ms/step - loss: 85.2572 - mean_squared_error: 85.0916 - val_loss: 2793391521792.0000 - val_mean_squared_error: 2793391521792.0000\n",
      "Epoch 96/100\n",
      "2/2 [==============================] - 0s 44ms/step - loss: 59.6144 - mean_squared_error: 59.2223 - val_loss: 2583419682816.0000 - val_mean_squared_error: 2583419682816.0000\n",
      "Epoch 97/100\n",
      "2/2 [==============================] - 0s 45ms/step - loss: 71.0781 - mean_squared_error: 73.8642 - val_loss: 2580361248768.0000 - val_mean_squared_error: 2580361248768.0000\n",
      "Epoch 98/100\n",
      "2/2 [==============================] - 0s 41ms/step - loss: 62.9655 - mean_squared_error: 55.4250 - val_loss: 2749398777856.0000 - val_mean_squared_error: 2749398777856.0000\n",
      "Epoch 99/100\n",
      "2/2 [==============================] - 0s 43ms/step - loss: 55.7266 - mean_squared_error: 53.1002 - val_loss: 3054054670336.0000 - val_mean_squared_error: 3054054670336.0000\n",
      "Epoch 100/100\n",
      "2/2 [==============================] - 0s 43ms/step - loss: 55.3989 - mean_squared_error: 58.6468 - val_loss: 3298514436096.0000 - val_mean_squared_error: 3298514436096.0000\n"
     ]
    }
   ],
   "source": [
    "EPOCHS = 100\n",
    "history = model.fit(\n",
    "    train_x,\n",
    "    train_y,\n",
    "    batch_size=64,\n",
    "    epochs=EPOCHS,\n",
    "    validation_data=(val_x, val_y)\n",
    ")"
   ]
  },
  {
   "cell_type": "code",
   "execution_count": 21,
   "metadata": {},
   "outputs": [
    {
     "data": {
      "image/png": "[encoded data removed]",
      "text/plain": [
       "<Figure size 432x288 with 1 Axes>"
      ]
     },
     "metadata": {
      "needs_background": "light"
     },
     "output_type": "display_data"
    }
   ],
   "source": [
    "metrics = history.history\n",
    "plt.plot(history.epoch, np.sqrt(metrics['mean_squared_error']), np.sqrt(metrics['val_mean_squared_error']))\n",
    "plt.legend(['rmse', 'val_rmse'])\n",
    "plt.show()"
   ]
  },
  {
   "cell_type": "code",
   "execution_count": 22,
   "metadata": {},
   "outputs": [
    {
     "name": "stdout",
     "output_type": "stream",
     "text": [
      "Evaluate on test data\n",
      "1/1 [==============================] - 0s 13ms/step - loss: 128.3374 - mean_squared_error: 128.3374\n",
      "test rmse: 11.328609229952322\n"
     ]
    }
   ],
   "source": [
    "print(\"Evaluate on test data\")\n",
    "results = model.evaluate(test_x, test_y, batch_size=64)\n",
    "print(\"test rmse:\", np.sqrt(results)[0])"
   ]
  },
  {
   "cell_type": "code",
   "execution_count": null,
   "metadata": {},
   "outputs": [],
   "source": []
  }
 ],
 "metadata": {
  "kernelspec": {
   "display_name": "Python 3",
   "language": "python",
   "name": "python3"
  },
  "language_info": {
   "codemirror_mode": {
    "name": "ipython",
    "version": 3
   },
   "file_extension": ".py",
   "mimetype": "text/x-python",
   "name": "python",
   "nbconvert_exporter": "python",
   "pygments_lexer": "ipython3",
   "version": "3.6.9"
  }
 },
 "nbformat": 4,
 "nbformat_minor": 2
}
