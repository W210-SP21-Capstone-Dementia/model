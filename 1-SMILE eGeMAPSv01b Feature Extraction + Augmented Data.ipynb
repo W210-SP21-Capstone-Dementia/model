{
 "cells": [
  {
   "cell_type": "code",
   "execution_count": 166,
   "metadata": {},
   "outputs": [],
   "source": [
    "import os\n",
    "import pathlib\n",
    "import opensmile\n",
    "from tqdm import tqdm\n",
    "\n",
    "import numpy as np\n",
    "import pandas as pd\n",
    "import tensorflow as tf\n",
    "from tensorflow.keras import models, layers\n",
    "from tensorflow.keras.layers.experimental import preprocessing\n",
    "from plotnine import *\n",
    "import seaborn as sn\n",
    "import matplotlib.pyplot as plt"
   ]
  },
  {
   "cell_type": "code",
   "execution_count": 2,
   "metadata": {},
   "outputs": [],
   "source": [
    "data_path = '/tf/data/dementia/0extra/ADReSS-IS2020-data/train/' # change this \n",
    "audio_path = data_path + '/chunks-30s/'"
   ]
  },
  {
   "cell_type": "code",
   "execution_count": 3,
   "metadata": {},
   "outputs": [
    {
     "name": "stdout",
     "output_type": "stream",
     "text": [
      "2850\n",
      "1755\n"
     ]
    }
   ],
   "source": [
    "audio_files = [str(f) for f in pathlib.Path(audio_path).glob('*.wav')]\n",
    "ad_files = [f for f in audio_files if f.split('/')[-1].split('-')[0] == 'cd']\n",
    "control_files = [f for f in audio_files if f.split('/')[-1].split('-')[0] == 'cc']\n",
    "print(len(ad_files))\n",
    "print(len(control_files))"
   ]
  },
  {
   "cell_type": "code",
   "execution_count": 263,
   "metadata": {},
   "outputs": [],
   "source": [
    "smile = opensmile.Smile(\n",
    "    feature_set=opensmile.FeatureSet.eGeMAPSv01b#,\n",
    "#     feature_level=opensmile.FeatureLevel.Functionals,\n",
    ")"
   ]
  },
  {
   "cell_type": "code",
   "execution_count": 7,
   "metadata": {},
   "outputs": [],
   "source": [
    "ad_data = smile.process_files(ad_files)\n",
    "control_data = smile.process_files(control_files)"
   ]
  },
  {
   "cell_type": "code",
   "execution_count": 11,
   "metadata": {},
   "outputs": [
    {
     "name": "stdout",
     "output_type": "stream",
     "text": [
      "(2850, 88)\n"
     ]
    }
   ],
   "source": [
    "print(ad_data.shape)"
   ]
  },
  {
   "cell_type": "code",
   "execution_count": 10,
   "metadata": {},
   "outputs": [],
   "source": [
    "copy = [ad_data, control_data]"
   ]
  },
  {
   "cell_type": "code",
   "execution_count": 12,
   "metadata": {},
   "outputs": [
    {
     "data": {
      "text/html": [
       "<div>\n",
       "<style scoped>\n",
       "    .dataframe tbody tr th:only-of-type {\n",
       "        vertical-align: middle;\n",
       "    }\n",
       "\n",
       "    .dataframe tbody tr th {\n",
       "        vertical-align: top;\n",
       "    }\n",
       "\n",
       "    .dataframe thead th {\n",
       "        text-align: right;\n",
       "    }\n",
       "</style>\n",
       "<table border=\"1\" class=\"dataframe\">\n",
       "  <thead>\n",
       "    <tr style=\"text-align: right;\">\n",
       "      <th></th>\n",
       "      <th></th>\n",
       "      <th></th>\n",
       "      <th>F0semitoneFrom27.5Hz_sma3nz_amean</th>\n",
       "      <th>F0semitoneFrom27.5Hz_sma3nz_stddevNorm</th>\n",
       "      <th>F0semitoneFrom27.5Hz_sma3nz_percentile20.0</th>\n",
       "      <th>F0semitoneFrom27.5Hz_sma3nz_percentile50.0</th>\n",
       "      <th>F0semitoneFrom27.5Hz_sma3nz_percentile80.0</th>\n",
       "      <th>F0semitoneFrom27.5Hz_sma3nz_pctlrange0-2</th>\n",
       "      <th>F0semitoneFrom27.5Hz_sma3nz_meanRisingSlope</th>\n",
       "      <th>F0semitoneFrom27.5Hz_sma3nz_stddevRisingSlope</th>\n",
       "      <th>F0semitoneFrom27.5Hz_sma3nz_meanFallingSlope</th>\n",
       "      <th>F0semitoneFrom27.5Hz_sma3nz_stddevFallingSlope</th>\n",
       "      <th>...</th>\n",
       "      <th>slopeUV0-500_sma3nz_amean</th>\n",
       "      <th>slopeUV500-1500_sma3nz_amean</th>\n",
       "      <th>spectralFluxUV_sma3nz_amean</th>\n",
       "      <th>loudnessPeaksPerSec</th>\n",
       "      <th>VoicedSegmentsPerSec</th>\n",
       "      <th>MeanVoicedSegmentLengthSec</th>\n",
       "      <th>StddevVoicedSegmentLengthSec</th>\n",
       "      <th>MeanUnvoicedSegmentLength</th>\n",
       "      <th>StddevUnvoicedSegmentLength</th>\n",
       "      <th>equivalentSoundLevel_dBp</th>\n",
       "    </tr>\n",
       "    <tr>\n",
       "      <th>file</th>\n",
       "      <th>start</th>\n",
       "      <th>end</th>\n",
       "      <th></th>\n",
       "      <th></th>\n",
       "      <th></th>\n",
       "      <th></th>\n",
       "      <th></th>\n",
       "      <th></th>\n",
       "      <th></th>\n",
       "      <th></th>\n",
       "      <th></th>\n",
       "      <th></th>\n",
       "      <th></th>\n",
       "      <th></th>\n",
       "      <th></th>\n",
       "      <th></th>\n",
       "      <th></th>\n",
       "      <th></th>\n",
       "      <th></th>\n",
       "      <th></th>\n",
       "      <th></th>\n",
       "      <th></th>\n",
       "      <th></th>\n",
       "    </tr>\n",
       "  </thead>\n",
       "  <tbody>\n",
       "    <tr>\n",
       "      <th>/tf/data/dementia/0extra/ADReSS-IS2020-data/train/chunks-30s/cd-10-S118-14.wav</th>\n",
       "      <th>0 days</th>\n",
       "      <th>0 days 00:00:30</th>\n",
       "      <td>30.636467</td>\n",
       "      <td>0.262667</td>\n",
       "      <td>27.497274</td>\n",
       "      <td>30.210381</td>\n",
       "      <td>32.937489</td>\n",
       "      <td>5.440214</td>\n",
       "      <td>382.575745</td>\n",
       "      <td>603.177917</td>\n",
       "      <td>347.849274</td>\n",
       "      <td>449.553284</td>\n",
       "      <td>...</td>\n",
       "      <td>0.029052</td>\n",
       "      <td>-0.003665</td>\n",
       "      <td>0.075946</td>\n",
       "      <td>1.400467</td>\n",
       "      <td>3.207484</td>\n",
       "      <td>0.159583</td>\n",
       "      <td>0.185680</td>\n",
       "      <td>0.145647</td>\n",
       "      <td>0.232361</td>\n",
       "      <td>-27.720562</td>\n",
       "    </tr>\n",
       "    <tr>\n",
       "      <th>/tf/data/dementia/0extra/ADReSS-IS2020-data/train/chunks-30s/cd-25-S093-20.wav</th>\n",
       "      <th>0 days</th>\n",
       "      <th>0 days 00:00:30</th>\n",
       "      <td>35.069546</td>\n",
       "      <td>0.283742</td>\n",
       "      <td>28.686735</td>\n",
       "      <td>33.410469</td>\n",
       "      <td>44.504059</td>\n",
       "      <td>15.817324</td>\n",
       "      <td>243.300583</td>\n",
       "      <td>208.516129</td>\n",
       "      <td>184.970108</td>\n",
       "      <td>136.431259</td>\n",
       "      <td>...</td>\n",
       "      <td>-0.052987</td>\n",
       "      <td>-0.002279</td>\n",
       "      <td>0.006376</td>\n",
       "      <td>0.866956</td>\n",
       "      <td>0.634815</td>\n",
       "      <td>0.101579</td>\n",
       "      <td>0.079224</td>\n",
       "      <td>1.380500</td>\n",
       "      <td>2.050218</td>\n",
       "      <td>-50.824127</td>\n",
       "    </tr>\n",
       "    <tr>\n",
       "      <th>/tf/data/dementia/0extra/ADReSS-IS2020-data/train/chunks-30s/cd-25-S093-10.wav</th>\n",
       "      <th>0 days</th>\n",
       "      <th>0 days 00:00:30</th>\n",
       "      <td>32.697182</td>\n",
       "      <td>0.390651</td>\n",
       "      <td>17.737852</td>\n",
       "      <td>32.651848</td>\n",
       "      <td>44.582626</td>\n",
       "      <td>26.844774</td>\n",
       "      <td>287.716522</td>\n",
       "      <td>216.007858</td>\n",
       "      <td>245.234787</td>\n",
       "      <td>158.807449</td>\n",
       "      <td>...</td>\n",
       "      <td>-0.056043</td>\n",
       "      <td>-0.002547</td>\n",
       "      <td>0.005254</td>\n",
       "      <td>0.700233</td>\n",
       "      <td>0.267290</td>\n",
       "      <td>0.073750</td>\n",
       "      <td>0.039350</td>\n",
       "      <td>3.241111</td>\n",
       "      <td>4.125400</td>\n",
       "      <td>-58.866215</td>\n",
       "    </tr>\n",
       "    <tr>\n",
       "      <th>/tf/data/dementia/0extra/ADReSS-IS2020-data/train/chunks-30s/cd-21-S084-104.wav</th>\n",
       "      <th>0 days</th>\n",
       "      <th>0 days 00:00:30</th>\n",
       "      <td>27.475245</td>\n",
       "      <td>0.335058</td>\n",
       "      <td>21.297216</td>\n",
       "      <td>24.866812</td>\n",
       "      <td>29.854513</td>\n",
       "      <td>8.557297</td>\n",
       "      <td>396.745087</td>\n",
       "      <td>700.777405</td>\n",
       "      <td>176.257080</td>\n",
       "      <td>142.321548</td>\n",
       "      <td>...</td>\n",
       "      <td>0.007620</td>\n",
       "      <td>-0.007838</td>\n",
       "      <td>0.006036</td>\n",
       "      <td>1.300434</td>\n",
       "      <td>1.336452</td>\n",
       "      <td>0.161750</td>\n",
       "      <td>0.164132</td>\n",
       "      <td>0.579744</td>\n",
       "      <td>1.141395</td>\n",
       "      <td>-47.998596</td>\n",
       "    </tr>\n",
       "    <tr>\n",
       "      <th>/tf/data/dementia/0extra/ADReSS-IS2020-data/train/chunks-30s/cd-21-S084-76.wav</th>\n",
       "      <th>0 days</th>\n",
       "      <th>0 days 00:00:30</th>\n",
       "      <td>27.501287</td>\n",
       "      <td>0.343597</td>\n",
       "      <td>21.551100</td>\n",
       "      <td>24.512619</td>\n",
       "      <td>34.366570</td>\n",
       "      <td>12.815470</td>\n",
       "      <td>217.329407</td>\n",
       "      <td>246.369553</td>\n",
       "      <td>300.491791</td>\n",
       "      <td>438.268616</td>\n",
       "      <td>...</td>\n",
       "      <td>0.008601</td>\n",
       "      <td>-0.007025</td>\n",
       "      <td>0.007671</td>\n",
       "      <td>2.134045</td>\n",
       "      <td>1.703976</td>\n",
       "      <td>0.176275</td>\n",
       "      <td>0.154068</td>\n",
       "      <td>0.420000</td>\n",
       "      <td>0.681350</td>\n",
       "      <td>-48.615757</td>\n",
       "    </tr>\n",
       "  </tbody>\n",
       "</table>\n",
       "<p>5 rows × 88 columns</p>\n",
       "</div>"
      ],
      "text/plain": [
       "                                                                           F0semitoneFrom27.5Hz_sma3nz_amean  \\\n",
       "file                                               start  end                                                  \n",
       "/tf/data/dementia/0extra/ADReSS-IS2020-data/tra... 0 days 0 days 00:00:30                          30.636467   \n",
       "/tf/data/dementia/0extra/ADReSS-IS2020-data/tra... 0 days 0 days 00:00:30                          35.069546   \n",
       "/tf/data/dementia/0extra/ADReSS-IS2020-data/tra... 0 days 0 days 00:00:30                          32.697182   \n",
       "/tf/data/dementia/0extra/ADReSS-IS2020-data/tra... 0 days 0 days 00:00:30                          27.475245   \n",
       "/tf/data/dementia/0extra/ADReSS-IS2020-data/tra... 0 days 0 days 00:00:30                          27.501287   \n",
       "\n",
       "                                                                           F0semitoneFrom27.5Hz_sma3nz_stddevNorm  \\\n",
       "file                                               start  end                                                       \n",
       "/tf/data/dementia/0extra/ADReSS-IS2020-data/tra... 0 days 0 days 00:00:30                                0.262667   \n",
       "/tf/data/dementia/0extra/ADReSS-IS2020-data/tra... 0 days 0 days 00:00:30                                0.283742   \n",
       "/tf/data/dementia/0extra/ADReSS-IS2020-data/tra... 0 days 0 days 00:00:30                                0.390651   \n",
       "/tf/data/dementia/0extra/ADReSS-IS2020-data/tra... 0 days 0 days 00:00:30                                0.335058   \n",
       "/tf/data/dementia/0extra/ADReSS-IS2020-data/tra... 0 days 0 days 00:00:30                                0.343597   \n",
       "\n",
       "                                                                           F0semitoneFrom27.5Hz_sma3nz_percentile20.0  \\\n",
       "file                                               start  end                                                           \n",
       "/tf/data/dementia/0extra/ADReSS-IS2020-data/tra... 0 days 0 days 00:00:30                                   27.497274   \n",
       "/tf/data/dementia/0extra/ADReSS-IS2020-data/tra... 0 days 0 days 00:00:30                                   28.686735   \n",
       "/tf/data/dementia/0extra/ADReSS-IS2020-data/tra... 0 days 0 days 00:00:30                                   17.737852   \n",
       "/tf/data/dementia/0extra/ADReSS-IS2020-data/tra... 0 days 0 days 00:00:30                                   21.297216   \n",
       "/tf/data/dementia/0extra/ADReSS-IS2020-data/tra... 0 days 0 days 00:00:30                                   21.551100   \n",
       "\n",
       "                                                                           F0semitoneFrom27.5Hz_sma3nz_percentile50.0  \\\n",
       "file                                               start  end                                                           \n",
       "/tf/data/dementia/0extra/ADReSS-IS2020-data/tra... 0 days 0 days 00:00:30                                   30.210381   \n",
       "/tf/data/dementia/0extra/ADReSS-IS2020-data/tra... 0 days 0 days 00:00:30                                   33.410469   \n",
       "/tf/data/dementia/0extra/ADReSS-IS2020-data/tra... 0 days 0 days 00:00:30                                   32.651848   \n",
       "/tf/data/dementia/0extra/ADReSS-IS2020-data/tra... 0 days 0 days 00:00:30                                   24.866812   \n",
       "/tf/data/dementia/0extra/ADReSS-IS2020-data/tra... 0 days 0 days 00:00:30                                   24.512619   \n",
       "\n",
       "                                                                           F0semitoneFrom27.5Hz_sma3nz_percentile80.0  \\\n",
       "file                                               start  end                                                           \n",
       "/tf/data/dementia/0extra/ADReSS-IS2020-data/tra... 0 days 0 days 00:00:30                                   32.937489   \n",
       "/tf/data/dementia/0extra/ADReSS-IS2020-data/tra... 0 days 0 days 00:00:30                                   44.504059   \n",
       "/tf/data/dementia/0extra/ADReSS-IS2020-data/tra... 0 days 0 days 00:00:30                                   44.582626   \n",
       "/tf/data/dementia/0extra/ADReSS-IS2020-data/tra... 0 days 0 days 00:00:30                                   29.854513   \n",
       "/tf/data/dementia/0extra/ADReSS-IS2020-data/tra... 0 days 0 days 00:00:30                                   34.366570   \n",
       "\n",
       "                                                                           F0semitoneFrom27.5Hz_sma3nz_pctlrange0-2  \\\n",
       "file                                               start  end                                                         \n",
       "/tf/data/dementia/0extra/ADReSS-IS2020-data/tra... 0 days 0 days 00:00:30                                  5.440214   \n",
       "/tf/data/dementia/0extra/ADReSS-IS2020-data/tra... 0 days 0 days 00:00:30                                 15.817324   \n",
       "/tf/data/dementia/0extra/ADReSS-IS2020-data/tra... 0 days 0 days 00:00:30                                 26.844774   \n",
       "/tf/data/dementia/0extra/ADReSS-IS2020-data/tra... 0 days 0 days 00:00:30                                  8.557297   \n",
       "/tf/data/dementia/0extra/ADReSS-IS2020-data/tra... 0 days 0 days 00:00:30                                 12.815470   \n",
       "\n",
       "                                                                           F0semitoneFrom27.5Hz_sma3nz_meanRisingSlope  \\\n",
       "file                                               start  end                                                            \n",
       "/tf/data/dementia/0extra/ADReSS-IS2020-data/tra... 0 days 0 days 00:00:30                                   382.575745   \n",
       "/tf/data/dementia/0extra/ADReSS-IS2020-data/tra... 0 days 0 days 00:00:30                                   243.300583   \n",
       "/tf/data/dementia/0extra/ADReSS-IS2020-data/tra... 0 days 0 days 00:00:30                                   287.716522   \n",
       "/tf/data/dementia/0extra/ADReSS-IS2020-data/tra... 0 days 0 days 00:00:30                                   396.745087   \n",
       "/tf/data/dementia/0extra/ADReSS-IS2020-data/tra... 0 days 0 days 00:00:30                                   217.329407   \n",
       "\n",
       "                                                                           F0semitoneFrom27.5Hz_sma3nz_stddevRisingSlope  \\\n",
       "file                                               start  end                                                              \n",
       "/tf/data/dementia/0extra/ADReSS-IS2020-data/tra... 0 days 0 days 00:00:30                                     603.177917   \n",
       "/tf/data/dementia/0extra/ADReSS-IS2020-data/tra... 0 days 0 days 00:00:30                                     208.516129   \n",
       "/tf/data/dementia/0extra/ADReSS-IS2020-data/tra... 0 days 0 days 00:00:30                                     216.007858   \n",
       "/tf/data/dementia/0extra/ADReSS-IS2020-data/tra... 0 days 0 days 00:00:30                                     700.777405   \n",
       "/tf/data/dementia/0extra/ADReSS-IS2020-data/tra... 0 days 0 days 00:00:30                                     246.369553   \n",
       "\n",
       "                                                                           F0semitoneFrom27.5Hz_sma3nz_meanFallingSlope  \\\n",
       "file                                               start  end                                                             \n",
       "/tf/data/dementia/0extra/ADReSS-IS2020-data/tra... 0 days 0 days 00:00:30                                    347.849274   \n",
       "/tf/data/dementia/0extra/ADReSS-IS2020-data/tra... 0 days 0 days 00:00:30                                    184.970108   \n",
       "/tf/data/dementia/0extra/ADReSS-IS2020-data/tra... 0 days 0 days 00:00:30                                    245.234787   \n",
       "/tf/data/dementia/0extra/ADReSS-IS2020-data/tra... 0 days 0 days 00:00:30                                    176.257080   \n",
       "/tf/data/dementia/0extra/ADReSS-IS2020-data/tra... 0 days 0 days 00:00:30                                    300.491791   \n",
       "\n",
       "                                                                           F0semitoneFrom27.5Hz_sma3nz_stddevFallingSlope  \\\n",
       "file                                               start  end                                                               \n",
       "/tf/data/dementia/0extra/ADReSS-IS2020-data/tra... 0 days 0 days 00:00:30                                      449.553284   \n",
       "/tf/data/dementia/0extra/ADReSS-IS2020-data/tra... 0 days 0 days 00:00:30                                      136.431259   \n",
       "/tf/data/dementia/0extra/ADReSS-IS2020-data/tra... 0 days 0 days 00:00:30                                      158.807449   \n",
       "/tf/data/dementia/0extra/ADReSS-IS2020-data/tra... 0 days 0 days 00:00:30                                      142.321548   \n",
       "/tf/data/dementia/0extra/ADReSS-IS2020-data/tra... 0 days 0 days 00:00:30                                      438.268616   \n",
       "\n",
       "                                                                           ...  \\\n",
       "file                                               start  end              ...   \n",
       "/tf/data/dementia/0extra/ADReSS-IS2020-data/tra... 0 days 0 days 00:00:30  ...   \n",
       "/tf/data/dementia/0extra/ADReSS-IS2020-data/tra... 0 days 0 days 00:00:30  ...   \n",
       "/tf/data/dementia/0extra/ADReSS-IS2020-data/tra... 0 days 0 days 00:00:30  ...   \n",
       "/tf/data/dementia/0extra/ADReSS-IS2020-data/tra... 0 days 0 days 00:00:30  ...   \n",
       "/tf/data/dementia/0extra/ADReSS-IS2020-data/tra... 0 days 0 days 00:00:30  ...   \n",
       "\n",
       "                                                                           slopeUV0-500_sma3nz_amean  \\\n",
       "file                                               start  end                                          \n",
       "/tf/data/dementia/0extra/ADReSS-IS2020-data/tra... 0 days 0 days 00:00:30                   0.029052   \n",
       "/tf/data/dementia/0extra/ADReSS-IS2020-data/tra... 0 days 0 days 00:00:30                  -0.052987   \n",
       "/tf/data/dementia/0extra/ADReSS-IS2020-data/tra... 0 days 0 days 00:00:30                  -0.056043   \n",
       "/tf/data/dementia/0extra/ADReSS-IS2020-data/tra... 0 days 0 days 00:00:30                   0.007620   \n",
       "/tf/data/dementia/0extra/ADReSS-IS2020-data/tra... 0 days 0 days 00:00:30                   0.008601   \n",
       "\n",
       "                                                                           slopeUV500-1500_sma3nz_amean  \\\n",
       "file                                               start  end                                             \n",
       "/tf/data/dementia/0extra/ADReSS-IS2020-data/tra... 0 days 0 days 00:00:30                     -0.003665   \n",
       "/tf/data/dementia/0extra/ADReSS-IS2020-data/tra... 0 days 0 days 00:00:30                     -0.002279   \n",
       "/tf/data/dementia/0extra/ADReSS-IS2020-data/tra... 0 days 0 days 00:00:30                     -0.002547   \n",
       "/tf/data/dementia/0extra/ADReSS-IS2020-data/tra... 0 days 0 days 00:00:30                     -0.007838   \n",
       "/tf/data/dementia/0extra/ADReSS-IS2020-data/tra... 0 days 0 days 00:00:30                     -0.007025   \n",
       "\n",
       "                                                                           spectralFluxUV_sma3nz_amean  \\\n",
       "file                                               start  end                                            \n",
       "/tf/data/dementia/0extra/ADReSS-IS2020-data/tra... 0 days 0 days 00:00:30                     0.075946   \n",
       "/tf/data/dementia/0extra/ADReSS-IS2020-data/tra... 0 days 0 days 00:00:30                     0.006376   \n",
       "/tf/data/dementia/0extra/ADReSS-IS2020-data/tra... 0 days 0 days 00:00:30                     0.005254   \n",
       "/tf/data/dementia/0extra/ADReSS-IS2020-data/tra... 0 days 0 days 00:00:30                     0.006036   \n",
       "/tf/data/dementia/0extra/ADReSS-IS2020-data/tra... 0 days 0 days 00:00:30                     0.007671   \n",
       "\n",
       "                                                                           loudnessPeaksPerSec  \\\n",
       "file                                               start  end                                    \n",
       "/tf/data/dementia/0extra/ADReSS-IS2020-data/tra... 0 days 0 days 00:00:30             1.400467   \n",
       "/tf/data/dementia/0extra/ADReSS-IS2020-data/tra... 0 days 0 days 00:00:30             0.866956   \n",
       "/tf/data/dementia/0extra/ADReSS-IS2020-data/tra... 0 days 0 days 00:00:30             0.700233   \n",
       "/tf/data/dementia/0extra/ADReSS-IS2020-data/tra... 0 days 0 days 00:00:30             1.300434   \n",
       "/tf/data/dementia/0extra/ADReSS-IS2020-data/tra... 0 days 0 days 00:00:30             2.134045   \n",
       "\n",
       "                                                                           VoicedSegmentsPerSec  \\\n",
       "file                                               start  end                                     \n",
       "/tf/data/dementia/0extra/ADReSS-IS2020-data/tra... 0 days 0 days 00:00:30              3.207484   \n",
       "/tf/data/dementia/0extra/ADReSS-IS2020-data/tra... 0 days 0 days 00:00:30              0.634815   \n",
       "/tf/data/dementia/0extra/ADReSS-IS2020-data/tra... 0 days 0 days 00:00:30              0.267290   \n",
       "/tf/data/dementia/0extra/ADReSS-IS2020-data/tra... 0 days 0 days 00:00:30              1.336452   \n",
       "/tf/data/dementia/0extra/ADReSS-IS2020-data/tra... 0 days 0 days 00:00:30              1.703976   \n",
       "\n",
       "                                                                           MeanVoicedSegmentLengthSec  \\\n",
       "file                                               start  end                                           \n",
       "/tf/data/dementia/0extra/ADReSS-IS2020-data/tra... 0 days 0 days 00:00:30                    0.159583   \n",
       "/tf/data/dementia/0extra/ADReSS-IS2020-data/tra... 0 days 0 days 00:00:30                    0.101579   \n",
       "/tf/data/dementia/0extra/ADReSS-IS2020-data/tra... 0 days 0 days 00:00:30                    0.073750   \n",
       "/tf/data/dementia/0extra/ADReSS-IS2020-data/tra... 0 days 0 days 00:00:30                    0.161750   \n",
       "/tf/data/dementia/0extra/ADReSS-IS2020-data/tra... 0 days 0 days 00:00:30                    0.176275   \n",
       "\n",
       "                                                                           StddevVoicedSegmentLengthSec  \\\n",
       "file                                               start  end                                             \n",
       "/tf/data/dementia/0extra/ADReSS-IS2020-data/tra... 0 days 0 days 00:00:30                      0.185680   \n",
       "/tf/data/dementia/0extra/ADReSS-IS2020-data/tra... 0 days 0 days 00:00:30                      0.079224   \n",
       "/tf/data/dementia/0extra/ADReSS-IS2020-data/tra... 0 days 0 days 00:00:30                      0.039350   \n",
       "/tf/data/dementia/0extra/ADReSS-IS2020-data/tra... 0 days 0 days 00:00:30                      0.164132   \n",
       "/tf/data/dementia/0extra/ADReSS-IS2020-data/tra... 0 days 0 days 00:00:30                      0.154068   \n",
       "\n",
       "                                                                           MeanUnvoicedSegmentLength  \\\n",
       "file                                               start  end                                          \n",
       "/tf/data/dementia/0extra/ADReSS-IS2020-data/tra... 0 days 0 days 00:00:30                   0.145647   \n",
       "/tf/data/dementia/0extra/ADReSS-IS2020-data/tra... 0 days 0 days 00:00:30                   1.380500   \n",
       "/tf/data/dementia/0extra/ADReSS-IS2020-data/tra... 0 days 0 days 00:00:30                   3.241111   \n",
       "/tf/data/dementia/0extra/ADReSS-IS2020-data/tra... 0 days 0 days 00:00:30                   0.579744   \n",
       "/tf/data/dementia/0extra/ADReSS-IS2020-data/tra... 0 days 0 days 00:00:30                   0.420000   \n",
       "\n",
       "                                                                           StddevUnvoicedSegmentLength  \\\n",
       "file                                               start  end                                            \n",
       "/tf/data/dementia/0extra/ADReSS-IS2020-data/tra... 0 days 0 days 00:00:30                     0.232361   \n",
       "/tf/data/dementia/0extra/ADReSS-IS2020-data/tra... 0 days 0 days 00:00:30                     2.050218   \n",
       "/tf/data/dementia/0extra/ADReSS-IS2020-data/tra... 0 days 0 days 00:00:30                     4.125400   \n",
       "/tf/data/dementia/0extra/ADReSS-IS2020-data/tra... 0 days 0 days 00:00:30                     1.141395   \n",
       "/tf/data/dementia/0extra/ADReSS-IS2020-data/tra... 0 days 0 days 00:00:30                     0.681350   \n",
       "\n",
       "                                                                           equivalentSoundLevel_dBp  \n",
       "file                                               start  end                                        \n",
       "/tf/data/dementia/0extra/ADReSS-IS2020-data/tra... 0 days 0 days 00:00:30                -27.720562  \n",
       "/tf/data/dementia/0extra/ADReSS-IS2020-data/tra... 0 days 0 days 00:00:30                -50.824127  \n",
       "/tf/data/dementia/0extra/ADReSS-IS2020-data/tra... 0 days 0 days 00:00:30                -58.866215  \n",
       "/tf/data/dementia/0extra/ADReSS-IS2020-data/tra... 0 days 0 days 00:00:30                -47.998596  \n",
       "/tf/data/dementia/0extra/ADReSS-IS2020-data/tra... 0 days 0 days 00:00:30                -48.615757  \n",
       "\n",
       "[5 rows x 88 columns]"
      ]
     },
     "execution_count": 12,
     "metadata": {},
     "output_type": "execute_result"
    }
   ],
   "source": [
    "ad_data.head()"
   ]
  },
  {
   "cell_type": "code",
   "execution_count": 28,
   "metadata": {},
   "outputs": [],
   "source": [
    "def add_MMSE(data):\n",
    "    data.reset_index(inplace=True)\n",
    "#     data[\"filename\"] = data[\"file\"].str.split(\"/\").str[-1].str.split('.wav').str[0]\n",
    "#     data = data.merge(meta[[\"ID\", \"MMSE\"]], how=\"inner\", left_on=\"filename\", right_on=\"ID\").drop([\"ID\",\"filename\"], axis=1)\n",
    "    data['MMSE'] = data[\"file\"].str.split(\"/\").str[-1].str.split('-').str[1]\n",
    "    data.set_index([\"file\",\"start\",\"end\"], inplace=True)\n",
    "    return data\n",
    "\n",
    "ad_data = add_MMSE(ad_data)\n",
    "control_data = add_MMSE(control_data)"
   ]
  },
  {
   "cell_type": "code",
   "execution_count": 340,
   "metadata": {},
   "outputs": [],
   "source": [
    "data = pd.concat([ad_data,control_data])"
   ]
  },
  {
   "cell_type": "code",
   "execution_count": 253,
   "metadata": {},
   "outputs": [],
   "source": [
    "data.to_csv(path_or_buf = 'eGeMAPSv01b_features_30s.csv', index=True)"
   ]
  },
  {
   "cell_type": "code",
   "execution_count": 341,
   "metadata": {},
   "outputs": [],
   "source": [
    "data = data.sample(frac=1)"
   ]
  },
  {
   "cell_type": "code",
   "execution_count": 342,
   "metadata": {},
   "outputs": [],
   "source": [
    "data = data[data[\"MMSE\"]!=' NA']\n",
    "data[\"MMSE\"] = data[\"MMSE\"].astype(float)"
   ]
  },
  {
   "cell_type": "code",
   "execution_count": 343,
   "metadata": {},
   "outputs": [],
   "source": [
    "train_cutoff = int(len(data)*0.7)\n",
    "val_cutoff = int(len(data)*0.85)\n",
    "\n",
    "train = data[:train_cutoff]\n",
    "val = data[train_cutoff:val_cutoff]\n",
    "test = data[val_cutoff:]\n",
    "\n",
    "train_x = train.drop([\"MMSE\", 'index'], axis=1).to_numpy()\n",
    "train_y = train[\"MMSE\"].to_numpy()/30\n",
    "\n",
    "val_x = val.drop([\"MMSE\", 'index'], axis=1).to_numpy()\n",
    "val_y = val[\"MMSE\"].to_numpy()/30\n",
    "\n",
    "test_x = test.drop([\"MMSE\", 'index'], axis=1).to_numpy()\n",
    "test_y = test[\"MMSE\"].to_numpy()/30"
   ]
  },
  {
   "cell_type": "code",
   "execution_count": 366,
   "metadata": {},
   "outputs": [
    {
     "name": "stdout",
     "output_type": "stream",
     "text": [
      "Model: \"sequential_19\"\n",
      "_________________________________________________________________\n",
      "Layer (type)                 Output Shape              Param #   \n",
      "=================================================================\n",
      "normalization_19 (Normalizat (None, 88)                177       \n",
      "_________________________________________________________________\n",
      "dense_45 (Dense)             (None, 16)                1424      \n",
      "_________________________________________________________________\n",
      "dropout_27 (Dropout)         (None, 16)                0         \n",
      "_________________________________________________________________\n",
      "dense_46 (Dense)             (None, 1)                 17        \n",
      "=================================================================\n",
      "Total params: 1,618\n",
      "Trainable params: 1,441\n",
      "Non-trainable params: 177\n",
      "_________________________________________________________________\n"
     ]
    }
   ],
   "source": [
    "norm_layer = preprocessing.Normalization()\n",
    "norm_layer.adapt(train_x)\n",
    "\n",
    "model = models.Sequential([\n",
    "    layers.Input(shape=(88,)),\n",
    "    norm_layer,\n",
    "#     layers.Dense(2056, activation='relu'),\n",
    "#     layers.Dropout(0.5),\n",
    "#     layers.Dense(512, activation='relu'),\n",
    "#     layers.Dropout(0.5),\n",
    "    layers.Dense(16, activation='relu'),\n",
    "    layers.Dropout(0.5),\n",
    "    layers.Dense(1, activation='relu')\n",
    "])\n",
    "\n",
    "model.summary()"
   ]
  },
  {
   "cell_type": "code",
   "execution_count": 367,
   "metadata": {},
   "outputs": [],
   "source": [
    "model.compile(\n",
    "    optimizer=tf.keras.optimizers.Adam(learning_rate=0.001, clipnorm=1),\n",
    "    loss='mse',\n",
    "    metrics='mse'\n",
    ")"
   ]
  },
  {
   "cell_type": "code",
   "execution_count": 368,
   "metadata": {
    "scrolled": false
   },
   "outputs": [
    {
     "name": "stdout",
     "output_type": "stream",
     "text": [
      "Epoch 1/100\n",
      "26/26 - 0s - loss: 1.3409 - mse: 1.3409 - val_loss: 0.3627 - val_mse: 0.3627\n",
      "Epoch 2/100\n",
      "26/26 - 0s - loss: 0.6947 - mse: 0.6947 - val_loss: 0.3993 - val_mse: 0.3993\n",
      "Epoch 3/100\n",
      "26/26 - 0s - loss: 0.7257 - mse: 0.7257 - val_loss: 0.3624 - val_mse: 0.3624\n",
      "Epoch 4/100\n",
      "26/26 - 0s - loss: 0.7089 - mse: 0.7089 - val_loss: 0.3212 - val_mse: 0.3212\n",
      "Epoch 5/100\n",
      "26/26 - 0s - loss: 0.4849 - mse: 0.4849 - val_loss: 0.2913 - val_mse: 0.2913\n",
      "Epoch 6/100\n",
      "26/26 - 0s - loss: 0.4810 - mse: 0.4810 - val_loss: 0.2669 - val_mse: 0.2669\n",
      "Epoch 7/100\n",
      "26/26 - 0s - loss: 0.3215 - mse: 0.3215 - val_loss: 0.2346 - val_mse: 0.2346\n",
      "Epoch 8/100\n",
      "26/26 - 0s - loss: 0.3377 - mse: 0.3377 - val_loss: 0.2187 - val_mse: 0.2187\n",
      "Epoch 9/100\n",
      "26/26 - 0s - loss: 0.2858 - mse: 0.2858 - val_loss: 0.2006 - val_mse: 0.2006\n",
      "Epoch 10/100\n",
      "26/26 - 0s - loss: 0.3650 - mse: 0.3650 - val_loss: 0.1900 - val_mse: 0.1900\n",
      "Epoch 11/100\n",
      "26/26 - 0s - loss: 0.2756 - mse: 0.2756 - val_loss: 0.1749 - val_mse: 0.1749\n",
      "Epoch 12/100\n",
      "26/26 - 0s - loss: 0.2525 - mse: 0.2525 - val_loss: 0.1662 - val_mse: 0.1662\n",
      "Epoch 13/100\n",
      "26/26 - 0s - loss: 0.2602 - mse: 0.2602 - val_loss: 0.1511 - val_mse: 0.1511\n",
      "Epoch 14/100\n",
      "26/26 - 0s - loss: 0.2243 - mse: 0.2243 - val_loss: 0.1227 - val_mse: 0.1227\n",
      "Epoch 15/100\n",
      "26/26 - 0s - loss: 0.2327 - mse: 0.2327 - val_loss: 0.1066 - val_mse: 0.1066\n",
      "Epoch 16/100\n",
      "26/26 - 0s - loss: 0.1916 - mse: 0.1916 - val_loss: 0.0970 - val_mse: 0.0970\n",
      "Epoch 17/100\n",
      "26/26 - 0s - loss: 0.1593 - mse: 0.1593 - val_loss: 0.0697 - val_mse: 0.0697\n",
      "Epoch 18/100\n",
      "26/26 - 0s - loss: 0.1566 - mse: 0.1566 - val_loss: 0.0645 - val_mse: 0.0645\n",
      "Epoch 19/100\n",
      "26/26 - 0s - loss: 0.1429 - mse: 0.1429 - val_loss: 0.0564 - val_mse: 0.0564\n",
      "Epoch 20/100\n",
      "26/26 - 0s - loss: 0.1172 - mse: 0.1172 - val_loss: 0.0475 - val_mse: 0.0475\n",
      "Epoch 21/100\n",
      "26/26 - 0s - loss: 0.1246 - mse: 0.1246 - val_loss: 0.0474 - val_mse: 0.0474\n",
      "Epoch 22/100\n",
      "26/26 - 0s - loss: 0.1036 - mse: 0.1036 - val_loss: 0.0432 - val_mse: 0.0432\n",
      "Epoch 23/100\n",
      "26/26 - 0s - loss: 0.0877 - mse: 0.0877 - val_loss: 0.0419 - val_mse: 0.0419\n",
      "Epoch 24/100\n",
      "26/26 - 0s - loss: 0.0893 - mse: 0.0893 - val_loss: 0.0404 - val_mse: 0.0404\n",
      "Epoch 25/100\n",
      "26/26 - 0s - loss: 0.0823 - mse: 0.0823 - val_loss: 0.0402 - val_mse: 0.0402\n",
      "Epoch 26/100\n",
      "26/26 - 0s - loss: 0.0813 - mse: 0.0813 - val_loss: 0.0406 - val_mse: 0.0406\n",
      "Epoch 27/100\n",
      "26/26 - 0s - loss: 0.0760 - mse: 0.0760 - val_loss: 0.0390 - val_mse: 0.0390\n",
      "Epoch 28/100\n",
      "26/26 - 0s - loss: 0.0754 - mse: 0.0754 - val_loss: 0.0402 - val_mse: 0.0402\n",
      "Epoch 29/100\n",
      "26/26 - 0s - loss: 0.0708 - mse: 0.0708 - val_loss: 0.0386 - val_mse: 0.0386\n",
      "Epoch 30/100\n",
      "26/26 - 0s - loss: 0.0623 - mse: 0.0623 - val_loss: 0.0371 - val_mse: 0.0371\n",
      "Epoch 31/100\n",
      "26/26 - 0s - loss: 0.0612 - mse: 0.0612 - val_loss: 0.0364 - val_mse: 0.0364\n",
      "Epoch 32/100\n",
      "26/26 - 0s - loss: 0.0601 - mse: 0.0601 - val_loss: 0.0369 - val_mse: 0.0369\n",
      "Epoch 33/100\n",
      "26/26 - 0s - loss: 0.0594 - mse: 0.0594 - val_loss: 0.0354 - val_mse: 0.0354\n",
      "Epoch 34/100\n",
      "26/26 - 0s - loss: 0.0588 - mse: 0.0588 - val_loss: 0.0349 - val_mse: 0.0349\n",
      "Epoch 35/100\n",
      "26/26 - 0s - loss: 0.0510 - mse: 0.0510 - val_loss: 0.0339 - val_mse: 0.0339\n",
      "Epoch 36/100\n",
      "26/26 - 0s - loss: 0.0498 - mse: 0.0498 - val_loss: 0.0333 - val_mse: 0.0333\n",
      "Epoch 37/100\n",
      "26/26 - 0s - loss: 0.0503 - mse: 0.0503 - val_loss: 0.0326 - val_mse: 0.0326\n",
      "Epoch 38/100\n",
      "26/26 - 0s - loss: 0.0470 - mse: 0.0470 - val_loss: 0.0329 - val_mse: 0.0329\n",
      "Epoch 39/100\n",
      "26/26 - 0s - loss: 0.0477 - mse: 0.0477 - val_loss: 0.0333 - val_mse: 0.0333\n",
      "Epoch 40/100\n",
      "26/26 - 0s - loss: 0.0435 - mse: 0.0435 - val_loss: 0.0318 - val_mse: 0.0318\n",
      "Epoch 41/100\n",
      "26/26 - 0s - loss: 0.0455 - mse: 0.0455 - val_loss: 0.0312 - val_mse: 0.0312\n",
      "Epoch 42/100\n",
      "26/26 - 0s - loss: 0.0432 - mse: 0.0432 - val_loss: 0.0315 - val_mse: 0.0315\n",
      "Epoch 43/100\n",
      "26/26 - 0s - loss: 0.0407 - mse: 0.0407 - val_loss: 0.0303 - val_mse: 0.0303\n",
      "Epoch 44/100\n",
      "26/26 - 0s - loss: 0.0464 - mse: 0.0464 - val_loss: 0.0307 - val_mse: 0.0307\n",
      "Epoch 45/100\n",
      "26/26 - 0s - loss: 0.0398 - mse: 0.0398 - val_loss: 0.0295 - val_mse: 0.0295\n",
      "Epoch 46/100\n",
      "26/26 - 0s - loss: 0.0403 - mse: 0.0403 - val_loss: 0.0295 - val_mse: 0.0295\n",
      "Epoch 47/100\n",
      "26/26 - 0s - loss: 0.0411 - mse: 0.0411 - val_loss: 0.0291 - val_mse: 0.0291\n",
      "Epoch 48/100\n",
      "26/26 - 0s - loss: 0.0373 - mse: 0.0373 - val_loss: 0.0285 - val_mse: 0.0285\n",
      "Epoch 49/100\n",
      "26/26 - 0s - loss: 0.0382 - mse: 0.0382 - val_loss: 0.0274 - val_mse: 0.0274\n",
      "Epoch 50/100\n",
      "26/26 - 0s - loss: 0.0394 - mse: 0.0394 - val_loss: 0.0276 - val_mse: 0.0276\n",
      "Epoch 51/100\n",
      "26/26 - 0s - loss: 0.0365 - mse: 0.0365 - val_loss: 0.0270 - val_mse: 0.0270\n",
      "Epoch 52/100\n",
      "26/26 - 0s - loss: 0.0358 - mse: 0.0358 - val_loss: 0.0269 - val_mse: 0.0269\n",
      "Epoch 53/100\n",
      "26/26 - 0s - loss: 0.0349 - mse: 0.0349 - val_loss: 0.0264 - val_mse: 0.0264\n",
      "Epoch 54/100\n",
      "26/26 - 0s - loss: 0.0351 - mse: 0.0351 - val_loss: 0.0260 - val_mse: 0.0260\n",
      "Epoch 55/100\n",
      "26/26 - 0s - loss: 0.0348 - mse: 0.0348 - val_loss: 0.0255 - val_mse: 0.0255\n",
      "Epoch 56/100\n",
      "26/26 - 0s - loss: 0.0329 - mse: 0.0329 - val_loss: 0.0251 - val_mse: 0.0251\n",
      "Epoch 57/100\n",
      "26/26 - 0s - loss: 0.0341 - mse: 0.0341 - val_loss: 0.0248 - val_mse: 0.0248\n",
      "Epoch 58/100\n",
      "26/26 - 0s - loss: 0.0332 - mse: 0.0332 - val_loss: 0.0247 - val_mse: 0.0247\n",
      "Epoch 59/100\n",
      "26/26 - 0s - loss: 0.0339 - mse: 0.0339 - val_loss: 0.0239 - val_mse: 0.0239\n",
      "Epoch 60/100\n",
      "26/26 - 0s - loss: 0.0339 - mse: 0.0339 - val_loss: 0.0241 - val_mse: 0.0241\n",
      "Epoch 61/100\n",
      "26/26 - 0s - loss: 0.0321 - mse: 0.0321 - val_loss: 0.0235 - val_mse: 0.0235\n",
      "Epoch 62/100\n",
      "26/26 - 0s - loss: 0.0353 - mse: 0.0353 - val_loss: 0.0238 - val_mse: 0.0238\n",
      "Epoch 63/100\n",
      "26/26 - 0s - loss: 0.0322 - mse: 0.0322 - val_loss: 0.0234 - val_mse: 0.0234\n",
      "Epoch 64/100\n",
      "26/26 - 0s - loss: 0.0320 - mse: 0.0320 - val_loss: 0.0235 - val_mse: 0.0235\n",
      "Epoch 65/100\n",
      "26/26 - 0s - loss: 0.0322 - mse: 0.0322 - val_loss: 0.0230 - val_mse: 0.0230\n",
      "Epoch 66/100\n",
      "26/26 - 0s - loss: 0.0303 - mse: 0.0303 - val_loss: 0.0225 - val_mse: 0.0225\n",
      "Epoch 67/100\n",
      "26/26 - 0s - loss: 0.0312 - mse: 0.0312 - val_loss: 0.0227 - val_mse: 0.0227\n",
      "Epoch 68/100\n",
      "26/26 - 0s - loss: 0.0303 - mse: 0.0303 - val_loss: 0.0223 - val_mse: 0.0223\n",
      "Epoch 69/100\n",
      "26/26 - 0s - loss: 0.0312 - mse: 0.0312 - val_loss: 0.0236 - val_mse: 0.0236\n",
      "Epoch 70/100\n",
      "26/26 - 0s - loss: 0.0304 - mse: 0.0304 - val_loss: 0.0227 - val_mse: 0.0227\n",
      "Epoch 71/100\n",
      "26/26 - 0s - loss: 0.0324 - mse: 0.0324 - val_loss: 0.0220 - val_mse: 0.0220\n",
      "Epoch 72/100\n",
      "26/26 - 0s - loss: 0.0302 - mse: 0.0302 - val_loss: 0.0221 - val_mse: 0.0221\n",
      "Epoch 73/100\n",
      "26/26 - 0s - loss: 0.0305 - mse: 0.0305 - val_loss: 0.0220 - val_mse: 0.0220\n",
      "Epoch 74/100\n",
      "26/26 - 0s - loss: 0.0311 - mse: 0.0311 - val_loss: 0.0218 - val_mse: 0.0218\n",
      "Epoch 75/100\n",
      "26/26 - 0s - loss: 0.0302 - mse: 0.0302 - val_loss: 0.0218 - val_mse: 0.0218\n",
      "Epoch 76/100\n",
      "26/26 - 0s - loss: 0.0304 - mse: 0.0304 - val_loss: 0.0219 - val_mse: 0.0219\n",
      "Epoch 77/100\n",
      "26/26 - 0s - loss: 0.0289 - mse: 0.0289 - val_loss: 0.0216 - val_mse: 0.0216\n",
      "Epoch 78/100\n",
      "26/26 - 0s - loss: 0.0294 - mse: 0.0294 - val_loss: 0.0215 - val_mse: 0.0215\n",
      "Epoch 79/100\n",
      "26/26 - 0s - loss: 0.0306 - mse: 0.0306 - val_loss: 0.0212 - val_mse: 0.0212\n",
      "Epoch 80/100\n",
      "26/26 - 0s - loss: 0.0277 - mse: 0.0277 - val_loss: 0.0213 - val_mse: 0.0213\n",
      "Epoch 81/100\n",
      "26/26 - 0s - loss: 0.0300 - mse: 0.0300 - val_loss: 0.0207 - val_mse: 0.0207\n",
      "Epoch 82/100\n",
      "26/26 - 0s - loss: 0.0287 - mse: 0.0287 - val_loss: 0.0214 - val_mse: 0.0214\n",
      "Epoch 83/100\n",
      "26/26 - 0s - loss: 0.0288 - mse: 0.0288 - val_loss: 0.0203 - val_mse: 0.0203\n",
      "Epoch 84/100\n",
      "26/26 - 0s - loss: 0.0297 - mse: 0.0297 - val_loss: 0.0206 - val_mse: 0.0206\n",
      "Epoch 85/100\n",
      "26/26 - 0s - loss: 0.0279 - mse: 0.0279 - val_loss: 0.0206 - val_mse: 0.0206\n",
      "Epoch 86/100\n",
      "26/26 - 0s - loss: 0.0273 - mse: 0.0273 - val_loss: 0.0204 - val_mse: 0.0204\n",
      "Epoch 87/100\n",
      "26/26 - 0s - loss: 0.0278 - mse: 0.0278 - val_loss: 0.0203 - val_mse: 0.0203\n",
      "Epoch 88/100\n",
      "26/26 - 0s - loss: 0.0280 - mse: 0.0280 - val_loss: 0.0204 - val_mse: 0.0204\n",
      "Epoch 89/100\n",
      "26/26 - 0s - loss: 0.0279 - mse: 0.0279 - val_loss: 0.0204 - val_mse: 0.0204\n",
      "Epoch 90/100\n",
      "26/26 - 0s - loss: 0.0276 - mse: 0.0276 - val_loss: 0.0204 - val_mse: 0.0204\n",
      "Epoch 91/100\n",
      "26/26 - 0s - loss: 0.0277 - mse: 0.0277 - val_loss: 0.0202 - val_mse: 0.0202\n",
      "Epoch 92/100\n"
     ]
    },
    {
     "name": "stdout",
     "output_type": "stream",
     "text": [
      "26/26 - 0s - loss: 0.0274 - mse: 0.0274 - val_loss: 0.0200 - val_mse: 0.0200\n",
      "Epoch 93/100\n",
      "26/26 - 0s - loss: 0.0269 - mse: 0.0269 - val_loss: 0.0197 - val_mse: 0.0197\n",
      "Epoch 94/100\n",
      "26/26 - 0s - loss: 0.0275 - mse: 0.0275 - val_loss: 0.0199 - val_mse: 0.0199\n",
      "Epoch 95/100\n",
      "26/26 - 0s - loss: 0.0266 - mse: 0.0266 - val_loss: 0.0200 - val_mse: 0.0200\n",
      "Epoch 96/100\n",
      "26/26 - 0s - loss: 0.0276 - mse: 0.0276 - val_loss: 0.0193 - val_mse: 0.0193\n",
      "Epoch 97/100\n",
      "26/26 - 0s - loss: 0.0256 - mse: 0.0256 - val_loss: 0.0194 - val_mse: 0.0194\n",
      "Epoch 98/100\n",
      "26/26 - 0s - loss: 0.0275 - mse: 0.0275 - val_loss: 0.0194 - val_mse: 0.0194\n",
      "Epoch 99/100\n",
      "26/26 - 0s - loss: 0.0262 - mse: 0.0262 - val_loss: 0.0194 - val_mse: 0.0194\n",
      "Epoch 100/100\n",
      "26/26 - 0s - loss: 0.0267 - mse: 0.0267 - val_loss: 0.0196 - val_mse: 0.0196\n"
     ]
    }
   ],
   "source": [
    "EPOCHS = 100\n",
    "es_callback = tf.keras.callbacks.EarlyStopping(\n",
    "    monitor='val_loss', \n",
    "    patience=10, \n",
    "    restore_best_weights=True)\n",
    "\n",
    "history = model.fit(\n",
    "    train_x,\n",
    "    train_y,\n",
    "    batch_size=128,\n",
    "    epochs=EPOCHS,\n",
    "    validation_data=(val_x, val_y), \n",
    "    callbacks=es_callback,\n",
    "    verbose = 2\n",
    ")"
   ]
  },
  {
   "cell_type": "code",
   "execution_count": 369,
   "metadata": {},
   "outputs": [
    {
     "name": "stderr",
     "output_type": "stream",
     "text": [
      "/usr/local/lib/python3.6/dist-packages/ipykernel_launcher.py:4: MatplotlibDeprecationWarning: Adding an axes using the same arguments as a previous axes currently reuses the earlier instance.  In a future version, a new instance will always be created and returned.  Meanwhile, this warning can be suppressed, and the future behavior ensured, by passing a unique label to each axes instance.\n"
     ]
    },
    {
     "data": {
      "image/png": "[encoded data removed]",
      "text/plain": [
       "<Figure size 432x288 with 1 Axes>"
      ]
     },
     "metadata": {},
     "output_type": "display_data"
    }
   ],
   "source": [
    "metrics = history.history\n",
    "plt.plot(history.epoch, np.sqrt(metrics['mse'])*30, np.sqrt(metrics['val_mse'])*30)\n",
    "plt.legend(['rmse', 'val_rmse'])\n",
    "axes = plt.axes()\n",
    "axes.set_ylim([0, 30])\n",
    "plt.show()"
   ]
  },
  {
   "cell_type": "code",
   "execution_count": 370,
   "metadata": {},
   "outputs": [
    {
     "name": "stdout",
     "output_type": "stream",
     "text": [
      "Evaluate on val data\n",
      "51/51 [==============================] - 0s 440us/step - loss: 0.0171 - mse: 0.0171\n",
      "val rmse: 3.92453522622111\n"
     ]
    }
   ],
   "source": [
    "print(\"Evaluate on val data\")\n",
    "results = model.evaluate(train_x, train_y, batch_size=64)\n",
    "print(\"val rmse:\", np.sqrt(results)[0]*30)"
   ]
  },
  {
   "cell_type": "code",
   "execution_count": 371,
   "metadata": {},
   "outputs": [
    {
     "name": "stdout",
     "output_type": "stream",
     "text": [
      "Evaluate on test data\n",
      "11/11 [==============================] - 0s 449us/step - loss: 0.0167 - mse: 0.0167\n",
      "test rmse: 3.881177306531082\n"
     ]
    }
   ],
   "source": [
    "print(\"Evaluate on test data\")\n",
    "results = model.evaluate(test_x, test_y, batch_size=64)\n",
    "print(\"test rmse:\", np.sqrt(results)[0]*30)"
   ]
  },
  {
   "cell_type": "markdown",
   "metadata": {},
   "source": [
    "# Evaluate on full length audio"
   ]
  },
  {
   "cell_type": "code",
   "execution_count": 372,
   "metadata": {},
   "outputs": [],
   "source": [
    "data_path = '/tf/data/dementia/0extra/ADReSS-IS2020-data/train'\n",
    "\n",
    "filenames = tf.random.shuffle(tf.io.gfile.glob(data_path + '/Full_wave_enhanced_audio/*/*'))\n",
    "\n",
    "train_cutoff = int(len(filenames)*0.7)\n",
    "val_cutoff = int(len(filenames)*0.85)\n",
    "\n",
    "train_files = filenames[:train_cutoff]\n",
    "val_files = filenames[train_cutoff:val_cutoff]\n",
    "test_files = filenames[val_cutoff:]\n",
    "\n",
    "meta_cc = pd.read_csv(data_path + '/cc_meta_data.txt', sep=\";\", header=0, \n",
    "                  names = ['ID', 'Age', 'Gender', 'MMSE'])\n",
    "meta_cd = pd.read_csv(data_path + '/cd_meta_data.txt', sep=\";\", header=0, \n",
    "                      names = ['ID', 'Age', 'Gender', 'MMSE'])\n",
    "\n",
    "meta = meta_cc.assign(Group = 'cc').append(meta_cd.assign(Group = 'cd')).reset_index()\n",
    "meta.MMSE = pd.to_numeric(meta.MMSE.replace(' NA', 30))"
   ]
  },
  {
   "cell_type": "code",
   "execution_count": 373,
   "metadata": {},
   "outputs": [
    {
     "data": {
      "text/html": [
       "<div>\n",
       "<style scoped>\n",
       "    .dataframe tbody tr th:only-of-type {\n",
       "        vertical-align: middle;\n",
       "    }\n",
       "\n",
       "    .dataframe tbody tr th {\n",
       "        vertical-align: top;\n",
       "    }\n",
       "\n",
       "    .dataframe thead th {\n",
       "        text-align: right;\n",
       "    }\n",
       "</style>\n",
       "<table border=\"1\" class=\"dataframe\">\n",
       "  <thead>\n",
       "    <tr style=\"text-align: right;\">\n",
       "      <th></th>\n",
       "      <th>index</th>\n",
       "      <th>ID</th>\n",
       "      <th>Age</th>\n",
       "      <th>Gender</th>\n",
       "      <th>MMSE</th>\n",
       "      <th>Group</th>\n",
       "    </tr>\n",
       "  </thead>\n",
       "  <tbody>\n",
       "    <tr>\n",
       "      <th>0</th>\n",
       "      <td>0</td>\n",
       "      <td>S001</td>\n",
       "      <td>74</td>\n",
       "      <td>male</td>\n",
       "      <td>30</td>\n",
       "      <td>cc</td>\n",
       "    </tr>\n",
       "    <tr>\n",
       "      <th>1</th>\n",
       "      <td>1</td>\n",
       "      <td>S002</td>\n",
       "      <td>62</td>\n",
       "      <td>female</td>\n",
       "      <td>30</td>\n",
       "      <td>cc</td>\n",
       "    </tr>\n",
       "    <tr>\n",
       "      <th>2</th>\n",
       "      <td>2</td>\n",
       "      <td>S003</td>\n",
       "      <td>69</td>\n",
       "      <td>female</td>\n",
       "      <td>29</td>\n",
       "      <td>cc</td>\n",
       "    </tr>\n",
       "    <tr>\n",
       "      <th>3</th>\n",
       "      <td>3</td>\n",
       "      <td>S004</td>\n",
       "      <td>71</td>\n",
       "      <td>female</td>\n",
       "      <td>30</td>\n",
       "      <td>cc</td>\n",
       "    </tr>\n",
       "    <tr>\n",
       "      <th>4</th>\n",
       "      <td>4</td>\n",
       "      <td>S005</td>\n",
       "      <td>74</td>\n",
       "      <td>female</td>\n",
       "      <td>30</td>\n",
       "      <td>cc</td>\n",
       "    </tr>\n",
       "    <tr>\n",
       "      <th>...</th>\n",
       "      <td>...</td>\n",
       "      <td>...</td>\n",
       "      <td>...</td>\n",
       "      <td>...</td>\n",
       "      <td>...</td>\n",
       "      <td>...</td>\n",
       "    </tr>\n",
       "    <tr>\n",
       "      <th>103</th>\n",
       "      <td>49</td>\n",
       "      <td>S150</td>\n",
       "      <td>58</td>\n",
       "      <td>male</td>\n",
       "      <td>20</td>\n",
       "      <td>cd</td>\n",
       "    </tr>\n",
       "    <tr>\n",
       "      <th>104</th>\n",
       "      <td>50</td>\n",
       "      <td>S151</td>\n",
       "      <td>72</td>\n",
       "      <td>male</td>\n",
       "      <td>24</td>\n",
       "      <td>cd</td>\n",
       "    </tr>\n",
       "    <tr>\n",
       "      <th>105</th>\n",
       "      <td>51</td>\n",
       "      <td>S153</td>\n",
       "      <td>68</td>\n",
       "      <td>female</td>\n",
       "      <td>12</td>\n",
       "      <td>cd</td>\n",
       "    </tr>\n",
       "    <tr>\n",
       "      <th>106</th>\n",
       "      <td>52</td>\n",
       "      <td>S154</td>\n",
       "      <td>65</td>\n",
       "      <td>female</td>\n",
       "      <td>20</td>\n",
       "      <td>cd</td>\n",
       "    </tr>\n",
       "    <tr>\n",
       "      <th>107</th>\n",
       "      <td>53</td>\n",
       "      <td>S156</td>\n",
       "      <td>71</td>\n",
       "      <td>female</td>\n",
       "      <td>13</td>\n",
       "      <td>cd</td>\n",
       "    </tr>\n",
       "  </tbody>\n",
       "</table>\n",
       "<p>108 rows × 6 columns</p>\n",
       "</div>"
      ],
      "text/plain": [
       "     index     ID  Age    Gender  MMSE Group\n",
       "0        0  S001    74     male     30    cc\n",
       "1        1  S002    62   female     30    cc\n",
       "2        2  S003    69   female     29    cc\n",
       "3        3  S004    71   female     30    cc\n",
       "4        4  S005    74   female     30    cc\n",
       "..     ...    ...  ...       ...   ...   ...\n",
       "103     49  S150    58     male     20    cd\n",
       "104     50  S151    72     male     24    cd\n",
       "105     51  S153    68   female     12    cd\n",
       "106     52  S154    65   female     20    cd\n",
       "107     53  S156    71   female     13    cd\n",
       "\n",
       "[108 rows x 6 columns]"
      ]
     },
     "execution_count": 373,
     "metadata": {},
     "output_type": "execute_result"
    }
   ],
   "source": [
    "meta"
   ]
  },
  {
   "cell_type": "code",
   "execution_count": 374,
   "metadata": {},
   "outputs": [],
   "source": [
    "data['ID'] = [str(x).split('-')[-2] for x in data.index.get_level_values(level = 0)]"
   ]
  },
  {
   "cell_type": "code",
   "execution_count": 375,
   "metadata": {
    "scrolled": true
   },
   "outputs": [
    {
     "name": "stderr",
     "output_type": "stream",
     "text": [
      "\n",
      "\n",
      "  0%|          | 0/75 [00:00<?, ?it/s]\u001b[A\u001b[A\n",
      "\n",
      "  4%|▍         | 3/75 [00:00<00:02, 29.89it/s]\u001b[A\u001b[A\n",
      "\n",
      "  9%|▉         | 7/75 [00:00<00:02, 31.77it/s]\u001b[A\u001b[A\n",
      "\n",
      " 15%|█▍        | 11/75 [00:00<00:01, 33.79it/s]\u001b[A\u001b[A\n",
      "\n",
      " 19%|█▊        | 14/75 [00:00<00:01, 32.34it/s]\u001b[A\u001b[A\n",
      "\n",
      " 24%|██▍       | 18/75 [00:00<00:01, 34.11it/s]\u001b[A\u001b[A\n",
      "\n",
      " 29%|██▉       | 22/75 [00:00<00:01, 34.82it/s]\u001b[A\u001b[A\n",
      "\n",
      " 35%|███▍      | 26/75 [00:00<00:01, 35.75it/s]\u001b[A\u001b[A\n",
      "\n",
      " 40%|████      | 30/75 [00:00<00:01, 36.85it/s]\u001b[A\u001b[A\n",
      "\n",
      " 45%|████▌     | 34/75 [00:00<00:01, 36.74it/s]\u001b[A\u001b[A\n",
      "\n",
      " 51%|█████     | 38/75 [00:01<00:00, 37.19it/s]\u001b[A\u001b[A\n",
      "\n",
      " 56%|█████▌    | 42/75 [00:01<00:00, 36.91it/s]\u001b[A\u001b[A\n",
      "\n",
      " 63%|██████▎   | 47/75 [00:01<00:00, 37.80it/s]\u001b[A\u001b[A\n",
      "\n",
      " 68%|██████▊   | 51/75 [00:01<00:00, 37.81it/s]\u001b[A\u001b[A\n",
      "\n",
      " 73%|███████▎  | 55/75 [00:01<00:00, 38.17it/s]\u001b[A\u001b[A\n",
      "\n",
      " 79%|███████▊  | 59/75 [00:01<00:00, 37.91it/s]\u001b[A\u001b[A\n",
      "\n",
      " 84%|████████▍ | 63/75 [00:01<00:00, 38.24it/s]\u001b[A\u001b[A\n",
      "\n",
      " 89%|████████▉ | 67/75 [00:01<00:00, 38.23it/s]\u001b[A\u001b[A\n",
      "\n",
      " 95%|█████████▍| 71/75 [00:01<00:00, 38.33it/s]\u001b[A\u001b[A\n",
      "\n",
      "100%|██████████| 75/75 [00:02<00:00, 37.35it/s]\u001b[A\u001b[A\n",
      "\n",
      "\n",
      "  0%|          | 0/17 [00:00<?, ?it/s]\u001b[A\u001b[A\n",
      "\n",
      " 24%|██▎       | 4/17 [00:00<00:00, 36.53it/s]\u001b[A\u001b[A\n",
      "\n",
      " 47%|████▋     | 8/17 [00:00<00:00, 36.57it/s]\u001b[A\u001b[A\n",
      "\n",
      " 71%|███████   | 12/17 [00:00<00:00, 36.20it/s]\u001b[A\u001b[A\n",
      "\n",
      "100%|██████████| 17/17 [00:00<00:00, 37.04it/s]\u001b[A\u001b[A\n",
      "\n",
      "\n",
      "  0%|          | 0/16 [00:00<?, ?it/s]\u001b[A\u001b[A\n",
      "\n",
      " 25%|██▌       | 4/16 [00:00<00:00, 38.34it/s]\u001b[A\u001b[A\n",
      "\n",
      " 50%|█████     | 8/16 [00:00<00:00, 38.36it/s]\u001b[A\u001b[A\n",
      "\n",
      " 75%|███████▌  | 12/16 [00:00<00:00, 37.80it/s]\u001b[A\u001b[A\n",
      "\n",
      "100%|██████████| 16/16 [00:00<00:00, 37.54it/s]\u001b[A\u001b[A\n"
     ]
    }
   ],
   "source": [
    "meta = meta.assign(split = '', predict = -99.99, predict_group = 'cc')\n",
    "for file in tqdm(train_files):\n",
    "    ID = file.numpy().decode('utf-8').split('/')[-1].split('.')[0]\n",
    "    predict = model.predict(data[data.ID == ID][data.columns[1:-2]].to_numpy()).flatten().mean() * 30\n",
    "    meta.at[np.where(meta.ID == (ID + ' '))[0][0], 'predict'] = max(1, min(predict, 30))\n",
    "    meta.at[np.where(meta.ID == (ID + ' '))[0][0], 'split'] = 'train'\n",
    "    if (predict < 24):\n",
    "        meta.at[np.where(meta.ID == (ID + ' '))[0][0], 'predict_group'] = 'cd'\n",
    "        \n",
    "for file in tqdm(test_files):\n",
    "    ID = file.numpy().decode('utf-8').split('/')[-1].split('.')[0]\n",
    "    predict = model.predict(data[data.ID == ID][data.columns[1:-2]].to_numpy()).flatten().mean() * 30\n",
    "    meta.at[np.where(meta.ID == (ID + ' '))[0][0], 'predict'] = max(1, min(predict, 30))\n",
    "    meta.at[np.where(meta.ID == (ID + ' '))[0][0], 'split'] = 'test'\n",
    "    if (predict < 24):\n",
    "        meta.at[np.where(meta.ID == (ID + ' '))[0][0], 'predict_group'] = 'cd'\n",
    "        \n",
    "for file in tqdm(val_files):\n",
    "    ID = file.numpy().decode('utf-8').split('/')[-1].split('.')[0]\n",
    "    predict = model.predict(data[data.ID == ID][data.columns[1:-2]].to_numpy()).flatten().mean() * 30\n",
    "    meta.at[np.where(meta.ID == (ID + ' '))[0][0], 'predict'] = max(1, min(predict, 30))\n",
    "    meta.at[np.where(meta.ID == (ID + ' '))[0][0], 'split'] = 'val'\n",
    "    if (predict < 24):\n",
    "        meta.at[np.where(meta.ID == (ID + ' '))[0][0], 'predict_group'] = 'cd'"
   ]
  },
  {
   "cell_type": "code",
   "execution_count": 376,
   "metadata": {},
   "outputs": [
    {
     "data": {
      "text/plain": [
       "count    108.000000\n",
       "mean      22.166335\n",
       "std        5.128971\n",
       "min        1.000000\n",
       "25%       18.429825\n",
       "50%       23.502885\n",
       "75%       25.984961\n",
       "max       29.433308\n",
       "Name: predict, dtype: float64"
      ]
     },
     "execution_count": 376,
     "metadata": {},
     "output_type": "execute_result"
    }
   ],
   "source": [
    "meta.predict.describe()"
   ]
  },
  {
   "cell_type": "code",
   "execution_count": 377,
   "metadata": {},
   "outputs": [
    {
     "data": {
      "text/html": [
       "<div>\n",
       "<style scoped>\n",
       "    .dataframe tbody tr th:only-of-type {\n",
       "        vertical-align: middle;\n",
       "    }\n",
       "\n",
       "    .dataframe tbody tr th {\n",
       "        vertical-align: top;\n",
       "    }\n",
       "\n",
       "    .dataframe thead th {\n",
       "        text-align: right;\n",
       "    }\n",
       "</style>\n",
       "<table border=\"1\" class=\"dataframe\">\n",
       "  <thead>\n",
       "    <tr style=\"text-align: right;\">\n",
       "      <th></th>\n",
       "      <th>split</th>\n",
       "      <th>rmse</th>\n",
       "    </tr>\n",
       "  </thead>\n",
       "  <tbody>\n",
       "    <tr>\n",
       "      <th>0</th>\n",
       "      <td>test</td>\n",
       "      <td>2.524820</td>\n",
       "    </tr>\n",
       "    <tr>\n",
       "      <th>1</th>\n",
       "      <td>train</td>\n",
       "      <td>4.350099</td>\n",
       "    </tr>\n",
       "    <tr>\n",
       "      <th>2</th>\n",
       "      <td>val</td>\n",
       "      <td>3.580294</td>\n",
       "    </tr>\n",
       "  </tbody>\n",
       "</table>\n",
       "</div>"
      ],
      "text/plain": [
       "   split      rmse\n",
       "0   test  2.524820\n",
       "1  train  4.350099\n",
       "2    val  3.580294"
      ]
     },
     "execution_count": 377,
     "metadata": {},
     "output_type": "execute_result"
    }
   ],
   "source": [
    "from sklearn.metrics import confusion_matrix, mean_squared_error, classification_report\n",
    "def cal_rmse(g):\n",
    "    rmse = np.sqrt(mean_squared_error(g['MMSE'], g['predict'] ) )\n",
    "    return pd.Series(dict(rmse = rmse ))\n",
    "\n",
    "meta.groupby('split').apply(cal_rmse).reset_index()"
   ]
  },
  {
   "cell_type": "code",
   "execution_count": 378,
   "metadata": {},
   "outputs": [
    {
     "data": {
      "text/html": [
       "<div>\n",
       "<style scoped>\n",
       "    .dataframe tbody tr th:only-of-type {\n",
       "        vertical-align: middle;\n",
       "    }\n",
       "\n",
       "    .dataframe tbody tr th {\n",
       "        vertical-align: top;\n",
       "    }\n",
       "\n",
       "    .dataframe thead th {\n",
       "        text-align: right;\n",
       "    }\n",
       "</style>\n",
       "<table border=\"1\" class=\"dataframe\">\n",
       "  <thead>\n",
       "    <tr style=\"text-align: right;\">\n",
       "      <th></th>\n",
       "      <th>Gender</th>\n",
       "      <th>rmse</th>\n",
       "    </tr>\n",
       "  </thead>\n",
       "  <tbody>\n",
       "    <tr>\n",
       "      <th>0</th>\n",
       "      <td>female</td>\n",
       "      <td>4.388541</td>\n",
       "    </tr>\n",
       "    <tr>\n",
       "      <th>1</th>\n",
       "      <td>male</td>\n",
       "      <td>3.467591</td>\n",
       "    </tr>\n",
       "  </tbody>\n",
       "</table>\n",
       "</div>"
      ],
      "text/plain": [
       "     Gender      rmse\n",
       "0   female   4.388541\n",
       "1     male   3.467591"
      ]
     },
     "execution_count": 378,
     "metadata": {},
     "output_type": "execute_result"
    }
   ],
   "source": [
    "meta.groupby('Gender').apply(cal_rmse).reset_index()"
   ]
  },
  {
   "cell_type": "code",
   "execution_count": 379,
   "metadata": {},
   "outputs": [
    {
     "data": {
      "text/plain": [
       "4.0054575266691685"
      ]
     },
     "execution_count": 379,
     "metadata": {},
     "output_type": "execute_result"
    }
   ],
   "source": [
    "np.sqrt(mean_squared_error(meta['MMSE'], meta['predict'] ))"
   ]
  },
  {
   "cell_type": "code",
   "execution_count": 380,
   "metadata": {},
   "outputs": [
    {
     "data": {
      "image/png": "[encoded data removed]",
      "text/plain": [
       "<Figure size 1500x800 with 3 Axes>"
      ]
     },
     "metadata": {},
     "output_type": "display_data"
    },
    {
     "data": {
      "text/plain": [
       "<ggplot: (8776331665230)>"
      ]
     },
     "execution_count": 380,
     "metadata": {},
     "output_type": "execute_result"
    }
   ],
   "source": [
    "ggplot(meta) + \\\n",
    "geom_point(aes(x = 'MMSE', y = 'predict', colour = 'split')) + \\\n",
    "facet_wrap('split', nrow = 1) + \\\n",
    "geom_abline(aes(intercept = 0, slope = 1, lty = 2)) + \\\n",
    "geom_hline(aes(yintercept = 24, lty = 2)) + \\\n",
    "geom_vline(aes(xintercept = 24, lty = 2)) + \\\n",
    "theme(figure_size = (15, 8))"
   ]
  },
  {
   "cell_type": "code",
   "execution_count": 381,
   "metadata": {},
   "outputs": [
    {
     "data": {
      "text/plain": [
       "<matplotlib.axes._subplots.AxesSubplot at 0x7fb662370748>"
      ]
     },
     "execution_count": 381,
     "metadata": {},
     "output_type": "execute_result"
    },
    {
     "data": {
      "image/png": "[encoded data removed]",
      "text/plain": [
       "<Figure size 720x504 with 2 Axes>"
      ]
     },
     "metadata": {},
     "output_type": "display_data"
    }
   ],
   "source": [
    "y_true = meta.Group\n",
    "y_pred = meta.predict_group\n",
    "data_c = confusion_matrix(y_true, y_pred)\n",
    "df_cm = pd.DataFrame(data_c, columns=np.unique(y_true), index = np.unique(y_true))\n",
    "df_cm.index.name = 'Actual'\n",
    "df_cm.columns.name = 'Predicted'\n",
    "plt.figure(figsize = (10,7))\n",
    "sn.set(font_scale=1.4)#for label size\n",
    "sn.heatmap(df_cm, cmap=\"Reds\", annot=True,annot_kws={\"size\": 16})# font size"
   ]
  },
  {
   "cell_type": "code",
   "execution_count": 382,
   "metadata": {
    "scrolled": true
   },
   "outputs": [
    {
     "name": "stdout",
     "output_type": "stream",
     "text": [
      "              precision    recall  f1-score   support\n",
      "\n",
      "          cc       0.89      0.78      0.83        54\n",
      "          cd       0.80      0.91      0.85        54\n",
      "\n",
      "    accuracy                           0.84       108\n",
      "   macro avg       0.85      0.84      0.84       108\n",
      "weighted avg       0.85      0.84      0.84       108\n",
      "\n"
     ]
    }
   ],
   "source": [
    "print(classification_report(y_true, y_pred))"
   ]
  },
  {
   "cell_type": "markdown",
   "metadata": {},
   "source": [
    "# Pitts Corpus"
   ]
  },
  {
   "cell_type": "code",
   "execution_count": 169,
   "metadata": {},
   "outputs": [],
   "source": [
    "data_path_pitt = '/tf/data/dementia/English/Pitt/'\n",
    "files_pitt = tf.io.gfile.glob(data_path_pitt + 'Control/cookie/*.wav') + \\\n",
    "             tf.io.gfile.glob(data_path_pitt + 'Dementia/cookie/*.wav')"
   ]
  },
  {
   "cell_type": "code",
   "execution_count": 428,
   "metadata": {},
   "outputs": [],
   "source": [
    "def model_inference(filepath):\n",
    "\n",
    "    import tensorflow as tf\n",
    "    import numpy as np\n",
    "    import json\n",
    "    import requests\t\n",
    "    import os\n",
    "    from pydub import AudioSegment\n",
    "    from datetime import datetime\n",
    "    \n",
    "    input_file = filepath\n",
    "    if not filepath.lower().endswith(\".wav\"):\n",
    "        input_file = input_file.split('.mp3')[0] + '.wav'\n",
    "        cmd = \"ffmpeg -i \" + filepath + \" \" + input_file\n",
    "        os.system(cmd)\n",
    "        \n",
    "    newAudio = AudioSegment.from_wav(input_file)\n",
    "    newAudio = newAudio.set_channels(1)\n",
    "    if len(newAudio)/1000 < 30:\n",
    "            newAudio = newAudio + AudioSegment.silent(duration=30000- len(newAudio))\n",
    "            \n",
    "    predicts = []\n",
    "    for t1 in list(range(int(len(newAudio)/1000-29))):\n",
    "#         exportAudio = newAudio[t1*1000:(t1 + 30)*1000]\n",
    "#         exportAudio.export('/tf/data/dementia/0extra/ADReSS-IS2020-data/train/temp.wav' , format=\"wav\")\n",
    "        x = smile.process_files([input_file], channel = 1,\n",
    "                    starts = [pd.Timedelta(pd.offsets.Second(t1))], \n",
    "                    ends = [pd.Timedelta(pd.offsets.Second(t1 + 30))]).to_numpy()\n",
    "        predicts = predicts + [model.predict(x)[0][0] * 30]\n",
    "#         print(predicts)\n",
    "    result = sum(predicts)/len(predicts)\n",
    "\n",
    "    return result"
   ]
  },
  {
   "cell_type": "code",
   "execution_count": null,
   "metadata": {
    "scrolled": true
   },
   "outputs": [
    {
     "name": "stderr",
     "output_type": "stream",
     "text": [
      "\n",
      "\n",
      "\n",
      "  0%|          | 0/552 [00:00<?, ?it/s]\u001b[A\u001b[A\u001b[A\n",
      "\n",
      "\n",
      "  0%|          | 1/552 [00:14<2:17:10, 14.94s/it]\u001b[A\u001b[A\u001b[A\n",
      "\n",
      "\n",
      "  0%|          | 2/552 [00:35<2:31:04, 16.48s/it]\u001b[A\u001b[A\u001b[A\n",
      "\n",
      "\n",
      "  1%|          | 3/552 [00:35<1:47:51, 11.79s/it]\u001b[A\u001b[A\u001b[A\n",
      "\n",
      "\n",
      "  1%|          | 4/552 [02:17<5:54:53, 38.86s/it]\u001b[A\u001b[A\u001b[A"
     ]
    }
   ],
   "source": [
    "meta_pitt = pd.DataFrame(columns= ['file', 'ID', 'Group', 'MMSE', 'predict', 'predict_group'])\n",
    "for file in tqdm(files_pitt):\n",
    "#     print(file)\n",
    "    ID = file.split('/')[-1].split('.')[0]\n",
    "    Group = file.split('/')[6]\n",
    "    cha = pd.read_fwf(data_path_pitt + 'Pitt/' + Group + '/cookie/' + ID + '.cha')  \n",
    "    cha_id = [x for x in cha['@UTF8'] if str.startswith(x, '@ID:')][0]\n",
    "    \n",
    "    if (cha_id.split('|')[-3] == ''):\n",
    "        MMSE = np.NaN\n",
    "    else:\n",
    "        MMSE = int(cha_id.split('|')[-3])\n",
    "        \n",
    "    predict = model_inference(file)\n",
    "    if (predict < 24):\n",
    "        predict_group = 'Dementia'\n",
    "    else:\n",
    "        predict_group = 'Control'\n",
    "    meta_pitt = meta_pitt.append(pd.DataFrame([[file, ID, Group, MMSE, predict, predict_group]], \n",
    "                                  columns = list(meta_pitt.columns)))"
   ]
  },
  {
   "cell_type": "code",
   "execution_count": 295,
   "metadata": {
    "scrolled": true
   },
   "outputs": [],
   "source": [
    "meta_pitt_eval = meta_pitt[meta_pitt.MMSE.notna()]"
   ]
  },
  {
   "cell_type": "code",
   "execution_count": 296,
   "metadata": {},
   "outputs": [
    {
     "data": {
      "text/plain": [
       "(552, 9)"
      ]
     },
     "execution_count": 296,
     "metadata": {},
     "output_type": "execute_result"
    }
   ],
   "source": [
    "meta_pitt.shape"
   ]
  },
  {
   "cell_type": "code",
   "execution_count": 297,
   "metadata": {},
   "outputs": [
    {
     "data": {
      "text/plain": [
       "(457, 9)"
      ]
     },
     "execution_count": 297,
     "metadata": {},
     "output_type": "execute_result"
    }
   ],
   "source": [
    "meta_pitt_eval.shape"
   ]
  },
  {
   "cell_type": "code",
   "execution_count": 298,
   "metadata": {},
   "outputs": [
    {
     "data": {
      "text/html": [
       "<div>\n",
       "<style scoped>\n",
       "    .dataframe tbody tr th:only-of-type {\n",
       "        vertical-align: middle;\n",
       "    }\n",
       "\n",
       "    .dataframe tbody tr th {\n",
       "        vertical-align: top;\n",
       "    }\n",
       "\n",
       "    .dataframe thead th {\n",
       "        text-align: right;\n",
       "    }\n",
       "</style>\n",
       "<table border=\"1\" class=\"dataframe\">\n",
       "  <thead>\n",
       "    <tr style=\"text-align: right;\">\n",
       "      <th></th>\n",
       "      <th>file</th>\n",
       "      <th>ID</th>\n",
       "      <th>Group</th>\n",
       "      <th>MMSE</th>\n",
       "      <th>predict</th>\n",
       "      <th>predict_group</th>\n",
       "      <th>predicts</th>\n",
       "      <th>predict_min</th>\n",
       "      <th>predict_group_min</th>\n",
       "    </tr>\n",
       "  </thead>\n",
       "  <tbody>\n",
       "    <tr>\n",
       "      <th>0</th>\n",
       "      <td>/tf/data/dementia/English/Pitt/Control/cookie/...</td>\n",
       "      <td>128-3</td>\n",
       "      <td>Control</td>\n",
       "      <td>29</td>\n",
       "      <td>25.855359</td>\n",
       "      <td>Control</td>\n",
       "      <td>[0.8192363, 0.80515444, 0.8759565, 0.9246044, ...</td>\n",
       "      <td>0.482245</td>\n",
       "      <td>Dementia</td>\n",
       "    </tr>\n",
       "    <tr>\n",
       "      <th>0</th>\n",
       "      <td>/tf/data/dementia/English/Pitt/Control/cookie/...</td>\n",
       "      <td>229-2</td>\n",
       "      <td>Control</td>\n",
       "      <td>30</td>\n",
       "      <td>16.437099</td>\n",
       "      <td>Dementia</td>\n",
       "      <td>[0.5487453, 0.54861814, 0.5485862, 0.54736215,...</td>\n",
       "      <td>0.546205</td>\n",
       "      <td>Dementia</td>\n",
       "    </tr>\n",
       "    <tr>\n",
       "      <th>0</th>\n",
       "      <td>/tf/data/dementia/English/Pitt/Control/cookie/...</td>\n",
       "      <td>196-0</td>\n",
       "      <td>Control</td>\n",
       "      <td>28</td>\n",
       "      <td>20.300190</td>\n",
       "      <td>Dementia</td>\n",
       "      <td>[0.6018041, 0.6044841, 0.61234003, 0.6232815, ...</td>\n",
       "      <td>0.601804</td>\n",
       "      <td>Dementia</td>\n",
       "    </tr>\n",
       "    <tr>\n",
       "      <th>0</th>\n",
       "      <td>/tf/data/dementia/English/Pitt/Control/cookie/...</td>\n",
       "      <td>668-0</td>\n",
       "      <td>Control</td>\n",
       "      <td>29</td>\n",
       "      <td>18.987910</td>\n",
       "      <td>Dementia</td>\n",
       "      <td>[0.8942066, 0.91020316, 0.94213617, 0.96051204...</td>\n",
       "      <td>0.379110</td>\n",
       "      <td>Dementia</td>\n",
       "    </tr>\n",
       "    <tr>\n",
       "      <th>0</th>\n",
       "      <td>/tf/data/dementia/English/Pitt/Control/cookie/...</td>\n",
       "      <td>073-1</td>\n",
       "      <td>Control</td>\n",
       "      <td>29</td>\n",
       "      <td>17.749986</td>\n",
       "      <td>Dementia</td>\n",
       "      <td>[0.5269004, 0.52823627, 0.52713543, 0.5275847,...</td>\n",
       "      <td>0.526900</td>\n",
       "      <td>Dementia</td>\n",
       "    </tr>\n",
       "  </tbody>\n",
       "</table>\n",
       "</div>"
      ],
      "text/plain": [
       "                                                file     ID    Group MMSE  \\\n",
       "0  /tf/data/dementia/English/Pitt/Control/cookie/...  128-3  Control   29   \n",
       "0  /tf/data/dementia/English/Pitt/Control/cookie/...  229-2  Control   30   \n",
       "0  /tf/data/dementia/English/Pitt/Control/cookie/...  196-0  Control   28   \n",
       "0  /tf/data/dementia/English/Pitt/Control/cookie/...  668-0  Control   29   \n",
       "0  /tf/data/dementia/English/Pitt/Control/cookie/...  073-1  Control   29   \n",
       "\n",
       "     predict predict_group                                           predicts  \\\n",
       "0  25.855359       Control  [0.8192363, 0.80515444, 0.8759565, 0.9246044, ...   \n",
       "0  16.437099      Dementia  [0.5487453, 0.54861814, 0.5485862, 0.54736215,...   \n",
       "0  20.300190      Dementia  [0.6018041, 0.6044841, 0.61234003, 0.6232815, ...   \n",
       "0  18.987910      Dementia  [0.8942066, 0.91020316, 0.94213617, 0.96051204...   \n",
       "0  17.749986      Dementia  [0.5269004, 0.52823627, 0.52713543, 0.5275847,...   \n",
       "\n",
       "   predict_min predict_group_min  \n",
       "0     0.482245          Dementia  \n",
       "0     0.546205          Dementia  \n",
       "0     0.601804          Dementia  \n",
       "0     0.379110          Dementia  \n",
       "0     0.526900          Dementia  "
      ]
     },
     "execution_count": 298,
     "metadata": {},
     "output_type": "execute_result"
    }
   ],
   "source": [
    "meta_pitt_eval.head()"
   ]
  },
  {
   "cell_type": "code",
   "execution_count": 299,
   "metadata": {},
   "outputs": [
    {
     "data": {
      "text/plain": [
       "<matplotlib.axes._subplots.AxesSubplot at 0x7fc8143a86d8>"
      ]
     },
     "execution_count": 299,
     "metadata": {},
     "output_type": "execute_result"
    },
    {
     "data": {
      "image/png": "[encoded data removed]",
      "text/plain": [
       "<Figure size 720x504 with 2 Axes>"
      ]
     },
     "metadata": {},
     "output_type": "display_data"
    }
   ],
   "source": [
    "y_true = meta_pitt.Group\n",
    "y_pred = meta_pitt.predict_group\n",
    "data = confusion_matrix(y_true, y_pred)\n",
    "df_cm = pd.DataFrame(data, columns=np.unique(y_true), index = np.unique(y_true))\n",
    "df_cm.index.name = 'Actual'\n",
    "df_cm.columns.name = 'Predicted'\n",
    "plt.figure(figsize = (10,7))\n",
    "sn.set(font_scale=1.4)#for label size\n",
    "sn.heatmap(df_cm, cmap=\"Reds\", annot=True, annot_kws={\"size\": 16})# font size"
   ]
  },
  {
   "cell_type": "code",
   "execution_count": 300,
   "metadata": {},
   "outputs": [
    {
     "data": {
      "text/html": [
       "<div>\n",
       "<style scoped>\n",
       "    .dataframe tbody tr th:only-of-type {\n",
       "        vertical-align: middle;\n",
       "    }\n",
       "\n",
       "    .dataframe tbody tr th {\n",
       "        vertical-align: top;\n",
       "    }\n",
       "\n",
       "    .dataframe thead th {\n",
       "        text-align: right;\n",
       "    }\n",
       "</style>\n",
       "<table border=\"1\" class=\"dataframe\">\n",
       "  <thead>\n",
       "    <tr style=\"text-align: right;\">\n",
       "      <th>Predicted</th>\n",
       "      <th>Control</th>\n",
       "      <th>Dementia</th>\n",
       "    </tr>\n",
       "    <tr>\n",
       "      <th>Actual</th>\n",
       "      <th></th>\n",
       "      <th></th>\n",
       "    </tr>\n",
       "  </thead>\n",
       "  <tbody>\n",
       "    <tr>\n",
       "      <th>Control</th>\n",
       "      <td>128</td>\n",
       "      <td>115</td>\n",
       "    </tr>\n",
       "    <tr>\n",
       "      <th>Dementia</th>\n",
       "      <td>105</td>\n",
       "      <td>204</td>\n",
       "    </tr>\n",
       "  </tbody>\n",
       "</table>\n",
       "</div>"
      ],
      "text/plain": [
       "Predicted  Control  Dementia\n",
       "Actual                      \n",
       "Control        128       115\n",
       "Dementia       105       204"
      ]
     },
     "execution_count": 300,
     "metadata": {},
     "output_type": "execute_result"
    }
   ],
   "source": [
    "df_cm"
   ]
  },
  {
   "cell_type": "code",
   "execution_count": 301,
   "metadata": {},
   "outputs": [
    {
     "name": "stdout",
     "output_type": "stream",
     "text": [
      "              precision    recall  f1-score   support\n",
      "\n",
      "     Control       0.55      0.53      0.54       243\n",
      "    Dementia       0.64      0.66      0.65       309\n",
      "\n",
      "    accuracy                           0.60       552\n",
      "   macro avg       0.59      0.59      0.59       552\n",
      "weighted avg       0.60      0.60      0.60       552\n",
      "\n"
     ]
    }
   ],
   "source": [
    "print(classification_report(y_true, y_pred))"
   ]
  },
  {
   "cell_type": "code",
   "execution_count": 310,
   "metadata": {},
   "outputs": [
    {
     "data": {
      "image/png": "[encoded data removed]",
      "text/plain": [
       "<Figure size 1500x800 with 1 Axes>"
      ]
     },
     "metadata": {},
     "output_type": "display_data"
    },
    {
     "data": {
      "text/plain": [
       "<ggplot: (8780796494600)>"
      ]
     },
     "execution_count": 310,
     "metadata": {},
     "output_type": "execute_result"
    }
   ],
   "source": [
    "ggplot(meta_pitt) + \\\n",
    "geom_point(aes(x = 'MMSE', y = 'predict', colour = 'Group')) + \\\n",
    "geom_hline(aes(yintercept = 24, lty = 2)) + \\\n",
    "geom_vline(aes(xintercept = 20, lty = 2)) + \\\n",
    "theme(figure_size = (15, 8))"
   ]
  },
  {
   "cell_type": "code",
   "execution_count": null,
   "metadata": {},
   "outputs": [],
   "source": []
  },
  {
   "cell_type": "code",
   "execution_count": null,
   "metadata": {},
   "outputs": [],
   "source": []
  }
 ],
 "metadata": {
  "kernelspec": {
   "display_name": "Python 3",
   "language": "python",
   "name": "python3"
  },
  "language_info": {
   "codemirror_mode": {
    "name": "ipython",
    "version": 3
   },
   "file_extension": ".py",
   "mimetype": "text/x-python",
   "name": "python",
   "nbconvert_exporter": "python",
   "pygments_lexer": "ipython3",
   "version": "3.6.9"
  }
 },
 "nbformat": 4,
 "nbformat_minor": 2
}
