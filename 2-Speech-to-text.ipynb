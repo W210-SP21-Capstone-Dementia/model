{
 "cells": [
  {
   "cell_type": "code",
   "execution_count": 98,
   "metadata": {},
   "outputs": [
    {
     "name": "stdout",
     "output_type": "stream",
     "text": [
      "Requirement already satisfied: pip in /usr/local/lib/python3.6/dist-packages (21.0.1)\n",
      "Requirement already satisfied: SpeechRecognition in /usr/local/lib/python3.6/dist-packages (3.8.1)\n",
      "Requirement already satisfied: pydub in /usr/local/lib/python3.6/dist-packages (0.24.1)\n"
     ]
    }
   ],
   "source": [
    "! python3 -m pip install --upgrade pip\n",
    "! python3 -m pip install  --upgrade SpeechRecognition\n",
    "! python3 -m pip install  --upgrade pydub\n",
    "! python3 -m pip install  --upgrade sklearn"
   ]
  },
  {
   "cell_type": "code",
   "execution_count": 330,
   "metadata": {},
   "outputs": [],
   "source": [
    "import IPython.display as ipd\n",
    "import librosa\n",
    "import librosa.display\n",
    "import kapre\n",
    "import matplotlib.pyplot as plt\n",
    "import numpy as np\n",
    "import pathlib\n",
    "import os\n",
    "import pandas as pd\n",
    "import random\n",
    "import re\n",
    "import shutil\n",
    "import speech_recognition as sr\n",
    "import tensorflow as tf\n",
    "from os import listdir\n",
    "from os.path import isfile, join\n",
    "from os import path\n",
    "from plotnine import *\n",
    "from pydub import AudioSegment\n",
    "from sklearn import tree\n",
    "from sklearn.ensemble import RandomForestClassifier\n",
    "from sklearn.feature_extraction.text import TfidfVectorizer\n",
    "from sklearn.feature_extraction.text import CountVectorizer\n",
    "from sklearn.linear_model import LogisticRegression\n",
    "from sklearn.metrics import classification_report, accuracy_score, confusion_matrix, plot_confusion_matrix\n",
    "from sklearn.model_selection import train_test_split, cross_val_score, GridSearchCV\n",
    "from sklearn.neural_network import MLPClassifier\n",
    "from sklearn.svm import SVC"
   ]
  },
  {
   "cell_type": "markdown",
   "metadata": {},
   "source": [
    "# Transcribe audio data to txt data"
   ]
  },
  {
   "cell_type": "code",
   "execution_count": 100,
   "metadata": {},
   "outputs": [],
   "source": [
    "# TODO make an input from user\n",
    "data_path = '/tf/dementia/0extra/ADReSS-IS2020-train/ADReSS-IS2020-data/train'\n",
    "\n",
    "audio_path_cc = data_path + '/Full_wave_enhanced_audio/cc/'\n",
    "audio_path_cd = data_path + '/Full_wave_enhanced_audio/cd/'\n",
    "\n",
    "\n",
    "text_path_cc = data_path + '/transcription/cc/'\n",
    "text_path_cd = data_path + '/transcription/cd/'\n",
    "\n",
    "lang_ = 'en-US'\n",
    "\n",
    "r = sr.Recognizer()"
   ]
  },
  {
   "cell_type": "code",
   "execution_count": 184,
   "metadata": {},
   "outputs": [
    {
     "data": {
      "text/html": [
       "<div>\n",
       "<style scoped>\n",
       "    .dataframe tbody tr th:only-of-type {\n",
       "        vertical-align: middle;\n",
       "    }\n",
       "\n",
       "    .dataframe tbody tr th {\n",
       "        vertical-align: top;\n",
       "    }\n",
       "\n",
       "    .dataframe thead th {\n",
       "        text-align: right;\n",
       "    }\n",
       "</style>\n",
       "<table border=\"1\" class=\"dataframe\">\n",
       "  <thead>\n",
       "    <tr style=\"text-align: right;\">\n",
       "      <th></th>\n",
       "      <th>index</th>\n",
       "      <th>ID</th>\n",
       "      <th>Age</th>\n",
       "      <th>Gender</th>\n",
       "      <th>MMSE</th>\n",
       "      <th>Group</th>\n",
       "    </tr>\n",
       "  </thead>\n",
       "  <tbody>\n",
       "    <tr>\n",
       "      <th>0</th>\n",
       "      <td>0</td>\n",
       "      <td>S001</td>\n",
       "      <td>74</td>\n",
       "      <td>male</td>\n",
       "      <td>NA</td>\n",
       "      <td>cc</td>\n",
       "    </tr>\n",
       "    <tr>\n",
       "      <th>1</th>\n",
       "      <td>1</td>\n",
       "      <td>S002</td>\n",
       "      <td>62</td>\n",
       "      <td>female</td>\n",
       "      <td>30</td>\n",
       "      <td>cc</td>\n",
       "    </tr>\n",
       "    <tr>\n",
       "      <th>2</th>\n",
       "      <td>2</td>\n",
       "      <td>S003</td>\n",
       "      <td>69</td>\n",
       "      <td>female</td>\n",
       "      <td>29</td>\n",
       "      <td>cc</td>\n",
       "    </tr>\n",
       "    <tr>\n",
       "      <th>3</th>\n",
       "      <td>3</td>\n",
       "      <td>S004</td>\n",
       "      <td>71</td>\n",
       "      <td>female</td>\n",
       "      <td>30</td>\n",
       "      <td>cc</td>\n",
       "    </tr>\n",
       "    <tr>\n",
       "      <th>4</th>\n",
       "      <td>4</td>\n",
       "      <td>S005</td>\n",
       "      <td>74</td>\n",
       "      <td>female</td>\n",
       "      <td>30</td>\n",
       "      <td>cc</td>\n",
       "    </tr>\n",
       "    <tr>\n",
       "      <th>...</th>\n",
       "      <td>...</td>\n",
       "      <td>...</td>\n",
       "      <td>...</td>\n",
       "      <td>...</td>\n",
       "      <td>...</td>\n",
       "      <td>...</td>\n",
       "    </tr>\n",
       "    <tr>\n",
       "      <th>103</th>\n",
       "      <td>49</td>\n",
       "      <td>S150</td>\n",
       "      <td>58</td>\n",
       "      <td>male</td>\n",
       "      <td>20</td>\n",
       "      <td>cd</td>\n",
       "    </tr>\n",
       "    <tr>\n",
       "      <th>104</th>\n",
       "      <td>50</td>\n",
       "      <td>S151</td>\n",
       "      <td>72</td>\n",
       "      <td>male</td>\n",
       "      <td>24</td>\n",
       "      <td>cd</td>\n",
       "    </tr>\n",
       "    <tr>\n",
       "      <th>105</th>\n",
       "      <td>51</td>\n",
       "      <td>S153</td>\n",
       "      <td>68</td>\n",
       "      <td>female</td>\n",
       "      <td>12</td>\n",
       "      <td>cd</td>\n",
       "    </tr>\n",
       "    <tr>\n",
       "      <th>106</th>\n",
       "      <td>52</td>\n",
       "      <td>S154</td>\n",
       "      <td>65</td>\n",
       "      <td>female</td>\n",
       "      <td>20</td>\n",
       "      <td>cd</td>\n",
       "    </tr>\n",
       "    <tr>\n",
       "      <th>107</th>\n",
       "      <td>53</td>\n",
       "      <td>S156</td>\n",
       "      <td>71</td>\n",
       "      <td>female</td>\n",
       "      <td>13</td>\n",
       "      <td>cd</td>\n",
       "    </tr>\n",
       "  </tbody>\n",
       "</table>\n",
       "<p>108 rows × 6 columns</p>\n",
       "</div>"
      ],
      "text/plain": [
       "     index    ID  Age    Gender MMSE Group\n",
       "0        0  S001   74     male    NA    cc\n",
       "1        1  S002   62   female    30    cc\n",
       "2        2  S003   69   female    29    cc\n",
       "3        3  S004   71   female    30    cc\n",
       "4        4  S005   74   female    30    cc\n",
       "..     ...   ...  ...       ...  ...   ...\n",
       "103     49  S150   58     male    20    cd\n",
       "104     50  S151   72     male    24    cd\n",
       "105     51  S153   68   female    12    cd\n",
       "106     52  S154   65   female    20    cd\n",
       "107     53  S156   71   female    13    cd\n",
       "\n",
       "[108 rows x 6 columns]"
      ]
     },
     "execution_count": 184,
     "metadata": {},
     "output_type": "execute_result"
    }
   ],
   "source": [
    "meta_cc = pd.read_csv(data_path + '/cc_meta_data.txt', sep=\";\", header=0, \n",
    "                      names = ['ID', 'Age', 'Gender', 'MMSE'])\n",
    "meta_cd = pd.read_csv(data_path + '/cd_meta_data.txt', sep=\";\", header=0, \n",
    "                      names = ['ID', 'Age', 'Gender', 'MMSE'])\n",
    "\n",
    "meta = meta_cc.assign(Group = 'cc').append(meta_cd.assign(Group = 'cd')).reset_index()\n",
    "\n",
    "meta['ID'] = meta['ID'].str.strip()\n",
    "\n",
    "meta"
   ]
  },
  {
   "cell_type": "code",
   "execution_count": 185,
   "metadata": {},
   "outputs": [
    {
     "data": {
      "text/plain": [
       "1"
      ]
     },
     "execution_count": 185,
     "metadata": {},
     "output_type": "execute_result"
    }
   ],
   "source": [
    "sum(meta.MMSE == ' NA')"
   ]
  },
  {
   "cell_type": "code",
   "execution_count": 187,
   "metadata": {},
   "outputs": [
    {
     "data": {
      "text/html": [
       "<div>\n",
       "<style scoped>\n",
       "    .dataframe tbody tr th:only-of-type {\n",
       "        vertical-align: middle;\n",
       "    }\n",
       "\n",
       "    .dataframe tbody tr th {\n",
       "        vertical-align: top;\n",
       "    }\n",
       "\n",
       "    .dataframe thead th {\n",
       "        text-align: right;\n",
       "    }\n",
       "</style>\n",
       "<table border=\"1\" class=\"dataframe\">\n",
       "  <thead>\n",
       "    <tr style=\"text-align: right;\">\n",
       "      <th></th>\n",
       "      <th>index</th>\n",
       "      <th>ID</th>\n",
       "      <th>Age</th>\n",
       "      <th>Gender</th>\n",
       "      <th>MMSE</th>\n",
       "      <th>Group</th>\n",
       "    </tr>\n",
       "  </thead>\n",
       "  <tbody>\n",
       "    <tr>\n",
       "      <th>0</th>\n",
       "      <td>0</td>\n",
       "      <td>S001</td>\n",
       "      <td>74</td>\n",
       "      <td>male</td>\n",
       "      <td>30</td>\n",
       "      <td>cc</td>\n",
       "    </tr>\n",
       "    <tr>\n",
       "      <th>1</th>\n",
       "      <td>1</td>\n",
       "      <td>S002</td>\n",
       "      <td>62</td>\n",
       "      <td>female</td>\n",
       "      <td>30</td>\n",
       "      <td>cc</td>\n",
       "    </tr>\n",
       "    <tr>\n",
       "      <th>2</th>\n",
       "      <td>2</td>\n",
       "      <td>S003</td>\n",
       "      <td>69</td>\n",
       "      <td>female</td>\n",
       "      <td>29</td>\n",
       "      <td>cc</td>\n",
       "    </tr>\n",
       "    <tr>\n",
       "      <th>3</th>\n",
       "      <td>3</td>\n",
       "      <td>S004</td>\n",
       "      <td>71</td>\n",
       "      <td>female</td>\n",
       "      <td>30</td>\n",
       "      <td>cc</td>\n",
       "    </tr>\n",
       "    <tr>\n",
       "      <th>4</th>\n",
       "      <td>4</td>\n",
       "      <td>S005</td>\n",
       "      <td>74</td>\n",
       "      <td>female</td>\n",
       "      <td>30</td>\n",
       "      <td>cc</td>\n",
       "    </tr>\n",
       "    <tr>\n",
       "      <th>...</th>\n",
       "      <td>...</td>\n",
       "      <td>...</td>\n",
       "      <td>...</td>\n",
       "      <td>...</td>\n",
       "      <td>...</td>\n",
       "      <td>...</td>\n",
       "    </tr>\n",
       "    <tr>\n",
       "      <th>103</th>\n",
       "      <td>49</td>\n",
       "      <td>S150</td>\n",
       "      <td>58</td>\n",
       "      <td>male</td>\n",
       "      <td>20</td>\n",
       "      <td>cd</td>\n",
       "    </tr>\n",
       "    <tr>\n",
       "      <th>104</th>\n",
       "      <td>50</td>\n",
       "      <td>S151</td>\n",
       "      <td>72</td>\n",
       "      <td>male</td>\n",
       "      <td>24</td>\n",
       "      <td>cd</td>\n",
       "    </tr>\n",
       "    <tr>\n",
       "      <th>105</th>\n",
       "      <td>51</td>\n",
       "      <td>S153</td>\n",
       "      <td>68</td>\n",
       "      <td>female</td>\n",
       "      <td>12</td>\n",
       "      <td>cd</td>\n",
       "    </tr>\n",
       "    <tr>\n",
       "      <th>106</th>\n",
       "      <td>52</td>\n",
       "      <td>S154</td>\n",
       "      <td>65</td>\n",
       "      <td>female</td>\n",
       "      <td>20</td>\n",
       "      <td>cd</td>\n",
       "    </tr>\n",
       "    <tr>\n",
       "      <th>107</th>\n",
       "      <td>53</td>\n",
       "      <td>S156</td>\n",
       "      <td>71</td>\n",
       "      <td>female</td>\n",
       "      <td>13</td>\n",
       "      <td>cd</td>\n",
       "    </tr>\n",
       "  </tbody>\n",
       "</table>\n",
       "<p>108 rows × 6 columns</p>\n",
       "</div>"
      ],
      "text/plain": [
       "     index    ID  Age    Gender  MMSE Group\n",
       "0        0  S001   74     male     30    cc\n",
       "1        1  S002   62   female     30    cc\n",
       "2        2  S003   69   female     29    cc\n",
       "3        3  S004   71   female     30    cc\n",
       "4        4  S005   74   female     30    cc\n",
       "..     ...   ...  ...       ...   ...   ...\n",
       "103     49  S150   58     male     20    cd\n",
       "104     50  S151   72     male     24    cd\n",
       "105     51  S153   68   female     12    cd\n",
       "106     52  S154   65   female     20    cd\n",
       "107     53  S156   71   female     13    cd\n",
       "\n",
       "[108 rows x 6 columns]"
      ]
     },
     "execution_count": 187,
     "metadata": {},
     "output_type": "execute_result"
    }
   ],
   "source": [
    "meta.MMSE = pd.to_numeric(meta.MMSE.replace(' NA', 30))\n",
    "meta"
   ]
  },
  {
   "cell_type": "code",
   "execution_count": 104,
   "metadata": {},
   "outputs": [
    {
     "data": {
      "text/plain": [
       "index      int64\n",
       "ID        object\n",
       "Age        int64\n",
       "Gender    object\n",
       "MMSE       int64\n",
       "Group     object\n",
       "dtype: object"
      ]
     },
     "execution_count": 104,
     "metadata": {},
     "output_type": "execute_result"
    }
   ],
   "source": [
    "meta.dtypes"
   ]
  },
  {
   "cell_type": "code",
   "execution_count": 105,
   "metadata": {},
   "outputs": [],
   "source": [
    "def startConversion(path, filename, lang = lang_):\n",
    "                \n",
    "    # Create output file name\n",
    "    output_dir = path + 'output_text/'\n",
    "    output_file = '.'.join(filename.split(sep='.')[:-1]) + '.txt'\n",
    "    output_file_path = output_dir + output_file\n",
    "    \n",
    "    # If output file does not exist, continue\n",
    "    if os.path.exists(output_file_path):\n",
    "        print(\"Sorry, \" + output_file_path + \" already exists\")\n",
    "    else:\n",
    "        full_path = path + filename\n",
    "\n",
    "        with sr.AudioFile(full_path) as source:\n",
    "            print('Transcribing file: ' + str(filename) + ' in path: ' + str(full_path))\n",
    "            audio_text = r.listen(source)\n",
    "            # recognize_() method will throw a request error if the API is unreachable, hence using exception handling\n",
    "            try:\n",
    "\n",
    "                # using google speech recognition\n",
    "                # print('Converting audio transcripts into text ...')\n",
    "                text = r.recognize_google(audio_text)\n",
    "\n",
    "                # Create output directory\n",
    "                if not os.path.exists(output_dir):\n",
    "                    os.makedirs(output_dir)\n",
    "\n",
    "                with open(output_file_path, 'w') as f:\n",
    "                    f.write(text)\n",
    "                print('Finished transcribing text file ' + str(output_file) + ' at location ' + output_file_path)\n",
    "\n",
    "            except Exception as e:\n",
    "                print('Error: ' + str(e) + ' <- this guy')"
   ]
  },
  {
   "cell_type": "code",
   "execution_count": 106,
   "metadata": {
    "scrolled": true
   },
   "outputs": [
    {
     "name": "stdout",
     "output_type": "stream",
     "text": [
      "Sorry, /tf/dementia/0extra/ADReSS-IS2020-train/ADReSS-IS2020-data/train/Full_wave_enhanced_audio/cc/output_text/S001.txt already exists\n",
      "Sorry, /tf/dementia/0extra/ADReSS-IS2020-train/ADReSS-IS2020-data/train/Full_wave_enhanced_audio/cc/output_text/S002.txt already exists\n",
      "Sorry, /tf/dementia/0extra/ADReSS-IS2020-train/ADReSS-IS2020-data/train/Full_wave_enhanced_audio/cc/output_text/S003.txt already exists\n",
      "Sorry, /tf/dementia/0extra/ADReSS-IS2020-train/ADReSS-IS2020-data/train/Full_wave_enhanced_audio/cc/output_text/S004.txt already exists\n",
      "Transcribing file: S005.wav in path: /tf/dementia/0extra/ADReSS-IS2020-train/ADReSS-IS2020-data/train/Full_wave_enhanced_audio/cc/S005.wav\n",
      "Error:  <- this guy\n",
      "Transcribing file: S006.wav in path: /tf/dementia/0extra/ADReSS-IS2020-train/ADReSS-IS2020-data/train/Full_wave_enhanced_audio/cc/S006.wav\n",
      "Error:  <- this guy\n",
      "Transcribing file: S007.wav in path: /tf/dementia/0extra/ADReSS-IS2020-train/ADReSS-IS2020-data/train/Full_wave_enhanced_audio/cc/S007.wav\n",
      "Error:  <- this guy\n",
      "Sorry, /tf/dementia/0extra/ADReSS-IS2020-train/ADReSS-IS2020-data/train/Full_wave_enhanced_audio/cc/output_text/S009.txt already exists\n",
      "Sorry, /tf/dementia/0extra/ADReSS-IS2020-train/ADReSS-IS2020-data/train/Full_wave_enhanced_audio/cc/output_text/S011.txt already exists\n",
      "Sorry, /tf/dementia/0extra/ADReSS-IS2020-train/ADReSS-IS2020-data/train/Full_wave_enhanced_audio/cc/output_text/S012.txt already exists\n",
      "Sorry, /tf/dementia/0extra/ADReSS-IS2020-train/ADReSS-IS2020-data/train/Full_wave_enhanced_audio/cc/output_text/S013.txt already exists\n",
      "Sorry, /tf/dementia/0extra/ADReSS-IS2020-train/ADReSS-IS2020-data/train/Full_wave_enhanced_audio/cc/output_text/S015.txt already exists\n",
      "Sorry, /tf/dementia/0extra/ADReSS-IS2020-train/ADReSS-IS2020-data/train/Full_wave_enhanced_audio/cc/output_text/S016.txt already exists\n",
      "Sorry, /tf/dementia/0extra/ADReSS-IS2020-train/ADReSS-IS2020-data/train/Full_wave_enhanced_audio/cc/output_text/S017.txt already exists\n",
      "Sorry, /tf/dementia/0extra/ADReSS-IS2020-train/ADReSS-IS2020-data/train/Full_wave_enhanced_audio/cc/output_text/S018.txt already exists\n",
      "Sorry, /tf/dementia/0extra/ADReSS-IS2020-train/ADReSS-IS2020-data/train/Full_wave_enhanced_audio/cc/output_text/S019.txt already exists\n",
      "Sorry, /tf/dementia/0extra/ADReSS-IS2020-train/ADReSS-IS2020-data/train/Full_wave_enhanced_audio/cc/output_text/S020.txt already exists\n",
      "Sorry, /tf/dementia/0extra/ADReSS-IS2020-train/ADReSS-IS2020-data/train/Full_wave_enhanced_audio/cc/output_text/S021.txt already exists\n",
      "Sorry, /tf/dementia/0extra/ADReSS-IS2020-train/ADReSS-IS2020-data/train/Full_wave_enhanced_audio/cc/output_text/S024.txt already exists\n",
      "Sorry, /tf/dementia/0extra/ADReSS-IS2020-train/ADReSS-IS2020-data/train/Full_wave_enhanced_audio/cc/output_text/S025.txt already exists\n",
      "Sorry, /tf/dementia/0extra/ADReSS-IS2020-train/ADReSS-IS2020-data/train/Full_wave_enhanced_audio/cc/output_text/S027.txt already exists\n",
      "Sorry, /tf/dementia/0extra/ADReSS-IS2020-train/ADReSS-IS2020-data/train/Full_wave_enhanced_audio/cc/output_text/S028.txt already exists\n",
      "Sorry, /tf/dementia/0extra/ADReSS-IS2020-train/ADReSS-IS2020-data/train/Full_wave_enhanced_audio/cc/output_text/S029.txt already exists\n",
      "Sorry, /tf/dementia/0extra/ADReSS-IS2020-train/ADReSS-IS2020-data/train/Full_wave_enhanced_audio/cc/output_text/S030.txt already exists\n",
      "Sorry, /tf/dementia/0extra/ADReSS-IS2020-train/ADReSS-IS2020-data/train/Full_wave_enhanced_audio/cc/output_text/S032.txt already exists\n",
      "Sorry, /tf/dementia/0extra/ADReSS-IS2020-train/ADReSS-IS2020-data/train/Full_wave_enhanced_audio/cc/output_text/S033.txt already exists\n",
      "Sorry, /tf/dementia/0extra/ADReSS-IS2020-train/ADReSS-IS2020-data/train/Full_wave_enhanced_audio/cc/output_text/S034.txt already exists\n",
      "Sorry, /tf/dementia/0extra/ADReSS-IS2020-train/ADReSS-IS2020-data/train/Full_wave_enhanced_audio/cc/output_text/S035.txt already exists\n",
      "Sorry, /tf/dementia/0extra/ADReSS-IS2020-train/ADReSS-IS2020-data/train/Full_wave_enhanced_audio/cc/output_text/S036.txt already exists\n",
      "Sorry, /tf/dementia/0extra/ADReSS-IS2020-train/ADReSS-IS2020-data/train/Full_wave_enhanced_audio/cc/output_text/S038.txt already exists\n",
      "Sorry, /tf/dementia/0extra/ADReSS-IS2020-train/ADReSS-IS2020-data/train/Full_wave_enhanced_audio/cc/output_text/S039.txt already exists\n",
      "Sorry, /tf/dementia/0extra/ADReSS-IS2020-train/ADReSS-IS2020-data/train/Full_wave_enhanced_audio/cc/output_text/S040.txt already exists\n",
      "Sorry, /tf/dementia/0extra/ADReSS-IS2020-train/ADReSS-IS2020-data/train/Full_wave_enhanced_audio/cc/output_text/S041.txt already exists\n",
      "Sorry, /tf/dementia/0extra/ADReSS-IS2020-train/ADReSS-IS2020-data/train/Full_wave_enhanced_audio/cc/output_text/S043.txt already exists\n",
      "Sorry, /tf/dementia/0extra/ADReSS-IS2020-train/ADReSS-IS2020-data/train/Full_wave_enhanced_audio/cc/output_text/S048.txt already exists\n",
      "Transcribing file: S049.wav in path: /tf/dementia/0extra/ADReSS-IS2020-train/ADReSS-IS2020-data/train/Full_wave_enhanced_audio/cc/S049.wav\n",
      "Error:  <- this guy\n",
      "Sorry, /tf/dementia/0extra/ADReSS-IS2020-train/ADReSS-IS2020-data/train/Full_wave_enhanced_audio/cc/output_text/S051.txt already exists\n",
      "Sorry, /tf/dementia/0extra/ADReSS-IS2020-train/ADReSS-IS2020-data/train/Full_wave_enhanced_audio/cc/output_text/S052.txt already exists\n",
      "Sorry, /tf/dementia/0extra/ADReSS-IS2020-train/ADReSS-IS2020-data/train/Full_wave_enhanced_audio/cc/output_text/S055.txt already exists\n",
      "Sorry, /tf/dementia/0extra/ADReSS-IS2020-train/ADReSS-IS2020-data/train/Full_wave_enhanced_audio/cc/output_text/S056.txt already exists\n",
      "Sorry, /tf/dementia/0extra/ADReSS-IS2020-train/ADReSS-IS2020-data/train/Full_wave_enhanced_audio/cc/output_text/S058.txt already exists\n",
      "Sorry, /tf/dementia/0extra/ADReSS-IS2020-train/ADReSS-IS2020-data/train/Full_wave_enhanced_audio/cc/output_text/S059.txt already exists\n",
      "Sorry, /tf/dementia/0extra/ADReSS-IS2020-train/ADReSS-IS2020-data/train/Full_wave_enhanced_audio/cc/output_text/S061.txt already exists\n",
      "Sorry, /tf/dementia/0extra/ADReSS-IS2020-train/ADReSS-IS2020-data/train/Full_wave_enhanced_audio/cc/output_text/S062.txt already exists\n",
      "Sorry, /tf/dementia/0extra/ADReSS-IS2020-train/ADReSS-IS2020-data/train/Full_wave_enhanced_audio/cc/output_text/S063.txt already exists\n",
      "Sorry, /tf/dementia/0extra/ADReSS-IS2020-train/ADReSS-IS2020-data/train/Full_wave_enhanced_audio/cc/output_text/S064.txt already exists\n",
      "Sorry, /tf/dementia/0extra/ADReSS-IS2020-train/ADReSS-IS2020-data/train/Full_wave_enhanced_audio/cc/output_text/S067.txt already exists\n",
      "Sorry, /tf/dementia/0extra/ADReSS-IS2020-train/ADReSS-IS2020-data/train/Full_wave_enhanced_audio/cc/output_text/S068.txt already exists\n",
      "Sorry, /tf/dementia/0extra/ADReSS-IS2020-train/ADReSS-IS2020-data/train/Full_wave_enhanced_audio/cc/output_text/S070.txt already exists\n",
      "Sorry, /tf/dementia/0extra/ADReSS-IS2020-train/ADReSS-IS2020-data/train/Full_wave_enhanced_audio/cc/output_text/S071.txt already exists\n",
      "Sorry, /tf/dementia/0extra/ADReSS-IS2020-train/ADReSS-IS2020-data/train/Full_wave_enhanced_audio/cc/output_text/S072.txt already exists\n",
      "Sorry, /tf/dementia/0extra/ADReSS-IS2020-train/ADReSS-IS2020-data/train/Full_wave_enhanced_audio/cc/output_text/S073.txt already exists\n",
      "Sorry, /tf/dementia/0extra/ADReSS-IS2020-train/ADReSS-IS2020-data/train/Full_wave_enhanced_audio/cc/output_text/S076.txt already exists\n",
      "Sorry, /tf/dementia/0extra/ADReSS-IS2020-train/ADReSS-IS2020-data/train/Full_wave_enhanced_audio/cc/output_text/S077.txt already exists\n"
     ]
    }
   ],
   "source": [
    "# Running for CC path\n",
    "onlyfiles = [f for f in listdir(audio_path_cc) if isfile(join(audio_path_cc, f))]\n",
    "\n",
    "for filename in onlyfiles:\n",
    "    startConversion(path = audio_path_cc, filename = filename)"
   ]
  },
  {
   "cell_type": "code",
   "execution_count": 107,
   "metadata": {},
   "outputs": [
    {
     "name": "stdout",
     "output_type": "stream",
     "text": [
      "Sorry, /tf/dementia/0extra/ADReSS-IS2020-train/ADReSS-IS2020-data/train/Full_wave_enhanced_audio/cd/output_text/S079.txt already exists\n",
      "Sorry, /tf/dementia/0extra/ADReSS-IS2020-train/ADReSS-IS2020-data/train/Full_wave_enhanced_audio/cd/output_text/S080.txt already exists\n",
      "Sorry, /tf/dementia/0extra/ADReSS-IS2020-train/ADReSS-IS2020-data/train/Full_wave_enhanced_audio/cd/output_text/S081.txt already exists\n",
      "Sorry, /tf/dementia/0extra/ADReSS-IS2020-train/ADReSS-IS2020-data/train/Full_wave_enhanced_audio/cd/output_text/S082.txt already exists\n",
      "Sorry, /tf/dementia/0extra/ADReSS-IS2020-train/ADReSS-IS2020-data/train/Full_wave_enhanced_audio/cd/output_text/S083.txt already exists\n",
      "Sorry, /tf/dementia/0extra/ADReSS-IS2020-train/ADReSS-IS2020-data/train/Full_wave_enhanced_audio/cd/output_text/S084.txt already exists\n",
      "Sorry, /tf/dementia/0extra/ADReSS-IS2020-train/ADReSS-IS2020-data/train/Full_wave_enhanced_audio/cd/output_text/S086.txt already exists\n",
      "Sorry, /tf/dementia/0extra/ADReSS-IS2020-train/ADReSS-IS2020-data/train/Full_wave_enhanced_audio/cd/output_text/S087.txt already exists\n",
      "Transcribing file: S089.wav in path: /tf/dementia/0extra/ADReSS-IS2020-train/ADReSS-IS2020-data/train/Full_wave_enhanced_audio/cd/S089.wav\n",
      "Error:  <- this guy\n",
      "Sorry, /tf/dementia/0extra/ADReSS-IS2020-train/ADReSS-IS2020-data/train/Full_wave_enhanced_audio/cd/output_text/S090.txt already exists\n",
      "Sorry, /tf/dementia/0extra/ADReSS-IS2020-train/ADReSS-IS2020-data/train/Full_wave_enhanced_audio/cd/output_text/S092.txt already exists\n",
      "Sorry, /tf/dementia/0extra/ADReSS-IS2020-train/ADReSS-IS2020-data/train/Full_wave_enhanced_audio/cd/output_text/S093.txt already exists\n",
      "Sorry, /tf/dementia/0extra/ADReSS-IS2020-train/ADReSS-IS2020-data/train/Full_wave_enhanced_audio/cd/output_text/S094.txt already exists\n",
      "Sorry, /tf/dementia/0extra/ADReSS-IS2020-train/ADReSS-IS2020-data/train/Full_wave_enhanced_audio/cd/output_text/S095.txt already exists\n",
      "Sorry, /tf/dementia/0extra/ADReSS-IS2020-train/ADReSS-IS2020-data/train/Full_wave_enhanced_audio/cd/output_text/S096.txt already exists\n",
      "Sorry, /tf/dementia/0extra/ADReSS-IS2020-train/ADReSS-IS2020-data/train/Full_wave_enhanced_audio/cd/output_text/S097.txt already exists\n",
      "Sorry, /tf/dementia/0extra/ADReSS-IS2020-train/ADReSS-IS2020-data/train/Full_wave_enhanced_audio/cd/output_text/S100.txt already exists\n",
      "Sorry, /tf/dementia/0extra/ADReSS-IS2020-train/ADReSS-IS2020-data/train/Full_wave_enhanced_audio/cd/output_text/S101.txt already exists\n",
      "Sorry, /tf/dementia/0extra/ADReSS-IS2020-train/ADReSS-IS2020-data/train/Full_wave_enhanced_audio/cd/output_text/S103.txt already exists\n",
      "Sorry, /tf/dementia/0extra/ADReSS-IS2020-train/ADReSS-IS2020-data/train/Full_wave_enhanced_audio/cd/output_text/S104.txt already exists\n",
      "Sorry, /tf/dementia/0extra/ADReSS-IS2020-train/ADReSS-IS2020-data/train/Full_wave_enhanced_audio/cd/output_text/S107.txt already exists\n",
      "Sorry, /tf/dementia/0extra/ADReSS-IS2020-train/ADReSS-IS2020-data/train/Full_wave_enhanced_audio/cd/output_text/S108.txt already exists\n",
      "Sorry, /tf/dementia/0extra/ADReSS-IS2020-train/ADReSS-IS2020-data/train/Full_wave_enhanced_audio/cd/output_text/S110.txt already exists\n",
      "Sorry, /tf/dementia/0extra/ADReSS-IS2020-train/ADReSS-IS2020-data/train/Full_wave_enhanced_audio/cd/output_text/S111.txt already exists\n",
      "Sorry, /tf/dementia/0extra/ADReSS-IS2020-train/ADReSS-IS2020-data/train/Full_wave_enhanced_audio/cd/output_text/S114.txt already exists\n",
      "Sorry, /tf/dementia/0extra/ADReSS-IS2020-train/ADReSS-IS2020-data/train/Full_wave_enhanced_audio/cd/output_text/S116.txt already exists\n",
      "Sorry, /tf/dementia/0extra/ADReSS-IS2020-train/ADReSS-IS2020-data/train/Full_wave_enhanced_audio/cd/output_text/S118.txt already exists\n",
      "Sorry, /tf/dementia/0extra/ADReSS-IS2020-train/ADReSS-IS2020-data/train/Full_wave_enhanced_audio/cd/output_text/S122.txt already exists\n",
      "Transcribing file: S124.wav in path: /tf/dementia/0extra/ADReSS-IS2020-train/ADReSS-IS2020-data/train/Full_wave_enhanced_audio/cd/S124.wav\n",
      "Error:  <- this guy\n",
      "Transcribing file: S125.wav in path: /tf/dementia/0extra/ADReSS-IS2020-train/ADReSS-IS2020-data/train/Full_wave_enhanced_audio/cd/S125.wav\n",
      "Error:  <- this guy\n",
      "Sorry, /tf/dementia/0extra/ADReSS-IS2020-train/ADReSS-IS2020-data/train/Full_wave_enhanced_audio/cd/output_text/S126.txt already exists\n",
      "Sorry, /tf/dementia/0extra/ADReSS-IS2020-train/ADReSS-IS2020-data/train/Full_wave_enhanced_audio/cd/output_text/S127.txt already exists\n",
      "Sorry, /tf/dementia/0extra/ADReSS-IS2020-train/ADReSS-IS2020-data/train/Full_wave_enhanced_audio/cd/output_text/S128.txt already exists\n",
      "Sorry, /tf/dementia/0extra/ADReSS-IS2020-train/ADReSS-IS2020-data/train/Full_wave_enhanced_audio/cd/output_text/S129.txt already exists\n",
      "Sorry, /tf/dementia/0extra/ADReSS-IS2020-train/ADReSS-IS2020-data/train/Full_wave_enhanced_audio/cd/output_text/S130.txt already exists\n",
      "Sorry, /tf/dementia/0extra/ADReSS-IS2020-train/ADReSS-IS2020-data/train/Full_wave_enhanced_audio/cd/output_text/S132.txt already exists\n",
      "Sorry, /tf/dementia/0extra/ADReSS-IS2020-train/ADReSS-IS2020-data/train/Full_wave_enhanced_audio/cd/output_text/S135.txt already exists\n",
      "Sorry, /tf/dementia/0extra/ADReSS-IS2020-train/ADReSS-IS2020-data/train/Full_wave_enhanced_audio/cd/output_text/S136.txt already exists\n",
      "Sorry, /tf/dementia/0extra/ADReSS-IS2020-train/ADReSS-IS2020-data/train/Full_wave_enhanced_audio/cd/output_text/S137.txt already exists\n",
      "Sorry, /tf/dementia/0extra/ADReSS-IS2020-train/ADReSS-IS2020-data/train/Full_wave_enhanced_audio/cd/output_text/S138.txt already exists\n",
      "Sorry, /tf/dementia/0extra/ADReSS-IS2020-train/ADReSS-IS2020-data/train/Full_wave_enhanced_audio/cd/output_text/S139.txt already exists\n",
      "Sorry, /tf/dementia/0extra/ADReSS-IS2020-train/ADReSS-IS2020-data/train/Full_wave_enhanced_audio/cd/output_text/S140.txt already exists\n",
      "Sorry, /tf/dementia/0extra/ADReSS-IS2020-train/ADReSS-IS2020-data/train/Full_wave_enhanced_audio/cd/output_text/S141.txt already exists\n",
      "Sorry, /tf/dementia/0extra/ADReSS-IS2020-train/ADReSS-IS2020-data/train/Full_wave_enhanced_audio/cd/output_text/S142.txt already exists\n",
      "Sorry, /tf/dementia/0extra/ADReSS-IS2020-train/ADReSS-IS2020-data/train/Full_wave_enhanced_audio/cd/output_text/S143.txt already exists\n",
      "Sorry, /tf/dementia/0extra/ADReSS-IS2020-train/ADReSS-IS2020-data/train/Full_wave_enhanced_audio/cd/output_text/S144.txt already exists\n",
      "Sorry, /tf/dementia/0extra/ADReSS-IS2020-train/ADReSS-IS2020-data/train/Full_wave_enhanced_audio/cd/output_text/S145.txt already exists\n",
      "Sorry, /tf/dementia/0extra/ADReSS-IS2020-train/ADReSS-IS2020-data/train/Full_wave_enhanced_audio/cd/output_text/S148.txt already exists\n",
      "Sorry, /tf/dementia/0extra/ADReSS-IS2020-train/ADReSS-IS2020-data/train/Full_wave_enhanced_audio/cd/output_text/S149.txt already exists\n",
      "Sorry, /tf/dementia/0extra/ADReSS-IS2020-train/ADReSS-IS2020-data/train/Full_wave_enhanced_audio/cd/output_text/S150.txt already exists\n",
      "Sorry, /tf/dementia/0extra/ADReSS-IS2020-train/ADReSS-IS2020-data/train/Full_wave_enhanced_audio/cd/output_text/S151.txt already exists\n",
      "Sorry, /tf/dementia/0extra/ADReSS-IS2020-train/ADReSS-IS2020-data/train/Full_wave_enhanced_audio/cd/output_text/S153.txt already exists\n",
      "Sorry, /tf/dementia/0extra/ADReSS-IS2020-train/ADReSS-IS2020-data/train/Full_wave_enhanced_audio/cd/output_text/S154.txt already exists\n",
      "Sorry, /tf/dementia/0extra/ADReSS-IS2020-train/ADReSS-IS2020-data/train/Full_wave_enhanced_audio/cd/output_text/S156.txt already exists\n"
     ]
    }
   ],
   "source": [
    "# Running for CD path\n",
    "onlyfiles = [f for f in listdir(audio_path_cd) if isfile(join(audio_path_cd, f))]\n",
    "\n",
    "for filename in onlyfiles:\n",
    "    startConversion(path = audio_path_cd, filename = filename)"
   ]
  },
  {
   "cell_type": "code",
   "execution_count": 142,
   "metadata": {},
   "outputs": [
    {
     "name": "stdout",
     "output_type": "stream",
     "text": [
      "Adding to dictionary: S001\n",
      "Adding to dictionary: S002\n",
      "Adding to dictionary: S003\n",
      "Adding to dictionary: S004\n",
      "Adding to dictionary: S009\n",
      "Adding to dictionary: S011\n",
      "Adding to dictionary: S012\n",
      "Adding to dictionary: S013\n",
      "Adding to dictionary: S015\n",
      "Adding to dictionary: S016\n",
      "Adding to dictionary: S017\n",
      "Adding to dictionary: S018\n",
      "Adding to dictionary: S019\n",
      "Adding to dictionary: S020\n",
      "Adding to dictionary: S021\n",
      "Adding to dictionary: S024\n",
      "Adding to dictionary: S025\n",
      "Adding to dictionary: S027\n",
      "Adding to dictionary: S028\n",
      "Adding to dictionary: S029\n",
      "Adding to dictionary: S030\n",
      "Adding to dictionary: S032\n",
      "Adding to dictionary: S033\n",
      "Adding to dictionary: S034\n",
      "Adding to dictionary: S035\n",
      "Adding to dictionary: S036\n",
      "Adding to dictionary: S038\n",
      "Adding to dictionary: S039\n",
      "Adding to dictionary: S040\n",
      "Adding to dictionary: S041\n",
      "Adding to dictionary: S043\n",
      "Adding to dictionary: S048\n",
      "Adding to dictionary: S051\n",
      "Adding to dictionary: S052\n",
      "Adding to dictionary: S055\n",
      "Adding to dictionary: S056\n",
      "Adding to dictionary: S058\n",
      "Adding to dictionary: S059\n",
      "Adding to dictionary: S061\n",
      "Adding to dictionary: S062\n",
      "Adding to dictionary: S063\n",
      "Adding to dictionary: S064\n",
      "Adding to dictionary: S067\n",
      "Adding to dictionary: S068\n",
      "Adding to dictionary: S070\n",
      "Adding to dictionary: S071\n",
      "Adding to dictionary: S072\n",
      "Adding to dictionary: S073\n",
      "Adding to dictionary: S076\n",
      "Adding to dictionary: S077\n",
      "Adding to dictionary: S079\n",
      "Adding to dictionary: S080\n",
      "Adding to dictionary: S081\n",
      "Adding to dictionary: S082\n",
      "Adding to dictionary: S083\n",
      "Adding to dictionary: S084\n",
      "Adding to dictionary: S086\n",
      "Adding to dictionary: S087\n",
      "Adding to dictionary: S090\n",
      "Adding to dictionary: S092\n",
      "Adding to dictionary: S093\n",
      "Adding to dictionary: S094\n",
      "Adding to dictionary: S095\n",
      "Adding to dictionary: S096\n",
      "Adding to dictionary: S097\n",
      "Adding to dictionary: S100\n",
      "Adding to dictionary: S101\n",
      "Adding to dictionary: S103\n",
      "Adding to dictionary: S104\n",
      "Adding to dictionary: S107\n",
      "Adding to dictionary: S108\n",
      "Adding to dictionary: S110\n",
      "Adding to dictionary: S111\n",
      "Adding to dictionary: S114\n",
      "Adding to dictionary: S116\n",
      "Adding to dictionary: S118\n",
      "Adding to dictionary: S122\n",
      "Adding to dictionary: S126\n",
      "Adding to dictionary: S127\n",
      "Adding to dictionary: S128\n",
      "Adding to dictionary: S129\n",
      "Adding to dictionary: S130\n",
      "Adding to dictionary: S132\n",
      "Adding to dictionary: S135\n",
      "Adding to dictionary: S136\n",
      "Adding to dictionary: S137\n",
      "Adding to dictionary: S138\n",
      "Adding to dictionary: S139\n",
      "Adding to dictionary: S140\n",
      "Adding to dictionary: S141\n",
      "Adding to dictionary: S142\n",
      "Adding to dictionary: S143\n",
      "Adding to dictionary: S144\n",
      "Adding to dictionary: S145\n",
      "Adding to dictionary: S148\n",
      "Adding to dictionary: S149\n",
      "Adding to dictionary: S150\n",
      "Adding to dictionary: S151\n",
      "Adding to dictionary: S153\n",
      "Adding to dictionary: S154\n",
      "Adding to dictionary: S156\n",
      "Adding to dictionary: wav\n",
      "Done!\n"
     ]
    }
   ],
   "source": [
    "text_dict = {\"ID\": [], \"Text\": []}\n",
    "\n",
    "# CC path\n",
    "onlytextfiles_cc = [f for f in listdir(audio_cc_text_path) if isfile(join(audio_cc_text_path, f))]\n",
    "        \n",
    "for filename in onlytextfiles_cc:\n",
    "    just_name = filename.split(sep='.')[:-1][0]\n",
    "    # print(\"Adding to dictionary: \" + str(just_name))\n",
    "    full_text_file_path = audio_cc_text_path + filename\n",
    "\n",
    "    # Make all text lowercase\n",
    "    # Remove special characters\n",
    "    with open(full_text_file_path, \"r\") as file:\n",
    "        data = file.read().replace('\\n', '')\n",
    "        text_dict[\"ID\"].append(just_name)\n",
    "        text_dict[\"Text\"].append(data)\n",
    "\n",
    "# CD path\n",
    "onlytextfiles_cd = [f for f in listdir(audio_cd_text_path) if isfile(join(audio_cd_text_path, f))]\n",
    "\n",
    "for filename in onlytextfiles_cd:\n",
    "    just_name = filename.split(sep='.')[:-1][0]\n",
    "    # print(\"Adding to dictionary: \" + just_name)\n",
    "    full_text_file_path = audio_cd_text_path + filename\n",
    "\n",
    "    # Make all text lowercase\n",
    "    # Remove special characters\n",
    "    with open(full_text_file_path, \"r\") as file:\n",
    "        data = file.read().replace('\\n', '')\n",
    "        text_dict[\"ID\"].append(just_name)\n",
    "        text_dict[\"Text\"].append(data)\n",
    "\n",
    "print(\"Done!\")"
   ]
  },
  {
   "cell_type": "code",
   "execution_count": 143,
   "metadata": {},
   "outputs": [
    {
     "data": {
      "text/html": [
       "<div>\n",
       "<style scoped>\n",
       "    .dataframe tbody tr th:only-of-type {\n",
       "        vertical-align: middle;\n",
       "    }\n",
       "\n",
       "    .dataframe tbody tr th {\n",
       "        vertical-align: top;\n",
       "    }\n",
       "\n",
       "    .dataframe thead th {\n",
       "        text-align: right;\n",
       "    }\n",
       "</style>\n",
       "<table border=\"1\" class=\"dataframe\">\n",
       "  <thead>\n",
       "    <tr style=\"text-align: right;\">\n",
       "      <th></th>\n",
       "      <th>ID</th>\n",
       "      <th>Text</th>\n",
       "    </tr>\n",
       "  </thead>\n",
       "  <tbody>\n",
       "    <tr>\n",
       "      <th>0</th>\n",
       "      <td>S001</td>\n",
       "      <td>tell me everything that you see going on in th...</td>\n",
       "    </tr>\n",
       "    <tr>\n",
       "      <th>1</th>\n",
       "      <td>S002</td>\n",
       "      <td>picture</td>\n",
       "    </tr>\n",
       "    <tr>\n",
       "      <th>2</th>\n",
       "      <td>S003</td>\n",
       "      <td>okay there is a little boy and he's getting he...</td>\n",
       "    </tr>\n",
       "    <tr>\n",
       "      <th>3</th>\n",
       "      <td>S004</td>\n",
       "      <td>Homedics laugh you ready well the sink is over...</td>\n",
       "    </tr>\n",
       "    <tr>\n",
       "      <th>4</th>\n",
       "      <td>S009</td>\n",
       "      <td>boy is taking cookies from the cookie jar givi...</td>\n",
       "    </tr>\n",
       "    <tr>\n",
       "      <th>...</th>\n",
       "      <td>...</td>\n",
       "      <td>...</td>\n",
       "    </tr>\n",
       "    <tr>\n",
       "      <th>97</th>\n",
       "      <td>S151</td>\n",
       "      <td>everything that you see happening in that pict...</td>\n",
       "    </tr>\n",
       "    <tr>\n",
       "      <th>98</th>\n",
       "      <td>S153</td>\n",
       "      <td>and tell me everything that you see happening ...</td>\n",
       "    </tr>\n",
       "    <tr>\n",
       "      <th>99</th>\n",
       "      <td>S154</td>\n",
       "      <td>okay and the boys getting in the cookie jar is...</td>\n",
       "    </tr>\n",
       "    <tr>\n",
       "      <th>100</th>\n",
       "      <td>S156</td>\n",
       "      <td>can you tell me now this one is in the cookie ...</td>\n",
       "    </tr>\n",
       "    <tr>\n",
       "      <th>101</th>\n",
       "      <td>wav</td>\n",
       "      <td>can you tell me now this one is in the cookie ...</td>\n",
       "    </tr>\n",
       "  </tbody>\n",
       "</table>\n",
       "<p>102 rows × 2 columns</p>\n",
       "</div>"
      ],
      "text/plain": [
       "       ID                                               Text\n",
       "0    S001  tell me everything that you see going on in th...\n",
       "1    S002                                            picture\n",
       "2    S003  okay there is a little boy and he's getting he...\n",
       "3    S004  Homedics laugh you ready well the sink is over...\n",
       "4    S009  boy is taking cookies from the cookie jar givi...\n",
       "..    ...                                                ...\n",
       "97   S151  everything that you see happening in that pict...\n",
       "98   S153  and tell me everything that you see happening ...\n",
       "99   S154  okay and the boys getting in the cookie jar is...\n",
       "100  S156  can you tell me now this one is in the cookie ...\n",
       "101   wav  can you tell me now this one is in the cookie ...\n",
       "\n",
       "[102 rows x 2 columns]"
      ]
     },
     "execution_count": 143,
     "metadata": {},
     "output_type": "execute_result"
    }
   ],
   "source": [
    "# Convert the dictionary into DataFrame \n",
    "text_df = pd.DataFrame(text_dict)\n",
    "text_df"
   ]
  },
  {
   "cell_type": "code",
   "execution_count": 188,
   "metadata": {},
   "outputs": [
    {
     "data": {
      "text/html": [
       "<div>\n",
       "<style scoped>\n",
       "    .dataframe tbody tr th:only-of-type {\n",
       "        vertical-align: middle;\n",
       "    }\n",
       "\n",
       "    .dataframe tbody tr th {\n",
       "        vertical-align: top;\n",
       "    }\n",
       "\n",
       "    .dataframe thead th {\n",
       "        text-align: right;\n",
       "    }\n",
       "</style>\n",
       "<table border=\"1\" class=\"dataframe\">\n",
       "  <thead>\n",
       "    <tr style=\"text-align: right;\">\n",
       "      <th></th>\n",
       "      <th>index</th>\n",
       "      <th>ID</th>\n",
       "      <th>Age</th>\n",
       "      <th>Gender</th>\n",
       "      <th>MMSE</th>\n",
       "      <th>Group</th>\n",
       "      <th>Text</th>\n",
       "    </tr>\n",
       "  </thead>\n",
       "  <tbody>\n",
       "    <tr>\n",
       "      <th>0</th>\n",
       "      <td>0</td>\n",
       "      <td>S001</td>\n",
       "      <td>74</td>\n",
       "      <td>male</td>\n",
       "      <td>30</td>\n",
       "      <td>cc</td>\n",
       "      <td>tell me everything that you see going on in th...</td>\n",
       "    </tr>\n",
       "    <tr>\n",
       "      <th>1</th>\n",
       "      <td>1</td>\n",
       "      <td>S002</td>\n",
       "      <td>62</td>\n",
       "      <td>female</td>\n",
       "      <td>30</td>\n",
       "      <td>cc</td>\n",
       "      <td>picture</td>\n",
       "    </tr>\n",
       "    <tr>\n",
       "      <th>2</th>\n",
       "      <td>2</td>\n",
       "      <td>S003</td>\n",
       "      <td>69</td>\n",
       "      <td>female</td>\n",
       "      <td>29</td>\n",
       "      <td>cc</td>\n",
       "      <td>okay there is a little boy and he's getting he...</td>\n",
       "    </tr>\n",
       "    <tr>\n",
       "      <th>3</th>\n",
       "      <td>3</td>\n",
       "      <td>S004</td>\n",
       "      <td>71</td>\n",
       "      <td>female</td>\n",
       "      <td>30</td>\n",
       "      <td>cc</td>\n",
       "      <td>Homedics laugh you ready well the sink is over...</td>\n",
       "    </tr>\n",
       "    <tr>\n",
       "      <th>4</th>\n",
       "      <td>7</td>\n",
       "      <td>S009</td>\n",
       "      <td>67</td>\n",
       "      <td>male</td>\n",
       "      <td>30</td>\n",
       "      <td>cc</td>\n",
       "      <td>boy is taking cookies from the cookie jar givi...</td>\n",
       "    </tr>\n",
       "    <tr>\n",
       "      <th>...</th>\n",
       "      <td>...</td>\n",
       "      <td>...</td>\n",
       "      <td>...</td>\n",
       "      <td>...</td>\n",
       "      <td>...</td>\n",
       "      <td>...</td>\n",
       "      <td>...</td>\n",
       "    </tr>\n",
       "    <tr>\n",
       "      <th>96</th>\n",
       "      <td>49</td>\n",
       "      <td>S150</td>\n",
       "      <td>58</td>\n",
       "      <td>male</td>\n",
       "      <td>20</td>\n",
       "      <td>cd</td>\n",
       "      <td>now the boy on the chair is falling reaching u...</td>\n",
       "    </tr>\n",
       "    <tr>\n",
       "      <th>97</th>\n",
       "      <td>50</td>\n",
       "      <td>S151</td>\n",
       "      <td>72</td>\n",
       "      <td>male</td>\n",
       "      <td>24</td>\n",
       "      <td>cd</td>\n",
       "      <td>everything that you see happening in that pict...</td>\n",
       "    </tr>\n",
       "    <tr>\n",
       "      <th>98</th>\n",
       "      <td>51</td>\n",
       "      <td>S153</td>\n",
       "      <td>68</td>\n",
       "      <td>female</td>\n",
       "      <td>12</td>\n",
       "      <td>cd</td>\n",
       "      <td>and tell me everything that you see happening ...</td>\n",
       "    </tr>\n",
       "    <tr>\n",
       "      <th>99</th>\n",
       "      <td>52</td>\n",
       "      <td>S154</td>\n",
       "      <td>65</td>\n",
       "      <td>female</td>\n",
       "      <td>20</td>\n",
       "      <td>cd</td>\n",
       "      <td>okay and the boys getting in the cookie jar is...</td>\n",
       "    </tr>\n",
       "    <tr>\n",
       "      <th>100</th>\n",
       "      <td>53</td>\n",
       "      <td>S156</td>\n",
       "      <td>71</td>\n",
       "      <td>female</td>\n",
       "      <td>13</td>\n",
       "      <td>cd</td>\n",
       "      <td>can you tell me now this one is in the cookie ...</td>\n",
       "    </tr>\n",
       "  </tbody>\n",
       "</table>\n",
       "<p>101 rows × 7 columns</p>\n",
       "</div>"
      ],
      "text/plain": [
       "     index    ID  Age    Gender  MMSE Group  \\\n",
       "0        0  S001   74     male     30    cc   \n",
       "1        1  S002   62   female     30    cc   \n",
       "2        2  S003   69   female     29    cc   \n",
       "3        3  S004   71   female     30    cc   \n",
       "4        7  S009   67     male     30    cc   \n",
       "..     ...   ...  ...       ...   ...   ...   \n",
       "96      49  S150   58     male     20    cd   \n",
       "97      50  S151   72     male     24    cd   \n",
       "98      51  S153   68   female     12    cd   \n",
       "99      52  S154   65   female     20    cd   \n",
       "100     53  S156   71   female     13    cd   \n",
       "\n",
       "                                                  Text  \n",
       "0    tell me everything that you see going on in th...  \n",
       "1                                              picture  \n",
       "2    okay there is a little boy and he's getting he...  \n",
       "3    Homedics laugh you ready well the sink is over...  \n",
       "4    boy is taking cookies from the cookie jar givi...  \n",
       "..                                                 ...  \n",
       "96   now the boy on the chair is falling reaching u...  \n",
       "97   everything that you see happening in that pict...  \n",
       "98   and tell me everything that you see happening ...  \n",
       "99   okay and the boys getting in the cookie jar is...  \n",
       "100  can you tell me now this one is in the cookie ...  \n",
       "\n",
       "[101 rows x 7 columns]"
      ]
     },
     "execution_count": 188,
     "metadata": {},
     "output_type": "execute_result"
    }
   ],
   "source": [
    "merged_data = pd.merge(meta, text_df, on = \"ID\", how = \"inner\")\n",
    "merged_data"
   ]
  },
  {
   "cell_type": "markdown",
   "metadata": {},
   "source": [
    "# Reduce output labels by bucketizing"
   ]
  },
  {
   "cell_type": "markdown",
   "metadata": {},
   "source": [
    "Reference: https://pubmed.ncbi.nlm.nih.gov/16473978/\n",
    "MMSE ranges:\n",
    "* 30 for no\n",
    "* 26-29 for questionable\n",
    "* 21-25 for mild\n",
    "* 11-20 for moderate\n",
    "* 0-10 for severe dementia"
   ]
  },
  {
   "cell_type": "code",
   "execution_count": 224,
   "metadata": {},
   "outputs": [],
   "source": [
    "# Set a default value\n",
    "merged_data['dementia_stage_num'] = 0\n",
    "merged_data['dementia_stage_text'] = 'None'"
   ]
  },
  {
   "cell_type": "code",
   "execution_count": 230,
   "metadata": {},
   "outputs": [
    {
     "name": "stderr",
     "output_type": "stream",
     "text": [
      "/usr/local/lib/python3.6/dist-packages/ipykernel_launcher.py:5: SettingWithCopyWarning: \n",
      "A value is trying to be set on a copy of a slice from a DataFrame\n",
      "\n",
      "See the caveats in the documentation: https://pandas.pydata.org/pandas-docs/stable/user_guide/indexing.html#returning-a-view-versus-a-copy\n",
      "/usr/local/lib/python3.6/dist-packages/ipykernel_launcher.py:8: SettingWithCopyWarning: \n",
      "A value is trying to be set on a copy of a slice from a DataFrame\n",
      "\n",
      "See the caveats in the documentation: https://pandas.pydata.org/pandas-docs/stable/user_guide/indexing.html#returning-a-view-versus-a-copy\n",
      "/usr/local/lib/python3.6/dist-packages/ipykernel_launcher.py:9: SettingWithCopyWarning: \n",
      "A value is trying to be set on a copy of a slice from a DataFrame\n",
      "\n",
      "See the caveats in the documentation: https://pandas.pydata.org/pandas-docs/stable/user_guide/indexing.html#returning-a-view-versus-a-copy\n",
      "/usr/local/lib/python3.6/dist-packages/ipykernel_launcher.py:12: SettingWithCopyWarning: \n",
      "A value is trying to be set on a copy of a slice from a DataFrame\n",
      "\n",
      "See the caveats in the documentation: https://pandas.pydata.org/pandas-docs/stable/user_guide/indexing.html#returning-a-view-versus-a-copy\n",
      "/usr/local/lib/python3.6/dist-packages/ipykernel_launcher.py:13: SettingWithCopyWarning: \n",
      "A value is trying to be set on a copy of a slice from a DataFrame\n",
      "\n",
      "See the caveats in the documentation: https://pandas.pydata.org/pandas-docs/stable/user_guide/indexing.html#returning-a-view-versus-a-copy\n",
      "/usr/local/lib/python3.6/dist-packages/ipykernel_launcher.py:16: SettingWithCopyWarning: \n",
      "A value is trying to be set on a copy of a slice from a DataFrame\n",
      "\n",
      "See the caveats in the documentation: https://pandas.pydata.org/pandas-docs/stable/user_guide/indexing.html#returning-a-view-versus-a-copy\n",
      "/usr/local/lib/python3.6/dist-packages/ipykernel_launcher.py:17: SettingWithCopyWarning: \n",
      "A value is trying to be set on a copy of a slice from a DataFrame\n",
      "\n",
      "See the caveats in the documentation: https://pandas.pydata.org/pandas-docs/stable/user_guide/indexing.html#returning-a-view-versus-a-copy\n"
     ]
    },
    {
     "data": {
      "text/html": [
       "<div>\n",
       "<style scoped>\n",
       "    .dataframe tbody tr th:only-of-type {\n",
       "        vertical-align: middle;\n",
       "    }\n",
       "\n",
       "    .dataframe tbody tr th {\n",
       "        vertical-align: top;\n",
       "    }\n",
       "\n",
       "    .dataframe thead th {\n",
       "        text-align: right;\n",
       "    }\n",
       "</style>\n",
       "<table border=\"1\" class=\"dataframe\">\n",
       "  <thead>\n",
       "    <tr style=\"text-align: right;\">\n",
       "      <th></th>\n",
       "      <th>index</th>\n",
       "      <th>ID</th>\n",
       "      <th>Age</th>\n",
       "      <th>Gender</th>\n",
       "      <th>MMSE</th>\n",
       "      <th>Group</th>\n",
       "      <th>Text</th>\n",
       "      <th>dementia_stage_num</th>\n",
       "      <th>dementia_stage_text</th>\n",
       "    </tr>\n",
       "  </thead>\n",
       "  <tbody>\n",
       "    <tr>\n",
       "      <th>0</th>\n",
       "      <td>0</td>\n",
       "      <td>S001</td>\n",
       "      <td>74</td>\n",
       "      <td>male</td>\n",
       "      <td>30</td>\n",
       "      <td>cc</td>\n",
       "      <td>tell me everything that you see going on in th...</td>\n",
       "      <td>0</td>\n",
       "      <td>None</td>\n",
       "    </tr>\n",
       "    <tr>\n",
       "      <th>1</th>\n",
       "      <td>1</td>\n",
       "      <td>S002</td>\n",
       "      <td>62</td>\n",
       "      <td>female</td>\n",
       "      <td>30</td>\n",
       "      <td>cc</td>\n",
       "      <td>picture</td>\n",
       "      <td>0</td>\n",
       "      <td>None</td>\n",
       "    </tr>\n",
       "    <tr>\n",
       "      <th>2</th>\n",
       "      <td>2</td>\n",
       "      <td>S003</td>\n",
       "      <td>69</td>\n",
       "      <td>female</td>\n",
       "      <td>29</td>\n",
       "      <td>cc</td>\n",
       "      <td>okay there is a little boy and he's getting he...</td>\n",
       "      <td>1</td>\n",
       "      <td>Questionable</td>\n",
       "    </tr>\n",
       "    <tr>\n",
       "      <th>3</th>\n",
       "      <td>3</td>\n",
       "      <td>S004</td>\n",
       "      <td>71</td>\n",
       "      <td>female</td>\n",
       "      <td>30</td>\n",
       "      <td>cc</td>\n",
       "      <td>Homedics laugh you ready well the sink is over...</td>\n",
       "      <td>0</td>\n",
       "      <td>None</td>\n",
       "    </tr>\n",
       "    <tr>\n",
       "      <th>4</th>\n",
       "      <td>7</td>\n",
       "      <td>S009</td>\n",
       "      <td>67</td>\n",
       "      <td>male</td>\n",
       "      <td>30</td>\n",
       "      <td>cc</td>\n",
       "      <td>boy is taking cookies from the cookie jar givi...</td>\n",
       "      <td>0</td>\n",
       "      <td>None</td>\n",
       "    </tr>\n",
       "    <tr>\n",
       "      <th>...</th>\n",
       "      <td>...</td>\n",
       "      <td>...</td>\n",
       "      <td>...</td>\n",
       "      <td>...</td>\n",
       "      <td>...</td>\n",
       "      <td>...</td>\n",
       "      <td>...</td>\n",
       "      <td>...</td>\n",
       "      <td>...</td>\n",
       "    </tr>\n",
       "    <tr>\n",
       "      <th>96</th>\n",
       "      <td>49</td>\n",
       "      <td>S150</td>\n",
       "      <td>58</td>\n",
       "      <td>male</td>\n",
       "      <td>20</td>\n",
       "      <td>cd</td>\n",
       "      <td>now the boy on the chair is falling reaching u...</td>\n",
       "      <td>3</td>\n",
       "      <td>Moderate</td>\n",
       "    </tr>\n",
       "    <tr>\n",
       "      <th>97</th>\n",
       "      <td>50</td>\n",
       "      <td>S151</td>\n",
       "      <td>72</td>\n",
       "      <td>male</td>\n",
       "      <td>24</td>\n",
       "      <td>cd</td>\n",
       "      <td>everything that you see happening in that pict...</td>\n",
       "      <td>2</td>\n",
       "      <td>Mild</td>\n",
       "    </tr>\n",
       "    <tr>\n",
       "      <th>98</th>\n",
       "      <td>51</td>\n",
       "      <td>S153</td>\n",
       "      <td>68</td>\n",
       "      <td>female</td>\n",
       "      <td>12</td>\n",
       "      <td>cd</td>\n",
       "      <td>and tell me everything that you see happening ...</td>\n",
       "      <td>3</td>\n",
       "      <td>Moderate</td>\n",
       "    </tr>\n",
       "    <tr>\n",
       "      <th>99</th>\n",
       "      <td>52</td>\n",
       "      <td>S154</td>\n",
       "      <td>65</td>\n",
       "      <td>female</td>\n",
       "      <td>20</td>\n",
       "      <td>cd</td>\n",
       "      <td>okay and the boys getting in the cookie jar is...</td>\n",
       "      <td>3</td>\n",
       "      <td>Moderate</td>\n",
       "    </tr>\n",
       "    <tr>\n",
       "      <th>100</th>\n",
       "      <td>53</td>\n",
       "      <td>S156</td>\n",
       "      <td>71</td>\n",
       "      <td>female</td>\n",
       "      <td>13</td>\n",
       "      <td>cd</td>\n",
       "      <td>can you tell me now this one is in the cookie ...</td>\n",
       "      <td>3</td>\n",
       "      <td>Moderate</td>\n",
       "    </tr>\n",
       "  </tbody>\n",
       "</table>\n",
       "<p>101 rows × 9 columns</p>\n",
       "</div>"
      ],
      "text/plain": [
       "     index    ID  Age    Gender  MMSE Group  \\\n",
       "0        0  S001   74     male     30    cc   \n",
       "1        1  S002   62   female     30    cc   \n",
       "2        2  S003   69   female     29    cc   \n",
       "3        3  S004   71   female     30    cc   \n",
       "4        7  S009   67     male     30    cc   \n",
       "..     ...   ...  ...       ...   ...   ...   \n",
       "96      49  S150   58     male     20    cd   \n",
       "97      50  S151   72     male     24    cd   \n",
       "98      51  S153   68   female     12    cd   \n",
       "99      52  S154   65   female     20    cd   \n",
       "100     53  S156   71   female     13    cd   \n",
       "\n",
       "                                                  Text dementia_stage_num  \\\n",
       "0    tell me everything that you see going on in th...                  0   \n",
       "1                                              picture                  0   \n",
       "2    okay there is a little boy and he's getting he...                  1   \n",
       "3    Homedics laugh you ready well the sink is over...                  0   \n",
       "4    boy is taking cookies from the cookie jar givi...                  0   \n",
       "..                                                 ...                ...   \n",
       "96   now the boy on the chair is falling reaching u...                  3   \n",
       "97   everything that you see happening in that pict...                  2   \n",
       "98   and tell me everything that you see happening ...                  3   \n",
       "99   okay and the boys getting in the cookie jar is...                  3   \n",
       "100  can you tell me now this one is in the cookie ...                  3   \n",
       "\n",
       "    dementia_stage_text  \n",
       "0                  None  \n",
       "1                  None  \n",
       "2          Questionable  \n",
       "3                  None  \n",
       "4                  None  \n",
       "..                  ...  \n",
       "96             Moderate  \n",
       "97                 Mild  \n",
       "98             Moderate  \n",
       "99             Moderate  \n",
       "100            Moderate  \n",
       "\n",
       "[101 rows x 9 columns]"
      ]
     },
     "execution_count": 230,
     "metadata": {},
     "output_type": "execute_result"
    }
   ],
   "source": [
    "# Set dementia stage value for all row indexes which MMSE are in certain ranges\n",
    "\n",
    "# Questionable stage\n",
    "merged_data['dementia_stage_num'][(merged_data['MMSE'] > 25) & (merged_data['MMSE'] < 30)] = 1\n",
    "merged_data['dementia_stage_text'][(merged_data['MMSE'] > 25) & (merged_data['MMSE'] < 30)] = 'Questionable'\n",
    "\n",
    "# Mild stage\n",
    "merged_data['dementia_stage_num'][(merged_data['MMSE'] > 20) & (merged_data['MMSE'] < 26)] = 2\n",
    "merged_data['dementia_stage_text'][(merged_data['MMSE'] > 20) & (merged_data['MMSE'] < 26)] = 'Mild'\n",
    "\n",
    "# Moderate stage\n",
    "merged_data['dementia_stage_num'][(merged_data['MMSE'] > 10) & (merged_data['MMSE'] < 21)] = 3\n",
    "merged_data['dementia_stage_text'][(merged_data['MMSE'] > 10) & (merged_data['MMSE'] < 21)] = 'Moderate'\n",
    "\n",
    "# Severe stage\n",
    "merged_data['dementia_stage_num'][merged_data['MMSE'] < 10] = 4\n",
    "merged_data['dementia_stage_text'][merged_data['MMSE'] < 10] = 'Severe'\n",
    "\n",
    "merged_data"
   ]
  },
  {
   "cell_type": "markdown",
   "metadata": {},
   "source": [
    "# Split dataset"
   ]
  },
  {
   "cell_type": "code",
   "execution_count": 231,
   "metadata": {},
   "outputs": [
    {
     "name": "stdout",
     "output_type": "stream",
     "text": [
      "Training data set is length: 80\n",
      "Test data set is length: 21\n"
     ]
    }
   ],
   "source": [
    "# Vectorize text data so model can take it in\n",
    "# Convert to 'dense array' (NP array)\n",
    "# TODO make it so english is not hardcoded, flexible for all languages\n",
    "# vectorizer = CountVectorizer(stop_words='english', analyzer='word', ngram_range=(1, 1))\n",
    "vectorizer = CountVectorizer(stop_words='english')\n",
    "X = vectorizer.fit_transform(merged_data[\"Text\"]).toarray().astype(np.int)\n",
    "y = np.array(merged_data[\"MMSE\"].values).astype(np.int)\n",
    "\n",
    "# dividing X, y into train and test data \n",
    "# 80/20 training/test split\n",
    "X_train, X_test, y_train, y_test = train_test_split(X, y, test_size=0.2)\n",
    "print(\"Training data set is length: \" +str(len(train)))\n",
    "print(\"Test data set is length: \" +str(len(test)))"
   ]
  },
  {
   "cell_type": "markdown",
   "metadata": {},
   "source": [
    "# Train and predict on Logistic regression"
   ]
  },
  {
   "cell_type": "code",
   "execution_count": 232,
   "metadata": {},
   "outputs": [
    {
     "data": {
      "text/plain": [
       "LogisticRegression(C=1.0, class_weight=None, dual=False, fit_intercept=True,\n",
       "                   intercept_scaling=1, l1_ratio=None, max_iter=100,\n",
       "                   multi_class='auto', n_jobs=None, penalty='l2',\n",
       "                   random_state=None, solver='lbfgs', tol=0.0001, verbose=0,\n",
       "                   warm_start=False)"
      ]
     },
     "execution_count": 232,
     "metadata": {},
     "output_type": "execute_result"
    }
   ],
   "source": [
    "# all parameters not specified are set to their defaults\n",
    "logisticRegr = LogisticRegression()\n",
    "logisticRegr.fit(X_train, y_train)"
   ]
  },
  {
   "cell_type": "code",
   "execution_count": 233,
   "metadata": {},
   "outputs": [
    {
     "name": "stdout",
     "output_type": "stream",
     "text": [
      "0.19047619047619047\n"
     ]
    }
   ],
   "source": [
    "# Use score method to get accuracy of model\n",
    "score = logisticRegr.score(X_test, y_test)\n",
    "print(score)"
   ]
  },
  {
   "cell_type": "code",
   "execution_count": 234,
   "metadata": {},
   "outputs": [
    {
     "data": {
      "image/png": "[encoded data removed]",
      "text/plain": [
       "<Figure size 432x288 with 2 Axes>"
      ]
     },
     "metadata": {
      "needs_background": "light"
     },
     "output_type": "display_data"
    }
   ],
   "source": [
    "# Create and show confusion matrix\n",
    "plot_confusion_matrix(logisticRegr, X_test, y_test)\n",
    "plt.show()  "
   ]
  },
  {
   "cell_type": "markdown",
   "metadata": {},
   "source": [
    "# Update data to test on groups instead of MMSE score"
   ]
  },
  {
   "cell_type": "code",
   "execution_count": 236,
   "metadata": {},
   "outputs": [
    {
     "name": "stdout",
     "output_type": "stream",
     "text": [
      "Training data set is length: 80\n",
      "Test data set is length: 21\n"
     ]
    }
   ],
   "source": [
    "# Only need to replace Y values\n",
    "y = np.array(merged_data[\"dementia_stage_num\"].values).astype(np.int)\n",
    "\n",
    "# dividing X, y into train and test data \n",
    "# 80/20 training/test split\n",
    "X_train, X_test, y_train, y_test = train_test_split(X, y, test_size=0.2)\n",
    "print(\"Training data set is length: \" + str(len(train)))\n",
    "print(\"Test data set is length: \" + str(len(test)))"
   ]
  },
  {
   "cell_type": "markdown",
   "metadata": {},
   "source": [
    "## Updated logistic regression model"
   ]
  },
  {
   "cell_type": "code",
   "execution_count": 324,
   "metadata": {},
   "outputs": [
    {
     "data": {
      "text/plain": [
       "LogisticRegression(C=1.0, class_weight=None, dual=False, fit_intercept=True,\n",
       "                   intercept_scaling=1, l1_ratio=None, max_iter=10000,\n",
       "                   multi_class='auto', n_jobs=None, penalty='l2',\n",
       "                   random_state=None, solver='lbfgs', tol=0.0001, verbose=0,\n",
       "                   warm_start=False)"
      ]
     },
     "execution_count": 324,
     "metadata": {},
     "output_type": "execute_result"
    }
   ],
   "source": [
    "# all parameters not specified are set to their defaults\n",
    "logisticRegr = LogisticRegression(max_iter = 10000)\n",
    "logisticRegr.fit(X_train, y_train)"
   ]
  },
  {
   "cell_type": "code",
   "execution_count": 325,
   "metadata": {},
   "outputs": [],
   "source": [
    "param_values = {\n",
    "                'penalty' : ['l1', 'l2'],\n",
    "                'C': [0.01, 0.02, 0.05, 0.1, 0.2, 0.5, 1, 2, 5, 10, 20, 50, 100, 200, 500, 1000]                \n",
    "           }\n",
    "\n",
    "# Try out the different n_estimators parameters\n",
    "grid_search_cv = GridSearchCV(estimator = logisticRegr, param_grid = param_values, cv = None, scoring = 'accuracy') \n",
    "# A value of 'None' for cv causes this method to evaluate performance by 5-fold cross-validation"
   ]
  },
  {
   "cell_type": "code",
   "execution_count": 326,
   "metadata": {},
   "outputs": [
    {
     "name": "stderr",
     "output_type": "stream",
     "text": [
      "/usr/local/lib/python3.6/dist-packages/sklearn/model_selection/_split.py:667: UserWarning: The least populated class in y has only 2 members, which is less than n_splits=5.\n",
      "/usr/local/lib/python3.6/dist-packages/sklearn/model_selection/_validation.py:536: FitFailedWarning: Estimator fit failed. The score on this train-test partition for these parameters will be set to nan. Details: \n",
      "ValueError: Solver lbfgs supports only 'l2' or 'none' penalties, got l1 penalty.\n",
      "\n",
      "/usr/local/lib/python3.6/dist-packages/sklearn/model_selection/_validation.py:536: FitFailedWarning: Estimator fit failed. The score on this train-test partition for these parameters will be set to nan. Details: \n",
      "ValueError: Solver lbfgs supports only 'l2' or 'none' penalties, got l1 penalty.\n",
      "\n",
      "/usr/local/lib/python3.6/dist-packages/sklearn/model_selection/_validation.py:536: FitFailedWarning: Estimator fit failed. The score on this train-test partition for these parameters will be set to nan. Details: \n",
      "ValueError: Solver lbfgs supports only 'l2' or 'none' penalties, got l1 penalty.\n",
      "\n",
      "/usr/local/lib/python3.6/dist-packages/sklearn/model_selection/_validation.py:536: FitFailedWarning: Estimator fit failed. The score on this train-test partition for these parameters will be set to nan. Details: \n",
      "ValueError: Solver lbfgs supports only 'l2' or 'none' penalties, got l1 penalty.\n",
      "\n",
      "/usr/local/lib/python3.6/dist-packages/sklearn/model_selection/_validation.py:536: FitFailedWarning: Estimator fit failed. The score on this train-test partition for these parameters will be set to nan. Details: \n",
      "ValueError: Solver lbfgs supports only 'l2' or 'none' penalties, got l1 penalty.\n",
      "\n",
      "/usr/local/lib/python3.6/dist-packages/sklearn/model_selection/_validation.py:536: FitFailedWarning: Estimator fit failed. The score on this train-test partition for these parameters will be set to nan. Details: \n",
      "ValueError: Solver lbfgs supports only 'l2' or 'none' penalties, got l1 penalty.\n",
      "\n",
      "/usr/local/lib/python3.6/dist-packages/sklearn/model_selection/_validation.py:536: FitFailedWarning: Estimator fit failed. The score on this train-test partition for these parameters will be set to nan. Details: \n",
      "ValueError: Solver lbfgs supports only 'l2' or 'none' penalties, got l1 penalty.\n",
      "\n",
      "/usr/local/lib/python3.6/dist-packages/sklearn/model_selection/_validation.py:536: FitFailedWarning: Estimator fit failed. The score on this train-test partition for these parameters will be set to nan. Details: \n",
      "ValueError: Solver lbfgs supports only 'l2' or 'none' penalties, got l1 penalty.\n",
      "\n",
      "/usr/local/lib/python3.6/dist-packages/sklearn/model_selection/_validation.py:536: FitFailedWarning: Estimator fit failed. The score on this train-test partition for these parameters will be set to nan. Details: \n",
      "ValueError: Solver lbfgs supports only 'l2' or 'none' penalties, got l1 penalty.\n",
      "\n",
      "/usr/local/lib/python3.6/dist-packages/sklearn/model_selection/_validation.py:536: FitFailedWarning: Estimator fit failed. The score on this train-test partition for these parameters will be set to nan. Details: \n",
      "ValueError: Solver lbfgs supports only 'l2' or 'none' penalties, got l1 penalty.\n",
      "\n",
      "/usr/local/lib/python3.6/dist-packages/sklearn/model_selection/_validation.py:536: FitFailedWarning: Estimator fit failed. The score on this train-test partition for these parameters will be set to nan. Details: \n",
      "ValueError: Solver lbfgs supports only 'l2' or 'none' penalties, got l1 penalty.\n",
      "\n",
      "/usr/local/lib/python3.6/dist-packages/sklearn/model_selection/_validation.py:536: FitFailedWarning: Estimator fit failed. The score on this train-test partition for these parameters will be set to nan. Details: \n",
      "ValueError: Solver lbfgs supports only 'l2' or 'none' penalties, got l1 penalty.\n",
      "\n",
      "/usr/local/lib/python3.6/dist-packages/sklearn/model_selection/_validation.py:536: FitFailedWarning: Estimator fit failed. The score on this train-test partition for these parameters will be set to nan. Details: \n",
      "ValueError: Solver lbfgs supports only 'l2' or 'none' penalties, got l1 penalty.\n",
      "\n",
      "/usr/local/lib/python3.6/dist-packages/sklearn/model_selection/_validation.py:536: FitFailedWarning: Estimator fit failed. The score on this train-test partition for these parameters will be set to nan. Details: \n",
      "ValueError: Solver lbfgs supports only 'l2' or 'none' penalties, got l1 penalty.\n",
      "\n",
      "/usr/local/lib/python3.6/dist-packages/sklearn/model_selection/_validation.py:536: FitFailedWarning: Estimator fit failed. The score on this train-test partition for these parameters will be set to nan. Details: \n",
      "ValueError: Solver lbfgs supports only 'l2' or 'none' penalties, got l1 penalty.\n",
      "\n",
      "/usr/local/lib/python3.6/dist-packages/sklearn/model_selection/_validation.py:536: FitFailedWarning: Estimator fit failed. The score on this train-test partition for these parameters will be set to nan. Details: \n",
      "ValueError: Solver lbfgs supports only 'l2' or 'none' penalties, got l1 penalty.\n",
      "\n"
     ]
    },
    {
     "name": "stdout",
     "output_type": "stream",
     "text": [
      "Best C: 0.01, best penalty: l2\n"
     ]
    }
   ],
   "source": [
    "grid_search_cv.fit(X_train, y_train)\n",
    "\n",
    "best_C_value = grid_search_cv.best_params_['C']\n",
    "best_penalty_value = grid_search_cv.best_params_['penalty']\n",
    "\n",
    "print(\"Best C: \" + str(best_C_value) + \", best penalty: \" + str(best_penalty_value))"
   ]
  },
  {
   "cell_type": "code",
   "execution_count": 327,
   "metadata": {},
   "outputs": [
    {
     "name": "stdout",
     "output_type": "stream",
     "text": [
      "              precision    recall  f1-score   support\n",
      "\n",
      "           0       0.17      1.00      0.29         1\n",
      "           1       0.00      0.00      0.00         5\n",
      "           2       0.00      0.00      0.00         0\n",
      "           3       0.89      0.53      0.67        15\n",
      "           4       0.00      0.00      0.00         0\n",
      "\n",
      "    accuracy                           0.43        21\n",
      "   macro avg       0.21      0.31      0.19        21\n",
      "weighted avg       0.64      0.43      0.49        21\n",
      "\n"
     ]
    },
    {
     "name": "stderr",
     "output_type": "stream",
     "text": [
      "/usr/local/lib/python3.6/dist-packages/sklearn/metrics/_classification.py:1272: UndefinedMetricWarning: Recall and F-score are ill-defined and being set to 0.0 in labels with no true samples. Use `zero_division` parameter to control this behavior.\n"
     ]
    }
   ],
   "source": [
    "# Create a model with the best n_estimators value\n",
    "lr_model = LogisticRegression(max_iter = 10000, penalty=best_penalty_value,C=best_C_value)\n",
    "lr_model.fit(X_train, y_train)\n",
    "lr_pred = lr_model.predict(X_test)\n",
    "\n",
    "print(classification_report(lr_pred, y_test))"
   ]
  },
  {
   "cell_type": "code",
   "execution_count": 328,
   "metadata": {},
   "outputs": [
    {
     "name": "stdout",
     "output_type": "stream",
     "text": [
      "0.42857142857142855\n",
      "Accuracy:  0.42857142857142855\n"
     ]
    }
   ],
   "source": [
    "print(\"Accuracy: \", accuracy_score(y_test, lr_pred))"
   ]
  },
  {
   "cell_type": "code",
   "execution_count": 329,
   "metadata": {},
   "outputs": [
    {
     "data": {
      "image/png": "[encoded data removed]",
      "text/plain": [
       "<Figure size 432x288 with 2 Axes>"
      ]
     },
     "metadata": {
      "needs_background": "light"
     },
     "output_type": "display_data"
    }
   ],
   "source": [
    "# Create and show confusion matrix\n",
    "plot_confusion_matrix(lr_model, X_test, y_test)\n",
    "plt.show()  "
   ]
  },
  {
   "cell_type": "markdown",
   "metadata": {},
   "source": [
    "# SVM multi class classification based on stage"
   ]
  },
  {
   "cell_type": "code",
   "execution_count": 310,
   "metadata": {},
   "outputs": [
    {
     "data": {
      "text/plain": [
       "SVC(C=1.0, break_ties=False, cache_size=200, class_weight=None, coef0=0.0,\n",
       "    decision_function_shape='ovo', degree=3, gamma='scale', kernel='rbf',\n",
       "    max_iter=-1, probability=False, random_state=None, shrinking=True,\n",
       "    tol=0.001, verbose=False)"
      ]
     },
     "execution_count": 310,
     "metadata": {},
     "output_type": "execute_result"
    }
   ],
   "source": [
    "# Should be same data\n",
    "# 'OVO' gets better results for some reason\n",
    "# Linear kernel gets better results for some reason\n",
    "clf = SVC(decision_function_shape='ovo')\n",
    "clf.fit(X_train, y_train)"
   ]
  },
  {
   "cell_type": "code",
   "execution_count": 313,
   "metadata": {},
   "outputs": [],
   "source": [
    "param_values = {\n",
    "                'C': [0.01, 0.02, 0.05, 0.1, 0.2, 0.5, 1, 2, 5, 10, 20, 50, 100, 200, 500, 1000],\n",
    "                'kernel' : ['linear', 'poly', 'rbf', 'sigmoid']\n",
    "           }\n",
    "\n",
    "# Try out the different n_estimators parameters\n",
    "grid_search_cv = GridSearchCV(estimator = clf, param_grid = param_values, cv = None, scoring = 'accuracy') \n",
    "# A value of 'None' for cv causes this method to evaluate performance by 5-fold cross-validation"
   ]
  },
  {
   "cell_type": "code",
   "execution_count": 314,
   "metadata": {},
   "outputs": [
    {
     "name": "stderr",
     "output_type": "stream",
     "text": [
      "/usr/local/lib/python3.6/dist-packages/sklearn/model_selection/_split.py:667: UserWarning: The least populated class in y has only 2 members, which is less than n_splits=5.\n"
     ]
    },
    {
     "name": "stdout",
     "output_type": "stream",
     "text": [
      "Best C: 0.2, best kernel: linear\n"
     ]
    }
   ],
   "source": [
    "grid_search_cv.fit(X_train, y_train)\n",
    "\n",
    "best_C_value = grid_search_cv.best_params_['C']\n",
    "best_kernel_value = grid_search_cv.best_params_['kernel']\n",
    "\n",
    "print(\"Best C: \" + str(best_C_value) + \", best kernel: \" + str(best_kernel_value))"
   ]
  },
  {
   "cell_type": "code",
   "execution_count": 315,
   "metadata": {},
   "outputs": [
    {
     "name": "stdout",
     "output_type": "stream",
     "text": [
      "              precision    recall  f1-score   support\n",
      "\n",
      "           0       0.33      1.00      0.50         2\n",
      "           1       0.00      0.00      0.00         7\n",
      "           2       0.00      0.00      0.00         0\n",
      "           3       0.67      0.50      0.57        12\n",
      "           4       0.00      0.00      0.00         0\n",
      "\n",
      "    accuracy                           0.38        21\n",
      "   macro avg       0.20      0.30      0.21        21\n",
      "weighted avg       0.41      0.38      0.37        21\n",
      "\n"
     ]
    },
    {
     "name": "stderr",
     "output_type": "stream",
     "text": [
      "/usr/local/lib/python3.6/dist-packages/sklearn/metrics/_classification.py:1272: UndefinedMetricWarning: Recall and F-score are ill-defined and being set to 0.0 in labels with no true samples. Use `zero_division` parameter to control this behavior.\n"
     ]
    }
   ],
   "source": [
    "# Create a model with the best n_estimators value\n",
    "svm_model = SVC(C=best_C_value, decision_function_shape='ovo', kernel=best_kernel_value);\n",
    "svm_model.fit(X_train, y_train)\n",
    "svm_pred = svm_model.predict(X_test)\n",
    "\n",
    "print(classification_report(svm_pred, y_test))"
   ]
  },
  {
   "cell_type": "code",
   "execution_count": 316,
   "metadata": {},
   "outputs": [
    {
     "name": "stdout",
     "output_type": "stream",
     "text": [
      "Accuracy:  0.38095238095238093\n"
     ]
    }
   ],
   "source": [
    "print(\"Accuracy: \", accuracy_score(y_test, svm_pred))"
   ]
  },
  {
   "cell_type": "code",
   "execution_count": 317,
   "metadata": {},
   "outputs": [
    {
     "data": {
      "image/png": "[encoded data removed]",
      "text/plain": [
       "<Figure size 432x288 with 2 Axes>"
      ]
     },
     "metadata": {
      "needs_background": "light"
     },
     "output_type": "display_data"
    }
   ],
   "source": [
    "# Create and show confusion matrix\n",
    "plot_confusion_matrix(svm_model, X_test, y_test)\n",
    "plt.show()  "
   ]
  },
  {
   "cell_type": "markdown",
   "metadata": {},
   "source": [
    "# Random forest classifier"
   ]
  },
  {
   "cell_type": "code",
   "execution_count": 280,
   "metadata": {},
   "outputs": [
    {
     "data": {
      "text/plain": [
       "RandomForestClassifier(bootstrap=True, ccp_alpha=0.0, class_weight=None,\n",
       "                       criterion='gini', max_depth=None, max_features='auto',\n",
       "                       max_leaf_nodes=None, max_samples=None,\n",
       "                       min_impurity_decrease=0.0, min_impurity_split=None,\n",
       "                       min_samples_leaf=1, min_samples_split=2,\n",
       "                       min_weight_fraction_leaf=0.0, n_estimators=100,\n",
       "                       n_jobs=None, oob_score=False, random_state=None,\n",
       "                       verbose=0, warm_start=False)"
      ]
     },
     "execution_count": 280,
     "metadata": {},
     "output_type": "execute_result"
    }
   ],
   "source": [
    "# creating a RF classifier \n",
    "random_forest = RandomForestClassifier()   \n",
    "  \n",
    "# Training the model on the training dataset \n",
    "# fit function is used to train the model using the training sets as parameters \n",
    "random_forest.fit(X_train, y_train) "
   ]
  },
  {
   "cell_type": "code",
   "execution_count": 289,
   "metadata": {},
   "outputs": [],
   "source": [
    "n_estimators_values = {'n_estimators': [10, 20, 50, 100, 200, 300, 400, 500, 600, 700, 800, 900, 1000]}\n",
    "\n",
    "# Try out the different n_estimators parameters\n",
    "grid_search_cv = GridSearchCV(estimator = random_forest, param_grid = n_estimators_values, cv = None, scoring = 'accuracy') \n",
    "# A value of 'None' for cv causes this method to evaluate performance by 5-fold cross-validation"
   ]
  },
  {
   "cell_type": "code",
   "execution_count": 290,
   "metadata": {},
   "outputs": [
    {
     "name": "stderr",
     "output_type": "stream",
     "text": [
      "/usr/local/lib/python3.6/dist-packages/sklearn/model_selection/_split.py:667: UserWarning: The least populated class in y has only 2 members, which is less than n_splits=5.\n"
     ]
    },
    {
     "data": {
      "text/plain": [
       "20"
      ]
     },
     "execution_count": 290,
     "metadata": {},
     "output_type": "execute_result"
    }
   ],
   "source": [
    "grid_search_cv.fit(X_train, y_train)\n",
    "\n",
    "best_n_estimators = grid_search_cv.best_params_['n_estimators']\n",
    "best_n_estimators"
   ]
  },
  {
   "cell_type": "code",
   "execution_count": 293,
   "metadata": {},
   "outputs": [
    {
     "name": "stdout",
     "output_type": "stream",
     "text": [
      "              precision    recall  f1-score   support\n",
      "\n",
      "           0       0.00      0.00      0.00         1\n",
      "           1       0.33      0.12      0.18         8\n",
      "           2       0.00      0.00      0.00         0\n",
      "           3       0.67      0.50      0.57        12\n",
      "           4       0.00      0.00      0.00         0\n",
      "\n",
      "    accuracy                           0.33        21\n",
      "   macro avg       0.20      0.12      0.15        21\n",
      "weighted avg       0.51      0.33      0.40        21\n",
      "\n"
     ]
    },
    {
     "name": "stderr",
     "output_type": "stream",
     "text": [
      "/usr/local/lib/python3.6/dist-packages/sklearn/metrics/_classification.py:1272: UndefinedMetricWarning: Recall and F-score are ill-defined and being set to 0.0 in labels with no true samples. Use `zero_division` parameter to control this behavior.\n"
     ]
    }
   ],
   "source": [
    "# Create a model with the best n_estimators value\n",
    "rf_model = RandomForestClassifier(n_estimators = best_n_estimators);\n",
    "rf_model.fit(X_train, y_train)\n",
    "rf_pred = rf_model.predict(X_test)\n",
    "rf_predict_proba = rf_model.predict_proba(X_test)\n",
    "\n",
    "print(classification_report(rf_pred, y_test))"
   ]
  },
  {
   "cell_type": "code",
   "execution_count": 296,
   "metadata": {},
   "outputs": [
    {
     "name": "stdout",
     "output_type": "stream",
     "text": [
      "ACCURACY OF THE MODEL:  0.3333333333333333\n"
     ]
    }
   ],
   "source": [
    "# using metrics module for accuracy calculation \n",
    "print(\"ACCURACY OF THE MODEL: \", accuracy_score(y_test, rf_pred)) "
   ]
  },
  {
   "cell_type": "code",
   "execution_count": 295,
   "metadata": {},
   "outputs": [
    {
     "data": {
      "image/png": "[encoded data removed]",
      "text/plain": [
       "<Figure size 432x288 with 2 Axes>"
      ]
     },
     "metadata": {
      "needs_background": "light"
     },
     "output_type": "display_data"
    }
   ],
   "source": [
    "# Create and show confusion matrix\n",
    "plot_confusion_matrix(rf_model, X_test, y_test)\n",
    "plt.show()  "
   ]
  },
  {
   "cell_type": "markdown",
   "metadata": {},
   "source": [
    "# Neural net"
   ]
  },
  {
   "cell_type": "code",
   "execution_count": null,
   "metadata": {},
   "outputs": [
    {
     "name": "stderr",
     "output_type": "stream",
     "text": [
      "/usr/local/lib/python3.6/dist-packages/sklearn/neural_network/_multilayer_perceptron.py:571: ConvergenceWarning: Stochastic Optimizer: Maximum iterations (1000) reached and the optimization hasn't converged yet.\n",
      "/usr/local/lib/python3.6/dist-packages/sklearn/neural_network/_multilayer_perceptron.py:571: ConvergenceWarning: Stochastic Optimizer: Maximum iterations (1000) reached and the optimization hasn't converged yet.\n",
      "/usr/local/lib/python3.6/dist-packages/sklearn/neural_network/_multilayer_perceptron.py:571: ConvergenceWarning: Stochastic Optimizer: Maximum iterations (1000) reached and the optimization hasn't converged yet.\n",
      "/usr/local/lib/python3.6/dist-packages/sklearn/neural_network/_multilayer_perceptron.py:571: ConvergenceWarning: Stochastic Optimizer: Maximum iterations (1000) reached and the optimization hasn't converged yet.\n",
      "/usr/local/lib/python3.6/dist-packages/sklearn/neural_network/_multilayer_perceptron.py:571: ConvergenceWarning: Stochastic Optimizer: Maximum iterations (1000) reached and the optimization hasn't converged yet.\n",
      "/usr/local/lib/python3.6/dist-packages/sklearn/neural_network/_multilayer_perceptron.py:571: ConvergenceWarning: Stochastic Optimizer: Maximum iterations (1000) reached and the optimization hasn't converged yet.\n",
      "/usr/local/lib/python3.6/dist-packages/sklearn/neural_network/_multilayer_perceptron.py:571: ConvergenceWarning: Stochastic Optimizer: Maximum iterations (1000) reached and the optimization hasn't converged yet.\n",
      "/usr/local/lib/python3.6/dist-packages/sklearn/neural_network/_multilayer_perceptron.py:571: ConvergenceWarning: Stochastic Optimizer: Maximum iterations (1000) reached and the optimization hasn't converged yet.\n"
     ]
    }
   ],
   "source": [
    "# Create a default model to track the best model\n",
    "best_model =  MLPClassifier(hidden_layer_sizes = (1,), max_iter = 1000);\n",
    "best_model.fit(X_train, y_train)\n",
    "best_score = best_model.score(X_test, y_test)\n",
    "best_hidden_layer_size = (1,)\n",
    "\n",
    "# Create a neural net model with one hidden layer, iterating through hidden layer sizes\n",
    "for hidden_layer_size in range(1, 100):\n",
    "    model = MLPClassifier(hidden_layer_sizes = (hidden_layer_size,), max_iter = 1000);\n",
    "    model.fit(X_train, y_train)\n",
    "    model_score = model.score(X_test, y_test)\n",
    "    \n",
    "    if model_score > best_score:\n",
    "        best_model = model;\n",
    "        best_score = model_score\n",
    "        best_hidden_layer_size = (hidden_layer_size, )\n",
    "    \n",
    "# Print the classification report for the best NN model that we have come up with\n",
    "mlp_model = best_model\n",
    "mlp_pred = mlp_model.predict(X_test)\n",
    "\n",
    "print(\"The hidden layer size of our best-performing neural network in this experiment is: \" + str(best_hidden_layer_size))\n",
    "print(classification_report(mlp_pred, y_test))"
   ]
  },
  {
   "cell_type": "code",
   "execution_count": null,
   "metadata": {},
   "outputs": [],
   "source": [
    "# using metrics module for accuracy calculation \n",
    "print(\"ACCURACY OF THE MODEL: \", accuracy_score(y_test, mlp_pred))"
   ]
  },
  {
   "cell_type": "code",
   "execution_count": null,
   "metadata": {},
   "outputs": [],
   "source": [
    "# Create and show confusion matrix\n",
    "plot_confusion_matrix(mlp_model, X_test, y_test)\n",
    "plt.show()  "
   ]
  },
  {
   "cell_type": "markdown",
   "metadata": {},
   "source": [
    "# Chain models"
   ]
  },
  {
   "cell_type": "code",
   "execution_count": null,
   "metadata": {},
   "outputs": [],
   "source": [
    "# TODO cross validate for models\n",
    "def create_stacked():\n",
    "    estimators = [\n",
    "        ('rf',  RandomForestClassifier(n_estimators=10, random_state=42)),\n",
    "        ('knn', KNeighborsClassifier(n_neighbors = 1)),\n",
    "        ('nb', GaussianNB(var_smoothing = 1e-8)),\n",
    "        ('nn', MLPClassifier(hidden_layer_sizes = (79,), max_iter = 1000)),\n",
    "    ]\n",
    "    return StackingClassifier(estimators=estimators, nal_estimator=LogisticRegression(max_iter=10000))\n",
    "\n",
    "clf = create_stacked()\n",
    "clf.fit(X_train, y_train)\n",
    "pred = clf.predict(X_test)\n",
    "print(classification_report(pred, y_test))"
   ]
  },
  {
   "cell_type": "code",
   "execution_count": null,
   "metadata": {},
   "outputs": [],
   "source": [
    "# using metrics module for accuracy calculation \n",
    "print(\"ACCURACY OF THE MODEL: \", accuracy_score(y_test, pred))"
   ]
  },
  {
   "cell_type": "code",
   "execution_count": null,
   "metadata": {},
   "outputs": [],
   "source": [
    "# Create and show confusion matrix\n",
    "plot_confusion_matrix(clf, X_test, y_test)\n",
    "plt.show()  "
   ]
  },
  {
   "cell_type": "markdown",
   "metadata": {},
   "source": [
    "# TODO separate out people's voices"
   ]
  },
  {
   "cell_type": "code",
   "execution_count": null,
   "metadata": {},
   "outputs": [],
   "source": []
  }
 ],
 "metadata": {
  "kernelspec": {
   "display_name": "Python 3",
   "language": "python",
   "name": "python3"
  },
  "language_info": {
   "codemirror_mode": {
    "name": "ipython",
    "version": 3
   },
   "file_extension": ".py",
   "mimetype": "text/x-python",
   "name": "python",
   "nbconvert_exporter": "python",
   "pygments_lexer": "ipython3",
   "version": "3.6.9"
  }
 },
 "nbformat": 4,
 "nbformat_minor": 2
}
