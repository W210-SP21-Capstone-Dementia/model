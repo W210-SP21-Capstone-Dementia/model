{
 "cells": [
  {
   "cell_type": "code",
   "execution_count": 1,
   "metadata": {},
   "outputs": [],
   "source": [
    "import tensorflow as tf\n",
    "from tensorflow.keras.layers.experimental import preprocessing\n",
    "from tensorflow.keras import layers\n",
    "from tensorflow.keras import models\n",
    "import pathlib\n",
    "import os\n",
    "import numpy as np\n",
    "import pandas as pd\n",
    "import time\n",
    "import matplotlib.pyplot as plt\n",
    "from plotnine import *\n",
    "import seaborn as sn\n",
    "from tqdm import tqdm\n",
    "%matplotlib inline\n",
    "\n",
    "seed = 30\n",
    "tf.random.set_seed(seed)\n",
    "gpus = tf.config.list_physical_devices('GPU')"
   ]
  },
  {
   "cell_type": "code",
   "execution_count": 2,
   "metadata": {},
   "outputs": [],
   "source": [
    "## need this if training on GPU\n",
    "## tensorflow, get your shit together\n",
    "\n",
    "if len(gpus)>0:\n",
    "\n",
    "    from tensorflow.compat.v1 import ConfigProto\n",
    "    from tensorflow.compat.v1 import InteractiveSession\n",
    "\n",
    "    config = ConfigProto()\n",
    "    config.gpu_options.allow_growth = True\n",
    "    session = InteractiveSession(config=config)"
   ]
  },
  {
   "cell_type": "code",
   "execution_count": 3,
   "metadata": {},
   "outputs": [],
   "source": [
    "data_path = '/tf/data/dementia/0extra/ADReSS-IS2020-data/train'\n",
    "\n",
    "filenames = tf.random.shuffle(tf.io.gfile.glob(data_path + '/Full_wave_enhanced_audio/*/*'))\n",
    "\n",
    "train_cutoff = int(len(filenames)*0.7)\n",
    "val_cutoff = int(len(filenames)*0.85)\n",
    "\n",
    "train_files = filenames[:train_cutoff]\n",
    "val_files = filenames[train_cutoff:val_cutoff]\n",
    "test_files = filenames[val_cutoff:]"
   ]
  },
  {
   "cell_type": "code",
   "execution_count": 4,
   "metadata": {},
   "outputs": [],
   "source": [
    "meta_cc = pd.read_csv(data_path + '/cc_meta_data.txt', sep=\";\", header=0, \n",
    "                  names = ['ID', 'Age', 'Gender', 'MMSE'])\n",
    "meta_cd = pd.read_csv(data_path + '/cd_meta_data.txt', sep=\";\", header=0, \n",
    "                      names = ['ID', 'Age', 'Gender', 'MMSE'])\n",
    "\n",
    "meta = meta_cc.assign(Group = 'cc').append(meta_cd.assign(Group = 'cd')).reset_index()\n",
    "meta.MMSE = pd.to_numeric(meta.MMSE.replace(' NA', 30))"
   ]
  },
  {
   "cell_type": "code",
   "execution_count": 5,
   "metadata": {},
   "outputs": [],
   "source": [
    "AUTOTUNE = tf.data.AUTOTUNE"
   ]
  },
  {
   "cell_type": "code",
   "execution_count": 6,
   "metadata": {},
   "outputs": [],
   "source": [
    "def get_data_old(file_path):\n",
    "\n",
    "    names = meta.ID\n",
    "    name = tf.strings.split(tf.strings.split(file_path, os.path.sep)[-1], '.')[0] + ' '\n",
    "    label = tf.gather(meta.MMSE, tf.where(tf.equal(names, name))[0][0])\n",
    "    audio_binary = tf.io.read_file(file_path)\n",
    "    waveform = decode_audio(audio_binary)\n",
    "    \n",
    "    zero_padding = tf.zeros([10000000] - tf.shape(waveform), dtype=tf.float32)\n",
    "    waveform = tf.cast(waveform, tf.float32)\n",
    "    equal_length = tf.concat([waveform, zero_padding], 0)\n",
    "    \n",
    "    spectrogram = tf.signal.stft(equal_length, frame_length=255, frame_step=128)\n",
    "    spectrogram = tf.abs(spectrogram)\n",
    "    spectrogram = tf.expand_dims(spectrogram, -1)\n",
    "    return spectrogram, label\n",
    "\n",
    "def window(x, size, stride):\n",
    "    length = int(len(x))\n",
    "    if length // size == 0:\n",
    "        zero_padding =  tf.zeros([size] - tf.shape(x), dtype=tf.float32)\n",
    "        x = tf.cast(x, tf.float32)\n",
    "        x = tf.concat([x, zero_padding], 0)\n",
    "        length = int(len(x))\n",
    "    return tf.map_fn(lambda i: x[i*stride:i*stride+size], tf.range((length-size)//stride+1), dtype=tf.float32)\n",
    "\n",
    "def get_data(file_path):\n",
    "\n",
    "    names = meta.ID\n",
    "    name = tf.strings.split(tf.strings.split(file_path, os.path.sep)[-1], '.')[0] + ' '\n",
    "    label = tf.gather(meta.MMSE, tf.where(tf.equal(names, name))[0][0])\n",
    "    \n",
    "    audio_binary = tf.io.read_file(file_path)\n",
    "    audio, _ = tf.audio.decode_wav(audio_binary)\n",
    "    waveform = tf.squeeze(audio, axis=-1)\n",
    "#     waveform = decode_audio(audio_binary)\n",
    "        \n",
    "    rolling_waveform_tensors = window(waveform, size=_*size_sec, stride=_*stride_sec)\n",
    "    rolling_spectrograms = tf.signal.stft(rolling_waveform_tensors, frame_length=512, frame_step=_)\n",
    "    rolling_spectrograms = tf.abs(rolling_spectrograms)\n",
    "    rolling_spectrograms = tf.expand_dims(rolling_spectrograms, -1)\n",
    "        \n",
    "    return rolling_spectrograms, label"
   ]
  },
  {
   "cell_type": "code",
   "execution_count": 7,
   "metadata": {},
   "outputs": [],
   "source": [
    "def preprocess_dataset(files):\n",
    "    files_ds = tf.data.Dataset.from_tensor_slices(files)\n",
    "    output_ds = files_ds.map(get_data, num_parallel_calls=AUTOTUNE)\\\n",
    "                        .cache()\\\n",
    "                        .prefetch(100)\\\n",
    "                        .flat_map(lambda x,y: tf.data.Dataset.zip((\n",
    "                                    tf.data.Dataset.from_tensor_slices(x), \n",
    "                                    tf.data.Dataset.from_tensor_slices([y])\n",
    "                        )))\\\n",
    "                        .shuffle(100)\n",
    "    return output_ds"
   ]
  },
  {
   "cell_type": "code",
   "execution_count": 8,
   "metadata": {},
   "outputs": [],
   "source": [
    "size_sec = 30\n",
    "stride_sec = 1"
   ]
  },
  {
   "cell_type": "code",
   "execution_count": 9,
   "metadata": {},
   "outputs": [
    {
     "name": "stdout",
     "output_type": "stream",
     "text": [
      "WARNING:tensorflow:From /usr/local/lib/python3.6/dist-packages/tensorflow/python/util/deprecation.py:605: calling map_fn_v2 (from tensorflow.python.ops.map_fn) with dtype is deprecated and will be removed in a future version.\n",
      "Instructions for updating:\n",
      "Use fn_output_signature instead\n"
     ]
    }
   ],
   "source": [
    "train_ds = preprocess_dataset(train_files)\n",
    "val_ds = preprocess_dataset(val_files)\n",
    "test_ds = preprocess_dataset(test_files)"
   ]
  },
  {
   "cell_type": "code",
   "execution_count": 10,
   "metadata": {
    "scrolled": true
   },
   "outputs": [
    {
     "name": "stdout",
     "output_type": "stream",
     "text": [
      "(30, 257, 1)\n",
      "tf.Tensor(23, shape=(), dtype=int64)\n"
     ]
    }
   ],
   "source": [
    "for spectrogram, y in train_ds.take(1):\n",
    "    input_shape = spectrogram.shape\n",
    "    print(input_shape)\n",
    "    print(y)\n"
   ]
  },
  {
   "cell_type": "code",
   "execution_count": 11,
   "metadata": {},
   "outputs": [],
   "source": [
    "batch_size = 128\n",
    "train_ds_b = train_ds.batch(batch_size)\n",
    "val_ds_b = val_ds.batch(batch_size)"
   ]
  },
  {
   "cell_type": "code",
   "execution_count": 12,
   "metadata": {},
   "outputs": [
    {
     "name": "stdout",
     "output_type": "stream",
     "text": [
      "Input shape: (30, 257, 1)\n",
      "Model: \"sequential\"\n",
      "_________________________________________________________________\n",
      "Layer (type)                 Output Shape              Param #   \n",
      "=================================================================\n",
      "reshape (Reshape)            (None, 30, 257)           0         \n",
      "_________________________________________________________________\n",
      "normalization (Normalization (None, 30, 257)           3         \n",
      "_________________________________________________________________\n",
      "dense (Dense)                (None, 30, 256)           66048     \n",
      "_________________________________________________________________\n",
      "dropout (Dropout)            (None, 30, 256)           0         \n",
      "_________________________________________________________________\n",
      "lstm (LSTM)                  (None, 30, 128)           197120    \n",
      "_________________________________________________________________\n",
      "dropout_1 (Dropout)          (None, 30, 128)           0         \n",
      "_________________________________________________________________\n",
      "lstm_1 (LSTM)                (None, 64)                49408     \n",
      "_________________________________________________________________\n",
      "dropout_2 (Dropout)          (None, 64)                0         \n",
      "_________________________________________________________________\n",
      "dense_1 (Dense)              (None, 32)                2080      \n",
      "_________________________________________________________________\n",
      "dropout_3 (Dropout)          (None, 32)                0         \n",
      "_________________________________________________________________\n",
      "dense_2 (Dense)              (None, 1)                 33        \n",
      "=================================================================\n",
      "Total params: 314,692\n",
      "Trainable params: 314,689\n",
      "Non-trainable params: 3\n",
      "_________________________________________________________________\n"
     ]
    }
   ],
   "source": [
    "print('Input shape:', input_shape)\n",
    "\n",
    "norm_layer = preprocessing.Normalization()\n",
    "norm_layer.adapt(train_ds.map(lambda x, _: x))\n",
    "\n",
    "model = models.Sequential([\n",
    "    layers.Input(shape=input_shape),\n",
    "    layers.Reshape((input_shape[0],input_shape[1])),\n",
    "    norm_layer,\n",
    "    \n",
    "    layers.Dense(256, activation='relu', kernel_initializer='he_normal'),\n",
    "    layers.Dropout(0.25),\n",
    "    layers.LSTM(128, activation='relu', kernel_initializer='he_normal', return_sequences=True),\n",
    "    layers.Dropout(0.25),\n",
    "    layers.LSTM(64, activation='relu', kernel_initializer='he_normal'),\n",
    "    layers.Dropout(0.25),\n",
    "    layers.Dense(32, activation='relu', kernel_initializer='he_normal'),\n",
    "    layers.Dropout(0.25),\n",
    "    layers.Dense(1)\n",
    "])\n",
    "\n",
    "model.summary()"
   ]
  },
  {
   "cell_type": "code",
   "execution_count": 13,
   "metadata": {},
   "outputs": [],
   "source": [
    "callback = tf.keras.callbacks.EarlyStopping(monitor='val_loss', patience=200)\n",
    "\n",
    "model.compile(\n",
    "    optimizer=tf.keras.optimizers.Adam(learning_rate=0.001, clipnorm=1.0),\n",
    "    loss='mse',\n",
    "    metrics='mse'\n",
    ")"
   ]
  },
  {
   "cell_type": "code",
   "execution_count": 14,
   "metadata": {
    "scrolled": true
   },
   "outputs": [
    {
     "name": "stdout",
     "output_type": "stream",
     "text": [
      "Epoch 1/10000\n",
      "1/1 [==============================] - 3s 3s/step - loss: 1806.5590 - mse: 1806.5590 - val_loss: 1831.3893 - val_mse: 1831.3893\n",
      "Epoch 2/10000\n",
      "1/1 [==============================] - 0s 143ms/step - loss: 977.9045 - mse: 977.9045 - val_loss: 5272.5054 - val_mse: 5272.5054\n",
      "Epoch 3/10000\n",
      "1/1 [==============================] - 0s 143ms/step - loss: 603.3000 - mse: 603.3000 - val_loss: 805.1472 - val_mse: 805.1472\n",
      "Epoch 4/10000\n",
      "1/1 [==============================] - 0s 141ms/step - loss: 677.1946 - mse: 677.1946 - val_loss: 839.1245 - val_mse: 839.1245\n",
      "Epoch 5/10000\n",
      "1/1 [==============================] - 0s 141ms/step - loss: 605.1604 - mse: 605.1604 - val_loss: 747.4308 - val_mse: 747.4308\n",
      "Epoch 6/10000\n",
      "1/1 [==============================] - 0s 144ms/step - loss: 593.2695 - mse: 593.2695 - val_loss: 754.1369 - val_mse: 754.1369\n",
      "Epoch 7/10000\n",
      "1/1 [==============================] - 0s 143ms/step - loss: 570.6824 - mse: 570.6824 - val_loss: 882.0496 - val_mse: 882.0496\n",
      "Epoch 8/10000\n",
      "1/1 [==============================] - 0s 138ms/step - loss: 551.2258 - mse: 551.2258 - val_loss: 594.8577 - val_mse: 594.8577\n",
      "Epoch 9/10000\n",
      "1/1 [==============================] - 0s 140ms/step - loss: 607.3539 - mse: 607.3539 - val_loss: 662.6039 - val_mse: 662.6039\n",
      "Epoch 10/10000\n",
      "1/1 [==============================] - 0s 141ms/step - loss: 510.4986 - mse: 510.4986 - val_loss: 2866.8662 - val_mse: 2866.8662\n",
      "Epoch 11/10000\n",
      "1/1 [==============================] - 0s 136ms/step - loss: 499.7552 - mse: 499.7552 - val_loss: 1794.2902 - val_mse: 1794.2902\n",
      "Epoch 12/10000\n",
      "1/1 [==============================] - 0s 139ms/step - loss: 1213.5112 - mse: 1213.5112 - val_loss: 896.5337 - val_mse: 896.5337\n",
      "Epoch 13/10000\n",
      "1/1 [==============================] - 0s 253ms/step - loss: 482.7582 - mse: 482.7582 - val_loss: 9722.2949 - val_mse: 9722.2949\n",
      "Epoch 14/10000\n",
      "1/1 [==============================] - 0s 141ms/step - loss: 550.5055 - mse: 550.5055 - val_loss: 13644.0205 - val_mse: 13644.0205\n",
      "Epoch 15/10000\n",
      "1/1 [==============================] - 0s 143ms/step - loss: 788.4597 - mse: 788.4597 - val_loss: 1501.3888 - val_mse: 1501.3888\n",
      "Epoch 16/10000\n",
      "1/1 [==============================] - 0s 141ms/step - loss: 2278.1064 - mse: 2278.1064 - val_loss: 7059.9814 - val_mse: 7059.9814\n",
      "Epoch 17/10000\n",
      "1/1 [==============================] - 0s 145ms/step - loss: 774.3334 - mse: 774.3334 - val_loss: 4667.1963 - val_mse: 4667.1963\n",
      "Epoch 18/10000\n",
      "1/1 [==============================] - 0s 144ms/step - loss: 2004.2679 - mse: 2004.2679 - val_loss: 6139.6753 - val_mse: 6139.6753\n",
      "Epoch 19/10000\n",
      "1/1 [==============================] - 0s 141ms/step - loss: 889.4767 - mse: 889.4767 - val_loss: 2251.0974 - val_mse: 2251.0974\n",
      "Epoch 20/10000\n",
      "1/1 [==============================] - 0s 142ms/step - loss: 1102.7762 - mse: 1102.7762 - val_loss: 1213.3782 - val_mse: 1213.3782\n",
      "Epoch 21/10000\n",
      "1/1 [==============================] - 0s 142ms/step - loss: 544.4252 - mse: 544.4252 - val_loss: 2766.6621 - val_mse: 2766.6621\n",
      "Epoch 22/10000\n",
      "1/1 [==============================] - 0s 142ms/step - loss: 586.4957 - mse: 586.4957 - val_loss: 617.7770 - val_mse: 617.7770\n",
      "Epoch 23/10000\n",
      "1/1 [==============================] - 0s 147ms/step - loss: 531.4276 - mse: 531.4276 - val_loss: 632.8058 - val_mse: 632.8058\n",
      "Epoch 24/10000\n",
      "1/1 [==============================] - 0s 146ms/step - loss: 465.2254 - mse: 465.2254 - val_loss: 1160.9017 - val_mse: 1160.9017\n",
      "Epoch 25/10000\n",
      "1/1 [==============================] - 0s 142ms/step - loss: 668.0746 - mse: 668.0746 - val_loss: 564.4672 - val_mse: 564.4672\n",
      "Epoch 26/10000\n",
      "1/1 [==============================] - 0s 143ms/step - loss: 787.1324 - mse: 787.1324 - val_loss: 989.2300 - val_mse: 989.2300\n",
      "Epoch 27/10000\n",
      "1/1 [==============================] - 0s 143ms/step - loss: 487.6665 - mse: 487.6665 - val_loss: 1029.3298 - val_mse: 1029.3298\n",
      "Epoch 28/10000\n",
      "1/1 [==============================] - 0s 147ms/step - loss: 630.1663 - mse: 630.1663 - val_loss: 642.0615 - val_mse: 642.0615\n",
      "Epoch 29/10000\n",
      "1/1 [==============================] - 0s 144ms/step - loss: 601.3115 - mse: 601.3115 - val_loss: 957.1163 - val_mse: 957.1163\n",
      "Epoch 30/10000\n",
      "1/1 [==============================] - 0s 146ms/step - loss: 519.1315 - mse: 519.1315 - val_loss: 1227.3795 - val_mse: 1227.3795\n",
      "Epoch 31/10000\n",
      "1/1 [==============================] - 0s 141ms/step - loss: 671.4544 - mse: 671.4544 - val_loss: 1236.5106 - val_mse: 1236.5106\n",
      "Epoch 32/10000\n",
      "1/1 [==============================] - 0s 141ms/step - loss: 546.9872 - mse: 546.9872 - val_loss: 709.2456 - val_mse: 709.2456\n",
      "Epoch 33/10000\n",
      "1/1 [==============================] - 0s 143ms/step - loss: 543.4683 - mse: 543.4683 - val_loss: 415.0942 - val_mse: 415.0942\n",
      "Epoch 34/10000\n",
      "1/1 [==============================] - 0s 144ms/step - loss: 443.3809 - mse: 443.3809 - val_loss: 408.8989 - val_mse: 408.8989\n",
      "Epoch 35/10000\n",
      "1/1 [==============================] - 0s 142ms/step - loss: 387.6590 - mse: 387.6590 - val_loss: 427.0291 - val_mse: 427.0291\n",
      "Epoch 36/10000\n",
      "1/1 [==============================] - 0s 143ms/step - loss: 512.7422 - mse: 512.7422 - val_loss: 500.6252 - val_mse: 500.6252\n",
      "Epoch 37/10000\n",
      "1/1 [==============================] - 0s 143ms/step - loss: 413.3619 - mse: 413.3619 - val_loss: 668.4186 - val_mse: 668.4186\n",
      "Epoch 38/10000\n",
      "1/1 [==============================] - 0s 144ms/step - loss: 375.0228 - mse: 375.0228 - val_loss: 391.5379 - val_mse: 391.5379\n",
      "Epoch 39/10000\n",
      "1/1 [==============================] - 0s 142ms/step - loss: 445.9968 - mse: 445.9968 - val_loss: 392.1999 - val_mse: 392.1999\n",
      "Epoch 40/10000\n",
      "1/1 [==============================] - 0s 144ms/step - loss: 348.1892 - mse: 348.1892 - val_loss: 431.1737 - val_mse: 431.1737\n",
      "Epoch 41/10000\n",
      "1/1 [==============================] - 0s 145ms/step - loss: 318.3730 - mse: 318.3730 - val_loss: 559.9521 - val_mse: 559.9521\n",
      "Epoch 42/10000\n",
      "1/1 [==============================] - 0s 146ms/step - loss: 362.7066 - mse: 362.7066 - val_loss: 442.7491 - val_mse: 442.7491\n",
      "Epoch 43/10000\n",
      "1/1 [==============================] - 0s 144ms/step - loss: 298.7120 - mse: 298.7120 - val_loss: 551.6008 - val_mse: 551.6008\n",
      "Epoch 44/10000\n",
      "1/1 [==============================] - 0s 252ms/step - loss: 518.4244 - mse: 518.4244 - val_loss: 423.5156 - val_mse: 423.5156\n",
      "Epoch 45/10000\n",
      "1/1 [==============================] - 0s 144ms/step - loss: 517.4416 - mse: 517.4416 - val_loss: 324.2413 - val_mse: 324.2413\n",
      "Epoch 46/10000\n",
      "1/1 [==============================] - 0s 144ms/step - loss: 305.8770 - mse: 305.8770 - val_loss: 262.5443 - val_mse: 262.5443\n",
      "Epoch 47/10000\n",
      "1/1 [==============================] - 0s 144ms/step - loss: 216.0223 - mse: 216.0223 - val_loss: 232.0743 - val_mse: 232.0743\n",
      "Epoch 48/10000\n",
      "1/1 [==============================] - 0s 145ms/step - loss: 243.8565 - mse: 243.8565 - val_loss: 264.6152 - val_mse: 264.6152\n",
      "Epoch 49/10000\n",
      "1/1 [==============================] - 0s 145ms/step - loss: 148.4990 - mse: 148.4990 - val_loss: 174.6418 - val_mse: 174.6418\n",
      "Epoch 50/10000\n",
      "1/1 [==============================] - 0s 140ms/step - loss: 169.3410 - mse: 169.3410 - val_loss: 215.9502 - val_mse: 215.9502\n",
      "Epoch 51/10000\n",
      "1/1 [==============================] - 0s 146ms/step - loss: 145.2418 - mse: 145.2418 - val_loss: 138.0325 - val_mse: 138.0325\n",
      "Epoch 52/10000\n",
      "1/1 [==============================] - 0s 143ms/step - loss: 150.6849 - mse: 150.6849 - val_loss: 192.3424 - val_mse: 192.3424\n",
      "Epoch 53/10000\n",
      "1/1 [==============================] - 0s 144ms/step - loss: 168.0158 - mse: 168.0158 - val_loss: 140.8029 - val_mse: 140.8029\n",
      "Epoch 54/10000\n",
      "1/1 [==============================] - 0s 141ms/step - loss: 184.9875 - mse: 184.9875 - val_loss: 197.3159 - val_mse: 197.3159\n",
      "Epoch 55/10000\n",
      "1/1 [==============================] - 0s 142ms/step - loss: 133.9412 - mse: 133.9412 - val_loss: 273.6097 - val_mse: 273.6097\n",
      "Epoch 56/10000\n",
      "1/1 [==============================] - 0s 142ms/step - loss: 161.5315 - mse: 161.5315 - val_loss: 292.8586 - val_mse: 292.8586\n",
      "Epoch 57/10000\n",
      "1/1 [==============================] - 0s 141ms/step - loss: 132.7089 - mse: 132.7089 - val_loss: 349.4257 - val_mse: 349.4257\n",
      "Epoch 58/10000\n",
      "1/1 [==============================] - 0s 141ms/step - loss: 134.0128 - mse: 134.0128 - val_loss: 248.3170 - val_mse: 248.3170\n",
      "Epoch 59/10000\n",
      "1/1 [==============================] - 0s 141ms/step - loss: 148.1712 - mse: 148.1712 - val_loss: 84.2658 - val_mse: 84.2658\n",
      "Epoch 60/10000\n",
      "1/1 [==============================] - 0s 144ms/step - loss: 129.2546 - mse: 129.2546 - val_loss: 62.4549 - val_mse: 62.4549\n",
      "Epoch 61/10000\n",
      "1/1 [==============================] - 0s 146ms/step - loss: 129.9024 - mse: 129.9024 - val_loss: 60.7061 - val_mse: 60.7061\n",
      "Epoch 62/10000\n",
      "1/1 [==============================] - 0s 144ms/step - loss: 155.1256 - mse: 155.1256 - val_loss: 62.0051 - val_mse: 62.0051\n",
      "Epoch 63/10000\n",
      "1/1 [==============================] - 0s 146ms/step - loss: 92.9201 - mse: 92.9201 - val_loss: 71.2846 - val_mse: 71.2846\n",
      "Epoch 64/10000\n",
      "1/1 [==============================] - 0s 143ms/step - loss: 118.6596 - mse: 118.6596 - val_loss: 69.4856 - val_mse: 69.4856\n",
      "Epoch 65/10000\n",
      "1/1 [==============================] - 0s 144ms/step - loss: 127.7287 - mse: 127.7287 - val_loss: 101.7896 - val_mse: 101.7896\n",
      "Epoch 66/10000\n",
      "1/1 [==============================] - 0s 146ms/step - loss: 151.0763 - mse: 151.0763 - val_loss: 175.0132 - val_mse: 175.0132\n",
      "Epoch 67/10000\n",
      "1/1 [==============================] - 0s 145ms/step - loss: 121.7464 - mse: 121.7464 - val_loss: 199.2501 - val_mse: 199.2501\n",
      "Epoch 68/10000\n",
      "1/1 [==============================] - 0s 142ms/step - loss: 137.3526 - mse: 137.3526 - val_loss: 169.3648 - val_mse: 169.3648\n",
      "Epoch 69/10000\n",
      "1/1 [==============================] - 0s 142ms/step - loss: 113.4993 - mse: 113.4993 - val_loss: 113.4620 - val_mse: 113.4620\n",
      "Epoch 70/10000\n",
      "1/1 [==============================] - 0s 144ms/step - loss: 115.2732 - mse: 115.2732 - val_loss: 119.3683 - val_mse: 119.3683\n",
      "Epoch 71/10000\n",
      "1/1 [==============================] - 0s 147ms/step - loss: 129.6141 - mse: 129.6141 - val_loss: 107.1967 - val_mse: 107.1967\n",
      "Epoch 72/10000\n",
      "1/1 [==============================] - 0s 147ms/step - loss: 120.7980 - mse: 120.7980 - val_loss: 98.1008 - val_mse: 98.1008\n",
      "Epoch 73/10000\n",
      "1/1 [==============================] - 0s 143ms/step - loss: 116.5076 - mse: 116.5076 - val_loss: 103.0172 - val_mse: 103.0172\n",
      "Epoch 74/10000\n",
      "1/1 [==============================] - 0s 140ms/step - loss: 91.7439 - mse: 91.7439 - val_loss: 111.3842 - val_mse: 111.3842\n",
      "Epoch 75/10000\n",
      "1/1 [==============================] - 0s 144ms/step - loss: 83.6587 - mse: 83.6587 - val_loss: 152.4296 - val_mse: 152.4296\n",
      "Epoch 76/10000\n",
      "1/1 [==============================] - 0s 141ms/step - loss: 124.5271 - mse: 124.5271 - val_loss: 99.8194 - val_mse: 99.8194\n",
      "Epoch 77/10000\n",
      "1/1 [==============================] - 0s 147ms/step - loss: 90.8782 - mse: 90.8782 - val_loss: 84.0661 - val_mse: 84.0661\n",
      "Epoch 78/10000\n",
      "1/1 [==============================] - 0s 143ms/step - loss: 114.5563 - mse: 114.5563 - val_loss: 81.0969 - val_mse: 81.0969\n",
      "Epoch 79/10000\n",
      "1/1 [==============================] - 0s 143ms/step - loss: 85.6187 - mse: 85.6187 - val_loss: 72.0546 - val_mse: 72.0546\n",
      "Epoch 80/10000\n",
      "1/1 [==============================] - 0s 144ms/step - loss: 135.1090 - mse: 135.1090 - val_loss: 78.0057 - val_mse: 78.0057\n",
      "Epoch 81/10000\n",
      "1/1 [==============================] - 0s 143ms/step - loss: 95.9499 - mse: 95.9499 - val_loss: 88.5102 - val_mse: 88.5102\n",
      "Epoch 82/10000\n",
      "1/1 [==============================] - 0s 141ms/step - loss: 128.9009 - mse: 128.9009 - val_loss: 86.7224 - val_mse: 86.7224\n",
      "Epoch 83/10000\n",
      "1/1 [==============================] - 0s 142ms/step - loss: 93.0505 - mse: 93.0505 - val_loss: 113.2151 - val_mse: 113.2151\n",
      "Epoch 84/10000\n",
      "1/1 [==============================] - 0s 141ms/step - loss: 146.0477 - mse: 146.0477 - val_loss: 77.8584 - val_mse: 77.8584\n",
      "Epoch 85/10000\n",
      "1/1 [==============================] - 0s 145ms/step - loss: 162.1505 - mse: 162.1505 - val_loss: 67.2670 - val_mse: 67.2670\n",
      "Epoch 86/10000\n",
      "1/1 [==============================] - 0s 144ms/step - loss: 131.2339 - mse: 131.2339 - val_loss: 65.1239 - val_mse: 65.1239\n",
      "Epoch 87/10000\n",
      "1/1 [==============================] - 0s 141ms/step - loss: 88.7137 - mse: 88.7137 - val_loss: 66.0308 - val_mse: 66.0308\n",
      "Epoch 88/10000\n",
      "1/1 [==============================] - 0s 141ms/step - loss: 104.2573 - mse: 104.2573 - val_loss: 59.8562 - val_mse: 59.8562\n",
      "Epoch 89/10000\n",
      "1/1 [==============================] - 0s 253ms/step - loss: 81.9875 - mse: 81.9875 - val_loss: 55.8921 - val_mse: 55.8921\n",
      "Epoch 90/10000\n",
      "1/1 [==============================] - 0s 144ms/step - loss: 83.9832 - mse: 83.9832 - val_loss: 58.9529 - val_mse: 58.9529\n",
      "Epoch 91/10000\n",
      "1/1 [==============================] - 0s 142ms/step - loss: 102.8916 - mse: 102.8916 - val_loss: 75.5130 - val_mse: 75.5130\n",
      "Epoch 92/10000\n",
      "1/1 [==============================] - 0s 151ms/step - loss: 128.7975 - mse: 128.7975 - val_loss: 87.1729 - val_mse: 87.1729\n",
      "Epoch 93/10000\n",
      "1/1 [==============================] - 0s 140ms/step - loss: 82.6590 - mse: 82.6590 - val_loss: 104.3865 - val_mse: 104.3865\n",
      "Epoch 94/10000\n",
      "1/1 [==============================] - 0s 141ms/step - loss: 96.4175 - mse: 96.4175 - val_loss: 94.7394 - val_mse: 94.7394\n",
      "Epoch 95/10000\n",
      "1/1 [==============================] - 0s 146ms/step - loss: 95.1694 - mse: 95.1694 - val_loss: 76.4638 - val_mse: 76.4638\n",
      "Epoch 96/10000\n",
      "1/1 [==============================] - 0s 146ms/step - loss: 74.4161 - mse: 74.4161 - val_loss: 63.7532 - val_mse: 63.7532\n",
      "Epoch 97/10000\n",
      "1/1 [==============================] - 0s 149ms/step - loss: 103.9911 - mse: 103.9911 - val_loss: 53.1290 - val_mse: 53.1290\n",
      "Epoch 98/10000\n",
      "1/1 [==============================] - 0s 144ms/step - loss: 82.6196 - mse: 82.6196 - val_loss: 50.3666 - val_mse: 50.3666\n",
      "Epoch 99/10000\n",
      "1/1 [==============================] - 0s 143ms/step - loss: 110.7954 - mse: 110.7954 - val_loss: 53.6007 - val_mse: 53.6007\n",
      "Epoch 100/10000\n",
      "1/1 [==============================] - 0s 144ms/step - loss: 119.5664 - mse: 119.5664 - val_loss: 61.7833 - val_mse: 61.7833\n",
      "Epoch 101/10000\n",
      "1/1 [==============================] - 0s 145ms/step - loss: 93.9047 - mse: 93.9047 - val_loss: 83.1818 - val_mse: 83.1818\n",
      "Epoch 102/10000\n",
      "1/1 [==============================] - 0s 141ms/step - loss: 91.0093 - mse: 91.0093 - val_loss: 85.7384 - val_mse: 85.7384\n",
      "Epoch 103/10000\n",
      "1/1 [==============================] - 0s 146ms/step - loss: 111.1499 - mse: 111.1499 - val_loss: 78.8340 - val_mse: 78.8340\n",
      "Epoch 104/10000\n",
      "1/1 [==============================] - 0s 145ms/step - loss: 95.7612 - mse: 95.7612 - val_loss: 68.5360 - val_mse: 68.5360\n",
      "Epoch 105/10000\n",
      "1/1 [==============================] - 0s 146ms/step - loss: 107.3325 - mse: 107.3325 - val_loss: 79.0318 - val_mse: 79.0318\n",
      "Epoch 106/10000\n",
      "1/1 [==============================] - 0s 141ms/step - loss: 124.8291 - mse: 124.8291 - val_loss: 67.5887 - val_mse: 67.5887\n",
      "Epoch 107/10000\n",
      "1/1 [==============================] - 0s 139ms/step - loss: 87.6662 - mse: 87.6662 - val_loss: 51.0938 - val_mse: 51.0938\n",
      "Epoch 108/10000\n",
      "1/1 [==============================] - 0s 144ms/step - loss: 99.8628 - mse: 99.8628 - val_loss: 60.3641 - val_mse: 60.3641\n",
      "Epoch 109/10000\n",
      "1/1 [==============================] - 0s 142ms/step - loss: 84.1824 - mse: 84.1824 - val_loss: 66.6943 - val_mse: 66.6943\n",
      "Epoch 110/10000\n",
      "1/1 [==============================] - 0s 143ms/step - loss: 89.1513 - mse: 89.1513 - val_loss: 55.8663 - val_mse: 55.8663\n",
      "Epoch 111/10000\n",
      "1/1 [==============================] - 0s 144ms/step - loss: 96.9077 - mse: 96.9077 - val_loss: 47.2746 - val_mse: 47.2746\n",
      "Epoch 112/10000\n",
      "1/1 [==============================] - 0s 140ms/step - loss: 75.7081 - mse: 75.7081 - val_loss: 45.8733 - val_mse: 45.8733\n",
      "Epoch 113/10000\n",
      "1/1 [==============================] - 0s 143ms/step - loss: 76.5168 - mse: 76.5168 - val_loss: 53.5823 - val_mse: 53.5823\n",
      "Epoch 114/10000\n",
      "1/1 [==============================] - 0s 143ms/step - loss: 87.5337 - mse: 87.5337 - val_loss: 57.9377 - val_mse: 57.9377\n",
      "Epoch 115/10000\n",
      "1/1 [==============================] - 0s 143ms/step - loss: 80.8801 - mse: 80.8801 - val_loss: 55.3418 - val_mse: 55.3418\n",
      "Epoch 116/10000\n",
      "1/1 [==============================] - 0s 142ms/step - loss: 68.3102 - mse: 68.3102 - val_loss: 50.6556 - val_mse: 50.6556\n"
     ]
    },
    {
     "name": "stdout",
     "output_type": "stream",
     "text": [
      "Epoch 117/10000\n",
      "1/1 [==============================] - 0s 143ms/step - loss: 73.5838 - mse: 73.5838 - val_loss: 51.9054 - val_mse: 51.9054\n",
      "Epoch 118/10000\n",
      "1/1 [==============================] - 0s 145ms/step - loss: 69.5926 - mse: 69.5926 - val_loss: 54.7958 - val_mse: 54.7958\n",
      "Epoch 119/10000\n",
      "1/1 [==============================] - 0s 144ms/step - loss: 75.9070 - mse: 75.9070 - val_loss: 60.8076 - val_mse: 60.8076\n",
      "Epoch 120/10000\n",
      "1/1 [==============================] - 0s 142ms/step - loss: 73.0712 - mse: 73.0712 - val_loss: 57.6791 - val_mse: 57.6791\n",
      "Epoch 121/10000\n",
      "1/1 [==============================] - 0s 145ms/step - loss: 49.2337 - mse: 49.2337 - val_loss: 47.3005 - val_mse: 47.3005\n",
      "Epoch 122/10000\n",
      "1/1 [==============================] - 0s 142ms/step - loss: 75.4140 - mse: 75.4140 - val_loss: 44.4607 - val_mse: 44.4607\n",
      "Epoch 123/10000\n",
      "1/1 [==============================] - 0s 139ms/step - loss: 48.5725 - mse: 48.5725 - val_loss: 48.1692 - val_mse: 48.1692\n",
      "Epoch 124/10000\n",
      "1/1 [==============================] - 0s 146ms/step - loss: 90.0394 - mse: 90.0394 - val_loss: 56.1524 - val_mse: 56.1524\n",
      "Epoch 125/10000\n",
      "1/1 [==============================] - 0s 257ms/step - loss: 71.4205 - mse: 71.4205 - val_loss: 61.1203 - val_mse: 61.1203\n",
      "Epoch 126/10000\n",
      "1/1 [==============================] - 0s 146ms/step - loss: 72.8854 - mse: 72.8854 - val_loss: 56.9262 - val_mse: 56.9262\n",
      "Epoch 127/10000\n",
      "1/1 [==============================] - 0s 142ms/step - loss: 70.8221 - mse: 70.8221 - val_loss: 78.6011 - val_mse: 78.6011\n",
      "Epoch 128/10000\n",
      "1/1 [==============================] - 0s 142ms/step - loss: 49.4541 - mse: 49.4541 - val_loss: 103.3493 - val_mse: 103.3493\n",
      "Epoch 129/10000\n",
      "1/1 [==============================] - 0s 143ms/step - loss: 81.0978 - mse: 81.0978 - val_loss: 85.7631 - val_mse: 85.7631\n",
      "Epoch 130/10000\n",
      "1/1 [==============================] - 0s 144ms/step - loss: 66.0943 - mse: 66.0943 - val_loss: 65.0993 - val_mse: 65.0993\n",
      "Epoch 131/10000\n",
      "1/1 [==============================] - 0s 142ms/step - loss: 84.6166 - mse: 84.6166 - val_loss: 61.7230 - val_mse: 61.7230\n",
      "Epoch 132/10000\n",
      "1/1 [==============================] - 0s 144ms/step - loss: 75.2914 - mse: 75.2914 - val_loss: 56.6853 - val_mse: 56.6853\n",
      "Epoch 133/10000\n",
      "1/1 [==============================] - 0s 146ms/step - loss: 65.0079 - mse: 65.0079 - val_loss: 44.3352 - val_mse: 44.3352\n",
      "Epoch 134/10000\n",
      "1/1 [==============================] - 0s 145ms/step - loss: 60.8812 - mse: 60.8812 - val_loss: 55.8237 - val_mse: 55.8237\n",
      "Epoch 135/10000\n",
      "1/1 [==============================] - 0s 146ms/step - loss: 91.7220 - mse: 91.7220 - val_loss: 67.9487 - val_mse: 67.9487\n",
      "Epoch 136/10000\n",
      "1/1 [==============================] - 0s 144ms/step - loss: 57.6074 - mse: 57.6074 - val_loss: 58.1913 - val_mse: 58.1913\n",
      "Epoch 137/10000\n",
      "1/1 [==============================] - 0s 142ms/step - loss: 71.5544 - mse: 71.5544 - val_loss: 58.7169 - val_mse: 58.7169\n",
      "Epoch 138/10000\n",
      "1/1 [==============================] - 0s 143ms/step - loss: 91.7086 - mse: 91.7086 - val_loss: 52.8863 - val_mse: 52.8863\n",
      "Epoch 139/10000\n",
      "1/1 [==============================] - 0s 145ms/step - loss: 58.6904 - mse: 58.6904 - val_loss: 46.9683 - val_mse: 46.9683\n",
      "Epoch 140/10000\n",
      "1/1 [==============================] - 0s 146ms/step - loss: 46.3309 - mse: 46.3309 - val_loss: 44.3377 - val_mse: 44.3377\n",
      "Epoch 141/10000\n",
      "1/1 [==============================] - 0s 148ms/step - loss: 55.9303 - mse: 55.9303 - val_loss: 40.1060 - val_mse: 40.1060\n",
      "Epoch 142/10000\n",
      "1/1 [==============================] - 0s 146ms/step - loss: 58.8340 - mse: 58.8340 - val_loss: 46.9096 - val_mse: 46.9096\n",
      "Epoch 143/10000\n",
      "1/1 [==============================] - 0s 151ms/step - loss: 65.7008 - mse: 65.7008 - val_loss: 54.2176 - val_mse: 54.2176\n",
      "Epoch 144/10000\n",
      "1/1 [==============================] - 0s 149ms/step - loss: 76.6668 - mse: 76.6668 - val_loss: 63.7499 - val_mse: 63.7499\n",
      "Epoch 145/10000\n",
      "1/1 [==============================] - 0s 150ms/step - loss: 55.0511 - mse: 55.0511 - val_loss: 61.9778 - val_mse: 61.9778\n",
      "Epoch 146/10000\n",
      "1/1 [==============================] - 0s 150ms/step - loss: 64.2282 - mse: 64.2282 - val_loss: 63.9270 - val_mse: 63.9270\n",
      "Epoch 147/10000\n",
      "1/1 [==============================] - 0s 149ms/step - loss: 57.7422 - mse: 57.7422 - val_loss: 59.7415 - val_mse: 59.7415\n",
      "Epoch 148/10000\n",
      "1/1 [==============================] - 0s 151ms/step - loss: 58.4678 - mse: 58.4678 - val_loss: 58.8938 - val_mse: 58.8938\n",
      "Epoch 149/10000\n",
      "1/1 [==============================] - 0s 146ms/step - loss: 53.9045 - mse: 53.9045 - val_loss: 60.6350 - val_mse: 60.6350\n",
      "Epoch 150/10000\n",
      "1/1 [==============================] - 0s 152ms/step - loss: 65.3613 - mse: 65.3613 - val_loss: 54.7548 - val_mse: 54.7548\n",
      "Epoch 151/10000\n",
      "1/1 [==============================] - 0s 153ms/step - loss: 54.3701 - mse: 54.3701 - val_loss: 41.9997 - val_mse: 41.9997\n",
      "Epoch 152/10000\n",
      "1/1 [==============================] - 0s 149ms/step - loss: 69.8486 - mse: 69.8486 - val_loss: 42.0033 - val_mse: 42.0033\n",
      "Epoch 153/10000\n",
      "1/1 [==============================] - 0s 148ms/step - loss: 72.7551 - mse: 72.7551 - val_loss: 47.3162 - val_mse: 47.3162\n",
      "Epoch 154/10000\n",
      "1/1 [==============================] - 0s 153ms/step - loss: 63.3743 - mse: 63.3743 - val_loss: 46.3620 - val_mse: 46.3620\n",
      "Epoch 155/10000\n",
      "1/1 [==============================] - 0s 152ms/step - loss: 56.6330 - mse: 56.6330 - val_loss: 47.7984 - val_mse: 47.7984\n",
      "Epoch 156/10000\n",
      "1/1 [==============================] - 0s 268ms/step - loss: 71.6909 - mse: 71.6909 - val_loss: 45.0793 - val_mse: 45.0793\n",
      "Epoch 157/10000\n",
      "1/1 [==============================] - 0s 152ms/step - loss: 58.4189 - mse: 58.4189 - val_loss: 43.6710 - val_mse: 43.6710\n",
      "Epoch 158/10000\n",
      "1/1 [==============================] - 0s 154ms/step - loss: 52.7905 - mse: 52.7905 - val_loss: 40.3224 - val_mse: 40.3224\n",
      "Epoch 159/10000\n",
      "1/1 [==============================] - 0s 151ms/step - loss: 61.3392 - mse: 61.3392 - val_loss: 38.6104 - val_mse: 38.6104\n",
      "Epoch 160/10000\n",
      "1/1 [==============================] - 0s 150ms/step - loss: 44.1217 - mse: 44.1217 - val_loss: 37.4933 - val_mse: 37.4933\n",
      "Epoch 161/10000\n",
      "1/1 [==============================] - 0s 154ms/step - loss: 42.6558 - mse: 42.6558 - val_loss: 35.8770 - val_mse: 35.8770\n",
      "Epoch 162/10000\n",
      "1/1 [==============================] - 0s 150ms/step - loss: 60.6481 - mse: 60.6481 - val_loss: 42.4729 - val_mse: 42.4729\n",
      "Epoch 163/10000\n",
      "1/1 [==============================] - 0s 150ms/step - loss: 67.1078 - mse: 67.1078 - val_loss: 44.0628 - val_mse: 44.0628\n",
      "Epoch 164/10000\n",
      "1/1 [==============================] - 0s 148ms/step - loss: 48.7266 - mse: 48.7266 - val_loss: 37.3235 - val_mse: 37.3235\n",
      "Epoch 165/10000\n",
      "1/1 [==============================] - 0s 147ms/step - loss: 57.0581 - mse: 57.0581 - val_loss: 38.4616 - val_mse: 38.4616\n",
      "Epoch 166/10000\n",
      "1/1 [==============================] - 0s 148ms/step - loss: 50.2094 - mse: 50.2094 - val_loss: 50.0937 - val_mse: 50.0937\n",
      "Epoch 167/10000\n",
      "1/1 [==============================] - 0s 154ms/step - loss: 43.4491 - mse: 43.4491 - val_loss: 66.4165 - val_mse: 66.4165\n",
      "Epoch 168/10000\n",
      "1/1 [==============================] - 0s 150ms/step - loss: 62.3868 - mse: 62.3868 - val_loss: 71.1094 - val_mse: 71.1094\n",
      "Epoch 169/10000\n",
      "1/1 [==============================] - 0s 149ms/step - loss: 42.0863 - mse: 42.0863 - val_loss: 95.6707 - val_mse: 95.6707\n",
      "Epoch 170/10000\n",
      "1/1 [==============================] - 0s 152ms/step - loss: 72.7601 - mse: 72.7601 - val_loss: 95.6289 - val_mse: 95.6289\n",
      "Epoch 171/10000\n",
      "1/1 [==============================] - 0s 149ms/step - loss: 66.7159 - mse: 66.7159 - val_loss: 159.5013 - val_mse: 159.5013\n",
      "Epoch 172/10000\n",
      "1/1 [==============================] - 0s 143ms/step - loss: 44.8278 - mse: 44.8278 - val_loss: 133.8795 - val_mse: 133.8795\n",
      "Epoch 173/10000\n",
      "1/1 [==============================] - 0s 145ms/step - loss: 56.6034 - mse: 56.6034 - val_loss: 65.9967 - val_mse: 65.9967\n",
      "Epoch 174/10000\n",
      "1/1 [==============================] - 0s 147ms/step - loss: 67.5133 - mse: 67.5133 - val_loss: 42.0058 - val_mse: 42.0058\n",
      "Epoch 175/10000\n",
      "1/1 [==============================] - 0s 152ms/step - loss: 56.6464 - mse: 56.6464 - val_loss: 36.0901 - val_mse: 36.0901\n"
     ]
    },
    {
     "name": "stdout",
     "output_type": "stream",
     "text": [
      "Epoch 176/10000\n",
      "1/1 [==============================] - 0s 148ms/step - loss: 52.3679 - mse: 52.3679 - val_loss: 36.7406 - val_mse: 36.7406\n",
      "Epoch 177/10000\n",
      "1/1 [==============================] - 0s 157ms/step - loss: 49.9984 - mse: 49.9984 - val_loss: 44.4797 - val_mse: 44.4797\n",
      "Epoch 178/10000\n",
      "1/1 [==============================] - 0s 150ms/step - loss: 55.6345 - mse: 55.6345 - val_loss: 43.2255 - val_mse: 43.2255\n",
      "Epoch 179/10000\n",
      "1/1 [==============================] - 0s 153ms/step - loss: 49.0404 - mse: 49.0404 - val_loss: 40.9546 - val_mse: 40.9546\n",
      "Epoch 180/10000\n",
      "1/1 [==============================] - 0s 152ms/step - loss: 58.6934 - mse: 58.6934 - val_loss: 37.0942 - val_mse: 37.0942\n",
      "Epoch 181/10000\n",
      "1/1 [==============================] - 0s 149ms/step - loss: 53.0753 - mse: 53.0753 - val_loss: 31.0710 - val_mse: 31.0710\n",
      "Epoch 182/10000\n",
      "1/1 [==============================] - 0s 148ms/step - loss: 47.0900 - mse: 47.0900 - val_loss: 30.5392 - val_mse: 30.5392\n",
      "Epoch 183/10000\n",
      "1/1 [==============================] - 0s 148ms/step - loss: 43.8291 - mse: 43.8291 - val_loss: 42.2463 - val_mse: 42.2463\n",
      "Epoch 184/10000\n",
      "1/1 [==============================] - 0s 152ms/step - loss: 47.6472 - mse: 47.6472 - val_loss: 40.6746 - val_mse: 40.6746\n",
      "Epoch 185/10000\n",
      "1/1 [==============================] - 0s 150ms/step - loss: 46.0877 - mse: 46.0877 - val_loss: 46.6279 - val_mse: 46.6279\n",
      "Epoch 186/10000\n",
      "1/1 [==============================] - 0s 152ms/step - loss: 53.9090 - mse: 53.9090 - val_loss: 46.9854 - val_mse: 46.9854\n",
      "Epoch 187/10000\n",
      "1/1 [==============================] - 0s 150ms/step - loss: 47.6348 - mse: 47.6348 - val_loss: 57.9154 - val_mse: 57.9154\n",
      "Epoch 188/10000\n",
      "1/1 [==============================] - 0s 154ms/step - loss: 47.0493 - mse: 47.0493 - val_loss: 69.4546 - val_mse: 69.4546\n",
      "Epoch 189/10000\n",
      "1/1 [==============================] - 0s 148ms/step - loss: 59.9942 - mse: 59.9942 - val_loss: 69.7510 - val_mse: 69.7510\n",
      "Epoch 190/10000\n",
      "1/1 [==============================] - 0s 151ms/step - loss: 52.8658 - mse: 52.8658 - val_loss: 61.7375 - val_mse: 61.7375\n",
      "Epoch 191/10000\n",
      "1/1 [==============================] - 0s 152ms/step - loss: 31.0169 - mse: 31.0169 - val_loss: 64.2901 - val_mse: 64.2901\n",
      "Epoch 192/10000\n",
      "1/1 [==============================] - 0s 152ms/step - loss: 41.9879 - mse: 41.9879 - val_loss: 66.4070 - val_mse: 66.4070\n",
      "Epoch 193/10000\n",
      "1/1 [==============================] - 0s 152ms/step - loss: 51.5996 - mse: 51.5996 - val_loss: 71.6034 - val_mse: 71.6034\n",
      "Epoch 194/10000\n",
      "1/1 [==============================] - 0s 149ms/step - loss: 50.1589 - mse: 50.1589 - val_loss: 79.4608 - val_mse: 79.4608\n",
      "Epoch 195/10000\n",
      "1/1 [==============================] - 0s 151ms/step - loss: 58.5287 - mse: 58.5287 - val_loss: 68.8645 - val_mse: 68.8645\n",
      "Epoch 196/10000\n",
      "1/1 [==============================] - 0s 157ms/step - loss: 38.0623 - mse: 38.0623 - val_loss: 74.2204 - val_mse: 74.2204\n",
      "Epoch 197/10000\n",
      "1/1 [==============================] - 0s 151ms/step - loss: 49.1733 - mse: 49.1733 - val_loss: 69.5192 - val_mse: 69.5192\n",
      "Epoch 198/10000\n",
      "1/1 [==============================] - 0s 150ms/step - loss: 53.6575 - mse: 53.6575 - val_loss: 50.0191 - val_mse: 50.0191\n",
      "Epoch 199/10000\n",
      "1/1 [==============================] - 0s 191ms/step - loss: 45.4193 - mse: 45.4193 - val_loss: 42.4498 - val_mse: 42.4498\n",
      "Epoch 200/10000\n",
      "1/1 [==============================] - 0s 149ms/step - loss: 54.0944 - mse: 54.0944 - val_loss: 41.7148 - val_mse: 41.7148\n",
      "Epoch 201/10000\n",
      "1/1 [==============================] - 0s 152ms/step - loss: 61.0267 - mse: 61.0267 - val_loss: 42.7368 - val_mse: 42.7368\n",
      "Epoch 202/10000\n",
      "1/1 [==============================] - 0s 265ms/step - loss: 46.0508 - mse: 46.0508 - val_loss: 69.9897 - val_mse: 69.9897\n",
      "Epoch 203/10000\n",
      "1/1 [==============================] - 0s 153ms/step - loss: 60.3437 - mse: 60.3437 - val_loss: 76.2474 - val_mse: 76.2474\n",
      "Epoch 204/10000\n",
      "1/1 [==============================] - 0s 148ms/step - loss: 73.4522 - mse: 73.4522 - val_loss: 50.9273 - val_mse: 50.9273\n",
      "Epoch 205/10000\n",
      "1/1 [==============================] - 0s 148ms/step - loss: 50.5443 - mse: 50.5443 - val_loss: 41.1626 - val_mse: 41.1626\n",
      "Epoch 206/10000\n",
      "1/1 [==============================] - 0s 154ms/step - loss: 69.2044 - mse: 69.2044 - val_loss: 53.4884 - val_mse: 53.4884\n",
      "Epoch 207/10000\n",
      "1/1 [==============================] - 0s 147ms/step - loss: 84.4058 - mse: 84.4058 - val_loss: 47.1002 - val_mse: 47.1002\n",
      "Epoch 208/10000\n",
      "1/1 [==============================] - 0s 151ms/step - loss: 90.3918 - mse: 90.3918 - val_loss: 42.0003 - val_mse: 42.0003\n",
      "Epoch 209/10000\n",
      "1/1 [==============================] - 0s 151ms/step - loss: 40.5236 - mse: 40.5236 - val_loss: 66.9691 - val_mse: 66.9691\n",
      "Epoch 210/10000\n",
      "1/1 [==============================] - 0s 150ms/step - loss: 71.2833 - mse: 71.2833 - val_loss: 70.9577 - val_mse: 70.9577\n",
      "Epoch 211/10000\n",
      "1/1 [==============================] - 0s 148ms/step - loss: 66.0423 - mse: 66.0423 - val_loss: 47.7805 - val_mse: 47.7805\n",
      "Epoch 212/10000\n",
      "1/1 [==============================] - 0s 149ms/step - loss: 39.5149 - mse: 39.5149 - val_loss: 32.1266 - val_mse: 32.1266\n",
      "Epoch 213/10000\n",
      "1/1 [==============================] - 0s 152ms/step - loss: 62.0806 - mse: 62.0806 - val_loss: 33.0898 - val_mse: 33.0898\n",
      "Epoch 214/10000\n",
      "1/1 [==============================] - 0s 149ms/step - loss: 59.4308 - mse: 59.4308 - val_loss: 32.6931 - val_mse: 32.6931\n",
      "Epoch 215/10000\n",
      "1/1 [==============================] - 0s 151ms/step - loss: 41.4758 - mse: 41.4758 - val_loss: 34.5488 - val_mse: 34.5488\n",
      "Epoch 216/10000\n",
      "1/1 [==============================] - 0s 154ms/step - loss: 42.4233 - mse: 42.4233 - val_loss: 56.6001 - val_mse: 56.6001\n",
      "Epoch 217/10000\n",
      "1/1 [==============================] - 0s 150ms/step - loss: 46.1818 - mse: 46.1818 - val_loss: 67.3331 - val_mse: 67.3331\n",
      "Epoch 218/10000\n",
      "1/1 [==============================] - 0s 152ms/step - loss: 43.6351 - mse: 43.6351 - val_loss: 55.0096 - val_mse: 55.0096\n",
      "Epoch 219/10000\n",
      "1/1 [==============================] - 0s 145ms/step - loss: 65.8364 - mse: 65.8364 - val_loss: 36.4757 - val_mse: 36.4757\n",
      "Epoch 220/10000\n",
      "1/1 [==============================] - 0s 192ms/step - loss: 41.6394 - mse: 41.6394 - val_loss: 33.7312 - val_mse: 33.7312\n",
      "Epoch 221/10000\n",
      "1/1 [==============================] - 0s 147ms/step - loss: 49.4815 - mse: 49.4815 - val_loss: 34.9366 - val_mse: 34.9366\n",
      "Epoch 222/10000\n",
      "1/1 [==============================] - 0s 147ms/step - loss: 46.6627 - mse: 46.6627 - val_loss: 40.8526 - val_mse: 40.8526\n",
      "Epoch 223/10000\n",
      "1/1 [==============================] - 0s 188ms/step - loss: 35.6670 - mse: 35.6670 - val_loss: 49.4215 - val_mse: 49.4215\n",
      "Epoch 224/10000\n",
      "1/1 [==============================] - 0s 148ms/step - loss: 50.3744 - mse: 50.3744 - val_loss: 46.5405 - val_mse: 46.5405\n",
      "Epoch 225/10000\n",
      "1/1 [==============================] - 0s 151ms/step - loss: 45.8868 - mse: 45.8868 - val_loss: 38.8684 - val_mse: 38.8684\n",
      "Epoch 226/10000\n",
      "1/1 [==============================] - 0s 151ms/step - loss: 29.4710 - mse: 29.4710 - val_loss: 36.0715 - val_mse: 36.0715\n",
      "Epoch 227/10000\n",
      "1/1 [==============================] - 0s 152ms/step - loss: 50.9082 - mse: 50.9082 - val_loss: 36.1326 - val_mse: 36.1326\n",
      "Epoch 228/10000\n",
      "1/1 [==============================] - 0s 147ms/step - loss: 42.2345 - mse: 42.2345 - val_loss: 41.2498 - val_mse: 41.2498\n",
      "Epoch 229/10000\n",
      "1/1 [==============================] - 0s 147ms/step - loss: 47.0115 - mse: 47.0115 - val_loss: 44.8121 - val_mse: 44.8121\n",
      "Epoch 230/10000\n",
      "1/1 [==============================] - 0s 148ms/step - loss: 47.3521 - mse: 47.3521 - val_loss: 40.2343 - val_mse: 40.2343\n",
      "Epoch 231/10000\n",
      "1/1 [==============================] - 0s 146ms/step - loss: 28.0090 - mse: 28.0090 - val_loss: 40.7519 - val_mse: 40.7519\n",
      "Epoch 232/10000\n",
      "1/1 [==============================] - 0s 146ms/step - loss: 54.2971 - mse: 54.2971 - val_loss: 43.6999 - val_mse: 43.6999\n",
      "Epoch 233/10000\n",
      "1/1 [==============================] - 0s 145ms/step - loss: 44.7594 - mse: 44.7594 - val_loss: 47.6685 - val_mse: 47.6685\n",
      "Epoch 234/10000\n",
      "1/1 [==============================] - 0s 150ms/step - loss: 36.5806 - mse: 36.5806 - val_loss: 41.7973 - val_mse: 41.7973\n"
     ]
    },
    {
     "name": "stdout",
     "output_type": "stream",
     "text": [
      "Epoch 235/10000\n",
      "1/1 [==============================] - 0s 146ms/step - loss: 50.7191 - mse: 50.7191 - val_loss: 40.4092 - val_mse: 40.4092\n",
      "Epoch 236/10000\n",
      "1/1 [==============================] - 0s 147ms/step - loss: 47.0159 - mse: 47.0159 - val_loss: 40.8081 - val_mse: 40.8081\n",
      "Epoch 237/10000\n",
      "1/1 [==============================] - 0s 145ms/step - loss: 41.4106 - mse: 41.4106 - val_loss: 52.2223 - val_mse: 52.2223\n",
      "Epoch 238/10000\n",
      "1/1 [==============================] - 0s 264ms/step - loss: 37.9805 - mse: 37.9805 - val_loss: 53.8499 - val_mse: 53.8499\n",
      "Epoch 239/10000\n",
      "1/1 [==============================] - 0s 144ms/step - loss: 40.5069 - mse: 40.5069 - val_loss: 42.4933 - val_mse: 42.4933\n",
      "Epoch 240/10000\n",
      "1/1 [==============================] - 0s 149ms/step - loss: 45.2617 - mse: 45.2617 - val_loss: 35.8195 - val_mse: 35.8195\n",
      "Epoch 241/10000\n",
      "1/1 [==============================] - 0s 144ms/step - loss: 57.7892 - mse: 57.7892 - val_loss: 36.4547 - val_mse: 36.4547\n",
      "Epoch 242/10000\n",
      "1/1 [==============================] - 0s 150ms/step - loss: 61.1357 - mse: 61.1357 - val_loss: 33.5686 - val_mse: 33.5686\n",
      "Epoch 243/10000\n",
      "1/1 [==============================] - 0s 147ms/step - loss: 45.5020 - mse: 45.5020 - val_loss: 47.3573 - val_mse: 47.3573\n",
      "Epoch 244/10000\n",
      "1/1 [==============================] - 0s 150ms/step - loss: 50.5864 - mse: 50.5864 - val_loss: 54.2557 - val_mse: 54.2557\n",
      "Epoch 245/10000\n",
      "1/1 [==============================] - 0s 149ms/step - loss: 32.3080 - mse: 32.3080 - val_loss: 44.0518 - val_mse: 44.0518\n",
      "Epoch 246/10000\n",
      "1/1 [==============================] - 0s 153ms/step - loss: 38.5806 - mse: 38.5806 - val_loss: 34.6066 - val_mse: 34.6066\n",
      "Epoch 247/10000\n",
      "1/1 [==============================] - 0s 148ms/step - loss: 34.1947 - mse: 34.1947 - val_loss: 35.6822 - val_mse: 35.6822\n",
      "Epoch 248/10000\n",
      "1/1 [==============================] - 0s 149ms/step - loss: 50.1889 - mse: 50.1889 - val_loss: 37.1759 - val_mse: 37.1759\n",
      "Epoch 249/10000\n",
      "1/1 [==============================] - 0s 148ms/step - loss: 45.6366 - mse: 45.6366 - val_loss: 45.8483 - val_mse: 45.8483\n",
      "Epoch 250/10000\n",
      "1/1 [==============================] - 0s 154ms/step - loss: 37.8413 - mse: 37.8413 - val_loss: 48.6785 - val_mse: 48.6785\n",
      "Epoch 251/10000\n",
      "1/1 [==============================] - 0s 153ms/step - loss: 46.0539 - mse: 46.0539 - val_loss: 43.1123 - val_mse: 43.1123\n",
      "Epoch 252/10000\n",
      "1/1 [==============================] - 0s 151ms/step - loss: 34.5424 - mse: 34.5424 - val_loss: 38.6988 - val_mse: 38.6988\n",
      "Epoch 253/10000\n",
      "1/1 [==============================] - 0s 147ms/step - loss: 24.4273 - mse: 24.4273 - val_loss: 35.3987 - val_mse: 35.3987\n",
      "Epoch 254/10000\n",
      "1/1 [==============================] - 0s 149ms/step - loss: 34.4722 - mse: 34.4722 - val_loss: 35.1860 - val_mse: 35.1860\n",
      "Epoch 255/10000\n",
      "1/1 [==============================] - 0s 148ms/step - loss: 36.7543 - mse: 36.7543 - val_loss: 41.2644 - val_mse: 41.2644\n",
      "Epoch 256/10000\n",
      "1/1 [==============================] - 0s 151ms/step - loss: 51.5928 - mse: 51.5928 - val_loss: 52.1278 - val_mse: 52.1278\n",
      "Epoch 257/10000\n",
      "1/1 [==============================] - 0s 150ms/step - loss: 47.2740 - mse: 47.2740 - val_loss: 47.5005 - val_mse: 47.5005\n",
      "Epoch 258/10000\n",
      "1/1 [==============================] - 0s 150ms/step - loss: 38.7088 - mse: 38.7088 - val_loss: 34.3657 - val_mse: 34.3657\n",
      "Epoch 259/10000\n",
      "1/1 [==============================] - 0s 146ms/step - loss: 39.0791 - mse: 39.0791 - val_loss: 32.8774 - val_mse: 32.8774\n",
      "Epoch 260/10000\n",
      "1/1 [==============================] - 0s 148ms/step - loss: 52.9432 - mse: 52.9432 - val_loss: 34.4974 - val_mse: 34.4974\n",
      "Epoch 261/10000\n",
      "1/1 [==============================] - 0s 148ms/step - loss: 68.5199 - mse: 68.5199 - val_loss: 34.9383 - val_mse: 34.9383\n",
      "Epoch 262/10000\n",
      "1/1 [==============================] - 0s 151ms/step - loss: 36.6885 - mse: 36.6885 - val_loss: 50.2967 - val_mse: 50.2967\n",
      "Epoch 263/10000\n",
      "1/1 [==============================] - 0s 152ms/step - loss: 36.9756 - mse: 36.9756 - val_loss: 73.5007 - val_mse: 73.5007\n",
      "Epoch 264/10000\n",
      "1/1 [==============================] - 0s 149ms/step - loss: 44.9314 - mse: 44.9314 - val_loss: 80.8090 - val_mse: 80.8090\n",
      "Epoch 265/10000\n",
      "1/1 [==============================] - 0s 146ms/step - loss: 47.8034 - mse: 47.8034 - val_loss: 63.4724 - val_mse: 63.4724\n",
      "Epoch 266/10000\n",
      "1/1 [==============================] - 0s 143ms/step - loss: 44.2402 - mse: 44.2402 - val_loss: 43.5101 - val_mse: 43.5101\n",
      "Epoch 267/10000\n",
      "1/1 [==============================] - 0s 144ms/step - loss: 44.0968 - mse: 44.0968 - val_loss: 38.4766 - val_mse: 38.4766\n",
      "Epoch 268/10000\n",
      "1/1 [==============================] - 0s 158ms/step - loss: 53.2144 - mse: 53.2144 - val_loss: 34.2401 - val_mse: 34.2401\n",
      "Epoch 269/10000\n",
      "1/1 [==============================] - 0s 263ms/step - loss: 52.7393 - mse: 52.7393 - val_loss: 31.1907 - val_mse: 31.1907\n",
      "Epoch 270/10000\n",
      "1/1 [==============================] - 0s 143ms/step - loss: 37.3694 - mse: 37.3694 - val_loss: 42.1398 - val_mse: 42.1398\n",
      "Epoch 271/10000\n",
      "1/1 [==============================] - 0s 148ms/step - loss: 40.1603 - mse: 40.1603 - val_loss: 53.3805 - val_mse: 53.3805\n",
      "Epoch 272/10000\n",
      "1/1 [==============================] - 0s 150ms/step - loss: 27.6384 - mse: 27.6384 - val_loss: 46.9732 - val_mse: 46.9732\n",
      "Epoch 273/10000\n",
      "1/1 [==============================] - 0s 147ms/step - loss: 36.9843 - mse: 36.9843 - val_loss: 33.8047 - val_mse: 33.8047\n",
      "Epoch 274/10000\n",
      "1/1 [==============================] - 0s 147ms/step - loss: 23.1122 - mse: 23.1122 - val_loss: 31.0683 - val_mse: 31.0683\n",
      "Epoch 275/10000\n",
      "1/1 [==============================] - 0s 143ms/step - loss: 38.3635 - mse: 38.3635 - val_loss: 35.7622 - val_mse: 35.7622\n",
      "Epoch 276/10000\n",
      "1/1 [==============================] - 0s 145ms/step - loss: 40.0316 - mse: 40.0316 - val_loss: 35.6542 - val_mse: 35.6542\n",
      "Epoch 277/10000\n",
      "1/1 [==============================] - 0s 143ms/step - loss: 24.4996 - mse: 24.4996 - val_loss: 33.2081 - val_mse: 33.2081\n",
      "Epoch 278/10000\n",
      "1/1 [==============================] - 0s 145ms/step - loss: 40.1227 - mse: 40.1227 - val_loss: 32.9819 - val_mse: 32.9819\n",
      "Epoch 279/10000\n",
      "1/1 [==============================] - 0s 151ms/step - loss: 35.9542 - mse: 35.9542 - val_loss: 37.3573 - val_mse: 37.3573\n",
      "Epoch 280/10000\n",
      "1/1 [==============================] - 0s 145ms/step - loss: 31.7150 - mse: 31.7150 - val_loss: 39.0587 - val_mse: 39.0587\n",
      "Epoch 281/10000\n",
      "1/1 [==============================] - 0s 150ms/step - loss: 39.4825 - mse: 39.4825 - val_loss: 40.9026 - val_mse: 40.9026\n",
      "Epoch 282/10000\n",
      "1/1 [==============================] - 0s 152ms/step - loss: 39.6236 - mse: 39.6236 - val_loss: 42.2842 - val_mse: 42.2842\n",
      "Epoch 283/10000\n",
      "1/1 [==============================] - 0s 149ms/step - loss: 55.1621 - mse: 55.1621 - val_loss: 43.4253 - val_mse: 43.4253\n",
      "Epoch 284/10000\n",
      "1/1 [==============================] - 0s 149ms/step - loss: 45.2744 - mse: 45.2744 - val_loss: 50.6661 - val_mse: 50.6661\n",
      "Epoch 285/10000\n",
      "1/1 [==============================] - 0s 151ms/step - loss: 46.0825 - mse: 46.0825 - val_loss: 58.8101 - val_mse: 58.8101\n",
      "Epoch 286/10000\n",
      "1/1 [==============================] - 0s 152ms/step - loss: 35.2326 - mse: 35.2326 - val_loss: 52.8859 - val_mse: 52.8859\n",
      "Epoch 287/10000\n",
      "1/1 [==============================] - 0s 147ms/step - loss: 48.0126 - mse: 48.0126 - val_loss: 45.9952 - val_mse: 45.9952\n",
      "Epoch 288/10000\n",
      "1/1 [==============================] - 0s 149ms/step - loss: 29.9719 - mse: 29.9719 - val_loss: 42.0493 - val_mse: 42.0493\n",
      "Epoch 289/10000\n",
      "1/1 [==============================] - 0s 146ms/step - loss: 36.1716 - mse: 36.1716 - val_loss: 40.4678 - val_mse: 40.4678\n",
      "Epoch 290/10000\n",
      "1/1 [==============================] - 0s 145ms/step - loss: 28.4249 - mse: 28.4249 - val_loss: 43.3491 - val_mse: 43.3491\n",
      "Epoch 291/10000\n",
      "1/1 [==============================] - 0s 140ms/step - loss: 31.0494 - mse: 31.0494 - val_loss: 40.6577 - val_mse: 40.6577\n",
      "Epoch 292/10000\n",
      "1/1 [==============================] - 0s 146ms/step - loss: 31.4863 - mse: 31.4863 - val_loss: 44.9380 - val_mse: 44.9380\n",
      "Epoch 293/10000\n",
      "1/1 [==============================] - 0s 143ms/step - loss: 32.0584 - mse: 32.0584 - val_loss: 40.2229 - val_mse: 40.2229\n"
     ]
    },
    {
     "name": "stdout",
     "output_type": "stream",
     "text": [
      "Epoch 294/10000\n",
      "1/1 [==============================] - 0s 146ms/step - loss: 45.3321 - mse: 45.3321 - val_loss: 41.5195 - val_mse: 41.5195\n",
      "Epoch 295/10000\n",
      "1/1 [==============================] - 0s 142ms/step - loss: 19.8541 - mse: 19.8541 - val_loss: 51.4223 - val_mse: 51.4223\n",
      "Epoch 296/10000\n",
      "1/1 [==============================] - 0s 137ms/step - loss: 31.1072 - mse: 31.1072 - val_loss: 48.8027 - val_mse: 48.8027\n",
      "Epoch 297/10000\n",
      "1/1 [==============================] - 0s 138ms/step - loss: 31.1729 - mse: 31.1729 - val_loss: 44.0006 - val_mse: 44.0006\n",
      "Epoch 298/10000\n",
      "1/1 [==============================] - 0s 142ms/step - loss: 34.0155 - mse: 34.0155 - val_loss: 45.3924 - val_mse: 45.3924\n",
      "Epoch 299/10000\n",
      "1/1 [==============================] - 0s 141ms/step - loss: 36.7684 - mse: 36.7684 - val_loss: 52.8625 - val_mse: 52.8625\n",
      "Epoch 300/10000\n",
      "1/1 [==============================] - 0s 142ms/step - loss: 30.7253 - mse: 30.7253 - val_loss: 52.3921 - val_mse: 52.3921\n",
      "Epoch 301/10000\n",
      "1/1 [==============================] - 0s 140ms/step - loss: 27.5061 - mse: 27.5061 - val_loss: 46.2615 - val_mse: 46.2615\n",
      "Epoch 302/10000\n",
      "1/1 [==============================] - 0s 143ms/step - loss: 26.2460 - mse: 26.2460 - val_loss: 45.0202 - val_mse: 45.0202\n",
      "Epoch 303/10000\n",
      "1/1 [==============================] - 0s 138ms/step - loss: 29.2266 - mse: 29.2266 - val_loss: 45.8288 - val_mse: 45.8288\n",
      "Epoch 304/10000\n",
      "1/1 [==============================] - 0s 139ms/step - loss: 28.5777 - mse: 28.5777 - val_loss: 45.3783 - val_mse: 45.3783\n",
      "Epoch 305/10000\n",
      "1/1 [==============================] - 0s 139ms/step - loss: 27.7226 - mse: 27.7226 - val_loss: 50.3728 - val_mse: 50.3728\n",
      "Epoch 306/10000\n",
      "1/1 [==============================] - 0s 140ms/step - loss: 40.4023 - mse: 40.4023 - val_loss: 48.1055 - val_mse: 48.1055\n",
      "Epoch 307/10000\n",
      "1/1 [==============================] - 0s 141ms/step - loss: 28.9975 - mse: 28.9975 - val_loss: 38.6812 - val_mse: 38.6812\n",
      "Epoch 308/10000\n",
      "1/1 [==============================] - 0s 137ms/step - loss: 28.1960 - mse: 28.1960 - val_loss: 41.4301 - val_mse: 41.4301\n",
      "Epoch 309/10000\n",
      "1/1 [==============================] - 0s 137ms/step - loss: 37.2483 - mse: 37.2483 - val_loss: 51.0527 - val_mse: 51.0527\n",
      "Epoch 310/10000\n",
      "1/1 [==============================] - 0s 140ms/step - loss: 27.8277 - mse: 27.8277 - val_loss: 51.0245 - val_mse: 51.0245\n",
      "Epoch 311/10000\n",
      "1/1 [==============================] - 0s 140ms/step - loss: 34.5233 - mse: 34.5233 - val_loss: 43.2663 - val_mse: 43.2663\n",
      "Epoch 312/10000\n",
      "1/1 [==============================] - 0s 138ms/step - loss: 32.4115 - mse: 32.4115 - val_loss: 44.6930 - val_mse: 44.6930\n",
      "Epoch 313/10000\n",
      "1/1 [==============================] - 0s 142ms/step - loss: 28.9235 - mse: 28.9235 - val_loss: 53.4941 - val_mse: 53.4941\n",
      "Epoch 314/10000\n",
      "1/1 [==============================] - ETA: 0s - loss: 29.1179 - mse: 29.117 - 0s 246ms/step - loss: 29.1179 - mse: 29.1179 - val_loss: 57.5000 - val_mse: 57.5000\n",
      "Epoch 315/10000\n",
      "1/1 [==============================] - 0s 148ms/step - loss: 28.5058 - mse: 28.5058 - val_loss: 50.4859 - val_mse: 50.4859\n",
      "Epoch 316/10000\n",
      "1/1 [==============================] - 0s 139ms/step - loss: 39.2128 - mse: 39.2128 - val_loss: 46.5705 - val_mse: 46.5705\n",
      "Epoch 317/10000\n",
      "1/1 [==============================] - 0s 142ms/step - loss: 29.0837 - mse: 29.0837 - val_loss: 45.8745 - val_mse: 45.8745\n",
      "Epoch 318/10000\n",
      "1/1 [==============================] - 0s 142ms/step - loss: 28.6965 - mse: 28.6965 - val_loss: 53.7012 - val_mse: 53.7012\n",
      "Epoch 319/10000\n",
      "1/1 [==============================] - 0s 141ms/step - loss: 26.8013 - mse: 26.8013 - val_loss: 53.7464 - val_mse: 53.7464\n",
      "Epoch 320/10000\n",
      "1/1 [==============================] - 0s 141ms/step - loss: 30.2116 - mse: 30.2116 - val_loss: 44.8603 - val_mse: 44.8603\n",
      "Epoch 321/10000\n",
      "1/1 [==============================] - 0s 139ms/step - loss: 25.3664 - mse: 25.3664 - val_loss: 45.1814 - val_mse: 45.1814\n",
      "Epoch 322/10000\n",
      "1/1 [==============================] - 0s 140ms/step - loss: 29.1987 - mse: 29.1987 - val_loss: 49.9999 - val_mse: 49.9999\n",
      "Epoch 323/10000\n",
      "1/1 [==============================] - 0s 137ms/step - loss: 29.1558 - mse: 29.1558 - val_loss: 49.4689 - val_mse: 49.4689\n",
      "Epoch 324/10000\n",
      "1/1 [==============================] - 0s 140ms/step - loss: 25.0058 - mse: 25.0058 - val_loss: 52.7044 - val_mse: 52.7044\n",
      "Epoch 325/10000\n",
      "1/1 [==============================] - 0s 141ms/step - loss: 20.7094 - mse: 20.7094 - val_loss: 44.3931 - val_mse: 44.3931\n",
      "Epoch 326/10000\n",
      "1/1 [==============================] - 0s 142ms/step - loss: 29.3118 - mse: 29.3118 - val_loss: 39.3384 - val_mse: 39.3384\n",
      "Epoch 327/10000\n",
      "1/1 [==============================] - 0s 140ms/step - loss: 47.5626 - mse: 47.5626 - val_loss: 39.9484 - val_mse: 39.9484\n",
      "Epoch 328/10000\n",
      "1/1 [==============================] - 0s 144ms/step - loss: 52.5571 - mse: 52.5571 - val_loss: 39.3142 - val_mse: 39.3142\n",
      "Epoch 329/10000\n",
      "1/1 [==============================] - 0s 147ms/step - loss: 26.3238 - mse: 26.3238 - val_loss: 51.1019 - val_mse: 51.1019\n",
      "Epoch 330/10000\n",
      "1/1 [==============================] - 0s 141ms/step - loss: 32.4684 - mse: 32.4684 - val_loss: 59.8490 - val_mse: 59.8490\n",
      "Epoch 331/10000\n",
      "1/1 [==============================] - 0s 140ms/step - loss: 42.2403 - mse: 42.2403 - val_loss: 50.8144 - val_mse: 50.8144\n",
      "Epoch 332/10000\n",
      "1/1 [==============================] - 0s 140ms/step - loss: 26.3444 - mse: 26.3444 - val_loss: 37.8020 - val_mse: 37.8020\n",
      "Epoch 333/10000\n",
      "1/1 [==============================] - 0s 140ms/step - loss: 33.4665 - mse: 33.4665 - val_loss: 36.5240 - val_mse: 36.5240\n",
      "Epoch 334/10000\n",
      "1/1 [==============================] - 0s 140ms/step - loss: 40.9541 - mse: 40.9541 - val_loss: 38.6035 - val_mse: 38.6035\n",
      "Epoch 335/10000\n",
      "1/1 [==============================] - 0s 139ms/step - loss: 26.0436 - mse: 26.0436 - val_loss: 52.7435 - val_mse: 52.7435\n",
      "Epoch 336/10000\n",
      "1/1 [==============================] - 0s 141ms/step - loss: 35.8810 - mse: 35.8810 - val_loss: 57.5677 - val_mse: 57.5677\n",
      "Epoch 337/10000\n",
      "1/1 [==============================] - 0s 139ms/step - loss: 29.0358 - mse: 29.0358 - val_loss: 48.5823 - val_mse: 48.5823\n",
      "Epoch 338/10000\n",
      "1/1 [==============================] - 0s 138ms/step - loss: 30.4038 - mse: 30.4038 - val_loss: 40.8727 - val_mse: 40.8727\n",
      "Epoch 339/10000\n",
      "1/1 [==============================] - 0s 140ms/step - loss: 29.2769 - mse: 29.2769 - val_loss: 36.4400 - val_mse: 36.4400\n",
      "Epoch 340/10000\n",
      "1/1 [==============================] - 0s 138ms/step - loss: 34.1706 - mse: 34.1706 - val_loss: 37.1399 - val_mse: 37.1399\n",
      "Epoch 341/10000\n",
      "1/1 [==============================] - 0s 136ms/step - loss: 36.0359 - mse: 36.0359 - val_loss: 43.8868 - val_mse: 43.8868\n",
      "Epoch 342/10000\n",
      "1/1 [==============================] - 0s 139ms/step - loss: 34.5442 - mse: 34.5442 - val_loss: 48.7241 - val_mse: 48.7241\n",
      "Epoch 343/10000\n",
      "1/1 [==============================] - 0s 142ms/step - loss: 28.4289 - mse: 28.4289 - val_loss: 50.3179 - val_mse: 50.3179\n",
      "Epoch 344/10000\n",
      "1/1 [==============================] - 0s 139ms/step - loss: 26.6564 - mse: 26.6564 - val_loss: 51.4077 - val_mse: 51.4077\n",
      "Epoch 345/10000\n",
      "1/1 [==============================] - 0s 139ms/step - loss: 35.1725 - mse: 35.1725 - val_loss: 58.8008 - val_mse: 58.8008\n",
      "Epoch 346/10000\n",
      "1/1 [==============================] - 0s 140ms/step - loss: 30.3524 - mse: 30.3524 - val_loss: 64.0590 - val_mse: 64.0590\n",
      "Epoch 347/10000\n",
      "1/1 [==============================] - 0s 140ms/step - loss: 37.8846 - mse: 37.8846 - val_loss: 56.9146 - val_mse: 56.9146\n",
      "Epoch 348/10000\n",
      "1/1 [==============================] - 0s 143ms/step - loss: 35.7155 - mse: 35.7155 - val_loss: 46.0045 - val_mse: 46.0045\n",
      "Epoch 349/10000\n",
      "1/1 [==============================] - 0s 141ms/step - loss: 26.6848 - mse: 26.6848 - val_loss: 43.9227 - val_mse: 43.9227\n",
      "Epoch 350/10000\n",
      "1/1 [==============================] - 0s 251ms/step - loss: 36.0475 - mse: 36.0475 - val_loss: 46.8573 - val_mse: 46.8573\n",
      "Epoch 351/10000\n",
      "1/1 [==============================] - 0s 143ms/step - loss: 30.0108 - mse: 30.0108 - val_loss: 58.4552 - val_mse: 58.4552\n",
      "Epoch 352/10000\n",
      "1/1 [==============================] - 0s 140ms/step - loss: 25.7377 - mse: 25.7377 - val_loss: 58.5733 - val_mse: 58.5733\n",
      "Epoch 353/10000\n",
      "1/1 [==============================] - 0s 141ms/step - loss: 36.5271 - mse: 36.5271 - val_loss: 47.0515 - val_mse: 47.0515\n",
      "Epoch 354/10000\n",
      "1/1 [==============================] - 0s 141ms/step - loss: 30.6031 - mse: 30.6031 - val_loss: 41.1741 - val_mse: 41.1741\n",
      "Epoch 355/10000\n",
      "1/1 [==============================] - 0s 143ms/step - loss: 37.6228 - mse: 37.6228 - val_loss: 40.7739 - val_mse: 40.7739\n",
      "Epoch 356/10000\n",
      "1/1 [==============================] - 0s 136ms/step - loss: 27.1459 - mse: 27.1459 - val_loss: 46.5650 - val_mse: 46.5650\n",
      "Epoch 357/10000\n",
      "1/1 [==============================] - 0s 139ms/step - loss: 19.4453 - mse: 19.4453 - val_loss: 70.4044 - val_mse: 70.4044\n",
      "Epoch 358/10000\n",
      "1/1 [==============================] - 0s 139ms/step - loss: 42.0220 - mse: 42.0220 - val_loss: 80.4030 - val_mse: 80.4030\n",
      "Epoch 359/10000\n",
      "1/1 [==============================] - 0s 137ms/step - loss: 42.4868 - mse: 42.4868 - val_loss: 69.8649 - val_mse: 69.8649\n",
      "Epoch 360/10000\n",
      "1/1 [==============================] - 0s 139ms/step - loss: 37.3633 - mse: 37.3633 - val_loss: 50.3677 - val_mse: 50.3677\n",
      "Epoch 361/10000\n",
      "1/1 [==============================] - 0s 138ms/step - loss: 31.4212 - mse: 31.4212 - val_loss: 39.5262 - val_mse: 39.5262\n",
      "Epoch 362/10000\n",
      "1/1 [==============================] - 0s 142ms/step - loss: 34.0950 - mse: 34.0950 - val_loss: 38.9892 - val_mse: 38.9892\n",
      "Epoch 363/10000\n",
      "1/1 [==============================] - 0s 137ms/step - loss: 38.5282 - mse: 38.5282 - val_loss: 38.0360 - val_mse: 38.0360\n",
      "Epoch 364/10000\n",
      "1/1 [==============================] - 0s 139ms/step - loss: 35.3866 - mse: 35.3866 - val_loss: 38.4296 - val_mse: 38.4296\n",
      "Epoch 365/10000\n",
      "1/1 [==============================] - 0s 140ms/step - loss: 19.9058 - mse: 19.9058 - val_loss: 47.8328 - val_mse: 47.8328\n",
      "Epoch 366/10000\n",
      "1/1 [==============================] - 0s 142ms/step - loss: 30.3766 - mse: 30.3766 - val_loss: 52.2992 - val_mse: 52.2992\n",
      "Epoch 367/10000\n",
      "1/1 [==============================] - 0s 139ms/step - loss: 27.4925 - mse: 27.4925 - val_loss: 46.3133 - val_mse: 46.3133\n",
      "Epoch 368/10000\n",
      "1/1 [==============================] - 0s 141ms/step - loss: 32.8999 - mse: 32.8999 - val_loss: 39.6621 - val_mse: 39.6621\n",
      "Epoch 369/10000\n",
      "1/1 [==============================] - 0s 142ms/step - loss: 32.1822 - mse: 32.1822 - val_loss: 40.5764 - val_mse: 40.5764\n",
      "Epoch 370/10000\n",
      "1/1 [==============================] - 0s 138ms/step - loss: 27.3632 - mse: 27.3632 - val_loss: 41.8734 - val_mse: 41.8734\n",
      "Epoch 371/10000\n",
      "1/1 [==============================] - 0s 143ms/step - loss: 35.5840 - mse: 35.5840 - val_loss: 42.1259 - val_mse: 42.1259\n",
      "Epoch 372/10000\n",
      "1/1 [==============================] - 0s 137ms/step - loss: 28.5856 - mse: 28.5856 - val_loss: 53.9910 - val_mse: 53.9910\n",
      "Epoch 373/10000\n",
      "1/1 [==============================] - 0s 138ms/step - loss: 38.1113 - mse: 38.1113 - val_loss: 65.9427 - val_mse: 65.9427\n",
      "Epoch 374/10000\n",
      "1/1 [==============================] - 0s 138ms/step - loss: 29.9332 - mse: 29.9332 - val_loss: 60.5895 - val_mse: 60.5895\n",
      "Epoch 375/10000\n",
      "1/1 [==============================] - 0s 155ms/step - loss: 30.6518 - mse: 30.6518 - val_loss: 46.2406 - val_mse: 46.2406\n",
      "Epoch 376/10000\n",
      "1/1 [==============================] - 0s 140ms/step - loss: 22.2698 - mse: 22.2698 - val_loss: 41.1006 - val_mse: 41.1006\n",
      "Epoch 377/10000\n",
      "1/1 [==============================] - 0s 136ms/step - loss: 26.0593 - mse: 26.0593 - val_loss: 40.2032 - val_mse: 40.2032\n",
      "Epoch 378/10000\n",
      "1/1 [==============================] - 0s 140ms/step - loss: 23.4421 - mse: 23.4421 - val_loss: 41.2483 - val_mse: 41.2483\n",
      "Epoch 379/10000\n",
      "1/1 [==============================] - 0s 138ms/step - loss: 20.0903 - mse: 20.0903 - val_loss: 45.5885 - val_mse: 45.5885\n",
      "Epoch 380/10000\n",
      "1/1 [==============================] - 0s 140ms/step - loss: 29.3060 - mse: 29.3060 - val_loss: 52.2185 - val_mse: 52.2185\n",
      "Epoch 381/10000\n",
      "1/1 [==============================] - 0s 246ms/step - loss: 37.2458 - mse: 37.2458 - val_loss: 48.0916 - val_mse: 48.0916\n",
      "Epoch 382/10000\n",
      "1/1 [==============================] - 0s 143ms/step - loss: 33.6695 - mse: 33.6695 - val_loss: 38.7590 - val_mse: 38.7590\n"
     ]
    }
   ],
   "source": [
    "EPOCHS = 10000\n",
    "history = model.fit(\n",
    "    train_ds_b, \n",
    "    validation_data=val_ds_b,  \n",
    "    epochs=EPOCHS,\n",
    "    callbacks=[callback]\n",
    ")"
   ]
  },
  {
   "cell_type": "code",
   "execution_count": 15,
   "metadata": {},
   "outputs": [
    {
     "data": {
      "image/png": "[encoded data removed]",
      "text/plain": [
       "<Figure size 432x288 with 1 Axes>"
      ]
     },
     "metadata": {
      "needs_background": "light"
     },
     "output_type": "display_data"
    }
   ],
   "source": [
    "metrics = history.history\n",
    "plt.plot(history.epoch, np.sqrt(metrics['mse']), np.sqrt(metrics['val_mse']))\n",
    "plt.legend(['rmse', 'val_rmse'])\n",
    "plt.show()"
   ]
  },
  {
   "cell_type": "code",
   "execution_count": 16,
   "metadata": {},
   "outputs": [
    {
     "name": "stdout",
     "output_type": "stream",
     "text": [
      "1/1 [==============================] - 0s 83ms/step - loss: 38.7590 - mse: 38.7590\n"
     ]
    },
    {
     "data": {
      "text/plain": [
       "array([6.22567593, 6.22567593])"
      ]
     },
     "execution_count": 16,
     "metadata": {},
     "output_type": "execute_result"
    }
   ],
   "source": [
    "np.sqrt(model.evaluate(val_ds.batch(batch_size)))"
   ]
  },
  {
   "cell_type": "code",
   "execution_count": 17,
   "metadata": {},
   "outputs": [
    {
     "name": "stdout",
     "output_type": "stream",
     "text": [
      "1/1 [==============================] - 1s 702ms/step - loss: 70.5698 - mse: 70.5698\n"
     ]
    },
    {
     "data": {
      "text/plain": [
       "array([8.40058112, 8.40058112])"
      ]
     },
     "execution_count": 17,
     "metadata": {},
     "output_type": "execute_result"
    }
   ],
   "source": [
    "np.sqrt(model.evaluate(test_ds.batch(batch_size)))"
   ]
  },
  {
   "cell_type": "code",
   "execution_count": 31,
   "metadata": {},
   "outputs": [
    {
     "data": {
      "text/plain": [
       "<tf.Tensor: shape=(), dtype=string, numpy=b'/tf/data/dementia/0extra/ADReSS-IS2020-data/train/Full_wave_enhanced_audio/cc/S012.wav'>"
      ]
     },
     "execution_count": 31,
     "metadata": {},
     "output_type": "execute_result"
    }
   ],
   "source": [
    "train_files[0]"
   ]
  },
  {
   "cell_type": "code",
   "execution_count": 32,
   "metadata": {},
   "outputs": [
    {
     "name": "stdout",
     "output_type": "stream",
     "text": [
      "1/1 - 0s\n"
     ]
    },
    {
     "data": {
      "text/plain": [
       "array([[27.613955]], dtype=float32)"
      ]
     },
     "execution_count": 32,
     "metadata": {},
     "output_type": "execute_result"
    }
   ],
   "source": [
    "model.predict(preprocess_dataset([train_files[0]]).batch(30), verbose=2)"
   ]
  },
  {
   "cell_type": "code",
   "execution_count": 33,
   "metadata": {},
   "outputs": [
    {
     "data": {
      "text/plain": [
       "array([[27.613953],\n",
       "       [27.926525],\n",
       "       [28.089151],\n",
       "       [27.852127],\n",
       "       [27.772894],\n",
       "       [27.663982],\n",
       "       [26.987913],\n",
       "       [26.662405],\n",
       "       [26.406897],\n",
       "       [26.453966],\n",
       "       [27.014967],\n",
       "       [27.170177],\n",
       "       [26.678186],\n",
       "       [25.764532],\n",
       "       [25.767687]], dtype=float32)"
      ]
     },
     "execution_count": 33,
     "metadata": {},
     "output_type": "execute_result"
    }
   ],
   "source": [
    "model.predict(get_data(train_files[0])[0])"
   ]
  },
  {
   "cell_type": "code",
   "execution_count": 36,
   "metadata": {},
   "outputs": [
    {
     "data": {
      "text/plain": [
       "27.055023"
      ]
     },
     "execution_count": 36,
     "metadata": {},
     "output_type": "execute_result"
    }
   ],
   "source": [
    "model.predict(get_data(train_files[0])[0]).mean()"
   ]
  },
  {
   "cell_type": "code",
   "execution_count": 35,
   "metadata": {},
   "outputs": [
    {
     "data": {
      "text/plain": [
       "<tf.Tensor: shape=(), dtype=int64, numpy=29>"
      ]
     },
     "execution_count": 35,
     "metadata": {},
     "output_type": "execute_result"
    }
   ],
   "source": [
    "get_data(train_files[0])[1]"
   ]
  },
  {
   "cell_type": "code",
   "execution_count": 21,
   "metadata": {},
   "outputs": [],
   "source": [
    "meta = meta.assign(split = '', predict = -99.99, predict_group = 'cc')\n",
    "for file in train_files:\n",
    "    ID = file.numpy().decode('utf-8').split('/')[-1].split('.')[0]\n",
    "    predict = model.predict(get_data(file)[0]).mean()\n",
    "    meta.at[np.where(meta.ID == (ID + ' '))[0][0], 'predict'] = max(1, min(predict, 30))\n",
    "    meta.at[np.where(meta.ID == (ID + ' '))[0][0], 'split'] = 'train'\n",
    "    if (predict < 24):\n",
    "        meta.at[np.where(meta.ID == (ID + ' '))[0][0], 'predict_group'] = 'cd'\n",
    "for file in test_files:\n",
    "    ID = file.numpy().decode('utf-8').split('/')[-1].split('.')[0]\n",
    "    predict = model.predict(get_data(file)[0]).mean()\n",
    "    meta.at[np.where(meta.ID == (ID + ' '))[0][0], 'predict'] = max(1, min(predict, 30))\n",
    "    meta.at[np.where(meta.ID == (ID + ' '))[0][0], 'split'] = 'test'\n",
    "    if (predict < 24):\n",
    "        meta.at[np.where(meta.ID == (ID + ' '))[0][0], 'predict_group'] = 'cd'\n",
    "for file in val_files:\n",
    "    ID = file.numpy().decode('utf-8').split('/')[-1].split('.')[0]\n",
    "    predict = model.predict(get_data(file)[0]).mean()\n",
    "    meta.at[np.where(meta.ID == (ID + ' '))[0][0], 'predict'] = max(1, min(predict, 30))\n",
    "    meta.at[np.where(meta.ID == (ID + ' '))[0][0], 'split'] = 'val'\n",
    "    if (predict < 24):\n",
    "        meta.at[np.where(meta.ID == (ID + ' '))[0][0], 'predict_group'] = 'cd'"
   ]
  },
  {
   "cell_type": "code",
   "execution_count": 22,
   "metadata": {},
   "outputs": [
    {
     "data": {
      "text/plain": [
       "count    108.000000\n",
       "mean      22.461428\n",
       "std        4.750969\n",
       "min        7.978041\n",
       "25%       19.454902\n",
       "50%       23.823333\n",
       "75%       26.175219\n",
       "max       29.372707\n",
       "Name: predict, dtype: float64"
      ]
     },
     "execution_count": 22,
     "metadata": {},
     "output_type": "execute_result"
    }
   ],
   "source": [
    "meta.predict.describe()"
   ]
  },
  {
   "cell_type": "code",
   "execution_count": 39,
   "metadata": {},
   "outputs": [
    {
     "data": {
      "text/html": [
       "<div>\n",
       "<style scoped>\n",
       "    .dataframe tbody tr th:only-of-type {\n",
       "        vertical-align: middle;\n",
       "    }\n",
       "\n",
       "    .dataframe tbody tr th {\n",
       "        vertical-align: top;\n",
       "    }\n",
       "\n",
       "    .dataframe thead th {\n",
       "        text-align: right;\n",
       "    }\n",
       "</style>\n",
       "<table border=\"1\" class=\"dataframe\">\n",
       "  <thead>\n",
       "    <tr style=\"text-align: right;\">\n",
       "      <th></th>\n",
       "      <th>split</th>\n",
       "      <th>rmse</th>\n",
       "    </tr>\n",
       "  </thead>\n",
       "  <tbody>\n",
       "    <tr>\n",
       "      <th>0</th>\n",
       "      <td>test</td>\n",
       "      <td>6.896728</td>\n",
       "    </tr>\n",
       "    <tr>\n",
       "      <th>1</th>\n",
       "      <td>train</td>\n",
       "      <td>5.046426</td>\n",
       "    </tr>\n",
       "    <tr>\n",
       "      <th>2</th>\n",
       "      <td>val</td>\n",
       "      <td>7.598230</td>\n",
       "    </tr>\n",
       "  </tbody>\n",
       "</table>\n",
       "</div>"
      ],
      "text/plain": [
       "   split      rmse\n",
       "0   test  6.896728\n",
       "1  train  5.046426\n",
       "2    val  7.598230"
      ]
     },
     "execution_count": 39,
     "metadata": {},
     "output_type": "execute_result"
    }
   ],
   "source": [
    "from sklearn.metrics import confusion_matrix, mean_squared_error, classification_report\n",
    "def cal_rmse(g):\n",
    "    rmse = np.sqrt(mean_squared_error(g['MMSE'], g['predict'] ) )\n",
    "    return pd.Series(dict(rmse = rmse ))\n",
    "\n",
    "meta.groupby('split').apply(cal_rmse).reset_index()"
   ]
  },
  {
   "cell_type": "code",
   "execution_count": 24,
   "metadata": {
    "scrolled": true
   },
   "outputs": [
    {
     "data": {
      "text/html": [
       "<div>\n",
       "<style scoped>\n",
       "    .dataframe tbody tr th:only-of-type {\n",
       "        vertical-align: middle;\n",
       "    }\n",
       "\n",
       "    .dataframe tbody tr th {\n",
       "        vertical-align: top;\n",
       "    }\n",
       "\n",
       "    .dataframe thead th {\n",
       "        text-align: right;\n",
       "    }\n",
       "</style>\n",
       "<table border=\"1\" class=\"dataframe\">\n",
       "  <thead>\n",
       "    <tr style=\"text-align: right;\">\n",
       "      <th></th>\n",
       "      <th>Gender</th>\n",
       "      <th>rmse</th>\n",
       "    </tr>\n",
       "  </thead>\n",
       "  <tbody>\n",
       "    <tr>\n",
       "      <th>0</th>\n",
       "      <td>female</td>\n",
       "      <td>5.670140</td>\n",
       "    </tr>\n",
       "    <tr>\n",
       "      <th>1</th>\n",
       "      <td>male</td>\n",
       "      <td>5.974397</td>\n",
       "    </tr>\n",
       "  </tbody>\n",
       "</table>\n",
       "</div>"
      ],
      "text/plain": [
       "     Gender      rmse\n",
       "0   female   5.670140\n",
       "1     male   5.974397"
      ]
     },
     "execution_count": 24,
     "metadata": {},
     "output_type": "execute_result"
    }
   ],
   "source": [
    "meta.groupby('Gender').apply(cal_rmse).reset_index()"
   ]
  },
  {
   "cell_type": "code",
   "execution_count": 25,
   "metadata": {},
   "outputs": [
    {
     "data": {
      "text/plain": [
       "5.8073335540360045"
      ]
     },
     "execution_count": 25,
     "metadata": {},
     "output_type": "execute_result"
    }
   ],
   "source": [
    "np.sqrt(mean_squared_error(meta['MMSE'], meta['predict'] ))"
   ]
  },
  {
   "cell_type": "code",
   "execution_count": 38,
   "metadata": {},
   "outputs": [
    {
     "data": {
      "text/plain": [
       "count    108.000000\n",
       "mean      23.092593\n",
       "std        7.215685\n",
       "min        1.000000\n",
       "25%       17.000000\n",
       "50%       27.000000\n",
       "75%       29.000000\n",
       "max       30.000000\n",
       "Name: MMSE, dtype: float64"
      ]
     },
     "execution_count": 38,
     "metadata": {},
     "output_type": "execute_result"
    }
   ],
   "source": [
    "meta.MMSE.describe()"
   ]
  },
  {
   "cell_type": "code",
   "execution_count": 26,
   "metadata": {},
   "outputs": [
    {
     "data": {
      "image/png": "[encoded data removed]",
      "text/plain": [
       "<Figure size 1500x800 with 3 Axes>"
      ]
     },
     "metadata": {},
     "output_type": "display_data"
    },
    {
     "data": {
      "text/plain": [
       "<ggplot: (-9223363255831778153)>"
      ]
     },
     "execution_count": 26,
     "metadata": {},
     "output_type": "execute_result"
    }
   ],
   "source": [
    "ggplot(meta) + \\\n",
    "geom_point(aes(x = 'MMSE', y = 'predict', colour = 'split')) + \\\n",
    "facet_wrap('split', nrow = 1) + \\\n",
    "geom_abline(aes(intercept = 0, slope = 1, lty = 2)) + \\\n",
    "geom_hline(aes(yintercept = 24, lty = 2)) + \\\n",
    "geom_vline(aes(xintercept = 24, lty = 2)) + \\\n",
    "theme(figure_size = (15, 8))"
   ]
  },
  {
   "cell_type": "code",
   "execution_count": 27,
   "metadata": {},
   "outputs": [
    {
     "data": {
      "text/plain": [
       "<matplotlib.axes._subplots.AxesSubplot at 0x7fc7dc13f080>"
      ]
     },
     "execution_count": 27,
     "metadata": {},
     "output_type": "execute_result"
    },
    {
     "data": {
      "image/png": "[encoded data removed]",
      "text/plain": [
       "<Figure size 720x504 with 2 Axes>"
      ]
     },
     "metadata": {
      "needs_background": "light"
     },
     "output_type": "display_data"
    }
   ],
   "source": [
    "y_true = meta.Group\n",
    "y_pred = meta.predict_group\n",
    "data = confusion_matrix(y_true, y_pred)\n",
    "df_cm = pd.DataFrame(data, columns=np.unique(y_true), index = np.unique(y_true))\n",
    "df_cm.index.name = 'Actual'\n",
    "df_cm.columns.name = 'Predicted'\n",
    "plt.figure(figsize = (10,7))\n",
    "sn.set(font_scale=1.4)#for label size\n",
    "sn.heatmap(df_cm, cmap=\"Reds\", annot=True,annot_kws={\"size\": 16})# font size"
   ]
  },
  {
   "cell_type": "code",
   "execution_count": 45,
   "metadata": {},
   "outputs": [
    {
     "name": "stdout",
     "output_type": "stream",
     "text": [
      "              precision    recall  f1-score   support\n",
      "\n",
      "          cc       0.78      0.74      0.76        54\n",
      "          cd       0.75      0.80      0.77        54\n",
      "\n",
      "    accuracy                           0.77       108\n",
      "   macro avg       0.77      0.77      0.77       108\n",
      "weighted avg       0.77      0.77      0.77       108\n",
      "\n"
     ]
    }
   ],
   "source": [
    "print(classification_report(y_true, y_pred))"
   ]
  },
  {
   "cell_type": "code",
   "execution_count": 30,
   "metadata": {},
   "outputs": [
    {
     "name": "stdout",
     "output_type": "stream",
     "text": [
      "INFO:tensorflow:Assets written to: saved_model/base_line/20210222/assets\n"
     ]
    }
   ],
   "source": [
    "# model.save('saved_model/base_line/20210222')"
   ]
  },
  {
   "cell_type": "code",
   "execution_count": 29,
   "metadata": {},
   "outputs": [
    {
     "name": "stdout",
     "output_type": "stream",
     "text": [
      "\u001b[0m\u001b[34;42m20210210\u001b[0m/  \u001b[34;42m20210217\u001b[0m/  \u001b[01;34m20210222\u001b[0m/\r\n"
     ]
    }
   ],
   "source": [
    "ls saved_model/base_line"
   ]
  },
  {
   "cell_type": "markdown",
   "metadata": {},
   "source": [
    "# Pitts Corpus"
   ]
  },
  {
   "cell_type": "code",
   "execution_count": 77,
   "metadata": {},
   "outputs": [],
   "source": [
    "data_path_pitt = '/tf/data/dementia/English/Pitt/'\n",
    "files_pitt = tf.io.gfile.glob(data_path_pitt + 'Control/cookie/*.mp3') + \\\n",
    "             tf.io.gfile.glob(data_path_pitt + 'Dementia/cookie/*.mp3')"
   ]
  },
  {
   "cell_type": "code",
   "execution_count": 173,
   "metadata": {},
   "outputs": [],
   "source": [
    "def model_inference(filepath):\n",
    "\n",
    "    import tensorflow as tf\n",
    "    import numpy as np\n",
    "    import json\n",
    "    import requests\t\n",
    "    import os\n",
    "    from datetime import datetime\n",
    "    \n",
    "    input_file = filepath\n",
    "    if not filepath.lower().endswith(\".wav\"):\n",
    "        tmp_name = \"tmp-\"+datetime.now().strftime(\"%Y%m%d-%H%M%S\")\n",
    "        input_file = os.path.dirname(filepath)+\"/\"+tmp_name+\".wav\"\n",
    "        cmd = \"ffmpeg -i \" + filepath + \" \" + input_file\n",
    "        os.system(cmd)\n",
    "    \n",
    "    audio_binary = tf.io.read_file(input_file)\n",
    "    audio, _ = tf.audio.decode_wav(audio_binary)\n",
    "    if audio.shape[1] > 1:\n",
    "        audio = tf.reshape(audio[:, 0], (audio.shape[0],1))\n",
    "\n",
    "    waveform = tf.squeeze(audio, axis=-1)    \n",
    "    rolling_waveform_tensors = window(waveform, size=_*30, stride=_*1)\n",
    "    rolling_spectrograms = tf.signal.stft(rolling_waveform_tensors, frame_length=512, frame_step=_)\n",
    "    rolling_spectrograms = tf.abs(rolling_spectrograms)\n",
    "    rolling_spectrograms = tf.expand_dims(rolling_spectrograms, -1)\n",
    "    rolling_spectrograms = rolling_spectrograms.numpy().tolist()\n",
    "    \n",
    "    predictions = model.predict(rolling_spectrograms)\n",
    "    results = [x[0] for x in predictions]\n",
    "    result = sum(results)/len(results)\n",
    "\n",
    "    os.system('rm ' + input_file)\n",
    "    return result, results"
   ]
  },
  {
   "cell_type": "code",
   "execution_count": 179,
   "metadata": {
    "scrolled": true
   },
   "outputs": [
    {
     "name": "stderr",
     "output_type": "stream",
     "text": [
      "\n",
      "\n",
      "\n",
      "  0%|          | 0/552 [00:00<?, ?it/s]\u001b[A\u001b[A\u001b[A"
     ]
    },
    {
     "name": "stdout",
     "output_type": "stream",
     "text": [
      "/tf/data/dementia/English/Pitt/Control/cookie/128-3.mp3\n"
     ]
    },
    {
     "name": "stderr",
     "output_type": "stream",
     "text": [
      "\n",
      "\n",
      "\n",
      "  0%|          | 1/552 [00:06<58:18,  6.35s/it]\u001b[A\u001b[A\u001b[A"
     ]
    },
    {
     "name": "stdout",
     "output_type": "stream",
     "text": [
      "/tf/data/dementia/English/Pitt/Control/cookie/229-2.mp3\n"
     ]
    },
    {
     "name": "stderr",
     "output_type": "stream",
     "text": [
      "\n",
      "\n",
      "\n",
      "  0%|          | 2/552 [00:07<42:34,  4.64s/it]\u001b[A\u001b[A\u001b[A"
     ]
    },
    {
     "name": "stdout",
     "output_type": "stream",
     "text": [
      "/tf/data/dementia/English/Pitt/Control/cookie/196-0.mp3\n"
     ]
    },
    {
     "name": "stderr",
     "output_type": "stream",
     "text": [
      "\n",
      "\n",
      "\n",
      "  1%|          | 3/552 [00:08<34:19,  3.75s/it]\u001b[A\u001b[A\u001b[A"
     ]
    },
    {
     "name": "stdout",
     "output_type": "stream",
     "text": [
      "/tf/data/dementia/English/Pitt/Control/cookie/073-3.mp3\n"
     ]
    },
    {
     "name": "stderr",
     "output_type": "stream",
     "text": [
      "\n",
      "\n",
      "\n",
      "  1%|          | 4/552 [00:11<31:22,  3.44s/it]\u001b[A\u001b[A\u001b[A"
     ]
    },
    {
     "name": "stdout",
     "output_type": "stream",
     "text": [
      "/tf/data/dementia/English/Pitt/Control/cookie/668-0.mp3\n"
     ]
    },
    {
     "name": "stderr",
     "output_type": "stream",
     "text": [
      "\n",
      "\n",
      "\n",
      "  1%|          | 5/552 [00:13<26:25,  2.90s/it]\u001b[A\u001b[A\u001b[A"
     ]
    },
    {
     "name": "stdout",
     "output_type": "stream",
     "text": [
      "/tf/data/dementia/English/Pitt/Control/cookie/118-2.mp3\n"
     ]
    },
    {
     "name": "stderr",
     "output_type": "stream",
     "text": [
      "\n",
      "\n",
      "\n",
      "  1%|          | 6/552 [00:14<21:51,  2.40s/it]\u001b[A\u001b[A\u001b[A"
     ]
    },
    {
     "name": "stdout",
     "output_type": "stream",
     "text": [
      "/tf/data/dementia/English/Pitt/Control/cookie/086-2.mp3\n"
     ]
    },
    {
     "name": "stderr",
     "output_type": "stream",
     "text": [
      "\n",
      "\n",
      "\n",
      "  1%|▏         | 7/552 [00:15<17:48,  1.96s/it]\u001b[A\u001b[A\u001b[A"
     ]
    },
    {
     "name": "stdout",
     "output_type": "stream",
     "text": [
      "/tf/data/dementia/English/Pitt/Control/cookie/073-1.mp3\n"
     ]
    },
    {
     "name": "stderr",
     "output_type": "stream",
     "text": [
      "\n",
      "\n",
      "\n",
      "  1%|▏         | 8/552 [00:17<18:38,  2.06s/it]\u001b[A\u001b[A\u001b[A"
     ]
    },
    {
     "name": "stdout",
     "output_type": "stream",
     "text": [
      "/tf/data/dementia/English/Pitt/Control/cookie/296-2.mp3\n"
     ]
    },
    {
     "name": "stderr",
     "output_type": "stream",
     "text": [
      "\n",
      "\n",
      "\n",
      "  2%|▏         | 9/552 [00:20<21:14,  2.35s/it]\u001b[A\u001b[A\u001b[A"
     ]
    },
    {
     "name": "stdout",
     "output_type": "stream",
     "text": [
      "/tf/data/dementia/English/Pitt/Control/cookie/121-0.mp3\n"
     ]
    },
    {
     "name": "stderr",
     "output_type": "stream",
     "text": [
      "\n",
      "\n",
      "\n",
      "  2%|▏         | 10/552 [00:26<29:51,  3.31s/it]\u001b[A\u001b[A\u001b[A"
     ]
    },
    {
     "name": "stdout",
     "output_type": "stream",
     "text": [
      "/tf/data/dementia/English/Pitt/Control/cookie/167-2.mp3\n"
     ]
    },
    {
     "name": "stderr",
     "output_type": "stream",
     "text": [
      "\n",
      "\n",
      "\n",
      "  2%|▏         | 11/552 [00:27<23:35,  2.62s/it]\u001b[A\u001b[A\u001b[A"
     ]
    },
    {
     "name": "stdout",
     "output_type": "stream",
     "text": [
      "/tf/data/dementia/English/Pitt/Control/cookie/021-4.mp3\n"
     ]
    },
    {
     "name": "stderr",
     "output_type": "stream",
     "text": [
      "\n",
      "\n",
      "\n",
      "  2%|▏         | 12/552 [00:27<17:21,  1.93s/it]\u001b[A\u001b[A\u001b[A"
     ]
    },
    {
     "name": "stdout",
     "output_type": "stream",
     "text": [
      "/tf/data/dementia/English/Pitt/Control/cookie/002-1.mp3\n"
     ]
    },
    {
     "name": "stderr",
     "output_type": "stream",
     "text": [
      "\n",
      "\n",
      "\n",
      "  2%|▏         | 13/552 [00:29<18:47,  2.09s/it]\u001b[A\u001b[A\u001b[A"
     ]
    },
    {
     "name": "stdout",
     "output_type": "stream",
     "text": [
      "/tf/data/dementia/English/Pitt/Control/cookie/137-2.mp3\n"
     ]
    },
    {
     "name": "stderr",
     "output_type": "stream",
     "text": [
      "\n",
      "\n",
      "\n",
      "  3%|▎         | 14/552 [00:30<15:18,  1.71s/it]\u001b[A\u001b[A\u001b[A"
     ]
    },
    {
     "name": "stdout",
     "output_type": "stream",
     "text": [
      "/tf/data/dementia/English/Pitt/Control/cookie/302-0.mp3\n"
     ]
    },
    {
     "name": "stderr",
     "output_type": "stream",
     "text": [
      "\n",
      "\n",
      "\n",
      "  3%|▎         | 15/552 [00:31<13:56,  1.56s/it]\u001b[A\u001b[A\u001b[A"
     ]
    },
    {
     "name": "stdout",
     "output_type": "stream",
     "text": [
      "/tf/data/dementia/English/Pitt/Control/cookie/137-1.mp3\n"
     ]
    },
    {
     "name": "stderr",
     "output_type": "stream",
     "text": [
      "\n",
      "\n",
      "\n",
      "  3%|▎         | 16/552 [00:33<13:02,  1.46s/it]\u001b[A\u001b[A\u001b[A"
     ]
    },
    {
     "name": "stdout",
     "output_type": "stream",
     "text": [
      "/tf/data/dementia/English/Pitt/Control/cookie/141-0.mp3\n"
     ]
    },
    {
     "name": "stderr",
     "output_type": "stream",
     "text": [
      "\n",
      "\n",
      "\n",
      "  3%|▎         | 17/552 [00:33<11:11,  1.26s/it]\u001b[A\u001b[A\u001b[A"
     ]
    },
    {
     "name": "stdout",
     "output_type": "stream",
     "text": [
      "/tf/data/dementia/English/Pitt/Control/cookie/141-1.mp3\n"
     ]
    },
    {
     "name": "stderr",
     "output_type": "stream",
     "text": [
      "\n",
      "\n",
      "\n",
      "  3%|▎         | 18/552 [00:34<10:36,  1.19s/it]\u001b[A\u001b[A\u001b[A"
     ]
    },
    {
     "name": "stdout",
     "output_type": "stream",
     "text": [
      "/tf/data/dementia/English/Pitt/Control/cookie/266-0.mp3\n"
     ]
    },
    {
     "name": "stderr",
     "output_type": "stream",
     "text": [
      "\n",
      "\n",
      "\n",
      "  3%|▎         | 19/552 [00:35<09:17,  1.05s/it]\u001b[A\u001b[A\u001b[A"
     ]
    },
    {
     "name": "stdout",
     "output_type": "stream",
     "text": [
      "/tf/data/dementia/English/Pitt/Control/cookie/182-3.mp3\n"
     ]
    },
    {
     "name": "stderr",
     "output_type": "stream",
     "text": [
      "\n",
      "\n",
      "\n",
      "  4%|▎         | 20/552 [00:36<09:40,  1.09s/it]\u001b[A\u001b[A\u001b[A"
     ]
    },
    {
     "name": "stdout",
     "output_type": "stream",
     "text": [
      "/tf/data/dementia/English/Pitt/Control/cookie/021-2.mp3\n"
     ]
    },
    {
     "name": "stderr",
     "output_type": "stream",
     "text": [
      "\n",
      "\n",
      "\n",
      "  4%|▍         | 21/552 [00:37<08:01,  1.10it/s]\u001b[A\u001b[A\u001b[A"
     ]
    },
    {
     "name": "stdout",
     "output_type": "stream",
     "text": [
      "/tf/data/dementia/English/Pitt/Control/cookie/068-3.mp3\n"
     ]
    },
    {
     "name": "stderr",
     "output_type": "stream",
     "text": [
      "\n",
      "\n",
      "\n",
      "  4%|▍         | 22/552 [00:38<09:58,  1.13s/it]\u001b[A\u001b[A\u001b[A"
     ]
    },
    {
     "name": "stdout",
     "output_type": "stream",
     "text": [
      "/tf/data/dementia/English/Pitt/Control/cookie/155-0.mp3\n"
     ]
    },
    {
     "name": "stderr",
     "output_type": "stream",
     "text": [
      "\n",
      "\n",
      "\n",
      "  4%|▍         | 23/552 [00:41<12:32,  1.42s/it]\u001b[A\u001b[A\u001b[A"
     ]
    },
    {
     "name": "stdout",
     "output_type": "stream",
     "text": [
      "/tf/data/dementia/English/Pitt/Control/cookie/045-0.mp3\n"
     ]
    },
    {
     "name": "stderr",
     "output_type": "stream",
     "text": [
      "\n",
      "\n",
      "\n",
      "  4%|▍         | 24/552 [00:44<18:17,  2.08s/it]\u001b[A\u001b[A\u001b[A"
     ]
    },
    {
     "name": "stdout",
     "output_type": "stream",
     "text": [
      "/tf/data/dementia/English/Pitt/Control/cookie/052-0.mp3\n"
     ]
    },
    {
     "name": "stderr",
     "output_type": "stream",
     "text": [
      "\n",
      "\n",
      "\n",
      "  5%|▍         | 25/552 [00:46<16:30,  1.88s/it]\u001b[A\u001b[A\u001b[A"
     ]
    },
    {
     "name": "stdout",
     "output_type": "stream",
     "text": [
      "/tf/data/dementia/English/Pitt/Control/cookie/172-0.mp3\n"
     ]
    },
    {
     "name": "stderr",
     "output_type": "stream",
     "text": [
      "\n",
      "\n",
      "\n",
      "  5%|▍         | 26/552 [00:48<17:23,  1.98s/it]\u001b[A\u001b[A\u001b[A"
     ]
    },
    {
     "name": "stdout",
     "output_type": "stream",
     "text": [
      "/tf/data/dementia/English/Pitt/Control/cookie/166-1.mp3\n"
     ]
    },
    {
     "name": "stderr",
     "output_type": "stream",
     "text": [
      "\n",
      "\n",
      "\n",
      "  5%|▍         | 27/552 [00:51<21:10,  2.42s/it]\u001b[A\u001b[A\u001b[A"
     ]
    },
    {
     "name": "stdout",
     "output_type": "stream",
     "text": [
      "/tf/data/dementia/English/Pitt/Control/cookie/068-2.mp3\n"
     ]
    },
    {
     "name": "stderr",
     "output_type": "stream",
     "text": [
      "\n",
      "\n",
      "\n",
      "  5%|▌         | 28/552 [00:53<18:24,  2.11s/it]\u001b[A\u001b[A\u001b[A"
     ]
    },
    {
     "name": "stdout",
     "output_type": "stream",
     "text": [
      "/tf/data/dementia/English/Pitt/Control/cookie/146-1.mp3\n"
     ]
    },
    {
     "name": "stderr",
     "output_type": "stream",
     "text": [
      "\n",
      "\n",
      "\n",
      "  5%|▌         | 29/552 [00:54<16:45,  1.92s/it]\u001b[A\u001b[A\u001b[A"
     ]
    },
    {
     "name": "stdout",
     "output_type": "stream",
     "text": [
      "/tf/data/dementia/English/Pitt/Control/cookie/242-0.mp3\n"
     ]
    },
    {
     "name": "stderr",
     "output_type": "stream",
     "text": [
      "\n",
      "\n",
      "\n",
      "  5%|▌         | 30/552 [00:56<17:09,  1.97s/it]\u001b[A\u001b[A\u001b[A"
     ]
    },
    {
     "name": "stdout",
     "output_type": "stream",
     "text": [
      "/tf/data/dementia/English/Pitt/Control/cookie/691-0.mp3\n"
     ]
    },
    {
     "name": "stderr",
     "output_type": "stream",
     "text": [
      "\n",
      "\n",
      "\n",
      "  6%|▌         | 31/552 [00:58<17:18,  1.99s/it]\u001b[A\u001b[A\u001b[A"
     ]
    },
    {
     "name": "stdout",
     "output_type": "stream",
     "text": [
      "/tf/data/dementia/English/Pitt/Control/cookie/006-4.mp3\n"
     ]
    },
    {
     "name": "stderr",
     "output_type": "stream",
     "text": [
      "\n",
      "\n",
      "\n",
      "  6%|▌         | 32/552 [01:01<19:34,  2.26s/it]\u001b[A\u001b[A\u001b[A"
     ]
    },
    {
     "name": "stdout",
     "output_type": "stream",
     "text": [
      "/tf/data/dementia/English/Pitt/Control/cookie/211-1.mp3\n"
     ]
    },
    {
     "name": "stderr",
     "output_type": "stream",
     "text": [
      "\n",
      "\n",
      "\n",
      "  6%|▌         | 33/552 [01:04<20:52,  2.41s/it]\u001b[A\u001b[A\u001b[A"
     ]
    },
    {
     "name": "stdout",
     "output_type": "stream",
     "text": [
      "/tf/data/dementia/English/Pitt/Control/cookie/267-2.mp3\n"
     ]
    },
    {
     "name": "stderr",
     "output_type": "stream",
     "text": [
      "\n",
      "\n",
      "\n",
      "  6%|▌         | 34/552 [01:05<18:32,  2.15s/it]\u001b[A\u001b[A\u001b[A"
     ]
    },
    {
     "name": "stdout",
     "output_type": "stream",
     "text": [
      "/tf/data/dementia/English/Pitt/Control/cookie/113-1.mp3\n"
     ]
    },
    {
     "name": "stderr",
     "output_type": "stream",
     "text": [
      "\n",
      "\n",
      "\n",
      "  6%|▋         | 35/552 [01:07<16:36,  1.93s/it]\u001b[A\u001b[A\u001b[A"
     ]
    },
    {
     "name": "stdout",
     "output_type": "stream",
     "text": [
      "/tf/data/dementia/English/Pitt/Control/cookie/034-1.mp3\n"
     ]
    },
    {
     "name": "stderr",
     "output_type": "stream",
     "text": [
      "\n",
      "\n",
      "\n",
      "  7%|▋         | 36/552 [01:09<16:17,  1.89s/it]\u001b[A\u001b[A\u001b[A"
     ]
    },
    {
     "name": "stdout",
     "output_type": "stream",
     "text": [
      "/tf/data/dementia/English/Pitt/Control/cookie/155-3.mp3\n"
     ]
    },
    {
     "name": "stderr",
     "output_type": "stream",
     "text": [
      "\n",
      "\n",
      "\n",
      "  7%|▋         | 37/552 [01:10<14:14,  1.66s/it]\u001b[A\u001b[A\u001b[A"
     ]
    },
    {
     "name": "stdout",
     "output_type": "stream",
     "text": [
      "/tf/data/dementia/English/Pitt/Control/cookie/015-2.mp3\n"
     ]
    },
    {
     "name": "stderr",
     "output_type": "stream",
     "text": [
      "\n",
      "\n",
      "\n",
      "  7%|▋         | 38/552 [01:13<18:56,  2.21s/it]\u001b[A\u001b[A\u001b[A"
     ]
    },
    {
     "name": "stdout",
     "output_type": "stream",
     "text": [
      "/tf/data/dementia/English/Pitt/Control/cookie/096-1.mp3\n"
     ]
    },
    {
     "name": "stderr",
     "output_type": "stream",
     "text": [
      "\n",
      "\n",
      "\n",
      "  7%|▋         | 39/552 [01:16<18:58,  2.22s/it]\u001b[A\u001b[A\u001b[A"
     ]
    },
    {
     "name": "stdout",
     "output_type": "stream",
     "text": [
      "/tf/data/dementia/English/Pitt/Control/cookie/266-2.mp3\n"
     ]
    },
    {
     "name": "stderr",
     "output_type": "stream",
     "text": [
      "\n",
      "\n",
      "\n",
      "  7%|▋         | 40/552 [01:18<19:34,  2.29s/it]\u001b[A\u001b[A\u001b[A"
     ]
    },
    {
     "name": "stdout",
     "output_type": "stream",
     "text": [
      "/tf/data/dementia/English/Pitt/Control/cookie/056-4.mp3\n"
     ]
    },
    {
     "name": "stderr",
     "output_type": "stream",
     "text": [
      "\n",
      "\n",
      "\n",
      "  7%|▋         | 41/552 [01:19<16:08,  1.90s/it]\u001b[A\u001b[A\u001b[A"
     ]
    },
    {
     "name": "stdout",
     "output_type": "stream",
     "text": [
      "/tf/data/dementia/English/Pitt/Control/cookie/015-3.mp3\n"
     ]
    },
    {
     "name": "stderr",
     "output_type": "stream",
     "text": [
      "\n",
      "\n",
      "\n",
      "  8%|▊         | 42/552 [01:21<16:50,  1.98s/it]\u001b[A\u001b[A\u001b[A"
     ]
    },
    {
     "name": "stdout",
     "output_type": "stream",
     "text": [
      "/tf/data/dementia/English/Pitt/Control/cookie/304-2.mp3\n"
     ]
    },
    {
     "name": "stderr",
     "output_type": "stream",
     "text": [
      "\n",
      "\n",
      "\n",
      "  8%|▊         | 43/552 [01:22<14:42,  1.73s/it]\u001b[A\u001b[A\u001b[A"
     ]
    },
    {
     "name": "stdout",
     "output_type": "stream",
     "text": [
      "/tf/data/dementia/English/Pitt/Control/cookie/124-1.mp3\n"
     ]
    },
    {
     "name": "stderr",
     "output_type": "stream",
     "text": [
      "\n",
      "\n",
      "\n",
      "  8%|▊         | 44/552 [01:27<23:03,  2.72s/it]\u001b[A\u001b[A\u001b[A"
     ]
    },
    {
     "name": "stdout",
     "output_type": "stream",
     "text": [
      "/tf/data/dementia/English/Pitt/Control/cookie/209-1.mp3\n"
     ]
    },
    {
     "name": "stderr",
     "output_type": "stream",
     "text": [
      "\n",
      "\n",
      "\n",
      "  8%|▊         | 45/552 [01:28<17:40,  2.09s/it]\u001b[A\u001b[A\u001b[A"
     ]
    },
    {
     "name": "stdout",
     "output_type": "stream",
     "text": [
      "/tf/data/dementia/English/Pitt/Control/cookie/045-2.mp3\n"
     ]
    },
    {
     "name": "stderr",
     "output_type": "stream",
     "text": [
      "\n",
      "\n",
      "\n",
      "  8%|▊         | 46/552 [01:32<21:36,  2.56s/it]\u001b[A\u001b[A\u001b[A"
     ]
    },
    {
     "name": "stdout",
     "output_type": "stream",
     "text": [
      "/tf/data/dementia/English/Pitt/Control/cookie/296-0.mp3\n"
     ]
    },
    {
     "name": "stderr",
     "output_type": "stream",
     "text": [
      "\n",
      "\n",
      "\n",
      "  9%|▊         | 47/552 [01:33<19:38,  2.33s/it]\u001b[A\u001b[A\u001b[A"
     ]
    },
    {
     "name": "stdout",
     "output_type": "stream",
     "text": [
      "/tf/data/dementia/English/Pitt/Control/cookie/021-1.mp3\n"
     ]
    },
    {
     "name": "stderr",
     "output_type": "stream",
     "text": [
      "\n",
      "\n",
      "\n",
      "  9%|▊         | 48/552 [01:36<20:17,  2.41s/it]\u001b[A\u001b[A\u001b[A"
     ]
    },
    {
     "name": "stdout",
     "output_type": "stream",
     "text": [
      "/tf/data/dementia/English/Pitt/Control/cookie/209-2.mp3\n"
     ]
    },
    {
     "name": "stderr",
     "output_type": "stream",
     "text": [
      "\n",
      "\n",
      "\n",
      "  9%|▉         | 49/552 [01:37<17:53,  2.13s/it]\u001b[A\u001b[A\u001b[A"
     ]
    },
    {
     "name": "stdout",
     "output_type": "stream",
     "text": [
      "/tf/data/dementia/English/Pitt/Control/cookie/208-1.mp3\n"
     ]
    },
    {
     "name": "stderr",
     "output_type": "stream",
     "text": [
      "\n",
      "\n",
      "\n",
      "  9%|▉         | 50/552 [01:38<14:27,  1.73s/it]\u001b[A\u001b[A\u001b[A"
     ]
    },
    {
     "name": "stdout",
     "output_type": "stream",
     "text": [
      "/tf/data/dementia/English/Pitt/Control/cookie/121-3.mp3\n"
     ]
    },
    {
     "name": "stderr",
     "output_type": "stream",
     "text": [
      "\n",
      "\n",
      "\n",
      "  9%|▉         | 51/552 [01:41<16:43,  2.00s/it]\u001b[A\u001b[A\u001b[A"
     ]
    },
    {
     "name": "stdout",
     "output_type": "stream",
     "text": [
      "/tf/data/dementia/English/Pitt/Control/cookie/107-1.mp3\n"
     ]
    },
    {
     "name": "stderr",
     "output_type": "stream",
     "text": [
      "\n",
      "\n",
      "\n",
      "  9%|▉         | 52/552 [01:42<15:08,  1.82s/it]\u001b[A\u001b[A\u001b[A"
     ]
    },
    {
     "name": "stdout",
     "output_type": "stream",
     "text": [
      "/tf/data/dementia/English/Pitt/Control/cookie/130-3.mp3\n"
     ]
    },
    {
     "name": "stderr",
     "output_type": "stream",
     "text": [
      "\n",
      "\n",
      "\n",
      " 10%|▉         | 53/552 [01:43<11:40,  1.40s/it]\u001b[A\u001b[A\u001b[A"
     ]
    },
    {
     "name": "stdout",
     "output_type": "stream",
     "text": [
      "/tf/data/dementia/English/Pitt/Control/cookie/318-2.mp3\n"
     ]
    },
    {
     "name": "stderr",
     "output_type": "stream",
     "text": [
      "\n",
      "\n",
      "\n",
      " 10%|▉         | 54/552 [01:43<09:04,  1.09s/it]\u001b[A\u001b[A\u001b[A"
     ]
    },
    {
     "name": "stdout",
     "output_type": "stream",
     "text": [
      "/tf/data/dementia/English/Pitt/Control/cookie/227-0.mp3\n"
     ]
    },
    {
     "name": "stderr",
     "output_type": "stream",
     "text": [
      "\n",
      "\n",
      "\n",
      " 10%|▉         | 55/552 [01:45<10:16,  1.24s/it]\u001b[A\u001b[A\u001b[A"
     ]
    },
    {
     "name": "stdout",
     "output_type": "stream",
     "text": [
      "/tf/data/dementia/English/Pitt/Control/cookie/340-0.mp3\n"
     ]
    },
    {
     "name": "stderr",
     "output_type": "stream",
     "text": [
      "\n",
      "\n",
      "\n",
      " 10%|█         | 56/552 [01:46<10:29,  1.27s/it]\u001b[A\u001b[A\u001b[A"
     ]
    },
    {
     "name": "stdout",
     "output_type": "stream",
     "text": [
      "/tf/data/dementia/English/Pitt/Control/cookie/114-0.mp3\n"
     ]
    },
    {
     "name": "stderr",
     "output_type": "stream",
     "text": [
      "\n",
      "\n",
      "\n",
      " 10%|█         | 57/552 [01:47<09:32,  1.16s/it]\u001b[A\u001b[A\u001b[A"
     ]
    },
    {
     "name": "stdout",
     "output_type": "stream",
     "text": [
      "/tf/data/dementia/English/Pitt/Control/cookie/175-0.mp3\n"
     ]
    },
    {
     "name": "stderr",
     "output_type": "stream",
     "text": [
      "\n",
      "\n",
      "\n",
      " 11%|█         | 58/552 [01:49<11:44,  1.43s/it]\u001b[A\u001b[A\u001b[A"
     ]
    },
    {
     "name": "stdout",
     "output_type": "stream",
     "text": [
      "/tf/data/dementia/English/Pitt/Control/cookie/141-3.mp3\n"
     ]
    },
    {
     "name": "stderr",
     "output_type": "stream",
     "text": [
      "\n",
      "\n",
      "\n",
      " 11%|█         | 59/552 [01:50<11:31,  1.40s/it]\u001b[A\u001b[A\u001b[A"
     ]
    },
    {
     "name": "stdout",
     "output_type": "stream",
     "text": [
      "/tf/data/dementia/English/Pitt/Control/cookie/071-1.mp3\n"
     ]
    },
    {
     "name": "stderr",
     "output_type": "stream",
     "text": [
      "\n",
      "\n",
      "\n",
      " 11%|█         | 60/552 [01:51<09:14,  1.13s/it]\u001b[A\u001b[A\u001b[A"
     ]
    },
    {
     "name": "stdout",
     "output_type": "stream",
     "text": [
      "/tf/data/dementia/English/Pitt/Control/cookie/006-2.mp3\n"
     ]
    },
    {
     "name": "stderr",
     "output_type": "stream",
     "text": [
      "\n",
      "\n",
      "\n",
      " 11%|█         | 61/552 [01:52<08:27,  1.03s/it]\u001b[A\u001b[A\u001b[A"
     ]
    },
    {
     "name": "stdout",
     "output_type": "stream",
     "text": [
      "/tf/data/dementia/English/Pitt/Control/cookie/093-0.mp3\n"
     ]
    },
    {
     "name": "stderr",
     "output_type": "stream",
     "text": [
      "\n",
      "\n",
      "\n",
      " 11%|█         | 62/552 [01:53<08:38,  1.06s/it]\u001b[A\u001b[A\u001b[A"
     ]
    },
    {
     "name": "stdout",
     "output_type": "stream",
     "text": [
      "/tf/data/dementia/English/Pitt/Control/cookie/105-1.mp3\n"
     ]
    },
    {
     "name": "stderr",
     "output_type": "stream",
     "text": [
      "\n",
      "\n",
      "\n",
      " 11%|█▏        | 63/552 [01:54<09:31,  1.17s/it]\u001b[A\u001b[A\u001b[A"
     ]
    },
    {
     "name": "stdout",
     "output_type": "stream",
     "text": [
      "/tf/data/dementia/English/Pitt/Control/cookie/118-4.mp3\n"
     ]
    },
    {
     "name": "stderr",
     "output_type": "stream",
     "text": [
      "\n",
      "\n",
      "\n",
      " 12%|█▏        | 64/552 [01:56<10:43,  1.32s/it]\u001b[A\u001b[A\u001b[A"
     ]
    },
    {
     "name": "stdout",
     "output_type": "stream",
     "text": [
      "/tf/data/dementia/English/Pitt/Control/cookie/114-3.mp3\n"
     ]
    },
    {
     "name": "stderr",
     "output_type": "stream",
     "text": [
      "\n",
      "\n",
      "\n",
      " 12%|█▏        | 65/552 [01:57<10:29,  1.29s/it]\u001b[A\u001b[A\u001b[A"
     ]
    },
    {
     "name": "stdout",
     "output_type": "stream",
     "text": [
      "/tf/data/dementia/English/Pitt/Control/cookie/015-1.mp3\n"
     ]
    },
    {
     "name": "stderr",
     "output_type": "stream",
     "text": [
      "\n",
      "\n",
      "\n",
      " 12%|█▏        | 66/552 [02:00<15:09,  1.87s/it]\u001b[A\u001b[A\u001b[A"
     ]
    },
    {
     "name": "stdout",
     "output_type": "stream",
     "text": [
      "/tf/data/dementia/English/Pitt/Control/cookie/145-3.mp3\n"
     ]
    },
    {
     "name": "stderr",
     "output_type": "stream",
     "text": [
      "\n",
      "\n",
      "\n",
      " 12%|█▏        | 67/552 [02:03<16:31,  2.04s/it]\u001b[A\u001b[A\u001b[A"
     ]
    },
    {
     "name": "stdout",
     "output_type": "stream",
     "text": [
      "/tf/data/dementia/English/Pitt/Control/cookie/006-3.mp3\n"
     ]
    },
    {
     "name": "stderr",
     "output_type": "stream",
     "text": [
      "\n",
      "\n",
      "\n",
      " 12%|█▏        | 68/552 [02:05<16:09,  2.00s/it]\u001b[A\u001b[A\u001b[A"
     ]
    },
    {
     "name": "stdout",
     "output_type": "stream",
     "text": [
      "/tf/data/dementia/English/Pitt/Control/cookie/086-4.mp3\n"
     ]
    },
    {
     "name": "stderr",
     "output_type": "stream",
     "text": [
      "\n",
      "\n",
      "\n",
      " 12%|█▎        | 69/552 [02:07<17:35,  2.18s/it]\u001b[A\u001b[A\u001b[A"
     ]
    },
    {
     "name": "stdout",
     "output_type": "stream",
     "text": [
      "/tf/data/dementia/English/Pitt/Control/cookie/130-2.mp3\n"
     ]
    },
    {
     "name": "stderr",
     "output_type": "stream",
     "text": [
      "\n",
      "\n",
      "\n",
      " 13%|█▎        | 70/552 [02:08<13:03,  1.62s/it]\u001b[A\u001b[A\u001b[A"
     ]
    },
    {
     "name": "stdout",
     "output_type": "stream",
     "text": [
      "/tf/data/dementia/English/Pitt/Control/cookie/166-2.mp3\n"
     ]
    },
    {
     "name": "stderr",
     "output_type": "stream",
     "text": [
      "\n",
      "\n",
      "\n",
      " 13%|█▎        | 71/552 [02:09<12:37,  1.57s/it]\u001b[A\u001b[A\u001b[A"
     ]
    },
    {
     "name": "stdout",
     "output_type": "stream",
     "text": [
      "/tf/data/dementia/English/Pitt/Control/cookie/684-0.mp3\n"
     ]
    },
    {
     "name": "stderr",
     "output_type": "stream",
     "text": [
      "\n",
      "\n",
      "\n",
      " 13%|█▎        | 72/552 [02:12<16:55,  2.12s/it]\u001b[A\u001b[A\u001b[A"
     ]
    },
    {
     "name": "stdout",
     "output_type": "stream",
     "text": [
      "/tf/data/dementia/English/Pitt/Control/cookie/096-2.mp3\n"
     ]
    },
    {
     "name": "stderr",
     "output_type": "stream",
     "text": [
      "\n",
      "\n",
      "\n",
      " 13%|█▎        | 73/552 [02:14<15:14,  1.91s/it]\u001b[A\u001b[A\u001b[A"
     ]
    },
    {
     "name": "stdout",
     "output_type": "stream",
     "text": [
      "/tf/data/dementia/English/Pitt/Control/cookie/142-0.mp3\n"
     ]
    },
    {
     "name": "stderr",
     "output_type": "stream",
     "text": [
      "\n",
      "\n",
      "\n",
      " 13%|█▎        | 74/552 [02:16<15:45,  1.98s/it]\u001b[A\u001b[A\u001b[A"
     ]
    },
    {
     "name": "stdout",
     "output_type": "stream",
     "text": [
      "/tf/data/dementia/English/Pitt/Control/cookie/118-0.mp3\n"
     ]
    },
    {
     "name": "stderr",
     "output_type": "stream",
     "text": [
      "\n",
      "\n",
      "\n",
      " 14%|█▎        | 75/552 [02:17<12:47,  1.61s/it]\u001b[A\u001b[A\u001b[A"
     ]
    },
    {
     "name": "stdout",
     "output_type": "stream",
     "text": [
      "/tf/data/dementia/English/Pitt/Control/cookie/013-0.mp3\n"
     ]
    },
    {
     "name": "stderr",
     "output_type": "stream",
     "text": [
      "\n",
      "\n",
      "\n",
      " 14%|█▍        | 76/552 [02:18<12:38,  1.59s/it]\u001b[A\u001b[A\u001b[A"
     ]
    },
    {
     "name": "stdout",
     "output_type": "stream",
     "text": [
      "/tf/data/dementia/English/Pitt/Control/cookie/242-2.mp3\n"
     ]
    },
    {
     "name": "stderr",
     "output_type": "stream",
     "text": [
      "\n",
      "\n",
      "\n",
      " 14%|█▍        | 77/552 [02:21<16:24,  2.07s/it]\u001b[A\u001b[A\u001b[A"
     ]
    },
    {
     "name": "stdout",
     "output_type": "stream",
     "text": [
      "/tf/data/dementia/English/Pitt/Control/cookie/255-0.mp3\n"
     ]
    },
    {
     "name": "stderr",
     "output_type": "stream",
     "text": [
      "\n",
      "\n",
      "\n",
      " 14%|█▍        | 78/552 [02:23<14:12,  1.80s/it]\u001b[A\u001b[A\u001b[A"
     ]
    },
    {
     "name": "stdout",
     "output_type": "stream",
     "text": [
      "/tf/data/dementia/English/Pitt/Control/cookie/034-2.mp3\n"
     ]
    },
    {
     "name": "stderr",
     "output_type": "stream",
     "text": [
      "\n",
      "\n",
      "\n",
      " 14%|█▍        | 79/552 [02:24<14:00,  1.78s/it]\u001b[A\u001b[A\u001b[A"
     ]
    },
    {
     "name": "stdout",
     "output_type": "stream",
     "text": [
      "/tf/data/dementia/English/Pitt/Control/cookie/175-2.mp3\n"
     ]
    },
    {
     "name": "stderr",
     "output_type": "stream",
     "text": [
      "\n",
      "\n",
      "\n",
      " 14%|█▍        | 80/552 [02:26<13:29,  1.71s/it]\u001b[A\u001b[A\u001b[A"
     ]
    },
    {
     "name": "stdout",
     "output_type": "stream",
     "text": [
      "/tf/data/dementia/English/Pitt/Control/cookie/068-0.mp3\n"
     ]
    },
    {
     "name": "stderr",
     "output_type": "stream",
     "text": [
      "\n",
      "\n",
      "\n",
      " 15%|█▍        | 81/552 [02:28<14:23,  1.83s/it]\u001b[A\u001b[A\u001b[A"
     ]
    },
    {
     "name": "stdout",
     "output_type": "stream",
     "text": [
      "/tf/data/dementia/English/Pitt/Control/cookie/142-1.mp3\n"
     ]
    },
    {
     "name": "stderr",
     "output_type": "stream",
     "text": [
      "\n",
      "\n",
      "\n",
      " 15%|█▍        | 82/552 [02:29<13:07,  1.68s/it]\u001b[A\u001b[A\u001b[A"
     ]
    },
    {
     "name": "stdout",
     "output_type": "stream",
     "text": [
      "/tf/data/dementia/English/Pitt/Control/cookie/105-0.mp3\n"
     ]
    },
    {
     "name": "stderr",
     "output_type": "stream",
     "text": [
      "\n",
      "\n",
      "\n",
      " 15%|█▌        | 83/552 [02:31<14:07,  1.81s/it]\u001b[A\u001b[A\u001b[A"
     ]
    },
    {
     "name": "stdout",
     "output_type": "stream",
     "text": [
      "/tf/data/dementia/English/Pitt/Control/cookie/013-2.mp3\n"
     ]
    },
    {
     "name": "stderr",
     "output_type": "stream",
     "text": [
      "\n",
      "\n",
      "\n",
      " 15%|█▌        | 84/552 [02:33<13:06,  1.68s/it]\u001b[A\u001b[A\u001b[A"
     ]
    },
    {
     "name": "stdout",
     "output_type": "stream",
     "text": [
      "/tf/data/dementia/English/Pitt/Control/cookie/015-0.mp3\n"
     ]
    },
    {
     "name": "stderr",
     "output_type": "stream",
     "text": [
      "\n",
      "\n",
      "\n",
      " 15%|█▌        | 85/552 [02:37<18:55,  2.43s/it]\u001b[A\u001b[A\u001b[A"
     ]
    },
    {
     "name": "stdout",
     "output_type": "stream",
     "text": [
      "/tf/data/dementia/English/Pitt/Control/cookie/132-0.mp3\n"
     ]
    },
    {
     "name": "stderr",
     "output_type": "stream",
     "text": [
      "\n",
      "\n",
      "\n",
      " 16%|█▌        | 86/552 [02:39<16:47,  2.16s/it]\u001b[A\u001b[A\u001b[A"
     ]
    },
    {
     "name": "stdout",
     "output_type": "stream",
     "text": [
      "/tf/data/dementia/English/Pitt/Control/cookie/274-0.mp3\n"
     ]
    },
    {
     "name": "stderr",
     "output_type": "stream",
     "text": [
      "\n",
      "\n",
      "\n",
      " 16%|█▌        | 87/552 [02:40<15:07,  1.95s/it]\u001b[A\u001b[A\u001b[A"
     ]
    },
    {
     "name": "stdout",
     "output_type": "stream",
     "text": [
      "/tf/data/dementia/English/Pitt/Control/cookie/248-2.mp3\n"
     ]
    },
    {
     "name": "stderr",
     "output_type": "stream",
     "text": [
      "\n",
      "\n",
      "\n",
      " 16%|█▌        | 88/552 [02:41<12:12,  1.58s/it]\u001b[A\u001b[A\u001b[A"
     ]
    },
    {
     "name": "stdout",
     "output_type": "stream",
     "text": [
      "/tf/data/dementia/English/Pitt/Control/cookie/128-2.mp3\n"
     ]
    },
    {
     "name": "stderr",
     "output_type": "stream",
     "text": [
      "\n",
      "\n",
      "\n",
      " 16%|█▌        | 89/552 [02:46<19:54,  2.58s/it]\u001b[A\u001b[A\u001b[A"
     ]
    },
    {
     "name": "stdout",
     "output_type": "stream",
     "text": [
      "/tf/data/dementia/English/Pitt/Control/cookie/686-0.mp3\n"
     ]
    },
    {
     "name": "stderr",
     "output_type": "stream",
     "text": [
      "\n",
      "\n",
      "\n",
      " 16%|█▋        | 90/552 [02:48<18:50,  2.45s/it]\u001b[A\u001b[A\u001b[A"
     ]
    },
    {
     "name": "stdout",
     "output_type": "stream",
     "text": [
      "/tf/data/dementia/English/Pitt/Control/cookie/225-0.mp3\n"
     ]
    },
    {
     "name": "stderr",
     "output_type": "stream",
     "text": [
      "\n",
      "\n",
      "\n",
      " 16%|█▋        | 91/552 [02:52<22:36,  2.94s/it]\u001b[A\u001b[A\u001b[A"
     ]
    },
    {
     "name": "stdout",
     "output_type": "stream",
     "text": [
      "/tf/data/dementia/English/Pitt/Control/cookie/155-2.mp3\n"
     ]
    },
    {
     "name": "stderr",
     "output_type": "stream",
     "text": [
      "\n",
      "\n",
      "\n",
      " 17%|█▋        | 92/552 [02:55<22:52,  2.98s/it]\u001b[A\u001b[A\u001b[A"
     ]
    },
    {
     "name": "stdout",
     "output_type": "stream",
     "text": [
      "/tf/data/dementia/English/Pitt/Control/cookie/248-1.mp3\n"
     ]
    },
    {
     "name": "stderr",
     "output_type": "stream",
     "text": [
      "\n",
      "\n",
      "\n",
      " 17%|█▋        | 93/552 [02:58<22:14,  2.91s/it]\u001b[A\u001b[A\u001b[A"
     ]
    },
    {
     "name": "stdout",
     "output_type": "stream",
     "text": [
      "/tf/data/dementia/English/Pitt/Control/cookie/042-3.mp3\n"
     ]
    },
    {
     "name": "stderr",
     "output_type": "stream",
     "text": [
      "\n",
      "\n",
      "\n",
      " 17%|█▋        | 94/552 [02:59<17:55,  2.35s/it]\u001b[A\u001b[A\u001b[A"
     ]
    },
    {
     "name": "stdout",
     "output_type": "stream",
     "text": [
      "/tf/data/dementia/English/Pitt/Control/cookie/256-1.mp3\n"
     ]
    },
    {
     "name": "stderr",
     "output_type": "stream",
     "text": [
      "\n",
      "\n",
      "\n",
      " 17%|█▋        | 95/552 [03:00<14:33,  1.91s/it]\u001b[A\u001b[A\u001b[A"
     ]
    },
    {
     "name": "stdout",
     "output_type": "stream",
     "text": [
      "/tf/data/dementia/English/Pitt/Control/cookie/109-3.mp3\n"
     ]
    },
    {
     "name": "stderr",
     "output_type": "stream",
     "text": [
      "\n",
      "\n",
      "\n",
      " 17%|█▋        | 96/552 [03:01<13:30,  1.78s/it]\u001b[A\u001b[A\u001b[A"
     ]
    },
    {
     "name": "stdout",
     "output_type": "stream",
     "text": [
      "/tf/data/dementia/English/Pitt/Control/cookie/175-1.mp3\n"
     ]
    },
    {
     "name": "stderr",
     "output_type": "stream",
     "text": [
      "\n",
      "\n",
      "\n",
      " 18%|█▊        | 97/552 [03:03<14:11,  1.87s/it]\u001b[A\u001b[A\u001b[A"
     ]
    },
    {
     "name": "stdout",
     "output_type": "stream",
     "text": [
      "/tf/data/dementia/English/Pitt/Control/cookie/092-1.mp3\n"
     ]
    },
    {
     "name": "stderr",
     "output_type": "stream",
     "text": [
      "\n",
      "\n",
      "\n",
      " 18%|█▊        | 98/552 [03:05<13:32,  1.79s/it]\u001b[A\u001b[A\u001b[A"
     ]
    },
    {
     "name": "stdout",
     "output_type": "stream",
     "text": [
      "/tf/data/dementia/English/Pitt/Control/cookie/021-0.mp3\n"
     ]
    },
    {
     "name": "stderr",
     "output_type": "stream",
     "text": [
      "\n",
      "\n",
      "\n",
      " 18%|█▊        | 99/552 [03:06<11:19,  1.50s/it]\u001b[A\u001b[A\u001b[A"
     ]
    },
    {
     "name": "stdout",
     "output_type": "stream",
     "text": [
      "/tf/data/dementia/English/Pitt/Control/cookie/678-0.mp3\n"
     ]
    },
    {
     "name": "stderr",
     "output_type": "stream",
     "text": [
      "\n",
      "\n",
      "\n",
      " 18%|█▊        | 100/552 [03:08<14:01,  1.86s/it]\u001b[A\u001b[A\u001b[A"
     ]
    },
    {
     "name": "stdout",
     "output_type": "stream",
     "text": [
      "/tf/data/dementia/English/Pitt/Control/cookie/121-1.mp3\n"
     ]
    },
    {
     "name": "stderr",
     "output_type": "stream",
     "text": [
      "\n",
      "\n",
      "\n",
      " 18%|█▊        | 101/552 [03:11<16:55,  2.25s/it]\u001b[A\u001b[A\u001b[A"
     ]
    },
    {
     "name": "stdout",
     "output_type": "stream",
     "text": [
      "/tf/data/dementia/English/Pitt/Control/cookie/227-1.mp3\n"
     ]
    },
    {
     "name": "stderr",
     "output_type": "stream",
     "text": [
      "\n",
      "\n",
      "\n",
      " 18%|█▊        | 102/552 [03:14<16:53,  2.25s/it]\u001b[A\u001b[A\u001b[A"
     ]
    },
    {
     "name": "stdout",
     "output_type": "stream",
     "text": [
      "/tf/data/dementia/English/Pitt/Control/cookie/034-3.mp3\n"
     ]
    },
    {
     "name": "stderr",
     "output_type": "stream",
     "text": [
      "\n",
      "\n",
      "\n",
      " 19%|█▊        | 103/552 [03:17<18:13,  2.43s/it]\u001b[A\u001b[A\u001b[A"
     ]
    },
    {
     "name": "stdout",
     "output_type": "stream",
     "text": [
      "/tf/data/dementia/English/Pitt/Control/cookie/121-4.mp3\n"
     ]
    },
    {
     "name": "stderr",
     "output_type": "stream",
     "text": [
      "\n",
      "\n",
      "\n",
      " 19%|█▉        | 104/552 [03:20<20:00,  2.68s/it]\u001b[A\u001b[A\u001b[A"
     ]
    },
    {
     "name": "stdout",
     "output_type": "stream",
     "text": [
      "/tf/data/dementia/English/Pitt/Control/cookie/210-1.mp3\n"
     ]
    },
    {
     "name": "stderr",
     "output_type": "stream",
     "text": [
      "\n",
      "\n",
      "\n",
      " 19%|█▉        | 105/552 [03:23<20:35,  2.76s/it]\u001b[A\u001b[A\u001b[A"
     ]
    },
    {
     "name": "stdout",
     "output_type": "stream",
     "text": [
      "/tf/data/dementia/English/Pitt/Control/cookie/208-0.mp3\n"
     ]
    },
    {
     "name": "stderr",
     "output_type": "stream",
     "text": [
      "\n",
      "\n",
      "\n",
      " 19%|█▉        | 106/552 [03:24<18:03,  2.43s/it]\u001b[A\u001b[A\u001b[A"
     ]
    },
    {
     "name": "stdout",
     "output_type": "stream",
     "text": [
      "/tf/data/dementia/English/Pitt/Control/cookie/002-2.mp3\n"
     ]
    },
    {
     "name": "stderr",
     "output_type": "stream",
     "text": [
      "\n",
      "\n",
      "\n",
      " 19%|█▉        | 107/552 [03:27<17:57,  2.42s/it]\u001b[A\u001b[A\u001b[A"
     ]
    },
    {
     "name": "stdout",
     "output_type": "stream",
     "text": [
      "/tf/data/dementia/English/Pitt/Control/cookie/129-1.mp3\n"
     ]
    },
    {
     "name": "stderr",
     "output_type": "stream",
     "text": [
      "\n",
      "\n",
      "\n",
      " 20%|█▉        | 108/552 [03:29<17:23,  2.35s/it]\u001b[A\u001b[A\u001b[A"
     ]
    },
    {
     "name": "stdout",
     "output_type": "stream",
     "text": [
      "/tf/data/dementia/English/Pitt/Control/cookie/150-1.mp3\n"
     ]
    },
    {
     "name": "stderr",
     "output_type": "stream",
     "text": [
      "\n",
      "\n",
      "\n",
      " 20%|█▉        | 109/552 [03:31<15:57,  2.16s/it]\u001b[A\u001b[A\u001b[A"
     ]
    },
    {
     "name": "stdout",
     "output_type": "stream",
     "text": [
      "/tf/data/dementia/English/Pitt/Control/cookie/073-0.mp3\n"
     ]
    },
    {
     "name": "stderr",
     "output_type": "stream",
     "text": [
      "\n",
      "\n",
      "\n",
      " 20%|█▉        | 110/552 [03:33<16:43,  2.27s/it]\u001b[A\u001b[A\u001b[A"
     ]
    },
    {
     "name": "stdout",
     "output_type": "stream",
     "text": [
      "/tf/data/dementia/English/Pitt/Control/cookie/298-1.mp3\n"
     ]
    },
    {
     "name": "stderr",
     "output_type": "stream",
     "text": [
      "\n",
      "\n",
      "\n",
      " 20%|██        | 111/552 [03:34<13:54,  1.89s/it]\u001b[A\u001b[A\u001b[A"
     ]
    },
    {
     "name": "stdout",
     "output_type": "stream",
     "text": [
      "/tf/data/dementia/English/Pitt/Control/cookie/688-0.mp3\n"
     ]
    },
    {
     "name": "stderr",
     "output_type": "stream",
     "text": [
      "\n",
      "\n",
      "\n",
      " 20%|██        | 112/552 [03:36<12:46,  1.74s/it]\u001b[A\u001b[A\u001b[A"
     ]
    },
    {
     "name": "stdout",
     "output_type": "stream",
     "text": [
      "/tf/data/dementia/English/Pitt/Control/cookie/210-2.mp3\n"
     ]
    },
    {
     "name": "stderr",
     "output_type": "stream",
     "text": [
      "\n",
      "\n",
      "\n",
      " 20%|██        | 113/552 [03:39<16:16,  2.23s/it]\u001b[A\u001b[A\u001b[A"
     ]
    },
    {
     "name": "stdout",
     "output_type": "stream",
     "text": [
      "/tf/data/dementia/English/Pitt/Control/cookie/709-2.mp3\n"
     ]
    },
    {
     "name": "stderr",
     "output_type": "stream",
     "text": [
      "\n",
      "\n",
      "\n",
      " 21%|██        | 114/552 [03:41<15:08,  2.07s/it]\u001b[A\u001b[A\u001b[A"
     ]
    },
    {
     "name": "stdout",
     "output_type": "stream",
     "text": [
      "/tf/data/dementia/English/Pitt/Control/cookie/211-2.mp3\n"
     ]
    },
    {
     "name": "stderr",
     "output_type": "stream",
     "text": [
      "\n",
      "\n",
      "\n",
      " 21%|██        | 115/552 [03:43<15:48,  2.17s/it]\u001b[A\u001b[A\u001b[A"
     ]
    },
    {
     "name": "stdout",
     "output_type": "stream",
     "text": [
      "/tf/data/dementia/English/Pitt/Control/cookie/322-1.mp3\n"
     ]
    },
    {
     "name": "stderr",
     "output_type": "stream",
     "text": [
      "\n",
      "\n",
      "\n",
      " 21%|██        | 116/552 [03:45<14:58,  2.06s/it]\u001b[A\u001b[A\u001b[A"
     ]
    },
    {
     "name": "stdout",
     "output_type": "stream",
     "text": [
      "/tf/data/dementia/English/Pitt/Control/cookie/171-0.mp3\n"
     ]
    },
    {
     "name": "stderr",
     "output_type": "stream",
     "text": [
      "\n",
      "\n",
      "\n",
      " 21%|██        | 117/552 [03:46<12:39,  1.75s/it]\u001b[A\u001b[A\u001b[A"
     ]
    },
    {
     "name": "stdout",
     "output_type": "stream",
     "text": [
      "/tf/data/dementia/English/Pitt/Control/cookie/130-1.mp3\n"
     ]
    },
    {
     "name": "stderr",
     "output_type": "stream",
     "text": [
      "\n",
      "\n",
      "\n",
      " 21%|██▏       | 118/552 [03:46<09:32,  1.32s/it]\u001b[A\u001b[A\u001b[A"
     ]
    },
    {
     "name": "stdout",
     "output_type": "stream",
     "text": [
      "/tf/data/dementia/English/Pitt/Control/cookie/166-0.mp3\n"
     ]
    },
    {
     "name": "stderr",
     "output_type": "stream",
     "text": [
      "\n",
      "\n",
      "\n",
      " 22%|██▏       | 119/552 [03:47<07:37,  1.06s/it]\u001b[A\u001b[A\u001b[A"
     ]
    },
    {
     "name": "stdout",
     "output_type": "stream",
     "text": [
      "/tf/data/dementia/English/Pitt/Control/cookie/137-0.mp3\n"
     ]
    },
    {
     "name": "stderr",
     "output_type": "stream",
     "text": [
      "\n",
      "\n",
      "\n",
      " 22%|██▏       | 120/552 [03:50<12:53,  1.79s/it]\u001b[A\u001b[A\u001b[A"
     ]
    },
    {
     "name": "stdout",
     "output_type": "stream",
     "text": [
      "/tf/data/dementia/English/Pitt/Control/cookie/140-3.mp3\n"
     ]
    },
    {
     "name": "stderr",
     "output_type": "stream",
     "text": [
      "\n",
      "\n",
      "\n",
      " 22%|██▏       | 121/552 [03:51<11:29,  1.60s/it]\u001b[A\u001b[A\u001b[A"
     ]
    },
    {
     "name": "stdout",
     "output_type": "stream",
     "text": [
      "/tf/data/dementia/English/Pitt/Control/cookie/243-1.mp3\n"
     ]
    },
    {
     "name": "stderr",
     "output_type": "stream",
     "text": [
      "\n",
      "\n",
      "\n",
      " 22%|██▏       | 122/552 [03:54<13:53,  1.94s/it]\u001b[A\u001b[A\u001b[A"
     ]
    },
    {
     "name": "stdout",
     "output_type": "stream",
     "text": [
      "/tf/data/dementia/English/Pitt/Control/cookie/158-2.mp3\n"
     ]
    },
    {
     "name": "stderr",
     "output_type": "stream",
     "text": [
      "\n",
      "\n",
      "\n",
      " 22%|██▏       | 123/552 [03:55<12:11,  1.70s/it]\u001b[A\u001b[A\u001b[A"
     ]
    },
    {
     "name": "stdout",
     "output_type": "stream",
     "text": [
      "/tf/data/dementia/English/Pitt/Control/cookie/175-3.mp3\n"
     ]
    },
    {
     "name": "stderr",
     "output_type": "stream",
     "text": [
      "\n",
      "\n",
      "\n",
      " 22%|██▏       | 124/552 [03:56<11:04,  1.55s/it]\u001b[A\u001b[A\u001b[A"
     ]
    },
    {
     "name": "stdout",
     "output_type": "stream",
     "text": [
      "/tf/data/dementia/English/Pitt/Control/cookie/113-2.mp3\n"
     ]
    },
    {
     "name": "stderr",
     "output_type": "stream",
     "text": [
      "\n",
      "\n",
      "\n",
      " 23%|██▎       | 125/552 [03:58<11:01,  1.55s/it]\u001b[A\u001b[A\u001b[A"
     ]
    },
    {
     "name": "stdout",
     "output_type": "stream",
     "text": [
      "/tf/data/dementia/English/Pitt/Control/cookie/022-1.mp3\n"
     ]
    },
    {
     "name": "stderr",
     "output_type": "stream",
     "text": [
      "\n",
      "\n",
      "\n",
      " 23%|██▎       | 126/552 [03:59<09:30,  1.34s/it]\u001b[A\u001b[A\u001b[A"
     ]
    },
    {
     "name": "stdout",
     "output_type": "stream",
     "text": [
      "/tf/data/dementia/English/Pitt/Control/cookie/056-3.mp3\n"
     ]
    },
    {
     "name": "stderr",
     "output_type": "stream",
     "text": [
      "\n",
      "\n",
      "\n",
      " 23%|██▎       | 127/552 [04:00<08:52,  1.25s/it]\u001b[A\u001b[A\u001b[A"
     ]
    },
    {
     "name": "stdout",
     "output_type": "stream",
     "text": [
      "/tf/data/dementia/English/Pitt/Control/cookie/292-1.mp3\n"
     ]
    },
    {
     "name": "stderr",
     "output_type": "stream",
     "text": [
      "\n",
      "\n",
      "\n",
      " 23%|██▎       | 128/552 [04:01<09:31,  1.35s/it]\u001b[A\u001b[A\u001b[A"
     ]
    },
    {
     "name": "stdout",
     "output_type": "stream",
     "text": [
      "/tf/data/dementia/English/Pitt/Control/cookie/318-0.mp3\n"
     ]
    },
    {
     "name": "stderr",
     "output_type": "stream",
     "text": [
      "\n",
      "\n",
      "\n",
      " 23%|██▎       | 129/552 [04:03<10:43,  1.52s/it]\u001b[A\u001b[A\u001b[A"
     ]
    },
    {
     "name": "stdout",
     "output_type": "stream",
     "text": [
      "/tf/data/dementia/English/Pitt/Control/cookie/021-3.mp3\n"
     ]
    },
    {
     "name": "stderr",
     "output_type": "stream",
     "text": [
      "\n",
      "\n",
      "\n",
      " 24%|██▎       | 130/552 [04:04<08:20,  1.19s/it]\u001b[A\u001b[A\u001b[A"
     ]
    },
    {
     "name": "stdout",
     "output_type": "stream",
     "text": [
      "/tf/data/dementia/English/Pitt/Control/cookie/167-3.mp3\n"
     ]
    },
    {
     "name": "stderr",
     "output_type": "stream",
     "text": [
      "\n",
      "\n",
      "\n",
      " 24%|██▎       | 131/552 [04:06<11:30,  1.64s/it]\u001b[A\u001b[A\u001b[A"
     ]
    },
    {
     "name": "stdout",
     "output_type": "stream",
     "text": [
      "/tf/data/dementia/English/Pitt/Control/cookie/059-2.mp3\n"
     ]
    },
    {
     "name": "stderr",
     "output_type": "stream",
     "text": [
      "\n",
      "\n",
      "\n",
      " 24%|██▍       | 132/552 [04:08<10:37,  1.52s/it]\u001b[A\u001b[A\u001b[A"
     ]
    },
    {
     "name": "stdout",
     "output_type": "stream",
     "text": [
      "/tf/data/dementia/English/Pitt/Control/cookie/171-1.mp3\n"
     ]
    },
    {
     "name": "stderr",
     "output_type": "stream",
     "text": [
      "\n",
      "\n",
      "\n",
      " 24%|██▍       | 133/552 [04:08<08:15,  1.18s/it]\u001b[A\u001b[A\u001b[A"
     ]
    },
    {
     "name": "stdout",
     "output_type": "stream",
     "text": [
      "/tf/data/dementia/English/Pitt/Control/cookie/054-0.mp3\n"
     ]
    },
    {
     "name": "stderr",
     "output_type": "stream",
     "text": [
      "\n",
      "\n",
      "\n",
      " 24%|██▍       | 134/552 [04:10<10:36,  1.52s/it]\u001b[A\u001b[A\u001b[A"
     ]
    },
    {
     "name": "stdout",
     "output_type": "stream",
     "text": [
      "/tf/data/dementia/English/Pitt/Control/cookie/139-1.mp3\n"
     ]
    },
    {
     "name": "stderr",
     "output_type": "stream",
     "text": [
      "\n",
      "\n",
      "\n",
      " 24%|██▍       | 135/552 [04:11<09:35,  1.38s/it]\u001b[A\u001b[A\u001b[A"
     ]
    },
    {
     "name": "stdout",
     "output_type": "stream",
     "text": [
      "/tf/data/dementia/English/Pitt/Control/cookie/138-3.mp3\n"
     ]
    },
    {
     "name": "stderr",
     "output_type": "stream",
     "text": [
      "\n",
      "\n",
      "\n",
      " 25%|██▍       | 136/552 [04:13<10:01,  1.45s/it]\u001b[A\u001b[A\u001b[A"
     ]
    },
    {
     "name": "stdout",
     "output_type": "stream",
     "text": [
      "/tf/data/dementia/English/Pitt/Control/cookie/280-1.mp3\n"
     ]
    },
    {
     "name": "stderr",
     "output_type": "stream",
     "text": [
      "\n",
      "\n",
      "\n",
      " 25%|██▍       | 137/552 [04:13<07:40,  1.11s/it]\u001b[A\u001b[A\u001b[A"
     ]
    },
    {
     "name": "stdout",
     "output_type": "stream",
     "text": [
      "/tf/data/dementia/English/Pitt/Control/cookie/145-1.mp3\n"
     ]
    },
    {
     "name": "stderr",
     "output_type": "stream",
     "text": [
      "\n",
      "\n",
      "\n",
      " 25%|██▌       | 138/552 [04:15<08:08,  1.18s/it]\u001b[A\u001b[A\u001b[A"
     ]
    },
    {
     "name": "stdout",
     "output_type": "stream",
     "text": [
      "/tf/data/dementia/English/Pitt/Control/cookie/323-1.mp3\n"
     ]
    },
    {
     "name": "stderr",
     "output_type": "stream",
     "text": [
      "\n",
      "\n",
      "\n",
      " 25%|██▌       | 139/552 [04:17<10:46,  1.57s/it]\u001b[A\u001b[A\u001b[A"
     ]
    },
    {
     "name": "stdout",
     "output_type": "stream",
     "text": [
      "/tf/data/dementia/English/Pitt/Control/cookie/045-3.mp3\n"
     ]
    },
    {
     "name": "stderr",
     "output_type": "stream",
     "text": [
      "\n",
      "\n",
      "\n",
      " 25%|██▌       | 140/552 [04:20<12:13,  1.78s/it]\u001b[A\u001b[A\u001b[A"
     ]
    },
    {
     "name": "stdout",
     "output_type": "stream",
     "text": [
      "/tf/data/dementia/English/Pitt/Control/cookie/109-1.mp3\n"
     ]
    },
    {
     "name": "stderr",
     "output_type": "stream",
     "text": [
      "\n",
      "\n",
      "\n",
      " 26%|██▌       | 141/552 [04:22<13:32,  1.98s/it]\u001b[A\u001b[A\u001b[A"
     ]
    },
    {
     "name": "stdout",
     "output_type": "stream",
     "text": [
      "/tf/data/dementia/English/Pitt/Control/cookie/105-2.mp3\n"
     ]
    },
    {
     "name": "stderr",
     "output_type": "stream",
     "text": [
      "\n",
      "\n",
      "\n",
      " 26%|██▌       | 142/552 [04:25<16:18,  2.39s/it]\u001b[A\u001b[A\u001b[A"
     ]
    },
    {
     "name": "stdout",
     "output_type": "stream",
     "text": [
      "/tf/data/dementia/English/Pitt/Control/cookie/336-1.mp3\n"
     ]
    },
    {
     "name": "stderr",
     "output_type": "stream",
     "text": [
      "\n",
      "\n",
      "\n",
      " 26%|██▌       | 143/552 [04:28<16:27,  2.41s/it]\u001b[A\u001b[A\u001b[A"
     ]
    },
    {
     "name": "stdout",
     "output_type": "stream",
     "text": [
      "/tf/data/dementia/English/Pitt/Control/cookie/052-2.mp3\n"
     ]
    },
    {
     "name": "stderr",
     "output_type": "stream",
     "text": [
      "\n",
      "\n",
      "\n",
      " 26%|██▌       | 144/552 [04:28<12:08,  1.79s/it]\u001b[A\u001b[A\u001b[A"
     ]
    },
    {
     "name": "stdout",
     "output_type": "stream",
     "text": [
      "/tf/data/dementia/English/Pitt/Control/cookie/015-4.mp3\n"
     ]
    },
    {
     "name": "stderr",
     "output_type": "stream",
     "text": [
      "\n",
      "\n",
      "\n",
      " 26%|██▋       | 145/552 [04:30<13:12,  1.95s/it]\u001b[A\u001b[A\u001b[A"
     ]
    },
    {
     "name": "stdout",
     "output_type": "stream",
     "text": [
      "/tf/data/dementia/English/Pitt/Control/cookie/229-1.mp3\n"
     ]
    },
    {
     "name": "stderr",
     "output_type": "stream",
     "text": [
      "\n",
      "\n",
      "\n",
      " 26%|██▋       | 146/552 [04:31<10:34,  1.56s/it]\u001b[A\u001b[A\u001b[A"
     ]
    },
    {
     "name": "stdout",
     "output_type": "stream",
     "text": [
      "/tf/data/dementia/English/Pitt/Control/cookie/140-0.mp3\n"
     ]
    },
    {
     "name": "stderr",
     "output_type": "stream",
     "text": [
      "\n",
      "\n",
      "\n",
      " 27%|██▋       | 147/552 [04:34<12:53,  1.91s/it]\u001b[A\u001b[A\u001b[A"
     ]
    },
    {
     "name": "stdout",
     "output_type": "stream",
     "text": [
      "/tf/data/dementia/English/Pitt/Control/cookie/109-4.mp3\n"
     ]
    },
    {
     "name": "stderr",
     "output_type": "stream",
     "text": [
      "\n",
      "\n",
      "\n",
      " 27%|██▋       | 148/552 [04:36<12:42,  1.89s/it]\u001b[A\u001b[A\u001b[A"
     ]
    },
    {
     "name": "stdout",
     "output_type": "stream",
     "text": [
      "/tf/data/dementia/English/Pitt/Control/cookie/323-0.mp3\n"
     ]
    },
    {
     "name": "stderr",
     "output_type": "stream",
     "text": [
      "\n",
      "\n",
      "\n",
      " 27%|██▋       | 149/552 [04:39<15:26,  2.30s/it]\u001b[A\u001b[A\u001b[A"
     ]
    },
    {
     "name": "stdout",
     "output_type": "stream",
     "text": [
      "/tf/data/dementia/English/Pitt/Control/cookie/297-1.mp3\n"
     ]
    },
    {
     "name": "stderr",
     "output_type": "stream",
     "text": [
      "\n",
      "\n",
      "\n",
      " 27%|██▋       | 150/552 [04:40<12:35,  1.88s/it]\u001b[A\u001b[A\u001b[A"
     ]
    },
    {
     "name": "stdout",
     "output_type": "stream",
     "text": [
      "/tf/data/dementia/English/Pitt/Control/cookie/192-2.mp3\n"
     ]
    },
    {
     "name": "stderr",
     "output_type": "stream",
     "text": [
      "\n",
      "\n",
      "\n",
      " 27%|██▋       | 151/552 [04:42<12:19,  1.84s/it]\u001b[A\u001b[A\u001b[A"
     ]
    },
    {
     "name": "stdout",
     "output_type": "stream",
     "text": [
      "/tf/data/dementia/English/Pitt/Control/cookie/092-0.mp3\n"
     ]
    },
    {
     "name": "stderr",
     "output_type": "stream",
     "text": [
      "\n",
      "\n",
      "\n",
      " 28%|██▊       | 152/552 [04:43<10:39,  1.60s/it]\u001b[A\u001b[A\u001b[A"
     ]
    },
    {
     "name": "stdout",
     "output_type": "stream",
     "text": [
      "/tf/data/dementia/English/Pitt/Control/cookie/142-3.mp3\n"
     ]
    },
    {
     "name": "stderr",
     "output_type": "stream",
     "text": [
      "\n",
      "\n",
      "\n",
      " 28%|██▊       | 153/552 [04:44<09:50,  1.48s/it]\u001b[A\u001b[A\u001b[A"
     ]
    },
    {
     "name": "stdout",
     "output_type": "stream",
     "text": [
      "/tf/data/dementia/English/Pitt/Control/cookie/280-0.mp3\n"
     ]
    },
    {
     "name": "stderr",
     "output_type": "stream",
     "text": [
      "\n",
      "\n",
      "\n",
      " 28%|██▊       | 154/552 [04:46<11:29,  1.73s/it]\u001b[A\u001b[A\u001b[A"
     ]
    },
    {
     "name": "stdout",
     "output_type": "stream",
     "text": [
      "/tf/data/dementia/English/Pitt/Control/cookie/275-1.mp3\n"
     ]
    },
    {
     "name": "stderr",
     "output_type": "stream",
     "text": [
      "\n",
      "\n",
      "\n",
      " 28%|██▊       | 155/552 [04:47<10:19,  1.56s/it]\u001b[A\u001b[A\u001b[A"
     ]
    },
    {
     "name": "stdout",
     "output_type": "stream",
     "text": [
      "/tf/data/dementia/English/Pitt/Control/cookie/124-0.mp3\n"
     ]
    },
    {
     "name": "stderr",
     "output_type": "stream",
     "text": [
      "\n",
      "\n",
      "\n",
      " 28%|██▊       | 156/552 [04:50<12:14,  1.85s/it]\u001b[A\u001b[A\u001b[A"
     ]
    },
    {
     "name": "stdout",
     "output_type": "stream",
     "text": [
      "/tf/data/dementia/English/Pitt/Control/cookie/256-2.mp3\n"
     ]
    },
    {
     "name": "stderr",
     "output_type": "stream",
     "text": [
      "\n",
      "\n",
      "\n",
      " 28%|██▊       | 157/552 [04:52<12:19,  1.87s/it]\u001b[A\u001b[A\u001b[A"
     ]
    },
    {
     "name": "stdout",
     "output_type": "stream",
     "text": [
      "/tf/data/dementia/English/Pitt/Control/cookie/042-1.mp3\n"
     ]
    },
    {
     "name": "stderr",
     "output_type": "stream",
     "text": [
      "\n",
      "\n",
      "\n",
      " 29%|██▊       | 158/552 [04:54<12:33,  1.91s/it]\u001b[A\u001b[A\u001b[A"
     ]
    },
    {
     "name": "stdout",
     "output_type": "stream",
     "text": [
      "/tf/data/dementia/English/Pitt/Control/cookie/022-0.mp3\n"
     ]
    },
    {
     "name": "stderr",
     "output_type": "stream",
     "text": [
      "\n",
      "\n",
      "\n",
      " 29%|██▉       | 159/552 [04:55<11:37,  1.78s/it]\u001b[A\u001b[A\u001b[A"
     ]
    },
    {
     "name": "stdout",
     "output_type": "stream",
     "text": [
      "/tf/data/dementia/English/Pitt/Control/cookie/266-1.mp3\n"
     ]
    },
    {
     "name": "stderr",
     "output_type": "stream",
     "text": [
      "\n",
      "\n",
      "\n",
      " 29%|██▉       | 160/552 [04:56<10:28,  1.60s/it]\u001b[A\u001b[A\u001b[A"
     ]
    },
    {
     "name": "stdout",
     "output_type": "stream",
     "text": [
      "/tf/data/dementia/English/Pitt/Control/cookie/002-0.mp3\n"
     ]
    },
    {
     "name": "stderr",
     "output_type": "stream",
     "text": [
      "\n",
      "\n",
      "\n",
      " 29%|██▉       | 161/552 [04:58<10:41,  1.64s/it]\u001b[A\u001b[A\u001b[A"
     ]
    },
    {
     "name": "stdout",
     "output_type": "stream",
     "text": [
      "/tf/data/dementia/English/Pitt/Control/cookie/092-3.mp3\n"
     ]
    },
    {
     "name": "stderr",
     "output_type": "stream",
     "text": [
      "\n",
      "\n",
      "\n",
      " 29%|██▉       | 162/552 [04:58<08:05,  1.24s/it]\u001b[A\u001b[A\u001b[A"
     ]
    },
    {
     "name": "stdout",
     "output_type": "stream",
     "text": [
      "/tf/data/dementia/English/Pitt/Control/cookie/332-0.mp3\n"
     ]
    },
    {
     "name": "stderr",
     "output_type": "stream",
     "text": [
      "\n",
      "\n",
      "\n",
      " 30%|██▉       | 163/552 [04:59<06:22,  1.02it/s]\u001b[A\u001b[A\u001b[A"
     ]
    },
    {
     "name": "stdout",
     "output_type": "stream",
     "text": [
      "/tf/data/dementia/English/Pitt/Control/cookie/042-4.mp3\n"
     ]
    },
    {
     "name": "stderr",
     "output_type": "stream",
     "text": [
      "\n",
      "\n",
      "\n",
      " 30%|██▉       | 164/552 [04:59<05:31,  1.17it/s]\u001b[A\u001b[A\u001b[A"
     ]
    },
    {
     "name": "stdout",
     "output_type": "stream",
     "text": [
      "/tf/data/dementia/English/Pitt/Control/cookie/042-2.mp3\n"
     ]
    },
    {
     "name": "stderr",
     "output_type": "stream",
     "text": [
      "\n",
      "\n",
      "\n",
      " 30%|██▉       | 165/552 [05:01<06:14,  1.03it/s]\u001b[A\u001b[A\u001b[A"
     ]
    },
    {
     "name": "stdout",
     "output_type": "stream",
     "text": [
      "/tf/data/dementia/English/Pitt/Control/cookie/071-4.mp3\n"
     ]
    },
    {
     "name": "stderr",
     "output_type": "stream",
     "text": [
      "\n",
      "\n",
      "\n",
      " 30%|███       | 166/552 [05:01<05:39,  1.14it/s]\u001b[A\u001b[A\u001b[A"
     ]
    },
    {
     "name": "stdout",
     "output_type": "stream",
     "text": [
      "/tf/data/dementia/English/Pitt/Control/cookie/322-2.mp3\n"
     ]
    },
    {
     "name": "stderr",
     "output_type": "stream",
     "text": [
      "\n",
      "\n",
      "\n",
      " 30%|███       | 167/552 [05:02<05:05,  1.26it/s]\u001b[A\u001b[A\u001b[A"
     ]
    },
    {
     "name": "stdout",
     "output_type": "stream",
     "text": [
      "/tf/data/dementia/English/Pitt/Control/cookie/297-2.mp3\n"
     ]
    },
    {
     "name": "stderr",
     "output_type": "stream",
     "text": [
      "\n",
      "\n",
      "\n",
      " 30%|███       | 168/552 [05:04<06:47,  1.06s/it]\u001b[A\u001b[A\u001b[A"
     ]
    },
    {
     "name": "stdout",
     "output_type": "stream",
     "text": [
      "/tf/data/dementia/English/Pitt/Control/cookie/114-4.mp3\n"
     ]
    },
    {
     "name": "stderr",
     "output_type": "stream",
     "text": [
      "\n",
      "\n",
      "\n",
      " 31%|███       | 169/552 [05:04<05:48,  1.10it/s]\u001b[A\u001b[A\u001b[A"
     ]
    },
    {
     "name": "stdout",
     "output_type": "stream",
     "text": [
      "/tf/data/dementia/English/Pitt/Control/cookie/296-1.mp3\n"
     ]
    },
    {
     "name": "stderr",
     "output_type": "stream",
     "text": [
      "\n",
      "\n",
      "\n",
      " 31%|███       | 170/552 [05:07<09:59,  1.57s/it]\u001b[A\u001b[A\u001b[A"
     ]
    },
    {
     "name": "stdout",
     "output_type": "stream",
     "text": [
      "/tf/data/dementia/English/Pitt/Control/cookie/022-2.mp3\n"
     ]
    },
    {
     "name": "stderr",
     "output_type": "stream",
     "text": [
      "\n",
      "\n",
      "\n",
      " 31%|███       | 171/552 [05:08<09:10,  1.45s/it]\u001b[A\u001b[A\u001b[A"
     ]
    },
    {
     "name": "stdout",
     "output_type": "stream",
     "text": [
      "/tf/data/dementia/English/Pitt/Control/cookie/121-2.mp3\n"
     ]
    },
    {
     "name": "stderr",
     "output_type": "stream",
     "text": [
      "\n",
      "\n",
      "\n",
      " 31%|███       | 172/552 [05:12<13:14,  2.09s/it]\u001b[A\u001b[A\u001b[A"
     ]
    },
    {
     "name": "stdout",
     "output_type": "stream",
     "text": [
      "/tf/data/dementia/English/Pitt/Control/cookie/113-0.mp3\n"
     ]
    },
    {
     "name": "stderr",
     "output_type": "stream",
     "text": [
      "\n",
      "\n",
      "\n",
      " 31%|███▏      | 173/552 [05:13<10:40,  1.69s/it]\u001b[A\u001b[A\u001b[A"
     ]
    },
    {
     "name": "stdout",
     "output_type": "stream",
     "text": [
      "/tf/data/dementia/English/Pitt/Control/cookie/274-2.mp3\n"
     ]
    },
    {
     "name": "stderr",
     "output_type": "stream",
     "text": [
      "\n",
      "\n",
      "\n",
      " 32%|███▏      | 174/552 [05:14<09:00,  1.43s/it]\u001b[A\u001b[A\u001b[A"
     ]
    },
    {
     "name": "stdout",
     "output_type": "stream",
     "text": [
      "/tf/data/dementia/English/Pitt/Control/cookie/631-0.mp3\n"
     ]
    },
    {
     "name": "stderr",
     "output_type": "stream",
     "text": [
      "\n",
      "\n",
      "\n",
      " 32%|███▏      | 175/552 [05:14<07:15,  1.16s/it]\u001b[A\u001b[A\u001b[A"
     ]
    },
    {
     "name": "stdout",
     "output_type": "stream",
     "text": [
      "/tf/data/dementia/English/Pitt/Control/cookie/118-3.mp3\n"
     ]
    },
    {
     "name": "stderr",
     "output_type": "stream",
     "text": [
      "\n",
      "\n",
      "\n",
      " 32%|███▏      | 176/552 [05:16<07:52,  1.26s/it]\u001b[A\u001b[A\u001b[A"
     ]
    },
    {
     "name": "stdout",
     "output_type": "stream",
     "text": [
      "/tf/data/dementia/English/Pitt/Control/cookie/139-0.mp3\n"
     ]
    },
    {
     "name": "stderr",
     "output_type": "stream",
     "text": [
      "\n",
      "\n",
      "\n",
      " 32%|███▏      | 177/552 [05:18<10:19,  1.65s/it]\u001b[A\u001b[A\u001b[A"
     ]
    },
    {
     "name": "stdout",
     "output_type": "stream",
     "text": [
      "/tf/data/dementia/English/Pitt/Control/cookie/071-2.mp3\n"
     ]
    },
    {
     "name": "stderr",
     "output_type": "stream",
     "text": [
      "\n",
      "\n",
      "\n",
      " 32%|███▏      | 178/552 [05:19<09:39,  1.55s/it]\u001b[A\u001b[A\u001b[A"
     ]
    },
    {
     "name": "stdout",
     "output_type": "stream",
     "text": [
      "/tf/data/dementia/English/Pitt/Control/cookie/158-3.mp3\n"
     ]
    },
    {
     "name": "stderr",
     "output_type": "stream",
     "text": [
      "\n",
      "\n",
      "\n",
      " 32%|███▏      | 179/552 [05:21<09:20,  1.50s/it]\u001b[A\u001b[A\u001b[A"
     ]
    },
    {
     "name": "stdout",
     "output_type": "stream",
     "text": [
      "/tf/data/dementia/English/Pitt/Control/cookie/243-0.mp3\n"
     ]
    },
    {
     "name": "stderr",
     "output_type": "stream",
     "text": [
      "\n",
      "\n",
      "\n",
      " 33%|███▎      | 180/552 [05:25<15:03,  2.43s/it]\u001b[A\u001b[A\u001b[A"
     ]
    },
    {
     "name": "stdout",
     "output_type": "stream",
     "text": [
      "/tf/data/dementia/English/Pitt/Control/cookie/114-2.mp3\n"
     ]
    },
    {
     "name": "stderr",
     "output_type": "stream",
     "text": [
      "\n",
      "\n",
      "\n",
      " 33%|███▎      | 181/552 [05:27<12:48,  2.07s/it]\u001b[A\u001b[A\u001b[A"
     ]
    },
    {
     "name": "stdout",
     "output_type": "stream",
     "text": [
      "/tf/data/dementia/English/Pitt/Control/cookie/158-0.mp3\n"
     ]
    },
    {
     "name": "stderr",
     "output_type": "stream",
     "text": [
      "\n",
      "\n",
      "\n",
      " 33%|███▎      | 182/552 [05:29<12:27,  2.02s/it]\u001b[A\u001b[A\u001b[A"
     ]
    },
    {
     "name": "stdout",
     "output_type": "stream",
     "text": [
      "/tf/data/dementia/English/Pitt/Control/cookie/128-1.mp3\n"
     ]
    },
    {
     "name": "stderr",
     "output_type": "stream",
     "text": [
      "\n",
      "\n",
      "\n",
      " 33%|███▎      | 183/552 [05:32<14:34,  2.37s/it]\u001b[A\u001b[A\u001b[A"
     ]
    },
    {
     "name": "stdout",
     "output_type": "stream",
     "text": [
      "/tf/data/dementia/English/Pitt/Control/cookie/709-0.mp3\n"
     ]
    },
    {
     "name": "stderr",
     "output_type": "stream",
     "text": [
      "\n",
      "\n",
      "\n",
      " 33%|███▎      | 184/552 [05:33<11:57,  1.95s/it]\u001b[A\u001b[A\u001b[A"
     ]
    },
    {
     "name": "stdout",
     "output_type": "stream",
     "text": [
      "/tf/data/dementia/English/Pitt/Control/cookie/092-2.mp3\n"
     ]
    },
    {
     "name": "stderr",
     "output_type": "stream",
     "text": [
      "\n",
      "\n",
      "\n",
      " 34%|███▎      | 185/552 [05:33<09:26,  1.54s/it]\u001b[A\u001b[A\u001b[A"
     ]
    },
    {
     "name": "stdout",
     "output_type": "stream",
     "text": [
      "/tf/data/dementia/English/Pitt/Control/cookie/086-3.mp3\n"
     ]
    },
    {
     "name": "stderr",
     "output_type": "stream",
     "text": [
      "\n",
      "\n",
      "\n",
      " 34%|███▎      | 186/552 [05:35<08:55,  1.46s/it]\u001b[A\u001b[A\u001b[A"
     ]
    },
    {
     "name": "stdout",
     "output_type": "stream",
     "text": [
      "/tf/data/dementia/English/Pitt/Control/cookie/138-1.mp3\n"
     ]
    },
    {
     "name": "stderr",
     "output_type": "stream",
     "text": [
      "\n",
      "\n",
      "\n",
      " 34%|███▍      | 187/552 [05:37<10:44,  1.77s/it]\u001b[A\u001b[A\u001b[A"
     ]
    },
    {
     "name": "stdout",
     "output_type": "stream",
     "text": [
      "/tf/data/dementia/English/Pitt/Control/cookie/056-0.mp3\n"
     ]
    },
    {
     "name": "stderr",
     "output_type": "stream",
     "text": [
      "\n",
      "\n",
      "\n",
      " 34%|███▍      | 188/552 [05:38<08:42,  1.44s/it]\u001b[A\u001b[A\u001b[A"
     ]
    },
    {
     "name": "stdout",
     "output_type": "stream",
     "text": [
      "/tf/data/dementia/English/Pitt/Control/cookie/055-0.mp3\n"
     ]
    },
    {
     "name": "stderr",
     "output_type": "stream",
     "text": [
      "\n",
      "\n",
      "\n",
      " 34%|███▍      | 189/552 [05:39<09:08,  1.51s/it]\u001b[A\u001b[A\u001b[A"
     ]
    },
    {
     "name": "stdout",
     "output_type": "stream",
     "text": [
      "/tf/data/dementia/English/Pitt/Control/cookie/167-1.mp3\n"
     ]
    },
    {
     "name": "stderr",
     "output_type": "stream",
     "text": [
      "\n",
      "\n",
      "\n",
      " 34%|███▍      | 190/552 [05:40<07:47,  1.29s/it]\u001b[A\u001b[A\u001b[A"
     ]
    },
    {
     "name": "stdout",
     "output_type": "stream",
     "text": [
      "/tf/data/dementia/English/Pitt/Control/cookie/113-3.mp3\n"
     ]
    },
    {
     "name": "stderr",
     "output_type": "stream",
     "text": [
      "\n",
      "\n",
      "\n",
      " 35%|███▍      | 191/552 [05:41<07:44,  1.29s/it]\u001b[A\u001b[A\u001b[A"
     ]
    },
    {
     "name": "stdout",
     "output_type": "stream",
     "text": [
      "/tf/data/dementia/English/Pitt/Control/cookie/275-0.mp3\n"
     ]
    },
    {
     "name": "stderr",
     "output_type": "stream",
     "text": [
      "\n",
      "\n",
      "\n",
      " 35%|███▍      | 192/552 [05:43<09:04,  1.51s/it]\u001b[A\u001b[A\u001b[A"
     ]
    },
    {
     "name": "stdout",
     "output_type": "stream",
     "text": [
      "/tf/data/dementia/English/Pitt/Control/cookie/245-2.mp3\n"
     ]
    },
    {
     "name": "stderr",
     "output_type": "stream",
     "text": [
      "\n",
      "\n",
      "\n",
      " 35%|███▍      | 193/552 [05:46<10:50,  1.81s/it]\u001b[A\u001b[A\u001b[A"
     ]
    },
    {
     "name": "stdout",
     "output_type": "stream",
     "text": [
      "/tf/data/dementia/English/Pitt/Control/cookie/150-2.mp3\n"
     ]
    },
    {
     "name": "stderr",
     "output_type": "stream",
     "text": [
      "\n",
      "\n",
      "\n",
      " 35%|███▌      | 194/552 [05:48<11:12,  1.88s/it]\u001b[A\u001b[A\u001b[A"
     ]
    },
    {
     "name": "stdout",
     "output_type": "stream",
     "text": [
      "/tf/data/dementia/English/Pitt/Control/cookie/232-1.mp3\n"
     ]
    },
    {
     "name": "stderr",
     "output_type": "stream",
     "text": [
      "\n",
      "\n",
      "\n",
      " 35%|███▌      | 195/552 [05:50<12:08,  2.04s/it]\u001b[A\u001b[A\u001b[A"
     ]
    },
    {
     "name": "stdout",
     "output_type": "stream",
     "text": [
      "/tf/data/dementia/English/Pitt/Control/cookie/013-3.mp3\n"
     ]
    },
    {
     "name": "stderr",
     "output_type": "stream",
     "text": [
      "\n",
      "\n",
      "\n",
      " 36%|███▌      | 196/552 [05:52<11:16,  1.90s/it]\u001b[A\u001b[A\u001b[A"
     ]
    },
    {
     "name": "stdout",
     "output_type": "stream",
     "text": [
      "/tf/data/dementia/English/Pitt/Control/cookie/256-0.mp3\n"
     ]
    },
    {
     "name": "stderr",
     "output_type": "stream",
     "text": [
      "\n",
      "\n",
      "\n",
      " 36%|███▌      | 197/552 [05:54<10:56,  1.85s/it]\u001b[A\u001b[A\u001b[A"
     ]
    },
    {
     "name": "stdout",
     "output_type": "stream",
     "text": [
      "/tf/data/dementia/English/Pitt/Control/cookie/267-0.mp3\n"
     ]
    },
    {
     "name": "stderr",
     "output_type": "stream",
     "text": [
      "\n",
      "\n",
      "\n",
      " 36%|███▌      | 198/552 [05:55<10:09,  1.72s/it]\u001b[A\u001b[A\u001b[A"
     ]
    },
    {
     "name": "stdout",
     "output_type": "stream",
     "text": [
      "/tf/data/dementia/English/Pitt/Control/cookie/107-2.mp3\n"
     ]
    },
    {
     "name": "stderr",
     "output_type": "stream",
     "text": [
      "\n",
      "\n",
      "\n",
      " 36%|███▌      | 199/552 [05:56<07:39,  1.30s/it]\u001b[A\u001b[A\u001b[A"
     ]
    },
    {
     "name": "stdout",
     "output_type": "stream",
     "text": [
      "/tf/data/dementia/English/Pitt/Control/cookie/208-2.mp3\n"
     ]
    },
    {
     "name": "stderr",
     "output_type": "stream",
     "text": [
      "\n",
      "\n",
      "\n",
      " 36%|███▌      | 200/552 [05:58<09:24,  1.60s/it]\u001b[A\u001b[A\u001b[A"
     ]
    },
    {
     "name": "stdout",
     "output_type": "stream",
     "text": [
      "/tf/data/dementia/English/Pitt/Control/cookie/280-2.mp3\n"
     ]
    },
    {
     "name": "stderr",
     "output_type": "stream",
     "text": [
      "\n",
      "\n",
      "\n",
      " 36%|███▋      | 201/552 [05:59<08:44,  1.50s/it]\u001b[A\u001b[A\u001b[A"
     ]
    },
    {
     "name": "stdout",
     "output_type": "stream",
     "text": [
      "/tf/data/dementia/English/Pitt/Control/cookie/232-0.mp3\n"
     ]
    },
    {
     "name": "stderr",
     "output_type": "stream",
     "text": [
      "\n",
      "\n",
      "\n",
      " 37%|███▋      | 202/552 [06:01<10:14,  1.76s/it]\u001b[A\u001b[A\u001b[A"
     ]
    },
    {
     "name": "stdout",
     "output_type": "stream",
     "text": [
      "/tf/data/dementia/English/Pitt/Control/cookie/192-0.mp3\n"
     ]
    },
    {
     "name": "stderr",
     "output_type": "stream",
     "text": [
      "\n",
      "\n",
      "\n",
      " 37%|███▋      | 203/552 [06:02<08:43,  1.50s/it]\u001b[A\u001b[A\u001b[A"
     ]
    },
    {
     "name": "stdout",
     "output_type": "stream",
     "text": [
      "/tf/data/dementia/English/Pitt/Control/cookie/242-1.mp3\n"
     ]
    },
    {
     "name": "stderr",
     "output_type": "stream",
     "text": [
      "\n",
      "\n",
      "\n",
      " 37%|███▋      | 204/552 [06:05<09:58,  1.72s/it]\u001b[A\u001b[A\u001b[A"
     ]
    },
    {
     "name": "stdout",
     "output_type": "stream",
     "text": [
      "/tf/data/dementia/English/Pitt/Control/cookie/158-1.mp3\n"
     ]
    },
    {
     "name": "stderr",
     "output_type": "stream",
     "text": [
      "\n",
      "\n",
      "\n",
      " 37%|███▋      | 205/552 [06:07<10:52,  1.88s/it]\u001b[A\u001b[A\u001b[A"
     ]
    },
    {
     "name": "stdout",
     "output_type": "stream",
     "text": [
      "/tf/data/dementia/English/Pitt/Control/cookie/295-1.mp3\n"
     ]
    },
    {
     "name": "stderr",
     "output_type": "stream",
     "text": [
      "\n",
      "\n",
      "\n",
      " 37%|███▋      | 206/552 [06:07<08:07,  1.41s/it]\u001b[A\u001b[A\u001b[A"
     ]
    },
    {
     "name": "stdout",
     "output_type": "stream",
     "text": [
      "/tf/data/dementia/English/Pitt/Control/cookie/086-1.mp3\n"
     ]
    },
    {
     "name": "stderr",
     "output_type": "stream",
     "text": [
      "\n",
      "\n",
      "\n",
      " 38%|███▊      | 207/552 [06:08<07:54,  1.38s/it]\u001b[A\u001b[A\u001b[A"
     ]
    },
    {
     "name": "stdout",
     "output_type": "stream",
     "text": [
      "/tf/data/dementia/English/Pitt/Control/cookie/248-0.mp3\n"
     ]
    },
    {
     "name": "stderr",
     "output_type": "stream",
     "text": [
      "\n",
      "\n",
      "\n",
      " 38%|███▊      | 208/552 [06:11<09:38,  1.68s/it]\u001b[A\u001b[A\u001b[A"
     ]
    },
    {
     "name": "stdout",
     "output_type": "stream",
     "text": [
      "/tf/data/dementia/English/Pitt/Control/cookie/225-2.mp3\n"
     ]
    },
    {
     "name": "stderr",
     "output_type": "stream",
     "text": [
      "\n",
      "\n",
      "\n",
      " 38%|███▊      | 209/552 [06:16<15:12,  2.66s/it]\u001b[A\u001b[A\u001b[A"
     ]
    },
    {
     "name": "stdout",
     "output_type": "stream",
     "text": [
      "/tf/data/dementia/English/Pitt/Control/cookie/059-4.mp3\n"
     ]
    },
    {
     "name": "stderr",
     "output_type": "stream",
     "text": [
      "\n",
      "\n",
      "\n",
      " 38%|███▊      | 210/552 [06:16<11:25,  2.01s/it]\u001b[A\u001b[A\u001b[A"
     ]
    },
    {
     "name": "stdout",
     "output_type": "stream",
     "text": [
      "/tf/data/dementia/English/Pitt/Control/cookie/114-1.mp3\n"
     ]
    },
    {
     "name": "stderr",
     "output_type": "stream",
     "text": [
      "\n",
      "\n",
      "\n",
      " 38%|███▊      | 211/552 [06:18<10:16,  1.81s/it]\u001b[A\u001b[A\u001b[A"
     ]
    },
    {
     "name": "stdout",
     "output_type": "stream",
     "text": [
      "/tf/data/dementia/English/Pitt/Control/cookie/013-4.mp3\n"
     ]
    },
    {
     "name": "stderr",
     "output_type": "stream",
     "text": [
      "\n",
      "\n",
      "\n",
      " 38%|███▊      | 212/552 [06:19<09:25,  1.66s/it]\u001b[A\u001b[A\u001b[A"
     ]
    },
    {
     "name": "stdout",
     "output_type": "stream",
     "text": [
      "/tf/data/dementia/English/Pitt/Control/cookie/304-1.mp3\n"
     ]
    },
    {
     "name": "stderr",
     "output_type": "stream",
     "text": [
      "\n",
      "\n",
      "\n",
      " 39%|███▊      | 213/552 [06:19<07:04,  1.25s/it]\u001b[A\u001b[A\u001b[A"
     ]
    },
    {
     "name": "stdout",
     "output_type": "stream",
     "text": [
      "/tf/data/dementia/English/Pitt/Control/cookie/139-3.mp3\n"
     ]
    },
    {
     "name": "stderr",
     "output_type": "stream",
     "text": [
      "\n",
      "\n",
      "\n",
      " 39%|███▉      | 214/552 [06:19<05:26,  1.04it/s]\u001b[A\u001b[A\u001b[A"
     ]
    },
    {
     "name": "stdout",
     "output_type": "stream",
     "text": [
      "/tf/data/dementia/English/Pitt/Control/cookie/295-0.mp3\n"
     ]
    },
    {
     "name": "stderr",
     "output_type": "stream",
     "text": [
      "\n",
      "\n",
      "\n",
      " 39%|███▉      | 215/552 [06:20<04:20,  1.29it/s]\u001b[A\u001b[A\u001b[A"
     ]
    },
    {
     "name": "stdout",
     "output_type": "stream",
     "text": [
      "/tf/data/dementia/English/Pitt/Control/cookie/661-0.mp3\n"
     ]
    },
    {
     "name": "stderr",
     "output_type": "stream",
     "text": [
      "\n",
      "\n",
      "\n",
      " 39%|███▉      | 216/552 [06:22<06:01,  1.08s/it]\u001b[A\u001b[A\u001b[A"
     ]
    },
    {
     "name": "stdout",
     "output_type": "stream",
     "text": [
      "/tf/data/dementia/English/Pitt/Control/cookie/118-1.mp3\n"
     ]
    },
    {
     "name": "stderr",
     "output_type": "stream",
     "text": [
      "\n",
      "\n",
      "\n",
      " 39%|███▉      | 217/552 [06:23<06:49,  1.22s/it]\u001b[A\u001b[A\u001b[A"
     ]
    },
    {
     "name": "stdout",
     "output_type": "stream",
     "text": [
      "/tf/data/dementia/English/Pitt/Control/cookie/034-4.mp3\n"
     ]
    },
    {
     "name": "stderr",
     "output_type": "stream",
     "text": [
      "\n",
      "\n",
      "\n",
      " 39%|███▉      | 218/552 [06:26<09:26,  1.70s/it]\u001b[A\u001b[A\u001b[A"
     ]
    },
    {
     "name": "stdout",
     "output_type": "stream",
     "text": [
      "/tf/data/dementia/English/Pitt/Control/cookie/245-1.mp3\n"
     ]
    },
    {
     "name": "stderr",
     "output_type": "stream",
     "text": [
      "\n",
      "\n",
      "\n",
      " 40%|███▉      | 219/552 [06:28<10:42,  1.93s/it]\u001b[A\u001b[A\u001b[A"
     ]
    },
    {
     "name": "stdout",
     "output_type": "stream",
     "text": [
      "/tf/data/dementia/English/Pitt/Control/cookie/627-0.mp3\n"
     ]
    },
    {
     "name": "stderr",
     "output_type": "stream",
     "text": [
      "\n",
      "\n",
      "\n",
      " 40%|███▉      | 220/552 [06:30<09:39,  1.74s/it]\u001b[A\u001b[A\u001b[A"
     ]
    },
    {
     "name": "stdout",
     "output_type": "stream",
     "text": [
      "/tf/data/dementia/English/Pitt/Control/cookie/612-0.mp3\n"
     ]
    },
    {
     "name": "stderr",
     "output_type": "stream",
     "text": [
      "\n",
      "\n",
      "\n",
      " 40%|████      | 221/552 [06:32<10:53,  1.97s/it]\u001b[A\u001b[A\u001b[A"
     ]
    },
    {
     "name": "stdout",
     "output_type": "stream",
     "text": [
      "/tf/data/dementia/English/Pitt/Control/cookie/141-2.mp3\n"
     ]
    },
    {
     "name": "stderr",
     "output_type": "stream",
     "text": [
      "\n",
      "\n",
      "\n",
      " 40%|████      | 222/552 [06:34<09:58,  1.81s/it]\u001b[A\u001b[A\u001b[A"
     ]
    },
    {
     "name": "stdout",
     "output_type": "stream",
     "text": [
      "/tf/data/dementia/English/Pitt/Control/cookie/034-0.mp3\n"
     ]
    },
    {
     "name": "stderr",
     "output_type": "stream",
     "text": [
      "\n",
      "\n",
      "\n",
      " 40%|████      | 223/552 [06:37<12:04,  2.20s/it]\u001b[A\u001b[A\u001b[A"
     ]
    },
    {
     "name": "stdout",
     "output_type": "stream",
     "text": [
      "/tf/data/dementia/English/Pitt/Control/cookie/196-1.mp3\n"
     ]
    },
    {
     "name": "stderr",
     "output_type": "stream",
     "text": [
      "\n",
      "\n",
      "\n",
      " 41%|████      | 224/552 [06:39<11:35,  2.12s/it]\u001b[A\u001b[A\u001b[A"
     ]
    },
    {
     "name": "stdout",
     "output_type": "stream",
     "text": [
      "/tf/data/dementia/English/Pitt/Control/cookie/209-3.mp3\n"
     ]
    },
    {
     "name": "stderr",
     "output_type": "stream",
     "text": [
      "\n",
      "\n",
      "\n",
      " 41%|████      | 225/552 [06:43<15:13,  2.79s/it]\u001b[A\u001b[A\u001b[A"
     ]
    },
    {
     "name": "stdout",
     "output_type": "stream",
     "text": [
      "/tf/data/dementia/English/Pitt/Control/cookie/028-4.mp3\n"
     ]
    },
    {
     "name": "stderr",
     "output_type": "stream",
     "text": [
      "\n",
      "\n",
      "\n",
      " 41%|████      | 226/552 [06:45<13:59,  2.58s/it]\u001b[A\u001b[A\u001b[A"
     ]
    },
    {
     "name": "stdout",
     "output_type": "stream",
     "text": [
      "/tf/data/dementia/English/Pitt/Control/cookie/132-1.mp3\n"
     ]
    },
    {
     "name": "stderr",
     "output_type": "stream",
     "text": [
      "\n",
      "\n",
      "\n",
      " 41%|████      | 227/552 [06:47<12:27,  2.30s/it]\u001b[A\u001b[A\u001b[A"
     ]
    },
    {
     "name": "stdout",
     "output_type": "stream",
     "text": [
      "/tf/data/dementia/English/Pitt/Control/cookie/299-1.mp3\n"
     ]
    },
    {
     "name": "stderr",
     "output_type": "stream",
     "text": [
      "\n",
      "\n",
      "\n",
      " 41%|████▏     | 228/552 [06:47<09:43,  1.80s/it]\u001b[A\u001b[A\u001b[A"
     ]
    },
    {
     "name": "stdout",
     "output_type": "stream",
     "text": [
      "/tf/data/dementia/English/Pitt/Control/cookie/002-3.mp3\n"
     ]
    },
    {
     "name": "stderr",
     "output_type": "stream",
     "text": [
      "\n",
      "\n",
      "\n",
      " 41%|████▏     | 229/552 [06:51<12:15,  2.28s/it]\u001b[A\u001b[A\u001b[A"
     ]
    },
    {
     "name": "stdout",
     "output_type": "stream",
     "text": [
      "/tf/data/dementia/English/Pitt/Control/cookie/318-1.mp3\n"
     ]
    },
    {
     "name": "stderr",
     "output_type": "stream",
     "text": [
      "\n",
      "\n",
      "\n",
      " 42%|████▏     | 230/552 [06:52<10:03,  1.87s/it]\u001b[A\u001b[A\u001b[A"
     ]
    },
    {
     "name": "stdout",
     "output_type": "stream",
     "text": [
      "/tf/data/dementia/English/Pitt/Control/cookie/071-0.mp3\n"
     ]
    },
    {
     "name": "stderr",
     "output_type": "stream",
     "text": [
      "\n",
      "\n",
      "\n",
      " 42%|████▏     | 231/552 [06:53<08:26,  1.58s/it]\u001b[A\u001b[A\u001b[A"
     ]
    },
    {
     "name": "stdout",
     "output_type": "stream",
     "text": [
      "/tf/data/dementia/English/Pitt/Control/cookie/150-0.mp3\n"
     ]
    },
    {
     "name": "stderr",
     "output_type": "stream",
     "text": [
      "\n",
      "\n",
      "\n",
      " 42%|████▏     | 232/552 [06:54<07:38,  1.43s/it]\u001b[A\u001b[A\u001b[A"
     ]
    },
    {
     "name": "stdout",
     "output_type": "stream",
     "text": [
      "/tf/data/dementia/English/Pitt/Control/cookie/245-0.mp3\n"
     ]
    },
    {
     "name": "stderr",
     "output_type": "stream",
     "text": [
      "\n",
      "\n",
      "\n",
      " 42%|████▏     | 233/552 [06:55<07:29,  1.41s/it]\u001b[A\u001b[A\u001b[A"
     ]
    },
    {
     "name": "stdout",
     "output_type": "stream",
     "text": [
      "/tf/data/dementia/English/Pitt/Control/cookie/137-3.mp3\n"
     ]
    },
    {
     "name": "stderr",
     "output_type": "stream",
     "text": [
      "\n",
      "\n",
      "\n",
      " 42%|████▏     | 234/552 [06:57<08:09,  1.54s/it]\u001b[A\u001b[A\u001b[A"
     ]
    },
    {
     "name": "stdout",
     "output_type": "stream",
     "text": [
      "/tf/data/dementia/English/Pitt/Control/cookie/017-4.mp3\n"
     ]
    },
    {
     "name": "stderr",
     "output_type": "stream",
     "text": [
      "\n",
      "\n",
      "\n",
      " 43%|████▎     | 235/552 [07:01<11:18,  2.14s/it]\u001b[A\u001b[A\u001b[A"
     ]
    },
    {
     "name": "stdout",
     "output_type": "stream",
     "text": [
      "/tf/data/dementia/English/Pitt/Control/cookie/028-1.mp3\n"
     ]
    },
    {
     "name": "stderr",
     "output_type": "stream",
     "text": [
      "\n",
      "\n",
      "\n",
      " 43%|████▎     | 236/552 [07:03<11:09,  2.12s/it]\u001b[A\u001b[A\u001b[A"
     ]
    },
    {
     "name": "stdout",
     "output_type": "stream",
     "text": [
      "/tf/data/dementia/English/Pitt/Control/cookie/086-0.mp3\n"
     ]
    },
    {
     "name": "stderr",
     "output_type": "stream",
     "text": [
      "\n",
      "\n",
      "\n",
      " 43%|████▎     | 237/552 [07:06<13:43,  2.61s/it]\u001b[A\u001b[A\u001b[A"
     ]
    },
    {
     "name": "stdout",
     "output_type": "stream",
     "text": [
      "/tf/data/dementia/English/Pitt/Control/cookie/255-1.mp3\n"
     ]
    },
    {
     "name": "stderr",
     "output_type": "stream",
     "text": [
      "\n",
      "\n",
      "\n",
      " 43%|████▎     | 238/552 [07:07<10:44,  2.05s/it]\u001b[A\u001b[A\u001b[A"
     ]
    },
    {
     "name": "stdout",
     "output_type": "stream",
     "text": [
      "/tf/data/dementia/English/Pitt/Control/cookie/274-1.mp3\n"
     ]
    },
    {
     "name": "stderr",
     "output_type": "stream",
     "text": [
      "\n",
      "\n",
      "\n",
      " 43%|████▎     | 239/552 [07:08<08:50,  1.69s/it]\u001b[A\u001b[A\u001b[A"
     ]
    },
    {
     "name": "stdout",
     "output_type": "stream",
     "text": [
      "/tf/data/dementia/English/Pitt/Control/cookie/143-3.mp3\n"
     ]
    },
    {
     "name": "stderr",
     "output_type": "stream",
     "text": [
      "\n",
      "\n",
      "\n",
      " 43%|████▎     | 240/552 [07:08<06:50,  1.32s/it]\u001b[A\u001b[A\u001b[A"
     ]
    },
    {
     "name": "stdout",
     "output_type": "stream",
     "text": [
      "/tf/data/dementia/English/Pitt/Control/cookie/071-3.mp3\n"
     ]
    },
    {
     "name": "stderr",
     "output_type": "stream",
     "text": [
      "\n",
      "\n",
      "\n",
      " 44%|████▎     | 241/552 [07:10<07:17,  1.41s/it]\u001b[A\u001b[A\u001b[A"
     ]
    },
    {
     "name": "stdout",
     "output_type": "stream",
     "text": [
      "/tf/data/dementia/English/Pitt/Control/cookie/059-3.mp3\n"
     ]
    },
    {
     "name": "stderr",
     "output_type": "stream",
     "text": [
      "\n",
      "\n",
      "\n",
      " 44%|████▍     | 242/552 [07:11<06:21,  1.23s/it]\u001b[A\u001b[A\u001b[A"
     ]
    },
    {
     "name": "stdout",
     "output_type": "stream",
     "text": [
      "/tf/data/dementia/English/Pitt/Control/cookie/093-1.mp3\n"
     ]
    },
    {
     "name": "stderr",
     "output_type": "stream",
     "text": [
      "\n",
      "\n",
      "\n",
      " 44%|████▍     | 243/552 [07:11<04:56,  1.04it/s]\u001b[A\u001b[A\u001b[A"
     ]
    },
    {
     "name": "stdout",
     "output_type": "stream",
     "text": [
      "/tf/data/dementia/English/Pitt/Dementia/cookie/563-0.mp3\n"
     ]
    },
    {
     "name": "stderr",
     "output_type": "stream",
     "text": [
      "\n",
      "\n",
      "\n",
      " 44%|████▍     | 244/552 [07:14<07:06,  1.39s/it]\u001b[A\u001b[A\u001b[A"
     ]
    },
    {
     "name": "stdout",
     "output_type": "stream",
     "text": [
      "/tf/data/dementia/English/Pitt/Dementia/cookie/076-4.mp3\n"
     ]
    },
    {
     "name": "stderr",
     "output_type": "stream",
     "text": [
      "\n",
      "\n",
      "\n",
      " 44%|████▍     | 245/552 [07:15<07:01,  1.37s/it]\u001b[A\u001b[A\u001b[A"
     ]
    },
    {
     "name": "stdout",
     "output_type": "stream",
     "text": [
      "/tf/data/dementia/English/Pitt/Dementia/cookie/341-0.mp3\n"
     ]
    },
    {
     "name": "stderr",
     "output_type": "stream",
     "text": [
      "\n",
      "\n",
      "\n",
      " 45%|████▍     | 246/552 [07:17<08:18,  1.63s/it]\u001b[A\u001b[A\u001b[A"
     ]
    },
    {
     "name": "stdout",
     "output_type": "stream",
     "text": [
      "/tf/data/dementia/English/Pitt/Dementia/cookie/164-3.mp3\n"
     ]
    },
    {
     "name": "stderr",
     "output_type": "stream",
     "text": [
      "\n",
      "\n",
      "\n",
      " 45%|████▍     | 247/552 [07:18<07:48,  1.53s/it]\u001b[A\u001b[A\u001b[A"
     ]
    },
    {
     "name": "stdout",
     "output_type": "stream",
     "text": [
      "/tf/data/dementia/English/Pitt/Dementia/cookie/585-0.mp3\n"
     ]
    },
    {
     "name": "stderr",
     "output_type": "stream",
     "text": [
      "\n",
      "\n",
      "\n",
      " 45%|████▍     | 248/552 [07:21<09:21,  1.85s/it]\u001b[A\u001b[A\u001b[A"
     ]
    },
    {
     "name": "stdout",
     "output_type": "stream",
     "text": [
      "/tf/data/dementia/English/Pitt/Dementia/cookie/695-0.mp3\n"
     ]
    },
    {
     "name": "stderr",
     "output_type": "stream",
     "text": [
      "\n",
      "\n",
      "\n",
      " 45%|████▌     | 249/552 [07:23<09:18,  1.84s/it]\u001b[A\u001b[A\u001b[A"
     ]
    },
    {
     "name": "stdout",
     "output_type": "stream",
     "text": [
      "/tf/data/dementia/English/Pitt/Dementia/cookie/381-1.mp3\n"
     ]
    },
    {
     "name": "stderr",
     "output_type": "stream",
     "text": [
      "\n",
      "\n",
      "\n",
      " 45%|████▌     | 250/552 [07:25<09:02,  1.80s/it]\u001b[A\u001b[A\u001b[A"
     ]
    },
    {
     "name": "stdout",
     "output_type": "stream",
     "text": [
      "/tf/data/dementia/English/Pitt/Dementia/cookie/504-0.mp3\n"
     ]
    },
    {
     "name": "stderr",
     "output_type": "stream",
     "text": [
      "\n",
      "\n",
      "\n",
      " 45%|████▌     | 251/552 [07:25<07:45,  1.55s/it]\u001b[A\u001b[A\u001b[A"
     ]
    },
    {
     "name": "stdout",
     "output_type": "stream",
     "text": [
      "/tf/data/dementia/English/Pitt/Dementia/cookie/689-0.mp3\n"
     ]
    },
    {
     "name": "stderr",
     "output_type": "stream",
     "text": [
      "\n",
      "\n",
      "\n",
      " 46%|████▌     | 252/552 [07:27<07:23,  1.48s/it]\u001b[A\u001b[A\u001b[A"
     ]
    },
    {
     "name": "stdout",
     "output_type": "stream",
     "text": [
      "/tf/data/dementia/English/Pitt/Dementia/cookie/252-2.mp3\n"
     ]
    },
    {
     "name": "stderr",
     "output_type": "stream",
     "text": [
      "\n",
      "\n",
      "\n",
      " 46%|████▌     | 253/552 [07:28<07:06,  1.43s/it]\u001b[A\u001b[A\u001b[A"
     ]
    },
    {
     "name": "stdout",
     "output_type": "stream",
     "text": [
      "/tf/data/dementia/English/Pitt/Dementia/cookie/252-0.mp3\n"
     ]
    },
    {
     "name": "stderr",
     "output_type": "stream",
     "text": [
      "\n",
      "\n",
      "\n",
      " 46%|████▌     | 254/552 [07:30<07:35,  1.53s/it]\u001b[A\u001b[A\u001b[A"
     ]
    },
    {
     "name": "stdout",
     "output_type": "stream",
     "text": [
      "/tf/data/dementia/English/Pitt/Dementia/cookie/244-0.mp3\n"
     ]
    },
    {
     "name": "stderr",
     "output_type": "stream",
     "text": [
      "\n",
      "\n",
      "\n",
      " 46%|████▌     | 255/552 [07:37<16:01,  3.24s/it]\u001b[A\u001b[A\u001b[A"
     ]
    },
    {
     "name": "stdout",
     "output_type": "stream",
     "text": [
      "/tf/data/dementia/English/Pitt/Dementia/cookie/058-4.mp3\n"
     ]
    },
    {
     "name": "stderr",
     "output_type": "stream",
     "text": [
      "\n",
      "\n",
      "\n",
      " 46%|████▋     | 256/552 [07:38<13:15,  2.69s/it]\u001b[A\u001b[A\u001b[A"
     ]
    },
    {
     "name": "stdout",
     "output_type": "stream",
     "text": [
      "/tf/data/dementia/English/Pitt/Dementia/cookie/672-0.mp3\n"
     ]
    },
    {
     "name": "stderr",
     "output_type": "stream",
     "text": [
      "\n",
      "\n",
      "\n",
      " 47%|████▋     | 257/552 [07:39<10:17,  2.09s/it]\u001b[A\u001b[A\u001b[A"
     ]
    },
    {
     "name": "stdout",
     "output_type": "stream",
     "text": [
      "/tf/data/dementia/English/Pitt/Dementia/cookie/234-0.mp3\n"
     ]
    },
    {
     "name": "stderr",
     "output_type": "stream",
     "text": [
      "\n",
      "\n",
      "\n",
      " 47%|████▋     | 258/552 [07:40<07:40,  1.57s/it]\u001b[A\u001b[A\u001b[A"
     ]
    },
    {
     "name": "stdout",
     "output_type": "stream",
     "text": [
      "/tf/data/dementia/English/Pitt/Dementia/cookie/067-2.mp3\n"
     ]
    },
    {
     "name": "stderr",
     "output_type": "stream",
     "text": [
      "\n",
      "\n",
      "\n",
      " 47%|████▋     | 259/552 [07:42<08:50,  1.81s/it]\u001b[A\u001b[A\u001b[A"
     ]
    },
    {
     "name": "stdout",
     "output_type": "stream",
     "text": [
      "/tf/data/dementia/English/Pitt/Dementia/cookie/601-0.mp3\n"
     ]
    },
    {
     "name": "stderr",
     "output_type": "stream",
     "text": [
      "\n",
      "\n",
      "\n",
      " 47%|████▋     | 260/552 [07:43<07:12,  1.48s/it]\u001b[A\u001b[A\u001b[A"
     ]
    },
    {
     "name": "stdout",
     "output_type": "stream",
     "text": [
      "/tf/data/dementia/English/Pitt/Dementia/cookie/282-0.mp3\n"
     ]
    },
    {
     "name": "stderr",
     "output_type": "stream",
     "text": [
      "\n",
      "\n",
      "\n",
      " 47%|████▋     | 261/552 [07:45<08:02,  1.66s/it]\u001b[A\u001b[A\u001b[A"
     ]
    },
    {
     "name": "stdout",
     "output_type": "stream",
     "text": [
      "/tf/data/dementia/English/Pitt/Dementia/cookie/223-1.mp3\n"
     ]
    },
    {
     "name": "stderr",
     "output_type": "stream",
     "text": [
      "\n",
      "\n",
      "\n",
      " 47%|████▋     | 262/552 [07:48<10:42,  2.21s/it]\u001b[A\u001b[A\u001b[A"
     ]
    },
    {
     "name": "stdout",
     "output_type": "stream",
     "text": [
      "/tf/data/dementia/English/Pitt/Dementia/cookie/010-4.mp3\n"
     ]
    },
    {
     "name": "stderr",
     "output_type": "stream",
     "text": [
      "\n",
      "\n",
      "\n",
      " 48%|████▊     | 263/552 [07:50<10:36,  2.20s/it]\u001b[A\u001b[A\u001b[A"
     ]
    },
    {
     "name": "stdout",
     "output_type": "stream",
     "text": [
      "/tf/data/dementia/English/Pitt/Dementia/cookie/016-3.mp3\n"
     ]
    },
    {
     "name": "stderr",
     "output_type": "stream",
     "text": [
      "\n",
      "\n",
      "\n",
      " 48%|████▊     | 264/552 [07:51<08:05,  1.69s/it]\u001b[A\u001b[A\u001b[A"
     ]
    },
    {
     "name": "stdout",
     "output_type": "stream",
     "text": [
      "/tf/data/dementia/English/Pitt/Dementia/cookie/714-0.mp3\n"
     ]
    },
    {
     "name": "stderr",
     "output_type": "stream",
     "text": [
      "\n",
      "\n",
      "\n",
      " 48%|████▊     | 265/552 [07:53<09:01,  1.89s/it]\u001b[A\u001b[A\u001b[A"
     ]
    },
    {
     "name": "stdout",
     "output_type": "stream",
     "text": [
      "/tf/data/dementia/English/Pitt/Dementia/cookie/350-0.mp3\n"
     ]
    },
    {
     "name": "stderr",
     "output_type": "stream",
     "text": [
      "\n",
      "\n",
      "\n",
      " 48%|████▊     | 266/552 [07:56<10:35,  2.22s/it]\u001b[A\u001b[A\u001b[A"
     ]
    },
    {
     "name": "stdout",
     "output_type": "stream",
     "text": [
      "/tf/data/dementia/English/Pitt/Dementia/cookie/279-1.mp3\n"
     ]
    },
    {
     "name": "stderr",
     "output_type": "stream",
     "text": [
      "\n",
      "\n",
      "\n",
      " 48%|████▊     | 267/552 [07:57<07:51,  1.66s/it]\u001b[A\u001b[A\u001b[A"
     ]
    },
    {
     "name": "stdout",
     "output_type": "stream",
     "text": [
      "/tf/data/dementia/English/Pitt/Dementia/cookie/663-0.mp3\n"
     ]
    },
    {
     "name": "stderr",
     "output_type": "stream",
     "text": [
      "\n",
      "\n",
      "\n",
      " 49%|████▊     | 268/552 [07:57<05:56,  1.26s/it]\u001b[A\u001b[A\u001b[A"
     ]
    },
    {
     "name": "stdout",
     "output_type": "stream",
     "text": [
      "/tf/data/dementia/English/Pitt/Dementia/cookie/450-1.mp3\n"
     ]
    },
    {
     "name": "stderr",
     "output_type": "stream",
     "text": [
      "\n",
      "\n",
      "\n",
      " 49%|████▊     | 269/552 [07:59<06:33,  1.39s/it]\u001b[A\u001b[A\u001b[A"
     ]
    },
    {
     "name": "stdout",
     "output_type": "stream",
     "text": [
      "/tf/data/dementia/English/Pitt/Dementia/cookie/078-0.mp3\n"
     ]
    },
    {
     "name": "stderr",
     "output_type": "stream",
     "text": [
      "\n",
      "\n",
      "\n",
      " 49%|████▉     | 270/552 [08:01<08:31,  1.81s/it]\u001b[A\u001b[A\u001b[A"
     ]
    },
    {
     "name": "stdout",
     "output_type": "stream",
     "text": [
      "/tf/data/dementia/English/Pitt/Dementia/cookie/238-0.mp3\n"
     ]
    },
    {
     "name": "stderr",
     "output_type": "stream",
     "text": [
      "\n",
      "\n",
      "\n",
      " 49%|████▉     | 271/552 [08:06<12:20,  2.64s/it]\u001b[A\u001b[A\u001b[A"
     ]
    },
    {
     "name": "stdout",
     "output_type": "stream",
     "text": [
      "/tf/data/dementia/English/Pitt/Dementia/cookie/122-1.mp3\n"
     ]
    },
    {
     "name": "stderr",
     "output_type": "stream",
     "text": [
      "\n",
      "\n",
      "\n",
      " 49%|████▉     | 272/552 [08:11<15:24,  3.30s/it]\u001b[A\u001b[A\u001b[A"
     ]
    },
    {
     "name": "stdout",
     "output_type": "stream",
     "text": [
      "/tf/data/dementia/English/Pitt/Dementia/cookie/650-0.mp3\n"
     ]
    },
    {
     "name": "stderr",
     "output_type": "stream",
     "text": [
      "\n",
      "\n",
      "\n",
      " 49%|████▉     | 273/552 [08:14<15:51,  3.41s/it]\u001b[A\u001b[A\u001b[A"
     ]
    },
    {
     "name": "stdout",
     "output_type": "stream",
     "text": [
      "/tf/data/dementia/English/Pitt/Dementia/cookie/183-2.mp3\n"
     ]
    },
    {
     "name": "stderr",
     "output_type": "stream",
     "text": [
      "\n",
      "\n",
      "\n",
      " 50%|████▉     | 274/552 [08:16<13:04,  2.82s/it]\u001b[A\u001b[A\u001b[A"
     ]
    },
    {
     "name": "stdout",
     "output_type": "stream",
     "text": [
      "/tf/data/dementia/English/Pitt/Dementia/cookie/551-0.mp3\n"
     ]
    },
    {
     "name": "stderr",
     "output_type": "stream",
     "text": [
      "\n",
      "\n",
      "\n",
      " 50%|████▉     | 275/552 [08:18<12:30,  2.71s/it]\u001b[A\u001b[A\u001b[A"
     ]
    },
    {
     "name": "stdout",
     "output_type": "stream",
     "text": [
      "/tf/data/dementia/English/Pitt/Dementia/cookie/205-1.mp3\n"
     ]
    },
    {
     "name": "stderr",
     "output_type": "stream",
     "text": [
      "\n",
      "\n",
      "\n",
      " 50%|█████     | 276/552 [08:23<14:57,  3.25s/it]\u001b[A\u001b[A\u001b[A"
     ]
    },
    {
     "name": "stdout",
     "output_type": "stream",
     "text": [
      "/tf/data/dementia/English/Pitt/Dementia/cookie/270-1.mp3\n"
     ]
    },
    {
     "name": "stderr",
     "output_type": "stream",
     "text": [
      "\n",
      "\n",
      "\n",
      " 50%|█████     | 277/552 [08:24<12:39,  2.76s/it]\u001b[A\u001b[A\u001b[A"
     ]
    },
    {
     "name": "stdout",
     "output_type": "stream",
     "text": [
      "/tf/data/dementia/English/Pitt/Dementia/cookie/310-0.mp3\n"
     ]
    },
    {
     "name": "stderr",
     "output_type": "stream",
     "text": [
      "\n",
      "\n",
      "\n",
      " 50%|█████     | 278/552 [08:27<12:28,  2.73s/it]\u001b[A\u001b[A\u001b[A"
     ]
    },
    {
     "name": "stdout",
     "output_type": "stream",
     "text": [
      "/tf/data/dementia/English/Pitt/Dementia/cookie/023-0.mp3\n"
     ]
    },
    {
     "name": "stderr",
     "output_type": "stream",
     "text": [
      "\n",
      "\n",
      "\n",
      " 51%|█████     | 279/552 [08:31<14:01,  3.08s/it]\u001b[A\u001b[A\u001b[A"
     ]
    },
    {
     "name": "stdout",
     "output_type": "stream",
     "text": [
      "/tf/data/dementia/English/Pitt/Dementia/cookie/057-0.mp3\n"
     ]
    },
    {
     "name": "stderr",
     "output_type": "stream",
     "text": [
      "\n",
      "\n",
      "\n",
      " 51%|█████     | 280/552 [08:34<13:13,  2.92s/it]\u001b[A\u001b[A\u001b[A"
     ]
    },
    {
     "name": "stdout",
     "output_type": "stream",
     "text": [
      "/tf/data/dementia/English/Pitt/Dementia/cookie/157-2.mp3\n"
     ]
    },
    {
     "name": "stderr",
     "output_type": "stream",
     "text": [
      "\n",
      "\n",
      "\n",
      " 51%|█████     | 281/552 [08:34<10:24,  2.30s/it]\u001b[A\u001b[A\u001b[A"
     ]
    },
    {
     "name": "stdout",
     "output_type": "stream",
     "text": [
      "/tf/data/dementia/English/Pitt/Dementia/cookie/051-3.mp3\n"
     ]
    },
    {
     "name": "stderr",
     "output_type": "stream",
     "text": [
      "\n",
      "\n",
      "\n",
      " 51%|█████     | 282/552 [08:38<12:14,  2.72s/it]\u001b[A\u001b[A\u001b[A"
     ]
    },
    {
     "name": "stdout",
     "output_type": "stream",
     "text": [
      "/tf/data/dementia/English/Pitt/Dementia/cookie/001-2.mp3\n"
     ]
    },
    {
     "name": "stderr",
     "output_type": "stream",
     "text": [
      "\n",
      "\n",
      "\n",
      " 51%|█████▏    | 283/552 [08:41<12:02,  2.69s/it]\u001b[A\u001b[A\u001b[A"
     ]
    },
    {
     "name": "stdout",
     "output_type": "stream",
     "text": [
      "/tf/data/dementia/English/Pitt/Dementia/cookie/493-0.mp3\n"
     ]
    },
    {
     "name": "stderr",
     "output_type": "stream",
     "text": [
      "\n",
      "\n",
      "\n",
      " 51%|█████▏    | 284/552 [08:44<12:17,  2.75s/it]\u001b[A\u001b[A\u001b[A"
     ]
    },
    {
     "name": "stdout",
     "output_type": "stream",
     "text": [
      "/tf/data/dementia/English/Pitt/Dementia/cookie/651-0.mp3\n"
     ]
    },
    {
     "name": "stderr",
     "output_type": "stream",
     "text": [
      "\n",
      "\n",
      "\n",
      " 52%|█████▏    | 285/552 [08:47<12:50,  2.89s/it]\u001b[A\u001b[A\u001b[A"
     ]
    },
    {
     "name": "stdout",
     "output_type": "stream",
     "text": [
      "/tf/data/dementia/English/Pitt/Dementia/cookie/325-1.mp3\n"
     ]
    },
    {
     "name": "stderr",
     "output_type": "stream",
     "text": [
      "\n",
      "\n",
      "\n",
      " 52%|█████▏    | 286/552 [08:48<10:12,  2.30s/it]\u001b[A\u001b[A\u001b[A"
     ]
    },
    {
     "name": "stdout",
     "output_type": "stream",
     "text": [
      "/tf/data/dementia/English/Pitt/Dementia/cookie/639-0.mp3\n"
     ]
    },
    {
     "name": "stderr",
     "output_type": "stream",
     "text": [
      "\n",
      "\n",
      "\n",
      " 52%|█████▏    | 287/552 [08:50<09:47,  2.22s/it]\u001b[A\u001b[A\u001b[A"
     ]
    },
    {
     "name": "stdout",
     "output_type": "stream",
     "text": [
      "/tf/data/dementia/English/Pitt/Dementia/cookie/035-1.mp3\n"
     ]
    },
    {
     "name": "stderr",
     "output_type": "stream",
     "text": [
      "\n",
      "\n",
      "\n",
      " 52%|█████▏    | 288/552 [08:52<09:54,  2.25s/it]\u001b[A\u001b[A\u001b[A"
     ]
    },
    {
     "name": "stdout",
     "output_type": "stream",
     "text": [
      "/tf/data/dementia/English/Pitt/Dementia/cookie/029-1.mp3\n"
     ]
    },
    {
     "name": "stderr",
     "output_type": "stream",
     "text": [
      "\n",
      "\n",
      "\n",
      " 52%|█████▏    | 289/552 [08:57<13:29,  3.08s/it]\u001b[A\u001b[A\u001b[A"
     ]
    },
    {
     "name": "stdout",
     "output_type": "stream",
     "text": [
      "/tf/data/dementia/English/Pitt/Dementia/cookie/339-0.mp3\n"
     ]
    },
    {
     "name": "stderr",
     "output_type": "stream",
     "text": [
      "\n",
      "\n",
      "\n",
      " 53%|█████▎    | 290/552 [08:58<10:53,  2.49s/it]\u001b[A\u001b[A\u001b[A"
     ]
    },
    {
     "name": "stdout",
     "output_type": "stream",
     "text": [
      "/tf/data/dementia/English/Pitt/Dementia/cookie/357-0.mp3\n"
     ]
    },
    {
     "name": "stderr",
     "output_type": "stream",
     "text": [
      "\n",
      "\n",
      "\n",
      " 53%|█████▎    | 291/552 [09:00<10:27,  2.41s/it]\u001b[A\u001b[A\u001b[A"
     ]
    },
    {
     "name": "stdout",
     "output_type": "stream",
     "text": [
      "/tf/data/dementia/English/Pitt/Dementia/cookie/270-0.mp3\n"
     ]
    },
    {
     "name": "stderr",
     "output_type": "stream",
     "text": [
      "\n",
      "\n",
      "\n",
      " 53%|█████▎    | 292/552 [09:03<10:59,  2.54s/it]\u001b[A\u001b[A\u001b[A"
     ]
    },
    {
     "name": "stdout",
     "output_type": "stream",
     "text": [
      "/tf/data/dementia/English/Pitt/Dementia/cookie/579-0.mp3\n"
     ]
    },
    {
     "name": "stderr",
     "output_type": "stream",
     "text": [
      "\n",
      "\n",
      "\n",
      " 53%|█████▎    | 293/552 [09:04<09:07,  2.11s/it]\u001b[A\u001b[A\u001b[A"
     ]
    },
    {
     "name": "stdout",
     "output_type": "stream",
     "text": [
      "/tf/data/dementia/English/Pitt/Dementia/cookie/235-2.mp3\n"
     ]
    },
    {
     "name": "stderr",
     "output_type": "stream",
     "text": [
      "\n",
      "\n",
      "\n",
      " 53%|█████▎    | 294/552 [09:07<10:02,  2.34s/it]\u001b[A\u001b[A\u001b[A"
     ]
    },
    {
     "name": "stdout",
     "output_type": "stream",
     "text": [
      "/tf/data/dementia/English/Pitt/Dementia/cookie/087-1.mp3\n"
     ]
    },
    {
     "name": "stderr",
     "output_type": "stream",
     "text": [
      "\n",
      "\n",
      "\n",
      " 53%|█████▎    | 295/552 [09:10<10:04,  2.35s/it]\u001b[A\u001b[A\u001b[A"
     ]
    },
    {
     "name": "stdout",
     "output_type": "stream",
     "text": [
      "/tf/data/dementia/English/Pitt/Dementia/cookie/528-0.mp3\n"
     ]
    },
    {
     "name": "stderr",
     "output_type": "stream",
     "text": [
      "\n",
      "\n",
      "\n",
      " 54%|█████▎    | 296/552 [09:11<08:11,  1.92s/it]\u001b[A\u001b[A\u001b[A"
     ]
    },
    {
     "name": "stdout",
     "output_type": "stream",
     "text": [
      "/tf/data/dementia/English/Pitt/Dementia/cookie/511-0.mp3\n"
     ]
    },
    {
     "name": "stderr",
     "output_type": "stream",
     "text": [
      "\n",
      "\n",
      "\n",
      " 54%|█████▍    | 297/552 [09:13<08:40,  2.04s/it]\u001b[A\u001b[A\u001b[A"
     ]
    },
    {
     "name": "stdout",
     "output_type": "stream",
     "text": [
      "/tf/data/dementia/English/Pitt/Dementia/cookie/216-0.mp3\n"
     ]
    },
    {
     "name": "stderr",
     "output_type": "stream",
     "text": [
      "\n",
      "\n",
      "\n",
      " 54%|█████▍    | 298/552 [09:13<06:37,  1.56s/it]\u001b[A\u001b[A\u001b[A"
     ]
    },
    {
     "name": "stdout",
     "output_type": "stream",
     "text": [
      "/tf/data/dementia/English/Pitt/Dementia/cookie/368-0.mp3\n"
     ]
    },
    {
     "name": "stderr",
     "output_type": "stream",
     "text": [
      "\n",
      "\n",
      "\n",
      " 54%|█████▍    | 299/552 [09:15<06:05,  1.44s/it]\u001b[A\u001b[A\u001b[A"
     ]
    },
    {
     "name": "stdout",
     "output_type": "stream",
     "text": [
      "/tf/data/dementia/English/Pitt/Dementia/cookie/058-1.mp3\n"
     ]
    },
    {
     "name": "stderr",
     "output_type": "stream",
     "text": [
      "\n",
      "\n",
      "\n",
      " 54%|█████▍    | 300/552 [09:18<09:06,  2.17s/it]\u001b[A\u001b[A\u001b[A"
     ]
    },
    {
     "name": "stdout",
     "output_type": "stream",
     "text": [
      "/tf/data/dementia/English/Pitt/Dementia/cookie/350-1.mp3\n"
     ]
    },
    {
     "name": "stderr",
     "output_type": "stream",
     "text": [
      "\n",
      "\n",
      "\n",
      " 55%|█████▍    | 301/552 [09:22<10:26,  2.50s/it]\u001b[A\u001b[A\u001b[A"
     ]
    },
    {
     "name": "stdout",
     "output_type": "stream",
     "text": [
      "/tf/data/dementia/English/Pitt/Dementia/cookie/269-0.mp3\n"
     ]
    },
    {
     "name": "stderr",
     "output_type": "stream",
     "text": [
      "\n",
      "\n",
      "\n",
      " 55%|█████▍    | 302/552 [09:27<14:05,  3.38s/it]\u001b[A\u001b[A\u001b[A"
     ]
    },
    {
     "name": "stdout",
     "output_type": "stream",
     "text": [
      "/tf/data/dementia/English/Pitt/Dementia/cookie/181-3.mp3\n"
     ]
    },
    {
     "name": "stderr",
     "output_type": "stream",
     "text": [
      "\n",
      "\n",
      "\n",
      " 55%|█████▍    | 303/552 [09:29<12:27,  3.00s/it]\u001b[A\u001b[A\u001b[A"
     ]
    },
    {
     "name": "stdout",
     "output_type": "stream",
     "text": [
      "/tf/data/dementia/English/Pitt/Dementia/cookie/466-0.mp3\n"
     ]
    },
    {
     "name": "stderr",
     "output_type": "stream",
     "text": [
      "\n",
      "\n",
      "\n",
      " 55%|█████▌    | 304/552 [09:32<11:39,  2.82s/it]\u001b[A\u001b[A\u001b[A"
     ]
    },
    {
     "name": "stdout",
     "output_type": "stream",
     "text": [
      "/tf/data/dementia/English/Pitt/Dementia/cookie/497-1.mp3\n"
     ]
    },
    {
     "name": "stderr",
     "output_type": "stream",
     "text": [
      "\n",
      "\n",
      "\n",
      " 55%|█████▌    | 305/552 [09:33<09:59,  2.43s/it]\u001b[A\u001b[A\u001b[A"
     ]
    },
    {
     "name": "stdout",
     "output_type": "stream",
     "text": [
      "/tf/data/dementia/English/Pitt/Dementia/cookie/220-0.mp3\n"
     ]
    },
    {
     "name": "stderr",
     "output_type": "stream",
     "text": [
      "\n",
      "\n",
      "\n",
      " 55%|█████▌    | 306/552 [09:35<09:17,  2.27s/it]\u001b[A\u001b[A\u001b[A"
     ]
    },
    {
     "name": "stdout",
     "output_type": "stream",
     "text": [
      "/tf/data/dementia/English/Pitt/Dementia/cookie/283-0.mp3\n"
     ]
    },
    {
     "name": "stderr",
     "output_type": "stream",
     "text": [
      "\n",
      "\n",
      "\n",
      " 56%|█████▌    | 307/552 [09:37<08:16,  2.03s/it]\u001b[A\u001b[A\u001b[A"
     ]
    },
    {
     "name": "stdout",
     "output_type": "stream",
     "text": [
      "/tf/data/dementia/English/Pitt/Dementia/cookie/702-0.mp3\n"
     ]
    },
    {
     "name": "stderr",
     "output_type": "stream",
     "text": [
      "\n",
      "\n",
      "\n",
      " 56%|█████▌    | 308/552 [09:37<06:53,  1.70s/it]\u001b[A\u001b[A\u001b[A"
     ]
    },
    {
     "name": "stdout",
     "output_type": "stream",
     "text": [
      "/tf/data/dementia/English/Pitt/Dementia/cookie/016-4.mp3\n"
     ]
    },
    {
     "name": "stderr",
     "output_type": "stream",
     "text": [
      "\n",
      "\n",
      "\n",
      " 56%|█████▌    | 309/552 [09:40<07:57,  1.96s/it]\u001b[A\u001b[A\u001b[A"
     ]
    },
    {
     "name": "stdout",
     "output_type": "stream",
     "text": [
      "/tf/data/dementia/English/Pitt/Dementia/cookie/168-1.mp3\n"
     ]
    },
    {
     "name": "stderr",
     "output_type": "stream",
     "text": [
      "\n",
      "\n",
      "\n",
      " 56%|█████▌    | 310/552 [09:43<08:51,  2.20s/it]\u001b[A\u001b[A\u001b[A"
     ]
    },
    {
     "name": "stdout",
     "output_type": "stream",
     "text": [
      "/tf/data/dementia/English/Pitt/Dementia/cookie/609-0.mp3\n"
     ]
    },
    {
     "name": "stderr",
     "output_type": "stream",
     "text": [
      "\n",
      "\n",
      "\n",
      " 56%|█████▋    | 311/552 [09:47<11:09,  2.78s/it]\u001b[A\u001b[A\u001b[A"
     ]
    },
    {
     "name": "stdout",
     "output_type": "stream",
     "text": [
      "/tf/data/dementia/English/Pitt/Dementia/cookie/172-3.mp3\n"
     ]
    },
    {
     "name": "stderr",
     "output_type": "stream",
     "text": [
      "\n",
      "\n",
      "\n",
      " 57%|█████▋    | 312/552 [09:47<08:27,  2.11s/it]\u001b[A\u001b[A\u001b[A"
     ]
    },
    {
     "name": "stdout",
     "output_type": "stream",
     "text": [
      "/tf/data/dementia/English/Pitt/Dementia/cookie/642-0.mp3\n"
     ]
    },
    {
     "name": "stderr",
     "output_type": "stream",
     "text": [
      "\n",
      "\n",
      "\n",
      " 57%|█████▋    | 313/552 [09:49<07:34,  1.90s/it]\u001b[A\u001b[A\u001b[A"
     ]
    },
    {
     "name": "stdout",
     "output_type": "stream",
     "text": [
      "/tf/data/dementia/English/Pitt/Dementia/cookie/581-0.mp3\n"
     ]
    },
    {
     "name": "stderr",
     "output_type": "stream",
     "text": [
      "\n",
      "\n",
      "\n",
      " 57%|█████▋    | 314/552 [09:51<08:10,  2.06s/it]\u001b[A\u001b[A\u001b[A"
     ]
    },
    {
     "name": "stdout",
     "output_type": "stream",
     "text": [
      "/tf/data/dementia/English/Pitt/Dementia/cookie/181-0.mp3\n"
     ]
    },
    {
     "name": "stderr",
     "output_type": "stream",
     "text": [
      "\n",
      "\n",
      "\n",
      " 57%|█████▋    | 315/552 [09:53<08:13,  2.08s/it]\u001b[A\u001b[A\u001b[A"
     ]
    },
    {
     "name": "stdout",
     "output_type": "stream",
     "text": [
      "/tf/data/dementia/English/Pitt/Dementia/cookie/120-1.mp3\n"
     ]
    },
    {
     "name": "stderr",
     "output_type": "stream",
     "text": [
      "\n",
      "\n",
      "\n",
      " 57%|█████▋    | 316/552 [09:56<08:42,  2.22s/it]\u001b[A\u001b[A\u001b[A"
     ]
    },
    {
     "name": "stdout",
     "output_type": "stream",
     "text": [
      "/tf/data/dementia/English/Pitt/Dementia/cookie/057-2.mp3\n"
     ]
    },
    {
     "name": "stderr",
     "output_type": "stream",
     "text": [
      "\n",
      "\n",
      "\n",
      " 57%|█████▋    | 317/552 [10:00<11:20,  2.90s/it]\u001b[A\u001b[A\u001b[A"
     ]
    },
    {
     "name": "stdout",
     "output_type": "stream",
     "text": [
      "/tf/data/dementia/English/Pitt/Dementia/cookie/125-0.mp3\n"
     ]
    },
    {
     "name": "stderr",
     "output_type": "stream",
     "text": [
      "\n",
      "\n",
      "\n",
      " 58%|█████▊    | 318/552 [10:06<14:01,  3.60s/it]\u001b[A\u001b[A\u001b[A"
     ]
    },
    {
     "name": "stdout",
     "output_type": "stream",
     "text": [
      "/tf/data/dementia/English/Pitt/Dementia/cookie/065-0.mp3\n"
     ]
    },
    {
     "name": "stderr",
     "output_type": "stream",
     "text": [
      "\n",
      "\n",
      "\n",
      " 58%|█████▊    | 319/552 [10:08<12:35,  3.24s/it]\u001b[A\u001b[A\u001b[A"
     ]
    },
    {
     "name": "stdout",
     "output_type": "stream",
     "text": [
      "/tf/data/dementia/English/Pitt/Dementia/cookie/291-2.mp3\n"
     ]
    },
    {
     "name": "stderr",
     "output_type": "stream",
     "text": [
      "\n",
      "\n",
      "\n",
      " 58%|█████▊    | 320/552 [10:09<10:18,  2.67s/it]\u001b[A\u001b[A\u001b[A"
     ]
    },
    {
     "name": "stdout",
     "output_type": "stream",
     "text": [
      "/tf/data/dementia/English/Pitt/Dementia/cookie/508-1.mp3\n"
     ]
    },
    {
     "name": "stderr",
     "output_type": "stream",
     "text": [
      "\n",
      "\n",
      "\n",
      " 58%|█████▊    | 321/552 [10:11<09:04,  2.36s/it]\u001b[A\u001b[A\u001b[A"
     ]
    },
    {
     "name": "stdout",
     "output_type": "stream",
     "text": [
      "/tf/data/dementia/English/Pitt/Dementia/cookie/212-2.mp3\n"
     ]
    },
    {
     "name": "stderr",
     "output_type": "stream",
     "text": [
      "\n",
      "\n",
      "\n",
      " 58%|█████▊    | 322/552 [10:15<10:32,  2.75s/it]\u001b[A\u001b[A\u001b[A"
     ]
    },
    {
     "name": "stdout",
     "output_type": "stream",
     "text": [
      "/tf/data/dementia/English/Pitt/Dementia/cookie/181-1.mp3\n"
     ]
    },
    {
     "name": "stderr",
     "output_type": "stream",
     "text": [
      "\n",
      "\n",
      "\n",
      " 59%|█████▊    | 323/552 [10:17<10:07,  2.65s/it]\u001b[A\u001b[A\u001b[A"
     ]
    },
    {
     "name": "stdout",
     "output_type": "stream",
     "text": [
      "/tf/data/dementia/English/Pitt/Dementia/cookie/184-1.mp3\n"
     ]
    },
    {
     "name": "stderr",
     "output_type": "stream",
     "text": [
      "\n",
      "\n",
      "\n",
      " 59%|█████▊    | 324/552 [10:20<10:48,  2.85s/it]\u001b[A\u001b[A\u001b[A"
     ]
    },
    {
     "name": "stdout",
     "output_type": "stream",
     "text": [
      "/tf/data/dementia/English/Pitt/Dementia/cookie/094-2.mp3\n"
     ]
    },
    {
     "name": "stderr",
     "output_type": "stream",
     "text": [
      "\n",
      "\n",
      "\n",
      " 59%|█████▉    | 325/552 [10:24<11:21,  3.00s/it]\u001b[A\u001b[A\u001b[A"
     ]
    },
    {
     "name": "stdout",
     "output_type": "stream",
     "text": [
      "/tf/data/dementia/English/Pitt/Dementia/cookie/168-0.mp3\n"
     ]
    },
    {
     "name": "stderr",
     "output_type": "stream",
     "text": [
      "\n",
      "\n",
      "\n",
      " 59%|█████▉    | 326/552 [10:24<08:25,  2.24s/it]\u001b[A\u001b[A\u001b[A"
     ]
    },
    {
     "name": "stdout",
     "output_type": "stream",
     "text": [
      "/tf/data/dementia/English/Pitt/Dementia/cookie/218-0.mp3\n"
     ]
    },
    {
     "name": "stderr",
     "output_type": "stream",
     "text": [
      "\n",
      "\n",
      "\n",
      " 59%|█████▉    | 327/552 [10:28<09:57,  2.66s/it]\u001b[A\u001b[A\u001b[A"
     ]
    },
    {
     "name": "stdout",
     "output_type": "stream",
     "text": [
      "/tf/data/dementia/English/Pitt/Dementia/cookie/587-0.mp3\n"
     ]
    },
    {
     "name": "stderr",
     "output_type": "stream",
     "text": [
      "\n",
      "\n",
      "\n",
      " 59%|█████▉    | 328/552 [10:30<09:03,  2.43s/it]\u001b[A\u001b[A\u001b[A"
     ]
    },
    {
     "name": "stdout",
     "output_type": "stream",
     "text": [
      "/tf/data/dementia/English/Pitt/Dementia/cookie/122-0.mp3\n"
     ]
    },
    {
     "name": "stderr",
     "output_type": "stream",
     "text": [
      "\n",
      "\n",
      "\n",
      " 60%|█████▉    | 329/552 [10:32<08:41,  2.34s/it]\u001b[A\u001b[A\u001b[A"
     ]
    },
    {
     "name": "stdout",
     "output_type": "stream",
     "text": [
      "/tf/data/dementia/English/Pitt/Dementia/cookie/360-0.mp3\n"
     ]
    },
    {
     "name": "stderr",
     "output_type": "stream",
     "text": [
      "\n",
      "\n",
      "\n",
      " 60%|█████▉    | 330/552 [10:33<06:48,  1.84s/it]\u001b[A\u001b[A\u001b[A"
     ]
    },
    {
     "name": "stdout",
     "output_type": "stream",
     "text": [
      "/tf/data/dementia/English/Pitt/Dementia/cookie/203-1.mp3\n"
     ]
    },
    {
     "name": "stderr",
     "output_type": "stream",
     "text": [
      "\n",
      "\n",
      "\n",
      " 60%|█████▉    | 331/552 [10:37<09:19,  2.53s/it]\u001b[A\u001b[A\u001b[A"
     ]
    },
    {
     "name": "stdout",
     "output_type": "stream",
     "text": [
      "/tf/data/dementia/English/Pitt/Dementia/cookie/595-0.mp3\n"
     ]
    },
    {
     "name": "stderr",
     "output_type": "stream",
     "text": [
      "\n",
      "\n",
      "\n",
      " 60%|██████    | 332/552 [10:38<08:23,  2.29s/it]\u001b[A\u001b[A\u001b[A"
     ]
    },
    {
     "name": "stdout",
     "output_type": "stream",
     "text": [
      "/tf/data/dementia/English/Pitt/Dementia/cookie/325-0.mp3\n"
     ]
    },
    {
     "name": "stderr",
     "output_type": "stream",
     "text": [
      "\n",
      "\n",
      "\n",
      " 60%|██████    | 333/552 [10:40<07:15,  1.99s/it]\u001b[A\u001b[A\u001b[A"
     ]
    },
    {
     "name": "stdout",
     "output_type": "stream",
     "text": [
      "/tf/data/dementia/English/Pitt/Dementia/cookie/676-0.mp3\n"
     ]
    },
    {
     "name": "stderr",
     "output_type": "stream",
     "text": [
      "\n",
      "\n",
      "\n",
      " 61%|██████    | 334/552 [10:40<05:24,  1.49s/it]\u001b[A\u001b[A\u001b[A"
     ]
    },
    {
     "name": "stdout",
     "output_type": "stream",
     "text": [
      "/tf/data/dementia/English/Pitt/Dementia/cookie/051-0.mp3\n"
     ]
    },
    {
     "name": "stderr",
     "output_type": "stream",
     "text": [
      "\n",
      "\n",
      "\n",
      " 61%|██████    | 335/552 [10:42<05:33,  1.54s/it]\u001b[A\u001b[A\u001b[A"
     ]
    },
    {
     "name": "stdout",
     "output_type": "stream",
     "text": [
      "/tf/data/dementia/English/Pitt/Dementia/cookie/471-0.mp3\n"
     ]
    },
    {
     "name": "stderr",
     "output_type": "stream",
     "text": [
      "\n",
      "\n",
      "\n",
      " 61%|██████    | 336/552 [10:42<04:28,  1.24s/it]\u001b[A\u001b[A\u001b[A"
     ]
    },
    {
     "name": "stdout",
     "output_type": "stream",
     "text": [
      "/tf/data/dementia/English/Pitt/Dementia/cookie/355-0.mp3\n"
     ]
    },
    {
     "name": "stderr",
     "output_type": "stream",
     "text": [
      "\n",
      "\n",
      "\n",
      " 61%|██████    | 337/552 [10:43<03:53,  1.09s/it]\u001b[A\u001b[A\u001b[A"
     ]
    },
    {
     "name": "stdout",
     "output_type": "stream",
     "text": [
      "/tf/data/dementia/English/Pitt/Dementia/cookie/270-2.mp3\n"
     ]
    },
    {
     "name": "stderr",
     "output_type": "stream",
     "text": [
      "\n",
      "\n",
      "\n",
      " 61%|██████    | 338/552 [10:46<05:40,  1.59s/it]\u001b[A\u001b[A\u001b[A"
     ]
    },
    {
     "name": "stdout",
     "output_type": "stream",
     "text": [
      "/tf/data/dementia/English/Pitt/Dementia/cookie/016-1.mp3\n"
     ]
    },
    {
     "name": "stderr",
     "output_type": "stream",
     "text": [
      "\n",
      "\n",
      "\n",
      " 61%|██████▏   | 339/552 [10:47<05:07,  1.44s/it]\u001b[A\u001b[A\u001b[A"
     ]
    },
    {
     "name": "stdout",
     "output_type": "stream",
     "text": [
      "/tf/data/dementia/English/Pitt/Dementia/cookie/094-3.mp3\n"
     ]
    },
    {
     "name": "stderr",
     "output_type": "stream",
     "text": [
      "\n",
      "\n",
      "\n",
      " 62%|██████▏   | 340/552 [10:49<05:54,  1.67s/it]\u001b[A\u001b[A\u001b[A"
     ]
    },
    {
     "name": "stdout",
     "output_type": "stream",
     "text": [
      "/tf/data/dementia/English/Pitt/Dementia/cookie/237-2.mp3\n"
     ]
    },
    {
     "name": "stderr",
     "output_type": "stream",
     "text": [
      "\n",
      "\n",
      "\n",
      " 62%|██████▏   | 341/552 [10:52<06:42,  1.91s/it]\u001b[A\u001b[A\u001b[A"
     ]
    },
    {
     "name": "stdout",
     "output_type": "stream",
     "text": [
      "/tf/data/dementia/English/Pitt/Dementia/cookie/493-1.mp3\n"
     ]
    },
    {
     "name": "stderr",
     "output_type": "stream",
     "text": [
      "\n",
      "\n",
      "\n",
      " 62%|██████▏   | 342/552 [10:54<06:50,  1.95s/it]\u001b[A\u001b[A\u001b[A"
     ]
    },
    {
     "name": "stdout",
     "output_type": "stream",
     "text": [
      "/tf/data/dementia/English/Pitt/Dementia/cookie/282-2.mp3\n"
     ]
    },
    {
     "name": "stderr",
     "output_type": "stream",
     "text": [
      "\n",
      "\n",
      "\n",
      " 62%|██████▏   | 343/552 [10:55<06:39,  1.91s/it]\u001b[A\u001b[A\u001b[A"
     ]
    },
    {
     "name": "stdout",
     "output_type": "stream",
     "text": [
      "/tf/data/dementia/English/Pitt/Dementia/cookie/024-2.mp3\n"
     ]
    },
    {
     "name": "stderr",
     "output_type": "stream",
     "text": [
      "\n",
      "\n",
      "\n",
      " 62%|██████▏   | 344/552 [10:58<07:26,  2.15s/it]\u001b[A\u001b[A\u001b[A"
     ]
    },
    {
     "name": "stdout",
     "output_type": "stream",
     "text": [
      "/tf/data/dementia/English/Pitt/Dementia/cookie/223-0.mp3\n"
     ]
    },
    {
     "name": "stderr",
     "output_type": "stream",
     "text": [
      "\n",
      "\n",
      "\n",
      " 62%|██████▎   | 345/552 [11:01<08:32,  2.47s/it]\u001b[A\u001b[A\u001b[A"
     ]
    },
    {
     "name": "stdout",
     "output_type": "stream",
     "text": [
      "/tf/data/dementia/English/Pitt/Dementia/cookie/076-2.mp3\n"
     ]
    },
    {
     "name": "stderr",
     "output_type": "stream",
     "text": [
      "\n",
      "\n",
      "\n",
      " 63%|██████▎   | 346/552 [11:05<09:23,  2.74s/it]\u001b[A\u001b[A\u001b[A"
     ]
    },
    {
     "name": "stdout",
     "output_type": "stream",
     "text": [
      "/tf/data/dementia/English/Pitt/Dementia/cookie/472-0.mp3\n"
     ]
    },
    {
     "name": "stderr",
     "output_type": "stream",
     "text": [
      "\n",
      "\n",
      "\n",
      " 63%|██████▎   | 347/552 [11:07<09:21,  2.74s/it]\u001b[A\u001b[A\u001b[A"
     ]
    },
    {
     "name": "stdout",
     "output_type": "stream",
     "text": [
      "/tf/data/dementia/English/Pitt/Dementia/cookie/033-2.mp3\n"
     ]
    },
    {
     "name": "stderr",
     "output_type": "stream",
     "text": [
      "\n",
      "\n",
      "\n",
      " 63%|██████▎   | 348/552 [11:09<08:23,  2.47s/it]\u001b[A\u001b[A\u001b[A"
     ]
    },
    {
     "name": "stdout",
     "output_type": "stream",
     "text": [
      "/tf/data/dementia/English/Pitt/Dementia/cookie/035-0.mp3\n"
     ]
    },
    {
     "name": "stderr",
     "output_type": "stream",
     "text": [
      "\n",
      "\n",
      "\n",
      " 63%|██████▎   | 349/552 [11:11<08:03,  2.38s/it]\u001b[A\u001b[A\u001b[A"
     ]
    },
    {
     "name": "stdout",
     "output_type": "stream",
     "text": [
      "/tf/data/dementia/English/Pitt/Dementia/cookie/046-0.mp3\n"
     ]
    },
    {
     "name": "stderr",
     "output_type": "stream",
     "text": [
      "\n",
      "\n",
      "\n",
      " 63%|██████▎   | 350/552 [11:13<07:29,  2.23s/it]\u001b[A\u001b[A\u001b[A"
     ]
    },
    {
     "name": "stdout",
     "output_type": "stream",
     "text": [
      "/tf/data/dementia/English/Pitt/Dementia/cookie/014-2.mp3\n"
     ]
    },
    {
     "name": "stderr",
     "output_type": "stream",
     "text": [
      "\n",
      "\n",
      "\n",
      " 64%|██████▎   | 351/552 [11:18<09:33,  2.85s/it]\u001b[A\u001b[A\u001b[A"
     ]
    },
    {
     "name": "stdout",
     "output_type": "stream",
     "text": [
      "/tf/data/dementia/English/Pitt/Dementia/cookie/607-0.mp3\n"
     ]
    },
    {
     "name": "stderr",
     "output_type": "stream",
     "text": [
      "\n",
      "\n",
      "\n",
      " 64%|██████▍   | 352/552 [11:19<07:56,  2.38s/it]\u001b[A\u001b[A\u001b[A"
     ]
    },
    {
     "name": "stdout",
     "output_type": "stream",
     "text": [
      "/tf/data/dementia/English/Pitt/Dementia/cookie/039-0.mp3\n"
     ]
    },
    {
     "name": "stderr",
     "output_type": "stream",
     "text": [
      "\n",
      "\n",
      "\n",
      " 64%|██████▍   | 353/552 [11:21<07:34,  2.28s/it]\u001b[A\u001b[A\u001b[A"
     ]
    },
    {
     "name": "stdout",
     "output_type": "stream",
     "text": [
      "/tf/data/dementia/English/Pitt/Dementia/cookie/062-0.mp3\n"
     ]
    },
    {
     "name": "stderr",
     "output_type": "stream",
     "text": [
      "\n",
      "\n",
      "\n",
      " 64%|██████▍   | 354/552 [11:23<07:33,  2.29s/it]\u001b[A\u001b[A\u001b[A"
     ]
    },
    {
     "name": "stdout",
     "output_type": "stream",
     "text": [
      "/tf/data/dementia/English/Pitt/Dementia/cookie/078-1.mp3\n"
     ]
    },
    {
     "name": "stderr",
     "output_type": "stream",
     "text": [
      "\n",
      "\n",
      "\n",
      " 64%|██████▍   | 355/552 [11:26<07:40,  2.34s/it]\u001b[A\u001b[A\u001b[A"
     ]
    },
    {
     "name": "stdout",
     "output_type": "stream",
     "text": [
      "/tf/data/dementia/English/Pitt/Dementia/cookie/269-1.mp3\n"
     ]
    },
    {
     "name": "stderr",
     "output_type": "stream",
     "text": [
      "\n",
      "\n",
      "\n",
      " 64%|██████▍   | 356/552 [11:29<08:49,  2.70s/it]\u001b[A\u001b[A\u001b[A"
     ]
    },
    {
     "name": "stdout",
     "output_type": "stream",
     "text": [
      "/tf/data/dementia/English/Pitt/Dementia/cookie/337-0.mp3\n"
     ]
    },
    {
     "name": "stderr",
     "output_type": "stream",
     "text": [
      "\n",
      "\n",
      "\n",
      " 65%|██████▍   | 357/552 [11:31<07:25,  2.29s/it]\u001b[A\u001b[A\u001b[A"
     ]
    },
    {
     "name": "stdout",
     "output_type": "stream",
     "text": [
      "/tf/data/dementia/English/Pitt/Dementia/cookie/640-0.mp3\n"
     ]
    },
    {
     "name": "stderr",
     "output_type": "stream",
     "text": [
      "\n",
      "\n",
      "\n",
      " 65%|██████▍   | 358/552 [11:31<05:29,  1.70s/it]\u001b[A\u001b[A\u001b[A"
     ]
    },
    {
     "name": "stdout",
     "output_type": "stream",
     "text": [
      "/tf/data/dementia/English/Pitt/Dementia/cookie/343-0.mp3\n"
     ]
    },
    {
     "name": "stderr",
     "output_type": "stream",
     "text": [
      "\n",
      "\n",
      "\n",
      " 65%|██████▌   | 359/552 [11:33<05:36,  1.75s/it]\u001b[A\u001b[A\u001b[A"
     ]
    },
    {
     "name": "stdout",
     "output_type": "stream",
     "text": [
      "/tf/data/dementia/English/Pitt/Dementia/cookie/120-2.mp3\n"
     ]
    },
    {
     "name": "stderr",
     "output_type": "stream",
     "text": [
      "\n",
      "\n",
      "\n",
      " 65%|██████▌   | 360/552 [11:34<04:57,  1.55s/it]\u001b[A\u001b[A\u001b[A"
     ]
    },
    {
     "name": "stdout",
     "output_type": "stream",
     "text": [
      "/tf/data/dementia/English/Pitt/Dementia/cookie/573-0.mp3\n"
     ]
    },
    {
     "name": "stderr",
     "output_type": "stream",
     "text": [
      "\n",
      "\n",
      "\n",
      " 65%|██████▌   | 361/552 [11:35<04:35,  1.45s/it]\u001b[A\u001b[A\u001b[A"
     ]
    },
    {
     "name": "stdout",
     "output_type": "stream",
     "text": [
      "/tf/data/dementia/English/Pitt/Dementia/cookie/062-3.mp3\n"
     ]
    },
    {
     "name": "stderr",
     "output_type": "stream",
     "text": [
      "\n",
      "\n",
      "\n",
      " 66%|██████▌   | 362/552 [11:37<04:41,  1.48s/it]\u001b[A\u001b[A\u001b[A"
     ]
    },
    {
     "name": "stdout",
     "output_type": "stream",
     "text": [
      "/tf/data/dementia/English/Pitt/Dementia/cookie/212-1.mp3\n"
     ]
    },
    {
     "name": "stderr",
     "output_type": "stream",
     "text": [
      "\n",
      "\n",
      "\n",
      " 66%|██████▌   | 363/552 [11:38<04:26,  1.41s/it]\u001b[A\u001b[A\u001b[A"
     ]
    },
    {
     "name": "stdout",
     "output_type": "stream",
     "text": [
      "/tf/data/dementia/English/Pitt/Dementia/cookie/578-0.mp3\n"
     ]
    },
    {
     "name": "stderr",
     "output_type": "stream",
     "text": [
      "\n",
      "\n",
      "\n",
      " 66%|██████▌   | 364/552 [11:41<05:34,  1.78s/it]\u001b[A\u001b[A\u001b[A"
     ]
    },
    {
     "name": "stdout",
     "output_type": "stream",
     "text": [
      "/tf/data/dementia/English/Pitt/Dementia/cookie/237-1.mp3\n"
     ]
    },
    {
     "name": "stderr",
     "output_type": "stream",
     "text": [
      "\n",
      "\n",
      "\n",
      " 66%|██████▌   | 365/552 [11:42<05:32,  1.78s/it]\u001b[A\u001b[A\u001b[A"
     ]
    },
    {
     "name": "stdout",
     "output_type": "stream",
     "text": [
      "/tf/data/dementia/English/Pitt/Dementia/cookie/184-2.mp3\n"
     ]
    },
    {
     "name": "stderr",
     "output_type": "stream",
     "text": [
      "\n",
      "\n",
      "\n",
      " 66%|██████▋   | 366/552 [11:44<05:28,  1.77s/it]\u001b[A\u001b[A\u001b[A"
     ]
    },
    {
     "name": "stdout",
     "output_type": "stream",
     "text": [
      "/tf/data/dementia/English/Pitt/Dementia/cookie/544-1.mp3\n"
     ]
    },
    {
     "name": "stderr",
     "output_type": "stream",
     "text": [
      "\n",
      "\n",
      "\n",
      " 66%|██████▋   | 367/552 [11:44<04:06,  1.33s/it]\u001b[A\u001b[A\u001b[A"
     ]
    },
    {
     "name": "stdout",
     "output_type": "stream",
     "text": [
      "/tf/data/dementia/English/Pitt/Dementia/cookie/183-3.mp3\n"
     ]
    },
    {
     "name": "stderr",
     "output_type": "stream",
     "text": [
      "\n",
      "\n",
      "\n",
      " 67%|██████▋   | 368/552 [11:45<03:50,  1.25s/it]\u001b[A\u001b[A\u001b[A"
     ]
    },
    {
     "name": "stdout",
     "output_type": "stream",
     "text": [
      "/tf/data/dementia/English/Pitt/Dementia/cookie/033-0.mp3\n"
     ]
    },
    {
     "name": "stderr",
     "output_type": "stream",
     "text": [
      "\n",
      "\n",
      "\n",
      " 67%|██████▋   | 369/552 [11:47<03:57,  1.30s/it]\u001b[A\u001b[A\u001b[A"
     ]
    },
    {
     "name": "stdout",
     "output_type": "stream",
     "text": [
      "/tf/data/dementia/English/Pitt/Dementia/cookie/235-0.mp3\n"
     ]
    },
    {
     "name": "stderr",
     "output_type": "stream",
     "text": [
      "\n",
      "\n",
      "\n",
      " 67%|██████▋   | 370/552 [11:53<08:32,  2.82s/it]\u001b[A\u001b[A\u001b[A"
     ]
    },
    {
     "name": "stdout",
     "output_type": "stream",
     "text": [
      "/tf/data/dementia/English/Pitt/Dementia/cookie/488-1.mp3\n"
     ]
    },
    {
     "name": "stderr",
     "output_type": "stream",
     "text": [
      "\n",
      "\n",
      "\n",
      " 67%|██████▋   | 371/552 [11:54<06:21,  2.11s/it]\u001b[A\u001b[A\u001b[A"
     ]
    },
    {
     "name": "stdout",
     "output_type": "stream",
     "text": [
      "/tf/data/dementia/English/Pitt/Dementia/cookie/291-1.mp3\n"
     ]
    },
    {
     "name": "stderr",
     "output_type": "stream",
     "text": [
      "\n",
      "\n",
      "\n",
      " 67%|██████▋   | 372/552 [11:54<05:01,  1.68s/it]\u001b[A\u001b[A\u001b[A"
     ]
    },
    {
     "name": "stdout",
     "output_type": "stream",
     "text": [
      "/tf/data/dementia/English/Pitt/Dementia/cookie/559-0.mp3\n"
     ]
    },
    {
     "name": "stderr",
     "output_type": "stream",
     "text": [
      "\n",
      "\n",
      "\n",
      " 68%|██████▊   | 373/552 [11:56<04:43,  1.58s/it]\u001b[A\u001b[A\u001b[A"
     ]
    },
    {
     "name": "stdout",
     "output_type": "stream",
     "text": [
      "/tf/data/dementia/English/Pitt/Dementia/cookie/306-0.mp3\n"
     ]
    },
    {
     "name": "stderr",
     "output_type": "stream",
     "text": [
      "\n",
      "\n",
      "\n",
      " 68%|██████▊   | 374/552 [11:59<06:13,  2.10s/it]\u001b[A\u001b[A\u001b[A"
     ]
    },
    {
     "name": "stdout",
     "output_type": "stream",
     "text": [
      "/tf/data/dementia/English/Pitt/Dementia/cookie/221-3.mp3\n"
     ]
    },
    {
     "name": "stderr",
     "output_type": "stream",
     "text": [
      "\n",
      "\n",
      "\n",
      " 68%|██████▊   | 375/552 [12:00<05:40,  1.92s/it]\u001b[A\u001b[A\u001b[A"
     ]
    },
    {
     "name": "stdout",
     "output_type": "stream",
     "text": [
      "/tf/data/dementia/English/Pitt/Dementia/cookie/094-1.mp3\n"
     ]
    },
    {
     "name": "stderr",
     "output_type": "stream",
     "text": [
      "\n",
      "\n",
      "\n",
      " 68%|██████▊   | 376/552 [12:03<05:57,  2.03s/it]\u001b[A\u001b[A\u001b[A"
     ]
    },
    {
     "name": "stdout",
     "output_type": "stream",
     "text": [
      "/tf/data/dementia/English/Pitt/Dementia/cookie/154-1.mp3\n"
     ]
    },
    {
     "name": "stderr",
     "output_type": "stream",
     "text": [
      "\n",
      "\n",
      "\n",
      " 68%|██████▊   | 377/552 [12:07<07:39,  2.63s/it]\u001b[A\u001b[A\u001b[A"
     ]
    },
    {
     "name": "stdout",
     "output_type": "stream",
     "text": [
      "/tf/data/dementia/English/Pitt/Dementia/cookie/144-0.mp3\n"
     ]
    },
    {
     "name": "stderr",
     "output_type": "stream",
     "text": [
      "\n",
      "\n",
      "\n",
      " 68%|██████▊   | 378/552 [12:08<06:36,  2.28s/it]\u001b[A\u001b[A\u001b[A"
     ]
    },
    {
     "name": "stdout",
     "output_type": "stream",
     "text": [
      "/tf/data/dementia/English/Pitt/Dementia/cookie/046-2.mp3\n"
     ]
    },
    {
     "name": "stderr",
     "output_type": "stream",
     "text": [
      "\n",
      "\n",
      "\n",
      " 69%|██████▊   | 379/552 [12:13<08:30,  2.95s/it]\u001b[A\u001b[A\u001b[A"
     ]
    },
    {
     "name": "stdout",
     "output_type": "stream",
     "text": [
      "/tf/data/dementia/English/Pitt/Dementia/cookie/690-0.mp3\n"
     ]
    },
    {
     "name": "stderr",
     "output_type": "stream",
     "text": [
      "\n",
      "\n",
      "\n",
      " 69%|██████▉   | 380/552 [12:15<07:47,  2.72s/it]\u001b[A\u001b[A\u001b[A"
     ]
    },
    {
     "name": "stdout",
     "output_type": "stream",
     "text": [
      "/tf/data/dementia/English/Pitt/Dementia/cookie/636-0.mp3\n"
     ]
    },
    {
     "name": "stderr",
     "output_type": "stream",
     "text": [
      "\n",
      "\n",
      "\n",
      " 69%|██████▉   | 381/552 [12:16<06:39,  2.33s/it]\u001b[A\u001b[A\u001b[A"
     ]
    },
    {
     "name": "stdout",
     "output_type": "stream",
     "text": [
      "/tf/data/dementia/English/Pitt/Dementia/cookie/488-0.mp3\n"
     ]
    },
    {
     "name": "stderr",
     "output_type": "stream",
     "text": [
      "\n",
      "\n",
      "\n",
      " 69%|██████▉   | 382/552 [12:17<05:17,  1.87s/it]\u001b[A\u001b[A\u001b[A"
     ]
    },
    {
     "name": "stdout",
     "output_type": "stream",
     "text": [
      "/tf/data/dementia/English/Pitt/Dementia/cookie/580-0.mp3\n"
     ]
    },
    {
     "name": "stderr",
     "output_type": "stream",
     "text": [
      "\n",
      "\n",
      "\n",
      " 69%|██████▉   | 383/552 [12:18<04:44,  1.68s/it]\u001b[A\u001b[A\u001b[A"
     ]
    },
    {
     "name": "stdout",
     "output_type": "stream",
     "text": [
      "/tf/data/dementia/English/Pitt/Dementia/cookie/356-0.mp3\n"
     ]
    },
    {
     "name": "stderr",
     "output_type": "stream",
     "text": [
      "\n",
      "\n",
      "\n",
      " 70%|██████▉   | 384/552 [12:21<05:52,  2.10s/it]\u001b[A\u001b[A\u001b[A"
     ]
    },
    {
     "name": "stdout",
     "output_type": "stream",
     "text": [
      "/tf/data/dementia/English/Pitt/Dementia/cookie/260-1.mp3\n"
     ]
    },
    {
     "name": "stderr",
     "output_type": "stream",
     "text": [
      "\n",
      "\n",
      "\n",
      " 70%|██████▉   | 385/552 [12:23<05:01,  1.80s/it]\u001b[A\u001b[A\u001b[A"
     ]
    },
    {
     "name": "stdout",
     "output_type": "stream",
     "text": [
      "/tf/data/dementia/English/Pitt/Dementia/cookie/260-2.mp3\n"
     ]
    },
    {
     "name": "stderr",
     "output_type": "stream",
     "text": [
      "\n",
      "\n",
      "\n",
      " 70%|██████▉   | 386/552 [12:25<05:25,  1.96s/it]\u001b[A\u001b[A\u001b[A"
     ]
    },
    {
     "name": "stdout",
     "output_type": "stream",
     "text": [
      "/tf/data/dementia/English/Pitt/Dementia/cookie/066-0.mp3\n"
     ]
    },
    {
     "name": "stderr",
     "output_type": "stream",
     "text": [
      "\n",
      "\n",
      "\n",
      " 70%|███████   | 387/552 [12:28<05:56,  2.16s/it]\u001b[A\u001b[A\u001b[A"
     ]
    },
    {
     "name": "stdout",
     "output_type": "stream",
     "text": [
      "/tf/data/dementia/English/Pitt/Dementia/cookie/033-1.mp3\n"
     ]
    },
    {
     "name": "stderr",
     "output_type": "stream",
     "text": [
      "\n",
      "\n",
      "\n",
      " 70%|███████   | 388/552 [12:33<08:45,  3.20s/it]\u001b[A\u001b[A\u001b[A"
     ]
    },
    {
     "name": "stdout",
     "output_type": "stream",
     "text": [
      "/tf/data/dementia/English/Pitt/Dementia/cookie/610-0.mp3\n"
     ]
    },
    {
     "name": "stderr",
     "output_type": "stream",
     "text": [
      "\n",
      "\n",
      "\n",
      " 70%|███████   | 389/552 [12:35<07:46,  2.86s/it]\u001b[A\u001b[A\u001b[A"
     ]
    },
    {
     "name": "stdout",
     "output_type": "stream",
     "text": [
      "/tf/data/dementia/English/Pitt/Dementia/cookie/704-0.mp3\n"
     ]
    },
    {
     "name": "stderr",
     "output_type": "stream",
     "text": [
      "\n",
      "\n",
      "\n",
      " 71%|███████   | 390/552 [12:37<06:43,  2.49s/it]\u001b[A\u001b[A\u001b[A"
     ]
    },
    {
     "name": "stdout",
     "output_type": "stream",
     "text": [
      "/tf/data/dementia/English/Pitt/Dementia/cookie/005-0.mp3\n"
     ]
    },
    {
     "name": "stderr",
     "output_type": "stream",
     "text": [
      "\n",
      "\n",
      "\n",
      " 71%|███████   | 391/552 [12:39<06:40,  2.49s/it]\u001b[A\u001b[A\u001b[A"
     ]
    },
    {
     "name": "stdout",
     "output_type": "stream",
     "text": [
      "/tf/data/dementia/English/Pitt/Dementia/cookie/539-0.mp3\n"
     ]
    },
    {
     "name": "stderr",
     "output_type": "stream",
     "text": [
      "\n",
      "\n",
      "\n",
      " 71%|███████   | 392/552 [12:44<07:59,  3.00s/it]\u001b[A\u001b[A\u001b[A"
     ]
    },
    {
     "name": "stdout",
     "output_type": "stream",
     "text": [
      "/tf/data/dementia/English/Pitt/Dementia/cookie/164-1.mp3\n"
     ]
    },
    {
     "name": "stderr",
     "output_type": "stream",
     "text": [
      "\n",
      "\n",
      "\n",
      " 71%|███████   | 393/552 [12:44<06:18,  2.38s/it]\u001b[A\u001b[A\u001b[A"
     ]
    },
    {
     "name": "stdout",
     "output_type": "stream",
     "text": [
      "/tf/data/dementia/English/Pitt/Dementia/cookie/342-0.mp3\n"
     ]
    },
    {
     "name": "stderr",
     "output_type": "stream",
     "text": [
      "\n",
      "\n",
      "\n",
      " 71%|███████▏  | 394/552 [12:46<05:51,  2.22s/it]\u001b[A\u001b[A\u001b[A"
     ]
    },
    {
     "name": "stdout",
     "output_type": "stream",
     "text": [
      "/tf/data/dementia/English/Pitt/Dementia/cookie/061-0.mp3\n"
     ]
    },
    {
     "name": "stderr",
     "output_type": "stream",
     "text": [
      "\n",
      "\n",
      "\n",
      " 72%|███████▏  | 395/552 [12:49<05:51,  2.24s/it]\u001b[A\u001b[A\u001b[A"
     ]
    },
    {
     "name": "stdout",
     "output_type": "stream",
     "text": [
      "/tf/data/dementia/English/Pitt/Dementia/cookie/024-1.mp3\n"
     ]
    },
    {
     "name": "stderr",
     "output_type": "stream",
     "text": [
      "\n",
      "\n",
      "\n",
      " 72%|███████▏  | 396/552 [12:51<05:33,  2.14s/it]\u001b[A\u001b[A\u001b[A"
     ]
    },
    {
     "name": "stdout",
     "output_type": "stream",
     "text": [
      "/tf/data/dementia/English/Pitt/Dementia/cookie/157-1.mp3\n"
     ]
    },
    {
     "name": "stderr",
     "output_type": "stream",
     "text": [
      "\n",
      "\n",
      "\n",
      " 72%|███████▏  | 397/552 [12:57<08:43,  3.38s/it]\u001b[A\u001b[A\u001b[A"
     ]
    },
    {
     "name": "stdout",
     "output_type": "stream",
     "text": [
      "/tf/data/dementia/English/Pitt/Dementia/cookie/530-0.mp3\n"
     ]
    },
    {
     "name": "stderr",
     "output_type": "stream",
     "text": [
      "\n",
      "\n",
      "\n",
      " 72%|███████▏  | 398/552 [12:59<07:46,  3.03s/it]\u001b[A\u001b[A\u001b[A"
     ]
    },
    {
     "name": "stdout",
     "output_type": "stream",
     "text": [
      "/tf/data/dementia/English/Pitt/Dementia/cookie/033-3.mp3\n"
     ]
    },
    {
     "name": "stderr",
     "output_type": "stream",
     "text": [
      "\n",
      "\n",
      "\n",
      " 72%|███████▏  | 399/552 [13:01<06:48,  2.67s/it]\u001b[A\u001b[A\u001b[A"
     ]
    },
    {
     "name": "stdout",
     "output_type": "stream",
     "text": [
      "/tf/data/dementia/English/Pitt/Dementia/cookie/120-0.mp3\n"
     ]
    },
    {
     "name": "stderr",
     "output_type": "stream",
     "text": [
      "\n",
      "\n",
      "\n",
      " 72%|███████▏  | 400/552 [13:02<05:24,  2.14s/it]\u001b[A\u001b[A\u001b[A"
     ]
    },
    {
     "name": "stdout",
     "output_type": "stream",
     "text": [
      "/tf/data/dementia/English/Pitt/Dementia/cookie/497-0.mp3\n"
     ]
    },
    {
     "name": "stderr",
     "output_type": "stream",
     "text": [
      "\n",
      "\n",
      "\n",
      " 73%|███████▎  | 401/552 [13:04<05:07,  2.04s/it]\u001b[A\u001b[A\u001b[A"
     ]
    },
    {
     "name": "stdout",
     "output_type": "stream",
     "text": [
      "/tf/data/dementia/English/Pitt/Dementia/cookie/120-3.mp3\n"
     ]
    },
    {
     "name": "stderr",
     "output_type": "stream",
     "text": [
      "\n",
      "\n",
      "\n",
      " 73%|███████▎  | 402/552 [13:06<05:05,  2.03s/it]\u001b[A\u001b[A\u001b[A"
     ]
    },
    {
     "name": "stdout",
     "output_type": "stream",
     "text": [
      "/tf/data/dementia/English/Pitt/Dementia/cookie/271-2.mp3\n"
     ]
    },
    {
     "name": "stderr",
     "output_type": "stream",
     "text": [
      "\n",
      "\n",
      "\n",
      " 73%|███████▎  | 403/552 [13:06<04:00,  1.62s/it]\u001b[A\u001b[A\u001b[A"
     ]
    },
    {
     "name": "stdout",
     "output_type": "stream",
     "text": [
      "/tf/data/dementia/English/Pitt/Dementia/cookie/247-0.mp3\n"
     ]
    },
    {
     "name": "stderr",
     "output_type": "stream",
     "text": [
      "\n",
      "\n",
      "\n",
      " 73%|███████▎  | 404/552 [13:12<07:11,  2.92s/it]\u001b[A\u001b[A\u001b[A"
     ]
    },
    {
     "name": "stdout",
     "output_type": "stream",
     "text": [
      "/tf/data/dementia/English/Pitt/Dementia/cookie/010-3.mp3\n"
     ]
    },
    {
     "name": "stderr",
     "output_type": "stream",
     "text": [
      "\n",
      "\n",
      "\n",
      " 73%|███████▎  | 405/552 [13:14<06:06,  2.50s/it]\u001b[A\u001b[A\u001b[A"
     ]
    },
    {
     "name": "stdout",
     "output_type": "stream",
     "text": [
      "/tf/data/dementia/English/Pitt/Dementia/cookie/207-0.mp3\n"
     ]
    },
    {
     "name": "stderr",
     "output_type": "stream",
     "text": [
      "\n",
      "\n",
      "\n",
      " 74%|███████▎  | 406/552 [13:23<11:17,  4.64s/it]\u001b[A\u001b[A\u001b[A"
     ]
    },
    {
     "name": "stdout",
     "output_type": "stream",
     "text": [
      "/tf/data/dementia/English/Pitt/Dementia/cookie/268-0.mp3\n"
     ]
    },
    {
     "name": "stderr",
     "output_type": "stream",
     "text": [
      "\n",
      "\n",
      "\n",
      " 74%|███████▎  | 407/552 [13:34<15:33,  6.43s/it]\u001b[A\u001b[A\u001b[A"
     ]
    },
    {
     "name": "stdout",
     "output_type": "stream",
     "text": [
      "/tf/data/dementia/English/Pitt/Dementia/cookie/526-1.mp3\n"
     ]
    },
    {
     "name": "stderr",
     "output_type": "stream",
     "text": [
      "\n",
      "\n",
      "\n",
      " 74%|███████▍  | 408/552 [13:36<12:26,  5.18s/it]\u001b[A\u001b[A\u001b[A"
     ]
    },
    {
     "name": "stdout",
     "output_type": "stream",
     "text": [
      "/tf/data/dementia/English/Pitt/Dementia/cookie/134-1.mp3\n"
     ]
    },
    {
     "name": "stderr",
     "output_type": "stream",
     "text": [
      "\n",
      "\n",
      "\n",
      " 74%|███████▍  | 409/552 [13:37<09:18,  3.91s/it]\u001b[A\u001b[A\u001b[A"
     ]
    },
    {
     "name": "stdout",
     "output_type": "stream",
     "text": [
      "/tf/data/dementia/English/Pitt/Dementia/cookie/369-0.mp3\n"
     ]
    },
    {
     "name": "stderr",
     "output_type": "stream",
     "text": [
      "\n",
      "\n",
      "\n",
      " 74%|███████▍  | 410/552 [13:42<09:58,  4.21s/it]\u001b[A\u001b[A\u001b[A"
     ]
    },
    {
     "name": "stdout",
     "output_type": "stream",
     "text": [
      "/tf/data/dementia/English/Pitt/Dementia/cookie/057-1.mp3\n"
     ]
    },
    {
     "name": "stderr",
     "output_type": "stream",
     "text": [
      "\n",
      "\n",
      "\n",
      " 74%|███████▍  | 411/552 [13:46<09:47,  4.17s/it]\u001b[A\u001b[A\u001b[A"
     ]
    },
    {
     "name": "stdout",
     "output_type": "stream",
     "text": [
      "/tf/data/dementia/English/Pitt/Dementia/cookie/703-0.mp3\n"
     ]
    },
    {
     "name": "stderr",
     "output_type": "stream",
     "text": [
      "\n",
      "\n",
      "\n",
      " 75%|███████▍  | 412/552 [13:47<07:11,  3.08s/it]\u001b[A\u001b[A\u001b[A"
     ]
    },
    {
     "name": "stdout",
     "output_type": "stream",
     "text": [
      "/tf/data/dementia/English/Pitt/Dementia/cookie/698-0.mp3\n"
     ]
    },
    {
     "name": "stderr",
     "output_type": "stream",
     "text": [
      "\n",
      "\n",
      "\n",
      " 75%|███████▍  | 413/552 [13:50<07:37,  3.29s/it]\u001b[A\u001b[A\u001b[A"
     ]
    },
    {
     "name": "stdout",
     "output_type": "stream",
     "text": [
      "/tf/data/dementia/English/Pitt/Dementia/cookie/203-0.mp3\n"
     ]
    },
    {
     "name": "stderr",
     "output_type": "stream",
     "text": [
      "\n",
      "\n",
      "\n",
      " 75%|███████▌  | 414/552 [13:55<08:34,  3.72s/it]\u001b[A\u001b[A\u001b[A"
     ]
    },
    {
     "name": "stdout",
     "output_type": "stream",
     "text": [
      "/tf/data/dementia/English/Pitt/Dementia/cookie/338-0.mp3\n"
     ]
    },
    {
     "name": "stderr",
     "output_type": "stream",
     "text": [
      "\n",
      "\n",
      "\n",
      " 75%|███████▌  | 415/552 [13:56<06:11,  2.71s/it]\u001b[A\u001b[A\u001b[A"
     ]
    },
    {
     "name": "stdout",
     "output_type": "stream",
     "text": [
      "/tf/data/dementia/English/Pitt/Dementia/cookie/033-4.mp3\n"
     ]
    },
    {
     "name": "stderr",
     "output_type": "stream",
     "text": [
      "\n",
      "\n",
      "\n",
      " 75%|███████▌  | 416/552 [13:58<06:09,  2.72s/it]\u001b[A\u001b[A\u001b[A"
     ]
    },
    {
     "name": "stdout",
     "output_type": "stream",
     "text": [
      "/tf/data/dementia/English/Pitt/Dementia/cookie/615-0.mp3\n"
     ]
    },
    {
     "name": "stderr",
     "output_type": "stream",
     "text": [
      "\n",
      "\n",
      "\n",
      " 76%|███████▌  | 417/552 [13:59<04:31,  2.01s/it]\u001b[A\u001b[A\u001b[A"
     ]
    },
    {
     "name": "stdout",
     "output_type": "stream",
     "text": [
      "/tf/data/dementia/English/Pitt/Dementia/cookie/358-0.mp3\n"
     ]
    },
    {
     "name": "stderr",
     "output_type": "stream",
     "text": [
      "\n",
      "\n",
      "\n",
      " 76%|███████▌  | 418/552 [13:59<03:33,  1.59s/it]\u001b[A\u001b[A\u001b[A"
     ]
    },
    {
     "name": "stdout",
     "output_type": "stream",
     "text": [
      "/tf/data/dementia/English/Pitt/Dementia/cookie/218-1.mp3\n"
     ]
    },
    {
     "name": "stderr",
     "output_type": "stream",
     "text": [
      "\n",
      "\n",
      "\n",
      " 76%|███████▌  | 419/552 [14:03<04:54,  2.21s/it]\u001b[A\u001b[A\u001b[A"
     ]
    },
    {
     "name": "stdout",
     "output_type": "stream",
     "text": [
      "/tf/data/dementia/English/Pitt/Dementia/cookie/178-0.mp3\n"
     ]
    },
    {
     "name": "stderr",
     "output_type": "stream",
     "text": [
      "\n",
      "\n",
      "\n",
      " 76%|███████▌  | 420/552 [14:07<06:10,  2.81s/it]\u001b[A\u001b[A\u001b[A"
     ]
    },
    {
     "name": "stdout",
     "output_type": "stream",
     "text": [
      "/tf/data/dementia/English/Pitt/Dementia/cookie/355-1.mp3\n"
     ]
    },
    {
     "name": "stderr",
     "output_type": "stream",
     "text": [
      "\n",
      "\n",
      "\n",
      " 76%|███████▋  | 421/552 [14:09<05:27,  2.50s/it]\u001b[A\u001b[A\u001b[A"
     ]
    },
    {
     "name": "stdout",
     "output_type": "stream",
     "text": [
      "/tf/data/dementia/English/Pitt/Dementia/cookie/344-0.mp3\n"
     ]
    },
    {
     "name": "stderr",
     "output_type": "stream",
     "text": [
      "\n",
      "\n",
      "\n",
      " 76%|███████▋  | 422/552 [14:11<04:56,  2.28s/it]\u001b[A\u001b[A\u001b[A"
     ]
    },
    {
     "name": "stdout",
     "output_type": "stream",
     "text": [
      "/tf/data/dementia/English/Pitt/Dementia/cookie/354-0.mp3\n"
     ]
    },
    {
     "name": "stderr",
     "output_type": "stream",
     "text": [
      "\n",
      "\n",
      "\n",
      " 77%|███████▋  | 423/552 [14:12<04:25,  2.06s/it]\u001b[A\u001b[A\u001b[A"
     ]
    },
    {
     "name": "stdout",
     "output_type": "stream",
     "text": [
      "/tf/data/dementia/English/Pitt/Dementia/cookie/458-0.mp3\n"
     ]
    },
    {
     "name": "stderr",
     "output_type": "stream",
     "text": [
      "\n",
      "\n",
      "\n",
      " 77%|███████▋  | 424/552 [14:13<03:25,  1.61s/it]\u001b[A\u001b[A\u001b[A"
     ]
    },
    {
     "name": "stdout",
     "output_type": "stream",
     "text": [
      "/tf/data/dementia/English/Pitt/Dementia/cookie/711-0.mp3\n"
     ]
    },
    {
     "name": "stderr",
     "output_type": "stream",
     "text": [
      "\n",
      "\n",
      "\n",
      " 77%|███████▋  | 425/552 [14:15<03:50,  1.82s/it]\u001b[A\u001b[A\u001b[A"
     ]
    },
    {
     "name": "stdout",
     "output_type": "stream",
     "text": [
      "/tf/data/dementia/English/Pitt/Dementia/cookie/466-1.mp3\n"
     ]
    },
    {
     "name": "stderr",
     "output_type": "stream",
     "text": [
      "\n",
      "\n",
      "\n",
      " 77%|███████▋  | 426/552 [14:18<04:43,  2.25s/it]\u001b[A\u001b[A\u001b[A"
     ]
    },
    {
     "name": "stdout",
     "output_type": "stream",
     "text": [
      "/tf/data/dementia/English/Pitt/Dementia/cookie/007-3.mp3\n"
     ]
    },
    {
     "name": "stderr",
     "output_type": "stream",
     "text": [
      "\n",
      "\n",
      "\n",
      " 77%|███████▋  | 427/552 [14:20<04:10,  2.00s/it]\u001b[A\u001b[A\u001b[A"
     ]
    },
    {
     "name": "stdout",
     "output_type": "stream",
     "text": [
      "/tf/data/dementia/English/Pitt/Dementia/cookie/091-1.mp3\n"
     ]
    },
    {
     "name": "stderr",
     "output_type": "stream",
     "text": [
      "\n",
      "\n",
      "\n",
      " 78%|███████▊  | 428/552 [14:22<04:18,  2.08s/it]\u001b[A\u001b[A\u001b[A"
     ]
    },
    {
     "name": "stdout",
     "output_type": "stream",
     "text": [
      "/tf/data/dementia/English/Pitt/Dementia/cookie/465-0.mp3\n"
     ]
    },
    {
     "name": "stderr",
     "output_type": "stream",
     "text": [
      "\n",
      "\n",
      "\n",
      " 78%|███████▊  | 429/552 [14:23<03:39,  1.78s/it]\u001b[A\u001b[A\u001b[A"
     ]
    },
    {
     "name": "stdout",
     "output_type": "stream",
     "text": [
      "/tf/data/dementia/English/Pitt/Dementia/cookie/190-2.mp3\n"
     ]
    },
    {
     "name": "stderr",
     "output_type": "stream",
     "text": [
      "\n",
      "\n",
      "\n",
      " 78%|███████▊  | 430/552 [14:25<03:54,  1.93s/it]\u001b[A\u001b[A\u001b[A"
     ]
    },
    {
     "name": "stdout",
     "output_type": "stream",
     "text": [
      "/tf/data/dementia/English/Pitt/Dementia/cookie/657-0.mp3\n"
     ]
    },
    {
     "name": "stderr",
     "output_type": "stream",
     "text": [
      "\n",
      "\n",
      "\n",
      " 78%|███████▊  | 431/552 [14:26<03:02,  1.51s/it]\u001b[A\u001b[A\u001b[A"
     ]
    },
    {
     "name": "stdout",
     "output_type": "stream",
     "text": [
      "/tf/data/dementia/English/Pitt/Dementia/cookie/183-0.mp3\n"
     ]
    },
    {
     "name": "stderr",
     "output_type": "stream",
     "text": [
      "\n",
      "\n",
      "\n",
      " 78%|███████▊  | 432/552 [14:27<02:47,  1.39s/it]\u001b[A\u001b[A\u001b[A"
     ]
    },
    {
     "name": "stdout",
     "output_type": "stream",
     "text": [
      "/tf/data/dementia/English/Pitt/Dementia/cookie/049-0.mp3\n"
     ]
    },
    {
     "name": "stderr",
     "output_type": "stream",
     "text": [
      "\n",
      "\n",
      "\n",
      " 78%|███████▊  | 433/552 [14:29<03:09,  1.59s/it]\u001b[A\u001b[A\u001b[A"
     ]
    },
    {
     "name": "stdout",
     "output_type": "stream",
     "text": [
      "/tf/data/dementia/English/Pitt/Dementia/cookie/221-2.mp3\n"
     ]
    },
    {
     "name": "stderr",
     "output_type": "stream",
     "text": [
      "\n",
      "\n",
      "\n",
      " 79%|███████▊  | 434/552 [14:31<03:35,  1.83s/it]\u001b[A\u001b[A\u001b[A"
     ]
    },
    {
     "name": "stdout",
     "output_type": "stream",
     "text": [
      "/tf/data/dementia/English/Pitt/Dementia/cookie/051-2.mp3\n"
     ]
    },
    {
     "name": "stderr",
     "output_type": "stream",
     "text": [
      "\n",
      "\n",
      "\n",
      " 79%|███████▉  | 435/552 [14:37<05:34,  2.86s/it]\u001b[A\u001b[A\u001b[A"
     ]
    },
    {
     "name": "stdout",
     "output_type": "stream",
     "text": [
      "/tf/data/dementia/English/Pitt/Dementia/cookie/206-0.mp3\n"
     ]
    },
    {
     "name": "stderr",
     "output_type": "stream",
     "text": [
      "\n",
      "\n",
      "\n",
      " 79%|███████▉  | 436/552 [14:41<06:10,  3.20s/it]\u001b[A\u001b[A\u001b[A"
     ]
    },
    {
     "name": "stdout",
     "output_type": "stream",
     "text": [
      "/tf/data/dementia/English/Pitt/Dementia/cookie/213-2.mp3\n"
     ]
    },
    {
     "name": "stderr",
     "output_type": "stream",
     "text": [
      "\n",
      "\n",
      "\n",
      " 79%|███████▉  | 437/552 [14:44<06:00,  3.14s/it]\u001b[A\u001b[A\u001b[A"
     ]
    },
    {
     "name": "stdout",
     "output_type": "stream",
     "text": [
      "/tf/data/dementia/English/Pitt/Dementia/cookie/283-1.mp3\n"
     ]
    },
    {
     "name": "stderr",
     "output_type": "stream",
     "text": [
      "\n",
      "\n",
      "\n",
      " 79%|███████▉  | 438/552 [14:45<04:40,  2.46s/it]\u001b[A\u001b[A\u001b[A"
     ]
    },
    {
     "name": "stdout",
     "output_type": "stream",
     "text": [
      "/tf/data/dementia/English/Pitt/Dementia/cookie/049-1.mp3\n"
     ]
    },
    {
     "name": "stderr",
     "output_type": "stream",
     "text": [
      "\n",
      "\n",
      "\n",
      " 80%|███████▉  | 439/552 [14:46<04:11,  2.23s/it]\u001b[A\u001b[A\u001b[A"
     ]
    },
    {
     "name": "stdout",
     "output_type": "stream",
     "text": [
      "/tf/data/dementia/English/Pitt/Dementia/cookie/221-1.mp3\n"
     ]
    },
    {
     "name": "stderr",
     "output_type": "stream",
     "text": [
      "\n",
      "\n",
      "\n",
      " 80%|███████▉  | 440/552 [14:49<04:15,  2.28s/it]\u001b[A\u001b[A\u001b[A"
     ]
    },
    {
     "name": "stdout",
     "output_type": "stream",
     "text": [
      "/tf/data/dementia/English/Pitt/Dementia/cookie/515-1.mp3\n"
     ]
    },
    {
     "name": "stderr",
     "output_type": "stream",
     "text": [
      "\n",
      "\n",
      "\n",
      " 80%|███████▉  | 441/552 [14:49<03:20,  1.80s/it]\u001b[A\u001b[A\u001b[A"
     ]
    },
    {
     "name": "stdout",
     "output_type": "stream",
     "text": [
      "/tf/data/dementia/English/Pitt/Dementia/cookie/349-0.mp3\n"
     ]
    },
    {
     "name": "stderr",
     "output_type": "stream",
     "text": [
      "\n",
      "\n",
      "\n",
      " 80%|████████  | 442/552 [14:52<03:40,  2.00s/it]\u001b[A\u001b[A\u001b[A"
     ]
    },
    {
     "name": "stdout",
     "output_type": "stream",
     "text": [
      "/tf/data/dementia/English/Pitt/Dementia/cookie/212-3.mp3\n"
     ]
    },
    {
     "name": "stderr",
     "output_type": "stream",
     "text": [
      "\n",
      "\n",
      "\n",
      " 80%|████████  | 443/552 [14:54<03:47,  2.09s/it]\u001b[A\u001b[A\u001b[A"
     ]
    },
    {
     "name": "stdout",
     "output_type": "stream",
     "text": [
      "/tf/data/dementia/English/Pitt/Dementia/cookie/594-0.mp3\n"
     ]
    },
    {
     "name": "stderr",
     "output_type": "stream",
     "text": [
      "\n",
      "\n",
      "\n",
      " 80%|████████  | 444/552 [14:56<03:29,  1.94s/it]\u001b[A\u001b[A\u001b[A"
     ]
    },
    {
     "name": "stdout",
     "output_type": "stream",
     "text": [
      "/tf/data/dementia/English/Pitt/Dementia/cookie/527-0.mp3\n"
     ]
    },
    {
     "name": "stderr",
     "output_type": "stream",
     "text": [
      "\n",
      "\n",
      "\n",
      " 81%|████████  | 445/552 [14:58<03:37,  2.03s/it]\u001b[A\u001b[A\u001b[A"
     ]
    },
    {
     "name": "stdout",
     "output_type": "stream",
     "text": [
      "/tf/data/dementia/English/Pitt/Dementia/cookie/635-0.mp3\n"
     ]
    },
    {
     "name": "stderr",
     "output_type": "stream",
     "text": [
      "\n",
      "\n",
      "\n",
      " 81%|████████  | 446/552 [15:01<04:10,  2.36s/it]\u001b[A\u001b[A\u001b[A"
     ]
    },
    {
     "name": "stdout",
     "output_type": "stream",
     "text": [
      "/tf/data/dementia/English/Pitt/Dementia/cookie/474-0.mp3\n"
     ]
    },
    {
     "name": "stderr",
     "output_type": "stream",
     "text": [
      "\n",
      "\n",
      "\n",
      " 81%|████████  | 447/552 [15:04<04:15,  2.43s/it]\u001b[A\u001b[A\u001b[A"
     ]
    },
    {
     "name": "stdout",
     "output_type": "stream",
     "text": [
      "/tf/data/dementia/English/Pitt/Dementia/cookie/157-0.mp3\n"
     ]
    },
    {
     "name": "stderr",
     "output_type": "stream",
     "text": [
      "\n",
      "\n",
      "\n",
      " 81%|████████  | 448/552 [15:06<04:21,  2.51s/it]\u001b[A\u001b[A\u001b[A"
     ]
    },
    {
     "name": "stdout",
     "output_type": "stream",
     "text": [
      "/tf/data/dementia/English/Pitt/Dementia/cookie/506-0.mp3\n"
     ]
    },
    {
     "name": "stderr",
     "output_type": "stream",
     "text": [
      "\n",
      "\n",
      "\n",
      " 81%|████████▏ | 449/552 [15:09<04:31,  2.63s/it]\u001b[A\u001b[A\u001b[A"
     ]
    },
    {
     "name": "stdout",
     "output_type": "stream",
     "text": [
      "/tf/data/dementia/English/Pitt/Dementia/cookie/222-0.mp3\n"
     ]
    },
    {
     "name": "stderr",
     "output_type": "stream",
     "text": [
      "\n",
      "\n",
      "\n",
      " 82%|████████▏ | 450/552 [15:12<04:45,  2.80s/it]\u001b[A\u001b[A\u001b[A"
     ]
    },
    {
     "name": "stdout",
     "output_type": "stream",
     "text": [
      "/tf/data/dementia/English/Pitt/Dementia/cookie/065-1.mp3\n"
     ]
    },
    {
     "name": "stderr",
     "output_type": "stream",
     "text": [
      "\n",
      "\n",
      "\n",
      " 82%|████████▏ | 451/552 [15:16<05:14,  3.11s/it]\u001b[A\u001b[A\u001b[A"
     ]
    },
    {
     "name": "stdout",
     "output_type": "stream",
     "text": [
      "/tf/data/dementia/English/Pitt/Dementia/cookie/252-1.mp3\n"
     ]
    },
    {
     "name": "stderr",
     "output_type": "stream",
     "text": [
      "\n",
      "\n",
      "\n",
      " 82%|████████▏ | 452/552 [15:18<04:37,  2.77s/it]\u001b[A\u001b[A\u001b[A"
     ]
    },
    {
     "name": "stdout",
     "output_type": "stream",
     "text": [
      "/tf/data/dementia/English/Pitt/Dementia/cookie/091-0.mp3\n"
     ]
    },
    {
     "name": "stderr",
     "output_type": "stream",
     "text": [
      "\n",
      "\n",
      "\n",
      " 82%|████████▏ | 453/552 [15:20<04:02,  2.45s/it]\u001b[A\u001b[A\u001b[A"
     ]
    },
    {
     "name": "stdout",
     "output_type": "stream",
     "text": [
      "/tf/data/dementia/English/Pitt/Dementia/cookie/029-0.mp3\n"
     ]
    },
    {
     "name": "stderr",
     "output_type": "stream",
     "text": [
      "\n",
      "\n",
      "\n",
      " 82%|████████▏ | 454/552 [15:22<04:01,  2.47s/it]\u001b[A\u001b[A\u001b[A"
     ]
    },
    {
     "name": "stdout",
     "output_type": "stream",
     "text": [
      "/tf/data/dementia/English/Pitt/Dementia/cookie/492-0.mp3\n"
     ]
    },
    {
     "name": "stderr",
     "output_type": "stream",
     "text": [
      "\n",
      "\n",
      "\n",
      " 82%|████████▏ | 455/552 [15:26<04:18,  2.66s/it]\u001b[A\u001b[A\u001b[A"
     ]
    },
    {
     "name": "stdout",
     "output_type": "stream",
     "text": [
      "/tf/data/dementia/English/Pitt/Dementia/cookie/289-2.mp3\n"
     ]
    },
    {
     "name": "stderr",
     "output_type": "stream",
     "text": [
      "\n",
      "\n",
      "\n",
      " 83%|████████▎ | 456/552 [15:27<03:25,  2.14s/it]\u001b[A\u001b[A\u001b[A"
     ]
    },
    {
     "name": "stdout",
     "output_type": "stream",
     "text": [
      "/tf/data/dementia/English/Pitt/Dementia/cookie/005-2.mp3\n"
     ]
    },
    {
     "name": "stderr",
     "output_type": "stream",
     "text": [
      "\n",
      "\n",
      "\n",
      " 83%|████████▎ | 457/552 [15:28<03:05,  1.95s/it]\u001b[A\u001b[A\u001b[A"
     ]
    },
    {
     "name": "stdout",
     "output_type": "stream",
     "text": [
      "/tf/data/dementia/English/Pitt/Dementia/cookie/213-3.mp3\n"
     ]
    },
    {
     "name": "stderr",
     "output_type": "stream",
     "text": [
      "\n",
      "\n",
      "\n",
      " 83%|████████▎ | 458/552 [15:32<04:03,  2.59s/it]\u001b[A\u001b[A\u001b[A"
     ]
    },
    {
     "name": "stdout",
     "output_type": "stream",
     "text": [
      "/tf/data/dementia/English/Pitt/Dementia/cookie/030-1.mp3\n"
     ]
    },
    {
     "name": "stderr",
     "output_type": "stream",
     "text": [
      "\n",
      "\n",
      "\n",
      " 83%|████████▎ | 459/552 [15:35<03:57,  2.55s/it]\u001b[A\u001b[A\u001b[A"
     ]
    },
    {
     "name": "stdout",
     "output_type": "stream",
     "text": [
      "/tf/data/dementia/English/Pitt/Dementia/cookie/334-0.mp3\n"
     ]
    },
    {
     "name": "stderr",
     "output_type": "stream",
     "text": [
      "\n",
      "\n",
      "\n",
      " 83%|████████▎ | 460/552 [15:38<04:16,  2.79s/it]\u001b[A\u001b[A\u001b[A"
     ]
    },
    {
     "name": "stdout",
     "output_type": "stream",
     "text": [
      "/tf/data/dementia/English/Pitt/Dementia/cookie/508-0.mp3\n"
     ]
    },
    {
     "name": "stderr",
     "output_type": "stream",
     "text": [
      "\n",
      "\n",
      "\n",
      " 84%|████████▎ | 461/552 [15:40<03:47,  2.51s/it]\u001b[A\u001b[A\u001b[A"
     ]
    },
    {
     "name": "stdout",
     "output_type": "stream",
     "text": [
      "/tf/data/dementia/English/Pitt/Dementia/cookie/470-1.mp3\n"
     ]
    },
    {
     "name": "stderr",
     "output_type": "stream",
     "text": [
      "\n",
      "\n",
      "\n",
      " 84%|████████▎ | 462/552 [15:42<03:38,  2.42s/it]\u001b[A\u001b[A\u001b[A"
     ]
    },
    {
     "name": "stdout",
     "output_type": "stream",
     "text": [
      "/tf/data/dementia/English/Pitt/Dementia/cookie/067-1.mp3\n"
     ]
    },
    {
     "name": "stderr",
     "output_type": "stream",
     "text": [
      "\n",
      "\n",
      "\n",
      " 84%|████████▍ | 463/552 [15:44<03:26,  2.32s/it]\u001b[A\u001b[A\u001b[A"
     ]
    },
    {
     "name": "stdout",
     "output_type": "stream",
     "text": [
      "/tf/data/dementia/English/Pitt/Dementia/cookie/144-1.mp3\n"
     ]
    },
    {
     "name": "stderr",
     "output_type": "stream",
     "text": [
      "\n",
      "\n",
      "\n",
      " 84%|████████▍ | 464/552 [15:46<03:22,  2.30s/it]\u001b[A\u001b[A\u001b[A"
     ]
    },
    {
     "name": "stdout",
     "output_type": "stream",
     "text": [
      "/tf/data/dementia/English/Pitt/Dementia/cookie/362-1.mp3\n"
     ]
    },
    {
     "name": "stderr",
     "output_type": "stream",
     "text": [
      "\n",
      "\n",
      "\n",
      " 84%|████████▍ | 465/552 [15:47<02:35,  1.78s/it]\u001b[A\u001b[A\u001b[A"
     ]
    },
    {
     "name": "stdout",
     "output_type": "stream",
     "text": [
      "/tf/data/dementia/English/Pitt/Dementia/cookie/053-1.mp3\n"
     ]
    },
    {
     "name": "stderr",
     "output_type": "stream",
     "text": [
      "\n",
      "\n",
      "\n",
      " 84%|████████▍ | 466/552 [15:52<03:50,  2.68s/it]\u001b[A\u001b[A\u001b[A"
     ]
    },
    {
     "name": "stdout",
     "output_type": "stream",
     "text": [
      "/tf/data/dementia/English/Pitt/Dementia/cookie/344-2.mp3\n"
     ]
    },
    {
     "name": "stderr",
     "output_type": "stream",
     "text": [
      "\n",
      "\n",
      "\n",
      " 85%|████████▍ | 467/552 [15:55<03:57,  2.80s/it]\u001b[A\u001b[A\u001b[A"
     ]
    },
    {
     "name": "stdout",
     "output_type": "stream",
     "text": [
      "/tf/data/dementia/English/Pitt/Dementia/cookie/362-0.mp3\n"
     ]
    },
    {
     "name": "stderr",
     "output_type": "stream",
     "text": [
      "\n",
      "\n",
      "\n",
      " 85%|████████▍ | 468/552 [15:56<03:08,  2.25s/it]\u001b[A\u001b[A\u001b[A"
     ]
    },
    {
     "name": "stdout",
     "output_type": "stream",
     "text": [
      "/tf/data/dementia/English/Pitt/Dementia/cookie/222-1.mp3\n"
     ]
    },
    {
     "name": "stderr",
     "output_type": "stream",
     "text": [
      "\n",
      "\n",
      "\n",
      " 85%|████████▍ | 469/552 [16:00<04:06,  2.97s/it]\u001b[A\u001b[A\u001b[A"
     ]
    },
    {
     "name": "stdout",
     "output_type": "stream",
     "text": [
      "/tf/data/dementia/English/Pitt/Dementia/cookie/674-0.mp3\n"
     ]
    },
    {
     "name": "stderr",
     "output_type": "stream",
     "text": [
      "\n",
      "\n",
      "\n",
      " 85%|████████▌ | 470/552 [16:01<03:15,  2.39s/it]\u001b[A\u001b[A\u001b[A"
     ]
    },
    {
     "name": "stdout",
     "output_type": "stream",
     "text": [
      "/tf/data/dementia/English/Pitt/Dementia/cookie/591-0.mp3\n"
     ]
    },
    {
     "name": "stderr",
     "output_type": "stream",
     "text": [
      "\n",
      "\n",
      "\n",
      " 85%|████████▌ | 471/552 [16:04<03:30,  2.60s/it]\u001b[A\u001b[A\u001b[A"
     ]
    },
    {
     "name": "stdout",
     "output_type": "stream",
     "text": [
      "/tf/data/dementia/English/Pitt/Dementia/cookie/120-4.mp3\n"
     ]
    },
    {
     "name": "stderr",
     "output_type": "stream",
     "text": [
      "\n",
      "\n",
      "\n",
      " 86%|████████▌ | 472/552 [16:06<02:55,  2.20s/it]\u001b[A\u001b[A\u001b[A"
     ]
    },
    {
     "name": "stdout",
     "output_type": "stream",
     "text": [
      "/tf/data/dementia/English/Pitt/Dementia/cookie/349-1.mp3\n"
     ]
    },
    {
     "name": "stderr",
     "output_type": "stream",
     "text": [
      "\n",
      "\n",
      "\n",
      " 86%|████████▌ | 473/552 [16:08<02:50,  2.16s/it]\u001b[A\u001b[A\u001b[A"
     ]
    },
    {
     "name": "stdout",
     "output_type": "stream",
     "text": [
      "/tf/data/dementia/English/Pitt/Dementia/cookie/221-0.mp3\n"
     ]
    },
    {
     "name": "stderr",
     "output_type": "stream",
     "text": [
      "\n",
      "\n",
      "\n",
      " 86%|████████▌ | 474/552 [16:12<03:27,  2.66s/it]\u001b[A\u001b[A\u001b[A"
     ]
    },
    {
     "name": "stdout",
     "output_type": "stream",
     "text": [
      "/tf/data/dementia/English/Pitt/Dementia/cookie/051-1.mp3\n"
     ]
    },
    {
     "name": "stderr",
     "output_type": "stream",
     "text": [
      "\n",
      "\n",
      "\n",
      " 86%|████████▌ | 475/552 [16:14<03:09,  2.46s/it]\u001b[A\u001b[A\u001b[A"
     ]
    },
    {
     "name": "stdout",
     "output_type": "stream",
     "text": [
      "/tf/data/dementia/English/Pitt/Dementia/cookie/016-0.mp3\n"
     ]
    },
    {
     "name": "stderr",
     "output_type": "stream",
     "text": [
      "\n",
      "\n",
      "\n",
      " 86%|████████▌ | 476/552 [16:15<02:49,  2.23s/it]\u001b[A\u001b[A\u001b[A"
     ]
    },
    {
     "name": "stdout",
     "output_type": "stream",
     "text": [
      "/tf/data/dementia/English/Pitt/Dementia/cookie/061-1.mp3\n"
     ]
    },
    {
     "name": "stderr",
     "output_type": "stream",
     "text": [
      "\n",
      "\n",
      "\n",
      " 86%|████████▋ | 477/552 [16:17<02:32,  2.04s/it]\u001b[A\u001b[A\u001b[A"
     ]
    },
    {
     "name": "stdout",
     "output_type": "stream",
     "text": [
      "/tf/data/dementia/English/Pitt/Dementia/cookie/681-0.mp3\n"
     ]
    },
    {
     "name": "stderr",
     "output_type": "stream",
     "text": [
      "\n",
      "\n",
      "\n",
      " 87%|████████▋ | 478/552 [16:19<02:33,  2.08s/it]\u001b[A\u001b[A\u001b[A"
     ]
    },
    {
     "name": "stdout",
     "output_type": "stream",
     "text": [
      "/tf/data/dementia/English/Pitt/Dementia/cookie/076-0.mp3\n"
     ]
    },
    {
     "name": "stderr",
     "output_type": "stream",
     "text": [
      "\n",
      "\n",
      "\n",
      " 87%|████████▋ | 479/552 [16:22<02:44,  2.25s/it]\u001b[A\u001b[A\u001b[A"
     ]
    },
    {
     "name": "stdout",
     "output_type": "stream",
     "text": [
      "/tf/data/dementia/English/Pitt/Dementia/cookie/148-0.mp3\n"
     ]
    },
    {
     "name": "stderr",
     "output_type": "stream",
     "text": [
      "\n",
      "\n",
      "\n",
      " 87%|████████▋ | 480/552 [16:24<02:38,  2.21s/it]\u001b[A\u001b[A\u001b[A"
     ]
    },
    {
     "name": "stdout",
     "output_type": "stream",
     "text": [
      "/tf/data/dementia/English/Pitt/Dementia/cookie/173-1.mp3\n"
     ]
    },
    {
     "name": "stderr",
     "output_type": "stream",
     "text": [
      "\n",
      "\n",
      "\n",
      " 87%|████████▋ | 481/552 [16:26<02:40,  2.27s/it]\u001b[A\u001b[A\u001b[A"
     ]
    },
    {
     "name": "stdout",
     "output_type": "stream",
     "text": [
      "/tf/data/dementia/English/Pitt/Dementia/cookie/127-0.mp3\n"
     ]
    },
    {
     "name": "stderr",
     "output_type": "stream",
     "text": [
      "\n",
      "\n",
      "\n",
      " 87%|████████▋ | 482/552 [16:27<02:13,  1.91s/it]\u001b[A\u001b[A\u001b[A"
     ]
    },
    {
     "name": "stdout",
     "output_type": "stream",
     "text": [
      "/tf/data/dementia/English/Pitt/Dementia/cookie/562-0.mp3\n"
     ]
    },
    {
     "name": "stderr",
     "output_type": "stream",
     "text": [
      "\n",
      "\n",
      "\n",
      " 88%|████████▊ | 483/552 [16:29<02:03,  1.79s/it]\u001b[A\u001b[A\u001b[A"
     ]
    },
    {
     "name": "stdout",
     "output_type": "stream",
     "text": [
      "/tf/data/dementia/English/Pitt/Dementia/cookie/154-0.mp3\n"
     ]
    },
    {
     "name": "stderr",
     "output_type": "stream",
     "text": [
      "\n",
      "\n",
      "\n",
      " 88%|████████▊ | 484/552 [16:33<02:48,  2.48s/it]\u001b[A\u001b[A\u001b[A"
     ]
    },
    {
     "name": "stdout",
     "output_type": "stream",
     "text": [
      "/tf/data/dementia/English/Pitt/Dementia/cookie/705-0.mp3\n"
     ]
    },
    {
     "name": "stderr",
     "output_type": "stream",
     "text": [
      "\n",
      "\n",
      "\n",
      " 88%|████████▊ | 485/552 [16:35<02:45,  2.47s/it]\u001b[A\u001b[A\u001b[A"
     ]
    },
    {
     "name": "stdout",
     "output_type": "stream",
     "text": [
      "/tf/data/dementia/English/Pitt/Dementia/cookie/010-0.mp3\n"
     ]
    },
    {
     "name": "stderr",
     "output_type": "stream",
     "text": [
      "\n",
      "\n",
      "\n",
      " 88%|████████▊ | 486/552 [16:39<03:10,  2.88s/it]\u001b[A\u001b[A\u001b[A"
     ]
    },
    {
     "name": "stdout",
     "output_type": "stream",
     "text": [
      "/tf/data/dementia/English/Pitt/Dementia/cookie/356-1.mp3\n"
     ]
    },
    {
     "name": "stderr",
     "output_type": "stream",
     "text": [
      "\n",
      "\n",
      "\n",
      " 88%|████████▊ | 487/552 [16:40<02:28,  2.29s/it]\u001b[A\u001b[A\u001b[A"
     ]
    },
    {
     "name": "stdout",
     "output_type": "stream",
     "text": [
      "/tf/data/dementia/English/Pitt/Dementia/cookie/178-1.mp3\n"
     ]
    },
    {
     "name": "stderr",
     "output_type": "stream",
     "text": [
      "\n",
      "\n",
      "\n",
      " 88%|████████▊ | 488/552 [16:49<04:31,  4.25s/it]\u001b[A\u001b[A\u001b[A"
     ]
    },
    {
     "name": "stdout",
     "output_type": "stream",
     "text": [
      "/tf/data/dementia/English/Pitt/Dementia/cookie/070-2.mp3\n"
     ]
    },
    {
     "name": "stderr",
     "output_type": "stream",
     "text": [
      "\n",
      "\n",
      "\n",
      " 89%|████████▊ | 489/552 [16:52<04:06,  3.91s/it]\u001b[A\u001b[A\u001b[A"
     ]
    },
    {
     "name": "stdout",
     "output_type": "stream",
     "text": [
      "/tf/data/dementia/English/Pitt/Dementia/cookie/358-1.mp3\n"
     ]
    },
    {
     "name": "stderr",
     "output_type": "stream",
     "text": [
      "\n",
      "\n",
      "\n",
      " 89%|████████▉ | 490/552 [16:55<03:39,  3.53s/it]\u001b[A\u001b[A\u001b[A"
     ]
    },
    {
     "name": "stdout",
     "output_type": "stream",
     "text": [
      "/tf/data/dementia/English/Pitt/Dementia/cookie/212-0.mp3\n"
     ]
    },
    {
     "name": "stderr",
     "output_type": "stream",
     "text": [
      "\n",
      "\n",
      "\n",
      " 89%|████████▉ | 491/552 [16:58<03:28,  3.42s/it]\u001b[A\u001b[A\u001b[A"
     ]
    },
    {
     "name": "stdout",
     "output_type": "stream",
     "text": [
      "/tf/data/dementia/English/Pitt/Dementia/cookie/213-1.mp3\n"
     ]
    },
    {
     "name": "stderr",
     "output_type": "stream",
     "text": [
      "\n",
      "\n",
      "\n",
      " 89%|████████▉ | 492/552 [17:01<03:25,  3.43s/it]\u001b[A\u001b[A\u001b[A"
     ]
    },
    {
     "name": "stdout",
     "output_type": "stream",
     "text": [
      "/tf/data/dementia/English/Pitt/Dementia/cookie/450-0.mp3\n"
     ]
    },
    {
     "name": "stderr",
     "output_type": "stream",
     "text": [
      "\n",
      "\n",
      "\n",
      " 89%|████████▉ | 493/552 [17:04<02:59,  3.05s/it]\u001b[A\u001b[A\u001b[A"
     ]
    },
    {
     "name": "stdout",
     "output_type": "stream",
     "text": [
      "/tf/data/dementia/English/Pitt/Dementia/cookie/183-1.mp3\n"
     ]
    },
    {
     "name": "stderr",
     "output_type": "stream",
     "text": [
      "\n",
      "\n",
      "\n",
      " 89%|████████▉ | 494/552 [17:05<02:32,  2.63s/it]\u001b[A\u001b[A\u001b[A"
     ]
    },
    {
     "name": "stdout",
     "output_type": "stream",
     "text": [
      "/tf/data/dementia/English/Pitt/Dementia/cookie/010-1.mp3\n"
     ]
    },
    {
     "name": "stderr",
     "output_type": "stream",
     "text": [
      "\n",
      "\n",
      "\n",
      " 90%|████████▉ | 495/552 [17:08<02:27,  2.59s/it]\u001b[A\u001b[A\u001b[A"
     ]
    },
    {
     "name": "stdout",
     "output_type": "stream",
     "text": [
      "/tf/data/dementia/English/Pitt/Dementia/cookie/276-0.mp3\n"
     ]
    },
    {
     "name": "stderr",
     "output_type": "stream",
     "text": [
      "\n",
      "\n",
      "\n",
      " 90%|████████▉ | 496/552 [17:13<03:11,  3.41s/it]\u001b[A\u001b[A\u001b[A"
     ]
    },
    {
     "name": "stdout",
     "output_type": "stream",
     "text": [
      "/tf/data/dementia/English/Pitt/Dementia/cookie/172-1.mp3\n"
     ]
    },
    {
     "name": "stderr",
     "output_type": "stream",
     "text": [
      "\n",
      "\n",
      "\n",
      " 90%|█████████ | 497/552 [17:15<02:44,  2.99s/it]\u001b[A\u001b[A\u001b[A"
     ]
    },
    {
     "name": "stdout",
     "output_type": "stream",
     "text": [
      "/tf/data/dementia/English/Pitt/Dementia/cookie/236-0.mp3\n"
     ]
    },
    {
     "name": "stderr",
     "output_type": "stream",
     "text": [
      "\n",
      "\n",
      "\n",
      " 90%|█████████ | 498/552 [17:19<02:57,  3.28s/it]\u001b[A\u001b[A\u001b[A"
     ]
    },
    {
     "name": "stdout",
     "output_type": "stream",
     "text": [
      "/tf/data/dementia/English/Pitt/Dementia/cookie/184-0.mp3\n"
     ]
    },
    {
     "name": "stderr",
     "output_type": "stream",
     "text": [
      "\n",
      "\n",
      "\n",
      " 90%|█████████ | 499/552 [17:20<02:19,  2.63s/it]\u001b[A\u001b[A\u001b[A"
     ]
    },
    {
     "name": "stdout",
     "output_type": "stream",
     "text": [
      "/tf/data/dementia/English/Pitt/Dementia/cookie/648-0.mp3\n"
     ]
    },
    {
     "name": "stderr",
     "output_type": "stream",
     "text": [
      "\n",
      "\n",
      "\n",
      " 91%|█████████ | 500/552 [17:22<01:59,  2.29s/it]\u001b[A\u001b[A\u001b[A"
     ]
    },
    {
     "name": "stdout",
     "output_type": "stream",
     "text": [
      "/tf/data/dementia/English/Pitt/Dementia/cookie/220-1.mp3\n"
     ]
    },
    {
     "name": "stderr",
     "output_type": "stream",
     "text": [
      "\n",
      "\n",
      "\n",
      " 91%|█████████ | 501/552 [17:22<01:33,  1.84s/it]\u001b[A\u001b[A\u001b[A"
     ]
    },
    {
     "name": "stdout",
     "output_type": "stream",
     "text": [
      "/tf/data/dementia/English/Pitt/Dementia/cookie/001-0.mp3\n"
     ]
    },
    {
     "name": "stderr",
     "output_type": "stream",
     "text": [
      "\n",
      "\n",
      "\n",
      " 91%|█████████ | 502/552 [17:24<01:26,  1.74s/it]\u001b[A\u001b[A\u001b[A"
     ]
    },
    {
     "name": "stdout",
     "output_type": "stream",
     "text": [
      "/tf/data/dementia/English/Pitt/Dementia/cookie/007-1.mp3\n"
     ]
    },
    {
     "name": "stderr",
     "output_type": "stream",
     "text": [
      "\n",
      "\n",
      "\n",
      " 91%|█████████ | 503/552 [17:25<01:21,  1.66s/it]\u001b[A\u001b[A\u001b[A"
     ]
    },
    {
     "name": "stdout",
     "output_type": "stream",
     "text": [
      "/tf/data/dementia/English/Pitt/Dementia/cookie/311-0.mp3\n"
     ]
    },
    {
     "name": "stderr",
     "output_type": "stream",
     "text": [
      "\n",
      "\n",
      "\n",
      " 91%|█████████▏| 504/552 [17:26<01:12,  1.51s/it]\u001b[A\u001b[A\u001b[A"
     ]
    },
    {
     "name": "stdout",
     "output_type": "stream",
     "text": [
      "/tf/data/dementia/English/Pitt/Dementia/cookie/134-2.mp3\n"
     ]
    },
    {
     "name": "stderr",
     "output_type": "stream",
     "text": [
      "\n",
      "\n",
      "\n",
      " 91%|█████████▏| 505/552 [17:28<01:05,  1.39s/it]\u001b[A\u001b[A\u001b[A"
     ]
    },
    {
     "name": "stdout",
     "output_type": "stream",
     "text": [
      "/tf/data/dementia/English/Pitt/Dementia/cookie/293-1.mp3\n"
     ]
    },
    {
     "name": "stderr",
     "output_type": "stream",
     "text": [
      "\n",
      "\n",
      "\n",
      " 92%|█████████▏| 506/552 [17:29<01:07,  1.48s/it]\u001b[A\u001b[A\u001b[A"
     ]
    },
    {
     "name": "stdout",
     "output_type": "stream",
     "text": [
      "/tf/data/dementia/English/Pitt/Dementia/cookie/091-2.mp3\n"
     ]
    },
    {
     "name": "stderr",
     "output_type": "stream",
     "text": [
      "\n",
      "\n",
      "\n",
      " 92%|█████████▏| 507/552 [17:31<01:11,  1.60s/it]\u001b[A\u001b[A\u001b[A"
     ]
    },
    {
     "name": "stdout",
     "output_type": "stream",
     "text": [
      "/tf/data/dementia/English/Pitt/Dementia/cookie/181-2.mp3\n"
     ]
    },
    {
     "name": "stderr",
     "output_type": "stream",
     "text": [
      "\n",
      "\n",
      "\n",
      " 92%|█████████▏| 508/552 [17:32<00:59,  1.34s/it]\u001b[A\u001b[A\u001b[A"
     ]
    },
    {
     "name": "stdout",
     "output_type": "stream",
     "text": [
      "/tf/data/dementia/English/Pitt/Dementia/cookie/476-0.mp3\n"
     ]
    },
    {
     "name": "stderr",
     "output_type": "stream",
     "text": [
      "\n",
      "\n",
      "\n",
      " 92%|█████████▏| 509/552 [17:34<01:10,  1.65s/it]\u001b[A\u001b[A\u001b[A"
     ]
    },
    {
     "name": "stdout",
     "output_type": "stream",
     "text": [
      "/tf/data/dementia/English/Pitt/Dementia/cookie/319-0.mp3\n"
     ]
    },
    {
     "name": "stderr",
     "output_type": "stream",
     "text": [
      "\n",
      "\n",
      "\n",
      " 92%|█████████▏| 510/552 [17:38<01:33,  2.24s/it]\u001b[A\u001b[A\u001b[A"
     ]
    },
    {
     "name": "stdout",
     "output_type": "stream",
     "text": [
      "/tf/data/dementia/English/Pitt/Dementia/cookie/282-1.mp3\n"
     ]
    },
    {
     "name": "stderr",
     "output_type": "stream",
     "text": [
      "\n",
      "\n",
      "\n",
      " 93%|█████████▎| 511/552 [17:40<01:24,  2.06s/it]\u001b[A\u001b[A\u001b[A"
     ]
    },
    {
     "name": "stdout",
     "output_type": "stream",
     "text": [
      "/tf/data/dementia/English/Pitt/Dementia/cookie/592-0.mp3\n"
     ]
    },
    {
     "name": "stderr",
     "output_type": "stream",
     "text": [
      "\n",
      "\n",
      "\n",
      " 93%|█████████▎| 512/552 [17:42<01:26,  2.17s/it]\u001b[A\u001b[A\u001b[A"
     ]
    },
    {
     "name": "stdout",
     "output_type": "stream",
     "text": [
      "/tf/data/dementia/English/Pitt/Dementia/cookie/656-0.mp3\n"
     ]
    },
    {
     "name": "stderr",
     "output_type": "stream",
     "text": [
      "\n",
      "\n",
      "\n",
      " 93%|█████████▎| 513/552 [17:43<01:07,  1.73s/it]\u001b[A\u001b[A\u001b[A"
     ]
    },
    {
     "name": "stdout",
     "output_type": "stream",
     "text": [
      "/tf/data/dementia/English/Pitt/Dementia/cookie/065-2.mp3\n"
     ]
    },
    {
     "name": "stderr",
     "output_type": "stream",
     "text": [
      "\n",
      "\n",
      "\n",
      " 93%|█████████▎| 514/552 [17:47<01:36,  2.53s/it]\u001b[A\u001b[A\u001b[A"
     ]
    },
    {
     "name": "stdout",
     "output_type": "stream",
     "text": [
      "/tf/data/dementia/English/Pitt/Dementia/cookie/361-0.mp3\n"
     ]
    },
    {
     "name": "stderr",
     "output_type": "stream",
     "text": [
      "\n",
      "\n",
      "\n",
      " 93%|█████████▎| 515/552 [17:50<01:35,  2.58s/it]\u001b[A\u001b[A\u001b[A"
     ]
    },
    {
     "name": "stdout",
     "output_type": "stream",
     "text": [
      "/tf/data/dementia/English/Pitt/Dementia/cookie/257-0.mp3\n"
     ]
    },
    {
     "name": "stderr",
     "output_type": "stream",
     "text": [
      "\n",
      "\n",
      "\n",
      " 93%|█████████▎| 516/552 [17:52<01:33,  2.61s/it]\u001b[A\u001b[A\u001b[A"
     ]
    },
    {
     "name": "stdout",
     "output_type": "stream",
     "text": [
      "/tf/data/dementia/English/Pitt/Dementia/cookie/620-0.mp3\n"
     ]
    },
    {
     "name": "stderr",
     "output_type": "stream",
     "text": [
      "\n",
      "\n",
      "\n",
      " 94%|█████████▎| 517/552 [17:54<01:25,  2.45s/it]\u001b[A\u001b[A\u001b[A"
     ]
    },
    {
     "name": "stdout",
     "output_type": "stream",
     "text": [
      "/tf/data/dementia/English/Pitt/Dementia/cookie/172-2.mp3\n"
     ]
    },
    {
     "name": "stderr",
     "output_type": "stream",
     "text": [
      "\n",
      "\n",
      "\n",
      " 94%|█████████▍| 518/552 [17:55<01:04,  1.89s/it]\u001b[A\u001b[A\u001b[A"
     ]
    },
    {
     "name": "stdout",
     "output_type": "stream",
     "text": [
      "/tf/data/dementia/English/Pitt/Dementia/cookie/043-0.mp3\n"
     ]
    },
    {
     "name": "stderr",
     "output_type": "stream",
     "text": [
      "\n",
      "\n",
      "\n",
      " 94%|█████████▍| 519/552 [17:58<01:10,  2.14s/it]\u001b[A\u001b[A\u001b[A"
     ]
    },
    {
     "name": "stdout",
     "output_type": "stream",
     "text": [
      "/tf/data/dementia/English/Pitt/Dementia/cookie/003-0.mp3\n"
     ]
    },
    {
     "name": "stderr",
     "output_type": "stream",
     "text": [
      "\n",
      "\n",
      "\n",
      " 94%|█████████▍| 520/552 [18:07<02:16,  4.27s/it]\u001b[A\u001b[A\u001b[A"
     ]
    },
    {
     "name": "stdout",
     "output_type": "stream",
     "text": [
      "/tf/data/dementia/English/Pitt/Dementia/cookie/216-1.mp3\n"
     ]
    },
    {
     "name": "stderr",
     "output_type": "stream",
     "text": [
      "\n",
      "\n",
      "\n",
      " 94%|█████████▍| 521/552 [18:08<01:42,  3.31s/it]\u001b[A\u001b[A\u001b[A"
     ]
    },
    {
     "name": "stdout",
     "output_type": "stream",
     "text": [
      "/tf/data/dementia/English/Pitt/Dementia/cookie/329-0.mp3\n"
     ]
    },
    {
     "name": "stderr",
     "output_type": "stream",
     "text": [
      "\n",
      "\n",
      "\n",
      " 95%|█████████▍| 522/552 [18:13<01:52,  3.77s/it]\u001b[A\u001b[A\u001b[A"
     ]
    },
    {
     "name": "stdout",
     "output_type": "stream",
     "text": [
      "/tf/data/dementia/English/Pitt/Dementia/cookie/381-0.mp3\n"
     ]
    },
    {
     "name": "stderr",
     "output_type": "stream",
     "text": [
      "\n",
      "\n",
      "\n",
      " 95%|█████████▍| 523/552 [18:14<01:22,  2.85s/it]\u001b[A\u001b[A\u001b[A"
     ]
    },
    {
     "name": "stdout",
     "output_type": "stream",
     "text": [
      "/tf/data/dementia/English/Pitt/Dementia/cookie/544-0.mp3\n"
     ]
    },
    {
     "name": "stderr",
     "output_type": "stream",
     "text": [
      "\n",
      "\n",
      "\n",
      " 95%|█████████▍| 524/552 [18:14<01:00,  2.16s/it]\u001b[A\u001b[A\u001b[A"
     ]
    },
    {
     "name": "stdout",
     "output_type": "stream",
     "text": [
      "/tf/data/dementia/English/Pitt/Dementia/cookie/010-2.mp3\n"
     ]
    },
    {
     "name": "stderr",
     "output_type": "stream",
     "text": [
      "\n",
      "\n",
      "\n",
      " 95%|█████████▌| 525/552 [18:18<01:11,  2.63s/it]\u001b[A\u001b[A\u001b[A"
     ]
    },
    {
     "name": "stdout",
     "output_type": "stream",
     "text": [
      "/tf/data/dementia/English/Pitt/Dementia/cookie/660-0.mp3\n"
     ]
    },
    {
     "name": "stderr",
     "output_type": "stream",
     "text": [
      "\n",
      "\n",
      "\n",
      " 95%|█████████▌| 526/552 [18:18<00:50,  1.95s/it]\u001b[A\u001b[A\u001b[A"
     ]
    },
    {
     "name": "stdout",
     "output_type": "stream",
     "text": [
      "/tf/data/dementia/English/Pitt/Dementia/cookie/050-0.mp3\n"
     ]
    },
    {
     "name": "stderr",
     "output_type": "stream",
     "text": [
      "\n",
      "\n",
      "\n",
      " 95%|█████████▌| 527/552 [18:20<00:46,  1.84s/it]\u001b[A\u001b[A\u001b[A"
     ]
    },
    {
     "name": "stdout",
     "output_type": "stream",
     "text": [
      "/tf/data/dementia/English/Pitt/Dementia/cookie/030-0.mp3\n"
     ]
    },
    {
     "name": "stderr",
     "output_type": "stream",
     "text": [
      "\n",
      "\n",
      "\n",
      " 96%|█████████▌| 528/552 [18:22<00:49,  2.07s/it]\u001b[A\u001b[A\u001b[A"
     ]
    },
    {
     "name": "stdout",
     "output_type": "stream",
     "text": [
      "/tf/data/dementia/English/Pitt/Dementia/cookie/707-0.mp3\n"
     ]
    },
    {
     "name": "stderr",
     "output_type": "stream",
     "text": [
      "\n",
      "\n",
      "\n",
      " 96%|█████████▌| 529/552 [18:24<00:42,  1.84s/it]\u001b[A\u001b[A\u001b[A"
     ]
    },
    {
     "name": "stdout",
     "output_type": "stream",
     "text": [
      "/tf/data/dementia/English/Pitt/Dementia/cookie/529-0.mp3\n"
     ]
    },
    {
     "name": "stderr",
     "output_type": "stream",
     "text": [
      "\n",
      "\n",
      "\n",
      " 96%|█████████▌| 530/552 [18:25<00:36,  1.64s/it]\u001b[A\u001b[A\u001b[A"
     ]
    },
    {
     "name": "stdout",
     "output_type": "stream",
     "text": [
      "/tf/data/dementia/English/Pitt/Dementia/cookie/257-2.mp3\n"
     ]
    },
    {
     "name": "stderr",
     "output_type": "stream",
     "text": [
      "\n",
      "\n",
      "\n",
      " 96%|█████████▌| 531/552 [18:29<00:48,  2.32s/it]\u001b[A\u001b[A\u001b[A"
     ]
    },
    {
     "name": "stdout",
     "output_type": "stream",
     "text": [
      "/tf/data/dementia/English/Pitt/Dementia/cookie/089-0.mp3\n"
     ]
    },
    {
     "name": "stderr",
     "output_type": "stream",
     "text": [
      "\n",
      "\n",
      "\n",
      " 96%|█████████▋| 532/552 [18:32<00:53,  2.68s/it]\u001b[A\u001b[A\u001b[A"
     ]
    },
    {
     "name": "stdout",
     "output_type": "stream",
     "text": [
      "/tf/data/dementia/English/Pitt/Dementia/cookie/598-0.mp3\n"
     ]
    },
    {
     "name": "stderr",
     "output_type": "stream",
     "text": [
      "\n",
      "\n",
      "\n",
      " 97%|█████████▋| 533/552 [18:33<00:40,  2.12s/it]\u001b[A\u001b[A\u001b[A"
     ]
    },
    {
     "name": "stdout",
     "output_type": "stream",
     "text": [
      "/tf/data/dementia/English/Pitt/Dementia/cookie/018-0.mp3\n"
     ]
    },
    {
     "name": "stderr",
     "output_type": "stream",
     "text": [
      "\n",
      "\n",
      "\n",
      " 97%|█████████▋| 534/552 [18:40<01:06,  3.67s/it]\u001b[A\u001b[A\u001b[A"
     ]
    },
    {
     "name": "stdout",
     "output_type": "stream",
     "text": [
      "/tf/data/dementia/English/Pitt/Dementia/cookie/023-2.mp3\n"
     ]
    },
    {
     "name": "stderr",
     "output_type": "stream",
     "text": [
      "\n",
      "\n",
      "\n",
      " 97%|█████████▋| 535/552 [18:45<01:04,  3.79s/it]\u001b[A\u001b[A\u001b[A"
     ]
    },
    {
     "name": "stdout",
     "output_type": "stream",
     "text": [
      "/tf/data/dementia/English/Pitt/Dementia/cookie/164-2.mp3\n"
     ]
    },
    {
     "name": "stderr",
     "output_type": "stream",
     "text": [
      "\n",
      "\n",
      "\n",
      " 97%|█████████▋| 536/552 [18:45<00:45,  2.84s/it]\u001b[A\u001b[A\u001b[A"
     ]
    },
    {
     "name": "stdout",
     "output_type": "stream",
     "text": [
      "/tf/data/dementia/English/Pitt/Dementia/cookie/342-1.mp3\n"
     ]
    },
    {
     "name": "stderr",
     "output_type": "stream",
     "text": [
      "\n",
      "\n",
      "\n",
      " 97%|█████████▋| 537/552 [18:47<00:38,  2.56s/it]\u001b[A\u001b[A\u001b[A"
     ]
    },
    {
     "name": "stdout",
     "output_type": "stream",
     "text": [
      "/tf/data/dementia/English/Pitt/Dementia/cookie/134-0.mp3\n"
     ]
    },
    {
     "name": "stderr",
     "output_type": "stream",
     "text": [
      "\n",
      "\n",
      "\n",
      " 97%|█████████▋| 538/552 [18:49<00:32,  2.31s/it]\u001b[A\u001b[A\u001b[A"
     ]
    },
    {
     "name": "stdout",
     "output_type": "stream",
     "text": [
      "/tf/data/dementia/English/Pitt/Dementia/cookie/334-1.mp3\n"
     ]
    },
    {
     "name": "stderr",
     "output_type": "stream",
     "text": [
      "\n",
      "\n",
      "\n",
      " 98%|█████████▊| 539/552 [18:52<00:31,  2.45s/it]\u001b[A\u001b[A\u001b[A"
     ]
    },
    {
     "name": "stdout",
     "output_type": "stream",
     "text": [
      "/tf/data/dementia/English/Pitt/Dementia/cookie/264-0.mp3\n"
     ]
    },
    {
     "name": "stderr",
     "output_type": "stream",
     "text": [
      "\n",
      "\n",
      "\n",
      " 98%|█████████▊| 540/552 [18:55<00:32,  2.72s/it]\u001b[A\u001b[A\u001b[A"
     ]
    },
    {
     "name": "stdout",
     "output_type": "stream",
     "text": [
      "/tf/data/dementia/English/Pitt/Dementia/cookie/346-0.mp3\n"
     ]
    },
    {
     "name": "stderr",
     "output_type": "stream",
     "text": [
      "\n",
      "\n",
      "\n",
      " 98%|█████████▊| 541/552 [18:56<00:23,  2.14s/it]\u001b[A\u001b[A\u001b[A"
     ]
    },
    {
     "name": "stdout",
     "output_type": "stream",
     "text": [
      "/tf/data/dementia/English/Pitt/Dementia/cookie/058-0.mp3\n"
     ]
    },
    {
     "name": "stderr",
     "output_type": "stream",
     "text": [
      "\n",
      "\n",
      "\n",
      " 98%|█████████▊| 542/552 [18:57<00:19,  1.96s/it]\u001b[A\u001b[A\u001b[A"
     ]
    },
    {
     "name": "stdout",
     "output_type": "stream",
     "text": [
      "/tf/data/dementia/English/Pitt/Dementia/cookie/058-3.mp3\n"
     ]
    },
    {
     "name": "stderr",
     "output_type": "stream",
     "text": [
      "\n",
      "\n",
      "\n",
      " 98%|█████████▊| 543/552 [18:58<00:14,  1.61s/it]\u001b[A\u001b[A\u001b[A"
     ]
    },
    {
     "name": "stdout",
     "output_type": "stream",
     "text": [
      "/tf/data/dementia/English/Pitt/Dementia/cookie/279-0.mp3\n"
     ]
    },
    {
     "name": "stderr",
     "output_type": "stream",
     "text": [
      "\n",
      "\n",
      "\n",
      " 99%|█████████▊| 544/552 [19:01<00:16,  2.11s/it]\u001b[A\u001b[A\u001b[A"
     ]
    },
    {
     "name": "stdout",
     "output_type": "stream",
     "text": [
      "/tf/data/dementia/English/Pitt/Dementia/cookie/226-0.mp3\n"
     ]
    },
    {
     "name": "stderr",
     "output_type": "stream",
     "text": [
      "\n",
      "\n",
      "\n",
      " 99%|█████████▊| 545/552 [19:03<00:13,  1.93s/it]\u001b[A\u001b[A\u001b[A"
     ]
    },
    {
     "name": "stdout",
     "output_type": "stream",
     "text": [
      "/tf/data/dementia/English/Pitt/Dementia/cookie/134-3.mp3\n"
     ]
    },
    {
     "name": "stderr",
     "output_type": "stream",
     "text": [
      "\n",
      "\n",
      "\n",
      " 99%|█████████▉| 546/552 [19:05<00:11,  1.91s/it]\u001b[A\u001b[A\u001b[A"
     ]
    },
    {
     "name": "stdout",
     "output_type": "stream",
     "text": [
      "/tf/data/dementia/English/Pitt/Dementia/cookie/624-0.mp3\n"
     ]
    },
    {
     "name": "stderr",
     "output_type": "stream",
     "text": [
      "\n",
      "\n",
      "\n",
      " 99%|█████████▉| 547/552 [19:06<00:09,  1.83s/it]\u001b[A\u001b[A\u001b[A"
     ]
    },
    {
     "name": "stdout",
     "output_type": "stream",
     "text": [
      "/tf/data/dementia/English/Pitt/Dementia/cookie/190-1.mp3\n"
     ]
    },
    {
     "name": "stderr",
     "output_type": "stream",
     "text": [
      "\n",
      "\n",
      "\n",
      " 99%|█████████▉| 548/552 [19:07<00:06,  1.52s/it]\u001b[A\u001b[A\u001b[A"
     ]
    },
    {
     "name": "stdout",
     "output_type": "stream",
     "text": [
      "/tf/data/dementia/English/Pitt/Dementia/cookie/527-1.mp3\n"
     ]
    },
    {
     "name": "stderr",
     "output_type": "stream",
     "text": [
      "\n",
      "\n",
      "\n",
      " 99%|█████████▉| 549/552 [19:09<00:04,  1.53s/it]\u001b[A\u001b[A\u001b[A"
     ]
    },
    {
     "name": "stdout",
     "output_type": "stream",
     "text": [
      "/tf/data/dementia/English/Pitt/Dementia/cookie/461-0.mp3\n"
     ]
    },
    {
     "name": "stderr",
     "output_type": "stream",
     "text": [
      "\n",
      "\n",
      "\n",
      "100%|█████████▉| 550/552 [19:12<00:04,  2.19s/it]\u001b[A\u001b[A\u001b[A"
     ]
    },
    {
     "name": "stdout",
     "output_type": "stream",
     "text": [
      "/tf/data/dementia/English/Pitt/Dementia/cookie/468-0.mp3\n"
     ]
    },
    {
     "name": "stderr",
     "output_type": "stream",
     "text": [
      "\n",
      "\n",
      "\n",
      "100%|█████████▉| 551/552 [19:16<00:02,  2.65s/it]\u001b[A\u001b[A\u001b[A"
     ]
    },
    {
     "name": "stdout",
     "output_type": "stream",
     "text": [
      "/tf/data/dementia/English/Pitt/Dementia/cookie/097-1.mp3\n"
     ]
    },
    {
     "name": "stderr",
     "output_type": "stream",
     "text": [
      "\n",
      "\n",
      "\n",
      "100%|██████████| 552/552 [19:17<00:00,  2.10s/it]\u001b[A\u001b[A\u001b[A\n"
     ]
    }
   ],
   "source": [
    "meta_pitt = pd.DataFrame(columns= ['file', 'ID', 'Group', 'MMSE', 'predict', 'predict_group', 'predicts'])\n",
    "for file in tqdm(files_pitt):\n",
    "    print(file)\n",
    "    ID = file.split('/')[-1].split('.')[0]\n",
    "    Group = file.split('/')[6]\n",
    "    cha = pd.read_fwf(data_path_pitt + 'Pitt/' + Group + '/cookie/' + ID + '.cha')  \n",
    "    cha_id = [x for x in cha['@UTF8'] if str.startswith(x, '@ID:')][0]\n",
    "    \n",
    "    if (cha_id.split('|')[-3] == ''):\n",
    "        MMSE = np.NaN\n",
    "    else:\n",
    "        MMSE = int(cha_id.split('|')[-3])\n",
    "        \n",
    "    predict, predicts = model_inference(file)\n",
    "    if (predict < 24):\n",
    "        predict_group = 'Dementia'\n",
    "    else:\n",
    "        predict_group = 'Control'\n",
    "    meta_pitt = meta_pitt.append(pd.DataFrame([[file, ID, Group, MMSE, predict, predict_group, predicts]], \n",
    "                                  columns = list(meta_pitt.columns)))"
   ]
  },
  {
   "cell_type": "code",
   "execution_count": 211,
   "metadata": {},
   "outputs": [
    {
     "data": {
      "text/html": [
       "<div>\n",
       "<style scoped>\n",
       "    .dataframe tbody tr th:only-of-type {\n",
       "        vertical-align: middle;\n",
       "    }\n",
       "\n",
       "    .dataframe tbody tr th {\n",
       "        vertical-align: top;\n",
       "    }\n",
       "\n",
       "    .dataframe thead th {\n",
       "        text-align: right;\n",
       "    }\n",
       "</style>\n",
       "<table border=\"1\" class=\"dataframe\">\n",
       "  <thead>\n",
       "    <tr style=\"text-align: right;\">\n",
       "      <th></th>\n",
       "      <th>file</th>\n",
       "      <th>ID</th>\n",
       "      <th>Group</th>\n",
       "      <th>MMSE</th>\n",
       "      <th>predict</th>\n",
       "      <th>predict_group</th>\n",
       "      <th>predicts</th>\n",
       "    </tr>\n",
       "  </thead>\n",
       "  <tbody>\n",
       "    <tr>\n",
       "      <th>0</th>\n",
       "      <td>/tf/data/dementia/English/Pitt/Control/cookie/...</td>\n",
       "      <td>128-3</td>\n",
       "      <td>Control</td>\n",
       "      <td>29</td>\n",
       "      <td>22.328709</td>\n",
       "      <td>Dementia</td>\n",
       "      <td>[14.955888, 16.30926, 16.070045, 16.63072, 17....</td>\n",
       "    </tr>\n",
       "    <tr>\n",
       "      <th>0</th>\n",
       "      <td>/tf/data/dementia/English/Pitt/Control/cookie/...</td>\n",
       "      <td>229-2</td>\n",
       "      <td>Control</td>\n",
       "      <td>30</td>\n",
       "      <td>13.620042</td>\n",
       "      <td>Dementia</td>\n",
       "      <td>[14.082817, 13.484581, 13.944408, 13.98635, 12...</td>\n",
       "    </tr>\n",
       "    <tr>\n",
       "      <th>0</th>\n",
       "      <td>/tf/data/dementia/English/Pitt/Control/cookie/...</td>\n",
       "      <td>196-0</td>\n",
       "      <td>Control</td>\n",
       "      <td>28</td>\n",
       "      <td>26.586702</td>\n",
       "      <td>Control</td>\n",
       "      <td>[26.534443, 26.47436, 26.535894, 26.512436, 26...</td>\n",
       "    </tr>\n",
       "    <tr>\n",
       "      <th>0</th>\n",
       "      <td>/tf/data/dementia/English/Pitt/Control/cookie/...</td>\n",
       "      <td>073-3</td>\n",
       "      <td>Control</td>\n",
       "      <td>NaN</td>\n",
       "      <td>27.627865</td>\n",
       "      <td>Control</td>\n",
       "      <td>[28.510683, 29.145433, 28.858885, 28.555082, 2...</td>\n",
       "    </tr>\n",
       "    <tr>\n",
       "      <th>0</th>\n",
       "      <td>/tf/data/dementia/English/Pitt/Control/cookie/...</td>\n",
       "      <td>668-0</td>\n",
       "      <td>Control</td>\n",
       "      <td>29</td>\n",
       "      <td>23.455866</td>\n",
       "      <td>Dementia</td>\n",
       "      <td>[28.224855, 29.630293, 28.503027, 28.401663, 2...</td>\n",
       "    </tr>\n",
       "    <tr>\n",
       "      <th>...</th>\n",
       "      <td>...</td>\n",
       "      <td>...</td>\n",
       "      <td>...</td>\n",
       "      <td>...</td>\n",
       "      <td>...</td>\n",
       "      <td>...</td>\n",
       "      <td>...</td>\n",
       "    </tr>\n",
       "    <tr>\n",
       "      <th>0</th>\n",
       "      <td>/tf/data/dementia/English/Pitt/Dementia/cookie...</td>\n",
       "      <td>190-1</td>\n",
       "      <td>Dementia</td>\n",
       "      <td>25</td>\n",
       "      <td>25.434568</td>\n",
       "      <td>Control</td>\n",
       "      <td>[24.955223, 24.97883, 25.149532, 25.320929, 25...</td>\n",
       "    </tr>\n",
       "    <tr>\n",
       "      <th>0</th>\n",
       "      <td>/tf/data/dementia/English/Pitt/Dementia/cookie...</td>\n",
       "      <td>527-1</td>\n",
       "      <td>Dementia</td>\n",
       "      <td>15</td>\n",
       "      <td>40.178991</td>\n",
       "      <td>Control</td>\n",
       "      <td>[135.15118, 136.35725, 119.153366, 140.30833, ...</td>\n",
       "    </tr>\n",
       "    <tr>\n",
       "      <th>0</th>\n",
       "      <td>/tf/data/dementia/English/Pitt/Dementia/cookie...</td>\n",
       "      <td>461-0</td>\n",
       "      <td>Dementia</td>\n",
       "      <td>20</td>\n",
       "      <td>22.289752</td>\n",
       "      <td>Dementia</td>\n",
       "      <td>[21.682554, 21.002275, 21.046133, 20.928915, 2...</td>\n",
       "    </tr>\n",
       "    <tr>\n",
       "      <th>0</th>\n",
       "      <td>/tf/data/dementia/English/Pitt/Dementia/cookie...</td>\n",
       "      <td>468-0</td>\n",
       "      <td>Dementia</td>\n",
       "      <td>14</td>\n",
       "      <td>20.089258</td>\n",
       "      <td>Dementia</td>\n",
       "      <td>[17.879087, 17.745089, 17.71864, 17.798658, 17...</td>\n",
       "    </tr>\n",
       "    <tr>\n",
       "      <th>0</th>\n",
       "      <td>/tf/data/dementia/English/Pitt/Dementia/cookie...</td>\n",
       "      <td>097-1</td>\n",
       "      <td>Dementia</td>\n",
       "      <td>10</td>\n",
       "      <td>15.777923</td>\n",
       "      <td>Dementia</td>\n",
       "      <td>[16.415453, 16.081982, 15.617716, 10.969763, 1...</td>\n",
       "    </tr>\n",
       "  </tbody>\n",
       "</table>\n",
       "<p>552 rows × 7 columns</p>\n",
       "</div>"
      ],
      "text/plain": [
       "                                                 file     ID     Group MMSE  \\\n",
       "0   /tf/data/dementia/English/Pitt/Control/cookie/...  128-3   Control   29   \n",
       "0   /tf/data/dementia/English/Pitt/Control/cookie/...  229-2   Control   30   \n",
       "0   /tf/data/dementia/English/Pitt/Control/cookie/...  196-0   Control   28   \n",
       "0   /tf/data/dementia/English/Pitt/Control/cookie/...  073-3   Control  NaN   \n",
       "0   /tf/data/dementia/English/Pitt/Control/cookie/...  668-0   Control   29   \n",
       "..                                                ...    ...       ...  ...   \n",
       "0   /tf/data/dementia/English/Pitt/Dementia/cookie...  190-1  Dementia   25   \n",
       "0   /tf/data/dementia/English/Pitt/Dementia/cookie...  527-1  Dementia   15   \n",
       "0   /tf/data/dementia/English/Pitt/Dementia/cookie...  461-0  Dementia   20   \n",
       "0   /tf/data/dementia/English/Pitt/Dementia/cookie...  468-0  Dementia   14   \n",
       "0   /tf/data/dementia/English/Pitt/Dementia/cookie...  097-1  Dementia   10   \n",
       "\n",
       "      predict predict_group                                           predicts  \n",
       "0   22.328709      Dementia  [14.955888, 16.30926, 16.070045, 16.63072, 17....  \n",
       "0   13.620042      Dementia  [14.082817, 13.484581, 13.944408, 13.98635, 12...  \n",
       "0   26.586702       Control  [26.534443, 26.47436, 26.535894, 26.512436, 26...  \n",
       "0   27.627865       Control  [28.510683, 29.145433, 28.858885, 28.555082, 2...  \n",
       "0   23.455866      Dementia  [28.224855, 29.630293, 28.503027, 28.401663, 2...  \n",
       "..        ...           ...                                                ...  \n",
       "0   25.434568       Control  [24.955223, 24.97883, 25.149532, 25.320929, 25...  \n",
       "0   40.178991       Control  [135.15118, 136.35725, 119.153366, 140.30833, ...  \n",
       "0   22.289752      Dementia  [21.682554, 21.002275, 21.046133, 20.928915, 2...  \n",
       "0   20.089258      Dementia  [17.879087, 17.745089, 17.71864, 17.798658, 17...  \n",
       "0   15.777923      Dementia  [16.415453, 16.081982, 15.617716, 10.969763, 1...  \n",
       "\n",
       "[552 rows x 7 columns]"
      ]
     },
     "execution_count": 211,
     "metadata": {},
     "output_type": "execute_result"
    }
   ],
   "source": [
    "meta_pitt"
   ]
  },
  {
   "cell_type": "code",
   "execution_count": 210,
   "metadata": {
    "scrolled": true
   },
   "outputs": [
    {
     "data": {
      "text/html": [
       "<div>\n",
       "<style scoped>\n",
       "    .dataframe tbody tr th:only-of-type {\n",
       "        vertical-align: middle;\n",
       "    }\n",
       "\n",
       "    .dataframe tbody tr th {\n",
       "        vertical-align: top;\n",
       "    }\n",
       "\n",
       "    .dataframe thead th {\n",
       "        text-align: right;\n",
       "    }\n",
       "</style>\n",
       "<table border=\"1\" class=\"dataframe\">\n",
       "  <thead>\n",
       "    <tr style=\"text-align: right;\">\n",
       "      <th></th>\n",
       "      <th>predict</th>\n",
       "    </tr>\n",
       "  </thead>\n",
       "  <tbody>\n",
       "    <tr>\n",
       "      <th>count</th>\n",
       "      <td>552.000000</td>\n",
       "    </tr>\n",
       "    <tr>\n",
       "      <th>mean</th>\n",
       "      <td>24.133052</td>\n",
       "    </tr>\n",
       "    <tr>\n",
       "      <th>std</th>\n",
       "      <td>7.828107</td>\n",
       "    </tr>\n",
       "    <tr>\n",
       "      <th>min</th>\n",
       "      <td>8.350699</td>\n",
       "    </tr>\n",
       "    <tr>\n",
       "      <th>25%</th>\n",
       "      <td>21.483230</td>\n",
       "    </tr>\n",
       "    <tr>\n",
       "      <th>50%</th>\n",
       "      <td>24.908681</td>\n",
       "    </tr>\n",
       "    <tr>\n",
       "      <th>75%</th>\n",
       "      <td>26.795556</td>\n",
       "    </tr>\n",
       "    <tr>\n",
       "      <th>max</th>\n",
       "      <td>165.584369</td>\n",
       "    </tr>\n",
       "  </tbody>\n",
       "</table>\n",
       "</div>"
      ],
      "text/plain": [
       "          predict\n",
       "count  552.000000\n",
       "mean    24.133052\n",
       "std      7.828107\n",
       "min      8.350699\n",
       "25%     21.483230\n",
       "50%     24.908681\n",
       "75%     26.795556\n",
       "max    165.584369"
      ]
     },
     "execution_count": 210,
     "metadata": {},
     "output_type": "execute_result"
    }
   ],
   "source": [
    "meta_pitt.describe()"
   ]
  },
  {
   "cell_type": "code",
   "execution_count": 193,
   "metadata": {
    "scrolled": true
   },
   "outputs": [],
   "source": [
    "meta_pitt_eval = meta_pitt[meta_pitt.MMSE.notna()]"
   ]
  },
  {
   "cell_type": "code",
   "execution_count": 194,
   "metadata": {},
   "outputs": [
    {
     "data": {
      "text/html": [
       "<div>\n",
       "<style scoped>\n",
       "    .dataframe tbody tr th:only-of-type {\n",
       "        vertical-align: middle;\n",
       "    }\n",
       "\n",
       "    .dataframe tbody tr th {\n",
       "        vertical-align: top;\n",
       "    }\n",
       "\n",
       "    .dataframe thead th {\n",
       "        text-align: right;\n",
       "    }\n",
       "</style>\n",
       "<table border=\"1\" class=\"dataframe\">\n",
       "  <thead>\n",
       "    <tr style=\"text-align: right;\">\n",
       "      <th></th>\n",
       "      <th>file</th>\n",
       "      <th>ID</th>\n",
       "      <th>Group</th>\n",
       "      <th>MMSE</th>\n",
       "      <th>predict</th>\n",
       "      <th>predict_group</th>\n",
       "      <th>predicts</th>\n",
       "    </tr>\n",
       "  </thead>\n",
       "  <tbody>\n",
       "    <tr>\n",
       "      <th>0</th>\n",
       "      <td>/tf/data/dementia/English/Pitt/Control/cookie/...</td>\n",
       "      <td>128-3</td>\n",
       "      <td>Control</td>\n",
       "      <td>29</td>\n",
       "      <td>22.328709</td>\n",
       "      <td>Dementia</td>\n",
       "      <td>[14.955888, 16.30926, 16.070045, 16.63072, 17....</td>\n",
       "    </tr>\n",
       "    <tr>\n",
       "      <th>0</th>\n",
       "      <td>/tf/data/dementia/English/Pitt/Control/cookie/...</td>\n",
       "      <td>229-2</td>\n",
       "      <td>Control</td>\n",
       "      <td>30</td>\n",
       "      <td>13.620042</td>\n",
       "      <td>Dementia</td>\n",
       "      <td>[14.082817, 13.484581, 13.944408, 13.98635, 12...</td>\n",
       "    </tr>\n",
       "    <tr>\n",
       "      <th>0</th>\n",
       "      <td>/tf/data/dementia/English/Pitt/Control/cookie/...</td>\n",
       "      <td>196-0</td>\n",
       "      <td>Control</td>\n",
       "      <td>28</td>\n",
       "      <td>26.586702</td>\n",
       "      <td>Control</td>\n",
       "      <td>[26.534443, 26.47436, 26.535894, 26.512436, 26...</td>\n",
       "    </tr>\n",
       "    <tr>\n",
       "      <th>0</th>\n",
       "      <td>/tf/data/dementia/English/Pitt/Control/cookie/...</td>\n",
       "      <td>668-0</td>\n",
       "      <td>Control</td>\n",
       "      <td>29</td>\n",
       "      <td>23.455866</td>\n",
       "      <td>Dementia</td>\n",
       "      <td>[28.224855, 29.630293, 28.503027, 28.401663, 2...</td>\n",
       "    </tr>\n",
       "    <tr>\n",
       "      <th>0</th>\n",
       "      <td>/tf/data/dementia/English/Pitt/Control/cookie/...</td>\n",
       "      <td>073-1</td>\n",
       "      <td>Control</td>\n",
       "      <td>29</td>\n",
       "      <td>20.115363</td>\n",
       "      <td>Dementia</td>\n",
       "      <td>[21.562279, 20.529423, 20.00049, 19.501295, 19...</td>\n",
       "    </tr>\n",
       "  </tbody>\n",
       "</table>\n",
       "</div>"
      ],
      "text/plain": [
       "                                                file     ID    Group MMSE  \\\n",
       "0  /tf/data/dementia/English/Pitt/Control/cookie/...  128-3  Control   29   \n",
       "0  /tf/data/dementia/English/Pitt/Control/cookie/...  229-2  Control   30   \n",
       "0  /tf/data/dementia/English/Pitt/Control/cookie/...  196-0  Control   28   \n",
       "0  /tf/data/dementia/English/Pitt/Control/cookie/...  668-0  Control   29   \n",
       "0  /tf/data/dementia/English/Pitt/Control/cookie/...  073-1  Control   29   \n",
       "\n",
       "     predict predict_group                                           predicts  \n",
       "0  22.328709      Dementia  [14.955888, 16.30926, 16.070045, 16.63072, 17....  \n",
       "0  13.620042      Dementia  [14.082817, 13.484581, 13.944408, 13.98635, 12...  \n",
       "0  26.586702       Control  [26.534443, 26.47436, 26.535894, 26.512436, 26...  \n",
       "0  23.455866      Dementia  [28.224855, 29.630293, 28.503027, 28.401663, 2...  \n",
       "0  20.115363      Dementia  [21.562279, 20.529423, 20.00049, 19.501295, 19...  "
      ]
     },
     "execution_count": 194,
     "metadata": {},
     "output_type": "execute_result"
    }
   ],
   "source": [
    "meta_pitt_eval.head()"
   ]
  },
  {
   "cell_type": "code",
   "execution_count": 206,
   "metadata": {},
   "outputs": [
    {
     "data": {
      "text/plain": [
       "<matplotlib.axes._subplots.AxesSubplot at 0x7fc73b78c048>"
      ]
     },
     "execution_count": 206,
     "metadata": {},
     "output_type": "execute_result"
    },
    {
     "data": {
      "image/png": "[encoded data removed]",
      "text/plain": [
       "<Figure size 720x504 with 2 Axes>"
      ]
     },
     "metadata": {},
     "output_type": "display_data"
    }
   ],
   "source": [
    "y_true = meta_pitt.Group\n",
    "y_pred = meta_pitt.predict_group\n",
    "data = confusion_matrix(y_true, y_pred)\n",
    "df_cm = pd.DataFrame(data, columns=np.unique(y_true), index = np.unique(y_true))\n",
    "df_cm.index.name = 'Actual'\n",
    "df_cm.columns.name = 'Predicted'\n",
    "plt.figure(figsize = (10,7))\n",
    "sn.set(font_scale=1.4)#for label size\n",
    "sn.heatmap(df_cm, cmap=\"Reds\", annot=True, annot_kws={\"size\": 16})# font size"
   ]
  },
  {
   "cell_type": "code",
   "execution_count": 207,
   "metadata": {},
   "outputs": [
    {
     "data": {
      "text/html": [
       "<div>\n",
       "<style scoped>\n",
       "    .dataframe tbody tr th:only-of-type {\n",
       "        vertical-align: middle;\n",
       "    }\n",
       "\n",
       "    .dataframe tbody tr th {\n",
       "        vertical-align: top;\n",
       "    }\n",
       "\n",
       "    .dataframe thead th {\n",
       "        text-align: right;\n",
       "    }\n",
       "</style>\n",
       "<table border=\"1\" class=\"dataframe\">\n",
       "  <thead>\n",
       "    <tr style=\"text-align: right;\">\n",
       "      <th>Predicted</th>\n",
       "      <th>Control</th>\n",
       "      <th>Dementia</th>\n",
       "    </tr>\n",
       "    <tr>\n",
       "      <th>Actual</th>\n",
       "      <th></th>\n",
       "      <th></th>\n",
       "    </tr>\n",
       "  </thead>\n",
       "  <tbody>\n",
       "    <tr>\n",
       "      <th>Control</th>\n",
       "      <td>159</td>\n",
       "      <td>84</td>\n",
       "    </tr>\n",
       "    <tr>\n",
       "      <th>Dementia</th>\n",
       "      <td>160</td>\n",
       "      <td>149</td>\n",
       "    </tr>\n",
       "  </tbody>\n",
       "</table>\n",
       "</div>"
      ],
      "text/plain": [
       "Predicted  Control  Dementia\n",
       "Actual                      \n",
       "Control        159        84\n",
       "Dementia       160       149"
      ]
     },
     "execution_count": 207,
     "metadata": {},
     "output_type": "execute_result"
    }
   ],
   "source": [
    "df_cm"
   ]
  },
  {
   "cell_type": "code",
   "execution_count": 208,
   "metadata": {},
   "outputs": [
    {
     "name": "stdout",
     "output_type": "stream",
     "text": [
      "              precision    recall  f1-score   support\n",
      "\n",
      "     Control       0.50      0.65      0.57       243\n",
      "    Dementia       0.64      0.48      0.55       309\n",
      "\n",
      "    accuracy                           0.56       552\n",
      "   macro avg       0.57      0.57      0.56       552\n",
      "weighted avg       0.58      0.56      0.56       552\n",
      "\n"
     ]
    }
   ],
   "source": [
    "print(classification_report(y_true, y_pred))"
   ]
  },
  {
   "cell_type": "code",
   "execution_count": 209,
   "metadata": {},
   "outputs": [
    {
     "name": "stderr",
     "output_type": "stream",
     "text": [
      "/usr/local/lib/python3.6/dist-packages/plotnine/layer.py:467: PlotnineWarning: geom_point : Removed 5 rows containing missing values.\n"
     ]
    },
    {
     "data": {
      "image/png": "[encoded data removed]",
      "text/plain": [
       "<Figure size 1500x800 with 1 Axes>"
      ]
     },
     "metadata": {},
     "output_type": "display_data"
    },
    {
     "data": {
      "text/plain": [
       "<ggplot: (8780852908913)>"
      ]
     },
     "execution_count": 209,
     "metadata": {},
     "output_type": "execute_result"
    }
   ],
   "source": [
    "ggplot(meta_pitt) + \\\n",
    "geom_point(aes(x = 'MMSE', y = 'predict', colour = 'Group')) + \\\n",
    "geom_hline(aes(yintercept = 24, lty = 2)) + \\\n",
    "geom_vline(aes(xintercept = 20, lty = 2)) + \\\n",
    "scale_y_continuous(limits = [0,30]) + \\\n",
    "theme(figure_size = (15, 8))"
   ]
  },
  {
   "cell_type": "code",
   "execution_count": null,
   "metadata": {},
   "outputs": [],
   "source": []
  }
 ],
 "metadata": {
  "kernelspec": {
   "display_name": "Python 3",
   "language": "python",
   "name": "python3"
  },
  "language_info": {
   "codemirror_mode": {
    "name": "ipython",
    "version": 3
   },
   "file_extension": ".py",
   "mimetype": "text/x-python",
   "name": "python",
   "nbconvert_exporter": "python",
   "pygments_lexer": "ipython3",
   "version": "3.6.9"
  }
 },
 "nbformat": 4,
 "nbformat_minor": 4
}
