{
 "cells": [
  {
   "cell_type": "code",
   "execution_count": 230,
   "metadata": {},
   "outputs": [],
   "source": [
    "import tensorflow as tf\n",
    "from tensorflow.keras.layers.experimental import preprocessing\n",
    "from tensorflow.keras import layers\n",
    "from tensorflow.keras import models\n",
    "import pathlib\n",
    "import os\n",
    "import numpy as np\n",
    "import pandas as pd\n",
    "import time\n",
    "import matplotlib.pyplot as plt\n",
    "from plotnine import *\n",
    "import seaborn as sn\n",
    "from tqdm import tqdm\n",
    "%matplotlib inline\n",
    "\n",
    "seed = 30\n",
    "tf.random.set_seed(seed)\n",
    "gpus = tf.config.list_physical_devices('GPU')"
   ]
  },
  {
   "cell_type": "code",
   "execution_count": 231,
   "metadata": {},
   "outputs": [],
   "source": [
    "## need this if training on GPU\n",
    "## tensorflow, get your shit together\n",
    "\n",
    "if len(gpus)>0:\n",
    "\n",
    "    from tensorflow.compat.v1 import ConfigProto\n",
    "    from tensorflow.compat.v1 import InteractiveSession\n",
    "\n",
    "    config = ConfigProto()\n",
    "    config.gpu_options.allow_growth = True\n",
    "    session = InteractiveSession(config=config)"
   ]
  },
  {
   "cell_type": "code",
   "execution_count": 232,
   "metadata": {},
   "outputs": [],
   "source": [
    "data_path = '/tf/data/dementia/0extra/ADReSS-IS2020-data/train'\n",
    "\n",
    "filenames = tf.random.shuffle(tf.io.gfile.glob(data_path + '/Full_wave_enhanced_audio/*/*'))\n",
    "\n",
    "train_cutoff = int(len(filenames)*0.7)\n",
    "val_cutoff = int(len(filenames)*0.85)\n",
    "\n",
    "train_files = filenames[:train_cutoff]\n",
    "val_files = filenames[train_cutoff:val_cutoff]\n",
    "test_files = filenames[val_cutoff:]"
   ]
  },
  {
   "cell_type": "code",
   "execution_count": 233,
   "metadata": {},
   "outputs": [],
   "source": [
    "meta_cc = pd.read_csv(data_path + '/cc_meta_data.txt', sep=\";\", header=0, \n",
    "                  names = ['ID', 'Age', 'Gender', 'MMSE'])\n",
    "meta_cd = pd.read_csv(data_path + '/cd_meta_data.txt', sep=\";\", header=0, \n",
    "                      names = ['ID', 'Age', 'Gender', 'MMSE'])\n",
    "\n",
    "meta = meta_cc.assign(Group = 'cc').append(meta_cd.assign(Group = 'cd')).reset_index()\n",
    "meta.MMSE = pd.to_numeric(meta.MMSE.replace(' NA', 30))"
   ]
  },
  {
   "cell_type": "code",
   "execution_count": 234,
   "metadata": {},
   "outputs": [],
   "source": [
    "AUTOTUNE = tf.data.AUTOTUNE"
   ]
  },
  {
   "cell_type": "code",
   "execution_count": 250,
   "metadata": {},
   "outputs": [],
   "source": [
    "def get_data_old(file_path):\n",
    "\n",
    "    names = meta.ID\n",
    "    name = tf.strings.split(tf.strings.split(file_path, os.path.sep)[-1], '.')[0] + ' '\n",
    "    label = tf.gather(meta.MMSE, tf.where(tf.equal(names, name))[0][0])\n",
    "    audio_binary = tf.io.read_file(file_path)\n",
    "    waveform = decode_audio(audio_binary)\n",
    "    \n",
    "    zero_padding = tf.zeros([10000000] - tf.shape(waveform), dtype=tf.float32)\n",
    "    waveform = tf.cast(waveform, tf.float32)\n",
    "    equal_length = tf.concat([waveform, zero_padding], 0)\n",
    "    \n",
    "    spectrogram = tf.signal.stft(equal_length, frame_length=255, frame_step=128)\n",
    "    spectrogram = tf.abs(spectrogram)\n",
    "    spectrogram = tf.expand_dims(spectrogram, -1)\n",
    "    return spectrogram, label\n",
    "\n",
    "def window(x, size, stride):\n",
    "    length = int(len(x))\n",
    "    if length // size == 0:\n",
    "        zero_padding =  tf.zeros([size] - tf.shape(x), dtype=tf.float32)\n",
    "        x = tf.cast(x, tf.float32)\n",
    "        x = tf.concat([x, zero_padding], 0)\n",
    "        length = int(len(x))\n",
    "    return tf.map_fn(lambda i: x[i*stride:i*stride+size], tf.range((length-size)//stride+1), dtype=tf.float32)\n",
    "\n",
    "def get_data(file_path):\n",
    "\n",
    "    names = meta.ID\n",
    "    name = tf.strings.split(tf.strings.split(file_path, os.path.sep)[-1], '.')[0] + ' '\n",
    "    label = tf.gather(meta.MMSE, tf.where(tf.equal(names, name))[0][0])\n",
    "    \n",
    "    audio_binary = tf.io.read_file(file_path)\n",
    "    audio, _ = tf.audio.decode_wav(audio_binary)\n",
    "    waveform = tf.squeeze(audio, axis=-1)\n",
    "#     waveform = decode_audio(audio_binary)\n",
    "        \n",
    "    rolling_waveform_tensors = window(waveform, size=_*size_sec, stride=_*stride_sec)\n",
    "    rolling_spectrograms = tf.signal.stft(rolling_waveform_tensors, frame_length=512, frame_step=_)\n",
    "    rolling_spectrograms = tf.abs(rolling_spectrograms)\n",
    "    rolling_spectrograms = tf.expand_dims(rolling_spectrograms, -1)\n",
    "        \n",
    "    return rolling_spectrograms, label/30"
   ]
  },
  {
   "cell_type": "code",
   "execution_count": 251,
   "metadata": {},
   "outputs": [],
   "source": [
    "def preprocess_dataset(files):\n",
    "    files_ds = tf.data.Dataset.from_tensor_slices(files)\n",
    "    output_ds = files_ds.map(get_data, num_parallel_calls=AUTOTUNE)\\\n",
    "                        .cache()\\\n",
    "                        .prefetch(100)\\\n",
    "                        .flat_map(lambda x,y: tf.data.Dataset.zip((\n",
    "                                    tf.data.Dataset.from_tensor_slices(x), \n",
    "                                    tf.data.Dataset.from_tensor_slices([y])\n",
    "                        )))\\\n",
    "                        .shuffle(100)\n",
    "    return output_ds"
   ]
  },
  {
   "cell_type": "code",
   "execution_count": 252,
   "metadata": {},
   "outputs": [],
   "source": [
    "size_sec = 30\n",
    "stride_sec = 1"
   ]
  },
  {
   "cell_type": "code",
   "execution_count": 253,
   "metadata": {},
   "outputs": [],
   "source": [
    "train_ds = preprocess_dataset(train_files)\n",
    "val_ds = preprocess_dataset(val_files)\n",
    "test_ds = preprocess_dataset(test_files)"
   ]
  },
  {
   "cell_type": "code",
   "execution_count": 254,
   "metadata": {
    "scrolled": true
   },
   "outputs": [
    {
     "name": "stdout",
     "output_type": "stream",
     "text": [
      "(30, 257, 1)\n",
      "tf.Tensor(1.0, shape=(), dtype=float64)\n"
     ]
    }
   ],
   "source": [
    "for spectrogram, y in train_ds.take(1):\n",
    "    input_shape = spectrogram.shape\n",
    "    print(input_shape)\n",
    "    print(y)\n"
   ]
  },
  {
   "cell_type": "code",
   "execution_count": 412,
   "metadata": {},
   "outputs": [],
   "source": [
    "batch_size = 64\n",
    "train_ds_b = train_ds.batch(batch_size)\n",
    "val_ds_b = val_ds.batch(batch_size)"
   ]
  },
  {
   "cell_type": "code",
   "execution_count": 450,
   "metadata": {},
   "outputs": [
    {
     "name": "stdout",
     "output_type": "stream",
     "text": [
      "Input shape: (30, 257, 1)\n",
      "Model: \"sequential_24\"\n",
      "_________________________________________________________________\n",
      "Layer (type)                 Output Shape              Param #   \n",
      "=================================================================\n",
      "reshape_24 (Reshape)         (None, 30, 257)           0         \n",
      "_________________________________________________________________\n",
      "normalization_24 (Normalizat (None, 30, 257)           3         \n",
      "_________________________________________________________________\n",
      "dense_72 (Dense)             (None, 30, 128)           33024     \n",
      "_________________________________________________________________\n",
      "dropout_96 (Dropout)         (None, 30, 128)           0         \n",
      "_________________________________________________________________\n",
      "lstm_48 (LSTM)               (None, 30, 64)            49408     \n",
      "_________________________________________________________________\n",
      "dropout_97 (Dropout)         (None, 30, 64)            0         \n",
      "_________________________________________________________________\n",
      "lstm_49 (LSTM)               (None, 32)                12416     \n",
      "_________________________________________________________________\n",
      "dropout_98 (Dropout)         (None, 32)                0         \n",
      "_________________________________________________________________\n",
      "dense_73 (Dense)             (None, 16)                528       \n",
      "_________________________________________________________________\n",
      "dropout_99 (Dropout)         (None, 16)                0         \n",
      "_________________________________________________________________\n",
      "dense_74 (Dense)             (None, 1)                 17        \n",
      "=================================================================\n",
      "Total params: 95,396\n",
      "Trainable params: 95,393\n",
      "Non-trainable params: 3\n",
      "_________________________________________________________________\n"
     ]
    }
   ],
   "source": [
    "print('Input shape:', input_shape)\n",
    "\n",
    "norm_layer = preprocessing.Normalization()\n",
    "norm_layer.adapt(train_ds.map(lambda x, _: x))\n",
    "\n",
    "model = models.Sequential([\n",
    "    layers.Input(shape=input_shape),\n",
    "    layers.Reshape((input_shape[0],input_shape[1])),\n",
    "    norm_layer,\n",
    "    \n",
    "    layers.Dense(128, activation='relu', kernel_initializer='he_normal'),\n",
    "    layers.Dropout(0.5),\n",
    "    layers.LSTM(64, activation='relu', kernel_initializer='he_normal', return_sequences=True),\n",
    "    layers.Dropout(0.5),\n",
    "    layers.LSTM(32, activation='relu', kernel_initializer='he_normal'),\n",
    "    layers.Dropout(0.5),\n",
    "    layers.Dense(16, activation='relu', kernel_initializer='he_normal'),\n",
    "    layers.Dropout(0.5),\n",
    "    layers.Dense(1, activation='relu', kernel_initializer='he_normal')\n",
    "])\n",
    "\n",
    "model.summary()"
   ]
  },
  {
   "cell_type": "code",
   "execution_count": 451,
   "metadata": {},
   "outputs": [],
   "source": [
    "callback = tf.keras.callbacks.EarlyStopping(monitor='val_loss', patience=200, restore_best_weights=True)\n",
    "\n",
    "model.compile(\n",
    "    optimizer=tf.keras.optimizers.Adam(learning_rate=0.001, clipnorm=1.0),\n",
    "    loss='mse',\n",
    "    metrics='mse'\n",
    ")"
   ]
  },
  {
   "cell_type": "code",
   "execution_count": 452,
   "metadata": {
    "scrolled": true
   },
   "outputs": [
    {
     "name": "stdout",
     "output_type": "stream",
     "text": [
      "Epoch 1/10000\n",
      "2/2 - 2s - loss: 60.2087 - mse: 60.2087 - val_loss: 2.7730 - val_mse: 2.7730\n",
      "Epoch 2/10000\n",
      "2/2 - 0s - loss: 18.7999 - mse: 18.7999 - val_loss: 9.1166 - val_mse: 9.1166\n",
      "Epoch 3/10000\n",
      "2/2 - 0s - loss: 2.2745 - mse: 2.2745 - val_loss: 4.1926 - val_mse: 4.1926\n",
      "Epoch 4/10000\n",
      "2/2 - 0s - loss: 2.1019 - mse: 2.1019 - val_loss: 5.8918 - val_mse: 5.8918\n",
      "Epoch 5/10000\n",
      "2/2 - 0s - loss: 0.7009 - mse: 0.7009 - val_loss: 3.7730 - val_mse: 3.7730\n",
      "Epoch 6/10000\n",
      "2/2 - 0s - loss: 4.9971 - mse: 4.9971 - val_loss: 0.6336 - val_mse: 0.6336\n",
      "Epoch 7/10000\n",
      "2/2 - 0s - loss: 1.1873 - mse: 1.1873 - val_loss: 0.5823 - val_mse: 0.5823\n",
      "Epoch 8/10000\n",
      "2/2 - 0s - loss: 1.5304 - mse: 1.5304 - val_loss: 1.0790 - val_mse: 1.0790\n",
      "Epoch 9/10000\n",
      "2/2 - 0s - loss: 1.1801 - mse: 1.1801 - val_loss: 0.6874 - val_mse: 0.6874\n",
      "Epoch 10/10000\n",
      "2/2 - 0s - loss: 1.0597 - mse: 1.0597 - val_loss: 0.6153 - val_mse: 0.6153\n",
      "Epoch 11/10000\n",
      "2/2 - 0s - loss: 42.1455 - mse: 42.1455 - val_loss: 1.0980 - val_mse: 1.0980\n",
      "Epoch 12/10000\n",
      "2/2 - 0s - loss: 0.5961 - mse: 0.5961 - val_loss: 8.2839 - val_mse: 8.2839\n",
      "Epoch 13/10000\n",
      "2/2 - 0s - loss: 0.6518 - mse: 0.6518 - val_loss: 37.8018 - val_mse: 37.8018\n",
      "Epoch 14/10000\n",
      "2/2 - 0s - loss: 0.6397 - mse: 0.6397 - val_loss: 12.9938 - val_mse: 12.9938\n",
      "Epoch 15/10000\n",
      "2/2 - 0s - loss: 4.2102 - mse: 4.2102 - val_loss: 1.5084 - val_mse: 1.5084\n",
      "Epoch 16/10000\n",
      "2/2 - 0s - loss: 1.6918 - mse: 1.6918 - val_loss: 1.4275 - val_mse: 1.4275\n",
      "Epoch 17/10000\n",
      "2/2 - 0s - loss: 7.5090 - mse: 7.5090 - val_loss: 0.9912 - val_mse: 0.9912\n",
      "Epoch 18/10000\n",
      "2/2 - 0s - loss: 0.7689 - mse: 0.7689 - val_loss: 0.6366 - val_mse: 0.6366\n",
      "Epoch 19/10000\n",
      "2/2 - 0s - loss: 1.1461 - mse: 1.1461 - val_loss: 0.6093 - val_mse: 0.6093\n",
      "Epoch 20/10000\n",
      "2/2 - 0s - loss: 0.5865 - mse: 0.5865 - val_loss: 0.6248 - val_mse: 0.6248\n",
      "Epoch 21/10000\n",
      "2/2 - 0s - loss: 0.7100 - mse: 0.7100 - val_loss: 0.5787 - val_mse: 0.5787\n",
      "Epoch 22/10000\n",
      "2/2 - 0s - loss: 0.6498 - mse: 0.6498 - val_loss: 0.6004 - val_mse: 0.6004\n",
      "Epoch 23/10000\n",
      "2/2 - 0s - loss: 1.1848 - mse: 1.1848 - val_loss: 0.6236 - val_mse: 0.6236\n",
      "Epoch 24/10000\n",
      "2/2 - 0s - loss: 0.9547 - mse: 0.9547 - val_loss: 0.6107 - val_mse: 0.6107\n",
      "Epoch 25/10000\n",
      "2/2 - 0s - loss: 0.6103 - mse: 0.6103 - val_loss: 0.5718 - val_mse: 0.5718\n",
      "Epoch 26/10000\n",
      "2/2 - 0s - loss: 30.5487 - mse: 30.5487 - val_loss: 0.5344 - val_mse: 0.5344\n",
      "Epoch 27/10000\n",
      "2/2 - 0s - loss: 0.5361 - mse: 0.5361 - val_loss: 0.4788 - val_mse: 0.4788\n",
      "Epoch 28/10000\n",
      "2/2 - 0s - loss: 0.4924 - mse: 0.4924 - val_loss: 0.4180 - val_mse: 0.4180\n",
      "Epoch 29/10000\n",
      "2/2 - 0s - loss: 0.5745 - mse: 0.5745 - val_loss: 0.4145 - val_mse: 0.4145\n",
      "Epoch 30/10000\n",
      "2/2 - 0s - loss: 11.8491 - mse: 11.8491 - val_loss: 0.3839 - val_mse: 0.3839\n",
      "Epoch 31/10000\n",
      "2/2 - 0s - loss: 0.7940 - mse: 0.7940 - val_loss: 0.3756 - val_mse: 0.3756\n",
      "Epoch 32/10000\n",
      "2/2 - 0s - loss: 27.1424 - mse: 27.1424 - val_loss: 0.3962 - val_mse: 0.3962\n",
      "Epoch 33/10000\n",
      "2/2 - 0s - loss: 0.6539 - mse: 0.6539 - val_loss: 0.4418 - val_mse: 0.4418\n",
      "Epoch 34/10000\n",
      "2/2 - 0s - loss: 0.5392 - mse: 0.5392 - val_loss: 0.4669 - val_mse: 0.4669\n",
      "Epoch 35/10000\n",
      "2/2 - 0s - loss: 0.6669 - mse: 0.6669 - val_loss: 0.4820 - val_mse: 0.4820\n",
      "Epoch 36/10000\n",
      "2/2 - 0s - loss: 0.9831 - mse: 0.9831 - val_loss: 0.4938 - val_mse: 0.4938\n",
      "Epoch 37/10000\n",
      "2/2 - 0s - loss: 0.5135 - mse: 0.5135 - val_loss: 0.5009 - val_mse: 0.5009\n",
      "Epoch 38/10000\n",
      "2/2 - 0s - loss: 0.5708 - mse: 0.5708 - val_loss: 0.5004 - val_mse: 0.5004\n",
      "Epoch 39/10000\n",
      "2/2 - 0s - loss: 0.5533 - mse: 0.5533 - val_loss: 0.4876 - val_mse: 0.4876\n",
      "Epoch 40/10000\n",
      "2/2 - 0s - loss: 0.5025 - mse: 0.5025 - val_loss: 0.4697 - val_mse: 0.4697\n",
      "Epoch 41/10000\n",
      "2/2 - 0s - loss: 0.6510 - mse: 0.6510 - val_loss: 0.4576 - val_mse: 0.4576\n",
      "Epoch 42/10000\n",
      "2/2 - 0s - loss: 0.8873 - mse: 0.8873 - val_loss: 0.4512 - val_mse: 0.4512\n",
      "Epoch 43/10000\n",
      "2/2 - 0s - loss: 0.5310 - mse: 0.5310 - val_loss: 0.4429 - val_mse: 0.4429\n",
      "Epoch 44/10000\n",
      "2/2 - 0s - loss: 0.4123 - mse: 0.4123 - val_loss: 0.4278 - val_mse: 0.4278\n",
      "Epoch 45/10000\n",
      "2/2 - 0s - loss: 0.4767 - mse: 0.4767 - val_loss: 0.4160 - val_mse: 0.4160\n",
      "Epoch 46/10000\n",
      "2/2 - 0s - loss: 0.5065 - mse: 0.5065 - val_loss: 0.4013 - val_mse: 0.4013\n",
      "Epoch 47/10000\n",
      "2/2 - 0s - loss: 0.6638 - mse: 0.6638 - val_loss: 0.3890 - val_mse: 0.3890\n",
      "Epoch 48/10000\n",
      "2/2 - 0s - loss: 0.5326 - mse: 0.5326 - val_loss: 0.3901 - val_mse: 0.3901\n",
      "Epoch 49/10000\n",
      "2/2 - 0s - loss: 0.7100 - mse: 0.7100 - val_loss: 0.3953 - val_mse: 0.3953\n",
      "Epoch 50/10000\n",
      "2/2 - 0s - loss: 0.5541 - mse: 0.5541 - val_loss: 0.3707 - val_mse: 0.3707\n",
      "Epoch 51/10000\n",
      "2/2 - 0s - loss: 1.7674 - mse: 1.7674 - val_loss: 0.3651 - val_mse: 0.3651\n",
      "Epoch 52/10000\n",
      "2/2 - 0s - loss: 0.8087 - mse: 0.8087 - val_loss: 0.3675 - val_mse: 0.3675\n",
      "Epoch 53/10000\n",
      "2/2 - 0s - loss: 0.4982 - mse: 0.4982 - val_loss: 0.3637 - val_mse: 0.3637\n",
      "Epoch 54/10000\n",
      "2/2 - 0s - loss: 0.4750 - mse: 0.4750 - val_loss: 0.3212 - val_mse: 0.3212\n",
      "Epoch 55/10000\n",
      "2/2 - 0s - loss: 0.4711 - mse: 0.4711 - val_loss: 0.2889 - val_mse: 0.2889\n",
      "Epoch 56/10000\n",
      "2/2 - 0s - loss: 1.0786 - mse: 1.0786 - val_loss: 0.2727 - val_mse: 0.2727\n",
      "Epoch 57/10000\n",
      "2/2 - 0s - loss: 0.4016 - mse: 0.4016 - val_loss: 0.2553 - val_mse: 0.2553\n",
      "Epoch 58/10000\n",
      "2/2 - 0s - loss: 0.8048 - mse: 0.8048 - val_loss: 0.2446 - val_mse: 0.2446\n",
      "Epoch 59/10000\n",
      "2/2 - 0s - loss: 0.3644 - mse: 0.3644 - val_loss: 0.2514 - val_mse: 0.2514\n",
      "Epoch 60/10000\n",
      "2/2 - 0s - loss: 1.7351 - mse: 1.7351 - val_loss: 0.2804 - val_mse: 0.2804\n",
      "Epoch 61/10000\n",
      "2/2 - 0s - loss: 0.4928 - mse: 0.4928 - val_loss: 0.2789 - val_mse: 0.2789\n",
      "Epoch 62/10000\n",
      "2/2 - 0s - loss: 0.4123 - mse: 0.4123 - val_loss: 0.2839 - val_mse: 0.2839\n",
      "Epoch 63/10000\n",
      "2/2 - 0s - loss: 0.4135 - mse: 0.4135 - val_loss: 0.2976 - val_mse: 0.2976\n",
      "Epoch 64/10000\n",
      "2/2 - 0s - loss: 0.4074 - mse: 0.4074 - val_loss: 0.3107 - val_mse: 0.3107\n",
      "Epoch 65/10000\n",
      "2/2 - 0s - loss: 0.9401 - mse: 0.9401 - val_loss: 0.3221 - val_mse: 0.3221\n",
      "Epoch 66/10000\n",
      "2/2 - 0s - loss: 0.4289 - mse: 0.4289 - val_loss: 0.3298 - val_mse: 0.3298\n",
      "Epoch 67/10000\n",
      "2/2 - 0s - loss: 0.4696 - mse: 0.4696 - val_loss: 0.3343 - val_mse: 0.3343\n",
      "Epoch 68/10000\n",
      "2/2 - 0s - loss: 0.4102 - mse: 0.4102 - val_loss: 0.3365 - val_mse: 0.3365\n",
      "Epoch 69/10000\n",
      "2/2 - 0s - loss: 0.3528 - mse: 0.3528 - val_loss: 0.3313 - val_mse: 0.3313\n",
      "Epoch 70/10000\n",
      "2/2 - 0s - loss: 0.4223 - mse: 0.4223 - val_loss: 0.3069 - val_mse: 0.3069\n",
      "Epoch 71/10000\n",
      "2/2 - 0s - loss: 0.3551 - mse: 0.3551 - val_loss: 0.2777 - val_mse: 0.2777\n",
      "Epoch 72/10000\n",
      "2/2 - 0s - loss: 0.4228 - mse: 0.4228 - val_loss: 0.2514 - val_mse: 0.2514\n",
      "Epoch 73/10000\n",
      "2/2 - 0s - loss: 0.3317 - mse: 0.3317 - val_loss: 0.2230 - val_mse: 0.2230\n",
      "Epoch 74/10000\n",
      "2/2 - 0s - loss: 0.7089 - mse: 0.7089 - val_loss: 0.2008 - val_mse: 0.2008\n",
      "Epoch 75/10000\n",
      "2/2 - 0s - loss: 0.4271 - mse: 0.4271 - val_loss: 0.2081 - val_mse: 0.2081\n",
      "Epoch 76/10000\n",
      "2/2 - 0s - loss: 0.4961 - mse: 0.4961 - val_loss: 0.2246 - val_mse: 0.2246\n",
      "Epoch 77/10000\n",
      "2/2 - 0s - loss: 0.5785 - mse: 0.5785 - val_loss: 0.2389 - val_mse: 0.2389\n",
      "Epoch 78/10000\n",
      "2/2 - 0s - loss: 0.3290 - mse: 0.3290 - val_loss: 0.2388 - val_mse: 0.2388\n",
      "Epoch 79/10000\n",
      "2/2 - 0s - loss: 0.3155 - mse: 0.3155 - val_loss: 0.2335 - val_mse: 0.2335\n",
      "Epoch 80/10000\n",
      "2/2 - 0s - loss: 0.3100 - mse: 0.3100 - val_loss: 0.2185 - val_mse: 0.2185\n",
      "Epoch 81/10000\n",
      "2/2 - 0s - loss: 0.3379 - mse: 0.3379 - val_loss: 0.2026 - val_mse: 0.2026\n",
      "Epoch 82/10000\n",
      "2/2 - 0s - loss: 0.3793 - mse: 0.3793 - val_loss: 0.1930 - val_mse: 0.1930\n",
      "Epoch 83/10000\n",
      "2/2 - 0s - loss: 0.4396 - mse: 0.4396 - val_loss: 0.2315 - val_mse: 0.2315\n",
      "Epoch 84/10000\n",
      "2/2 - 0s - loss: 0.3611 - mse: 0.3611 - val_loss: 0.2541 - val_mse: 0.2541\n",
      "Epoch 85/10000\n",
      "2/2 - 0s - loss: 0.3489 - mse: 0.3489 - val_loss: 0.2724 - val_mse: 0.2724\n",
      "Epoch 86/10000\n",
      "2/2 - 0s - loss: 0.3007 - mse: 0.3007 - val_loss: 0.3052 - val_mse: 0.3052\n",
      "Epoch 87/10000\n",
      "2/2 - 0s - loss: 0.3819 - mse: 0.3819 - val_loss: 0.3529 - val_mse: 0.3529\n",
      "Epoch 88/10000\n",
      "2/2 - 0s - loss: 0.6509 - mse: 0.6509 - val_loss: 0.3782 - val_mse: 0.3782\n",
      "Epoch 89/10000\n",
      "2/2 - 0s - loss: 0.3932 - mse: 0.3932 - val_loss: 0.3791 - val_mse: 0.3791\n",
      "Epoch 90/10000\n",
      "2/2 - 0s - loss: 0.3550 - mse: 0.3550 - val_loss: 0.3413 - val_mse: 0.3413\n",
      "Epoch 91/10000\n",
      "2/2 - 0s - loss: 1.1521 - mse: 1.1521 - val_loss: 0.3310 - val_mse: 0.3310\n"
     ]
    },
    {
     "name": "stdout",
     "output_type": "stream",
     "text": [
      "Epoch 92/10000\n",
      "2/2 - 0s - loss: 0.2646 - mse: 0.2646 - val_loss: 0.3165 - val_mse: 0.3165\n",
      "Epoch 93/10000\n",
      "2/2 - 0s - loss: 0.7897 - mse: 0.7897 - val_loss: 0.2982 - val_mse: 0.2982\n",
      "Epoch 94/10000\n",
      "2/2 - 0s - loss: 0.3566 - mse: 0.3566 - val_loss: 0.2502 - val_mse: 0.2502\n",
      "Epoch 95/10000\n",
      "2/2 - 0s - loss: 0.3277 - mse: 0.3277 - val_loss: 0.1623 - val_mse: 0.1623\n",
      "Epoch 96/10000\n",
      "2/2 - 0s - loss: 0.3138 - mse: 0.3138 - val_loss: 0.1478 - val_mse: 0.1478\n",
      "Epoch 97/10000\n",
      "2/2 - 0s - loss: 0.3046 - mse: 0.3046 - val_loss: 0.1375 - val_mse: 0.1375\n",
      "Epoch 98/10000\n",
      "2/2 - 0s - loss: 0.3769 - mse: 0.3769 - val_loss: 0.1292 - val_mse: 0.1292\n",
      "Epoch 99/10000\n",
      "2/2 - 0s - loss: 0.4722 - mse: 0.4722 - val_loss: 0.1245 - val_mse: 0.1245\n",
      "Epoch 100/10000\n",
      "2/2 - 0s - loss: 0.3043 - mse: 0.3043 - val_loss: 0.1231 - val_mse: 0.1231\n",
      "Epoch 101/10000\n",
      "2/2 - 0s - loss: 0.2801 - mse: 0.2801 - val_loss: 0.1248 - val_mse: 0.1248\n",
      "Epoch 102/10000\n",
      "2/2 - 0s - loss: 0.2703 - mse: 0.2703 - val_loss: 0.1361 - val_mse: 0.1361\n",
      "Epoch 103/10000\n",
      "2/2 - 0s - loss: 0.2783 - mse: 0.2783 - val_loss: 0.1527 - val_mse: 0.1527\n",
      "Epoch 104/10000\n",
      "2/2 - 0s - loss: 0.4109 - mse: 0.4109 - val_loss: 0.1707 - val_mse: 0.1707\n",
      "Epoch 105/10000\n",
      "2/2 - 0s - loss: 0.2613 - mse: 0.2613 - val_loss: 0.1828 - val_mse: 0.1828\n",
      "Epoch 106/10000\n",
      "2/2 - 0s - loss: 0.2671 - mse: 0.2671 - val_loss: 0.1911 - val_mse: 0.1911\n",
      "Epoch 107/10000\n",
      "2/2 - 0s - loss: 0.2637 - mse: 0.2637 - val_loss: 0.1944 - val_mse: 0.1944\n",
      "Epoch 108/10000\n",
      "2/2 - 0s - loss: 0.2565 - mse: 0.2565 - val_loss: 0.1937 - val_mse: 0.1937\n",
      "Epoch 109/10000\n",
      "2/2 - 0s - loss: 0.2559 - mse: 0.2559 - val_loss: 0.1874 - val_mse: 0.1874\n",
      "Epoch 110/10000\n",
      "2/2 - 0s - loss: 5.3995 - mse: 5.3995 - val_loss: 0.1824 - val_mse: 0.1824\n",
      "Epoch 111/10000\n",
      "2/2 - 0s - loss: 0.2640 - mse: 0.2640 - val_loss: 0.1746 - val_mse: 0.1746\n",
      "Epoch 112/10000\n",
      "2/2 - 0s - loss: 0.2990 - mse: 0.2990 - val_loss: 0.1637 - val_mse: 0.1637\n",
      "Epoch 113/10000\n",
      "2/2 - 0s - loss: 0.3597 - mse: 0.3597 - val_loss: 0.1520 - val_mse: 0.1520\n",
      "Epoch 114/10000\n",
      "2/2 - 0s - loss: 0.2767 - mse: 0.2767 - val_loss: 0.1457 - val_mse: 0.1457\n",
      "Epoch 115/10000\n",
      "2/2 - 0s - loss: 0.2665 - mse: 0.2665 - val_loss: 0.1410 - val_mse: 0.1410\n",
      "Epoch 116/10000\n",
      "2/2 - 0s - loss: 0.2254 - mse: 0.2254 - val_loss: 0.1392 - val_mse: 0.1392\n",
      "Epoch 117/10000\n",
      "2/2 - 0s - loss: 0.3473 - mse: 0.3473 - val_loss: 0.1078 - val_mse: 0.1078\n",
      "Epoch 118/10000\n",
      "2/2 - 0s - loss: 0.2827 - mse: 0.2827 - val_loss: 0.1027 - val_mse: 0.1027\n",
      "Epoch 119/10000\n",
      "2/2 - 0s - loss: 0.2139 - mse: 0.2139 - val_loss: 0.1066 - val_mse: 0.1066\n",
      "Epoch 120/10000\n",
      "2/2 - 0s - loss: 0.2601 - mse: 0.2601 - val_loss: 0.1067 - val_mse: 0.1067\n",
      "Epoch 121/10000\n",
      "2/2 - 0s - loss: 0.2300 - mse: 0.2300 - val_loss: 0.1071 - val_mse: 0.1071\n",
      "Epoch 122/10000\n",
      "2/2 - 0s - loss: 0.2390 - mse: 0.2390 - val_loss: 0.1071 - val_mse: 0.1071\n",
      "Epoch 123/10000\n",
      "2/2 - 0s - loss: 0.2516 - mse: 0.2516 - val_loss: 0.1133 - val_mse: 0.1133\n",
      "Epoch 124/10000\n",
      "2/2 - 0s - loss: 0.2281 - mse: 0.2281 - val_loss: 0.1241 - val_mse: 0.1241\n",
      "Epoch 125/10000\n",
      "2/2 - 0s - loss: 0.7755 - mse: 0.7755 - val_loss: 0.1358 - val_mse: 0.1358\n",
      "Epoch 126/10000\n",
      "2/2 - 0s - loss: 0.2390 - mse: 0.2390 - val_loss: 0.1435 - val_mse: 0.1435\n",
      "Epoch 127/10000\n",
      "2/2 - 0s - loss: 0.1835 - mse: 0.1835 - val_loss: 0.1449 - val_mse: 0.1449\n",
      "Epoch 128/10000\n",
      "2/2 - 0s - loss: 0.2119 - mse: 0.2119 - val_loss: 0.1412 - val_mse: 0.1412\n",
      "Epoch 129/10000\n",
      "2/2 - 0s - loss: 0.2003 - mse: 0.2003 - val_loss: 0.1342 - val_mse: 0.1342\n",
      "Epoch 130/10000\n",
      "2/2 - 0s - loss: 0.1797 - mse: 0.1797 - val_loss: 0.1271 - val_mse: 0.1271\n",
      "Epoch 131/10000\n",
      "2/2 - 0s - loss: 0.2291 - mse: 0.2291 - val_loss: 0.1213 - val_mse: 0.1213\n",
      "Epoch 132/10000\n",
      "2/2 - 0s - loss: 0.8486 - mse: 0.8486 - val_loss: 0.1178 - val_mse: 0.1178\n",
      "Epoch 133/10000\n",
      "2/2 - 0s - loss: 0.2400 - mse: 0.2400 - val_loss: 0.1160 - val_mse: 0.1160\n",
      "Epoch 134/10000\n",
      "2/2 - 0s - loss: 0.2330 - mse: 0.2330 - val_loss: 0.1158 - val_mse: 0.1158\n",
      "Epoch 135/10000\n",
      "2/2 - 0s - loss: 0.2134 - mse: 0.2134 - val_loss: 0.1165 - val_mse: 0.1165\n",
      "Epoch 136/10000\n",
      "2/2 - 0s - loss: 0.1715 - mse: 0.1715 - val_loss: 0.1165 - val_mse: 0.1165\n",
      "Epoch 137/10000\n",
      "2/2 - 0s - loss: 0.2626 - mse: 0.2626 - val_loss: 0.1159 - val_mse: 0.1159\n",
      "Epoch 138/10000\n",
      "2/2 - 0s - loss: 0.2053 - mse: 0.2053 - val_loss: 0.1131 - val_mse: 0.1131\n",
      "Epoch 139/10000\n",
      "2/2 - 0s - loss: 0.1918 - mse: 0.1918 - val_loss: 0.1080 - val_mse: 0.1080\n",
      "Epoch 140/10000\n",
      "2/2 - 0s - loss: 0.1884 - mse: 0.1884 - val_loss: 0.1035 - val_mse: 0.1035\n",
      "Epoch 141/10000\n",
      "2/2 - 0s - loss: 0.3754 - mse: 0.3754 - val_loss: 0.1001 - val_mse: 0.1001\n",
      "Epoch 142/10000\n",
      "2/2 - 0s - loss: 0.1899 - mse: 0.1899 - val_loss: 0.0980 - val_mse: 0.0980\n",
      "Epoch 143/10000\n",
      "2/2 - 0s - loss: 0.1589 - mse: 0.1589 - val_loss: 0.0969 - val_mse: 0.0969\n",
      "Epoch 144/10000\n",
      "2/2 - 0s - loss: 0.1955 - mse: 0.1955 - val_loss: 0.0978 - val_mse: 0.0978\n",
      "Epoch 145/10000\n",
      "2/2 - 0s - loss: 0.3393 - mse: 0.3393 - val_loss: 0.1007 - val_mse: 0.1007\n",
      "Epoch 146/10000\n",
      "2/2 - 0s - loss: 0.2325 - mse: 0.2325 - val_loss: 0.1048 - val_mse: 0.1048\n",
      "Epoch 147/10000\n",
      "2/2 - 0s - loss: 0.1829 - mse: 0.1829 - val_loss: 0.1100 - val_mse: 0.1100\n",
      "Epoch 148/10000\n",
      "2/2 - 0s - loss: 0.2502 - mse: 0.2502 - val_loss: 0.1141 - val_mse: 0.1141\n",
      "Epoch 149/10000\n",
      "2/2 - 0s - loss: 0.1781 - mse: 0.1781 - val_loss: 0.1145 - val_mse: 0.1145\n",
      "Epoch 150/10000\n",
      "2/2 - 0s - loss: 0.1725 - mse: 0.1725 - val_loss: 0.1121 - val_mse: 0.1121\n",
      "Epoch 151/10000\n",
      "2/2 - 0s - loss: 0.3757 - mse: 0.3757 - val_loss: 0.1100 - val_mse: 0.1100\n",
      "Epoch 152/10000\n",
      "2/2 - 0s - loss: 0.1987 - mse: 0.1987 - val_loss: 0.1084 - val_mse: 0.1084\n",
      "Epoch 153/10000\n",
      "2/2 - 0s - loss: 0.1813 - mse: 0.1813 - val_loss: 0.1070 - val_mse: 0.1070\n",
      "Epoch 154/10000\n",
      "2/2 - 0s - loss: 0.1668 - mse: 0.1668 - val_loss: 0.1068 - val_mse: 0.1068\n",
      "Epoch 155/10000\n",
      "2/2 - 0s - loss: 0.1801 - mse: 0.1801 - val_loss: 0.1072 - val_mse: 0.1072\n",
      "Epoch 156/10000\n",
      "2/2 - 0s - loss: 0.1519 - mse: 0.1519 - val_loss: 0.1065 - val_mse: 0.1065\n",
      "Epoch 157/10000\n",
      "2/2 - 0s - loss: 0.1690 - mse: 0.1690 - val_loss: 0.1040 - val_mse: 0.1040\n",
      "Epoch 158/10000\n",
      "2/2 - 0s - loss: 0.1918 - mse: 0.1918 - val_loss: 0.1016 - val_mse: 0.1016\n",
      "Epoch 159/10000\n",
      "2/2 - 0s - loss: 0.1847 - mse: 0.1847 - val_loss: 0.1001 - val_mse: 0.1001\n",
      "Epoch 160/10000\n",
      "2/2 - 0s - loss: 0.1622 - mse: 0.1622 - val_loss: 0.0981 - val_mse: 0.0981\n",
      "Epoch 161/10000\n",
      "2/2 - 0s - loss: 0.1582 - mse: 0.1582 - val_loss: 0.0953 - val_mse: 0.0953\n",
      "Epoch 162/10000\n",
      "2/2 - 0s - loss: 0.1808 - mse: 0.1808 - val_loss: 0.0924 - val_mse: 0.0924\n",
      "Epoch 163/10000\n",
      "2/2 - 0s - loss: 0.1854 - mse: 0.1854 - val_loss: 0.0895 - val_mse: 0.0895\n",
      "Epoch 164/10000\n",
      "2/2 - 0s - loss: 0.2044 - mse: 0.2044 - val_loss: 0.0876 - val_mse: 0.0876\n",
      "Epoch 165/10000\n",
      "2/2 - 0s - loss: 0.1846 - mse: 0.1846 - val_loss: 0.0874 - val_mse: 0.0874\n",
      "Epoch 166/10000\n",
      "2/2 - 0s - loss: 0.1332 - mse: 0.1332 - val_loss: 0.0883 - val_mse: 0.0883\n",
      "Epoch 167/10000\n",
      "2/2 - 0s - loss: 0.1630 - mse: 0.1630 - val_loss: 0.0893 - val_mse: 0.0893\n",
      "Epoch 168/10000\n",
      "2/2 - 0s - loss: 0.1582 - mse: 0.1582 - val_loss: 0.0908 - val_mse: 0.0908\n",
      "Epoch 169/10000\n",
      "2/2 - 0s - loss: 0.1470 - mse: 0.1470 - val_loss: 0.0907 - val_mse: 0.0907\n",
      "Epoch 170/10000\n",
      "2/2 - 0s - loss: 0.2287 - mse: 0.2287 - val_loss: 0.0906 - val_mse: 0.0906\n",
      "Epoch 171/10000\n",
      "2/2 - 0s - loss: 0.1906 - mse: 0.1906 - val_loss: 0.0912 - val_mse: 0.0912\n",
      "Epoch 172/10000\n",
      "2/2 - 0s - loss: 0.1821 - mse: 0.1821 - val_loss: 0.0932 - val_mse: 0.0932\n",
      "Epoch 173/10000\n",
      "2/2 - 0s - loss: 0.1344 - mse: 0.1344 - val_loss: 0.0930 - val_mse: 0.0930\n",
      "Epoch 174/10000\n",
      "2/2 - 0s - loss: 0.1160 - mse: 0.1160 - val_loss: 0.0913 - val_mse: 0.0913\n",
      "Epoch 175/10000\n",
      "2/2 - 0s - loss: 0.1523 - mse: 0.1523 - val_loss: 0.0898 - val_mse: 0.0898\n",
      "Epoch 176/10000\n",
      "2/2 - 0s - loss: 0.1411 - mse: 0.1411 - val_loss: 0.0879 - val_mse: 0.0879\n",
      "Epoch 177/10000\n",
      "2/2 - 0s - loss: 0.1450 - mse: 0.1450 - val_loss: 0.0851 - val_mse: 0.0851\n",
      "Epoch 178/10000\n",
      "2/2 - 0s - loss: 0.1791 - mse: 0.1791 - val_loss: 0.0834 - val_mse: 0.0834\n",
      "Epoch 179/10000\n",
      "2/2 - 0s - loss: 0.1568 - mse: 0.1568 - val_loss: 0.0813 - val_mse: 0.0813\n",
      "Epoch 180/10000\n",
      "2/2 - 0s - loss: 0.1628 - mse: 0.1628 - val_loss: 0.0790 - val_mse: 0.0790\n",
      "Epoch 181/10000\n",
      "2/2 - 0s - loss: 0.1160 - mse: 0.1160 - val_loss: 0.0766 - val_mse: 0.0766\n",
      "Epoch 182/10000\n"
     ]
    },
    {
     "name": "stdout",
     "output_type": "stream",
     "text": [
      "2/2 - 0s - loss: 0.1450 - mse: 0.1450 - val_loss: 0.0748 - val_mse: 0.0748\n",
      "Epoch 183/10000\n",
      "2/2 - 0s - loss: 0.1876 - mse: 0.1876 - val_loss: 0.0738 - val_mse: 0.0738\n",
      "Epoch 184/10000\n",
      "2/2 - 0s - loss: 0.1383 - mse: 0.1383 - val_loss: 0.0743 - val_mse: 0.0743\n",
      "Epoch 185/10000\n",
      "2/2 - 0s - loss: 0.1428 - mse: 0.1428 - val_loss: 0.0752 - val_mse: 0.0752\n",
      "Epoch 186/10000\n",
      "2/2 - 0s - loss: 0.1539 - mse: 0.1539 - val_loss: 0.0755 - val_mse: 0.0755\n",
      "Epoch 187/10000\n",
      "2/2 - 0s - loss: 0.1552 - mse: 0.1552 - val_loss: 0.0763 - val_mse: 0.0763\n",
      "Epoch 188/10000\n",
      "2/2 - 0s - loss: 0.1557 - mse: 0.1557 - val_loss: 0.0774 - val_mse: 0.0774\n",
      "Epoch 189/10000\n",
      "2/2 - 0s - loss: 0.1522 - mse: 0.1522 - val_loss: 0.0789 - val_mse: 0.0789\n",
      "Epoch 190/10000\n",
      "2/2 - 0s - loss: 0.1369 - mse: 0.1369 - val_loss: 0.0808 - val_mse: 0.0808\n",
      "Epoch 191/10000\n",
      "2/2 - 0s - loss: 0.1417 - mse: 0.1417 - val_loss: 0.0822 - val_mse: 0.0822\n",
      "Epoch 192/10000\n",
      "2/2 - 0s - loss: 0.1778 - mse: 0.1778 - val_loss: 0.0828 - val_mse: 0.0828\n",
      "Epoch 193/10000\n",
      "2/2 - 0s - loss: 0.1540 - mse: 0.1540 - val_loss: 0.0839 - val_mse: 0.0839\n",
      "Epoch 194/10000\n",
      "2/2 - 0s - loss: 0.1794 - mse: 0.1794 - val_loss: 0.0840 - val_mse: 0.0840\n",
      "Epoch 195/10000\n",
      "2/2 - 0s - loss: 0.1381 - mse: 0.1381 - val_loss: 0.0836 - val_mse: 0.0836\n",
      "Epoch 196/10000\n",
      "2/2 - 0s - loss: 0.1491 - mse: 0.1491 - val_loss: 0.0837 - val_mse: 0.0837\n",
      "Epoch 197/10000\n",
      "2/2 - 0s - loss: 0.1553 - mse: 0.1553 - val_loss: 0.0836 - val_mse: 0.0836\n",
      "Epoch 198/10000\n",
      "2/2 - 0s - loss: 0.1410 - mse: 0.1410 - val_loss: 0.0814 - val_mse: 0.0814\n",
      "Epoch 199/10000\n",
      "2/2 - 0s - loss: 0.1560 - mse: 0.1560 - val_loss: 0.0778 - val_mse: 0.0778\n",
      "Epoch 200/10000\n",
      "2/2 - 0s - loss: 0.1195 - mse: 0.1195 - val_loss: 0.0744 - val_mse: 0.0744\n",
      "Epoch 201/10000\n",
      "2/2 - 0s - loss: 0.1233 - mse: 0.1233 - val_loss: 0.0706 - val_mse: 0.0706\n",
      "Epoch 202/10000\n",
      "2/2 - 0s - loss: 0.1277 - mse: 0.1277 - val_loss: 0.0669 - val_mse: 0.0669\n",
      "Epoch 203/10000\n",
      "2/2 - 0s - loss: 0.1357 - mse: 0.1357 - val_loss: 0.0643 - val_mse: 0.0643\n",
      "Epoch 204/10000\n",
      "2/2 - 0s - loss: 0.1382 - mse: 0.1382 - val_loss: 0.0635 - val_mse: 0.0635\n",
      "Epoch 205/10000\n",
      "2/2 - 0s - loss: 0.1602 - mse: 0.1602 - val_loss: 0.0642 - val_mse: 0.0642\n",
      "Epoch 206/10000\n",
      "2/2 - 0s - loss: 0.1358 - mse: 0.1358 - val_loss: 0.0646 - val_mse: 0.0646\n",
      "Epoch 207/10000\n",
      "2/2 - 0s - loss: 0.1440 - mse: 0.1440 - val_loss: 0.0645 - val_mse: 0.0645\n",
      "Epoch 208/10000\n",
      "2/2 - 0s - loss: 0.9917 - mse: 0.9917 - val_loss: 0.0661 - val_mse: 0.0661\n",
      "Epoch 209/10000\n",
      "2/2 - 0s - loss: 0.1171 - mse: 0.1171 - val_loss: 0.0689 - val_mse: 0.0689\n",
      "Epoch 210/10000\n",
      "2/2 - 0s - loss: 0.1423 - mse: 0.1423 - val_loss: 0.0729 - val_mse: 0.0729\n",
      "Epoch 211/10000\n",
      "2/2 - 0s - loss: 0.1296 - mse: 0.1296 - val_loss: 0.0787 - val_mse: 0.0787\n",
      "Epoch 212/10000\n",
      "2/2 - 0s - loss: 0.1018 - mse: 0.1018 - val_loss: 0.0820 - val_mse: 0.0820\n",
      "Epoch 213/10000\n",
      "2/2 - 0s - loss: 0.1355 - mse: 0.1355 - val_loss: 0.0800 - val_mse: 0.0800\n",
      "Epoch 214/10000\n",
      "2/2 - 0s - loss: 0.1630 - mse: 0.1630 - val_loss: 0.0783 - val_mse: 0.0783\n",
      "Epoch 215/10000\n",
      "2/2 - 0s - loss: 0.1644 - mse: 0.1644 - val_loss: 0.0779 - val_mse: 0.0779\n",
      "Epoch 216/10000\n",
      "2/2 - 0s - loss: 0.1240 - mse: 0.1240 - val_loss: 0.0754 - val_mse: 0.0754\n",
      "Epoch 217/10000\n",
      "2/2 - 0s - loss: 0.1642 - mse: 0.1642 - val_loss: 0.0723 - val_mse: 0.0723\n",
      "Epoch 218/10000\n",
      "2/2 - 0s - loss: 0.1501 - mse: 0.1501 - val_loss: 0.0687 - val_mse: 0.0687\n",
      "Epoch 219/10000\n",
      "2/2 - 0s - loss: 0.1405 - mse: 0.1405 - val_loss: 0.0655 - val_mse: 0.0655\n",
      "Epoch 220/10000\n",
      "2/2 - 0s - loss: 0.1158 - mse: 0.1158 - val_loss: 0.0622 - val_mse: 0.0622\n",
      "Epoch 221/10000\n",
      "2/2 - 0s - loss: 0.1258 - mse: 0.1258 - val_loss: 0.0594 - val_mse: 0.0594\n",
      "Epoch 222/10000\n",
      "2/2 - 0s - loss: 0.1100 - mse: 0.1100 - val_loss: 0.0572 - val_mse: 0.0572\n",
      "Epoch 223/10000\n",
      "2/2 - 0s - loss: 0.1278 - mse: 0.1278 - val_loss: 0.0556 - val_mse: 0.0556\n",
      "Epoch 224/10000\n",
      "2/2 - 0s - loss: 0.1244 - mse: 0.1244 - val_loss: 0.0547 - val_mse: 0.0547\n",
      "Epoch 225/10000\n",
      "2/2 - 0s - loss: 0.1318 - mse: 0.1318 - val_loss: 0.0541 - val_mse: 0.0541\n",
      "Epoch 226/10000\n",
      "2/2 - 0s - loss: 0.1045 - mse: 0.1045 - val_loss: 0.0537 - val_mse: 0.0537\n",
      "Epoch 227/10000\n",
      "2/2 - 0s - loss: 0.1379 - mse: 0.1379 - val_loss: 0.0540 - val_mse: 0.0540\n",
      "Epoch 228/10000\n",
      "2/2 - 0s - loss: 0.1061 - mse: 0.1061 - val_loss: 0.0544 - val_mse: 0.0544\n",
      "Epoch 229/10000\n",
      "2/2 - 0s - loss: 0.1247 - mse: 0.1247 - val_loss: 0.0548 - val_mse: 0.0548\n",
      "Epoch 230/10000\n",
      "2/2 - 0s - loss: 0.1021 - mse: 0.1021 - val_loss: 0.0545 - val_mse: 0.0545\n",
      "Epoch 231/10000\n",
      "2/2 - 0s - loss: 0.1227 - mse: 0.1227 - val_loss: 0.0544 - val_mse: 0.0544\n",
      "Epoch 232/10000\n",
      "2/2 - 0s - loss: 0.1039 - mse: 0.1039 - val_loss: 0.0545 - val_mse: 0.0545\n",
      "Epoch 233/10000\n",
      "2/2 - 0s - loss: 0.1288 - mse: 0.1288 - val_loss: 0.0557 - val_mse: 0.0557\n",
      "Epoch 234/10000\n",
      "2/2 - 0s - loss: 0.0965 - mse: 0.0965 - val_loss: 0.0581 - val_mse: 0.0581\n",
      "Epoch 235/10000\n",
      "2/2 - 0s - loss: 0.1195 - mse: 0.1195 - val_loss: 0.0611 - val_mse: 0.0611\n",
      "Epoch 236/10000\n",
      "2/2 - 0s - loss: 0.1216 - mse: 0.1216 - val_loss: 0.0646 - val_mse: 0.0646\n",
      "Epoch 237/10000\n",
      "2/2 - 0s - loss: 0.1297 - mse: 0.1297 - val_loss: 0.0679 - val_mse: 0.0679\n",
      "Epoch 238/10000\n",
      "2/2 - 0s - loss: 0.1126 - mse: 0.1126 - val_loss: 0.0699 - val_mse: 0.0699\n",
      "Epoch 239/10000\n",
      "2/2 - 0s - loss: 0.1329 - mse: 0.1329 - val_loss: 0.0714 - val_mse: 0.0714\n",
      "Epoch 240/10000\n",
      "2/2 - 0s - loss: 0.0993 - mse: 0.0993 - val_loss: 0.0718 - val_mse: 0.0718\n",
      "Epoch 241/10000\n",
      "2/2 - 0s - loss: 0.1484 - mse: 0.1484 - val_loss: 0.0716 - val_mse: 0.0716\n",
      "Epoch 242/10000\n",
      "2/2 - 0s - loss: 0.1446 - mse: 0.1446 - val_loss: 0.0710 - val_mse: 0.0710\n",
      "Epoch 243/10000\n",
      "2/2 - 0s - loss: 0.1118 - mse: 0.1118 - val_loss: 0.0700 - val_mse: 0.0700\n",
      "Epoch 244/10000\n",
      "2/2 - 0s - loss: 0.1236 - mse: 0.1236 - val_loss: 0.0688 - val_mse: 0.0688\n",
      "Epoch 245/10000\n",
      "2/2 - 0s - loss: 0.1113 - mse: 0.1113 - val_loss: 0.0672 - val_mse: 0.0672\n",
      "Epoch 246/10000\n",
      "2/2 - 0s - loss: 0.0861 - mse: 0.0861 - val_loss: 0.0656 - val_mse: 0.0656\n",
      "Epoch 247/10000\n",
      "2/2 - 0s - loss: 0.1023 - mse: 0.1023 - val_loss: 0.0643 - val_mse: 0.0643\n",
      "Epoch 248/10000\n",
      "2/2 - 0s - loss: 0.1096 - mse: 0.1096 - val_loss: 0.0634 - val_mse: 0.0634\n",
      "Epoch 249/10000\n",
      "2/2 - 0s - loss: 0.1246 - mse: 0.1246 - val_loss: 0.0631 - val_mse: 0.0631\n",
      "Epoch 250/10000\n",
      "2/2 - 0s - loss: 0.1186 - mse: 0.1186 - val_loss: 0.0640 - val_mse: 0.0640\n",
      "Epoch 251/10000\n",
      "2/2 - 0s - loss: 0.1039 - mse: 0.1039 - val_loss: 0.0651 - val_mse: 0.0651\n",
      "Epoch 252/10000\n",
      "2/2 - 0s - loss: 0.1096 - mse: 0.1096 - val_loss: 0.0662 - val_mse: 0.0662\n",
      "Epoch 253/10000\n",
      "2/2 - 0s - loss: 0.1019 - mse: 0.1019 - val_loss: 0.0674 - val_mse: 0.0674\n",
      "Epoch 254/10000\n",
      "2/2 - 0s - loss: 0.1242 - mse: 0.1242 - val_loss: 0.0680 - val_mse: 0.0680\n",
      "Epoch 255/10000\n",
      "2/2 - 0s - loss: 0.0912 - mse: 0.0912 - val_loss: 0.0681 - val_mse: 0.0681\n",
      "Epoch 256/10000\n",
      "2/2 - 0s - loss: 0.1267 - mse: 0.1267 - val_loss: 0.0680 - val_mse: 0.0680\n",
      "Epoch 257/10000\n",
      "2/2 - 0s - loss: 0.0997 - mse: 0.0997 - val_loss: 0.0677 - val_mse: 0.0677\n",
      "Epoch 258/10000\n",
      "2/2 - 0s - loss: 0.0919 - mse: 0.0919 - val_loss: 0.0675 - val_mse: 0.0675\n",
      "Epoch 259/10000\n",
      "2/2 - 0s - loss: 0.1045 - mse: 0.1045 - val_loss: 0.0676 - val_mse: 0.0676\n",
      "Epoch 260/10000\n",
      "2/2 - 0s - loss: 0.1002 - mse: 0.1002 - val_loss: 0.0675 - val_mse: 0.0675\n",
      "Epoch 261/10000\n",
      "2/2 - 0s - loss: 0.0946 - mse: 0.0946 - val_loss: 0.0670 - val_mse: 0.0670\n",
      "Epoch 262/10000\n",
      "2/2 - 0s - loss: 0.0968 - mse: 0.0968 - val_loss: 0.0671 - val_mse: 0.0671\n",
      "Epoch 263/10000\n",
      "2/2 - 0s - loss: 0.1083 - mse: 0.1083 - val_loss: 0.0678 - val_mse: 0.0678\n",
      "Epoch 264/10000\n",
      "2/2 - 0s - loss: 0.0920 - mse: 0.0920 - val_loss: 0.0683 - val_mse: 0.0683\n",
      "Epoch 265/10000\n",
      "2/2 - 0s - loss: 0.1180 - mse: 0.1180 - val_loss: 0.0690 - val_mse: 0.0690\n",
      "Epoch 266/10000\n",
      "2/2 - 0s - loss: 0.0961 - mse: 0.0961 - val_loss: 0.0691 - val_mse: 0.0691\n",
      "Epoch 267/10000\n",
      "2/2 - 0s - loss: 0.1125 - mse: 0.1125 - val_loss: 0.0686 - val_mse: 0.0686\n",
      "Epoch 268/10000\n",
      "2/2 - 0s - loss: 0.1027 - mse: 0.1027 - val_loss: 0.0679 - val_mse: 0.0679\n",
      "Epoch 269/10000\n",
      "2/2 - 0s - loss: 0.1017 - mse: 0.1017 - val_loss: 0.0674 - val_mse: 0.0674\n",
      "Epoch 270/10000\n",
      "2/2 - 0s - loss: 0.0934 - mse: 0.0934 - val_loss: 0.0667 - val_mse: 0.0667\n",
      "Epoch 271/10000\n",
      "2/2 - 0s - loss: 0.0815 - mse: 0.0815 - val_loss: 0.0657 - val_mse: 0.0657\n",
      "Epoch 272/10000\n",
      "2/2 - 0s - loss: 0.1164 - mse: 0.1164 - val_loss: 0.0640 - val_mse: 0.0640\n"
     ]
    },
    {
     "name": "stdout",
     "output_type": "stream",
     "text": [
      "Epoch 273/10000\n",
      "2/2 - 0s - loss: 0.1224 - mse: 0.1224 - val_loss: 0.0623 - val_mse: 0.0623\n",
      "Epoch 274/10000\n",
      "2/2 - 0s - loss: 0.0963 - mse: 0.0963 - val_loss: 0.0606 - val_mse: 0.0606\n",
      "Epoch 275/10000\n",
      "2/2 - 0s - loss: 0.1106 - mse: 0.1106 - val_loss: 0.0593 - val_mse: 0.0593\n",
      "Epoch 276/10000\n",
      "2/2 - 0s - loss: 0.0870 - mse: 0.0870 - val_loss: 0.0584 - val_mse: 0.0584\n",
      "Epoch 277/10000\n",
      "2/2 - 0s - loss: 0.1012 - mse: 0.1012 - val_loss: 0.0581 - val_mse: 0.0581\n",
      "Epoch 278/10000\n",
      "2/2 - 0s - loss: 0.1264 - mse: 0.1264 - val_loss: 0.0590 - val_mse: 0.0590\n",
      "Epoch 279/10000\n",
      "2/2 - 0s - loss: 0.0897 - mse: 0.0897 - val_loss: 0.0606 - val_mse: 0.0606\n",
      "Epoch 280/10000\n",
      "2/2 - 0s - loss: 0.0978 - mse: 0.0978 - val_loss: 0.0619 - val_mse: 0.0619\n",
      "Epoch 281/10000\n",
      "2/2 - 0s - loss: 0.0982 - mse: 0.0982 - val_loss: 0.0629 - val_mse: 0.0629\n",
      "Epoch 282/10000\n",
      "2/2 - 0s - loss: 0.0978 - mse: 0.0978 - val_loss: 0.0634 - val_mse: 0.0634\n",
      "Epoch 283/10000\n",
      "2/2 - 0s - loss: 0.0923 - mse: 0.0923 - val_loss: 0.0640 - val_mse: 0.0640\n",
      "Epoch 284/10000\n",
      "2/2 - 0s - loss: 0.0925 - mse: 0.0925 - val_loss: 0.0643 - val_mse: 0.0643\n",
      "Epoch 285/10000\n",
      "2/2 - 0s - loss: 0.0792 - mse: 0.0792 - val_loss: 0.0647 - val_mse: 0.0647\n",
      "Epoch 286/10000\n",
      "2/2 - 0s - loss: 0.0827 - mse: 0.0827 - val_loss: 0.0648 - val_mse: 0.0648\n",
      "Epoch 287/10000\n",
      "2/2 - 0s - loss: 0.0846 - mse: 0.0846 - val_loss: 0.0647 - val_mse: 0.0647\n",
      "Epoch 288/10000\n",
      "2/2 - 0s - loss: 0.1187 - mse: 0.1187 - val_loss: 0.0645 - val_mse: 0.0645\n",
      "Epoch 289/10000\n",
      "2/2 - 0s - loss: 0.1000 - mse: 0.1000 - val_loss: 0.0641 - val_mse: 0.0641\n",
      "Epoch 290/10000\n",
      "2/2 - 0s - loss: 0.0826 - mse: 0.0826 - val_loss: 0.0635 - val_mse: 0.0635\n",
      "Epoch 291/10000\n",
      "2/2 - 0s - loss: 0.1103 - mse: 0.1103 - val_loss: 0.0630 - val_mse: 0.0630\n",
      "Epoch 292/10000\n",
      "2/2 - 0s - loss: 0.1015 - mse: 0.1015 - val_loss: 0.0625 - val_mse: 0.0625\n",
      "Epoch 293/10000\n",
      "2/2 - 0s - loss: 0.0977 - mse: 0.0977 - val_loss: 0.0618 - val_mse: 0.0618\n",
      "Epoch 294/10000\n",
      "2/2 - 0s - loss: 0.1081 - mse: 0.1081 - val_loss: 0.0609 - val_mse: 0.0609\n",
      "Epoch 295/10000\n",
      "2/2 - 0s - loss: 0.1186 - mse: 0.1186 - val_loss: 0.0602 - val_mse: 0.0602\n",
      "Epoch 296/10000\n",
      "2/2 - 0s - loss: 0.1050 - mse: 0.1050 - val_loss: 0.0600 - val_mse: 0.0600\n",
      "Epoch 297/10000\n",
      "2/2 - 0s - loss: 0.0921 - mse: 0.0921 - val_loss: 0.0601 - val_mse: 0.0601\n",
      "Epoch 298/10000\n",
      "2/2 - 0s - loss: 0.0867 - mse: 0.0867 - val_loss: 0.0601 - val_mse: 0.0601\n",
      "Epoch 299/10000\n",
      "2/2 - 0s - loss: 0.0906 - mse: 0.0906 - val_loss: 0.0598 - val_mse: 0.0598\n",
      "Epoch 300/10000\n",
      "2/2 - 0s - loss: 0.0879 - mse: 0.0879 - val_loss: 0.0595 - val_mse: 0.0595\n",
      "Epoch 301/10000\n",
      "2/2 - 0s - loss: 0.1007 - mse: 0.1007 - val_loss: 0.0589 - val_mse: 0.0589\n",
      "Epoch 302/10000\n",
      "2/2 - 0s - loss: 0.0864 - mse: 0.0864 - val_loss: 0.0581 - val_mse: 0.0581\n",
      "Epoch 303/10000\n",
      "2/2 - 0s - loss: 0.0772 - mse: 0.0772 - val_loss: 0.0575 - val_mse: 0.0575\n",
      "Epoch 304/10000\n",
      "2/2 - 0s - loss: 0.0762 - mse: 0.0762 - val_loss: 0.0574 - val_mse: 0.0574\n",
      "Epoch 305/10000\n",
      "2/2 - 0s - loss: 0.0897 - mse: 0.0897 - val_loss: 0.0575 - val_mse: 0.0575\n",
      "Epoch 306/10000\n",
      "2/2 - 0s - loss: 0.0980 - mse: 0.0980 - val_loss: 0.0572 - val_mse: 0.0572\n",
      "Epoch 307/10000\n",
      "2/2 - 0s - loss: 0.1033 - mse: 0.1033 - val_loss: 0.0570 - val_mse: 0.0570\n",
      "Epoch 308/10000\n",
      "2/2 - 0s - loss: 0.0925 - mse: 0.0925 - val_loss: 0.0567 - val_mse: 0.0567\n",
      "Epoch 309/10000\n",
      "2/2 - 0s - loss: 0.0842 - mse: 0.0842 - val_loss: 0.0566 - val_mse: 0.0566\n",
      "Epoch 310/10000\n",
      "2/2 - 0s - loss: 0.1007 - mse: 0.1007 - val_loss: 0.0566 - val_mse: 0.0566\n",
      "Epoch 311/10000\n",
      "2/2 - 0s - loss: 0.1036 - mse: 0.1036 - val_loss: 0.0569 - val_mse: 0.0569\n",
      "Epoch 312/10000\n",
      "2/2 - 0s - loss: 0.0855 - mse: 0.0855 - val_loss: 0.0570 - val_mse: 0.0570\n",
      "Epoch 313/10000\n",
      "2/2 - 0s - loss: 0.0818 - mse: 0.0818 - val_loss: 0.0568 - val_mse: 0.0568\n",
      "Epoch 314/10000\n",
      "2/2 - 0s - loss: 0.0882 - mse: 0.0882 - val_loss: 0.0564 - val_mse: 0.0564\n",
      "Epoch 315/10000\n",
      "2/2 - 0s - loss: 0.0753 - mse: 0.0753 - val_loss: 0.0558 - val_mse: 0.0558\n",
      "Epoch 316/10000\n",
      "2/2 - 0s - loss: 0.0914 - mse: 0.0914 - val_loss: 0.0555 - val_mse: 0.0555\n",
      "Epoch 317/10000\n",
      "2/2 - 0s - loss: 0.0786 - mse: 0.0786 - val_loss: 0.0554 - val_mse: 0.0554\n",
      "Epoch 318/10000\n",
      "2/2 - 0s - loss: 0.0797 - mse: 0.0797 - val_loss: 0.0553 - val_mse: 0.0553\n",
      "Epoch 319/10000\n",
      "2/2 - 0s - loss: 0.1040 - mse: 0.1040 - val_loss: 0.0552 - val_mse: 0.0552\n",
      "Epoch 320/10000\n",
      "2/2 - 0s - loss: 0.0910 - mse: 0.0910 - val_loss: 0.0550 - val_mse: 0.0550\n",
      "Epoch 321/10000\n",
      "2/2 - 0s - loss: 0.0941 - mse: 0.0941 - val_loss: 0.0549 - val_mse: 0.0549\n",
      "Epoch 322/10000\n",
      "2/2 - 0s - loss: 0.0876 - mse: 0.0876 - val_loss: 0.0549 - val_mse: 0.0549\n",
      "Epoch 323/10000\n",
      "2/2 - 0s - loss: 0.0677 - mse: 0.0677 - val_loss: 0.0547 - val_mse: 0.0547\n",
      "Epoch 324/10000\n",
      "2/2 - 0s - loss: 0.0734 - mse: 0.0734 - val_loss: 0.0551 - val_mse: 0.0551\n",
      "Epoch 325/10000\n",
      "2/2 - 0s - loss: 0.0765 - mse: 0.0765 - val_loss: 0.0556 - val_mse: 0.0556\n",
      "Epoch 326/10000\n",
      "2/2 - 0s - loss: 0.0730 - mse: 0.0730 - val_loss: 0.0558 - val_mse: 0.0558\n",
      "Epoch 327/10000\n",
      "2/2 - 0s - loss: 0.1015 - mse: 0.1015 - val_loss: 0.0560 - val_mse: 0.0560\n",
      "Epoch 328/10000\n",
      "2/2 - 0s - loss: 0.0820 - mse: 0.0820 - val_loss: 0.0560 - val_mse: 0.0560\n",
      "Epoch 329/10000\n",
      "2/2 - 0s - loss: 0.1006 - mse: 0.1006 - val_loss: 0.0562 - val_mse: 0.0562\n",
      "Epoch 330/10000\n",
      "2/2 - 0s - loss: 0.1052 - mse: 0.1052 - val_loss: 0.0566 - val_mse: 0.0566\n",
      "Epoch 331/10000\n",
      "2/2 - 0s - loss: 0.1054 - mse: 0.1054 - val_loss: 0.0569 - val_mse: 0.0569\n",
      "Epoch 332/10000\n",
      "2/2 - 0s - loss: 0.0763 - mse: 0.0763 - val_loss: 0.0573 - val_mse: 0.0573\n",
      "Epoch 333/10000\n",
      "2/2 - 0s - loss: 0.0797 - mse: 0.0797 - val_loss: 0.0577 - val_mse: 0.0577\n",
      "Epoch 334/10000\n",
      "2/2 - 0s - loss: 0.1032 - mse: 0.1032 - val_loss: 0.0578 - val_mse: 0.0578\n",
      "Epoch 335/10000\n",
      "2/2 - 0s - loss: 0.0923 - mse: 0.0923 - val_loss: 0.0576 - val_mse: 0.0576\n",
      "Epoch 336/10000\n",
      "2/2 - 0s - loss: 0.1038 - mse: 0.1038 - val_loss: 0.0574 - val_mse: 0.0574\n",
      "Epoch 337/10000\n",
      "2/2 - 0s - loss: 0.0856 - mse: 0.0856 - val_loss: 0.0575 - val_mse: 0.0575\n",
      "Epoch 338/10000\n",
      "2/2 - 0s - loss: 0.0984 - mse: 0.0984 - val_loss: 0.0576 - val_mse: 0.0576\n",
      "Epoch 339/10000\n",
      "2/2 - 0s - loss: 0.0975 - mse: 0.0975 - val_loss: 0.0577 - val_mse: 0.0577\n",
      "Epoch 340/10000\n",
      "2/2 - 0s - loss: 0.0968 - mse: 0.0968 - val_loss: 0.0574 - val_mse: 0.0574\n",
      "Epoch 341/10000\n",
      "2/2 - 0s - loss: 0.0727 - mse: 0.0727 - val_loss: 0.0570 - val_mse: 0.0570\n",
      "Epoch 342/10000\n",
      "2/2 - 0s - loss: 0.0682 - mse: 0.0682 - val_loss: 0.0565 - val_mse: 0.0565\n",
      "Epoch 343/10000\n",
      "2/2 - 0s - loss: 0.0781 - mse: 0.0781 - val_loss: 0.0560 - val_mse: 0.0560\n",
      "Epoch 344/10000\n",
      "2/2 - 0s - loss: 0.0736 - mse: 0.0736 - val_loss: 0.0557 - val_mse: 0.0557\n",
      "Epoch 345/10000\n",
      "2/2 - 0s - loss: 0.0860 - mse: 0.0860 - val_loss: 0.0553 - val_mse: 0.0553\n",
      "Epoch 346/10000\n",
      "2/2 - 0s - loss: 0.0722 - mse: 0.0722 - val_loss: 0.0550 - val_mse: 0.0550\n",
      "Epoch 347/10000\n",
      "2/2 - 0s - loss: 0.0832 - mse: 0.0832 - val_loss: 0.0546 - val_mse: 0.0546\n",
      "Epoch 348/10000\n",
      "2/2 - 0s - loss: 0.0906 - mse: 0.0906 - val_loss: 0.0543 - val_mse: 0.0543\n",
      "Epoch 349/10000\n",
      "2/2 - 0s - loss: 0.0841 - mse: 0.0841 - val_loss: 0.0540 - val_mse: 0.0540\n",
      "Epoch 350/10000\n",
      "2/2 - 0s - loss: 0.0959 - mse: 0.0959 - val_loss: 0.0537 - val_mse: 0.0537\n",
      "Epoch 351/10000\n",
      "2/2 - 0s - loss: 0.1047 - mse: 0.1047 - val_loss: 0.0537 - val_mse: 0.0537\n",
      "Epoch 352/10000\n",
      "2/2 - 0s - loss: 0.1000 - mse: 0.1000 - val_loss: 0.0539 - val_mse: 0.0539\n",
      "Epoch 353/10000\n",
      "2/2 - 0s - loss: 0.0777 - mse: 0.0777 - val_loss: 0.0539 - val_mse: 0.0539\n",
      "Epoch 354/10000\n",
      "2/2 - 0s - loss: 0.0801 - mse: 0.0801 - val_loss: 0.0540 - val_mse: 0.0540\n",
      "Epoch 355/10000\n",
      "2/2 - 0s - loss: 0.0878 - mse: 0.0878 - val_loss: 0.0542 - val_mse: 0.0542\n",
      "Epoch 356/10000\n",
      "2/2 - 0s - loss: 0.0777 - mse: 0.0777 - val_loss: 0.0545 - val_mse: 0.0545\n",
      "Epoch 357/10000\n",
      "2/2 - 0s - loss: 0.0590 - mse: 0.0590 - val_loss: 0.0547 - val_mse: 0.0547\n",
      "Epoch 358/10000\n",
      "2/2 - 0s - loss: 0.0875 - mse: 0.0875 - val_loss: 0.0550 - val_mse: 0.0550\n",
      "Epoch 359/10000\n",
      "2/2 - 0s - loss: 0.0883 - mse: 0.0883 - val_loss: 0.0552 - val_mse: 0.0552\n",
      "Epoch 360/10000\n",
      "2/2 - 0s - loss: 0.0994 - mse: 0.0994 - val_loss: 0.0553 - val_mse: 0.0553\n",
      "Epoch 361/10000\n",
      "2/2 - 0s - loss: 0.0924 - mse: 0.0924 - val_loss: 0.0550 - val_mse: 0.0550\n",
      "Epoch 362/10000\n",
      "2/2 - 0s - loss: 0.0896 - mse: 0.0896 - val_loss: 0.0547 - val_mse: 0.0547\n",
      "Epoch 363/10000\n"
     ]
    },
    {
     "name": "stdout",
     "output_type": "stream",
     "text": [
      "2/2 - 0s - loss: 0.0707 - mse: 0.0707 - val_loss: 0.0543 - val_mse: 0.0543\n",
      "Epoch 364/10000\n",
      "2/2 - 0s - loss: 0.0758 - mse: 0.0758 - val_loss: 0.0539 - val_mse: 0.0539\n",
      "Epoch 365/10000\n",
      "2/2 - 0s - loss: 0.0683 - mse: 0.0683 - val_loss: 0.0535 - val_mse: 0.0535\n",
      "Epoch 366/10000\n",
      "2/2 - 0s - loss: 0.0805 - mse: 0.0805 - val_loss: 0.0532 - val_mse: 0.0532\n",
      "Epoch 367/10000\n",
      "2/2 - 0s - loss: 0.0788 - mse: 0.0788 - val_loss: 0.0530 - val_mse: 0.0530\n",
      "Epoch 368/10000\n",
      "2/2 - 0s - loss: 0.0938 - mse: 0.0938 - val_loss: 0.0530 - val_mse: 0.0530\n",
      "Epoch 369/10000\n",
      "2/2 - 0s - loss: 0.0985 - mse: 0.0985 - val_loss: 0.0531 - val_mse: 0.0531\n",
      "Epoch 370/10000\n",
      "2/2 - 0s - loss: 0.0607 - mse: 0.0607 - val_loss: 0.0531 - val_mse: 0.0531\n",
      "Epoch 371/10000\n",
      "2/2 - 0s - loss: 0.0788 - mse: 0.0788 - val_loss: 0.0529 - val_mse: 0.0529\n",
      "Epoch 372/10000\n",
      "2/2 - 0s - loss: 0.0759 - mse: 0.0759 - val_loss: 0.0528 - val_mse: 0.0528\n",
      "Epoch 373/10000\n",
      "2/2 - 0s - loss: 0.0681 - mse: 0.0681 - val_loss: 0.0527 - val_mse: 0.0527\n",
      "Epoch 374/10000\n",
      "2/2 - 0s - loss: 0.0776 - mse: 0.0776 - val_loss: 0.0526 - val_mse: 0.0526\n",
      "Epoch 375/10000\n",
      "2/2 - 0s - loss: 0.0879 - mse: 0.0879 - val_loss: 0.0523 - val_mse: 0.0523\n",
      "Epoch 376/10000\n",
      "2/2 - 0s - loss: 0.0749 - mse: 0.0749 - val_loss: 0.0521 - val_mse: 0.0521\n",
      "Epoch 377/10000\n",
      "2/2 - 0s - loss: 0.0841 - mse: 0.0841 - val_loss: 0.0519 - val_mse: 0.0519\n",
      "Epoch 378/10000\n",
      "2/2 - 0s - loss: 0.0715 - mse: 0.0715 - val_loss: 0.0517 - val_mse: 0.0517\n",
      "Epoch 379/10000\n",
      "2/2 - 0s - loss: 0.0739 - mse: 0.0739 - val_loss: 0.0515 - val_mse: 0.0515\n",
      "Epoch 380/10000\n",
      "2/2 - 0s - loss: 0.0948 - mse: 0.0948 - val_loss: 0.0513 - val_mse: 0.0513\n",
      "Epoch 381/10000\n",
      "2/2 - 0s - loss: 0.0584 - mse: 0.0584 - val_loss: 0.0513 - val_mse: 0.0513\n",
      "Epoch 382/10000\n",
      "2/2 - 0s - loss: 0.0852 - mse: 0.0852 - val_loss: 0.0514 - val_mse: 0.0514\n",
      "Epoch 383/10000\n",
      "2/2 - 0s - loss: 0.0772 - mse: 0.0772 - val_loss: 0.0516 - val_mse: 0.0516\n",
      "Epoch 384/10000\n",
      "2/2 - 0s - loss: 0.0665 - mse: 0.0665 - val_loss: 0.0520 - val_mse: 0.0520\n",
      "Epoch 385/10000\n",
      "2/2 - 0s - loss: 0.0668 - mse: 0.0668 - val_loss: 0.0522 - val_mse: 0.0522\n",
      "Epoch 386/10000\n",
      "2/2 - 0s - loss: 0.0707 - mse: 0.0707 - val_loss: 0.0525 - val_mse: 0.0525\n",
      "Epoch 387/10000\n",
      "2/2 - 0s - loss: 0.0644 - mse: 0.0644 - val_loss: 0.0526 - val_mse: 0.0526\n",
      "Epoch 388/10000\n",
      "2/2 - 0s - loss: 0.0809 - mse: 0.0809 - val_loss: 0.0526 - val_mse: 0.0526\n",
      "Epoch 389/10000\n",
      "2/2 - 0s - loss: 0.0881 - mse: 0.0881 - val_loss: 0.0523 - val_mse: 0.0523\n",
      "Epoch 390/10000\n",
      "2/2 - 0s - loss: 0.0714 - mse: 0.0714 - val_loss: 0.0516 - val_mse: 0.0516\n",
      "Epoch 391/10000\n",
      "2/2 - 0s - loss: 0.1039 - mse: 0.1039 - val_loss: 0.0507 - val_mse: 0.0507\n",
      "Epoch 392/10000\n",
      "2/2 - 0s - loss: 0.0950 - mse: 0.0950 - val_loss: 0.0500 - val_mse: 0.0500\n",
      "Epoch 393/10000\n",
      "2/2 - 0s - loss: 0.0738 - mse: 0.0738 - val_loss: 0.0494 - val_mse: 0.0494\n",
      "Epoch 394/10000\n",
      "2/2 - 0s - loss: 0.0606 - mse: 0.0606 - val_loss: 0.0489 - val_mse: 0.0489\n",
      "Epoch 395/10000\n",
      "2/2 - 0s - loss: 0.0799 - mse: 0.0799 - val_loss: 0.0485 - val_mse: 0.0485\n",
      "Epoch 396/10000\n",
      "2/2 - 0s - loss: 0.0848 - mse: 0.0848 - val_loss: 0.0482 - val_mse: 0.0482\n",
      "Epoch 397/10000\n",
      "2/2 - 0s - loss: 0.0958 - mse: 0.0958 - val_loss: 0.0480 - val_mse: 0.0480\n",
      "Epoch 398/10000\n",
      "2/2 - 0s - loss: 0.0818 - mse: 0.0818 - val_loss: 0.0478 - val_mse: 0.0478\n",
      "Epoch 399/10000\n",
      "2/2 - 0s - loss: 0.0731 - mse: 0.0731 - val_loss: 0.0477 - val_mse: 0.0477\n",
      "Epoch 400/10000\n",
      "2/2 - 0s - loss: 0.0824 - mse: 0.0824 - val_loss: 0.0478 - val_mse: 0.0478\n",
      "Epoch 401/10000\n",
      "2/2 - 0s - loss: 0.0711 - mse: 0.0711 - val_loss: 0.0479 - val_mse: 0.0479\n",
      "Epoch 402/10000\n",
      "2/2 - 0s - loss: 0.0883 - mse: 0.0883 - val_loss: 0.0481 - val_mse: 0.0481\n",
      "Epoch 403/10000\n",
      "2/2 - 0s - loss: 0.0617 - mse: 0.0617 - val_loss: 0.0483 - val_mse: 0.0483\n",
      "Epoch 404/10000\n",
      "2/2 - 0s - loss: 0.0750 - mse: 0.0750 - val_loss: 0.0486 - val_mse: 0.0486\n",
      "Epoch 405/10000\n",
      "2/2 - 0s - loss: 0.0805 - mse: 0.0805 - val_loss: 0.0491 - val_mse: 0.0491\n",
      "Epoch 406/10000\n",
      "2/2 - 0s - loss: 0.0739 - mse: 0.0739 - val_loss: 0.0496 - val_mse: 0.0496\n",
      "Epoch 407/10000\n",
      "2/2 - 0s - loss: 0.0772 - mse: 0.0772 - val_loss: 0.0501 - val_mse: 0.0501\n",
      "Epoch 408/10000\n",
      "2/2 - 0s - loss: 0.1096 - mse: 0.1096 - val_loss: 0.0506 - val_mse: 0.0506\n",
      "Epoch 409/10000\n",
      "2/2 - 0s - loss: 0.0892 - mse: 0.0892 - val_loss: 0.0510 - val_mse: 0.0510\n",
      "Epoch 410/10000\n",
      "2/2 - 0s - loss: 0.1231 - mse: 0.1231 - val_loss: 0.0514 - val_mse: 0.0514\n",
      "Epoch 411/10000\n",
      "2/2 - 0s - loss: 0.0594 - mse: 0.0594 - val_loss: 0.0517 - val_mse: 0.0517\n",
      "Epoch 412/10000\n",
      "2/2 - 0s - loss: 0.0681 - mse: 0.0681 - val_loss: 0.0515 - val_mse: 0.0515\n",
      "Epoch 413/10000\n",
      "2/2 - 0s - loss: 0.0640 - mse: 0.0640 - val_loss: 0.0510 - val_mse: 0.0510\n",
      "Epoch 414/10000\n",
      "2/2 - 0s - loss: 0.0590 - mse: 0.0590 - val_loss: 0.0504 - val_mse: 0.0504\n",
      "Epoch 415/10000\n",
      "2/2 - 0s - loss: 0.0706 - mse: 0.0706 - val_loss: 0.0500 - val_mse: 0.0500\n",
      "Epoch 416/10000\n",
      "2/2 - 0s - loss: 0.0687 - mse: 0.0687 - val_loss: 0.0493 - val_mse: 0.0493\n",
      "Epoch 417/10000\n",
      "2/2 - 0s - loss: 0.0764 - mse: 0.0764 - val_loss: 0.0486 - val_mse: 0.0486\n",
      "Epoch 418/10000\n",
      "2/2 - 0s - loss: 0.0695 - mse: 0.0695 - val_loss: 0.0480 - val_mse: 0.0480\n",
      "Epoch 419/10000\n",
      "2/2 - 0s - loss: 0.0831 - mse: 0.0831 - val_loss: 0.0475 - val_mse: 0.0475\n",
      "Epoch 420/10000\n",
      "2/2 - 0s - loss: 0.0853 - mse: 0.0853 - val_loss: 0.0473 - val_mse: 0.0473\n",
      "Epoch 421/10000\n",
      "2/2 - 0s - loss: 0.0595 - mse: 0.0595 - val_loss: 0.0470 - val_mse: 0.0470\n",
      "Epoch 422/10000\n",
      "2/2 - 0s - loss: 0.0797 - mse: 0.0797 - val_loss: 0.0469 - val_mse: 0.0469\n",
      "Epoch 423/10000\n",
      "2/2 - 0s - loss: 0.0736 - mse: 0.0736 - val_loss: 0.0470 - val_mse: 0.0470\n",
      "Epoch 424/10000\n",
      "2/2 - 0s - loss: 0.0656 - mse: 0.0656 - val_loss: 0.0472 - val_mse: 0.0472\n",
      "Epoch 425/10000\n",
      "2/2 - 0s - loss: 0.0664 - mse: 0.0664 - val_loss: 0.0474 - val_mse: 0.0474\n",
      "Epoch 426/10000\n",
      "2/2 - 0s - loss: 0.0855 - mse: 0.0855 - val_loss: 0.0476 - val_mse: 0.0476\n",
      "Epoch 427/10000\n",
      "2/2 - 0s - loss: 0.0741 - mse: 0.0741 - val_loss: 0.0477 - val_mse: 0.0477\n",
      "Epoch 428/10000\n",
      "2/2 - 0s - loss: 0.0794 - mse: 0.0794 - val_loss: 0.0479 - val_mse: 0.0479\n",
      "Epoch 429/10000\n",
      "2/2 - 0s - loss: 0.0658 - mse: 0.0658 - val_loss: 0.0479 - val_mse: 0.0479\n",
      "Epoch 430/10000\n",
      "2/2 - 0s - loss: 0.0642 - mse: 0.0642 - val_loss: 0.0479 - val_mse: 0.0479\n",
      "Epoch 431/10000\n",
      "2/2 - 0s - loss: 0.0621 - mse: 0.0621 - val_loss: 0.0479 - val_mse: 0.0479\n",
      "Epoch 432/10000\n",
      "2/2 - 0s - loss: 0.0715 - mse: 0.0715 - val_loss: 0.0480 - val_mse: 0.0480\n",
      "Epoch 433/10000\n",
      "2/2 - 0s - loss: 0.0742 - mse: 0.0742 - val_loss: 0.0480 - val_mse: 0.0480\n",
      "Epoch 434/10000\n",
      "2/2 - 0s - loss: 0.0551 - mse: 0.0551 - val_loss: 0.0480 - val_mse: 0.0480\n",
      "Epoch 435/10000\n",
      "2/2 - 0s - loss: 0.0843 - mse: 0.0843 - val_loss: 0.0479 - val_mse: 0.0479\n",
      "Epoch 436/10000\n",
      "2/2 - 0s - loss: 0.0862 - mse: 0.0862 - val_loss: 0.0480 - val_mse: 0.0480\n",
      "Epoch 437/10000\n",
      "2/2 - 0s - loss: 0.0747 - mse: 0.0747 - val_loss: 0.0484 - val_mse: 0.0484\n",
      "Epoch 438/10000\n",
      "2/2 - 0s - loss: 0.0884 - mse: 0.0884 - val_loss: 0.0486 - val_mse: 0.0486\n",
      "Epoch 439/10000\n",
      "2/2 - 0s - loss: 0.0789 - mse: 0.0789 - val_loss: 0.0489 - val_mse: 0.0489\n",
      "Epoch 440/10000\n",
      "2/2 - 0s - loss: 0.0677 - mse: 0.0677 - val_loss: 0.0489 - val_mse: 0.0489\n",
      "Epoch 441/10000\n",
      "2/2 - 0s - loss: 0.0667 - mse: 0.0667 - val_loss: 0.0492 - val_mse: 0.0492\n",
      "Epoch 442/10000\n",
      "2/2 - 0s - loss: 0.0918 - mse: 0.0918 - val_loss: 0.0489 - val_mse: 0.0489\n",
      "Epoch 443/10000\n",
      "2/2 - 0s - loss: 0.0769 - mse: 0.0769 - val_loss: 0.0485 - val_mse: 0.0485\n",
      "Epoch 444/10000\n",
      "2/2 - 0s - loss: 0.0887 - mse: 0.0887 - val_loss: 0.0481 - val_mse: 0.0481\n",
      "Epoch 445/10000\n",
      "2/2 - 0s - loss: 0.0592 - mse: 0.0592 - val_loss: 0.0475 - val_mse: 0.0475\n",
      "Epoch 446/10000\n",
      "2/2 - 0s - loss: 0.0700 - mse: 0.0700 - val_loss: 0.0469 - val_mse: 0.0469\n",
      "Epoch 447/10000\n",
      "2/2 - 0s - loss: 0.0524 - mse: 0.0524 - val_loss: 0.0462 - val_mse: 0.0462\n",
      "Epoch 448/10000\n",
      "2/2 - 0s - loss: 0.0682 - mse: 0.0682 - val_loss: 0.0458 - val_mse: 0.0458\n",
      "Epoch 449/10000\n",
      "2/2 - 0s - loss: 0.0615 - mse: 0.0615 - val_loss: 0.0456 - val_mse: 0.0456\n",
      "Epoch 450/10000\n",
      "2/2 - 0s - loss: 0.0672 - mse: 0.0672 - val_loss: 0.0454 - val_mse: 0.0454\n",
      "Epoch 451/10000\n",
      "2/2 - 0s - loss: 0.0751 - mse: 0.0751 - val_loss: 0.0454 - val_mse: 0.0454\n",
      "Epoch 452/10000\n",
      "2/2 - 0s - loss: 0.0814 - mse: 0.0814 - val_loss: 0.0453 - val_mse: 0.0453\n",
      "Epoch 453/10000\n",
      "2/2 - 0s - loss: 0.0556 - mse: 0.0556 - val_loss: 0.0450 - val_mse: 0.0450\n"
     ]
    },
    {
     "name": "stdout",
     "output_type": "stream",
     "text": [
      "Epoch 454/10000\n",
      "2/2 - 0s - loss: 0.0700 - mse: 0.0700 - val_loss: 0.0447 - val_mse: 0.0447\n",
      "Epoch 455/10000\n",
      "2/2 - 0s - loss: 0.0526 - mse: 0.0526 - val_loss: 0.0445 - val_mse: 0.0445\n",
      "Epoch 456/10000\n",
      "2/2 - 0s - loss: 0.0781 - mse: 0.0781 - val_loss: 0.0443 - val_mse: 0.0443\n",
      "Epoch 457/10000\n",
      "2/2 - 0s - loss: 0.0698 - mse: 0.0698 - val_loss: 0.0443 - val_mse: 0.0443\n",
      "Epoch 458/10000\n",
      "2/2 - 0s - loss: 0.0707 - mse: 0.0707 - val_loss: 0.0443 - val_mse: 0.0443\n",
      "Epoch 459/10000\n",
      "2/2 - 0s - loss: 0.0772 - mse: 0.0772 - val_loss: 0.0446 - val_mse: 0.0446\n",
      "Epoch 460/10000\n",
      "2/2 - 0s - loss: 0.0787 - mse: 0.0787 - val_loss: 0.0451 - val_mse: 0.0451\n",
      "Epoch 461/10000\n",
      "2/2 - 0s - loss: 0.0726 - mse: 0.0726 - val_loss: 0.0458 - val_mse: 0.0458\n",
      "Epoch 462/10000\n",
      "2/2 - 0s - loss: 0.0678 - mse: 0.0678 - val_loss: 0.0465 - val_mse: 0.0465\n",
      "Epoch 463/10000\n",
      "2/2 - 0s - loss: 0.0697 - mse: 0.0697 - val_loss: 0.0471 - val_mse: 0.0471\n",
      "Epoch 464/10000\n",
      "2/2 - 0s - loss: 0.1542 - mse: 0.1542 - val_loss: 0.0472 - val_mse: 0.0472\n",
      "Epoch 465/10000\n",
      "2/2 - 0s - loss: 0.0596 - mse: 0.0596 - val_loss: 0.0474 - val_mse: 0.0474\n",
      "Epoch 466/10000\n",
      "2/2 - 0s - loss: 0.0560 - mse: 0.0560 - val_loss: 0.0475 - val_mse: 0.0475\n",
      "Epoch 467/10000\n",
      "2/2 - 0s - loss: 0.0673 - mse: 0.0673 - val_loss: 0.0476 - val_mse: 0.0476\n",
      "Epoch 468/10000\n",
      "2/2 - 0s - loss: 0.0730 - mse: 0.0730 - val_loss: 0.0477 - val_mse: 0.0477\n",
      "Epoch 469/10000\n",
      "2/2 - 0s - loss: 0.0733 - mse: 0.0733 - val_loss: 0.0478 - val_mse: 0.0478\n",
      "Epoch 470/10000\n",
      "2/2 - 0s - loss: 0.0722 - mse: 0.0722 - val_loss: 0.0481 - val_mse: 0.0481\n",
      "Epoch 471/10000\n",
      "2/2 - 0s - loss: 0.0753 - mse: 0.0753 - val_loss: 0.0484 - val_mse: 0.0484\n",
      "Epoch 472/10000\n",
      "2/2 - 0s - loss: 0.0758 - mse: 0.0758 - val_loss: 0.0486 - val_mse: 0.0486\n",
      "Epoch 473/10000\n",
      "2/2 - 0s - loss: 0.0678 - mse: 0.0678 - val_loss: 0.0490 - val_mse: 0.0490\n",
      "Epoch 474/10000\n",
      "2/2 - 0s - loss: 0.0877 - mse: 0.0877 - val_loss: 0.0495 - val_mse: 0.0495\n",
      "Epoch 475/10000\n",
      "2/2 - 0s - loss: 0.0708 - mse: 0.0708 - val_loss: 0.0502 - val_mse: 0.0502\n",
      "Epoch 476/10000\n",
      "2/2 - 0s - loss: 0.0594 - mse: 0.0594 - val_loss: 0.0518 - val_mse: 0.0518\n",
      "Epoch 477/10000\n",
      "2/2 - 0s - loss: 0.0567 - mse: 0.0567 - val_loss: 0.0542 - val_mse: 0.0542\n",
      "Epoch 478/10000\n",
      "2/2 - 0s - loss: 0.0662 - mse: 0.0662 - val_loss: 0.0562 - val_mse: 0.0562\n",
      "Epoch 479/10000\n",
      "2/2 - 0s - loss: 0.0601 - mse: 0.0601 - val_loss: 0.0568 - val_mse: 0.0568\n",
      "Epoch 480/10000\n",
      "2/2 - 0s - loss: 0.0855 - mse: 0.0855 - val_loss: 0.0556 - val_mse: 0.0556\n",
      "Epoch 481/10000\n",
      "2/2 - 0s - loss: 0.0663 - mse: 0.0663 - val_loss: 0.0554 - val_mse: 0.0554\n",
      "Epoch 482/10000\n",
      "2/2 - 0s - loss: 0.0573 - mse: 0.0573 - val_loss: 0.0557 - val_mse: 0.0557\n",
      "Epoch 483/10000\n",
      "2/2 - 0s - loss: 0.0568 - mse: 0.0568 - val_loss: 0.0554 - val_mse: 0.0554\n",
      "Epoch 484/10000\n",
      "2/2 - 0s - loss: 0.0686 - mse: 0.0686 - val_loss: 0.0539 - val_mse: 0.0539\n",
      "Epoch 485/10000\n",
      "2/2 - 0s - loss: 0.0748 - mse: 0.0748 - val_loss: 0.0529 - val_mse: 0.0529\n",
      "Epoch 486/10000\n",
      "2/2 - 0s - loss: 0.0512 - mse: 0.0512 - val_loss: 0.0526 - val_mse: 0.0526\n",
      "Epoch 487/10000\n",
      "2/2 - 0s - loss: 0.0628 - mse: 0.0628 - val_loss: 0.0527 - val_mse: 0.0527\n",
      "Epoch 488/10000\n",
      "2/2 - 0s - loss: 0.0807 - mse: 0.0807 - val_loss: 0.0533 - val_mse: 0.0533\n",
      "Epoch 489/10000\n",
      "2/2 - 0s - loss: 0.1402 - mse: 0.1402 - val_loss: 0.0537 - val_mse: 0.0537\n",
      "Epoch 490/10000\n",
      "2/2 - 0s - loss: 0.0533 - mse: 0.0533 - val_loss: 0.0543 - val_mse: 0.0543\n",
      "Epoch 491/10000\n",
      "2/2 - 0s - loss: 0.0645 - mse: 0.0645 - val_loss: 0.0548 - val_mse: 0.0548\n",
      "Epoch 492/10000\n",
      "2/2 - 0s - loss: 0.0626 - mse: 0.0626 - val_loss: 0.0556 - val_mse: 0.0556\n",
      "Epoch 493/10000\n",
      "2/2 - 0s - loss: 0.0730 - mse: 0.0730 - val_loss: 0.0568 - val_mse: 0.0568\n",
      "Epoch 494/10000\n",
      "2/2 - 0s - loss: 0.0646 - mse: 0.0646 - val_loss: 0.0577 - val_mse: 0.0577\n",
      "Epoch 495/10000\n",
      "2/2 - 0s - loss: 0.0617 - mse: 0.0617 - val_loss: 0.0585 - val_mse: 0.0585\n",
      "Epoch 496/10000\n",
      "2/2 - 0s - loss: 0.0740 - mse: 0.0740 - val_loss: 0.0593 - val_mse: 0.0593\n",
      "Epoch 497/10000\n",
      "2/2 - 0s - loss: 0.0646 - mse: 0.0646 - val_loss: 0.0601 - val_mse: 0.0601\n",
      "Epoch 498/10000\n",
      "2/2 - 0s - loss: 0.0724 - mse: 0.0724 - val_loss: 0.0604 - val_mse: 0.0604\n",
      "Epoch 499/10000\n",
      "2/2 - 0s - loss: 0.0585 - mse: 0.0585 - val_loss: 0.0605 - val_mse: 0.0605\n",
      "Epoch 500/10000\n",
      "2/2 - 0s - loss: 0.0637 - mse: 0.0637 - val_loss: 0.0604 - val_mse: 0.0604\n",
      "Epoch 501/10000\n",
      "2/2 - 0s - loss: 0.0536 - mse: 0.0536 - val_loss: 0.0603 - val_mse: 0.0603\n",
      "Epoch 502/10000\n",
      "2/2 - 0s - loss: 0.0613 - mse: 0.0613 - val_loss: 0.0599 - val_mse: 0.0599\n",
      "Epoch 503/10000\n",
      "2/2 - 0s - loss: 0.0709 - mse: 0.0709 - val_loss: 0.0591 - val_mse: 0.0591\n",
      "Epoch 504/10000\n",
      "2/2 - 0s - loss: 0.1147 - mse: 0.1147 - val_loss: 0.0584 - val_mse: 0.0584\n",
      "Epoch 505/10000\n",
      "2/2 - 0s - loss: 0.0549 - mse: 0.0549 - val_loss: 0.0580 - val_mse: 0.0580\n",
      "Epoch 506/10000\n",
      "2/2 - 0s - loss: 0.0760 - mse: 0.0760 - val_loss: 0.0578 - val_mse: 0.0578\n",
      "Epoch 507/10000\n",
      "2/2 - 0s - loss: 0.0588 - mse: 0.0588 - val_loss: 0.0577 - val_mse: 0.0577\n",
      "Epoch 508/10000\n",
      "2/2 - 0s - loss: 0.0551 - mse: 0.0551 - val_loss: 0.0577 - val_mse: 0.0577\n",
      "Epoch 509/10000\n",
      "2/2 - 0s - loss: 0.0834 - mse: 0.0834 - val_loss: 0.0577 - val_mse: 0.0577\n",
      "Epoch 510/10000\n",
      "2/2 - 0s - loss: 0.0679 - mse: 0.0679 - val_loss: 0.0577 - val_mse: 0.0577\n",
      "Epoch 511/10000\n",
      "2/2 - 0s - loss: 0.0571 - mse: 0.0571 - val_loss: 0.0577 - val_mse: 0.0577\n",
      "Epoch 512/10000\n",
      "2/2 - 0s - loss: 0.0730 - mse: 0.0730 - val_loss: 0.0577 - val_mse: 0.0577\n",
      "Epoch 513/10000\n",
      "2/2 - 0s - loss: 0.0585 - mse: 0.0585 - val_loss: 0.0578 - val_mse: 0.0578\n",
      "Epoch 514/10000\n",
      "2/2 - 0s - loss: 0.0521 - mse: 0.0521 - val_loss: 0.0578 - val_mse: 0.0578\n",
      "Epoch 515/10000\n",
      "2/2 - 0s - loss: 0.0649 - mse: 0.0649 - val_loss: 0.0580 - val_mse: 0.0580\n",
      "Epoch 516/10000\n",
      "2/2 - 0s - loss: 0.0658 - mse: 0.0658 - val_loss: 0.0582 - val_mse: 0.0582\n",
      "Epoch 517/10000\n",
      "2/2 - 0s - loss: 0.0628 - mse: 0.0628 - val_loss: 0.0586 - val_mse: 0.0586\n",
      "Epoch 518/10000\n",
      "2/2 - 0s - loss: 0.0654 - mse: 0.0654 - val_loss: 0.0586 - val_mse: 0.0586\n",
      "Epoch 519/10000\n",
      "2/2 - 0s - loss: 0.0549 - mse: 0.0549 - val_loss: 0.0585 - val_mse: 0.0585\n",
      "Epoch 520/10000\n",
      "2/2 - 0s - loss: 0.0587 - mse: 0.0587 - val_loss: 0.0577 - val_mse: 0.0577\n",
      "Epoch 521/10000\n",
      "2/2 - 0s - loss: 0.0583 - mse: 0.0583 - val_loss: 0.0563 - val_mse: 0.0563\n",
      "Epoch 522/10000\n",
      "2/2 - 0s - loss: 0.0561 - mse: 0.0561 - val_loss: 0.0552 - val_mse: 0.0552\n",
      "Epoch 523/10000\n",
      "2/2 - 0s - loss: 0.0577 - mse: 0.0577 - val_loss: 0.0545 - val_mse: 0.0545\n",
      "Epoch 524/10000\n",
      "2/2 - 0s - loss: 0.0667 - mse: 0.0667 - val_loss: 0.0540 - val_mse: 0.0540\n",
      "Epoch 525/10000\n",
      "2/2 - 0s - loss: 0.0806 - mse: 0.0806 - val_loss: 0.0536 - val_mse: 0.0536\n",
      "Epoch 526/10000\n",
      "2/2 - 0s - loss: 0.0647 - mse: 0.0647 - val_loss: 0.0525 - val_mse: 0.0525\n",
      "Epoch 527/10000\n",
      "2/2 - 0s - loss: 0.0622 - mse: 0.0622 - val_loss: 0.0511 - val_mse: 0.0511\n",
      "Epoch 528/10000\n",
      "2/2 - 0s - loss: 0.0664 - mse: 0.0664 - val_loss: 0.0503 - val_mse: 0.0503\n",
      "Epoch 529/10000\n",
      "2/2 - 0s - loss: 0.0620 - mse: 0.0620 - val_loss: 0.0504 - val_mse: 0.0504\n",
      "Epoch 530/10000\n",
      "2/2 - 0s - loss: 0.0713 - mse: 0.0713 - val_loss: 0.0512 - val_mse: 0.0512\n",
      "Epoch 531/10000\n",
      "2/2 - 0s - loss: 0.0596 - mse: 0.0596 - val_loss: 0.0525 - val_mse: 0.0525\n",
      "Epoch 532/10000\n",
      "2/2 - 0s - loss: 0.0717 - mse: 0.0717 - val_loss: 0.0539 - val_mse: 0.0539\n",
      "Epoch 533/10000\n",
      "2/2 - 0s - loss: 0.0607 - mse: 0.0607 - val_loss: 0.0552 - val_mse: 0.0552\n",
      "Epoch 534/10000\n",
      "2/2 - 0s - loss: 0.0536 - mse: 0.0536 - val_loss: 0.0558 - val_mse: 0.0558\n",
      "Epoch 535/10000\n",
      "2/2 - 0s - loss: 0.0681 - mse: 0.0681 - val_loss: 0.0550 - val_mse: 0.0550\n",
      "Epoch 536/10000\n",
      "2/2 - 0s - loss: 0.0597 - mse: 0.0597 - val_loss: 0.0539 - val_mse: 0.0539\n",
      "Epoch 537/10000\n",
      "2/2 - 0s - loss: 0.1285 - mse: 0.1285 - val_loss: 0.0528 - val_mse: 0.0528\n",
      "Epoch 538/10000\n",
      "2/2 - 0s - loss: 0.0547 - mse: 0.0547 - val_loss: 0.0517 - val_mse: 0.0517\n",
      "Epoch 539/10000\n",
      "2/2 - 0s - loss: 0.0714 - mse: 0.0714 - val_loss: 0.0510 - val_mse: 0.0510\n",
      "Epoch 540/10000\n",
      "2/2 - 0s - loss: 0.0511 - mse: 0.0511 - val_loss: 0.0506 - val_mse: 0.0506\n",
      "Epoch 541/10000\n",
      "2/2 - 0s - loss: 0.0476 - mse: 0.0476 - val_loss: 0.0504 - val_mse: 0.0504\n",
      "Epoch 542/10000\n",
      "2/2 - 0s - loss: 0.0606 - mse: 0.0606 - val_loss: 0.0502 - val_mse: 0.0502\n",
      "Epoch 543/10000\n",
      "2/2 - 0s - loss: 0.0583 - mse: 0.0583 - val_loss: 0.0503 - val_mse: 0.0503\n",
      "Epoch 544/10000\n"
     ]
    },
    {
     "name": "stdout",
     "output_type": "stream",
     "text": [
      "2/2 - 0s - loss: 0.0556 - mse: 0.0556 - val_loss: 0.0509 - val_mse: 0.0509\n",
      "Epoch 545/10000\n",
      "2/2 - 0s - loss: 0.0702 - mse: 0.0702 - val_loss: 0.0519 - val_mse: 0.0519\n",
      "Epoch 546/10000\n",
      "2/2 - 0s - loss: 0.0528 - mse: 0.0528 - val_loss: 0.0535 - val_mse: 0.0535\n",
      "Epoch 547/10000\n",
      "2/2 - 0s - loss: 0.0608 - mse: 0.0608 - val_loss: 0.0549 - val_mse: 0.0549\n",
      "Epoch 548/10000\n",
      "2/2 - 0s - loss: 0.0526 - mse: 0.0526 - val_loss: 0.0555 - val_mse: 0.0555\n",
      "Epoch 549/10000\n",
      "2/2 - 0s - loss: 0.0638 - mse: 0.0638 - val_loss: 0.0554 - val_mse: 0.0554\n",
      "Epoch 550/10000\n",
      "2/2 - 0s - loss: 0.0634 - mse: 0.0634 - val_loss: 0.0552 - val_mse: 0.0552\n",
      "Epoch 551/10000\n",
      "2/2 - 0s - loss: 0.0521 - mse: 0.0521 - val_loss: 0.0546 - val_mse: 0.0546\n",
      "Epoch 552/10000\n",
      "2/2 - 0s - loss: 0.0588 - mse: 0.0588 - val_loss: 0.0539 - val_mse: 0.0539\n",
      "Epoch 553/10000\n",
      "2/2 - 0s - loss: 0.0565 - mse: 0.0565 - val_loss: 0.0535 - val_mse: 0.0535\n",
      "Epoch 554/10000\n",
      "2/2 - 0s - loss: 0.0598 - mse: 0.0598 - val_loss: 0.0537 - val_mse: 0.0537\n",
      "Epoch 555/10000\n",
      "2/2 - 0s - loss: 0.0567 - mse: 0.0567 - val_loss: 0.0539 - val_mse: 0.0539\n",
      "Epoch 556/10000\n",
      "2/2 - 0s - loss: 0.0705 - mse: 0.0705 - val_loss: 0.0541 - val_mse: 0.0541\n",
      "Epoch 557/10000\n",
      "2/2 - 0s - loss: 0.0616 - mse: 0.0616 - val_loss: 0.0546 - val_mse: 0.0546\n",
      "Epoch 558/10000\n",
      "2/2 - 0s - loss: 0.0717 - mse: 0.0717 - val_loss: 0.0552 - val_mse: 0.0552\n",
      "Epoch 559/10000\n",
      "2/2 - 0s - loss: 0.0734 - mse: 0.0734 - val_loss: 0.0560 - val_mse: 0.0560\n",
      "Epoch 560/10000\n",
      "2/2 - 0s - loss: 0.0605 - mse: 0.0605 - val_loss: 0.0569 - val_mse: 0.0569\n",
      "Epoch 561/10000\n",
      "2/2 - 0s - loss: 0.0652 - mse: 0.0652 - val_loss: 0.0580 - val_mse: 0.0580\n",
      "Epoch 562/10000\n",
      "2/2 - 0s - loss: 0.0569 - mse: 0.0569 - val_loss: 0.0589 - val_mse: 0.0589\n",
      "Epoch 563/10000\n",
      "2/2 - 0s - loss: 0.0756 - mse: 0.0756 - val_loss: 0.0600 - val_mse: 0.0600\n",
      "Epoch 564/10000\n",
      "2/2 - 0s - loss: 0.0577 - mse: 0.0577 - val_loss: 0.0607 - val_mse: 0.0607\n",
      "Epoch 565/10000\n",
      "2/2 - 0s - loss: 0.0544 - mse: 0.0544 - val_loss: 0.0613 - val_mse: 0.0613\n",
      "Epoch 566/10000\n",
      "2/2 - 0s - loss: 0.0480 - mse: 0.0480 - val_loss: 0.0615 - val_mse: 0.0615\n",
      "Epoch 567/10000\n",
      "2/2 - 0s - loss: 0.0570 - mse: 0.0570 - val_loss: 0.0615 - val_mse: 0.0615\n",
      "Epoch 568/10000\n",
      "2/2 - 0s - loss: 0.0507 - mse: 0.0507 - val_loss: 0.0615 - val_mse: 0.0615\n",
      "Epoch 569/10000\n",
      "2/2 - 0s - loss: 0.0495 - mse: 0.0495 - val_loss: 0.0614 - val_mse: 0.0614\n",
      "Epoch 570/10000\n",
      "2/2 - 0s - loss: 0.0530 - mse: 0.0530 - val_loss: 0.0611 - val_mse: 0.0611\n",
      "Epoch 571/10000\n",
      "2/2 - 0s - loss: 0.0616 - mse: 0.0616 - val_loss: 0.0608 - val_mse: 0.0608\n",
      "Epoch 572/10000\n",
      "2/2 - 0s - loss: 0.0528 - mse: 0.0528 - val_loss: 0.0606 - val_mse: 0.0606\n",
      "Epoch 573/10000\n",
      "2/2 - 0s - loss: 0.0608 - mse: 0.0608 - val_loss: 0.0605 - val_mse: 0.0605\n",
      "Epoch 574/10000\n",
      "2/2 - 0s - loss: 0.0509 - mse: 0.0509 - val_loss: 0.0605 - val_mse: 0.0605\n",
      "Epoch 575/10000\n",
      "2/2 - 0s - loss: 0.0619 - mse: 0.0619 - val_loss: 0.0606 - val_mse: 0.0606\n",
      "Epoch 576/10000\n",
      "2/2 - 0s - loss: 0.0545 - mse: 0.0545 - val_loss: 0.0609 - val_mse: 0.0609\n",
      "Epoch 577/10000\n",
      "2/2 - 0s - loss: 0.0589 - mse: 0.0589 - val_loss: 0.0615 - val_mse: 0.0615\n",
      "Epoch 578/10000\n",
      "2/2 - 0s - loss: 0.0531 - mse: 0.0531 - val_loss: 0.0621 - val_mse: 0.0621\n",
      "Epoch 579/10000\n",
      "2/2 - 0s - loss: 0.0563 - mse: 0.0563 - val_loss: 0.0624 - val_mse: 0.0624\n",
      "Epoch 580/10000\n",
      "2/2 - 0s - loss: 0.0523 - mse: 0.0523 - val_loss: 0.0627 - val_mse: 0.0627\n",
      "Epoch 581/10000\n",
      "2/2 - 0s - loss: 0.0490 - mse: 0.0490 - val_loss: 0.0624 - val_mse: 0.0624\n",
      "Epoch 582/10000\n",
      "2/2 - 0s - loss: 0.0520 - mse: 0.0520 - val_loss: 0.0615 - val_mse: 0.0615\n",
      "Epoch 583/10000\n",
      "2/2 - 0s - loss: 0.0596 - mse: 0.0596 - val_loss: 0.0616 - val_mse: 0.0616\n",
      "Epoch 584/10000\n",
      "2/2 - 0s - loss: 0.0538 - mse: 0.0538 - val_loss: 0.0624 - val_mse: 0.0624\n",
      "Epoch 585/10000\n",
      "2/2 - 0s - loss: 0.0537 - mse: 0.0537 - val_loss: 0.0632 - val_mse: 0.0632\n",
      "Epoch 586/10000\n",
      "2/2 - 0s - loss: 0.0552 - mse: 0.0552 - val_loss: 0.0635 - val_mse: 0.0635\n",
      "Epoch 587/10000\n",
      "2/2 - 0s - loss: 0.0568 - mse: 0.0568 - val_loss: 0.0630 - val_mse: 0.0630\n",
      "Epoch 588/10000\n",
      "2/2 - 0s - loss: 0.0476 - mse: 0.0476 - val_loss: 0.0624 - val_mse: 0.0624\n",
      "Epoch 589/10000\n",
      "2/2 - 0s - loss: 0.0507 - mse: 0.0507 - val_loss: 0.0617 - val_mse: 0.0617\n",
      "Epoch 590/10000\n",
      "2/2 - 0s - loss: 0.0478 - mse: 0.0478 - val_loss: 0.0614 - val_mse: 0.0614\n",
      "Epoch 591/10000\n",
      "2/2 - 0s - loss: 0.0487 - mse: 0.0487 - val_loss: 0.0612 - val_mse: 0.0612\n",
      "Epoch 592/10000\n",
      "2/2 - 0s - loss: 0.0671 - mse: 0.0671 - val_loss: 0.0611 - val_mse: 0.0611\n",
      "Epoch 593/10000\n",
      "2/2 - 0s - loss: 0.0562 - mse: 0.0562 - val_loss: 0.0613 - val_mse: 0.0613\n",
      "Epoch 594/10000\n",
      "2/2 - 0s - loss: 0.0700 - mse: 0.0700 - val_loss: 0.0616 - val_mse: 0.0616\n",
      "Epoch 595/10000\n",
      "2/2 - 0s - loss: 0.0487 - mse: 0.0487 - val_loss: 0.0620 - val_mse: 0.0620\n",
      "Epoch 596/10000\n",
      "2/2 - 0s - loss: 0.0565 - mse: 0.0565 - val_loss: 0.0620 - val_mse: 0.0620\n",
      "Epoch 597/10000\n",
      "2/2 - 0s - loss: 0.0465 - mse: 0.0465 - val_loss: 0.0623 - val_mse: 0.0623\n",
      "Epoch 598/10000\n",
      "2/2 - 0s - loss: 0.0483 - mse: 0.0483 - val_loss: 0.0628 - val_mse: 0.0628\n",
      "Epoch 599/10000\n",
      "2/2 - 0s - loss: 0.0733 - mse: 0.0733 - val_loss: 0.0629 - val_mse: 0.0629\n",
      "Epoch 600/10000\n",
      "2/2 - 0s - loss: 0.0522 - mse: 0.0522 - val_loss: 0.0629 - val_mse: 0.0629\n",
      "Epoch 601/10000\n",
      "2/2 - 0s - loss: 0.0545 - mse: 0.0545 - val_loss: 0.0630 - val_mse: 0.0630\n",
      "Epoch 602/10000\n",
      "2/2 - 0s - loss: 0.0492 - mse: 0.0492 - val_loss: 0.0629 - val_mse: 0.0629\n",
      "Epoch 603/10000\n",
      "2/2 - 0s - loss: 0.0589 - mse: 0.0589 - val_loss: 0.0631 - val_mse: 0.0631\n",
      "Epoch 604/10000\n",
      "2/2 - 0s - loss: 0.0479 - mse: 0.0479 - val_loss: 0.0636 - val_mse: 0.0636\n",
      "Epoch 605/10000\n",
      "2/2 - 0s - loss: 0.0647 - mse: 0.0647 - val_loss: 0.0635 - val_mse: 0.0635\n",
      "Epoch 606/10000\n",
      "2/2 - 0s - loss: 0.0477 - mse: 0.0477 - val_loss: 0.0625 - val_mse: 0.0625\n",
      "Epoch 607/10000\n",
      "2/2 - 0s - loss: 0.0642 - mse: 0.0642 - val_loss: 0.0615 - val_mse: 0.0615\n",
      "Epoch 608/10000\n",
      "2/2 - 0s - loss: 0.0424 - mse: 0.0424 - val_loss: 0.0608 - val_mse: 0.0608\n",
      "Epoch 609/10000\n",
      "2/2 - 0s - loss: 0.0483 - mse: 0.0483 - val_loss: 0.0605 - val_mse: 0.0605\n",
      "Epoch 610/10000\n",
      "2/2 - 0s - loss: 0.0683 - mse: 0.0683 - val_loss: 0.0604 - val_mse: 0.0604\n",
      "Epoch 611/10000\n",
      "2/2 - 0s - loss: 0.0606 - mse: 0.0606 - val_loss: 0.0605 - val_mse: 0.0605\n",
      "Epoch 612/10000\n",
      "2/2 - 0s - loss: 0.0440 - mse: 0.0440 - val_loss: 0.0606 - val_mse: 0.0606\n",
      "Epoch 613/10000\n",
      "2/2 - 0s - loss: 0.0556 - mse: 0.0556 - val_loss: 0.0608 - val_mse: 0.0608\n",
      "Epoch 614/10000\n",
      "2/2 - 0s - loss: 0.0527 - mse: 0.0527 - val_loss: 0.0612 - val_mse: 0.0612\n",
      "Epoch 615/10000\n",
      "2/2 - 0s - loss: 0.0489 - mse: 0.0489 - val_loss: 0.0617 - val_mse: 0.0617\n",
      "Epoch 616/10000\n",
      "2/2 - 0s - loss: 0.0504 - mse: 0.0504 - val_loss: 0.0622 - val_mse: 0.0622\n",
      "Epoch 617/10000\n",
      "2/2 - 0s - loss: 0.0561 - mse: 0.0561 - val_loss: 0.0629 - val_mse: 0.0629\n",
      "Epoch 618/10000\n",
      "2/2 - 0s - loss: 0.0495 - mse: 0.0495 - val_loss: 0.0638 - val_mse: 0.0638\n",
      "Epoch 619/10000\n",
      "2/2 - 0s - loss: 0.0503 - mse: 0.0503 - val_loss: 0.0650 - val_mse: 0.0650\n",
      "Epoch 620/10000\n",
      "2/2 - 0s - loss: 0.0498 - mse: 0.0498 - val_loss: 0.0663 - val_mse: 0.0663\n",
      "Epoch 621/10000\n",
      "2/2 - 0s - loss: 0.0443 - mse: 0.0443 - val_loss: 0.0676 - val_mse: 0.0676\n",
      "Epoch 622/10000\n",
      "2/2 - 0s - loss: 0.0569 - mse: 0.0569 - val_loss: 0.0686 - val_mse: 0.0686\n",
      "Epoch 623/10000\n",
      "2/2 - 0s - loss: 0.0490 - mse: 0.0490 - val_loss: 0.0688 - val_mse: 0.0688\n",
      "Epoch 624/10000\n",
      "2/2 - 0s - loss: 0.0541 - mse: 0.0541 - val_loss: 0.0686 - val_mse: 0.0686\n",
      "Epoch 625/10000\n",
      "2/2 - 0s - loss: 0.0582 - mse: 0.0582 - val_loss: 0.0683 - val_mse: 0.0683\n",
      "Epoch 626/10000\n",
      "2/2 - 0s - loss: 0.0480 - mse: 0.0480 - val_loss: 0.0678 - val_mse: 0.0678\n",
      "Epoch 627/10000\n",
      "2/2 - 0s - loss: 0.0568 - mse: 0.0568 - val_loss: 0.0671 - val_mse: 0.0671\n",
      "Epoch 628/10000\n",
      "2/2 - 0s - loss: 0.0491 - mse: 0.0491 - val_loss: 0.0659 - val_mse: 0.0659\n",
      "Epoch 629/10000\n",
      "2/2 - 0s - loss: 0.0564 - mse: 0.0564 - val_loss: 0.0653 - val_mse: 0.0653\n",
      "Epoch 630/10000\n",
      "2/2 - 0s - loss: 0.0502 - mse: 0.0502 - val_loss: 0.0654 - val_mse: 0.0654\n",
      "Epoch 631/10000\n",
      "2/2 - 0s - loss: 0.0505 - mse: 0.0505 - val_loss: 0.0660 - val_mse: 0.0660\n",
      "Epoch 632/10000\n",
      "2/2 - 0s - loss: 0.0535 - mse: 0.0535 - val_loss: 0.0660 - val_mse: 0.0660\n",
      "Epoch 633/10000\n",
      "2/2 - 0s - loss: 0.0567 - mse: 0.0567 - val_loss: 0.0655 - val_mse: 0.0655\n",
      "Epoch 634/10000\n",
      "2/2 - 0s - loss: 0.0475 - mse: 0.0475 - val_loss: 0.0648 - val_mse: 0.0648\n"
     ]
    },
    {
     "name": "stdout",
     "output_type": "stream",
     "text": [
      "Epoch 635/10000\n",
      "2/2 - 0s - loss: 0.0419 - mse: 0.0419 - val_loss: 0.0643 - val_mse: 0.0643\n",
      "Epoch 636/10000\n",
      "2/2 - 0s - loss: 0.0529 - mse: 0.0529 - val_loss: 0.0640 - val_mse: 0.0640\n",
      "Epoch 637/10000\n",
      "2/2 - 0s - loss: 0.0527 - mse: 0.0527 - val_loss: 0.0634 - val_mse: 0.0634\n",
      "Epoch 638/10000\n",
      "2/2 - 0s - loss: 0.0405 - mse: 0.0405 - val_loss: 0.0627 - val_mse: 0.0627\n",
      "Epoch 639/10000\n",
      "2/2 - 0s - loss: 0.0508 - mse: 0.0508 - val_loss: 0.0623 - val_mse: 0.0623\n",
      "Epoch 640/10000\n",
      "2/2 - 0s - loss: 0.0557 - mse: 0.0557 - val_loss: 0.0622 - val_mse: 0.0622\n",
      "Epoch 641/10000\n",
      "2/2 - 0s - loss: 0.0545 - mse: 0.0545 - val_loss: 0.0621 - val_mse: 0.0621\n",
      "Epoch 642/10000\n",
      "2/2 - 0s - loss: 0.0579 - mse: 0.0579 - val_loss: 0.0623 - val_mse: 0.0623\n",
      "Epoch 643/10000\n",
      "2/2 - 0s - loss: 0.0531 - mse: 0.0531 - val_loss: 0.0625 - val_mse: 0.0625\n",
      "Epoch 644/10000\n",
      "2/2 - 0s - loss: 0.0576 - mse: 0.0576 - val_loss: 0.0628 - val_mse: 0.0628\n",
      "Epoch 645/10000\n",
      "2/2 - 0s - loss: 0.0448 - mse: 0.0448 - val_loss: 0.0629 - val_mse: 0.0629\n",
      "Epoch 646/10000\n",
      "2/2 - 0s - loss: 0.0582 - mse: 0.0582 - val_loss: 0.0625 - val_mse: 0.0625\n",
      "Epoch 647/10000\n",
      "2/2 - 0s - loss: 0.0544 - mse: 0.0544 - val_loss: 0.0617 - val_mse: 0.0617\n",
      "Epoch 648/10000\n",
      "2/2 - 0s - loss: 0.0587 - mse: 0.0587 - val_loss: 0.0610 - val_mse: 0.0610\n",
      "Epoch 649/10000\n",
      "2/2 - 0s - loss: 0.0384 - mse: 0.0384 - val_loss: 0.0603 - val_mse: 0.0603\n",
      "Epoch 650/10000\n",
      "2/2 - 0s - loss: 0.0596 - mse: 0.0596 - val_loss: 0.0606 - val_mse: 0.0606\n",
      "Epoch 651/10000\n",
      "2/2 - 0s - loss: 0.0426 - mse: 0.0426 - val_loss: 0.0614 - val_mse: 0.0614\n",
      "Epoch 652/10000\n",
      "2/2 - 0s - loss: 0.0552 - mse: 0.0552 - val_loss: 0.0621 - val_mse: 0.0621\n",
      "Epoch 653/10000\n",
      "2/2 - 0s - loss: 0.0521 - mse: 0.0521 - val_loss: 0.0626 - val_mse: 0.0626\n",
      "Epoch 654/10000\n",
      "2/2 - 0s - loss: 0.0582 - mse: 0.0582 - val_loss: 0.0629 - val_mse: 0.0629\n",
      "Epoch 655/10000\n",
      "2/2 - 0s - loss: 0.0450 - mse: 0.0450 - val_loss: 0.0631 - val_mse: 0.0631\n",
      "Epoch 656/10000\n",
      "2/2 - 0s - loss: 0.0443 - mse: 0.0443 - val_loss: 0.0636 - val_mse: 0.0636\n",
      "Epoch 657/10000\n",
      "2/2 - 0s - loss: 0.0487 - mse: 0.0487 - val_loss: 0.0643 - val_mse: 0.0643\n"
     ]
    }
   ],
   "source": [
    "EPOCHS = 10000\n",
    "history = model.fit(\n",
    "    train_ds_b, \n",
    "    validation_data=val_ds_b,  \n",
    "    epochs=EPOCHS,\n",
    "    callbacks=[callback],\n",
    "    verbose = 2\n",
    ")"
   ]
  },
  {
   "cell_type": "code",
   "execution_count": 467,
   "metadata": {},
   "outputs": [
    {
     "data": {
      "image/png": "[encoded data removed]",
      "text/plain": [
       "<Figure size 432x288 with 1 Axes>"
      ]
     },
     "metadata": {},
     "output_type": "display_data"
    }
   ],
   "source": [
    "metrics = history.history\n",
    "plt.plot(history.epoch, np.sqrt(metrics['mse']) * 30, np.sqrt(metrics['val_mse']) * 30)\n",
    "plt.legend(['rmse', 'val_rmse'])\n",
    "plt.show()"
   ]
  },
  {
   "cell_type": "code",
   "execution_count": 454,
   "metadata": {},
   "outputs": [
    {
     "name": "stdout",
     "output_type": "stream",
     "text": [
      "1/1 [==============================] - 0s 96ms/step - loss: 0.0443 - mse: 0.0443\n"
     ]
    },
    {
     "data": {
      "text/plain": [
       "array([6.31233895, 6.31233895])"
      ]
     },
     "execution_count": 454,
     "metadata": {},
     "output_type": "execute_result"
    }
   ],
   "source": [
    "np.sqrt(model.evaluate(val_ds.batch(batch_size))) * 30"
   ]
  },
  {
   "cell_type": "code",
   "execution_count": 455,
   "metadata": {},
   "outputs": [
    {
     "name": "stdout",
     "output_type": "stream",
     "text": [
      "1/1 [==============================] - 0s 95ms/step - loss: 0.0333 - mse: 0.0333\n"
     ]
    },
    {
     "data": {
      "text/plain": [
       "array([5.47284572, 5.47284572])"
      ]
     },
     "execution_count": 455,
     "metadata": {},
     "output_type": "execute_result"
    }
   ],
   "source": [
    "np.sqrt(model.evaluate(test_ds.batch(batch_size))) * 30"
   ]
  },
  {
   "cell_type": "code",
   "execution_count": 456,
   "metadata": {},
   "outputs": [
    {
     "data": {
      "text/plain": [
       "21.72100067138672"
      ]
     },
     "execution_count": 456,
     "metadata": {},
     "output_type": "execute_result"
    }
   ],
   "source": [
    "model.predict(get_data(train_files[0])[0]).mean() * 30"
   ]
  },
  {
   "cell_type": "code",
   "execution_count": 457,
   "metadata": {},
   "outputs": [
    {
     "data": {
      "text/plain": [
       "<tf.Tensor: shape=(), dtype=float64, numpy=0.8333333333333334>"
      ]
     },
     "execution_count": 457,
     "metadata": {},
     "output_type": "execute_result"
    }
   ],
   "source": [
    "get_data(train_files[0])[1]"
   ]
  },
  {
   "cell_type": "code",
   "execution_count": 458,
   "metadata": {},
   "outputs": [],
   "source": [
    "meta = meta.assign(split = '', predict = -99.99, predict_group = 'cc')\n",
    "for file in train_files:\n",
    "    ID = file.numpy().decode('utf-8').split('/')[-1].split('.')[0]\n",
    "    predict = model.predict(get_data(file)[0]).mean() * 30\n",
    "    meta.at[np.where(meta.ID == (ID + ' '))[0][0], 'predict'] = max(1, min(predict, 30))\n",
    "    meta.at[np.where(meta.ID == (ID + ' '))[0][0], 'split'] = 'train'\n",
    "    if (predict < 24):\n",
    "        meta.at[np.where(meta.ID == (ID + ' '))[0][0], 'predict_group'] = 'cd'\n",
    "for file in test_files:\n",
    "    ID = file.numpy().decode('utf-8').split('/')[-1].split('.')[0]\n",
    "    predict = model.predict(get_data(file)[0]).mean() * 30\n",
    "    meta.at[np.where(meta.ID == (ID + ' '))[0][0], 'predict'] = max(1, min(predict, 30))\n",
    "    meta.at[np.where(meta.ID == (ID + ' '))[0][0], 'split'] = 'test'\n",
    "    if (predict < 24):\n",
    "        meta.at[np.where(meta.ID == (ID + ' '))[0][0], 'predict_group'] = 'cd'\n",
    "for file in val_files:\n",
    "    ID = file.numpy().decode('utf-8').split('/')[-1].split('.')[0]\n",
    "    predict = model.predict(get_data(file)[0]).mean() * 30\n",
    "    meta.at[np.where(meta.ID == (ID + ' '))[0][0], 'predict'] = max(1, min(predict, 30))\n",
    "    meta.at[np.where(meta.ID == (ID + ' '))[0][0], 'split'] = 'val'\n",
    "    if (predict < 24):\n",
    "        meta.at[np.where(meta.ID == (ID + ' '))[0][0], 'predict_group'] = 'cd'"
   ]
  },
  {
   "cell_type": "code",
   "execution_count": 459,
   "metadata": {},
   "outputs": [
    {
     "data": {
      "text/plain": [
       "count    108.000000\n",
       "mean      21.891159\n",
       "std        1.360370\n",
       "min       17.477626\n",
       "25%       21.696025\n",
       "50%       22.002001\n",
       "75%       22.077500\n",
       "max       28.506660\n",
       "Name: predict, dtype: float64"
      ]
     },
     "execution_count": 459,
     "metadata": {},
     "output_type": "execute_result"
    }
   ],
   "source": [
    "meta.predict.describe()"
   ]
  },
  {
   "cell_type": "code",
   "execution_count": 460,
   "metadata": {},
   "outputs": [
    {
     "data": {
      "text/html": [
       "<div>\n",
       "<style scoped>\n",
       "    .dataframe tbody tr th:only-of-type {\n",
       "        vertical-align: middle;\n",
       "    }\n",
       "\n",
       "    .dataframe tbody tr th {\n",
       "        vertical-align: top;\n",
       "    }\n",
       "\n",
       "    .dataframe thead th {\n",
       "        text-align: right;\n",
       "    }\n",
       "</style>\n",
       "<table border=\"1\" class=\"dataframe\">\n",
       "  <thead>\n",
       "    <tr style=\"text-align: right;\">\n",
       "      <th></th>\n",
       "      <th>split</th>\n",
       "      <th>rmse</th>\n",
       "    </tr>\n",
       "  </thead>\n",
       "  <tbody>\n",
       "    <tr>\n",
       "      <th>0</th>\n",
       "      <td>test</td>\n",
       "      <td>6.316230</td>\n",
       "    </tr>\n",
       "    <tr>\n",
       "      <th>1</th>\n",
       "      <td>train</td>\n",
       "      <td>7.166761</td>\n",
       "    </tr>\n",
       "    <tr>\n",
       "      <th>2</th>\n",
       "      <td>val</td>\n",
       "      <td>7.098822</td>\n",
       "    </tr>\n",
       "  </tbody>\n",
       "</table>\n",
       "</div>"
      ],
      "text/plain": [
       "   split      rmse\n",
       "0   test  6.316230\n",
       "1  train  7.166761\n",
       "2    val  7.098822"
      ]
     },
     "execution_count": 460,
     "metadata": {},
     "output_type": "execute_result"
    }
   ],
   "source": [
    "from sklearn.metrics import confusion_matrix, mean_squared_error, classification_report\n",
    "def cal_rmse(g):\n",
    "    rmse = np.sqrt(mean_squared_error(g['MMSE'], g['predict'] ) )\n",
    "    return pd.Series(dict(rmse = rmse ))\n",
    "\n",
    "meta.groupby('split').apply(cal_rmse).reset_index()"
   ]
  },
  {
   "cell_type": "code",
   "execution_count": 461,
   "metadata": {
    "scrolled": true
   },
   "outputs": [
    {
     "data": {
      "text/html": [
       "<div>\n",
       "<style scoped>\n",
       "    .dataframe tbody tr th:only-of-type {\n",
       "        vertical-align: middle;\n",
       "    }\n",
       "\n",
       "    .dataframe tbody tr th {\n",
       "        vertical-align: top;\n",
       "    }\n",
       "\n",
       "    .dataframe thead th {\n",
       "        text-align: right;\n",
       "    }\n",
       "</style>\n",
       "<table border=\"1\" class=\"dataframe\">\n",
       "  <thead>\n",
       "    <tr style=\"text-align: right;\">\n",
       "      <th></th>\n",
       "      <th>Gender</th>\n",
       "      <th>rmse</th>\n",
       "    </tr>\n",
       "  </thead>\n",
       "  <tbody>\n",
       "    <tr>\n",
       "      <th>0</th>\n",
       "      <td>female</td>\n",
       "      <td>7.163739</td>\n",
       "    </tr>\n",
       "    <tr>\n",
       "      <th>1</th>\n",
       "      <td>male</td>\n",
       "      <td>6.857991</td>\n",
       "    </tr>\n",
       "  </tbody>\n",
       "</table>\n",
       "</div>"
      ],
      "text/plain": [
       "     Gender      rmse\n",
       "0   female   7.163739\n",
       "1     male   6.857991"
      ]
     },
     "execution_count": 461,
     "metadata": {},
     "output_type": "execute_result"
    }
   ],
   "source": [
    "meta.groupby('Gender').apply(cal_rmse).reset_index()"
   ]
  },
  {
   "cell_type": "code",
   "execution_count": 462,
   "metadata": {},
   "outputs": [
    {
     "data": {
      "text/plain": [
       "7.029493057427161"
      ]
     },
     "execution_count": 462,
     "metadata": {},
     "output_type": "execute_result"
    }
   ],
   "source": [
    "np.sqrt(mean_squared_error(meta['MMSE'], meta['predict'] ))"
   ]
  },
  {
   "cell_type": "code",
   "execution_count": 463,
   "metadata": {},
   "outputs": [
    {
     "data": {
      "text/plain": [
       "count    108.000000\n",
       "mean      23.092593\n",
       "std        7.215685\n",
       "min        1.000000\n",
       "25%       17.000000\n",
       "50%       27.000000\n",
       "75%       29.000000\n",
       "max       30.000000\n",
       "Name: MMSE, dtype: float64"
      ]
     },
     "execution_count": 463,
     "metadata": {},
     "output_type": "execute_result"
    }
   ],
   "source": [
    "meta.MMSE.describe()"
   ]
  },
  {
   "cell_type": "code",
   "execution_count": 464,
   "metadata": {},
   "outputs": [
    {
     "data": {
      "image/png": "[encoded data removed]",
      "text/plain": [
       "<Figure size 1500x800 with 3 Axes>"
      ]
     },
     "metadata": {},
     "output_type": "display_data"
    },
    {
     "data": {
      "text/plain": [
       "<ggplot: (8780854582213)>"
      ]
     },
     "execution_count": 464,
     "metadata": {},
     "output_type": "execute_result"
    }
   ],
   "source": [
    "ggplot(meta) + \\\n",
    "geom_point(aes(x = 'MMSE', y = 'predict', colour = 'split')) + \\\n",
    "facet_wrap('split', nrow = 1) + \\\n",
    "geom_abline(aes(intercept = 0, slope = 1, lty = 2)) + \\\n",
    "geom_hline(aes(yintercept = 24, lty = 2)) + \\\n",
    "geom_vline(aes(xintercept = 24, lty = 2)) + \\\n",
    "theme(figure_size = (15, 8))"
   ]
  },
  {
   "cell_type": "code",
   "execution_count": 465,
   "metadata": {},
   "outputs": [
    {
     "data": {
      "text/plain": [
       "<matplotlib.axes._subplots.AxesSubplot at 0x7fc8045cccc0>"
      ]
     },
     "execution_count": 465,
     "metadata": {},
     "output_type": "execute_result"
    },
    {
     "data": {
      "image/png": "[encoded data removed]",
      "text/plain": [
       "<Figure size 720x504 with 2 Axes>"
      ]
     },
     "metadata": {},
     "output_type": "display_data"
    }
   ],
   "source": [
    "y_true = meta.Group\n",
    "y_pred = meta.predict_group\n",
    "data = confusion_matrix(y_true, y_pred)\n",
    "df_cm = pd.DataFrame(data, columns=np.unique(y_true), index = np.unique(y_true))\n",
    "df_cm.index.name = 'Actual'\n",
    "df_cm.columns.name = 'Predicted'\n",
    "plt.figure(figsize = (10,7))\n",
    "sn.set(font_scale=1.4)#for label size\n",
    "sn.heatmap(df_cm, cmap=\"Reds\", annot=True,annot_kws={\"size\": 16})# font size"
   ]
  },
  {
   "cell_type": "code",
   "execution_count": 466,
   "metadata": {},
   "outputs": [
    {
     "name": "stdout",
     "output_type": "stream",
     "text": [
      "              precision    recall  f1-score   support\n",
      "\n",
      "          cc       0.60      0.06      0.10        54\n",
      "          cd       0.50      0.96      0.66        54\n",
      "\n",
      "    accuracy                           0.51       108\n",
      "   macro avg       0.55      0.51      0.38       108\n",
      "weighted avg       0.55      0.51      0.38       108\n",
      "\n"
     ]
    }
   ],
   "source": [
    "print(classification_report(y_true, y_pred))"
   ]
  },
  {
   "cell_type": "code",
   "execution_count": 30,
   "metadata": {},
   "outputs": [
    {
     "name": "stdout",
     "output_type": "stream",
     "text": [
      "INFO:tensorflow:Assets written to: saved_model/base_line/20210222/assets\n"
     ]
    }
   ],
   "source": [
    "# model.save('saved_model/base_line/20210222')"
   ]
  },
  {
   "cell_type": "code",
   "execution_count": 29,
   "metadata": {},
   "outputs": [
    {
     "name": "stdout",
     "output_type": "stream",
     "text": [
      "\u001b[0m\u001b[34;42m20210210\u001b[0m/  \u001b[34;42m20210217\u001b[0m/  \u001b[01;34m20210222\u001b[0m/\r\n"
     ]
    }
   ],
   "source": [
    "ls saved_model/base_line"
   ]
  },
  {
   "cell_type": "markdown",
   "metadata": {},
   "source": [
    "# Pitts Corpus"
   ]
  },
  {
   "cell_type": "code",
   "execution_count": 287,
   "metadata": {},
   "outputs": [],
   "source": [
    "data_path_pitt = '/tf/data/dementia/English/Pitt/'\n",
    "files_pitt = tf.io.gfile.glob(data_path_pitt + 'Control/cookie/*.mp3') + \\\n",
    "             tf.io.gfile.glob(data_path_pitt + 'Dementia/cookie/*.mp3')"
   ]
  },
  {
   "cell_type": "code",
   "execution_count": 288,
   "metadata": {},
   "outputs": [],
   "source": [
    "input_file = files_pitt[0]"
   ]
  },
  {
   "cell_type": "code",
   "execution_count": 291,
   "metadata": {},
   "outputs": [
    {
     "data": {
      "text/plain": [
       "'/tf/data/dementia/English/Pitt/Control/cookie/128-3.wav'"
      ]
     },
     "execution_count": 291,
     "metadata": {},
     "output_type": "execute_result"
    }
   ],
   "source": [
    "input_file.split('.mp3')[0] + '.wav'"
   ]
  },
  {
   "cell_type": "code",
   "execution_count": 292,
   "metadata": {},
   "outputs": [],
   "source": [
    "def model_inference(filepath):\n",
    "\n",
    "    import tensorflow as tf\n",
    "    import numpy as np\n",
    "    import json\n",
    "    import requests\t\n",
    "    import os\n",
    "    from datetime import datetime\n",
    "    \n",
    "    input_file = filepath\n",
    "    if not filepath.lower().endswith(\".wav\"):\n",
    "#         tmp_name = \"tmp-\"+datetime.now().strftime(\"%Y%m%d-%H%M%S\")\n",
    "        input_file = input_file.split('.mp3')[0] + '.wav'\n",
    "        cmd = \"ffmpeg -i \" + filepath + \" \" + input_file\n",
    "        os.system(cmd)\n",
    "    \n",
    "    audio_binary = tf.io.read_file(input_file)\n",
    "    audio, _ = tf.audio.decode_wav(audio_binary)\n",
    "    if audio.shape[1] > 1:\n",
    "        audio = tf.reshape(audio[:, 0], (audio.shape[0],1))\n",
    "\n",
    "    waveform = tf.squeeze(audio, axis=-1)    \n",
    "    rolling_waveform_tensors = window(waveform, size=_*30, stride=_*1)\n",
    "    rolling_spectrograms = tf.signal.stft(rolling_waveform_tensors, frame_length=512, frame_step=_)\n",
    "    rolling_spectrograms = tf.abs(rolling_spectrograms)\n",
    "    rolling_spectrograms = tf.expand_dims(rolling_spectrograms, -1)\n",
    "    rolling_spectrograms = rolling_spectrograms.numpy().tolist()\n",
    "    \n",
    "    predictions = model.predict(rolling_spectrograms)\n",
    "    results = [x[0] for x in predictions]\n",
    "    result = sum(results)/len(results) * 30\n",
    "\n",
    "#     os.system('rm ' + input_file)\n",
    "    return result, results"
   ]
  },
  {
   "cell_type": "code",
   "execution_count": 293,
   "metadata": {
    "scrolled": true
   },
   "outputs": [
    {
     "name": "stderr",
     "output_type": "stream",
     "text": [
      "\n",
      "\n",
      "\n",
      "  0%|          | 0/552 [00:00<?, ?it/s]\u001b[A\u001b[A\u001b[A"
     ]
    },
    {
     "name": "stdout",
     "output_type": "stream",
     "text": [
      "/tf/data/dementia/English/Pitt/Control/cookie/128-3.mp3\n"
     ]
    },
    {
     "name": "stderr",
     "output_type": "stream",
     "text": [
      "\n",
      "\n",
      "\n",
      "  0%|          | 1/552 [00:06<59:33,  6.49s/it]\u001b[A\u001b[A\u001b[A"
     ]
    },
    {
     "name": "stdout",
     "output_type": "stream",
     "text": [
      "/tf/data/dementia/English/Pitt/Control/cookie/229-2.mp3\n"
     ]
    },
    {
     "name": "stderr",
     "output_type": "stream",
     "text": [
      "\n",
      "\n",
      "\n",
      "  0%|          | 2/552 [00:06<42:46,  4.67s/it]\u001b[A\u001b[A\u001b[A"
     ]
    },
    {
     "name": "stdout",
     "output_type": "stream",
     "text": [
      "/tf/data/dementia/English/Pitt/Control/cookie/196-0.mp3\n"
     ]
    },
    {
     "name": "stderr",
     "output_type": "stream",
     "text": [
      "\n",
      "\n",
      "\n",
      "  1%|          | 3/552 [00:08<34:19,  3.75s/it]\u001b[A\u001b[A\u001b[A"
     ]
    },
    {
     "name": "stdout",
     "output_type": "stream",
     "text": [
      "/tf/data/dementia/English/Pitt/Control/cookie/073-3.mp3\n"
     ]
    },
    {
     "name": "stderr",
     "output_type": "stream",
     "text": [
      "\n",
      "\n",
      "\n",
      "  1%|          | 4/552 [00:10<30:44,  3.37s/it]\u001b[A\u001b[A\u001b[A"
     ]
    },
    {
     "name": "stdout",
     "output_type": "stream",
     "text": [
      "/tf/data/dementia/English/Pitt/Control/cookie/668-0.mp3\n"
     ]
    },
    {
     "name": "stderr",
     "output_type": "stream",
     "text": [
      "\n",
      "\n",
      "\n",
      "  1%|          | 5/552 [00:12<26:23,  2.89s/it]\u001b[A\u001b[A\u001b[A"
     ]
    },
    {
     "name": "stdout",
     "output_type": "stream",
     "text": [
      "/tf/data/dementia/English/Pitt/Control/cookie/118-2.mp3\n"
     ]
    },
    {
     "name": "stderr",
     "output_type": "stream",
     "text": [
      "\n",
      "\n",
      "\n",
      "  1%|          | 6/552 [00:13<21:08,  2.32s/it]\u001b[A\u001b[A\u001b[A"
     ]
    },
    {
     "name": "stdout",
     "output_type": "stream",
     "text": [
      "/tf/data/dementia/English/Pitt/Control/cookie/086-2.mp3\n"
     ]
    },
    {
     "name": "stderr",
     "output_type": "stream",
     "text": [
      "\n",
      "\n",
      "\n",
      "  1%|▏         | 7/552 [00:14<17:42,  1.95s/it]\u001b[A\u001b[A\u001b[A"
     ]
    },
    {
     "name": "stdout",
     "output_type": "stream",
     "text": [
      "/tf/data/dementia/English/Pitt/Control/cookie/073-1.mp3\n"
     ]
    },
    {
     "name": "stderr",
     "output_type": "stream",
     "text": [
      "\n",
      "\n",
      "\n",
      "  1%|▏         | 8/552 [00:17<18:29,  2.04s/it]\u001b[A\u001b[A\u001b[A"
     ]
    },
    {
     "name": "stdout",
     "output_type": "stream",
     "text": [
      "/tf/data/dementia/English/Pitt/Control/cookie/296-2.mp3\n"
     ]
    },
    {
     "name": "stderr",
     "output_type": "stream",
     "text": [
      "\n",
      "\n",
      "\n",
      "  2%|▏         | 9/552 [00:20<21:14,  2.35s/it]\u001b[A\u001b[A\u001b[A"
     ]
    },
    {
     "name": "stdout",
     "output_type": "stream",
     "text": [
      "/tf/data/dementia/English/Pitt/Control/cookie/121-0.mp3\n"
     ]
    },
    {
     "name": "stderr",
     "output_type": "stream",
     "text": [
      "\n",
      "\n",
      "\n",
      "  2%|▏         | 10/552 [00:25<29:12,  3.23s/it]\u001b[A\u001b[A\u001b[A"
     ]
    },
    {
     "name": "stdout",
     "output_type": "stream",
     "text": [
      "/tf/data/dementia/English/Pitt/Control/cookie/167-2.mp3\n"
     ]
    },
    {
     "name": "stderr",
     "output_type": "stream",
     "text": [
      "\n",
      "\n",
      "\n",
      "  2%|▏         | 11/552 [00:26<23:32,  2.61s/it]\u001b[A\u001b[A\u001b[A"
     ]
    },
    {
     "name": "stdout",
     "output_type": "stream",
     "text": [
      "/tf/data/dementia/English/Pitt/Control/cookie/021-4.mp3\n"
     ]
    },
    {
     "name": "stderr",
     "output_type": "stream",
     "text": [
      "\n",
      "\n",
      "\n",
      "  2%|▏         | 12/552 [00:26<17:10,  1.91s/it]\u001b[A\u001b[A\u001b[A"
     ]
    },
    {
     "name": "stdout",
     "output_type": "stream",
     "text": [
      "/tf/data/dementia/English/Pitt/Control/cookie/002-1.mp3\n"
     ]
    },
    {
     "name": "stderr",
     "output_type": "stream",
     "text": [
      "\n",
      "\n",
      "\n",
      "  2%|▏         | 13/552 [00:29<18:02,  2.01s/it]\u001b[A\u001b[A\u001b[A"
     ]
    },
    {
     "name": "stdout",
     "output_type": "stream",
     "text": [
      "/tf/data/dementia/English/Pitt/Control/cookie/137-2.mp3\n"
     ]
    },
    {
     "name": "stderr",
     "output_type": "stream",
     "text": [
      "\n",
      "\n",
      "\n",
      "  3%|▎         | 14/552 [00:29<14:42,  1.64s/it]\u001b[A\u001b[A\u001b[A"
     ]
    },
    {
     "name": "stdout",
     "output_type": "stream",
     "text": [
      "/tf/data/dementia/English/Pitt/Control/cookie/302-0.mp3\n"
     ]
    },
    {
     "name": "stderr",
     "output_type": "stream",
     "text": [
      "\n",
      "\n",
      "\n",
      "  3%|▎         | 15/552 [00:30<12:50,  1.43s/it]\u001b[A\u001b[A\u001b[A"
     ]
    },
    {
     "name": "stdout",
     "output_type": "stream",
     "text": [
      "/tf/data/dementia/English/Pitt/Control/cookie/137-1.mp3\n"
     ]
    },
    {
     "name": "stderr",
     "output_type": "stream",
     "text": [
      "\n",
      "\n",
      "\n",
      "  3%|▎         | 16/552 [00:32<13:11,  1.48s/it]\u001b[A\u001b[A\u001b[A"
     ]
    },
    {
     "name": "stdout",
     "output_type": "stream",
     "text": [
      "/tf/data/dementia/English/Pitt/Control/cookie/141-0.mp3\n"
     ]
    },
    {
     "name": "stderr",
     "output_type": "stream",
     "text": [
      "\n",
      "\n",
      "\n",
      "  3%|▎         | 17/552 [00:32<10:39,  1.19s/it]\u001b[A\u001b[A\u001b[A"
     ]
    },
    {
     "name": "stdout",
     "output_type": "stream",
     "text": [
      "/tf/data/dementia/English/Pitt/Control/cookie/141-1.mp3\n"
     ]
    },
    {
     "name": "stderr",
     "output_type": "stream",
     "text": [
      "\n",
      "\n",
      "\n",
      "  3%|▎         | 18/552 [00:33<09:34,  1.08s/it]\u001b[A\u001b[A\u001b[A"
     ]
    },
    {
     "name": "stdout",
     "output_type": "stream",
     "text": [
      "/tf/data/dementia/English/Pitt/Control/cookie/266-0.mp3\n"
     ]
    },
    {
     "name": "stderr",
     "output_type": "stream",
     "text": [
      "\n",
      "\n",
      "\n",
      "  3%|▎         | 19/552 [00:34<08:58,  1.01s/it]\u001b[A\u001b[A\u001b[A"
     ]
    },
    {
     "name": "stdout",
     "output_type": "stream",
     "text": [
      "/tf/data/dementia/English/Pitt/Control/cookie/182-3.mp3\n"
     ]
    },
    {
     "name": "stderr",
     "output_type": "stream",
     "text": [
      "\n",
      "\n",
      "\n",
      "  4%|▎         | 20/552 [00:35<09:21,  1.06s/it]\u001b[A\u001b[A\u001b[A"
     ]
    },
    {
     "name": "stdout",
     "output_type": "stream",
     "text": [
      "/tf/data/dementia/English/Pitt/Control/cookie/021-2.mp3\n"
     ]
    },
    {
     "name": "stderr",
     "output_type": "stream",
     "text": [
      "\n",
      "\n",
      "\n",
      "  4%|▍         | 21/552 [00:36<07:40,  1.15it/s]\u001b[A\u001b[A\u001b[A"
     ]
    },
    {
     "name": "stdout",
     "output_type": "stream",
     "text": [
      "/tf/data/dementia/English/Pitt/Control/cookie/068-3.mp3\n"
     ]
    },
    {
     "name": "stderr",
     "output_type": "stream",
     "text": [
      "\n",
      "\n",
      "\n",
      "  4%|▍         | 22/552 [00:37<09:36,  1.09s/it]\u001b[A\u001b[A\u001b[A"
     ]
    },
    {
     "name": "stdout",
     "output_type": "stream",
     "text": [
      "/tf/data/dementia/English/Pitt/Control/cookie/155-0.mp3\n"
     ]
    },
    {
     "name": "stderr",
     "output_type": "stream",
     "text": [
      "\n",
      "\n",
      "\n",
      "  4%|▍         | 23/552 [00:39<12:12,  1.38s/it]\u001b[A\u001b[A\u001b[A"
     ]
    },
    {
     "name": "stdout",
     "output_type": "stream",
     "text": [
      "/tf/data/dementia/English/Pitt/Control/cookie/045-0.mp3\n"
     ]
    },
    {
     "name": "stderr",
     "output_type": "stream",
     "text": [
      "\n",
      "\n",
      "\n",
      "  4%|▍         | 24/552 [00:43<17:59,  2.04s/it]\u001b[A\u001b[A\u001b[A"
     ]
    },
    {
     "name": "stdout",
     "output_type": "stream",
     "text": [
      "/tf/data/dementia/English/Pitt/Control/cookie/052-0.mp3\n"
     ]
    },
    {
     "name": "stderr",
     "output_type": "stream",
     "text": [
      "\n",
      "\n",
      "\n",
      "  5%|▍         | 25/552 [00:44<16:12,  1.85s/it]\u001b[A\u001b[A\u001b[A"
     ]
    },
    {
     "name": "stdout",
     "output_type": "stream",
     "text": [
      "/tf/data/dementia/English/Pitt/Control/cookie/172-0.mp3\n"
     ]
    },
    {
     "name": "stderr",
     "output_type": "stream",
     "text": [
      "\n",
      "\n",
      "\n",
      "  5%|▍         | 26/552 [00:46<16:32,  1.89s/it]\u001b[A\u001b[A\u001b[A"
     ]
    },
    {
     "name": "stdout",
     "output_type": "stream",
     "text": [
      "/tf/data/dementia/English/Pitt/Control/cookie/166-1.mp3\n"
     ]
    },
    {
     "name": "stderr",
     "output_type": "stream",
     "text": [
      "\n",
      "\n",
      "\n",
      "  5%|▍         | 27/552 [00:50<20:58,  2.40s/it]\u001b[A\u001b[A\u001b[A"
     ]
    },
    {
     "name": "stdout",
     "output_type": "stream",
     "text": [
      "/tf/data/dementia/English/Pitt/Control/cookie/068-2.mp3\n"
     ]
    },
    {
     "name": "stderr",
     "output_type": "stream",
     "text": [
      "\n",
      "\n",
      "\n",
      "  5%|▌         | 28/552 [00:51<18:11,  2.08s/it]\u001b[A\u001b[A\u001b[A"
     ]
    },
    {
     "name": "stdout",
     "output_type": "stream",
     "text": [
      "/tf/data/dementia/English/Pitt/Control/cookie/146-1.mp3\n"
     ]
    },
    {
     "name": "stderr",
     "output_type": "stream",
     "text": [
      "\n",
      "\n",
      "\n",
      "  5%|▌         | 29/552 [00:53<16:31,  1.90s/it]\u001b[A\u001b[A\u001b[A"
     ]
    },
    {
     "name": "stdout",
     "output_type": "stream",
     "text": [
      "/tf/data/dementia/English/Pitt/Control/cookie/242-0.mp3\n"
     ]
    },
    {
     "name": "stderr",
     "output_type": "stream",
     "text": [
      "\n",
      "\n",
      "\n",
      "  5%|▌         | 30/552 [00:55<16:27,  1.89s/it]\u001b[A\u001b[A\u001b[A"
     ]
    },
    {
     "name": "stdout",
     "output_type": "stream",
     "text": [
      "/tf/data/dementia/English/Pitt/Control/cookie/691-0.mp3\n"
     ]
    },
    {
     "name": "stderr",
     "output_type": "stream",
     "text": [
      "\n",
      "\n",
      "\n",
      "  6%|▌         | 31/552 [00:57<17:17,  1.99s/it]\u001b[A\u001b[A\u001b[A"
     ]
    },
    {
     "name": "stdout",
     "output_type": "stream",
     "text": [
      "/tf/data/dementia/English/Pitt/Control/cookie/006-4.mp3\n"
     ]
    },
    {
     "name": "stderr",
     "output_type": "stream",
     "text": [
      "\n",
      "\n",
      "\n",
      "  6%|▌         | 32/552 [01:00<18:58,  2.19s/it]\u001b[A\u001b[A\u001b[A"
     ]
    },
    {
     "name": "stdout",
     "output_type": "stream",
     "text": [
      "/tf/data/dementia/English/Pitt/Control/cookie/211-1.mp3\n"
     ]
    },
    {
     "name": "stderr",
     "output_type": "stream",
     "text": [
      "\n",
      "\n",
      "\n",
      "  6%|▌         | 33/552 [01:02<20:21,  2.35s/it]\u001b[A\u001b[A\u001b[A"
     ]
    },
    {
     "name": "stdout",
     "output_type": "stream",
     "text": [
      "/tf/data/dementia/English/Pitt/Control/cookie/267-2.mp3\n"
     ]
    },
    {
     "name": "stderr",
     "output_type": "stream",
     "text": [
      "\n",
      "\n",
      "\n",
      "  6%|▌         | 34/552 [01:04<18:35,  2.15s/it]\u001b[A\u001b[A\u001b[A"
     ]
    },
    {
     "name": "stdout",
     "output_type": "stream",
     "text": [
      "/tf/data/dementia/English/Pitt/Control/cookie/113-1.mp3\n"
     ]
    },
    {
     "name": "stderr",
     "output_type": "stream",
     "text": [
      "\n",
      "\n",
      "\n",
      "  6%|▋         | 35/552 [01:05<16:35,  1.92s/it]\u001b[A\u001b[A\u001b[A"
     ]
    },
    {
     "name": "stdout",
     "output_type": "stream",
     "text": [
      "/tf/data/dementia/English/Pitt/Control/cookie/034-1.mp3\n"
     ]
    },
    {
     "name": "stderr",
     "output_type": "stream",
     "text": [
      "\n",
      "\n",
      "\n",
      "  7%|▋         | 36/552 [01:07<15:45,  1.83s/it]\u001b[A\u001b[A\u001b[A"
     ]
    },
    {
     "name": "stdout",
     "output_type": "stream",
     "text": [
      "/tf/data/dementia/English/Pitt/Control/cookie/155-3.mp3\n"
     ]
    },
    {
     "name": "stderr",
     "output_type": "stream",
     "text": [
      "\n",
      "\n",
      "\n",
      "  7%|▋         | 37/552 [01:08<13:43,  1.60s/it]\u001b[A\u001b[A\u001b[A"
     ]
    },
    {
     "name": "stdout",
     "output_type": "stream",
     "text": [
      "/tf/data/dementia/English/Pitt/Control/cookie/015-2.mp3\n"
     ]
    },
    {
     "name": "stderr",
     "output_type": "stream",
     "text": [
      "\n",
      "\n",
      "\n",
      "  7%|▋         | 38/552 [01:11<18:28,  2.16s/it]\u001b[A\u001b[A\u001b[A"
     ]
    },
    {
     "name": "stdout",
     "output_type": "stream",
     "text": [
      "/tf/data/dementia/English/Pitt/Control/cookie/096-1.mp3\n"
     ]
    },
    {
     "name": "stderr",
     "output_type": "stream",
     "text": [
      "\n",
      "\n",
      "\n",
      "  7%|▋         | 39/552 [01:13<18:05,  2.12s/it]\u001b[A\u001b[A\u001b[A"
     ]
    },
    {
     "name": "stdout",
     "output_type": "stream",
     "text": [
      "/tf/data/dementia/English/Pitt/Control/cookie/266-2.mp3\n"
     ]
    },
    {
     "name": "stderr",
     "output_type": "stream",
     "text": [
      "\n",
      "\n",
      "\n",
      "  7%|▋         | 40/552 [01:16<19:26,  2.28s/it]\u001b[A\u001b[A\u001b[A"
     ]
    },
    {
     "name": "stdout",
     "output_type": "stream",
     "text": [
      "/tf/data/dementia/English/Pitt/Control/cookie/056-4.mp3\n"
     ]
    },
    {
     "name": "stderr",
     "output_type": "stream",
     "text": [
      "\n",
      "\n",
      "\n",
      "  7%|▋         | 41/552 [01:17<15:26,  1.81s/it]\u001b[A\u001b[A\u001b[A"
     ]
    },
    {
     "name": "stdout",
     "output_type": "stream",
     "text": [
      "/tf/data/dementia/English/Pitt/Control/cookie/015-3.mp3\n"
     ]
    },
    {
     "name": "stderr",
     "output_type": "stream",
     "text": [
      "\n",
      "\n",
      "\n",
      "  8%|▊         | 42/552 [01:19<16:15,  1.91s/it]\u001b[A\u001b[A\u001b[A"
     ]
    },
    {
     "name": "stdout",
     "output_type": "stream",
     "text": [
      "/tf/data/dementia/English/Pitt/Control/cookie/304-2.mp3\n"
     ]
    },
    {
     "name": "stderr",
     "output_type": "stream",
     "text": [
      "\n",
      "\n",
      "\n",
      "  8%|▊         | 43/552 [01:20<14:50,  1.75s/it]\u001b[A\u001b[A\u001b[A"
     ]
    },
    {
     "name": "stdout",
     "output_type": "stream",
     "text": [
      "/tf/data/dementia/English/Pitt/Control/cookie/124-1.mp3\n"
     ]
    },
    {
     "name": "stderr",
     "output_type": "stream",
     "text": [
      "\n",
      "\n",
      "\n",
      "  8%|▊         | 44/552 [01:25<23:07,  2.73s/it]\u001b[A\u001b[A\u001b[A"
     ]
    },
    {
     "name": "stdout",
     "output_type": "stream",
     "text": [
      "/tf/data/dementia/English/Pitt/Control/cookie/209-1.mp3\n"
     ]
    },
    {
     "name": "stderr",
     "output_type": "stream",
     "text": [
      "\n",
      "\n",
      "\n",
      "  8%|▊         | 45/552 [01:26<18:23,  2.18s/it]\u001b[A\u001b[A\u001b[A"
     ]
    },
    {
     "name": "stdout",
     "output_type": "stream",
     "text": [
      "/tf/data/dementia/English/Pitt/Control/cookie/045-2.mp3\n"
     ]
    },
    {
     "name": "stderr",
     "output_type": "stream",
     "text": [
      "\n",
      "\n",
      "\n",
      "  8%|▊         | 46/552 [01:30<23:14,  2.76s/it]\u001b[A\u001b[A\u001b[A"
     ]
    },
    {
     "name": "stdout",
     "output_type": "stream",
     "text": [
      "/tf/data/dementia/English/Pitt/Control/cookie/296-0.mp3\n"
     ]
    },
    {
     "name": "stderr",
     "output_type": "stream",
     "text": [
      "\n",
      "\n",
      "\n",
      "  9%|▊         | 47/552 [01:32<20:22,  2.42s/it]\u001b[A\u001b[A\u001b[A"
     ]
    },
    {
     "name": "stdout",
     "output_type": "stream",
     "text": [
      "/tf/data/dementia/English/Pitt/Control/cookie/021-1.mp3\n"
     ]
    },
    {
     "name": "stderr",
     "output_type": "stream",
     "text": [
      "\n",
      "\n",
      "\n",
      "  9%|▊         | 48/552 [01:35<21:14,  2.53s/it]\u001b[A\u001b[A\u001b[A"
     ]
    },
    {
     "name": "stdout",
     "output_type": "stream",
     "text": [
      "/tf/data/dementia/English/Pitt/Control/cookie/209-2.mp3\n"
     ]
    },
    {
     "name": "stderr",
     "output_type": "stream",
     "text": [
      "\n",
      "\n",
      "\n",
      "  9%|▉         | 49/552 [01:37<19:06,  2.28s/it]\u001b[A\u001b[A\u001b[A"
     ]
    },
    {
     "name": "stdout",
     "output_type": "stream",
     "text": [
      "/tf/data/dementia/English/Pitt/Control/cookie/208-1.mp3\n"
     ]
    },
    {
     "name": "stderr",
     "output_type": "stream",
     "text": [
      "\n",
      "\n",
      "\n",
      "  9%|▉         | 50/552 [01:37<14:46,  1.77s/it]\u001b[A\u001b[A\u001b[A"
     ]
    },
    {
     "name": "stdout",
     "output_type": "stream",
     "text": [
      "/tf/data/dementia/English/Pitt/Control/cookie/121-3.mp3\n"
     ]
    },
    {
     "name": "stderr",
     "output_type": "stream",
     "text": [
      "\n",
      "\n",
      "\n",
      "  9%|▉         | 51/552 [01:40<17:29,  2.10s/it]\u001b[A\u001b[A\u001b[A"
     ]
    },
    {
     "name": "stdout",
     "output_type": "stream",
     "text": [
      "/tf/data/dementia/English/Pitt/Control/cookie/107-1.mp3\n"
     ]
    },
    {
     "name": "stderr",
     "output_type": "stream",
     "text": [
      "\n",
      "\n",
      "\n",
      "  9%|▉         | 52/552 [01:41<15:19,  1.84s/it]\u001b[A\u001b[A\u001b[A"
     ]
    },
    {
     "name": "stdout",
     "output_type": "stream",
     "text": [
      "/tf/data/dementia/English/Pitt/Control/cookie/130-3.mp3\n"
     ]
    },
    {
     "name": "stderr",
     "output_type": "stream",
     "text": [
      "\n",
      "\n",
      "\n",
      " 10%|▉         | 53/552 [01:42<11:44,  1.41s/it]\u001b[A\u001b[A\u001b[A"
     ]
    },
    {
     "name": "stdout",
     "output_type": "stream",
     "text": [
      "/tf/data/dementia/English/Pitt/Control/cookie/318-2.mp3\n"
     ]
    },
    {
     "name": "stderr",
     "output_type": "stream",
     "text": [
      "\n",
      "\n",
      "\n",
      " 10%|▉         | 54/552 [01:42<09:02,  1.09s/it]\u001b[A\u001b[A\u001b[A"
     ]
    },
    {
     "name": "stdout",
     "output_type": "stream",
     "text": [
      "/tf/data/dementia/English/Pitt/Control/cookie/227-0.mp3\n"
     ]
    },
    {
     "name": "stderr",
     "output_type": "stream",
     "text": [
      "\n",
      "\n",
      "\n",
      " 10%|▉         | 55/552 [01:44<10:43,  1.29s/it]\u001b[A\u001b[A\u001b[A"
     ]
    },
    {
     "name": "stdout",
     "output_type": "stream",
     "text": [
      "/tf/data/dementia/English/Pitt/Control/cookie/340-0.mp3\n"
     ]
    },
    {
     "name": "stderr",
     "output_type": "stream",
     "text": [
      "\n",
      "\n",
      "\n",
      " 10%|█         | 56/552 [01:45<10:22,  1.26s/it]\u001b[A\u001b[A\u001b[A"
     ]
    },
    {
     "name": "stdout",
     "output_type": "stream",
     "text": [
      "/tf/data/dementia/English/Pitt/Control/cookie/114-0.mp3\n"
     ]
    },
    {
     "name": "stderr",
     "output_type": "stream",
     "text": [
      "\n",
      "\n",
      "\n",
      " 10%|█         | 57/552 [01:46<10:03,  1.22s/it]\u001b[A\u001b[A\u001b[A"
     ]
    },
    {
     "name": "stdout",
     "output_type": "stream",
     "text": [
      "/tf/data/dementia/English/Pitt/Control/cookie/175-0.mp3\n"
     ]
    },
    {
     "name": "stderr",
     "output_type": "stream",
     "text": [
      "\n",
      "\n",
      "\n",
      " 11%|█         | 58/552 [01:48<12:27,  1.51s/it]\u001b[A\u001b[A\u001b[A"
     ]
    },
    {
     "name": "stdout",
     "output_type": "stream",
     "text": [
      "/tf/data/dementia/English/Pitt/Control/cookie/141-3.mp3\n"
     ]
    },
    {
     "name": "stderr",
     "output_type": "stream",
     "text": [
      "\n",
      "\n",
      "\n",
      " 11%|█         | 59/552 [01:49<11:33,  1.41s/it]\u001b[A\u001b[A\u001b[A"
     ]
    },
    {
     "name": "stdout",
     "output_type": "stream",
     "text": [
      "/tf/data/dementia/English/Pitt/Control/cookie/071-1.mp3\n"
     ]
    },
    {
     "name": "stderr",
     "output_type": "stream",
     "text": [
      "\n",
      "\n",
      "\n",
      " 11%|█         | 60/552 [01:50<09:14,  1.13s/it]\u001b[A\u001b[A\u001b[A"
     ]
    },
    {
     "name": "stdout",
     "output_type": "stream",
     "text": [
      "/tf/data/dementia/English/Pitt/Control/cookie/006-2.mp3\n"
     ]
    },
    {
     "name": "stderr",
     "output_type": "stream",
     "text": [
      "\n",
      "\n",
      "\n",
      " 11%|█         | 61/552 [01:51<08:57,  1.09s/it]\u001b[A\u001b[A\u001b[A"
     ]
    },
    {
     "name": "stdout",
     "output_type": "stream",
     "text": [
      "/tf/data/dementia/English/Pitt/Control/cookie/093-0.mp3\n"
     ]
    },
    {
     "name": "stderr",
     "output_type": "stream",
     "text": [
      "\n",
      "\n",
      "\n",
      " 11%|█         | 62/552 [01:52<09:08,  1.12s/it]\u001b[A\u001b[A\u001b[A"
     ]
    },
    {
     "name": "stdout",
     "output_type": "stream",
     "text": [
      "/tf/data/dementia/English/Pitt/Control/cookie/105-1.mp3\n"
     ]
    },
    {
     "name": "stderr",
     "output_type": "stream",
     "text": [
      "\n",
      "\n",
      "\n",
      " 11%|█▏        | 63/552 [01:54<10:02,  1.23s/it]\u001b[A\u001b[A\u001b[A"
     ]
    },
    {
     "name": "stdout",
     "output_type": "stream",
     "text": [
      "/tf/data/dementia/English/Pitt/Control/cookie/118-4.mp3\n"
     ]
    },
    {
     "name": "stderr",
     "output_type": "stream",
     "text": [
      "\n",
      "\n",
      "\n",
      " 12%|█▏        | 64/552 [01:55<11:23,  1.40s/it]\u001b[A\u001b[A\u001b[A"
     ]
    },
    {
     "name": "stdout",
     "output_type": "stream",
     "text": [
      "/tf/data/dementia/English/Pitt/Control/cookie/114-3.mp3\n"
     ]
    },
    {
     "name": "stderr",
     "output_type": "stream",
     "text": [
      "\n",
      "\n",
      "\n",
      " 12%|█▏        | 65/552 [01:56<10:32,  1.30s/it]\u001b[A\u001b[A\u001b[A"
     ]
    },
    {
     "name": "stdout",
     "output_type": "stream",
     "text": [
      "/tf/data/dementia/English/Pitt/Control/cookie/015-1.mp3\n"
     ]
    },
    {
     "name": "stderr",
     "output_type": "stream",
     "text": [
      "\n",
      "\n",
      "\n",
      " 12%|█▏        | 66/552 [02:00<16:13,  2.00s/it]\u001b[A\u001b[A\u001b[A"
     ]
    },
    {
     "name": "stdout",
     "output_type": "stream",
     "text": [
      "/tf/data/dementia/English/Pitt/Control/cookie/145-3.mp3\n"
     ]
    },
    {
     "name": "stderr",
     "output_type": "stream",
     "text": [
      "\n",
      "\n",
      "\n",
      " 12%|█▏        | 67/552 [02:03<17:49,  2.21s/it]\u001b[A\u001b[A\u001b[A"
     ]
    },
    {
     "name": "stdout",
     "output_type": "stream",
     "text": [
      "/tf/data/dementia/English/Pitt/Control/cookie/006-3.mp3\n"
     ]
    },
    {
     "name": "stderr",
     "output_type": "stream",
     "text": [
      "\n",
      "\n",
      "\n",
      " 12%|█▏        | 68/552 [02:04<16:16,  2.02s/it]\u001b[A\u001b[A\u001b[A"
     ]
    },
    {
     "name": "stdout",
     "output_type": "stream",
     "text": [
      "/tf/data/dementia/English/Pitt/Control/cookie/086-4.mp3\n"
     ]
    },
    {
     "name": "stderr",
     "output_type": "stream",
     "text": [
      "\n",
      "\n",
      "\n",
      " 12%|█▎        | 69/552 [02:07<18:01,  2.24s/it]\u001b[A\u001b[A\u001b[A"
     ]
    },
    {
     "name": "stdout",
     "output_type": "stream",
     "text": [
      "/tf/data/dementia/English/Pitt/Control/cookie/130-2.mp3\n"
     ]
    },
    {
     "name": "stderr",
     "output_type": "stream",
     "text": [
      "\n",
      "\n",
      "\n",
      " 13%|█▎        | 70/552 [02:08<13:51,  1.73s/it]\u001b[A\u001b[A\u001b[A"
     ]
    },
    {
     "name": "stdout",
     "output_type": "stream",
     "text": [
      "/tf/data/dementia/English/Pitt/Control/cookie/166-2.mp3\n"
     ]
    },
    {
     "name": "stderr",
     "output_type": "stream",
     "text": [
      "\n",
      "\n",
      "\n",
      " 13%|█▎        | 71/552 [02:09<13:23,  1.67s/it]\u001b[A\u001b[A\u001b[A"
     ]
    },
    {
     "name": "stdout",
     "output_type": "stream",
     "text": [
      "/tf/data/dementia/English/Pitt/Control/cookie/684-0.mp3\n"
     ]
    },
    {
     "name": "stderr",
     "output_type": "stream",
     "text": [
      "\n",
      "\n",
      "\n",
      " 13%|█▎        | 72/552 [02:13<17:47,  2.22s/it]\u001b[A\u001b[A\u001b[A"
     ]
    },
    {
     "name": "stdout",
     "output_type": "stream",
     "text": [
      "/tf/data/dementia/English/Pitt/Control/cookie/096-2.mp3\n"
     ]
    },
    {
     "name": "stderr",
     "output_type": "stream",
     "text": [
      "\n",
      "\n",
      "\n",
      " 13%|█▎        | 73/552 [02:14<15:49,  1.98s/it]\u001b[A\u001b[A\u001b[A"
     ]
    },
    {
     "name": "stdout",
     "output_type": "stream",
     "text": [
      "/tf/data/dementia/English/Pitt/Control/cookie/142-0.mp3\n"
     ]
    },
    {
     "name": "stderr",
     "output_type": "stream",
     "text": [
      "\n",
      "\n",
      "\n",
      " 13%|█▎        | 74/552 [02:16<15:37,  1.96s/it]\u001b[A\u001b[A\u001b[A"
     ]
    },
    {
     "name": "stdout",
     "output_type": "stream",
     "text": [
      "/tf/data/dementia/English/Pitt/Control/cookie/118-0.mp3\n"
     ]
    },
    {
     "name": "stderr",
     "output_type": "stream",
     "text": [
      "\n",
      "\n",
      "\n",
      " 14%|█▎        | 75/552 [02:17<13:02,  1.64s/it]\u001b[A\u001b[A\u001b[A"
     ]
    },
    {
     "name": "stdout",
     "output_type": "stream",
     "text": [
      "/tf/data/dementia/English/Pitt/Control/cookie/013-0.mp3\n"
     ]
    },
    {
     "name": "stderr",
     "output_type": "stream",
     "text": [
      "\n",
      "\n",
      "\n",
      " 14%|█▍        | 76/552 [02:18<12:40,  1.60s/it]\u001b[A\u001b[A\u001b[A"
     ]
    },
    {
     "name": "stdout",
     "output_type": "stream",
     "text": [
      "/tf/data/dementia/English/Pitt/Control/cookie/242-2.mp3\n"
     ]
    },
    {
     "name": "stderr",
     "output_type": "stream",
     "text": [
      "\n",
      "\n",
      "\n",
      " 14%|█▍        | 77/552 [02:22<16:22,  2.07s/it]\u001b[A\u001b[A\u001b[A"
     ]
    },
    {
     "name": "stdout",
     "output_type": "stream",
     "text": [
      "/tf/data/dementia/English/Pitt/Control/cookie/255-0.mp3\n"
     ]
    },
    {
     "name": "stderr",
     "output_type": "stream",
     "text": [
      "\n",
      "\n",
      "\n",
      " 14%|█▍        | 78/552 [02:23<14:05,  1.78s/it]\u001b[A\u001b[A\u001b[A"
     ]
    },
    {
     "name": "stdout",
     "output_type": "stream",
     "text": [
      "/tf/data/dementia/English/Pitt/Control/cookie/034-2.mp3\n"
     ]
    },
    {
     "name": "stderr",
     "output_type": "stream",
     "text": [
      "\n",
      "\n",
      "\n",
      " 14%|█▍        | 79/552 [02:24<13:50,  1.76s/it]\u001b[A\u001b[A\u001b[A"
     ]
    },
    {
     "name": "stdout",
     "output_type": "stream",
     "text": [
      "/tf/data/dementia/English/Pitt/Control/cookie/175-2.mp3\n"
     ]
    },
    {
     "name": "stderr",
     "output_type": "stream",
     "text": [
      "\n",
      "\n",
      "\n",
      " 14%|█▍        | 80/552 [02:26<13:17,  1.69s/it]\u001b[A\u001b[A\u001b[A"
     ]
    },
    {
     "name": "stdout",
     "output_type": "stream",
     "text": [
      "/tf/data/dementia/English/Pitt/Control/cookie/068-0.mp3\n"
     ]
    },
    {
     "name": "stderr",
     "output_type": "stream",
     "text": [
      "\n",
      "\n",
      "\n",
      " 15%|█▍        | 81/552 [02:28<13:46,  1.75s/it]\u001b[A\u001b[A\u001b[A"
     ]
    },
    {
     "name": "stdout",
     "output_type": "stream",
     "text": [
      "/tf/data/dementia/English/Pitt/Control/cookie/142-1.mp3\n"
     ]
    },
    {
     "name": "stderr",
     "output_type": "stream",
     "text": [
      "\n",
      "\n",
      "\n",
      " 15%|█▍        | 82/552 [02:29<12:34,  1.61s/it]\u001b[A\u001b[A\u001b[A"
     ]
    },
    {
     "name": "stdout",
     "output_type": "stream",
     "text": [
      "/tf/data/dementia/English/Pitt/Control/cookie/105-0.mp3\n"
     ]
    },
    {
     "name": "stderr",
     "output_type": "stream",
     "text": [
      "\n",
      "\n",
      "\n",
      " 15%|█▌        | 83/552 [02:31<14:03,  1.80s/it]\u001b[A\u001b[A\u001b[A"
     ]
    },
    {
     "name": "stdout",
     "output_type": "stream",
     "text": [
      "/tf/data/dementia/English/Pitt/Control/cookie/013-2.mp3\n"
     ]
    },
    {
     "name": "stderr",
     "output_type": "stream",
     "text": [
      "\n",
      "\n",
      "\n",
      " 15%|█▌        | 84/552 [02:33<12:57,  1.66s/it]\u001b[A\u001b[A\u001b[A"
     ]
    },
    {
     "name": "stdout",
     "output_type": "stream",
     "text": [
      "/tf/data/dementia/English/Pitt/Control/cookie/015-0.mp3\n"
     ]
    },
    {
     "name": "stderr",
     "output_type": "stream",
     "text": [
      "\n",
      "\n",
      "\n",
      " 15%|█▌        | 85/552 [02:37<18:45,  2.41s/it]\u001b[A\u001b[A\u001b[A"
     ]
    },
    {
     "name": "stdout",
     "output_type": "stream",
     "text": [
      "/tf/data/dementia/English/Pitt/Control/cookie/132-0.mp3\n"
     ]
    },
    {
     "name": "stderr",
     "output_type": "stream",
     "text": [
      "\n",
      "\n",
      "\n",
      " 16%|█▌        | 86/552 [02:38<16:36,  2.14s/it]\u001b[A\u001b[A\u001b[A"
     ]
    },
    {
     "name": "stdout",
     "output_type": "stream",
     "text": [
      "/tf/data/dementia/English/Pitt/Control/cookie/274-0.mp3\n"
     ]
    },
    {
     "name": "stderr",
     "output_type": "stream",
     "text": [
      "\n",
      "\n",
      "\n",
      " 16%|█▌        | 87/552 [02:40<14:26,  1.86s/it]\u001b[A\u001b[A\u001b[A"
     ]
    },
    {
     "name": "stdout",
     "output_type": "stream",
     "text": [
      "/tf/data/dementia/English/Pitt/Control/cookie/248-2.mp3\n"
     ]
    },
    {
     "name": "stderr",
     "output_type": "stream",
     "text": [
      "\n",
      "\n",
      "\n",
      " 16%|█▌        | 88/552 [02:40<12:06,  1.57s/it]\u001b[A\u001b[A\u001b[A"
     ]
    },
    {
     "name": "stdout",
     "output_type": "stream",
     "text": [
      "/tf/data/dementia/English/Pitt/Control/cookie/128-2.mp3\n"
     ]
    },
    {
     "name": "stderr",
     "output_type": "stream",
     "text": [
      "\n",
      "\n",
      "\n",
      " 16%|█▌        | 89/552 [02:45<19:19,  2.50s/it]\u001b[A\u001b[A\u001b[A"
     ]
    },
    {
     "name": "stdout",
     "output_type": "stream",
     "text": [
      "/tf/data/dementia/English/Pitt/Control/cookie/686-0.mp3\n"
     ]
    },
    {
     "name": "stderr",
     "output_type": "stream",
     "text": [
      "\n",
      "\n",
      "\n",
      " 16%|█▋        | 90/552 [02:47<18:48,  2.44s/it]\u001b[A\u001b[A\u001b[A"
     ]
    },
    {
     "name": "stdout",
     "output_type": "stream",
     "text": [
      "/tf/data/dementia/English/Pitt/Control/cookie/225-0.mp3\n"
     ]
    },
    {
     "name": "stderr",
     "output_type": "stream",
     "text": [
      "\n",
      "\n",
      "\n",
      " 16%|█▋        | 91/552 [02:51<22:07,  2.88s/it]\u001b[A\u001b[A\u001b[A"
     ]
    },
    {
     "name": "stdout",
     "output_type": "stream",
     "text": [
      "/tf/data/dementia/English/Pitt/Control/cookie/155-2.mp3\n"
     ]
    },
    {
     "name": "stderr",
     "output_type": "stream",
     "text": [
      "\n",
      "\n",
      "\n",
      " 17%|█▋        | 92/552 [02:54<22:46,  2.97s/it]\u001b[A\u001b[A\u001b[A"
     ]
    },
    {
     "name": "stdout",
     "output_type": "stream",
     "text": [
      "/tf/data/dementia/English/Pitt/Control/cookie/248-1.mp3\n"
     ]
    },
    {
     "name": "stderr",
     "output_type": "stream",
     "text": [
      "\n",
      "\n",
      "\n",
      " 17%|█▋        | 93/552 [02:57<21:38,  2.83s/it]\u001b[A\u001b[A\u001b[A"
     ]
    },
    {
     "name": "stdout",
     "output_type": "stream",
     "text": [
      "/tf/data/dementia/English/Pitt/Control/cookie/042-3.mp3\n"
     ]
    },
    {
     "name": "stderr",
     "output_type": "stream",
     "text": [
      "\n",
      "\n",
      "\n",
      " 17%|█▋        | 94/552 [02:58<17:51,  2.34s/it]\u001b[A\u001b[A\u001b[A"
     ]
    },
    {
     "name": "stdout",
     "output_type": "stream",
     "text": [
      "/tf/data/dementia/English/Pitt/Control/cookie/256-1.mp3\n"
     ]
    },
    {
     "name": "stderr",
     "output_type": "stream",
     "text": [
      "\n",
      "\n",
      "\n",
      " 17%|█▋        | 95/552 [02:59<14:25,  1.89s/it]\u001b[A\u001b[A\u001b[A"
     ]
    },
    {
     "name": "stdout",
     "output_type": "stream",
     "text": [
      "/tf/data/dementia/English/Pitt/Control/cookie/109-3.mp3\n"
     ]
    },
    {
     "name": "stderr",
     "output_type": "stream",
     "text": [
      "\n",
      "\n",
      "\n",
      " 17%|█▋        | 96/552 [03:00<13:20,  1.75s/it]\u001b[A\u001b[A\u001b[A"
     ]
    },
    {
     "name": "stdout",
     "output_type": "stream",
     "text": [
      "/tf/data/dementia/English/Pitt/Control/cookie/175-1.mp3\n"
     ]
    },
    {
     "name": "stderr",
     "output_type": "stream",
     "text": [
      "\n",
      "\n",
      "\n",
      " 18%|█▊        | 97/552 [03:02<13:59,  1.84s/it]\u001b[A\u001b[A\u001b[A"
     ]
    },
    {
     "name": "stdout",
     "output_type": "stream",
     "text": [
      "/tf/data/dementia/English/Pitt/Control/cookie/092-1.mp3\n"
     ]
    },
    {
     "name": "stderr",
     "output_type": "stream",
     "text": [
      "\n",
      "\n",
      "\n",
      " 18%|█▊        | 98/552 [03:04<13:19,  1.76s/it]\u001b[A\u001b[A\u001b[A"
     ]
    },
    {
     "name": "stdout",
     "output_type": "stream",
     "text": [
      "/tf/data/dementia/English/Pitt/Control/cookie/021-0.mp3\n"
     ]
    },
    {
     "name": "stderr",
     "output_type": "stream",
     "text": [
      "\n",
      "\n",
      "\n",
      " 18%|█▊        | 99/552 [03:05<10:37,  1.41s/it]\u001b[A\u001b[A\u001b[A"
     ]
    },
    {
     "name": "stdout",
     "output_type": "stream",
     "text": [
      "/tf/data/dementia/English/Pitt/Control/cookie/678-0.mp3\n"
     ]
    },
    {
     "name": "stderr",
     "output_type": "stream",
     "text": [
      "\n",
      "\n",
      "\n",
      " 18%|█▊        | 100/552 [03:07<13:53,  1.84s/it]\u001b[A\u001b[A\u001b[A"
     ]
    },
    {
     "name": "stdout",
     "output_type": "stream",
     "text": [
      "/tf/data/dementia/English/Pitt/Control/cookie/121-1.mp3\n"
     ]
    },
    {
     "name": "stderr",
     "output_type": "stream",
     "text": [
      "\n",
      "\n",
      "\n",
      " 18%|█▊        | 101/552 [03:11<16:46,  2.23s/it]\u001b[A\u001b[A\u001b[A"
     ]
    },
    {
     "name": "stdout",
     "output_type": "stream",
     "text": [
      "/tf/data/dementia/English/Pitt/Control/cookie/227-1.mp3\n"
     ]
    },
    {
     "name": "stderr",
     "output_type": "stream",
     "text": [
      "\n",
      "\n",
      "\n",
      " 18%|█▊        | 102/552 [03:13<16:16,  2.17s/it]\u001b[A\u001b[A\u001b[A"
     ]
    },
    {
     "name": "stdout",
     "output_type": "stream",
     "text": [
      "/tf/data/dementia/English/Pitt/Control/cookie/034-3.mp3\n"
     ]
    },
    {
     "name": "stderr",
     "output_type": "stream",
     "text": [
      "\n",
      "\n",
      "\n",
      " 19%|█▊        | 103/552 [03:15<17:43,  2.37s/it]\u001b[A\u001b[A\u001b[A"
     ]
    },
    {
     "name": "stdout",
     "output_type": "stream",
     "text": [
      "/tf/data/dementia/English/Pitt/Control/cookie/121-4.mp3\n"
     ]
    },
    {
     "name": "stderr",
     "output_type": "stream",
     "text": [
      "\n",
      "\n",
      "\n",
      " 19%|█▉        | 104/552 [03:19<19:40,  2.63s/it]\u001b[A\u001b[A\u001b[A"
     ]
    },
    {
     "name": "stdout",
     "output_type": "stream",
     "text": [
      "/tf/data/dementia/English/Pitt/Control/cookie/210-1.mp3\n"
     ]
    },
    {
     "name": "stderr",
     "output_type": "stream",
     "text": [
      "\n",
      "\n",
      "\n",
      " 19%|█▉        | 105/552 [03:22<20:13,  2.71s/it]\u001b[A\u001b[A\u001b[A"
     ]
    },
    {
     "name": "stdout",
     "output_type": "stream",
     "text": [
      "/tf/data/dementia/English/Pitt/Control/cookie/208-0.mp3\n"
     ]
    },
    {
     "name": "stderr",
     "output_type": "stream",
     "text": [
      "\n",
      "\n",
      "\n",
      " 19%|█▉        | 106/552 [03:23<17:48,  2.40s/it]\u001b[A\u001b[A\u001b[A"
     ]
    },
    {
     "name": "stdout",
     "output_type": "stream",
     "text": [
      "/tf/data/dementia/English/Pitt/Control/cookie/002-2.mp3\n"
     ]
    },
    {
     "name": "stderr",
     "output_type": "stream",
     "text": [
      "\n",
      "\n",
      "\n",
      " 19%|█▉        | 107/552 [03:26<17:59,  2.43s/it]\u001b[A\u001b[A\u001b[A"
     ]
    },
    {
     "name": "stdout",
     "output_type": "stream",
     "text": [
      "/tf/data/dementia/English/Pitt/Control/cookie/129-1.mp3\n"
     ]
    },
    {
     "name": "stderr",
     "output_type": "stream",
     "text": [
      "\n",
      "\n",
      "\n",
      " 20%|█▉        | 108/552 [03:28<17:51,  2.41s/it]\u001b[A\u001b[A\u001b[A"
     ]
    },
    {
     "name": "stdout",
     "output_type": "stream",
     "text": [
      "/tf/data/dementia/English/Pitt/Control/cookie/150-1.mp3\n"
     ]
    },
    {
     "name": "stderr",
     "output_type": "stream",
     "text": [
      "\n",
      "\n",
      "\n",
      " 20%|█▉        | 109/552 [03:30<16:25,  2.22s/it]\u001b[A\u001b[A\u001b[A"
     ]
    },
    {
     "name": "stdout",
     "output_type": "stream",
     "text": [
      "/tf/data/dementia/English/Pitt/Control/cookie/073-0.mp3\n"
     ]
    },
    {
     "name": "stderr",
     "output_type": "stream",
     "text": [
      "\n",
      "\n",
      "\n",
      " 20%|█▉        | 110/552 [03:33<17:15,  2.34s/it]\u001b[A\u001b[A\u001b[A"
     ]
    },
    {
     "name": "stdout",
     "output_type": "stream",
     "text": [
      "/tf/data/dementia/English/Pitt/Control/cookie/298-1.mp3\n"
     ]
    },
    {
     "name": "stderr",
     "output_type": "stream",
     "text": [
      "\n",
      "\n",
      "\n",
      " 20%|██        | 111/552 [03:33<13:50,  1.88s/it]\u001b[A\u001b[A\u001b[A"
     ]
    },
    {
     "name": "stdout",
     "output_type": "stream",
     "text": [
      "/tf/data/dementia/English/Pitt/Control/cookie/688-0.mp3\n"
     ]
    },
    {
     "name": "stderr",
     "output_type": "stream",
     "text": [
      "\n",
      "\n",
      "\n",
      " 20%|██        | 112/552 [03:35<12:47,  1.74s/it]\u001b[A\u001b[A\u001b[A"
     ]
    },
    {
     "name": "stdout",
     "output_type": "stream",
     "text": [
      "/tf/data/dementia/English/Pitt/Control/cookie/210-2.mp3\n"
     ]
    },
    {
     "name": "stderr",
     "output_type": "stream",
     "text": [
      "\n",
      "\n",
      "\n",
      " 20%|██        | 113/552 [03:39<17:11,  2.35s/it]\u001b[A\u001b[A\u001b[A"
     ]
    },
    {
     "name": "stdout",
     "output_type": "stream",
     "text": [
      "/tf/data/dementia/English/Pitt/Control/cookie/709-2.mp3\n"
     ]
    },
    {
     "name": "stderr",
     "output_type": "stream",
     "text": [
      "\n",
      "\n",
      "\n",
      " 21%|██        | 114/552 [03:40<15:54,  2.18s/it]\u001b[A\u001b[A\u001b[A"
     ]
    },
    {
     "name": "stdout",
     "output_type": "stream",
     "text": [
      "/tf/data/dementia/English/Pitt/Control/cookie/211-2.mp3\n"
     ]
    },
    {
     "name": "stderr",
     "output_type": "stream",
     "text": [
      "\n",
      "\n",
      "\n",
      " 21%|██        | 115/552 [03:43<17:03,  2.34s/it]\u001b[A\u001b[A\u001b[A"
     ]
    },
    {
     "name": "stdout",
     "output_type": "stream",
     "text": [
      "/tf/data/dementia/English/Pitt/Control/cookie/322-1.mp3\n"
     ]
    },
    {
     "name": "stderr",
     "output_type": "stream",
     "text": [
      "\n",
      "\n",
      "\n",
      " 21%|██        | 116/552 [03:45<16:01,  2.21s/it]\u001b[A\u001b[A\u001b[A"
     ]
    },
    {
     "name": "stdout",
     "output_type": "stream",
     "text": [
      "/tf/data/dementia/English/Pitt/Control/cookie/171-0.mp3\n"
     ]
    },
    {
     "name": "stderr",
     "output_type": "stream",
     "text": [
      "\n",
      "\n",
      "\n",
      " 21%|██        | 117/552 [03:46<12:54,  1.78s/it]\u001b[A\u001b[A\u001b[A"
     ]
    },
    {
     "name": "stdout",
     "output_type": "stream",
     "text": [
      "/tf/data/dementia/English/Pitt/Control/cookie/130-1.mp3\n"
     ]
    },
    {
     "name": "stderr",
     "output_type": "stream",
     "text": [
      "\n",
      "\n",
      "\n",
      " 21%|██▏       | 118/552 [03:46<09:38,  1.33s/it]\u001b[A\u001b[A\u001b[A"
     ]
    },
    {
     "name": "stdout",
     "output_type": "stream",
     "text": [
      "/tf/data/dementia/English/Pitt/Control/cookie/166-0.mp3\n"
     ]
    },
    {
     "name": "stderr",
     "output_type": "stream",
     "text": [
      "\n",
      "\n",
      "\n",
      " 22%|██▏       | 119/552 [03:47<08:05,  1.12s/it]\u001b[A\u001b[A\u001b[A"
     ]
    },
    {
     "name": "stdout",
     "output_type": "stream",
     "text": [
      "/tf/data/dementia/English/Pitt/Control/cookie/137-0.mp3\n"
     ]
    },
    {
     "name": "stderr",
     "output_type": "stream",
     "text": [
      "\n",
      "\n",
      "\n",
      " 22%|██▏       | 120/552 [03:50<12:59,  1.80s/it]\u001b[A\u001b[A\u001b[A"
     ]
    },
    {
     "name": "stdout",
     "output_type": "stream",
     "text": [
      "/tf/data/dementia/English/Pitt/Control/cookie/140-3.mp3\n"
     ]
    },
    {
     "name": "stderr",
     "output_type": "stream",
     "text": [
      "\n",
      "\n",
      "\n",
      " 22%|██▏       | 121/552 [03:51<12:05,  1.68s/it]\u001b[A\u001b[A\u001b[A"
     ]
    },
    {
     "name": "stdout",
     "output_type": "stream",
     "text": [
      "/tf/data/dementia/English/Pitt/Control/cookie/243-1.mp3\n"
     ]
    },
    {
     "name": "stderr",
     "output_type": "stream",
     "text": [
      "\n",
      "\n",
      "\n",
      " 22%|██▏       | 122/552 [03:54<14:41,  2.05s/it]\u001b[A\u001b[A\u001b[A"
     ]
    },
    {
     "name": "stdout",
     "output_type": "stream",
     "text": [
      "/tf/data/dementia/English/Pitt/Control/cookie/158-2.mp3\n"
     ]
    },
    {
     "name": "stderr",
     "output_type": "stream",
     "text": [
      "\n",
      "\n",
      "\n",
      " 22%|██▏       | 123/552 [03:55<12:26,  1.74s/it]\u001b[A\u001b[A\u001b[A"
     ]
    },
    {
     "name": "stdout",
     "output_type": "stream",
     "text": [
      "/tf/data/dementia/English/Pitt/Control/cookie/175-3.mp3\n"
     ]
    },
    {
     "name": "stderr",
     "output_type": "stream",
     "text": [
      "\n",
      "\n",
      "\n",
      " 22%|██▏       | 124/552 [03:57<11:21,  1.59s/it]\u001b[A\u001b[A\u001b[A"
     ]
    },
    {
     "name": "stdout",
     "output_type": "stream",
     "text": [
      "/tf/data/dementia/English/Pitt/Control/cookie/113-2.mp3\n"
     ]
    },
    {
     "name": "stderr",
     "output_type": "stream",
     "text": [
      "\n",
      "\n",
      "\n",
      " 23%|██▎       | 125/552 [03:58<11:18,  1.59s/it]\u001b[A\u001b[A\u001b[A"
     ]
    },
    {
     "name": "stdout",
     "output_type": "stream",
     "text": [
      "/tf/data/dementia/English/Pitt/Control/cookie/022-1.mp3\n"
     ]
    },
    {
     "name": "stderr",
     "output_type": "stream",
     "text": [
      "\n",
      "\n",
      "\n",
      " 23%|██▎       | 126/552 [03:59<10:12,  1.44s/it]\u001b[A\u001b[A\u001b[A"
     ]
    },
    {
     "name": "stdout",
     "output_type": "stream",
     "text": [
      "/tf/data/dementia/English/Pitt/Control/cookie/056-3.mp3\n"
     ]
    },
    {
     "name": "stderr",
     "output_type": "stream",
     "text": [
      "\n",
      "\n",
      "\n",
      " 23%|██▎       | 127/552 [04:00<09:22,  1.32s/it]\u001b[A\u001b[A\u001b[A"
     ]
    },
    {
     "name": "stdout",
     "output_type": "stream",
     "text": [
      "/tf/data/dementia/English/Pitt/Control/cookie/292-1.mp3\n"
     ]
    },
    {
     "name": "stderr",
     "output_type": "stream",
     "text": [
      "\n",
      "\n",
      "\n",
      " 23%|██▎       | 128/552 [04:02<09:53,  1.40s/it]\u001b[A\u001b[A\u001b[A"
     ]
    },
    {
     "name": "stdout",
     "output_type": "stream",
     "text": [
      "/tf/data/dementia/English/Pitt/Control/cookie/318-0.mp3\n"
     ]
    },
    {
     "name": "stderr",
     "output_type": "stream",
     "text": [
      "\n",
      "\n",
      "\n",
      " 23%|██▎       | 129/552 [04:04<11:05,  1.57s/it]\u001b[A\u001b[A\u001b[A"
     ]
    },
    {
     "name": "stdout",
     "output_type": "stream",
     "text": [
      "/tf/data/dementia/English/Pitt/Control/cookie/021-3.mp3\n"
     ]
    },
    {
     "name": "stderr",
     "output_type": "stream",
     "text": [
      "\n",
      "\n",
      "\n",
      " 24%|██▎       | 130/552 [04:04<08:39,  1.23s/it]\u001b[A\u001b[A\u001b[A"
     ]
    },
    {
     "name": "stdout",
     "output_type": "stream",
     "text": [
      "/tf/data/dementia/English/Pitt/Control/cookie/167-3.mp3\n"
     ]
    },
    {
     "name": "stderr",
     "output_type": "stream",
     "text": [
      "\n",
      "\n",
      "\n",
      " 24%|██▎       | 131/552 [04:07<12:33,  1.79s/it]\u001b[A\u001b[A\u001b[A"
     ]
    },
    {
     "name": "stdout",
     "output_type": "stream",
     "text": [
      "/tf/data/dementia/English/Pitt/Control/cookie/059-2.mp3\n"
     ]
    },
    {
     "name": "stderr",
     "output_type": "stream",
     "text": [
      "\n",
      "\n",
      "\n",
      " 24%|██▍       | 132/552 [04:08<10:57,  1.57s/it]\u001b[A\u001b[A\u001b[A"
     ]
    },
    {
     "name": "stdout",
     "output_type": "stream",
     "text": [
      "/tf/data/dementia/English/Pitt/Control/cookie/171-1.mp3\n"
     ]
    },
    {
     "name": "stderr",
     "output_type": "stream",
     "text": [
      "\n",
      "\n",
      "\n",
      " 24%|██▍       | 133/552 [04:09<08:27,  1.21s/it]\u001b[A\u001b[A\u001b[A"
     ]
    },
    {
     "name": "stdout",
     "output_type": "stream",
     "text": [
      "/tf/data/dementia/English/Pitt/Control/cookie/054-0.mp3\n"
     ]
    },
    {
     "name": "stderr",
     "output_type": "stream",
     "text": [
      "\n",
      "\n",
      "\n",
      " 24%|██▍       | 134/552 [04:11<10:57,  1.57s/it]\u001b[A\u001b[A\u001b[A"
     ]
    },
    {
     "name": "stdout",
     "output_type": "stream",
     "text": [
      "/tf/data/dementia/English/Pitt/Control/cookie/139-1.mp3\n"
     ]
    },
    {
     "name": "stderr",
     "output_type": "stream",
     "text": [
      "\n",
      "\n",
      "\n",
      " 24%|██▍       | 135/552 [04:12<09:19,  1.34s/it]\u001b[A\u001b[A\u001b[A"
     ]
    },
    {
     "name": "stdout",
     "output_type": "stream",
     "text": [
      "/tf/data/dementia/English/Pitt/Control/cookie/138-3.mp3\n"
     ]
    },
    {
     "name": "stderr",
     "output_type": "stream",
     "text": [
      "\n",
      "\n",
      "\n",
      " 25%|██▍       | 136/552 [04:14<09:45,  1.41s/it]\u001b[A\u001b[A\u001b[A"
     ]
    },
    {
     "name": "stdout",
     "output_type": "stream",
     "text": [
      "/tf/data/dementia/English/Pitt/Control/cookie/280-1.mp3\n"
     ]
    },
    {
     "name": "stderr",
     "output_type": "stream",
     "text": [
      "\n",
      "\n",
      "\n",
      " 25%|██▍       | 137/552 [04:14<07:23,  1.07s/it]\u001b[A\u001b[A\u001b[A"
     ]
    },
    {
     "name": "stdout",
     "output_type": "stream",
     "text": [
      "/tf/data/dementia/English/Pitt/Control/cookie/145-1.mp3\n"
     ]
    },
    {
     "name": "stderr",
     "output_type": "stream",
     "text": [
      "\n",
      "\n",
      "\n",
      " 25%|██▌       | 138/552 [04:15<07:51,  1.14s/it]\u001b[A\u001b[A\u001b[A"
     ]
    },
    {
     "name": "stdout",
     "output_type": "stream",
     "text": [
      "/tf/data/dementia/English/Pitt/Control/cookie/323-1.mp3\n"
     ]
    },
    {
     "name": "stderr",
     "output_type": "stream",
     "text": [
      "\n",
      "\n",
      "\n",
      " 25%|██▌       | 139/552 [04:18<10:30,  1.53s/it]\u001b[A\u001b[A\u001b[A"
     ]
    },
    {
     "name": "stdout",
     "output_type": "stream",
     "text": [
      "/tf/data/dementia/English/Pitt/Control/cookie/045-3.mp3\n"
     ]
    },
    {
     "name": "stderr",
     "output_type": "stream",
     "text": [
      "\n",
      "\n",
      "\n",
      " 25%|██▌       | 140/552 [04:20<12:23,  1.80s/it]\u001b[A\u001b[A\u001b[A"
     ]
    },
    {
     "name": "stdout",
     "output_type": "stream",
     "text": [
      "/tf/data/dementia/English/Pitt/Control/cookie/109-1.mp3\n"
     ]
    },
    {
     "name": "stderr",
     "output_type": "stream",
     "text": [
      "\n",
      "\n",
      "\n",
      " 26%|██▌       | 141/552 [04:22<13:16,  1.94s/it]\u001b[A\u001b[A\u001b[A"
     ]
    },
    {
     "name": "stdout",
     "output_type": "stream",
     "text": [
      "/tf/data/dementia/English/Pitt/Control/cookie/105-2.mp3\n"
     ]
    },
    {
     "name": "stderr",
     "output_type": "stream",
     "text": [
      "\n",
      "\n",
      "\n",
      " 26%|██▌       | 142/552 [04:26<16:04,  2.35s/it]\u001b[A\u001b[A\u001b[A"
     ]
    },
    {
     "name": "stdout",
     "output_type": "stream",
     "text": [
      "/tf/data/dementia/English/Pitt/Control/cookie/336-1.mp3\n"
     ]
    },
    {
     "name": "stderr",
     "output_type": "stream",
     "text": [
      "\n",
      "\n",
      "\n",
      " 26%|██▌       | 143/552 [04:28<15:49,  2.32s/it]\u001b[A\u001b[A\u001b[A"
     ]
    },
    {
     "name": "stdout",
     "output_type": "stream",
     "text": [
      "/tf/data/dementia/English/Pitt/Control/cookie/052-2.mp3\n"
     ]
    },
    {
     "name": "stderr",
     "output_type": "stream",
     "text": [
      "\n",
      "\n",
      "\n",
      " 26%|██▌       | 144/552 [04:28<11:36,  1.71s/it]\u001b[A\u001b[A\u001b[A"
     ]
    },
    {
     "name": "stdout",
     "output_type": "stream",
     "text": [
      "/tf/data/dementia/English/Pitt/Control/cookie/015-4.mp3\n"
     ]
    },
    {
     "name": "stderr",
     "output_type": "stream",
     "text": [
      "\n",
      "\n",
      "\n",
      " 26%|██▋       | 145/552 [04:31<13:11,  1.95s/it]\u001b[A\u001b[A\u001b[A"
     ]
    },
    {
     "name": "stdout",
     "output_type": "stream",
     "text": [
      "/tf/data/dementia/English/Pitt/Control/cookie/229-1.mp3\n"
     ]
    },
    {
     "name": "stderr",
     "output_type": "stream",
     "text": [
      "\n",
      "\n",
      "\n",
      " 26%|██▋       | 146/552 [04:31<10:26,  1.54s/it]\u001b[A\u001b[A\u001b[A"
     ]
    },
    {
     "name": "stdout",
     "output_type": "stream",
     "text": [
      "/tf/data/dementia/English/Pitt/Control/cookie/140-0.mp3\n"
     ]
    },
    {
     "name": "stderr",
     "output_type": "stream",
     "text": [
      "\n",
      "\n",
      "\n",
      " 27%|██▋       | 147/552 [04:34<12:47,  1.89s/it]\u001b[A\u001b[A\u001b[A"
     ]
    },
    {
     "name": "stdout",
     "output_type": "stream",
     "text": [
      "/tf/data/dementia/English/Pitt/Control/cookie/109-4.mp3\n"
     ]
    },
    {
     "name": "stderr",
     "output_type": "stream",
     "text": [
      "\n",
      "\n",
      "\n",
      " 27%|██▋       | 148/552 [04:36<12:14,  1.82s/it]\u001b[A\u001b[A\u001b[A"
     ]
    },
    {
     "name": "stdout",
     "output_type": "stream",
     "text": [
      "/tf/data/dementia/English/Pitt/Control/cookie/323-0.mp3\n"
     ]
    },
    {
     "name": "stderr",
     "output_type": "stream",
     "text": [
      "\n",
      "\n",
      "\n",
      " 27%|██▋       | 149/552 [04:39<15:04,  2.25s/it]\u001b[A\u001b[A\u001b[A"
     ]
    },
    {
     "name": "stdout",
     "output_type": "stream",
     "text": [
      "/tf/data/dementia/English/Pitt/Control/cookie/297-1.mp3\n"
     ]
    },
    {
     "name": "stderr",
     "output_type": "stream",
     "text": [
      "\n",
      "\n",
      "\n",
      " 27%|██▋       | 150/552 [04:40<11:50,  1.77s/it]\u001b[A\u001b[A\u001b[A"
     ]
    },
    {
     "name": "stdout",
     "output_type": "stream",
     "text": [
      "/tf/data/dementia/English/Pitt/Control/cookie/192-2.mp3\n"
     ]
    },
    {
     "name": "stderr",
     "output_type": "stream",
     "text": [
      "\n",
      "\n",
      "\n",
      " 27%|██▋       | 151/552 [04:41<12:05,  1.81s/it]\u001b[A\u001b[A\u001b[A"
     ]
    },
    {
     "name": "stdout",
     "output_type": "stream",
     "text": [
      "/tf/data/dementia/English/Pitt/Control/cookie/092-0.mp3\n"
     ]
    },
    {
     "name": "stderr",
     "output_type": "stream",
     "text": [
      "\n",
      "\n",
      "\n",
      " 28%|██▊       | 152/552 [04:42<10:01,  1.50s/it]\u001b[A\u001b[A\u001b[A"
     ]
    },
    {
     "name": "stdout",
     "output_type": "stream",
     "text": [
      "/tf/data/dementia/English/Pitt/Control/cookie/142-3.mp3\n"
     ]
    },
    {
     "name": "stderr",
     "output_type": "stream",
     "text": [
      "\n",
      "\n",
      "\n",
      " 28%|██▊       | 153/552 [04:43<09:17,  1.40s/it]\u001b[A\u001b[A\u001b[A"
     ]
    },
    {
     "name": "stdout",
     "output_type": "stream",
     "text": [
      "/tf/data/dementia/English/Pitt/Control/cookie/280-0.mp3\n"
     ]
    },
    {
     "name": "stderr",
     "output_type": "stream",
     "text": [
      "\n",
      "\n",
      "\n",
      " 28%|██▊       | 154/552 [04:46<11:25,  1.72s/it]\u001b[A\u001b[A\u001b[A"
     ]
    },
    {
     "name": "stdout",
     "output_type": "stream",
     "text": [
      "/tf/data/dementia/English/Pitt/Control/cookie/275-1.mp3\n"
     ]
    },
    {
     "name": "stderr",
     "output_type": "stream",
     "text": [
      "\n",
      "\n",
      "\n",
      " 28%|██▊       | 155/552 [04:47<10:12,  1.54s/it]\u001b[A\u001b[A\u001b[A"
     ]
    },
    {
     "name": "stdout",
     "output_type": "stream",
     "text": [
      "/tf/data/dementia/English/Pitt/Control/cookie/124-0.mp3\n"
     ]
    },
    {
     "name": "stderr",
     "output_type": "stream",
     "text": [
      "\n",
      "\n",
      "\n",
      " 28%|██▊       | 156/552 [04:49<11:43,  1.78s/it]\u001b[A\u001b[A\u001b[A"
     ]
    },
    {
     "name": "stdout",
     "output_type": "stream",
     "text": [
      "/tf/data/dementia/English/Pitt/Control/cookie/256-2.mp3\n"
     ]
    },
    {
     "name": "stderr",
     "output_type": "stream",
     "text": [
      "\n",
      "\n",
      "\n",
      " 28%|██▊       | 157/552 [04:51<12:16,  1.87s/it]\u001b[A\u001b[A\u001b[A"
     ]
    },
    {
     "name": "stdout",
     "output_type": "stream",
     "text": [
      "/tf/data/dementia/English/Pitt/Control/cookie/042-1.mp3\n"
     ]
    },
    {
     "name": "stderr",
     "output_type": "stream",
     "text": [
      "\n",
      "\n",
      "\n",
      " 29%|██▊       | 158/552 [04:53<12:07,  1.85s/it]\u001b[A\u001b[A\u001b[A"
     ]
    },
    {
     "name": "stdout",
     "output_type": "stream",
     "text": [
      "/tf/data/dementia/English/Pitt/Control/cookie/022-0.mp3\n"
     ]
    },
    {
     "name": "stderr",
     "output_type": "stream",
     "text": [
      "\n",
      "\n",
      "\n",
      " 29%|██▉       | 159/552 [04:55<11:38,  1.78s/it]\u001b[A\u001b[A\u001b[A"
     ]
    },
    {
     "name": "stdout",
     "output_type": "stream",
     "text": [
      "/tf/data/dementia/English/Pitt/Control/cookie/266-1.mp3\n"
     ]
    },
    {
     "name": "stderr",
     "output_type": "stream",
     "text": [
      "\n",
      "\n",
      "\n",
      " 29%|██▉       | 160/552 [04:56<09:58,  1.53s/it]\u001b[A\u001b[A\u001b[A"
     ]
    },
    {
     "name": "stdout",
     "output_type": "stream",
     "text": [
      "/tf/data/dementia/English/Pitt/Control/cookie/002-0.mp3\n"
     ]
    },
    {
     "name": "stderr",
     "output_type": "stream",
     "text": [
      "\n",
      "\n",
      "\n",
      " 29%|██▉       | 161/552 [04:57<10:16,  1.58s/it]\u001b[A\u001b[A\u001b[A"
     ]
    },
    {
     "name": "stdout",
     "output_type": "stream",
     "text": [
      "/tf/data/dementia/English/Pitt/Control/cookie/092-3.mp3\n"
     ]
    },
    {
     "name": "stderr",
     "output_type": "stream",
     "text": [
      "\n",
      "\n",
      "\n",
      " 29%|██▉       | 162/552 [04:58<07:40,  1.18s/it]\u001b[A\u001b[A\u001b[A"
     ]
    },
    {
     "name": "stdout",
     "output_type": "stream",
     "text": [
      "/tf/data/dementia/English/Pitt/Control/cookie/332-0.mp3\n"
     ]
    },
    {
     "name": "stderr",
     "output_type": "stream",
     "text": [
      "\n",
      "\n",
      "\n",
      " 30%|██▉       | 163/552 [04:58<06:22,  1.02it/s]\u001b[A\u001b[A\u001b[A"
     ]
    },
    {
     "name": "stdout",
     "output_type": "stream",
     "text": [
      "/tf/data/dementia/English/Pitt/Control/cookie/042-4.mp3\n"
     ]
    },
    {
     "name": "stderr",
     "output_type": "stream",
     "text": [
      "\n",
      "\n",
      "\n",
      " 30%|██▉       | 164/552 [04:59<05:25,  1.19it/s]\u001b[A\u001b[A\u001b[A"
     ]
    },
    {
     "name": "stdout",
     "output_type": "stream",
     "text": [
      "/tf/data/dementia/English/Pitt/Control/cookie/042-2.mp3\n"
     ]
    },
    {
     "name": "stderr",
     "output_type": "stream",
     "text": [
      "\n",
      "\n",
      "\n",
      " 30%|██▉       | 165/552 [05:00<06:13,  1.04it/s]\u001b[A\u001b[A\u001b[A"
     ]
    },
    {
     "name": "stdout",
     "output_type": "stream",
     "text": [
      "/tf/data/dementia/English/Pitt/Control/cookie/071-4.mp3\n"
     ]
    },
    {
     "name": "stderr",
     "output_type": "stream",
     "text": [
      "\n",
      "\n",
      "\n",
      " 30%|███       | 166/552 [05:00<05:10,  1.24it/s]\u001b[A\u001b[A\u001b[A"
     ]
    },
    {
     "name": "stdout",
     "output_type": "stream",
     "text": [
      "/tf/data/dementia/English/Pitt/Control/cookie/322-2.mp3\n"
     ]
    },
    {
     "name": "stderr",
     "output_type": "stream",
     "text": [
      "\n",
      "\n",
      "\n",
      " 30%|███       | 167/552 [05:01<04:38,  1.38it/s]\u001b[A\u001b[A\u001b[A"
     ]
    },
    {
     "name": "stdout",
     "output_type": "stream",
     "text": [
      "/tf/data/dementia/English/Pitt/Control/cookie/297-2.mp3\n"
     ]
    },
    {
     "name": "stderr",
     "output_type": "stream",
     "text": [
      "\n",
      "\n",
      "\n",
      " 30%|███       | 168/552 [05:03<06:24,  1.00s/it]\u001b[A\u001b[A\u001b[A"
     ]
    },
    {
     "name": "stdout",
     "output_type": "stream",
     "text": [
      "/tf/data/dementia/English/Pitt/Control/cookie/114-4.mp3\n"
     ]
    },
    {
     "name": "stderr",
     "output_type": "stream",
     "text": [
      "\n",
      "\n",
      "\n",
      " 31%|███       | 169/552 [05:03<05:48,  1.10it/s]\u001b[A\u001b[A\u001b[A"
     ]
    },
    {
     "name": "stdout",
     "output_type": "stream",
     "text": [
      "/tf/data/dementia/English/Pitt/Control/cookie/296-1.mp3\n"
     ]
    },
    {
     "name": "stderr",
     "output_type": "stream",
     "text": [
      "\n",
      "\n",
      "\n",
      " 31%|███       | 170/552 [05:06<09:35,  1.51s/it]\u001b[A\u001b[A\u001b[A"
     ]
    },
    {
     "name": "stdout",
     "output_type": "stream",
     "text": [
      "/tf/data/dementia/English/Pitt/Control/cookie/022-2.mp3\n"
     ]
    },
    {
     "name": "stderr",
     "output_type": "stream",
     "text": [
      "\n",
      "\n",
      "\n",
      " 31%|███       | 171/552 [05:08<09:13,  1.45s/it]\u001b[A\u001b[A\u001b[A"
     ]
    },
    {
     "name": "stdout",
     "output_type": "stream",
     "text": [
      "/tf/data/dementia/English/Pitt/Control/cookie/121-2.mp3\n"
     ]
    },
    {
     "name": "stderr",
     "output_type": "stream",
     "text": [
      "\n",
      "\n",
      "\n",
      " 31%|███       | 172/552 [05:11<12:54,  2.04s/it]\u001b[A\u001b[A\u001b[A"
     ]
    },
    {
     "name": "stdout",
     "output_type": "stream",
     "text": [
      "/tf/data/dementia/English/Pitt/Control/cookie/113-0.mp3\n"
     ]
    },
    {
     "name": "stderr",
     "output_type": "stream",
     "text": [
      "\n",
      "\n",
      "\n",
      " 31%|███▏      | 173/552 [05:12<10:42,  1.70s/it]\u001b[A\u001b[A\u001b[A"
     ]
    },
    {
     "name": "stdout",
     "output_type": "stream",
     "text": [
      "/tf/data/dementia/English/Pitt/Control/cookie/274-2.mp3\n"
     ]
    },
    {
     "name": "stderr",
     "output_type": "stream",
     "text": [
      "\n",
      "\n",
      "\n",
      " 32%|███▏      | 174/552 [05:12<08:34,  1.36s/it]\u001b[A\u001b[A\u001b[A"
     ]
    },
    {
     "name": "stdout",
     "output_type": "stream",
     "text": [
      "/tf/data/dementia/English/Pitt/Control/cookie/631-0.mp3\n"
     ]
    },
    {
     "name": "stderr",
     "output_type": "stream",
     "text": [
      "\n",
      "\n",
      "\n",
      " 32%|███▏      | 175/552 [05:13<06:51,  1.09s/it]\u001b[A\u001b[A\u001b[A"
     ]
    },
    {
     "name": "stdout",
     "output_type": "stream",
     "text": [
      "/tf/data/dementia/English/Pitt/Control/cookie/118-3.mp3\n"
     ]
    },
    {
     "name": "stderr",
     "output_type": "stream",
     "text": [
      "\n",
      "\n",
      "\n",
      " 32%|███▏      | 176/552 [05:14<07:31,  1.20s/it]\u001b[A\u001b[A\u001b[A"
     ]
    },
    {
     "name": "stdout",
     "output_type": "stream",
     "text": [
      "/tf/data/dementia/English/Pitt/Control/cookie/139-0.mp3\n"
     ]
    },
    {
     "name": "stderr",
     "output_type": "stream",
     "text": [
      "\n",
      "\n",
      "\n",
      " 32%|███▏      | 177/552 [05:17<10:00,  1.60s/it]\u001b[A\u001b[A\u001b[A"
     ]
    },
    {
     "name": "stdout",
     "output_type": "stream",
     "text": [
      "/tf/data/dementia/English/Pitt/Control/cookie/071-2.mp3\n"
     ]
    },
    {
     "name": "stderr",
     "output_type": "stream",
     "text": [
      "\n",
      "\n",
      "\n",
      " 32%|███▏      | 178/552 [05:18<09:21,  1.50s/it]\u001b[A\u001b[A\u001b[A"
     ]
    },
    {
     "name": "stdout",
     "output_type": "stream",
     "text": [
      "/tf/data/dementia/English/Pitt/Control/cookie/158-3.mp3\n"
     ]
    },
    {
     "name": "stderr",
     "output_type": "stream",
     "text": [
      "\n",
      "\n",
      "\n",
      " 32%|███▏      | 179/552 [05:19<09:01,  1.45s/it]\u001b[A\u001b[A\u001b[A"
     ]
    },
    {
     "name": "stdout",
     "output_type": "stream",
     "text": [
      "/tf/data/dementia/English/Pitt/Control/cookie/243-0.mp3\n"
     ]
    },
    {
     "name": "stderr",
     "output_type": "stream",
     "text": [
      "\n",
      "\n",
      "\n",
      " 33%|███▎      | 180/552 [05:24<15:32,  2.51s/it]\u001b[A\u001b[A\u001b[A"
     ]
    },
    {
     "name": "stdout",
     "output_type": "stream",
     "text": [
      "/tf/data/dementia/English/Pitt/Control/cookie/114-2.mp3\n"
     ]
    },
    {
     "name": "stderr",
     "output_type": "stream",
     "text": [
      "\n",
      "\n",
      "\n",
      " 33%|███▎      | 181/552 [05:25<12:40,  2.05s/it]\u001b[A\u001b[A\u001b[A"
     ]
    },
    {
     "name": "stdout",
     "output_type": "stream",
     "text": [
      "/tf/data/dementia/English/Pitt/Control/cookie/158-0.mp3\n"
     ]
    },
    {
     "name": "stderr",
     "output_type": "stream",
     "text": [
      "\n",
      "\n",
      "\n",
      " 33%|███▎      | 182/552 [05:27<11:58,  1.94s/it]\u001b[A\u001b[A\u001b[A"
     ]
    },
    {
     "name": "stdout",
     "output_type": "stream",
     "text": [
      "/tf/data/dementia/English/Pitt/Control/cookie/128-1.mp3\n"
     ]
    },
    {
     "name": "stderr",
     "output_type": "stream",
     "text": [
      "\n",
      "\n",
      "\n",
      " 33%|███▎      | 183/552 [05:30<14:13,  2.31s/it]\u001b[A\u001b[A\u001b[A"
     ]
    },
    {
     "name": "stdout",
     "output_type": "stream",
     "text": [
      "/tf/data/dementia/English/Pitt/Control/cookie/709-0.mp3\n"
     ]
    },
    {
     "name": "stderr",
     "output_type": "stream",
     "text": [
      "\n",
      "\n",
      "\n",
      " 33%|███▎      | 184/552 [05:31<11:38,  1.90s/it]\u001b[A\u001b[A\u001b[A"
     ]
    },
    {
     "name": "stdout",
     "output_type": "stream",
     "text": [
      "/tf/data/dementia/English/Pitt/Control/cookie/092-2.mp3\n"
     ]
    },
    {
     "name": "stderr",
     "output_type": "stream",
     "text": [
      "\n",
      "\n",
      "\n",
      " 34%|███▎      | 185/552 [05:32<09:07,  1.49s/it]\u001b[A\u001b[A\u001b[A"
     ]
    },
    {
     "name": "stdout",
     "output_type": "stream",
     "text": [
      "/tf/data/dementia/English/Pitt/Control/cookie/086-3.mp3\n"
     ]
    },
    {
     "name": "stderr",
     "output_type": "stream",
     "text": [
      "\n",
      "\n",
      "\n",
      " 34%|███▎      | 186/552 [05:33<08:37,  1.41s/it]\u001b[A\u001b[A\u001b[A"
     ]
    },
    {
     "name": "stdout",
     "output_type": "stream",
     "text": [
      "/tf/data/dementia/English/Pitt/Control/cookie/138-1.mp3\n"
     ]
    },
    {
     "name": "stderr",
     "output_type": "stream",
     "text": [
      "\n",
      "\n",
      "\n",
      " 34%|███▍      | 187/552 [05:35<10:28,  1.72s/it]\u001b[A\u001b[A\u001b[A"
     ]
    },
    {
     "name": "stdout",
     "output_type": "stream",
     "text": [
      "/tf/data/dementia/English/Pitt/Control/cookie/056-0.mp3\n"
     ]
    },
    {
     "name": "stderr",
     "output_type": "stream",
     "text": [
      "\n",
      "\n",
      "\n",
      " 34%|███▍      | 188/552 [05:36<08:25,  1.39s/it]\u001b[A\u001b[A\u001b[A"
     ]
    },
    {
     "name": "stdout",
     "output_type": "stream",
     "text": [
      "/tf/data/dementia/English/Pitt/Control/cookie/055-0.mp3\n"
     ]
    },
    {
     "name": "stderr",
     "output_type": "stream",
     "text": [
      "\n",
      "\n",
      "\n",
      " 34%|███▍      | 189/552 [05:38<08:52,  1.47s/it]\u001b[A\u001b[A\u001b[A"
     ]
    },
    {
     "name": "stdout",
     "output_type": "stream",
     "text": [
      "/tf/data/dementia/English/Pitt/Control/cookie/167-1.mp3\n"
     ]
    },
    {
     "name": "stderr",
     "output_type": "stream",
     "text": [
      "\n",
      "\n",
      "\n",
      " 34%|███▍      | 190/552 [05:39<07:54,  1.31s/it]\u001b[A\u001b[A\u001b[A"
     ]
    },
    {
     "name": "stdout",
     "output_type": "stream",
     "text": [
      "/tf/data/dementia/English/Pitt/Control/cookie/113-3.mp3\n"
     ]
    },
    {
     "name": "stderr",
     "output_type": "stream",
     "text": [
      "\n",
      "\n",
      "\n",
      " 35%|███▍      | 191/552 [05:40<07:22,  1.23s/it]\u001b[A\u001b[A\u001b[A"
     ]
    },
    {
     "name": "stdout",
     "output_type": "stream",
     "text": [
      "/tf/data/dementia/English/Pitt/Control/cookie/275-0.mp3\n"
     ]
    },
    {
     "name": "stderr",
     "output_type": "stream",
     "text": [
      "\n",
      "\n",
      "\n",
      " 35%|███▍      | 192/552 [05:42<08:48,  1.47s/it]\u001b[A\u001b[A\u001b[A"
     ]
    },
    {
     "name": "stdout",
     "output_type": "stream",
     "text": [
      "/tf/data/dementia/English/Pitt/Control/cookie/245-2.mp3\n"
     ]
    },
    {
     "name": "stderr",
     "output_type": "stream",
     "text": [
      "\n",
      "\n",
      "\n",
      " 35%|███▍      | 193/552 [05:44<10:37,  1.78s/it]\u001b[A\u001b[A\u001b[A"
     ]
    },
    {
     "name": "stdout",
     "output_type": "stream",
     "text": [
      "/tf/data/dementia/English/Pitt/Control/cookie/150-2.mp3\n"
     ]
    },
    {
     "name": "stderr",
     "output_type": "stream",
     "text": [
      "\n",
      "\n",
      "\n",
      " 35%|███▌      | 194/552 [05:46<10:59,  1.84s/it]\u001b[A\u001b[A\u001b[A"
     ]
    },
    {
     "name": "stdout",
     "output_type": "stream",
     "text": [
      "/tf/data/dementia/English/Pitt/Control/cookie/232-1.mp3\n"
     ]
    },
    {
     "name": "stderr",
     "output_type": "stream",
     "text": [
      "\n",
      "\n",
      "\n",
      " 35%|███▌      | 195/552 [05:49<12:06,  2.04s/it]\u001b[A\u001b[A\u001b[A"
     ]
    },
    {
     "name": "stdout",
     "output_type": "stream",
     "text": [
      "/tf/data/dementia/English/Pitt/Control/cookie/013-3.mp3\n"
     ]
    },
    {
     "name": "stderr",
     "output_type": "stream",
     "text": [
      "\n",
      "\n",
      "\n",
      " 36%|███▌      | 196/552 [05:50<11:21,  1.91s/it]\u001b[A\u001b[A\u001b[A"
     ]
    },
    {
     "name": "stdout",
     "output_type": "stream",
     "text": [
      "/tf/data/dementia/English/Pitt/Control/cookie/256-0.mp3\n"
     ]
    },
    {
     "name": "stderr",
     "output_type": "stream",
     "text": [
      "\n",
      "\n",
      "\n",
      " 36%|███▌      | 197/552 [05:52<11:09,  1.89s/it]\u001b[A\u001b[A\u001b[A"
     ]
    },
    {
     "name": "stdout",
     "output_type": "stream",
     "text": [
      "/tf/data/dementia/English/Pitt/Control/cookie/267-0.mp3\n"
     ]
    },
    {
     "name": "stderr",
     "output_type": "stream",
     "text": [
      "\n",
      "\n",
      "\n",
      " 36%|███▌      | 198/552 [05:53<10:01,  1.70s/it]\u001b[A\u001b[A\u001b[A"
     ]
    },
    {
     "name": "stdout",
     "output_type": "stream",
     "text": [
      "/tf/data/dementia/English/Pitt/Control/cookie/107-2.mp3\n"
     ]
    },
    {
     "name": "stderr",
     "output_type": "stream",
     "text": [
      "\n",
      "\n",
      "\n",
      " 36%|███▌      | 199/552 [05:54<07:54,  1.34s/it]\u001b[A\u001b[A\u001b[A"
     ]
    },
    {
     "name": "stdout",
     "output_type": "stream",
     "text": [
      "/tf/data/dementia/English/Pitt/Control/cookie/208-2.mp3\n"
     ]
    },
    {
     "name": "stderr",
     "output_type": "stream",
     "text": [
      "\n",
      "\n",
      "\n",
      " 36%|███▌      | 200/552 [05:56<09:30,  1.62s/it]\u001b[A\u001b[A\u001b[A"
     ]
    },
    {
     "name": "stdout",
     "output_type": "stream",
     "text": [
      "/tf/data/dementia/English/Pitt/Control/cookie/280-2.mp3\n"
     ]
    },
    {
     "name": "stderr",
     "output_type": "stream",
     "text": [
      "\n",
      "\n",
      "\n",
      " 36%|███▋      | 201/552 [05:57<08:54,  1.52s/it]\u001b[A\u001b[A\u001b[A"
     ]
    },
    {
     "name": "stdout",
     "output_type": "stream",
     "text": [
      "/tf/data/dementia/English/Pitt/Control/cookie/232-0.mp3\n"
     ]
    },
    {
     "name": "stderr",
     "output_type": "stream",
     "text": [
      "\n",
      "\n",
      "\n",
      " 37%|███▋      | 202/552 [06:00<10:39,  1.83s/it]\u001b[A\u001b[A\u001b[A"
     ]
    },
    {
     "name": "stdout",
     "output_type": "stream",
     "text": [
      "/tf/data/dementia/English/Pitt/Control/cookie/192-0.mp3\n"
     ]
    },
    {
     "name": "stderr",
     "output_type": "stream",
     "text": [
      "\n",
      "\n",
      "\n",
      " 37%|███▋      | 203/552 [06:01<08:59,  1.55s/it]\u001b[A\u001b[A\u001b[A"
     ]
    },
    {
     "name": "stdout",
     "output_type": "stream",
     "text": [
      "/tf/data/dementia/English/Pitt/Control/cookie/242-1.mp3\n"
     ]
    },
    {
     "name": "stderr",
     "output_type": "stream",
     "text": [
      "\n",
      "\n",
      "\n",
      " 37%|███▋      | 204/552 [06:03<10:24,  1.79s/it]\u001b[A\u001b[A\u001b[A"
     ]
    },
    {
     "name": "stdout",
     "output_type": "stream",
     "text": [
      "/tf/data/dementia/English/Pitt/Control/cookie/158-1.mp3\n"
     ]
    },
    {
     "name": "stderr",
     "output_type": "stream",
     "text": [
      "\n",
      "\n",
      "\n",
      " 37%|███▋      | 205/552 [06:05<11:00,  1.90s/it]\u001b[A\u001b[A\u001b[A"
     ]
    },
    {
     "name": "stdout",
     "output_type": "stream",
     "text": [
      "/tf/data/dementia/English/Pitt/Control/cookie/295-1.mp3\n"
     ]
    },
    {
     "name": "stderr",
     "output_type": "stream",
     "text": [
      "\n",
      "\n",
      "\n",
      " 37%|███▋      | 206/552 [06:06<08:10,  1.42s/it]\u001b[A\u001b[A\u001b[A"
     ]
    },
    {
     "name": "stdout",
     "output_type": "stream",
     "text": [
      "/tf/data/dementia/English/Pitt/Control/cookie/086-1.mp3\n"
     ]
    },
    {
     "name": "stderr",
     "output_type": "stream",
     "text": [
      "\n",
      "\n",
      "\n",
      " 38%|███▊      | 207/552 [06:07<08:44,  1.52s/it]\u001b[A\u001b[A\u001b[A"
     ]
    },
    {
     "name": "stdout",
     "output_type": "stream",
     "text": [
      "/tf/data/dementia/English/Pitt/Control/cookie/248-0.mp3\n"
     ]
    },
    {
     "name": "stderr",
     "output_type": "stream",
     "text": [
      "\n",
      "\n",
      "\n",
      " 38%|███▊      | 208/552 [06:10<10:06,  1.76s/it]\u001b[A\u001b[A\u001b[A"
     ]
    },
    {
     "name": "stdout",
     "output_type": "stream",
     "text": [
      "/tf/data/dementia/English/Pitt/Control/cookie/225-2.mp3\n"
     ]
    },
    {
     "name": "stderr",
     "output_type": "stream",
     "text": [
      "\n",
      "\n",
      "\n",
      " 38%|███▊      | 209/552 [06:15<15:42,  2.75s/it]\u001b[A\u001b[A\u001b[A"
     ]
    },
    {
     "name": "stdout",
     "output_type": "stream",
     "text": [
      "/tf/data/dementia/English/Pitt/Control/cookie/059-4.mp3\n"
     ]
    },
    {
     "name": "stderr",
     "output_type": "stream",
     "text": [
      "\n",
      "\n",
      "\n",
      " 38%|███▊      | 210/552 [06:15<11:44,  2.06s/it]\u001b[A\u001b[A\u001b[A"
     ]
    },
    {
     "name": "stdout",
     "output_type": "stream",
     "text": [
      "/tf/data/dementia/English/Pitt/Control/cookie/114-1.mp3\n"
     ]
    },
    {
     "name": "stderr",
     "output_type": "stream",
     "text": [
      "\n",
      "\n",
      "\n",
      " 38%|███▊      | 211/552 [06:17<11:14,  1.98s/it]\u001b[A\u001b[A\u001b[A"
     ]
    },
    {
     "name": "stdout",
     "output_type": "stream",
     "text": [
      "/tf/data/dementia/English/Pitt/Control/cookie/013-4.mp3\n"
     ]
    },
    {
     "name": "stderr",
     "output_type": "stream",
     "text": [
      "\n",
      "\n",
      "\n",
      " 38%|███▊      | 212/552 [06:18<09:49,  1.73s/it]\u001b[A\u001b[A\u001b[A"
     ]
    },
    {
     "name": "stdout",
     "output_type": "stream",
     "text": [
      "/tf/data/dementia/English/Pitt/Control/cookie/304-1.mp3\n"
     ]
    },
    {
     "name": "stderr",
     "output_type": "stream",
     "text": [
      "\n",
      "\n",
      "\n",
      " 39%|███▊      | 213/552 [06:19<07:17,  1.29s/it]\u001b[A\u001b[A\u001b[A"
     ]
    },
    {
     "name": "stdout",
     "output_type": "stream",
     "text": [
      "/tf/data/dementia/English/Pitt/Control/cookie/139-3.mp3\n"
     ]
    },
    {
     "name": "stderr",
     "output_type": "stream",
     "text": [
      "\n",
      "\n",
      "\n",
      " 39%|███▉      | 214/552 [06:19<05:54,  1.05s/it]\u001b[A\u001b[A\u001b[A"
     ]
    },
    {
     "name": "stdout",
     "output_type": "stream",
     "text": [
      "/tf/data/dementia/English/Pitt/Control/cookie/295-0.mp3\n"
     ]
    },
    {
     "name": "stderr",
     "output_type": "stream",
     "text": [
      "\n",
      "\n",
      "\n",
      " 39%|███▉      | 215/552 [06:19<04:35,  1.22it/s]\u001b[A\u001b[A\u001b[A"
     ]
    },
    {
     "name": "stdout",
     "output_type": "stream",
     "text": [
      "/tf/data/dementia/English/Pitt/Control/cookie/661-0.mp3\n"
     ]
    },
    {
     "name": "stderr",
     "output_type": "stream",
     "text": [
      "\n",
      "\n",
      "\n",
      " 39%|███▉      | 216/552 [06:21<06:01,  1.08s/it]\u001b[A\u001b[A\u001b[A"
     ]
    },
    {
     "name": "stdout",
     "output_type": "stream",
     "text": [
      "/tf/data/dementia/English/Pitt/Control/cookie/118-1.mp3\n"
     ]
    },
    {
     "name": "stderr",
     "output_type": "stream",
     "text": [
      "\n",
      "\n",
      "\n",
      " 39%|███▉      | 217/552 [06:23<06:57,  1.24s/it]\u001b[A\u001b[A\u001b[A"
     ]
    },
    {
     "name": "stdout",
     "output_type": "stream",
     "text": [
      "/tf/data/dementia/English/Pitt/Control/cookie/034-4.mp3\n"
     ]
    },
    {
     "name": "stderr",
     "output_type": "stream",
     "text": [
      "\n",
      "\n",
      "\n",
      " 39%|███▉      | 218/552 [06:26<09:48,  1.76s/it]\u001b[A\u001b[A\u001b[A"
     ]
    },
    {
     "name": "stdout",
     "output_type": "stream",
     "text": [
      "/tf/data/dementia/English/Pitt/Control/cookie/245-1.mp3\n"
     ]
    },
    {
     "name": "stderr",
     "output_type": "stream",
     "text": [
      "\n",
      "\n",
      "\n",
      " 40%|███▉      | 219/552 [06:28<11:31,  2.08s/it]\u001b[A\u001b[A\u001b[A"
     ]
    },
    {
     "name": "stdout",
     "output_type": "stream",
     "text": [
      "/tf/data/dementia/English/Pitt/Control/cookie/627-0.mp3\n"
     ]
    },
    {
     "name": "stderr",
     "output_type": "stream",
     "text": [
      "\n",
      "\n",
      "\n",
      " 40%|███▉      | 220/552 [06:30<09:55,  1.79s/it]\u001b[A\u001b[A\u001b[A"
     ]
    },
    {
     "name": "stdout",
     "output_type": "stream",
     "text": [
      "/tf/data/dementia/English/Pitt/Control/cookie/612-0.mp3\n"
     ]
    },
    {
     "name": "stderr",
     "output_type": "stream",
     "text": [
      "\n",
      "\n",
      "\n",
      " 40%|████      | 221/552 [06:32<11:19,  2.05s/it]\u001b[A\u001b[A\u001b[A"
     ]
    },
    {
     "name": "stdout",
     "output_type": "stream",
     "text": [
      "/tf/data/dementia/English/Pitt/Control/cookie/141-2.mp3\n"
     ]
    },
    {
     "name": "stderr",
     "output_type": "stream",
     "text": [
      "\n",
      "\n",
      "\n",
      " 40%|████      | 222/552 [06:34<10:24,  1.89s/it]\u001b[A\u001b[A\u001b[A"
     ]
    },
    {
     "name": "stdout",
     "output_type": "stream",
     "text": [
      "/tf/data/dementia/English/Pitt/Control/cookie/034-0.mp3\n"
     ]
    },
    {
     "name": "stderr",
     "output_type": "stream",
     "text": [
      "\n",
      "\n",
      "\n",
      " 40%|████      | 223/552 [06:37<12:29,  2.28s/it]\u001b[A\u001b[A\u001b[A"
     ]
    },
    {
     "name": "stdout",
     "output_type": "stream",
     "text": [
      "/tf/data/dementia/English/Pitt/Control/cookie/196-1.mp3\n"
     ]
    },
    {
     "name": "stderr",
     "output_type": "stream",
     "text": [
      "\n",
      "\n",
      "\n",
      " 41%|████      | 224/552 [06:39<11:58,  2.19s/it]\u001b[A\u001b[A\u001b[A"
     ]
    },
    {
     "name": "stdout",
     "output_type": "stream",
     "text": [
      "/tf/data/dementia/English/Pitt/Control/cookie/209-3.mp3\n"
     ]
    },
    {
     "name": "stderr",
     "output_type": "stream",
     "text": [
      "\n",
      "\n",
      "\n",
      " 41%|████      | 225/552 [06:43<15:48,  2.90s/it]\u001b[A\u001b[A\u001b[A"
     ]
    },
    {
     "name": "stdout",
     "output_type": "stream",
     "text": [
      "/tf/data/dementia/English/Pitt/Control/cookie/028-4.mp3\n"
     ]
    },
    {
     "name": "stderr",
     "output_type": "stream",
     "text": [
      "\n",
      "\n",
      "\n",
      " 41%|████      | 226/552 [06:46<14:34,  2.68s/it]\u001b[A\u001b[A\u001b[A"
     ]
    },
    {
     "name": "stdout",
     "output_type": "stream",
     "text": [
      "/tf/data/dementia/English/Pitt/Control/cookie/132-1.mp3\n"
     ]
    },
    {
     "name": "stderr",
     "output_type": "stream",
     "text": [
      "\n",
      "\n",
      "\n",
      " 41%|████      | 227/552 [06:47<13:16,  2.45s/it]\u001b[A\u001b[A\u001b[A"
     ]
    },
    {
     "name": "stdout",
     "output_type": "stream",
     "text": [
      "/tf/data/dementia/English/Pitt/Control/cookie/299-1.mp3\n"
     ]
    },
    {
     "name": "stderr",
     "output_type": "stream",
     "text": [
      "\n",
      "\n",
      "\n",
      " 41%|████▏     | 228/552 [06:48<10:16,  1.90s/it]\u001b[A\u001b[A\u001b[A"
     ]
    },
    {
     "name": "stdout",
     "output_type": "stream",
     "text": [
      "/tf/data/dementia/English/Pitt/Control/cookie/002-3.mp3\n"
     ]
    },
    {
     "name": "stderr",
     "output_type": "stream",
     "text": [
      "\n",
      "\n",
      "\n",
      " 41%|████▏     | 229/552 [06:52<13:00,  2.42s/it]\u001b[A\u001b[A\u001b[A"
     ]
    },
    {
     "name": "stdout",
     "output_type": "stream",
     "text": [
      "/tf/data/dementia/English/Pitt/Control/cookie/318-1.mp3\n"
     ]
    },
    {
     "name": "stderr",
     "output_type": "stream",
     "text": [
      "\n",
      "\n",
      "\n",
      " 42%|████▏     | 230/552 [06:53<10:37,  1.98s/it]\u001b[A\u001b[A\u001b[A"
     ]
    },
    {
     "name": "stdout",
     "output_type": "stream",
     "text": [
      "/tf/data/dementia/English/Pitt/Control/cookie/071-0.mp3\n"
     ]
    },
    {
     "name": "stderr",
     "output_type": "stream",
     "text": [
      "\n",
      "\n",
      "\n",
      " 42%|████▏     | 231/552 [06:54<09:12,  1.72s/it]\u001b[A\u001b[A\u001b[A"
     ]
    },
    {
     "name": "stdout",
     "output_type": "stream",
     "text": [
      "/tf/data/dementia/English/Pitt/Control/cookie/150-0.mp3\n"
     ]
    },
    {
     "name": "stderr",
     "output_type": "stream",
     "text": [
      "\n",
      "\n",
      "\n",
      " 42%|████▏     | 232/552 [06:55<07:49,  1.47s/it]\u001b[A\u001b[A\u001b[A"
     ]
    },
    {
     "name": "stdout",
     "output_type": "stream",
     "text": [
      "/tf/data/dementia/English/Pitt/Control/cookie/245-0.mp3\n"
     ]
    },
    {
     "name": "stderr",
     "output_type": "stream",
     "text": [
      "\n",
      "\n",
      "\n",
      " 42%|████▏     | 233/552 [06:56<07:36,  1.43s/it]\u001b[A\u001b[A\u001b[A"
     ]
    },
    {
     "name": "stdout",
     "output_type": "stream",
     "text": [
      "/tf/data/dementia/English/Pitt/Control/cookie/137-3.mp3\n"
     ]
    },
    {
     "name": "stderr",
     "output_type": "stream",
     "text": [
      "\n",
      "\n",
      "\n",
      " 42%|████▏     | 234/552 [06:58<08:45,  1.65s/it]\u001b[A\u001b[A\u001b[A"
     ]
    },
    {
     "name": "stdout",
     "output_type": "stream",
     "text": [
      "/tf/data/dementia/English/Pitt/Control/cookie/017-4.mp3\n"
     ]
    },
    {
     "name": "stderr",
     "output_type": "stream",
     "text": [
      "\n",
      "\n",
      "\n",
      " 43%|████▎     | 235/552 [07:02<11:44,  2.22s/it]\u001b[A\u001b[A\u001b[A"
     ]
    },
    {
     "name": "stdout",
     "output_type": "stream",
     "text": [
      "/tf/data/dementia/English/Pitt/Control/cookie/028-1.mp3\n"
     ]
    },
    {
     "name": "stderr",
     "output_type": "stream",
     "text": [
      "\n",
      "\n",
      "\n",
      " 43%|████▎     | 236/552 [07:04<11:39,  2.21s/it]\u001b[A\u001b[A\u001b[A"
     ]
    },
    {
     "name": "stdout",
     "output_type": "stream",
     "text": [
      "/tf/data/dementia/English/Pitt/Control/cookie/086-0.mp3\n"
     ]
    },
    {
     "name": "stderr",
     "output_type": "stream",
     "text": [
      "\n",
      "\n",
      "\n",
      " 43%|████▎     | 237/552 [07:08<14:22,  2.74s/it]\u001b[A\u001b[A\u001b[A"
     ]
    },
    {
     "name": "stdout",
     "output_type": "stream",
     "text": [
      "/tf/data/dementia/English/Pitt/Control/cookie/255-1.mp3\n"
     ]
    },
    {
     "name": "stderr",
     "output_type": "stream",
     "text": [
      "\n",
      "\n",
      "\n",
      " 43%|████▎     | 238/552 [07:09<11:14,  2.15s/it]\u001b[A\u001b[A\u001b[A"
     ]
    },
    {
     "name": "stdout",
     "output_type": "stream",
     "text": [
      "/tf/data/dementia/English/Pitt/Control/cookie/274-1.mp3\n"
     ]
    },
    {
     "name": "stderr",
     "output_type": "stream",
     "text": [
      "\n",
      "\n",
      "\n",
      " 43%|████▎     | 239/552 [07:10<09:09,  1.75s/it]\u001b[A\u001b[A\u001b[A"
     ]
    },
    {
     "name": "stdout",
     "output_type": "stream",
     "text": [
      "/tf/data/dementia/English/Pitt/Control/cookie/143-3.mp3\n"
     ]
    },
    {
     "name": "stderr",
     "output_type": "stream",
     "text": [
      "\n",
      "\n",
      "\n",
      " 43%|████▎     | 240/552 [07:10<07:01,  1.35s/it]\u001b[A\u001b[A\u001b[A"
     ]
    },
    {
     "name": "stdout",
     "output_type": "stream",
     "text": [
      "/tf/data/dementia/English/Pitt/Control/cookie/071-3.mp3\n"
     ]
    },
    {
     "name": "stderr",
     "output_type": "stream",
     "text": [
      "\n",
      "\n",
      "\n",
      " 44%|████▎     | 241/552 [07:12<07:32,  1.45s/it]\u001b[A\u001b[A\u001b[A"
     ]
    },
    {
     "name": "stdout",
     "output_type": "stream",
     "text": [
      "/tf/data/dementia/English/Pitt/Control/cookie/059-3.mp3\n"
     ]
    },
    {
     "name": "stderr",
     "output_type": "stream",
     "text": [
      "\n",
      "\n",
      "\n",
      " 44%|████▍     | 242/552 [07:12<06:32,  1.27s/it]\u001b[A\u001b[A\u001b[A"
     ]
    },
    {
     "name": "stdout",
     "output_type": "stream",
     "text": [
      "/tf/data/dementia/English/Pitt/Control/cookie/093-1.mp3\n"
     ]
    },
    {
     "name": "stderr",
     "output_type": "stream",
     "text": [
      "\n",
      "\n",
      "\n",
      " 44%|████▍     | 243/552 [07:13<05:00,  1.03it/s]\u001b[A\u001b[A\u001b[A"
     ]
    },
    {
     "name": "stdout",
     "output_type": "stream",
     "text": [
      "/tf/data/dementia/English/Pitt/Dementia/cookie/563-0.mp3\n"
     ]
    },
    {
     "name": "stderr",
     "output_type": "stream",
     "text": [
      "\n",
      "\n",
      "\n",
      " 44%|████▍     | 244/552 [07:15<07:21,  1.43s/it]\u001b[A\u001b[A\u001b[A"
     ]
    },
    {
     "name": "stdout",
     "output_type": "stream",
     "text": [
      "/tf/data/dementia/English/Pitt/Dementia/cookie/076-4.mp3\n"
     ]
    },
    {
     "name": "stderr",
     "output_type": "stream",
     "text": [
      "\n",
      "\n",
      "\n",
      " 44%|████▍     | 245/552 [07:17<07:35,  1.48s/it]\u001b[A\u001b[A\u001b[A"
     ]
    },
    {
     "name": "stdout",
     "output_type": "stream",
     "text": [
      "/tf/data/dementia/English/Pitt/Dementia/cookie/341-0.mp3\n"
     ]
    },
    {
     "name": "stderr",
     "output_type": "stream",
     "text": [
      "\n",
      "\n",
      "\n",
      " 45%|████▍     | 246/552 [07:19<08:27,  1.66s/it]\u001b[A\u001b[A\u001b[A"
     ]
    },
    {
     "name": "stdout",
     "output_type": "stream",
     "text": [
      "/tf/data/dementia/English/Pitt/Dementia/cookie/164-3.mp3\n"
     ]
    },
    {
     "name": "stderr",
     "output_type": "stream",
     "text": [
      "\n",
      "\n",
      "\n",
      " 45%|████▍     | 247/552 [07:20<08:02,  1.58s/it]\u001b[A\u001b[A\u001b[A"
     ]
    },
    {
     "name": "stdout",
     "output_type": "stream",
     "text": [
      "/tf/data/dementia/English/Pitt/Dementia/cookie/585-0.mp3\n"
     ]
    },
    {
     "name": "stderr",
     "output_type": "stream",
     "text": [
      "\n",
      "\n",
      "\n",
      " 45%|████▍     | 248/552 [07:23<09:43,  1.92s/it]\u001b[A\u001b[A\u001b[A"
     ]
    },
    {
     "name": "stdout",
     "output_type": "stream",
     "text": [
      "/tf/data/dementia/English/Pitt/Dementia/cookie/695-0.mp3\n"
     ]
    },
    {
     "name": "stderr",
     "output_type": "stream",
     "text": [
      "\n",
      "\n",
      "\n",
      " 45%|████▌     | 249/552 [07:25<09:41,  1.92s/it]\u001b[A\u001b[A\u001b[A"
     ]
    },
    {
     "name": "stdout",
     "output_type": "stream",
     "text": [
      "/tf/data/dementia/English/Pitt/Dementia/cookie/381-1.mp3\n"
     ]
    },
    {
     "name": "stderr",
     "output_type": "stream",
     "text": [
      "\n",
      "\n",
      "\n",
      " 45%|████▌     | 250/552 [07:26<09:02,  1.80s/it]\u001b[A\u001b[A\u001b[A"
     ]
    },
    {
     "name": "stdout",
     "output_type": "stream",
     "text": [
      "/tf/data/dementia/English/Pitt/Dementia/cookie/504-0.mp3\n"
     ]
    },
    {
     "name": "stderr",
     "output_type": "stream",
     "text": [
      "\n",
      "\n",
      "\n",
      " 45%|████▌     | 251/552 [07:28<08:05,  1.61s/it]\u001b[A\u001b[A\u001b[A"
     ]
    },
    {
     "name": "stdout",
     "output_type": "stream",
     "text": [
      "/tf/data/dementia/English/Pitt/Dementia/cookie/689-0.mp3\n"
     ]
    },
    {
     "name": "stderr",
     "output_type": "stream",
     "text": [
      "\n",
      "\n",
      "\n",
      " 46%|████▌     | 252/552 [07:29<07:41,  1.54s/it]\u001b[A\u001b[A\u001b[A"
     ]
    },
    {
     "name": "stdout",
     "output_type": "stream",
     "text": [
      "/tf/data/dementia/English/Pitt/Dementia/cookie/252-2.mp3\n"
     ]
    },
    {
     "name": "stderr",
     "output_type": "stream",
     "text": [
      "\n",
      "\n",
      "\n",
      " 46%|████▌     | 253/552 [07:30<07:03,  1.42s/it]\u001b[A\u001b[A\u001b[A"
     ]
    },
    {
     "name": "stdout",
     "output_type": "stream",
     "text": [
      "/tf/data/dementia/English/Pitt/Dementia/cookie/252-0.mp3\n"
     ]
    },
    {
     "name": "stderr",
     "output_type": "stream",
     "text": [
      "\n",
      "\n",
      "\n",
      " 46%|████▌     | 254/552 [07:32<08:00,  1.61s/it]\u001b[A\u001b[A\u001b[A"
     ]
    },
    {
     "name": "stdout",
     "output_type": "stream",
     "text": [
      "/tf/data/dementia/English/Pitt/Dementia/cookie/244-0.mp3\n"
     ]
    },
    {
     "name": "stderr",
     "output_type": "stream",
     "text": [
      "\n",
      "\n",
      "\n",
      " 46%|████▌     | 255/552 [07:40<16:41,  3.37s/it]\u001b[A\u001b[A\u001b[A"
     ]
    },
    {
     "name": "stdout",
     "output_type": "stream",
     "text": [
      "/tf/data/dementia/English/Pitt/Dementia/cookie/058-4.mp3\n"
     ]
    },
    {
     "name": "stderr",
     "output_type": "stream",
     "text": [
      "\n",
      "\n",
      "\n",
      " 46%|████▋     | 256/552 [07:41<13:47,  2.79s/it]\u001b[A\u001b[A\u001b[A"
     ]
    },
    {
     "name": "stdout",
     "output_type": "stream",
     "text": [
      "/tf/data/dementia/English/Pitt/Dementia/cookie/672-0.mp3\n"
     ]
    },
    {
     "name": "stderr",
     "output_type": "stream",
     "text": [
      "\n",
      "\n",
      "\n",
      " 47%|████▋     | 257/552 [07:42<10:43,  2.18s/it]\u001b[A\u001b[A\u001b[A"
     ]
    },
    {
     "name": "stdout",
     "output_type": "stream",
     "text": [
      "/tf/data/dementia/English/Pitt/Dementia/cookie/234-0.mp3\n"
     ]
    },
    {
     "name": "stderr",
     "output_type": "stream",
     "text": [
      "\n",
      "\n",
      "\n",
      " 47%|████▋     | 258/552 [07:42<07:55,  1.62s/it]\u001b[A\u001b[A\u001b[A"
     ]
    },
    {
     "name": "stdout",
     "output_type": "stream",
     "text": [
      "/tf/data/dementia/English/Pitt/Dementia/cookie/067-2.mp3\n"
     ]
    },
    {
     "name": "stderr",
     "output_type": "stream",
     "text": [
      "\n",
      "\n",
      "\n",
      " 47%|████▋     | 259/552 [07:45<09:12,  1.89s/it]\u001b[A\u001b[A\u001b[A"
     ]
    },
    {
     "name": "stdout",
     "output_type": "stream",
     "text": [
      "/tf/data/dementia/English/Pitt/Dementia/cookie/601-0.mp3\n"
     ]
    },
    {
     "name": "stderr",
     "output_type": "stream",
     "text": [
      "\n",
      "\n",
      "\n",
      " 47%|████▋     | 260/552 [07:45<07:26,  1.53s/it]\u001b[A\u001b[A\u001b[A"
     ]
    },
    {
     "name": "stdout",
     "output_type": "stream",
     "text": [
      "/tf/data/dementia/English/Pitt/Dementia/cookie/282-0.mp3\n"
     ]
    },
    {
     "name": "stderr",
     "output_type": "stream",
     "text": [
      "\n",
      "\n",
      "\n",
      " 47%|████▋     | 261/552 [07:48<08:40,  1.79s/it]\u001b[A\u001b[A\u001b[A"
     ]
    },
    {
     "name": "stdout",
     "output_type": "stream",
     "text": [
      "/tf/data/dementia/English/Pitt/Dementia/cookie/223-1.mp3\n"
     ]
    },
    {
     "name": "stderr",
     "output_type": "stream",
     "text": [
      "\n",
      "\n",
      "\n",
      " 47%|████▋     | 262/552 [07:51<11:13,  2.32s/it]\u001b[A\u001b[A\u001b[A"
     ]
    },
    {
     "name": "stdout",
     "output_type": "stream",
     "text": [
      "/tf/data/dementia/English/Pitt/Dementia/cookie/010-4.mp3\n"
     ]
    },
    {
     "name": "stderr",
     "output_type": "stream",
     "text": [
      "\n",
      "\n",
      "\n",
      " 48%|████▊     | 263/552 [07:53<10:42,  2.22s/it]\u001b[A\u001b[A\u001b[A"
     ]
    },
    {
     "name": "stdout",
     "output_type": "stream",
     "text": [
      "/tf/data/dementia/English/Pitt/Dementia/cookie/016-3.mp3\n"
     ]
    },
    {
     "name": "stderr",
     "output_type": "stream",
     "text": [
      "\n",
      "\n",
      "\n",
      " 48%|████▊     | 264/552 [07:54<08:09,  1.70s/it]\u001b[A\u001b[A\u001b[A"
     ]
    },
    {
     "name": "stdout",
     "output_type": "stream",
     "text": [
      "/tf/data/dementia/English/Pitt/Dementia/cookie/714-0.mp3\n"
     ]
    },
    {
     "name": "stderr",
     "output_type": "stream",
     "text": [
      "\n",
      "\n",
      "\n",
      " 48%|████▊     | 265/552 [07:56<09:31,  1.99s/it]\u001b[A\u001b[A\u001b[A"
     ]
    },
    {
     "name": "stdout",
     "output_type": "stream",
     "text": [
      "/tf/data/dementia/English/Pitt/Dementia/cookie/350-0.mp3\n"
     ]
    },
    {
     "name": "stderr",
     "output_type": "stream",
     "text": [
      "\n",
      "\n",
      "\n",
      " 48%|████▊     | 266/552 [07:59<10:53,  2.28s/it]\u001b[A\u001b[A\u001b[A"
     ]
    },
    {
     "name": "stdout",
     "output_type": "stream",
     "text": [
      "/tf/data/dementia/English/Pitt/Dementia/cookie/279-1.mp3\n"
     ]
    },
    {
     "name": "stderr",
     "output_type": "stream",
     "text": [
      "\n",
      "\n",
      "\n",
      " 48%|████▊     | 267/552 [08:00<08:01,  1.69s/it]\u001b[A\u001b[A\u001b[A"
     ]
    },
    {
     "name": "stdout",
     "output_type": "stream",
     "text": [
      "/tf/data/dementia/English/Pitt/Dementia/cookie/663-0.mp3\n"
     ]
    },
    {
     "name": "stderr",
     "output_type": "stream",
     "text": [
      "\n",
      "\n",
      "\n",
      " 49%|████▊     | 268/552 [08:00<05:59,  1.27s/it]\u001b[A\u001b[A\u001b[A"
     ]
    },
    {
     "name": "stdout",
     "output_type": "stream",
     "text": [
      "/tf/data/dementia/English/Pitt/Dementia/cookie/450-1.mp3\n"
     ]
    },
    {
     "name": "stderr",
     "output_type": "stream",
     "text": [
      "\n",
      "\n",
      "\n",
      " 49%|████▊     | 269/552 [08:02<06:57,  1.48s/it]\u001b[A\u001b[A\u001b[A"
     ]
    },
    {
     "name": "stdout",
     "output_type": "stream",
     "text": [
      "/tf/data/dementia/English/Pitt/Dementia/cookie/078-0.mp3\n"
     ]
    },
    {
     "name": "stderr",
     "output_type": "stream",
     "text": [
      "\n",
      "\n",
      "\n",
      " 49%|████▉     | 270/552 [08:05<08:39,  1.84s/it]\u001b[A\u001b[A\u001b[A"
     ]
    },
    {
     "name": "stdout",
     "output_type": "stream",
     "text": [
      "/tf/data/dementia/English/Pitt/Dementia/cookie/238-0.mp3\n"
     ]
    },
    {
     "name": "stderr",
     "output_type": "stream",
     "text": [
      "\n",
      "\n",
      "\n",
      " 49%|████▉     | 271/552 [08:10<12:52,  2.75s/it]\u001b[A\u001b[A\u001b[A"
     ]
    },
    {
     "name": "stdout",
     "output_type": "stream",
     "text": [
      "/tf/data/dementia/English/Pitt/Dementia/cookie/122-1.mp3\n"
     ]
    },
    {
     "name": "stderr",
     "output_type": "stream",
     "text": [
      "\n",
      "\n",
      "\n",
      " 49%|████▉     | 272/552 [08:15<16:49,  3.60s/it]\u001b[A\u001b[A\u001b[A"
     ]
    },
    {
     "name": "stdout",
     "output_type": "stream",
     "text": [
      "/tf/data/dementia/English/Pitt/Dementia/cookie/650-0.mp3\n"
     ]
    },
    {
     "name": "stderr",
     "output_type": "stream",
     "text": [
      "\n",
      "\n",
      "\n",
      " 49%|████▉     | 273/552 [08:19<16:54,  3.64s/it]\u001b[A\u001b[A\u001b[A"
     ]
    },
    {
     "name": "stdout",
     "output_type": "stream",
     "text": [
      "/tf/data/dementia/English/Pitt/Dementia/cookie/183-2.mp3\n"
     ]
    },
    {
     "name": "stderr",
     "output_type": "stream",
     "text": [
      "\n",
      "\n",
      "\n",
      " 50%|████▉     | 274/552 [08:20<13:34,  2.93s/it]\u001b[A\u001b[A\u001b[A"
     ]
    },
    {
     "name": "stdout",
     "output_type": "stream",
     "text": [
      "/tf/data/dementia/English/Pitt/Dementia/cookie/551-0.mp3\n"
     ]
    },
    {
     "name": "stderr",
     "output_type": "stream",
     "text": [
      "\n",
      "\n",
      "\n",
      " 50%|████▉     | 275/552 [08:23<12:59,  2.81s/it]\u001b[A\u001b[A\u001b[A"
     ]
    },
    {
     "name": "stdout",
     "output_type": "stream",
     "text": [
      "/tf/data/dementia/English/Pitt/Dementia/cookie/205-1.mp3\n"
     ]
    },
    {
     "name": "stderr",
     "output_type": "stream",
     "text": [
      "\n",
      "\n",
      "\n",
      " 50%|█████     | 276/552 [08:27<15:19,  3.33s/it]\u001b[A\u001b[A\u001b[A"
     ]
    },
    {
     "name": "stdout",
     "output_type": "stream",
     "text": [
      "/tf/data/dementia/English/Pitt/Dementia/cookie/270-1.mp3\n"
     ]
    },
    {
     "name": "stderr",
     "output_type": "stream",
     "text": [
      "\n",
      "\n",
      "\n",
      " 50%|█████     | 277/552 [08:29<12:51,  2.81s/it]\u001b[A\u001b[A\u001b[A"
     ]
    },
    {
     "name": "stdout",
     "output_type": "stream",
     "text": [
      "/tf/data/dementia/English/Pitt/Dementia/cookie/310-0.mp3\n"
     ]
    },
    {
     "name": "stderr",
     "output_type": "stream",
     "text": [
      "\n",
      "\n",
      "\n",
      " 50%|█████     | 278/552 [08:31<12:35,  2.76s/it]\u001b[A\u001b[A\u001b[A"
     ]
    },
    {
     "name": "stdout",
     "output_type": "stream",
     "text": [
      "/tf/data/dementia/English/Pitt/Dementia/cookie/023-0.mp3\n"
     ]
    },
    {
     "name": "stderr",
     "output_type": "stream",
     "text": [
      "\n",
      "\n",
      "\n",
      " 51%|█████     | 279/552 [08:35<13:49,  3.04s/it]\u001b[A\u001b[A\u001b[A"
     ]
    },
    {
     "name": "stdout",
     "output_type": "stream",
     "text": [
      "/tf/data/dementia/English/Pitt/Dementia/cookie/057-0.mp3\n"
     ]
    },
    {
     "name": "stderr",
     "output_type": "stream",
     "text": [
      "\n",
      "\n",
      "\n",
      " 51%|█████     | 280/552 [08:38<13:04,  2.88s/it]\u001b[A\u001b[A\u001b[A"
     ]
    },
    {
     "name": "stdout",
     "output_type": "stream",
     "text": [
      "/tf/data/dementia/English/Pitt/Dementia/cookie/157-2.mp3\n"
     ]
    },
    {
     "name": "stderr",
     "output_type": "stream",
     "text": [
      "\n",
      "\n",
      "\n",
      " 51%|█████     | 281/552 [08:38<09:57,  2.20s/it]\u001b[A\u001b[A\u001b[A"
     ]
    },
    {
     "name": "stdout",
     "output_type": "stream",
     "text": [
      "/tf/data/dementia/English/Pitt/Dementia/cookie/051-3.mp3\n"
     ]
    },
    {
     "name": "stderr",
     "output_type": "stream",
     "text": [
      "\n",
      "\n",
      "\n",
      " 51%|█████     | 282/552 [08:42<12:10,  2.71s/it]\u001b[A\u001b[A\u001b[A"
     ]
    },
    {
     "name": "stdout",
     "output_type": "stream",
     "text": [
      "/tf/data/dementia/English/Pitt/Dementia/cookie/001-2.mp3\n"
     ]
    },
    {
     "name": "stderr",
     "output_type": "stream",
     "text": [
      "\n",
      "\n",
      "\n",
      " 51%|█████▏    | 283/552 [08:45<11:59,  2.68s/it]\u001b[A\u001b[A\u001b[A"
     ]
    },
    {
     "name": "stdout",
     "output_type": "stream",
     "text": [
      "/tf/data/dementia/English/Pitt/Dementia/cookie/493-0.mp3\n"
     ]
    },
    {
     "name": "stderr",
     "output_type": "stream",
     "text": [
      "\n",
      "\n",
      "\n",
      " 51%|█████▏    | 284/552 [08:47<11:43,  2.62s/it]\u001b[A\u001b[A\u001b[A"
     ]
    },
    {
     "name": "stdout",
     "output_type": "stream",
     "text": [
      "/tf/data/dementia/English/Pitt/Dementia/cookie/651-0.mp3\n"
     ]
    },
    {
     "name": "stderr",
     "output_type": "stream",
     "text": [
      "\n",
      "\n",
      "\n",
      " 52%|█████▏    | 285/552 [08:51<12:39,  2.85s/it]\u001b[A\u001b[A\u001b[A"
     ]
    },
    {
     "name": "stdout",
     "output_type": "stream",
     "text": [
      "/tf/data/dementia/English/Pitt/Dementia/cookie/325-1.mp3\n"
     ]
    },
    {
     "name": "stderr",
     "output_type": "stream",
     "text": [
      "\n",
      "\n",
      "\n",
      " 52%|█████▏    | 286/552 [08:52<10:00,  2.26s/it]\u001b[A\u001b[A\u001b[A"
     ]
    },
    {
     "name": "stdout",
     "output_type": "stream",
     "text": [
      "/tf/data/dementia/English/Pitt/Dementia/cookie/639-0.mp3\n"
     ]
    },
    {
     "name": "stderr",
     "output_type": "stream",
     "text": [
      "\n",
      "\n",
      "\n",
      " 52%|█████▏    | 287/552 [08:53<09:21,  2.12s/it]\u001b[A\u001b[A\u001b[A"
     ]
    },
    {
     "name": "stdout",
     "output_type": "stream",
     "text": [
      "/tf/data/dementia/English/Pitt/Dementia/cookie/035-1.mp3\n"
     ]
    },
    {
     "name": "stderr",
     "output_type": "stream",
     "text": [
      "\n",
      "\n",
      "\n",
      " 52%|█████▏    | 288/552 [08:56<09:47,  2.23s/it]\u001b[A\u001b[A\u001b[A"
     ]
    },
    {
     "name": "stdout",
     "output_type": "stream",
     "text": [
      "/tf/data/dementia/English/Pitt/Dementia/cookie/029-1.mp3\n"
     ]
    },
    {
     "name": "stderr",
     "output_type": "stream",
     "text": [
      "\n",
      "\n",
      "\n",
      " 52%|█████▏    | 289/552 [09:01<13:27,  3.07s/it]\u001b[A\u001b[A\u001b[A"
     ]
    },
    {
     "name": "stdout",
     "output_type": "stream",
     "text": [
      "/tf/data/dementia/English/Pitt/Dementia/cookie/339-0.mp3\n"
     ]
    },
    {
     "name": "stderr",
     "output_type": "stream",
     "text": [
      "\n",
      "\n",
      "\n",
      " 53%|█████▎    | 290/552 [09:02<10:46,  2.47s/it]\u001b[A\u001b[A\u001b[A"
     ]
    },
    {
     "name": "stdout",
     "output_type": "stream",
     "text": [
      "/tf/data/dementia/English/Pitt/Dementia/cookie/357-0.mp3\n"
     ]
    },
    {
     "name": "stderr",
     "output_type": "stream",
     "text": [
      "\n",
      "\n",
      "\n",
      " 53%|█████▎    | 291/552 [09:04<10:24,  2.39s/it]\u001b[A\u001b[A\u001b[A"
     ]
    },
    {
     "name": "stdout",
     "output_type": "stream",
     "text": [
      "/tf/data/dementia/English/Pitt/Dementia/cookie/270-0.mp3\n"
     ]
    },
    {
     "name": "stderr",
     "output_type": "stream",
     "text": [
      "\n",
      "\n",
      "\n",
      " 53%|█████▎    | 292/552 [09:07<10:57,  2.53s/it]\u001b[A\u001b[A\u001b[A"
     ]
    },
    {
     "name": "stdout",
     "output_type": "stream",
     "text": [
      "/tf/data/dementia/English/Pitt/Dementia/cookie/579-0.mp3\n"
     ]
    },
    {
     "name": "stderr",
     "output_type": "stream",
     "text": [
      "\n",
      "\n",
      "\n",
      " 53%|█████▎    | 293/552 [09:08<08:46,  2.03s/it]\u001b[A\u001b[A\u001b[A"
     ]
    },
    {
     "name": "stdout",
     "output_type": "stream",
     "text": [
      "/tf/data/dementia/English/Pitt/Dementia/cookie/235-2.mp3\n"
     ]
    },
    {
     "name": "stderr",
     "output_type": "stream",
     "text": [
      "\n",
      "\n",
      "\n",
      " 53%|█████▎    | 294/552 [09:11<09:46,  2.27s/it]\u001b[A\u001b[A\u001b[A"
     ]
    },
    {
     "name": "stdout",
     "output_type": "stream",
     "text": [
      "/tf/data/dementia/English/Pitt/Dementia/cookie/087-1.mp3\n"
     ]
    },
    {
     "name": "stderr",
     "output_type": "stream",
     "text": [
      "\n",
      "\n",
      "\n",
      " 53%|█████▎    | 295/552 [09:13<09:50,  2.30s/it]\u001b[A\u001b[A\u001b[A"
     ]
    },
    {
     "name": "stdout",
     "output_type": "stream",
     "text": [
      "/tf/data/dementia/English/Pitt/Dementia/cookie/528-0.mp3\n"
     ]
    },
    {
     "name": "stderr",
     "output_type": "stream",
     "text": [
      "\n",
      "\n",
      "\n",
      " 54%|█████▎    | 296/552 [09:14<07:59,  1.87s/it]\u001b[A\u001b[A\u001b[A"
     ]
    },
    {
     "name": "stdout",
     "output_type": "stream",
     "text": [
      "/tf/data/dementia/English/Pitt/Dementia/cookie/511-0.mp3\n"
     ]
    },
    {
     "name": "stderr",
     "output_type": "stream",
     "text": [
      "\n",
      "\n",
      "\n",
      " 54%|█████▍    | 297/552 [09:16<08:30,  2.00s/it]\u001b[A\u001b[A\u001b[A"
     ]
    },
    {
     "name": "stdout",
     "output_type": "stream",
     "text": [
      "/tf/data/dementia/English/Pitt/Dementia/cookie/216-0.mp3\n"
     ]
    },
    {
     "name": "stderr",
     "output_type": "stream",
     "text": [
      "\n",
      "\n",
      "\n",
      " 54%|█████▍    | 298/552 [09:17<06:25,  1.52s/it]\u001b[A\u001b[A\u001b[A"
     ]
    },
    {
     "name": "stdout",
     "output_type": "stream",
     "text": [
      "/tf/data/dementia/English/Pitt/Dementia/cookie/368-0.mp3\n"
     ]
    },
    {
     "name": "stderr",
     "output_type": "stream",
     "text": [
      "\n",
      "\n",
      "\n",
      " 54%|█████▍    | 299/552 [09:18<06:08,  1.46s/it]\u001b[A\u001b[A\u001b[A"
     ]
    },
    {
     "name": "stdout",
     "output_type": "stream",
     "text": [
      "/tf/data/dementia/English/Pitt/Dementia/cookie/058-1.mp3\n"
     ]
    },
    {
     "name": "stderr",
     "output_type": "stream",
     "text": [
      "\n",
      "\n",
      "\n",
      " 54%|█████▍    | 300/552 [09:22<08:49,  2.10s/it]\u001b[A\u001b[A\u001b[A"
     ]
    },
    {
     "name": "stdout",
     "output_type": "stream",
     "text": [
      "/tf/data/dementia/English/Pitt/Dementia/cookie/350-1.mp3\n"
     ]
    },
    {
     "name": "stderr",
     "output_type": "stream",
     "text": [
      "\n",
      "\n",
      "\n",
      " 55%|█████▍    | 301/552 [09:25<10:13,  2.45s/it]\u001b[A\u001b[A\u001b[A"
     ]
    },
    {
     "name": "stdout",
     "output_type": "stream",
     "text": [
      "/tf/data/dementia/English/Pitt/Dementia/cookie/269-0.mp3\n"
     ]
    },
    {
     "name": "stderr",
     "output_type": "stream",
     "text": [
      "\n",
      "\n",
      "\n",
      " 55%|█████▍    | 302/552 [09:30<13:56,  3.35s/it]\u001b[A\u001b[A\u001b[A"
     ]
    },
    {
     "name": "stdout",
     "output_type": "stream",
     "text": [
      "/tf/data/dementia/English/Pitt/Dementia/cookie/181-3.mp3\n"
     ]
    },
    {
     "name": "stderr",
     "output_type": "stream",
     "text": [
      "\n",
      "\n",
      "\n",
      " 55%|█████▍    | 303/552 [09:32<12:17,  2.96s/it]\u001b[A\u001b[A\u001b[A"
     ]
    },
    {
     "name": "stdout",
     "output_type": "stream",
     "text": [
      "/tf/data/dementia/English/Pitt/Dementia/cookie/466-0.mp3\n"
     ]
    },
    {
     "name": "stderr",
     "output_type": "stream",
     "text": [
      "\n",
      "\n",
      "\n",
      " 55%|█████▌    | 304/552 [09:34<11:15,  2.72s/it]\u001b[A\u001b[A\u001b[A"
     ]
    },
    {
     "name": "stdout",
     "output_type": "stream",
     "text": [
      "/tf/data/dementia/English/Pitt/Dementia/cookie/497-1.mp3\n"
     ]
    },
    {
     "name": "stderr",
     "output_type": "stream",
     "text": [
      "\n",
      "\n",
      "\n",
      " 55%|█████▌    | 305/552 [09:36<09:39,  2.35s/it]\u001b[A\u001b[A\u001b[A"
     ]
    },
    {
     "name": "stdout",
     "output_type": "stream",
     "text": [
      "/tf/data/dementia/English/Pitt/Dementia/cookie/220-0.mp3\n"
     ]
    },
    {
     "name": "stderr",
     "output_type": "stream",
     "text": [
      "\n",
      "\n",
      "\n",
      " 55%|█████▌    | 306/552 [09:38<09:14,  2.25s/it]\u001b[A\u001b[A\u001b[A"
     ]
    },
    {
     "name": "stdout",
     "output_type": "stream",
     "text": [
      "/tf/data/dementia/English/Pitt/Dementia/cookie/283-0.mp3\n"
     ]
    },
    {
     "name": "stderr",
     "output_type": "stream",
     "text": [
      "\n",
      "\n",
      "\n",
      " 56%|█████▌    | 307/552 [09:39<08:11,  2.01s/it]\u001b[A\u001b[A\u001b[A"
     ]
    },
    {
     "name": "stdout",
     "output_type": "stream",
     "text": [
      "/tf/data/dementia/English/Pitt/Dementia/cookie/702-0.mp3\n"
     ]
    },
    {
     "name": "stderr",
     "output_type": "stream",
     "text": [
      "\n",
      "\n",
      "\n",
      " 56%|█████▌    | 308/552 [09:40<06:32,  1.61s/it]\u001b[A\u001b[A\u001b[A"
     ]
    },
    {
     "name": "stdout",
     "output_type": "stream",
     "text": [
      "/tf/data/dementia/English/Pitt/Dementia/cookie/016-4.mp3\n"
     ]
    },
    {
     "name": "stderr",
     "output_type": "stream",
     "text": [
      "\n",
      "\n",
      "\n",
      " 56%|█████▌    | 309/552 [09:43<07:40,  1.89s/it]\u001b[A\u001b[A\u001b[A"
     ]
    },
    {
     "name": "stdout",
     "output_type": "stream",
     "text": [
      "/tf/data/dementia/English/Pitt/Dementia/cookie/168-1.mp3\n"
     ]
    },
    {
     "name": "stderr",
     "output_type": "stream",
     "text": [
      "\n",
      "\n",
      "\n",
      " 56%|█████▌    | 310/552 [09:45<08:39,  2.15s/it]\u001b[A\u001b[A\u001b[A"
     ]
    },
    {
     "name": "stdout",
     "output_type": "stream",
     "text": [
      "/tf/data/dementia/English/Pitt/Dementia/cookie/609-0.mp3\n"
     ]
    },
    {
     "name": "stderr",
     "output_type": "stream",
     "text": [
      "\n",
      "\n",
      "\n",
      " 56%|█████▋    | 311/552 [09:49<10:45,  2.68s/it]\u001b[A\u001b[A\u001b[A"
     ]
    },
    {
     "name": "stdout",
     "output_type": "stream",
     "text": [
      "/tf/data/dementia/English/Pitt/Dementia/cookie/172-3.mp3\n"
     ]
    },
    {
     "name": "stderr",
     "output_type": "stream",
     "text": [
      "\n",
      "\n",
      "\n",
      " 57%|█████▋    | 312/552 [09:50<08:05,  2.02s/it]\u001b[A\u001b[A\u001b[A"
     ]
    },
    {
     "name": "stdout",
     "output_type": "stream",
     "text": [
      "/tf/data/dementia/English/Pitt/Dementia/cookie/642-0.mp3\n"
     ]
    },
    {
     "name": "stderr",
     "output_type": "stream",
     "text": [
      "\n",
      "\n",
      "\n",
      " 57%|█████▋    | 313/552 [09:51<07:15,  1.82s/it]\u001b[A\u001b[A\u001b[A"
     ]
    },
    {
     "name": "stdout",
     "output_type": "stream",
     "text": [
      "/tf/data/dementia/English/Pitt/Dementia/cookie/581-0.mp3\n"
     ]
    },
    {
     "name": "stderr",
     "output_type": "stream",
     "text": [
      "\n",
      "\n",
      "\n",
      " 57%|█████▋    | 314/552 [09:54<08:08,  2.05s/it]\u001b[A\u001b[A\u001b[A"
     ]
    },
    {
     "name": "stdout",
     "output_type": "stream",
     "text": [
      "/tf/data/dementia/English/Pitt/Dementia/cookie/181-0.mp3\n"
     ]
    },
    {
     "name": "stderr",
     "output_type": "stream",
     "text": [
      "\n",
      "\n",
      "\n",
      " 57%|█████▋    | 315/552 [09:56<08:10,  2.07s/it]\u001b[A\u001b[A\u001b[A"
     ]
    },
    {
     "name": "stdout",
     "output_type": "stream",
     "text": [
      "/tf/data/dementia/English/Pitt/Dementia/cookie/120-1.mp3\n"
     ]
    },
    {
     "name": "stderr",
     "output_type": "stream",
     "text": [
      "\n",
      "\n",
      "\n",
      " 57%|█████▋    | 316/552 [09:58<08:26,  2.14s/it]\u001b[A\u001b[A\u001b[A"
     ]
    },
    {
     "name": "stdout",
     "output_type": "stream",
     "text": [
      "/tf/data/dementia/English/Pitt/Dementia/cookie/057-2.mp3\n"
     ]
    },
    {
     "name": "stderr",
     "output_type": "stream",
     "text": [
      "\n",
      "\n",
      "\n",
      " 57%|█████▋    | 317/552 [10:03<11:06,  2.84s/it]\u001b[A\u001b[A\u001b[A"
     ]
    },
    {
     "name": "stdout",
     "output_type": "stream",
     "text": [
      "/tf/data/dementia/English/Pitt/Dementia/cookie/125-0.mp3\n"
     ]
    },
    {
     "name": "stderr",
     "output_type": "stream",
     "text": [
      "\n",
      "\n",
      "\n",
      " 58%|█████▊    | 318/552 [10:08<14:02,  3.60s/it]\u001b[A\u001b[A\u001b[A"
     ]
    },
    {
     "name": "stdout",
     "output_type": "stream",
     "text": [
      "/tf/data/dementia/English/Pitt/Dementia/cookie/065-0.mp3\n"
     ]
    },
    {
     "name": "stderr",
     "output_type": "stream",
     "text": [
      "\n",
      "\n",
      "\n",
      " 58%|█████▊    | 319/552 [10:10<12:33,  3.23s/it]\u001b[A\u001b[A\u001b[A"
     ]
    },
    {
     "name": "stdout",
     "output_type": "stream",
     "text": [
      "/tf/data/dementia/English/Pitt/Dementia/cookie/291-2.mp3\n"
     ]
    },
    {
     "name": "stderr",
     "output_type": "stream",
     "text": [
      "\n",
      "\n",
      "\n",
      " 58%|█████▊    | 320/552 [10:12<10:15,  2.65s/it]\u001b[A\u001b[A\u001b[A"
     ]
    },
    {
     "name": "stdout",
     "output_type": "stream",
     "text": [
      "/tf/data/dementia/English/Pitt/Dementia/cookie/508-1.mp3\n"
     ]
    },
    {
     "name": "stderr",
     "output_type": "stream",
     "text": [
      "\n",
      "\n",
      "\n",
      " 58%|█████▊    | 321/552 [10:13<09:03,  2.35s/it]\u001b[A\u001b[A\u001b[A"
     ]
    },
    {
     "name": "stdout",
     "output_type": "stream",
     "text": [
      "/tf/data/dementia/English/Pitt/Dementia/cookie/212-2.mp3\n"
     ]
    },
    {
     "name": "stderr",
     "output_type": "stream",
     "text": [
      "\n",
      "\n",
      "\n",
      " 58%|█████▊    | 322/552 [10:17<11:00,  2.87s/it]\u001b[A\u001b[A\u001b[A"
     ]
    },
    {
     "name": "stdout",
     "output_type": "stream",
     "text": [
      "/tf/data/dementia/English/Pitt/Dementia/cookie/181-1.mp3\n"
     ]
    },
    {
     "name": "stderr",
     "output_type": "stream",
     "text": [
      "\n",
      "\n",
      "\n",
      " 59%|█████▊    | 323/552 [10:20<10:37,  2.78s/it]\u001b[A\u001b[A\u001b[A"
     ]
    },
    {
     "name": "stdout",
     "output_type": "stream",
     "text": [
      "/tf/data/dementia/English/Pitt/Dementia/cookie/184-1.mp3\n"
     ]
    },
    {
     "name": "stderr",
     "output_type": "stream",
     "text": [
      "\n",
      "\n",
      "\n",
      " 59%|█████▊    | 324/552 [10:23<11:22,  2.99s/it]\u001b[A\u001b[A\u001b[A"
     ]
    },
    {
     "name": "stdout",
     "output_type": "stream",
     "text": [
      "/tf/data/dementia/English/Pitt/Dementia/cookie/094-2.mp3\n"
     ]
    },
    {
     "name": "stderr",
     "output_type": "stream",
     "text": [
      "\n",
      "\n",
      "\n",
      " 59%|█████▉    | 325/552 [10:27<11:44,  3.10s/it]\u001b[A\u001b[A\u001b[A"
     ]
    },
    {
     "name": "stdout",
     "output_type": "stream",
     "text": [
      "/tf/data/dementia/English/Pitt/Dementia/cookie/168-0.mp3\n"
     ]
    },
    {
     "name": "stderr",
     "output_type": "stream",
     "text": [
      "\n",
      "\n",
      "\n",
      " 59%|█████▉    | 326/552 [10:27<08:38,  2.30s/it]\u001b[A\u001b[A\u001b[A"
     ]
    },
    {
     "name": "stdout",
     "output_type": "stream",
     "text": [
      "/tf/data/dementia/English/Pitt/Dementia/cookie/218-0.mp3\n"
     ]
    },
    {
     "name": "stderr",
     "output_type": "stream",
     "text": [
      "\n",
      "\n",
      "\n",
      " 59%|█████▉    | 327/552 [10:31<10:22,  2.76s/it]\u001b[A\u001b[A\u001b[A"
     ]
    },
    {
     "name": "stdout",
     "output_type": "stream",
     "text": [
      "/tf/data/dementia/English/Pitt/Dementia/cookie/587-0.mp3\n"
     ]
    },
    {
     "name": "stderr",
     "output_type": "stream",
     "text": [
      "\n",
      "\n",
      "\n",
      " 59%|█████▉    | 328/552 [10:33<09:25,  2.53s/it]\u001b[A\u001b[A\u001b[A"
     ]
    },
    {
     "name": "stdout",
     "output_type": "stream",
     "text": [
      "/tf/data/dementia/English/Pitt/Dementia/cookie/122-0.mp3\n"
     ]
    },
    {
     "name": "stderr",
     "output_type": "stream",
     "text": [
      "\n",
      "\n",
      "\n",
      " 60%|█████▉    | 329/552 [10:35<09:06,  2.45s/it]\u001b[A\u001b[A\u001b[A"
     ]
    },
    {
     "name": "stdout",
     "output_type": "stream",
     "text": [
      "/tf/data/dementia/English/Pitt/Dementia/cookie/360-0.mp3\n"
     ]
    },
    {
     "name": "stderr",
     "output_type": "stream",
     "text": [
      "\n",
      "\n",
      "\n",
      " 60%|█████▉    | 330/552 [10:36<07:18,  1.98s/it]\u001b[A\u001b[A\u001b[A"
     ]
    },
    {
     "name": "stdout",
     "output_type": "stream",
     "text": [
      "/tf/data/dementia/English/Pitt/Dementia/cookie/203-1.mp3\n"
     ]
    },
    {
     "name": "stderr",
     "output_type": "stream",
     "text": [
      "\n",
      "\n",
      "\n",
      " 60%|█████▉    | 331/552 [10:41<10:01,  2.72s/it]\u001b[A\u001b[A\u001b[A"
     ]
    },
    {
     "name": "stdout",
     "output_type": "stream",
     "text": [
      "/tf/data/dementia/English/Pitt/Dementia/cookie/595-0.mp3\n"
     ]
    },
    {
     "name": "stderr",
     "output_type": "stream",
     "text": [
      "\n",
      "\n",
      "\n",
      " 60%|██████    | 332/552 [10:42<08:32,  2.33s/it]\u001b[A\u001b[A\u001b[A"
     ]
    },
    {
     "name": "stdout",
     "output_type": "stream",
     "text": [
      "/tf/data/dementia/English/Pitt/Dementia/cookie/325-0.mp3\n"
     ]
    },
    {
     "name": "stderr",
     "output_type": "stream",
     "text": [
      "\n",
      "\n",
      "\n",
      " 60%|██████    | 333/552 [10:44<07:52,  2.16s/it]\u001b[A\u001b[A\u001b[A"
     ]
    },
    {
     "name": "stdout",
     "output_type": "stream",
     "text": [
      "/tf/data/dementia/English/Pitt/Dementia/cookie/676-0.mp3\n"
     ]
    },
    {
     "name": "stderr",
     "output_type": "stream",
     "text": [
      "\n",
      "\n",
      "\n",
      " 61%|██████    | 334/552 [10:44<05:49,  1.60s/it]\u001b[A\u001b[A\u001b[A"
     ]
    },
    {
     "name": "stdout",
     "output_type": "stream",
     "text": [
      "/tf/data/dementia/English/Pitt/Dementia/cookie/051-0.mp3\n"
     ]
    },
    {
     "name": "stderr",
     "output_type": "stream",
     "text": [
      "\n",
      "\n",
      "\n",
      " 61%|██████    | 335/552 [10:45<05:29,  1.52s/it]\u001b[A\u001b[A\u001b[A"
     ]
    },
    {
     "name": "stdout",
     "output_type": "stream",
     "text": [
      "/tf/data/dementia/English/Pitt/Dementia/cookie/471-0.mp3\n"
     ]
    },
    {
     "name": "stderr",
     "output_type": "stream",
     "text": [
      "\n",
      "\n",
      "\n",
      " 61%|██████    | 336/552 [10:46<04:39,  1.30s/it]\u001b[A\u001b[A\u001b[A"
     ]
    },
    {
     "name": "stdout",
     "output_type": "stream",
     "text": [
      "/tf/data/dementia/English/Pitt/Dementia/cookie/355-0.mp3\n"
     ]
    },
    {
     "name": "stderr",
     "output_type": "stream",
     "text": [
      "\n",
      "\n",
      "\n",
      " 61%|██████    | 337/552 [10:47<04:01,  1.12s/it]\u001b[A\u001b[A\u001b[A"
     ]
    },
    {
     "name": "stdout",
     "output_type": "stream",
     "text": [
      "/tf/data/dementia/English/Pitt/Dementia/cookie/270-2.mp3\n"
     ]
    },
    {
     "name": "stderr",
     "output_type": "stream",
     "text": [
      "\n",
      "\n",
      "\n",
      " 61%|██████    | 338/552 [10:50<05:53,  1.65s/it]\u001b[A\u001b[A\u001b[A"
     ]
    },
    {
     "name": "stdout",
     "output_type": "stream",
     "text": [
      "/tf/data/dementia/English/Pitt/Dementia/cookie/016-1.mp3\n"
     ]
    },
    {
     "name": "stderr",
     "output_type": "stream",
     "text": [
      "\n",
      "\n",
      "\n",
      " 61%|██████▏   | 339/552 [10:51<05:18,  1.49s/it]\u001b[A\u001b[A\u001b[A"
     ]
    },
    {
     "name": "stdout",
     "output_type": "stream",
     "text": [
      "/tf/data/dementia/English/Pitt/Dementia/cookie/094-3.mp3\n"
     ]
    },
    {
     "name": "stderr",
     "output_type": "stream",
     "text": [
      "\n",
      "\n",
      "\n",
      " 62%|██████▏   | 340/552 [10:53<06:13,  1.76s/it]\u001b[A\u001b[A\u001b[A"
     ]
    },
    {
     "name": "stdout",
     "output_type": "stream",
     "text": [
      "/tf/data/dementia/English/Pitt/Dementia/cookie/237-2.mp3\n"
     ]
    },
    {
     "name": "stderr",
     "output_type": "stream",
     "text": [
      "\n",
      "\n",
      "\n",
      " 62%|██████▏   | 341/552 [10:56<07:06,  2.02s/it]\u001b[A\u001b[A\u001b[A"
     ]
    },
    {
     "name": "stdout",
     "output_type": "stream",
     "text": [
      "/tf/data/dementia/English/Pitt/Dementia/cookie/493-1.mp3\n"
     ]
    },
    {
     "name": "stderr",
     "output_type": "stream",
     "text": [
      "\n",
      "\n",
      "\n",
      " 62%|██████▏   | 342/552 [10:58<07:16,  2.08s/it]\u001b[A\u001b[A\u001b[A"
     ]
    },
    {
     "name": "stdout",
     "output_type": "stream",
     "text": [
      "/tf/data/dementia/English/Pitt/Dementia/cookie/282-2.mp3\n"
     ]
    },
    {
     "name": "stderr",
     "output_type": "stream",
     "text": [
      "\n",
      "\n",
      "\n",
      " 62%|██████▏   | 343/552 [11:00<07:03,  2.03s/it]\u001b[A\u001b[A\u001b[A"
     ]
    },
    {
     "name": "stdout",
     "output_type": "stream",
     "text": [
      "/tf/data/dementia/English/Pitt/Dementia/cookie/024-2.mp3\n"
     ]
    },
    {
     "name": "stderr",
     "output_type": "stream",
     "text": [
      "\n",
      "\n",
      "\n",
      " 62%|██████▏   | 344/552 [11:03<07:53,  2.28s/it]\u001b[A\u001b[A\u001b[A"
     ]
    },
    {
     "name": "stdout",
     "output_type": "stream",
     "text": [
      "/tf/data/dementia/English/Pitt/Dementia/cookie/223-0.mp3\n"
     ]
    },
    {
     "name": "stderr",
     "output_type": "stream",
     "text": [
      "\n",
      "\n",
      "\n",
      " 62%|██████▎   | 345/552 [11:06<09:02,  2.62s/it]\u001b[A\u001b[A\u001b[A"
     ]
    },
    {
     "name": "stdout",
     "output_type": "stream",
     "text": [
      "/tf/data/dementia/English/Pitt/Dementia/cookie/076-2.mp3\n"
     ]
    },
    {
     "name": "stderr",
     "output_type": "stream",
     "text": [
      "\n",
      "\n",
      "\n",
      " 63%|██████▎   | 346/552 [11:10<09:44,  2.84s/it]\u001b[A\u001b[A\u001b[A"
     ]
    },
    {
     "name": "stdout",
     "output_type": "stream",
     "text": [
      "/tf/data/dementia/English/Pitt/Dementia/cookie/472-0.mp3\n"
     ]
    },
    {
     "name": "stderr",
     "output_type": "stream",
     "text": [
      "\n",
      "\n",
      "\n",
      " 63%|██████▎   | 347/552 [11:13<09:44,  2.85s/it]\u001b[A\u001b[A\u001b[A"
     ]
    },
    {
     "name": "stdout",
     "output_type": "stream",
     "text": [
      "/tf/data/dementia/English/Pitt/Dementia/cookie/033-2.mp3\n"
     ]
    },
    {
     "name": "stderr",
     "output_type": "stream",
     "text": [
      "\n",
      "\n",
      "\n",
      " 63%|██████▎   | 348/552 [11:15<08:43,  2.57s/it]\u001b[A\u001b[A\u001b[A"
     ]
    },
    {
     "name": "stdout",
     "output_type": "stream",
     "text": [
      "/tf/data/dementia/English/Pitt/Dementia/cookie/035-0.mp3\n"
     ]
    },
    {
     "name": "stderr",
     "output_type": "stream",
     "text": [
      "\n",
      "\n",
      "\n",
      " 63%|██████▎   | 349/552 [11:17<08:23,  2.48s/it]\u001b[A\u001b[A\u001b[A"
     ]
    },
    {
     "name": "stdout",
     "output_type": "stream",
     "text": [
      "/tf/data/dementia/English/Pitt/Dementia/cookie/046-0.mp3\n"
     ]
    },
    {
     "name": "stderr",
     "output_type": "stream",
     "text": [
      "\n",
      "\n",
      "\n",
      " 63%|██████▎   | 350/552 [11:19<07:35,  2.26s/it]\u001b[A\u001b[A\u001b[A"
     ]
    },
    {
     "name": "stdout",
     "output_type": "stream",
     "text": [
      "/tf/data/dementia/English/Pitt/Dementia/cookie/014-2.mp3\n"
     ]
    },
    {
     "name": "stderr",
     "output_type": "stream",
     "text": [
      "\n",
      "\n",
      "\n",
      " 64%|██████▎   | 351/552 [11:23<09:57,  2.97s/it]\u001b[A\u001b[A\u001b[A"
     ]
    },
    {
     "name": "stdout",
     "output_type": "stream",
     "text": [
      "/tf/data/dementia/English/Pitt/Dementia/cookie/607-0.mp3\n"
     ]
    },
    {
     "name": "stderr",
     "output_type": "stream",
     "text": [
      "\n",
      "\n",
      "\n",
      " 64%|██████▍   | 352/552 [11:25<08:27,  2.54s/it]\u001b[A\u001b[A\u001b[A"
     ]
    },
    {
     "name": "stdout",
     "output_type": "stream",
     "text": [
      "/tf/data/dementia/English/Pitt/Dementia/cookie/039-0.mp3\n"
     ]
    },
    {
     "name": "stderr",
     "output_type": "stream",
     "text": [
      "\n",
      "\n",
      "\n",
      " 64%|██████▍   | 353/552 [11:27<08:03,  2.43s/it]\u001b[A\u001b[A\u001b[A"
     ]
    },
    {
     "name": "stdout",
     "output_type": "stream",
     "text": [
      "/tf/data/dementia/English/Pitt/Dementia/cookie/062-0.mp3\n"
     ]
    },
    {
     "name": "stderr",
     "output_type": "stream",
     "text": [
      "\n",
      "\n",
      "\n",
      " 64%|██████▍   | 354/552 [11:29<07:50,  2.37s/it]\u001b[A\u001b[A\u001b[A"
     ]
    },
    {
     "name": "stdout",
     "output_type": "stream",
     "text": [
      "/tf/data/dementia/English/Pitt/Dementia/cookie/078-1.mp3\n"
     ]
    },
    {
     "name": "stderr",
     "output_type": "stream",
     "text": [
      "\n",
      "\n",
      "\n",
      " 64%|██████▍   | 355/552 [11:32<08:11,  2.50s/it]\u001b[A\u001b[A\u001b[A"
     ]
    },
    {
     "name": "stdout",
     "output_type": "stream",
     "text": [
      "/tf/data/dementia/English/Pitt/Dementia/cookie/269-1.mp3\n"
     ]
    },
    {
     "name": "stderr",
     "output_type": "stream",
     "text": [
      "\n",
      "\n",
      "\n",
      " 64%|██████▍   | 356/552 [11:36<09:27,  2.90s/it]\u001b[A\u001b[A\u001b[A"
     ]
    },
    {
     "name": "stdout",
     "output_type": "stream",
     "text": [
      "/tf/data/dementia/English/Pitt/Dementia/cookie/337-0.mp3\n"
     ]
    },
    {
     "name": "stderr",
     "output_type": "stream",
     "text": [
      "\n",
      "\n",
      "\n",
      " 65%|██████▍   | 357/552 [11:37<07:52,  2.42s/it]\u001b[A\u001b[A\u001b[A"
     ]
    },
    {
     "name": "stdout",
     "output_type": "stream",
     "text": [
      "/tf/data/dementia/English/Pitt/Dementia/cookie/640-0.mp3\n"
     ]
    },
    {
     "name": "stderr",
     "output_type": "stream",
     "text": [
      "\n",
      "\n",
      "\n",
      " 65%|██████▍   | 358/552 [11:37<05:46,  1.79s/it]\u001b[A\u001b[A\u001b[A"
     ]
    },
    {
     "name": "stdout",
     "output_type": "stream",
     "text": [
      "/tf/data/dementia/English/Pitt/Dementia/cookie/343-0.mp3\n"
     ]
    },
    {
     "name": "stderr",
     "output_type": "stream",
     "text": [
      "\n",
      "\n",
      "\n",
      " 65%|██████▌   | 359/552 [11:39<05:52,  1.83s/it]\u001b[A\u001b[A\u001b[A"
     ]
    },
    {
     "name": "stdout",
     "output_type": "stream",
     "text": [
      "/tf/data/dementia/English/Pitt/Dementia/cookie/120-2.mp3\n"
     ]
    },
    {
     "name": "stderr",
     "output_type": "stream",
     "text": [
      "\n",
      "\n",
      "\n",
      " 65%|██████▌   | 360/552 [11:40<05:12,  1.63s/it]\u001b[A\u001b[A\u001b[A"
     ]
    },
    {
     "name": "stdout",
     "output_type": "stream",
     "text": [
      "/tf/data/dementia/English/Pitt/Dementia/cookie/573-0.mp3\n"
     ]
    },
    {
     "name": "stderr",
     "output_type": "stream",
     "text": [
      "\n",
      "\n",
      "\n",
      " 65%|██████▌   | 361/552 [11:42<05:03,  1.59s/it]\u001b[A\u001b[A\u001b[A"
     ]
    },
    {
     "name": "stdout",
     "output_type": "stream",
     "text": [
      "/tf/data/dementia/English/Pitt/Dementia/cookie/062-3.mp3\n"
     ]
    },
    {
     "name": "stderr",
     "output_type": "stream",
     "text": [
      "\n",
      "\n",
      "\n",
      " 66%|██████▌   | 362/552 [11:43<04:41,  1.48s/it]\u001b[A\u001b[A\u001b[A"
     ]
    },
    {
     "name": "stdout",
     "output_type": "stream",
     "text": [
      "/tf/data/dementia/English/Pitt/Dementia/cookie/212-1.mp3\n"
     ]
    },
    {
     "name": "stderr",
     "output_type": "stream",
     "text": [
      "\n",
      "\n",
      "\n",
      " 66%|██████▌   | 363/552 [11:45<04:42,  1.50s/it]\u001b[A\u001b[A\u001b[A"
     ]
    },
    {
     "name": "stdout",
     "output_type": "stream",
     "text": [
      "/tf/data/dementia/English/Pitt/Dementia/cookie/578-0.mp3\n"
     ]
    },
    {
     "name": "stderr",
     "output_type": "stream",
     "text": [
      "\n",
      "\n",
      "\n",
      " 66%|██████▌   | 364/552 [11:47<05:44,  1.83s/it]\u001b[A\u001b[A\u001b[A"
     ]
    },
    {
     "name": "stdout",
     "output_type": "stream",
     "text": [
      "/tf/data/dementia/English/Pitt/Dementia/cookie/237-1.mp3\n"
     ]
    },
    {
     "name": "stderr",
     "output_type": "stream",
     "text": [
      "\n",
      "\n",
      "\n",
      " 66%|██████▌   | 365/552 [11:49<05:54,  1.90s/it]\u001b[A\u001b[A\u001b[A"
     ]
    },
    {
     "name": "stdout",
     "output_type": "stream",
     "text": [
      "/tf/data/dementia/English/Pitt/Dementia/cookie/184-2.mp3\n"
     ]
    },
    {
     "name": "stderr",
     "output_type": "stream",
     "text": [
      "\n",
      "\n",
      "\n",
      " 66%|██████▋   | 366/552 [11:51<05:49,  1.88s/it]\u001b[A\u001b[A\u001b[A"
     ]
    },
    {
     "name": "stdout",
     "output_type": "stream",
     "text": [
      "/tf/data/dementia/English/Pitt/Dementia/cookie/544-1.mp3\n"
     ]
    },
    {
     "name": "stderr",
     "output_type": "stream",
     "text": [
      "\n",
      "\n",
      "\n",
      " 66%|██████▋   | 367/552 [11:51<04:18,  1.40s/it]\u001b[A\u001b[A\u001b[A"
     ]
    },
    {
     "name": "stdout",
     "output_type": "stream",
     "text": [
      "/tf/data/dementia/English/Pitt/Dementia/cookie/183-3.mp3\n"
     ]
    },
    {
     "name": "stderr",
     "output_type": "stream",
     "text": [
      "\n",
      "\n",
      "\n",
      " 67%|██████▋   | 368/552 [11:53<04:12,  1.37s/it]\u001b[A\u001b[A\u001b[A"
     ]
    },
    {
     "name": "stdout",
     "output_type": "stream",
     "text": [
      "/tf/data/dementia/English/Pitt/Dementia/cookie/033-0.mp3\n"
     ]
    },
    {
     "name": "stderr",
     "output_type": "stream",
     "text": [
      "\n",
      "\n",
      "\n",
      " 67%|██████▋   | 369/552 [11:54<04:17,  1.41s/it]\u001b[A\u001b[A\u001b[A"
     ]
    },
    {
     "name": "stdout",
     "output_type": "stream",
     "text": [
      "/tf/data/dementia/English/Pitt/Dementia/cookie/235-0.mp3\n"
     ]
    },
    {
     "name": "stderr",
     "output_type": "stream",
     "text": [
      "\n",
      "\n",
      "\n",
      " 67%|██████▋   | 370/552 [12:01<08:57,  2.95s/it]\u001b[A\u001b[A\u001b[A"
     ]
    },
    {
     "name": "stdout",
     "output_type": "stream",
     "text": [
      "/tf/data/dementia/English/Pitt/Dementia/cookie/488-1.mp3\n"
     ]
    },
    {
     "name": "stderr",
     "output_type": "stream",
     "text": [
      "\n",
      "\n",
      "\n",
      " 67%|██████▋   | 371/552 [12:01<06:36,  2.19s/it]\u001b[A\u001b[A\u001b[A"
     ]
    },
    {
     "name": "stdout",
     "output_type": "stream",
     "text": [
      "/tf/data/dementia/English/Pitt/Dementia/cookie/291-1.mp3\n"
     ]
    },
    {
     "name": "stderr",
     "output_type": "stream",
     "text": [
      "\n",
      "\n",
      "\n",
      " 67%|██████▋   | 372/552 [12:02<05:12,  1.73s/it]\u001b[A\u001b[A\u001b[A"
     ]
    },
    {
     "name": "stdout",
     "output_type": "stream",
     "text": [
      "/tf/data/dementia/English/Pitt/Dementia/cookie/559-0.mp3\n"
     ]
    },
    {
     "name": "stderr",
     "output_type": "stream",
     "text": [
      "\n",
      "\n",
      "\n",
      " 68%|██████▊   | 373/552 [12:03<04:52,  1.64s/it]\u001b[A\u001b[A\u001b[A"
     ]
    },
    {
     "name": "stdout",
     "output_type": "stream",
     "text": [
      "/tf/data/dementia/English/Pitt/Dementia/cookie/306-0.mp3\n"
     ]
    },
    {
     "name": "stderr",
     "output_type": "stream",
     "text": [
      "\n",
      "\n",
      "\n",
      " 68%|██████▊   | 374/552 [12:07<06:33,  2.21s/it]\u001b[A\u001b[A\u001b[A"
     ]
    },
    {
     "name": "stdout",
     "output_type": "stream",
     "text": [
      "/tf/data/dementia/English/Pitt/Dementia/cookie/221-3.mp3\n"
     ]
    },
    {
     "name": "stderr",
     "output_type": "stream",
     "text": [
      "\n",
      "\n",
      "\n",
      " 68%|██████▊   | 375/552 [12:08<05:57,  2.02s/it]\u001b[A\u001b[A\u001b[A"
     ]
    },
    {
     "name": "stdout",
     "output_type": "stream",
     "text": [
      "/tf/data/dementia/English/Pitt/Dementia/cookie/094-1.mp3\n"
     ]
    },
    {
     "name": "stderr",
     "output_type": "stream",
     "text": [
      "\n",
      "\n",
      "\n",
      " 68%|██████▊   | 376/552 [12:11<06:15,  2.13s/it]\u001b[A\u001b[A\u001b[A"
     ]
    },
    {
     "name": "stdout",
     "output_type": "stream",
     "text": [
      "/tf/data/dementia/English/Pitt/Dementia/cookie/154-1.mp3\n"
     ]
    },
    {
     "name": "stderr",
     "output_type": "stream",
     "text": [
      "\n",
      "\n",
      "\n",
      " 68%|██████▊   | 377/552 [12:15<08:05,  2.78s/it]\u001b[A\u001b[A\u001b[A"
     ]
    },
    {
     "name": "stdout",
     "output_type": "stream",
     "text": [
      "/tf/data/dementia/English/Pitt/Dementia/cookie/144-0.mp3\n"
     ]
    },
    {
     "name": "stderr",
     "output_type": "stream",
     "text": [
      "\n",
      "\n",
      "\n",
      " 68%|██████▊   | 378/552 [12:17<06:59,  2.41s/it]\u001b[A\u001b[A\u001b[A"
     ]
    },
    {
     "name": "stdout",
     "output_type": "stream",
     "text": [
      "/tf/data/dementia/English/Pitt/Dementia/cookie/046-2.mp3\n"
     ]
    },
    {
     "name": "stderr",
     "output_type": "stream",
     "text": [
      "\n",
      "\n",
      "\n",
      " 69%|██████▊   | 379/552 [12:22<09:02,  3.13s/it]\u001b[A\u001b[A\u001b[A"
     ]
    },
    {
     "name": "stdout",
     "output_type": "stream",
     "text": [
      "/tf/data/dementia/English/Pitt/Dementia/cookie/690-0.mp3\n"
     ]
    },
    {
     "name": "stderr",
     "output_type": "stream",
     "text": [
      "\n",
      "\n",
      "\n",
      " 69%|██████▉   | 380/552 [12:24<08:16,  2.89s/it]\u001b[A\u001b[A\u001b[A"
     ]
    },
    {
     "name": "stdout",
     "output_type": "stream",
     "text": [
      "/tf/data/dementia/English/Pitt/Dementia/cookie/636-0.mp3\n"
     ]
    },
    {
     "name": "stderr",
     "output_type": "stream",
     "text": [
      "\n",
      "\n",
      "\n",
      " 69%|██████▉   | 381/552 [12:25<06:51,  2.40s/it]\u001b[A\u001b[A\u001b[A"
     ]
    },
    {
     "name": "stdout",
     "output_type": "stream",
     "text": [
      "/tf/data/dementia/English/Pitt/Dementia/cookie/488-0.mp3\n"
     ]
    },
    {
     "name": "stderr",
     "output_type": "stream",
     "text": [
      "\n",
      "\n",
      "\n",
      " 69%|██████▉   | 382/552 [12:26<05:38,  1.99s/it]\u001b[A\u001b[A\u001b[A"
     ]
    },
    {
     "name": "stdout",
     "output_type": "stream",
     "text": [
      "/tf/data/dementia/English/Pitt/Dementia/cookie/580-0.mp3\n"
     ]
    },
    {
     "name": "stderr",
     "output_type": "stream",
     "text": [
      "\n",
      "\n",
      "\n",
      " 69%|██████▉   | 383/552 [12:27<05:00,  1.78s/it]\u001b[A\u001b[A\u001b[A"
     ]
    },
    {
     "name": "stdout",
     "output_type": "stream",
     "text": [
      "/tf/data/dementia/English/Pitt/Dementia/cookie/356-0.mp3\n"
     ]
    },
    {
     "name": "stderr",
     "output_type": "stream",
     "text": [
      "\n",
      "\n",
      "\n",
      " 70%|██████▉   | 384/552 [12:31<06:09,  2.20s/it]\u001b[A\u001b[A\u001b[A"
     ]
    },
    {
     "name": "stdout",
     "output_type": "stream",
     "text": [
      "/tf/data/dementia/English/Pitt/Dementia/cookie/260-1.mp3\n"
     ]
    },
    {
     "name": "stderr",
     "output_type": "stream",
     "text": [
      "\n",
      "\n",
      "\n",
      " 70%|██████▉   | 385/552 [12:32<05:04,  1.82s/it]\u001b[A\u001b[A\u001b[A"
     ]
    },
    {
     "name": "stdout",
     "output_type": "stream",
     "text": [
      "/tf/data/dementia/English/Pitt/Dementia/cookie/260-2.mp3\n"
     ]
    },
    {
     "name": "stderr",
     "output_type": "stream",
     "text": [
      "\n",
      "\n",
      "\n",
      " 70%|██████▉   | 386/552 [12:34<05:36,  2.02s/it]\u001b[A\u001b[A\u001b[A"
     ]
    },
    {
     "name": "stdout",
     "output_type": "stream",
     "text": [
      "/tf/data/dementia/English/Pitt/Dementia/cookie/066-0.mp3\n"
     ]
    },
    {
     "name": "stderr",
     "output_type": "stream",
     "text": [
      "\n",
      "\n",
      "\n",
      " 70%|███████   | 387/552 [12:37<06:13,  2.26s/it]\u001b[A\u001b[A\u001b[A"
     ]
    },
    {
     "name": "stdout",
     "output_type": "stream",
     "text": [
      "/tf/data/dementia/English/Pitt/Dementia/cookie/033-1.mp3\n"
     ]
    },
    {
     "name": "stderr",
     "output_type": "stream",
     "text": [
      "\n",
      "\n",
      "\n",
      " 70%|███████   | 388/552 [12:43<09:20,  3.42s/it]\u001b[A\u001b[A\u001b[A"
     ]
    },
    {
     "name": "stdout",
     "output_type": "stream",
     "text": [
      "/tf/data/dementia/English/Pitt/Dementia/cookie/610-0.mp3\n"
     ]
    },
    {
     "name": "stderr",
     "output_type": "stream",
     "text": [
      "\n",
      "\n",
      "\n",
      " 70%|███████   | 389/552 [12:45<07:55,  2.92s/it]\u001b[A\u001b[A\u001b[A"
     ]
    },
    {
     "name": "stdout",
     "output_type": "stream",
     "text": [
      "/tf/data/dementia/English/Pitt/Dementia/cookie/704-0.mp3\n"
     ]
    },
    {
     "name": "stderr",
     "output_type": "stream",
     "text": [
      "\n",
      "\n",
      "\n",
      " 71%|███████   | 390/552 [12:46<06:52,  2.55s/it]\u001b[A\u001b[A\u001b[A"
     ]
    },
    {
     "name": "stdout",
     "output_type": "stream",
     "text": [
      "/tf/data/dementia/English/Pitt/Dementia/cookie/005-0.mp3\n"
     ]
    },
    {
     "name": "stderr",
     "output_type": "stream",
     "text": [
      "\n",
      "\n",
      "\n",
      " 71%|███████   | 391/552 [12:49<07:01,  2.62s/it]\u001b[A\u001b[A\u001b[A"
     ]
    },
    {
     "name": "stdout",
     "output_type": "stream",
     "text": [
      "/tf/data/dementia/English/Pitt/Dementia/cookie/539-0.mp3\n"
     ]
    },
    {
     "name": "stderr",
     "output_type": "stream",
     "text": [
      "\n",
      "\n",
      "\n",
      " 71%|███████   | 392/552 [12:54<08:32,  3.20s/it]\u001b[A\u001b[A\u001b[A"
     ]
    },
    {
     "name": "stdout",
     "output_type": "stream",
     "text": [
      "/tf/data/dementia/English/Pitt/Dementia/cookie/164-1.mp3\n"
     ]
    },
    {
     "name": "stderr",
     "output_type": "stream",
     "text": [
      "\n",
      "\n",
      "\n",
      " 71%|███████   | 393/552 [12:55<06:42,  2.53s/it]\u001b[A\u001b[A\u001b[A"
     ]
    },
    {
     "name": "stdout",
     "output_type": "stream",
     "text": [
      "/tf/data/dementia/English/Pitt/Dementia/cookie/342-0.mp3\n"
     ]
    },
    {
     "name": "stderr",
     "output_type": "stream",
     "text": [
      "\n",
      "\n",
      "\n",
      " 71%|███████▏  | 394/552 [12:57<06:13,  2.36s/it]\u001b[A\u001b[A\u001b[A"
     ]
    },
    {
     "name": "stdout",
     "output_type": "stream",
     "text": [
      "/tf/data/dementia/English/Pitt/Dementia/cookie/061-0.mp3\n"
     ]
    },
    {
     "name": "stderr",
     "output_type": "stream",
     "text": [
      "\n",
      "\n",
      "\n",
      " 72%|███████▏  | 395/552 [12:59<05:59,  2.29s/it]\u001b[A\u001b[A\u001b[A"
     ]
    },
    {
     "name": "stdout",
     "output_type": "stream",
     "text": [
      "/tf/data/dementia/English/Pitt/Dementia/cookie/024-1.mp3\n"
     ]
    },
    {
     "name": "stderr",
     "output_type": "stream",
     "text": [
      "\n",
      "\n",
      "\n",
      " 72%|███████▏  | 396/552 [13:01<05:52,  2.26s/it]\u001b[A\u001b[A\u001b[A"
     ]
    },
    {
     "name": "stdout",
     "output_type": "stream",
     "text": [
      "/tf/data/dementia/English/Pitt/Dementia/cookie/157-1.mp3\n"
     ]
    },
    {
     "name": "stderr",
     "output_type": "stream",
     "text": [
      "\n",
      "\n",
      "\n",
      " 72%|███████▏  | 397/552 [13:07<09:02,  3.50s/it]\u001b[A\u001b[A\u001b[A"
     ]
    },
    {
     "name": "stdout",
     "output_type": "stream",
     "text": [
      "/tf/data/dementia/English/Pitt/Dementia/cookie/530-0.mp3\n"
     ]
    },
    {
     "name": "stderr",
     "output_type": "stream",
     "text": [
      "\n",
      "\n",
      "\n",
      " 72%|███████▏  | 398/552 [13:09<07:49,  3.05s/it]\u001b[A\u001b[A\u001b[A"
     ]
    },
    {
     "name": "stdout",
     "output_type": "stream",
     "text": [
      "/tf/data/dementia/English/Pitt/Dementia/cookie/033-3.mp3\n"
     ]
    },
    {
     "name": "stderr",
     "output_type": "stream",
     "text": [
      "\n",
      "\n",
      "\n",
      " 72%|███████▏  | 399/552 [13:11<06:48,  2.67s/it]\u001b[A\u001b[A\u001b[A"
     ]
    },
    {
     "name": "stdout",
     "output_type": "stream",
     "text": [
      "/tf/data/dementia/English/Pitt/Dementia/cookie/120-0.mp3\n"
     ]
    },
    {
     "name": "stderr",
     "output_type": "stream",
     "text": [
      "\n",
      "\n",
      "\n",
      " 72%|███████▏  | 400/552 [13:12<05:22,  2.12s/it]\u001b[A\u001b[A\u001b[A"
     ]
    },
    {
     "name": "stdout",
     "output_type": "stream",
     "text": [
      "/tf/data/dementia/English/Pitt/Dementia/cookie/497-0.mp3\n"
     ]
    },
    {
     "name": "stderr",
     "output_type": "stream",
     "text": [
      "\n",
      "\n",
      "\n",
      " 73%|███████▎  | 401/552 [13:14<05:04,  2.01s/it]\u001b[A\u001b[A\u001b[A"
     ]
    },
    {
     "name": "stdout",
     "output_type": "stream",
     "text": [
      "/tf/data/dementia/English/Pitt/Dementia/cookie/120-3.mp3\n"
     ]
    },
    {
     "name": "stderr",
     "output_type": "stream",
     "text": [
      "\n",
      "\n",
      "\n",
      " 73%|███████▎  | 402/552 [13:16<05:01,  2.01s/it]\u001b[A\u001b[A\u001b[A"
     ]
    },
    {
     "name": "stdout",
     "output_type": "stream",
     "text": [
      "/tf/data/dementia/English/Pitt/Dementia/cookie/271-2.mp3\n"
     ]
    },
    {
     "name": "stderr",
     "output_type": "stream",
     "text": [
      "\n",
      "\n",
      "\n",
      " 73%|███████▎  | 403/552 [13:16<03:55,  1.58s/it]\u001b[A\u001b[A\u001b[A"
     ]
    },
    {
     "name": "stdout",
     "output_type": "stream",
     "text": [
      "/tf/data/dementia/English/Pitt/Dementia/cookie/247-0.mp3\n"
     ]
    },
    {
     "name": "stderr",
     "output_type": "stream",
     "text": [
      "\n",
      "\n",
      "\n",
      " 73%|███████▎  | 404/552 [13:22<07:08,  2.89s/it]\u001b[A\u001b[A\u001b[A"
     ]
    },
    {
     "name": "stdout",
     "output_type": "stream",
     "text": [
      "/tf/data/dementia/English/Pitt/Dementia/cookie/010-3.mp3\n"
     ]
    },
    {
     "name": "stderr",
     "output_type": "stream",
     "text": [
      "\n",
      "\n",
      "\n",
      " 73%|███████▎  | 405/552 [13:24<06:02,  2.47s/it]\u001b[A\u001b[A\u001b[A"
     ]
    },
    {
     "name": "stdout",
     "output_type": "stream",
     "text": [
      "/tf/data/dementia/English/Pitt/Dementia/cookie/207-0.mp3\n"
     ]
    },
    {
     "name": "stderr",
     "output_type": "stream",
     "text": [
      "\n",
      "\n",
      "\n",
      " 74%|███████▎  | 406/552 [13:32<10:29,  4.31s/it]\u001b[A\u001b[A\u001b[A"
     ]
    },
    {
     "name": "stdout",
     "output_type": "stream",
     "text": [
      "/tf/data/dementia/English/Pitt/Dementia/cookie/268-0.mp3\n"
     ]
    },
    {
     "name": "stderr",
     "output_type": "stream",
     "text": [
      "\n",
      "\n",
      "\n",
      " 74%|███████▎  | 407/552 [13:43<14:45,  6.11s/it]\u001b[A\u001b[A\u001b[A"
     ]
    },
    {
     "name": "stdout",
     "output_type": "stream",
     "text": [
      "/tf/data/dementia/English/Pitt/Dementia/cookie/526-1.mp3\n"
     ]
    },
    {
     "name": "stderr",
     "output_type": "stream",
     "text": [
      "\n",
      "\n",
      "\n",
      " 74%|███████▍  | 408/552 [13:45<11:43,  4.89s/it]\u001b[A\u001b[A\u001b[A"
     ]
    },
    {
     "name": "stdout",
     "output_type": "stream",
     "text": [
      "/tf/data/dementia/English/Pitt/Dementia/cookie/134-1.mp3\n"
     ]
    },
    {
     "name": "stderr",
     "output_type": "stream",
     "text": [
      "\n",
      "\n",
      "\n",
      " 74%|███████▍  | 409/552 [13:46<08:54,  3.74s/it]\u001b[A\u001b[A\u001b[A"
     ]
    },
    {
     "name": "stdout",
     "output_type": "stream",
     "text": [
      "/tf/data/dementia/English/Pitt/Dementia/cookie/369-0.mp3\n"
     ]
    },
    {
     "name": "stderr",
     "output_type": "stream",
     "text": [
      "\n",
      "\n",
      "\n",
      " 74%|███████▍  | 410/552 [13:51<09:40,  4.09s/it]\u001b[A\u001b[A\u001b[A"
     ]
    },
    {
     "name": "stdout",
     "output_type": "stream",
     "text": [
      "/tf/data/dementia/English/Pitt/Dementia/cookie/057-1.mp3\n"
     ]
    },
    {
     "name": "stderr",
     "output_type": "stream",
     "text": [
      "\n",
      "\n",
      "\n",
      " 74%|███████▍  | 411/552 [13:55<09:33,  4.07s/it]\u001b[A\u001b[A\u001b[A"
     ]
    },
    {
     "name": "stdout",
     "output_type": "stream",
     "text": [
      "/tf/data/dementia/English/Pitt/Dementia/cookie/703-0.mp3\n"
     ]
    },
    {
     "name": "stderr",
     "output_type": "stream",
     "text": [
      "\n",
      "\n",
      "\n",
      " 75%|███████▍  | 412/552 [13:55<06:58,  2.99s/it]\u001b[A\u001b[A\u001b[A"
     ]
    },
    {
     "name": "stdout",
     "output_type": "stream",
     "text": [
      "/tf/data/dementia/English/Pitt/Dementia/cookie/698-0.mp3\n"
     ]
    },
    {
     "name": "stderr",
     "output_type": "stream",
     "text": [
      "\n",
      "\n",
      "\n",
      " 75%|███████▍  | 413/552 [13:59<07:20,  3.17s/it]\u001b[A\u001b[A\u001b[A"
     ]
    },
    {
     "name": "stdout",
     "output_type": "stream",
     "text": [
      "/tf/data/dementia/English/Pitt/Dementia/cookie/203-0.mp3\n"
     ]
    },
    {
     "name": "stderr",
     "output_type": "stream",
     "text": [
      "\n",
      "\n",
      "\n",
      " 75%|███████▌  | 414/552 [14:03<08:20,  3.62s/it]\u001b[A\u001b[A\u001b[A"
     ]
    },
    {
     "name": "stdout",
     "output_type": "stream",
     "text": [
      "/tf/data/dementia/English/Pitt/Dementia/cookie/338-0.mp3\n"
     ]
    },
    {
     "name": "stderr",
     "output_type": "stream",
     "text": [
      "\n",
      "\n",
      "\n",
      " 75%|███████▌  | 415/552 [14:04<05:59,  2.62s/it]\u001b[A\u001b[A\u001b[A"
     ]
    },
    {
     "name": "stdout",
     "output_type": "stream",
     "text": [
      "/tf/data/dementia/English/Pitt/Dementia/cookie/033-4.mp3\n"
     ]
    },
    {
     "name": "stderr",
     "output_type": "stream",
     "text": [
      "\n",
      "\n",
      "\n",
      " 75%|███████▌  | 416/552 [14:06<05:58,  2.64s/it]\u001b[A\u001b[A\u001b[A"
     ]
    },
    {
     "name": "stdout",
     "output_type": "stream",
     "text": [
      "/tf/data/dementia/English/Pitt/Dementia/cookie/615-0.mp3\n"
     ]
    },
    {
     "name": "stderr",
     "output_type": "stream",
     "text": [
      "\n",
      "\n",
      "\n",
      " 76%|███████▌  | 417/552 [14:07<04:20,  1.93s/it]\u001b[A\u001b[A\u001b[A"
     ]
    },
    {
     "name": "stdout",
     "output_type": "stream",
     "text": [
      "/tf/data/dementia/English/Pitt/Dementia/cookie/358-0.mp3\n"
     ]
    },
    {
     "name": "stderr",
     "output_type": "stream",
     "text": [
      "\n",
      "\n",
      "\n",
      " 76%|███████▌  | 418/552 [14:07<03:31,  1.58s/it]\u001b[A\u001b[A\u001b[A"
     ]
    },
    {
     "name": "stdout",
     "output_type": "stream",
     "text": [
      "/tf/data/dementia/English/Pitt/Dementia/cookie/218-1.mp3\n"
     ]
    },
    {
     "name": "stderr",
     "output_type": "stream",
     "text": [
      "\n",
      "\n",
      "\n",
      " 76%|███████▌  | 419/552 [14:11<04:43,  2.13s/it]\u001b[A\u001b[A\u001b[A"
     ]
    },
    {
     "name": "stdout",
     "output_type": "stream",
     "text": [
      "/tf/data/dementia/English/Pitt/Dementia/cookie/178-0.mp3\n"
     ]
    },
    {
     "name": "stderr",
     "output_type": "stream",
     "text": [
      "\n",
      "\n",
      "\n",
      " 76%|███████▌  | 420/552 [14:15<06:08,  2.79s/it]\u001b[A\u001b[A\u001b[A"
     ]
    },
    {
     "name": "stdout",
     "output_type": "stream",
     "text": [
      "/tf/data/dementia/English/Pitt/Dementia/cookie/355-1.mp3\n"
     ]
    },
    {
     "name": "stderr",
     "output_type": "stream",
     "text": [
      "\n",
      "\n",
      "\n",
      " 76%|███████▋  | 421/552 [14:17<05:16,  2.42s/it]\u001b[A\u001b[A\u001b[A"
     ]
    },
    {
     "name": "stdout",
     "output_type": "stream",
     "text": [
      "/tf/data/dementia/English/Pitt/Dementia/cookie/344-0.mp3\n"
     ]
    },
    {
     "name": "stderr",
     "output_type": "stream",
     "text": [
      "\n",
      "\n",
      "\n",
      " 76%|███████▋  | 422/552 [14:18<04:46,  2.21s/it]\u001b[A\u001b[A\u001b[A"
     ]
    },
    {
     "name": "stdout",
     "output_type": "stream",
     "text": [
      "/tf/data/dementia/English/Pitt/Dementia/cookie/354-0.mp3\n"
     ]
    },
    {
     "name": "stderr",
     "output_type": "stream",
     "text": [
      "\n",
      "\n",
      "\n",
      " 77%|███████▋  | 423/552 [14:20<04:16,  1.99s/it]\u001b[A\u001b[A\u001b[A"
     ]
    },
    {
     "name": "stdout",
     "output_type": "stream",
     "text": [
      "/tf/data/dementia/English/Pitt/Dementia/cookie/458-0.mp3\n"
     ]
    },
    {
     "name": "stderr",
     "output_type": "stream",
     "text": [
      "\n",
      "\n",
      "\n",
      " 77%|███████▋  | 424/552 [14:21<03:24,  1.60s/it]\u001b[A\u001b[A\u001b[A"
     ]
    },
    {
     "name": "stdout",
     "output_type": "stream",
     "text": [
      "/tf/data/dementia/English/Pitt/Dementia/cookie/711-0.mp3\n"
     ]
    },
    {
     "name": "stderr",
     "output_type": "stream",
     "text": [
      "\n",
      "\n",
      "\n",
      " 77%|███████▋  | 425/552 [14:23<03:41,  1.74s/it]\u001b[A\u001b[A\u001b[A"
     ]
    },
    {
     "name": "stdout",
     "output_type": "stream",
     "text": [
      "/tf/data/dementia/English/Pitt/Dementia/cookie/466-1.mp3\n"
     ]
    },
    {
     "name": "stderr",
     "output_type": "stream",
     "text": [
      "\n",
      "\n",
      "\n",
      " 77%|███████▋  | 426/552 [14:26<04:43,  2.25s/it]\u001b[A\u001b[A\u001b[A"
     ]
    },
    {
     "name": "stdout",
     "output_type": "stream",
     "text": [
      "/tf/data/dementia/English/Pitt/Dementia/cookie/007-3.mp3\n"
     ]
    },
    {
     "name": "stderr",
     "output_type": "stream",
     "text": [
      "\n",
      "\n",
      "\n",
      " 77%|███████▋  | 427/552 [14:27<04:00,  1.92s/it]\u001b[A\u001b[A\u001b[A"
     ]
    },
    {
     "name": "stdout",
     "output_type": "stream",
     "text": [
      "/tf/data/dementia/English/Pitt/Dementia/cookie/091-1.mp3\n"
     ]
    },
    {
     "name": "stderr",
     "output_type": "stream",
     "text": [
      "\n",
      "\n",
      "\n",
      " 78%|███████▊  | 428/552 [14:30<04:11,  2.03s/it]\u001b[A\u001b[A\u001b[A"
     ]
    },
    {
     "name": "stdout",
     "output_type": "stream",
     "text": [
      "/tf/data/dementia/English/Pitt/Dementia/cookie/465-0.mp3\n"
     ]
    },
    {
     "name": "stderr",
     "output_type": "stream",
     "text": [
      "\n",
      "\n",
      "\n",
      " 78%|███████▊  | 429/552 [14:31<03:39,  1.78s/it]\u001b[A\u001b[A\u001b[A"
     ]
    },
    {
     "name": "stdout",
     "output_type": "stream",
     "text": [
      "/tf/data/dementia/English/Pitt/Dementia/cookie/190-2.mp3\n"
     ]
    },
    {
     "name": "stderr",
     "output_type": "stream",
     "text": [
      "\n",
      "\n",
      "\n",
      " 78%|███████▊  | 430/552 [14:33<03:47,  1.86s/it]\u001b[A\u001b[A\u001b[A"
     ]
    },
    {
     "name": "stdout",
     "output_type": "stream",
     "text": [
      "/tf/data/dementia/English/Pitt/Dementia/cookie/657-0.mp3\n"
     ]
    },
    {
     "name": "stderr",
     "output_type": "stream",
     "text": [
      "\n",
      "\n",
      "\n",
      " 78%|███████▊  | 431/552 [14:33<02:55,  1.45s/it]\u001b[A\u001b[A\u001b[A"
     ]
    },
    {
     "name": "stdout",
     "output_type": "stream",
     "text": [
      "/tf/data/dementia/English/Pitt/Dementia/cookie/183-0.mp3\n"
     ]
    },
    {
     "name": "stderr",
     "output_type": "stream",
     "text": [
      "\n",
      "\n",
      "\n",
      " 78%|███████▊  | 432/552 [14:34<02:39,  1.33s/it]\u001b[A\u001b[A\u001b[A"
     ]
    },
    {
     "name": "stdout",
     "output_type": "stream",
     "text": [
      "/tf/data/dementia/English/Pitt/Dementia/cookie/049-0.mp3\n"
     ]
    },
    {
     "name": "stderr",
     "output_type": "stream",
     "text": [
      "\n",
      "\n",
      "\n",
      " 78%|███████▊  | 433/552 [14:37<03:09,  1.59s/it]\u001b[A\u001b[A\u001b[A"
     ]
    },
    {
     "name": "stdout",
     "output_type": "stream",
     "text": [
      "/tf/data/dementia/English/Pitt/Dementia/cookie/221-2.mp3\n"
     ]
    },
    {
     "name": "stderr",
     "output_type": "stream",
     "text": [
      "\n",
      "\n",
      "\n",
      " 79%|███████▊  | 434/552 [14:39<03:28,  1.76s/it]\u001b[A\u001b[A\u001b[A"
     ]
    },
    {
     "name": "stdout",
     "output_type": "stream",
     "text": [
      "/tf/data/dementia/English/Pitt/Dementia/cookie/051-2.mp3\n"
     ]
    },
    {
     "name": "stderr",
     "output_type": "stream",
     "text": [
      "\n",
      "\n",
      "\n",
      " 79%|███████▉  | 435/552 [14:44<05:28,  2.80s/it]\u001b[A\u001b[A\u001b[A"
     ]
    },
    {
     "name": "stdout",
     "output_type": "stream",
     "text": [
      "/tf/data/dementia/English/Pitt/Dementia/cookie/206-0.mp3\n"
     ]
    },
    {
     "name": "stderr",
     "output_type": "stream",
     "text": [
      "\n",
      "\n",
      "\n",
      " 79%|███████▉  | 436/552 [14:48<06:05,  3.15s/it]\u001b[A\u001b[A\u001b[A"
     ]
    },
    {
     "name": "stdout",
     "output_type": "stream",
     "text": [
      "/tf/data/dementia/English/Pitt/Dementia/cookie/213-2.mp3\n"
     ]
    },
    {
     "name": "stderr",
     "output_type": "stream",
     "text": [
      "\n",
      "\n",
      "\n",
      " 79%|███████▉  | 437/552 [14:51<05:50,  3.05s/it]\u001b[A\u001b[A\u001b[A"
     ]
    },
    {
     "name": "stdout",
     "output_type": "stream",
     "text": [
      "/tf/data/dementia/English/Pitt/Dementia/cookie/283-1.mp3\n"
     ]
    },
    {
     "name": "stderr",
     "output_type": "stream",
     "text": [
      "\n",
      "\n",
      "\n",
      " 79%|███████▉  | 438/552 [14:52<04:31,  2.38s/it]\u001b[A\u001b[A\u001b[A"
     ]
    },
    {
     "name": "stdout",
     "output_type": "stream",
     "text": [
      "/tf/data/dementia/English/Pitt/Dementia/cookie/049-1.mp3\n"
     ]
    },
    {
     "name": "stderr",
     "output_type": "stream",
     "text": [
      "\n",
      "\n",
      "\n",
      " 80%|███████▉  | 439/552 [14:53<04:03,  2.15s/it]\u001b[A\u001b[A\u001b[A"
     ]
    },
    {
     "name": "stdout",
     "output_type": "stream",
     "text": [
      "/tf/data/dementia/English/Pitt/Dementia/cookie/221-1.mp3\n"
     ]
    },
    {
     "name": "stderr",
     "output_type": "stream",
     "text": [
      "\n",
      "\n",
      "\n",
      " 80%|███████▉  | 440/552 [14:55<04:01,  2.16s/it]\u001b[A\u001b[A\u001b[A"
     ]
    },
    {
     "name": "stdout",
     "output_type": "stream",
     "text": [
      "/tf/data/dementia/English/Pitt/Dementia/cookie/515-1.mp3\n"
     ]
    },
    {
     "name": "stderr",
     "output_type": "stream",
     "text": [
      "\n",
      "\n",
      "\n",
      " 80%|███████▉  | 441/552 [14:56<03:15,  1.76s/it]\u001b[A\u001b[A\u001b[A"
     ]
    },
    {
     "name": "stdout",
     "output_type": "stream",
     "text": [
      "/tf/data/dementia/English/Pitt/Dementia/cookie/349-0.mp3\n"
     ]
    },
    {
     "name": "stderr",
     "output_type": "stream",
     "text": [
      "\n",
      "\n",
      "\n",
      " 80%|████████  | 442/552 [14:59<03:41,  2.01s/it]\u001b[A\u001b[A\u001b[A"
     ]
    },
    {
     "name": "stdout",
     "output_type": "stream",
     "text": [
      "/tf/data/dementia/English/Pitt/Dementia/cookie/212-3.mp3\n"
     ]
    },
    {
     "name": "stderr",
     "output_type": "stream",
     "text": [
      "\n",
      "\n",
      "\n",
      " 80%|████████  | 443/552 [15:01<03:48,  2.10s/it]\u001b[A\u001b[A\u001b[A"
     ]
    },
    {
     "name": "stdout",
     "output_type": "stream",
     "text": [
      "/tf/data/dementia/English/Pitt/Dementia/cookie/594-0.mp3\n"
     ]
    },
    {
     "name": "stderr",
     "output_type": "stream",
     "text": [
      "\n",
      "\n",
      "\n",
      " 80%|████████  | 444/552 [15:03<03:30,  1.95s/it]\u001b[A\u001b[A\u001b[A"
     ]
    },
    {
     "name": "stdout",
     "output_type": "stream",
     "text": [
      "/tf/data/dementia/English/Pitt/Dementia/cookie/527-0.mp3\n"
     ]
    },
    {
     "name": "stderr",
     "output_type": "stream",
     "text": [
      "\n",
      "\n",
      "\n",
      " 81%|████████  | 445/552 [15:05<03:37,  2.04s/it]\u001b[A\u001b[A\u001b[A"
     ]
    },
    {
     "name": "stdout",
     "output_type": "stream",
     "text": [
      "/tf/data/dementia/English/Pitt/Dementia/cookie/635-0.mp3\n"
     ]
    },
    {
     "name": "stderr",
     "output_type": "stream",
     "text": [
      "\n",
      "\n",
      "\n",
      " 81%|████████  | 446/552 [15:08<04:13,  2.39s/it]\u001b[A\u001b[A\u001b[A"
     ]
    },
    {
     "name": "stdout",
     "output_type": "stream",
     "text": [
      "/tf/data/dementia/English/Pitt/Dementia/cookie/474-0.mp3\n"
     ]
    },
    {
     "name": "stderr",
     "output_type": "stream",
     "text": [
      "\n",
      "\n",
      "\n",
      " 81%|████████  | 447/552 [15:11<04:17,  2.45s/it]\u001b[A\u001b[A\u001b[A"
     ]
    },
    {
     "name": "stdout",
     "output_type": "stream",
     "text": [
      "/tf/data/dementia/English/Pitt/Dementia/cookie/157-0.mp3\n"
     ]
    },
    {
     "name": "stderr",
     "output_type": "stream",
     "text": [
      "\n",
      "\n",
      "\n",
      " 81%|████████  | 448/552 [15:13<04:24,  2.54s/it]\u001b[A\u001b[A\u001b[A"
     ]
    },
    {
     "name": "stdout",
     "output_type": "stream",
     "text": [
      "/tf/data/dementia/English/Pitt/Dementia/cookie/506-0.mp3\n"
     ]
    },
    {
     "name": "stderr",
     "output_type": "stream",
     "text": [
      "\n",
      "\n",
      "\n",
      " 81%|████████▏ | 449/552 [15:16<04:34,  2.66s/it]\u001b[A\u001b[A\u001b[A"
     ]
    },
    {
     "name": "stdout",
     "output_type": "stream",
     "text": [
      "/tf/data/dementia/English/Pitt/Dementia/cookie/222-0.mp3\n"
     ]
    },
    {
     "name": "stderr",
     "output_type": "stream",
     "text": [
      "\n",
      "\n",
      "\n",
      " 82%|████████▏ | 450/552 [15:20<04:48,  2.83s/it]\u001b[A\u001b[A\u001b[A"
     ]
    },
    {
     "name": "stdout",
     "output_type": "stream",
     "text": [
      "/tf/data/dementia/English/Pitt/Dementia/cookie/065-1.mp3\n"
     ]
    },
    {
     "name": "stderr",
     "output_type": "stream",
     "text": [
      "\n",
      "\n",
      "\n",
      " 82%|████████▏ | 451/552 [15:24<05:16,  3.14s/it]\u001b[A\u001b[A\u001b[A"
     ]
    },
    {
     "name": "stdout",
     "output_type": "stream",
     "text": [
      "/tf/data/dementia/English/Pitt/Dementia/cookie/252-1.mp3\n"
     ]
    },
    {
     "name": "stderr",
     "output_type": "stream",
     "text": [
      "\n",
      "\n",
      "\n",
      " 82%|████████▏ | 452/552 [15:25<04:37,  2.78s/it]\u001b[A\u001b[A\u001b[A"
     ]
    },
    {
     "name": "stdout",
     "output_type": "stream",
     "text": [
      "/tf/data/dementia/English/Pitt/Dementia/cookie/091-0.mp3\n"
     ]
    },
    {
     "name": "stderr",
     "output_type": "stream",
     "text": [
      "\n",
      "\n",
      "\n",
      " 82%|████████▏ | 453/552 [15:27<04:02,  2.45s/it]\u001b[A\u001b[A\u001b[A"
     ]
    },
    {
     "name": "stdout",
     "output_type": "stream",
     "text": [
      "/tf/data/dementia/English/Pitt/Dementia/cookie/029-0.mp3\n"
     ]
    },
    {
     "name": "stderr",
     "output_type": "stream",
     "text": [
      "\n",
      "\n",
      "\n",
      " 82%|████████▏ | 454/552 [15:30<04:01,  2.47s/it]\u001b[A\u001b[A\u001b[A"
     ]
    },
    {
     "name": "stdout",
     "output_type": "stream",
     "text": [
      "/tf/data/dementia/English/Pitt/Dementia/cookie/492-0.mp3\n"
     ]
    },
    {
     "name": "stderr",
     "output_type": "stream",
     "text": [
      "\n",
      "\n",
      "\n",
      " 82%|████████▏ | 455/552 [15:33<04:22,  2.70s/it]\u001b[A\u001b[A\u001b[A"
     ]
    },
    {
     "name": "stdout",
     "output_type": "stream",
     "text": [
      "/tf/data/dementia/English/Pitt/Dementia/cookie/289-2.mp3\n"
     ]
    },
    {
     "name": "stderr",
     "output_type": "stream",
     "text": [
      "\n",
      "\n",
      "\n",
      " 83%|████████▎ | 456/552 [15:34<03:33,  2.23s/it]\u001b[A\u001b[A\u001b[A"
     ]
    },
    {
     "name": "stdout",
     "output_type": "stream",
     "text": [
      "/tf/data/dementia/English/Pitt/Dementia/cookie/005-2.mp3\n"
     ]
    },
    {
     "name": "stderr",
     "output_type": "stream",
     "text": [
      "\n",
      "\n",
      "\n",
      " 83%|████████▎ | 457/552 [15:35<03:09,  2.00s/it]\u001b[A\u001b[A\u001b[A"
     ]
    },
    {
     "name": "stdout",
     "output_type": "stream",
     "text": [
      "/tf/data/dementia/English/Pitt/Dementia/cookie/213-3.mp3\n"
     ]
    },
    {
     "name": "stderr",
     "output_type": "stream",
     "text": [
      "\n",
      "\n",
      "\n",
      " 83%|████████▎ | 458/552 [15:40<04:13,  2.69s/it]\u001b[A\u001b[A\u001b[A"
     ]
    },
    {
     "name": "stdout",
     "output_type": "stream",
     "text": [
      "/tf/data/dementia/English/Pitt/Dementia/cookie/030-1.mp3\n"
     ]
    },
    {
     "name": "stderr",
     "output_type": "stream",
     "text": [
      "\n",
      "\n",
      "\n",
      " 83%|████████▎ | 459/552 [15:42<03:58,  2.56s/it]\u001b[A\u001b[A\u001b[A"
     ]
    },
    {
     "name": "stdout",
     "output_type": "stream",
     "text": [
      "/tf/data/dementia/English/Pitt/Dementia/cookie/334-0.mp3\n"
     ]
    },
    {
     "name": "stderr",
     "output_type": "stream",
     "text": [
      "\n",
      "\n",
      "\n",
      " 83%|████████▎ | 460/552 [15:46<04:23,  2.87s/it]\u001b[A\u001b[A\u001b[A"
     ]
    },
    {
     "name": "stdout",
     "output_type": "stream",
     "text": [
      "/tf/data/dementia/English/Pitt/Dementia/cookie/508-0.mp3\n"
     ]
    },
    {
     "name": "stderr",
     "output_type": "stream",
     "text": [
      "\n",
      "\n",
      "\n",
      " 84%|████████▎ | 461/552 [15:48<03:54,  2.58s/it]\u001b[A\u001b[A\u001b[A"
     ]
    },
    {
     "name": "stdout",
     "output_type": "stream",
     "text": [
      "/tf/data/dementia/English/Pitt/Dementia/cookie/470-1.mp3\n"
     ]
    },
    {
     "name": "stderr",
     "output_type": "stream",
     "text": [
      "\n",
      "\n",
      "\n",
      " 84%|████████▎ | 462/552 [15:50<03:44,  2.50s/it]\u001b[A\u001b[A\u001b[A"
     ]
    },
    {
     "name": "stdout",
     "output_type": "stream",
     "text": [
      "/tf/data/dementia/English/Pitt/Dementia/cookie/067-1.mp3\n"
     ]
    },
    {
     "name": "stderr",
     "output_type": "stream",
     "text": [
      "\n",
      "\n",
      "\n",
      " 84%|████████▍ | 463/552 [15:52<03:34,  2.41s/it]\u001b[A\u001b[A\u001b[A"
     ]
    },
    {
     "name": "stdout",
     "output_type": "stream",
     "text": [
      "/tf/data/dementia/English/Pitt/Dementia/cookie/144-1.mp3\n"
     ]
    },
    {
     "name": "stderr",
     "output_type": "stream",
     "text": [
      "\n",
      "\n",
      "\n",
      " 84%|████████▍ | 464/552 [15:54<03:29,  2.38s/it]\u001b[A\u001b[A\u001b[A"
     ]
    },
    {
     "name": "stdout",
     "output_type": "stream",
     "text": [
      "/tf/data/dementia/English/Pitt/Dementia/cookie/362-1.mp3\n"
     ]
    },
    {
     "name": "stderr",
     "output_type": "stream",
     "text": [
      "\n",
      "\n",
      "\n",
      " 84%|████████▍ | 465/552 [15:55<02:38,  1.82s/it]\u001b[A\u001b[A\u001b[A"
     ]
    },
    {
     "name": "stdout",
     "output_type": "stream",
     "text": [
      "/tf/data/dementia/English/Pitt/Dementia/cookie/053-1.mp3\n"
     ]
    },
    {
     "name": "stderr",
     "output_type": "stream",
     "text": [
      "\n",
      "\n",
      "\n",
      " 84%|████████▍ | 466/552 [16:00<03:57,  2.76s/it]\u001b[A\u001b[A\u001b[A"
     ]
    },
    {
     "name": "stdout",
     "output_type": "stream",
     "text": [
      "/tf/data/dementia/English/Pitt/Dementia/cookie/344-2.mp3\n"
     ]
    },
    {
     "name": "stderr",
     "output_type": "stream",
     "text": [
      "\n",
      "\n",
      "\n",
      " 85%|████████▍ | 467/552 [16:03<03:56,  2.78s/it]\u001b[A\u001b[A\u001b[A"
     ]
    },
    {
     "name": "stdout",
     "output_type": "stream",
     "text": [
      "/tf/data/dementia/English/Pitt/Dementia/cookie/362-0.mp3\n"
     ]
    },
    {
     "name": "stderr",
     "output_type": "stream",
     "text": [
      "\n",
      "\n",
      "\n",
      " 85%|████████▍ | 468/552 [16:04<03:11,  2.27s/it]\u001b[A\u001b[A\u001b[A"
     ]
    },
    {
     "name": "stdout",
     "output_type": "stream",
     "text": [
      "/tf/data/dementia/English/Pitt/Dementia/cookie/222-1.mp3\n"
     ]
    },
    {
     "name": "stderr",
     "output_type": "stream",
     "text": [
      "\n",
      "\n",
      "\n",
      " 85%|████████▍ | 469/552 [16:08<04:07,  2.98s/it]\u001b[A\u001b[A\u001b[A"
     ]
    },
    {
     "name": "stdout",
     "output_type": "stream",
     "text": [
      "/tf/data/dementia/English/Pitt/Dementia/cookie/674-0.mp3\n"
     ]
    },
    {
     "name": "stderr",
     "output_type": "stream",
     "text": [
      "\n",
      "\n",
      "\n",
      " 85%|████████▌ | 470/552 [16:09<03:15,  2.38s/it]\u001b[A\u001b[A\u001b[A"
     ]
    },
    {
     "name": "stdout",
     "output_type": "stream",
     "text": [
      "/tf/data/dementia/English/Pitt/Dementia/cookie/591-0.mp3\n"
     ]
    },
    {
     "name": "stderr",
     "output_type": "stream",
     "text": [
      "\n",
      "\n",
      "\n",
      " 85%|████████▌ | 471/552 [16:12<03:29,  2.59s/it]\u001b[A\u001b[A\u001b[A"
     ]
    },
    {
     "name": "stdout",
     "output_type": "stream",
     "text": [
      "/tf/data/dementia/English/Pitt/Dementia/cookie/120-4.mp3\n"
     ]
    },
    {
     "name": "stderr",
     "output_type": "stream",
     "text": [
      "\n",
      "\n",
      "\n",
      " 86%|████████▌ | 472/552 [16:14<02:53,  2.17s/it]\u001b[A\u001b[A\u001b[A"
     ]
    },
    {
     "name": "stdout",
     "output_type": "stream",
     "text": [
      "/tf/data/dementia/English/Pitt/Dementia/cookie/349-1.mp3\n"
     ]
    },
    {
     "name": "stderr",
     "output_type": "stream",
     "text": [
      "\n",
      "\n",
      "\n",
      " 86%|████████▌ | 473/552 [16:16<02:48,  2.13s/it]\u001b[A\u001b[A\u001b[A"
     ]
    },
    {
     "name": "stdout",
     "output_type": "stream",
     "text": [
      "/tf/data/dementia/English/Pitt/Dementia/cookie/221-0.mp3\n"
     ]
    },
    {
     "name": "stderr",
     "output_type": "stream",
     "text": [
      "\n",
      "\n",
      "\n",
      " 86%|████████▌ | 474/552 [16:19<03:25,  2.63s/it]\u001b[A\u001b[A\u001b[A"
     ]
    },
    {
     "name": "stdout",
     "output_type": "stream",
     "text": [
      "/tf/data/dementia/English/Pitt/Dementia/cookie/051-1.mp3\n"
     ]
    },
    {
     "name": "stderr",
     "output_type": "stream",
     "text": [
      "\n",
      "\n",
      "\n",
      " 86%|████████▌ | 475/552 [16:21<03:02,  2.36s/it]\u001b[A\u001b[A\u001b[A"
     ]
    },
    {
     "name": "stdout",
     "output_type": "stream",
     "text": [
      "/tf/data/dementia/English/Pitt/Dementia/cookie/016-0.mp3\n"
     ]
    },
    {
     "name": "stderr",
     "output_type": "stream",
     "text": [
      "\n",
      "\n",
      "\n",
      " 86%|████████▌ | 476/552 [16:23<02:42,  2.14s/it]\u001b[A\u001b[A\u001b[A"
     ]
    },
    {
     "name": "stdout",
     "output_type": "stream",
     "text": [
      "/tf/data/dementia/English/Pitt/Dementia/cookie/061-1.mp3\n"
     ]
    },
    {
     "name": "stderr",
     "output_type": "stream",
     "text": [
      "\n",
      "\n",
      "\n",
      " 86%|████████▋ | 477/552 [16:25<02:31,  2.02s/it]\u001b[A\u001b[A\u001b[A"
     ]
    },
    {
     "name": "stdout",
     "output_type": "stream",
     "text": [
      "/tf/data/dementia/English/Pitt/Dementia/cookie/681-0.mp3\n"
     ]
    },
    {
     "name": "stderr",
     "output_type": "stream",
     "text": [
      "\n",
      "\n",
      "\n",
      " 87%|████████▋ | 478/552 [16:26<02:27,  1.99s/it]\u001b[A\u001b[A\u001b[A"
     ]
    },
    {
     "name": "stdout",
     "output_type": "stream",
     "text": [
      "/tf/data/dementia/English/Pitt/Dementia/cookie/076-0.mp3\n"
     ]
    },
    {
     "name": "stderr",
     "output_type": "stream",
     "text": [
      "\n",
      "\n",
      "\n",
      " 87%|████████▋ | 479/552 [16:29<02:39,  2.18s/it]\u001b[A\u001b[A\u001b[A"
     ]
    },
    {
     "name": "stdout",
     "output_type": "stream",
     "text": [
      "/tf/data/dementia/English/Pitt/Dementia/cookie/148-0.mp3\n"
     ]
    },
    {
     "name": "stderr",
     "output_type": "stream",
     "text": [
      "\n",
      "\n",
      "\n",
      " 87%|████████▋ | 480/552 [16:31<02:34,  2.14s/it]\u001b[A\u001b[A\u001b[A"
     ]
    },
    {
     "name": "stdout",
     "output_type": "stream",
     "text": [
      "/tf/data/dementia/English/Pitt/Dementia/cookie/173-1.mp3\n"
     ]
    },
    {
     "name": "stderr",
     "output_type": "stream",
     "text": [
      "\n",
      "\n",
      "\n",
      " 87%|████████▋ | 481/552 [16:34<02:36,  2.21s/it]\u001b[A\u001b[A\u001b[A"
     ]
    },
    {
     "name": "stdout",
     "output_type": "stream",
     "text": [
      "/tf/data/dementia/English/Pitt/Dementia/cookie/127-0.mp3\n"
     ]
    },
    {
     "name": "stderr",
     "output_type": "stream",
     "text": [
      "\n",
      "\n",
      "\n",
      " 87%|████████▋ | 482/552 [16:35<02:09,  1.85s/it]\u001b[A\u001b[A\u001b[A"
     ]
    },
    {
     "name": "stdout",
     "output_type": "stream",
     "text": [
      "/tf/data/dementia/English/Pitt/Dementia/cookie/562-0.mp3\n"
     ]
    },
    {
     "name": "stderr",
     "output_type": "stream",
     "text": [
      "\n",
      "\n",
      "\n",
      " 88%|████████▊ | 483/552 [16:36<02:03,  1.79s/it]\u001b[A\u001b[A\u001b[A"
     ]
    },
    {
     "name": "stdout",
     "output_type": "stream",
     "text": [
      "/tf/data/dementia/English/Pitt/Dementia/cookie/154-0.mp3\n"
     ]
    },
    {
     "name": "stderr",
     "output_type": "stream",
     "text": [
      "\n",
      "\n",
      "\n",
      " 88%|████████▊ | 484/552 [16:40<02:43,  2.40s/it]\u001b[A\u001b[A\u001b[A"
     ]
    },
    {
     "name": "stdout",
     "output_type": "stream",
     "text": [
      "/tf/data/dementia/English/Pitt/Dementia/cookie/705-0.mp3\n"
     ]
    },
    {
     "name": "stderr",
     "output_type": "stream",
     "text": [
      "\n",
      "\n",
      "\n",
      " 88%|████████▊ | 485/552 [16:42<02:41,  2.41s/it]\u001b[A\u001b[A\u001b[A"
     ]
    },
    {
     "name": "stdout",
     "output_type": "stream",
     "text": [
      "/tf/data/dementia/English/Pitt/Dementia/cookie/010-0.mp3\n"
     ]
    },
    {
     "name": "stderr",
     "output_type": "stream",
     "text": [
      "\n",
      "\n",
      "\n",
      " 88%|████████▊ | 486/552 [16:47<03:13,  2.93s/it]\u001b[A\u001b[A\u001b[A"
     ]
    },
    {
     "name": "stdout",
     "output_type": "stream",
     "text": [
      "/tf/data/dementia/English/Pitt/Dementia/cookie/356-1.mp3\n"
     ]
    },
    {
     "name": "stderr",
     "output_type": "stream",
     "text": [
      "\n",
      "\n",
      "\n",
      " 88%|████████▊ | 487/552 [16:47<02:25,  2.24s/it]\u001b[A\u001b[A\u001b[A"
     ]
    },
    {
     "name": "stdout",
     "output_type": "stream",
     "text": [
      "/tf/data/dementia/English/Pitt/Dementia/cookie/178-1.mp3\n"
     ]
    },
    {
     "name": "stderr",
     "output_type": "stream",
     "text": [
      "\n",
      "\n",
      "\n",
      " 88%|████████▊ | 488/552 [16:56<04:35,  4.31s/it]\u001b[A\u001b[A\u001b[A"
     ]
    },
    {
     "name": "stdout",
     "output_type": "stream",
     "text": [
      "/tf/data/dementia/English/Pitt/Dementia/cookie/070-2.mp3\n"
     ]
    },
    {
     "name": "stderr",
     "output_type": "stream",
     "text": [
      "\n",
      "\n",
      "\n",
      " 89%|████████▊ | 489/552 [17:00<04:18,  4.11s/it]\u001b[A\u001b[A\u001b[A"
     ]
    },
    {
     "name": "stdout",
     "output_type": "stream",
     "text": [
      "/tf/data/dementia/English/Pitt/Dementia/cookie/358-1.mp3\n"
     ]
    },
    {
     "name": "stderr",
     "output_type": "stream",
     "text": [
      "\n",
      "\n",
      "\n",
      " 89%|████████▉ | 490/552 [17:02<03:44,  3.61s/it]\u001b[A\u001b[A\u001b[A"
     ]
    },
    {
     "name": "stdout",
     "output_type": "stream",
     "text": [
      "/tf/data/dementia/English/Pitt/Dementia/cookie/212-0.mp3\n"
     ]
    },
    {
     "name": "stderr",
     "output_type": "stream",
     "text": [
      "\n",
      "\n",
      "\n",
      " 89%|████████▉ | 491/552 [17:06<03:30,  3.45s/it]\u001b[A\u001b[A\u001b[A"
     ]
    },
    {
     "name": "stdout",
     "output_type": "stream",
     "text": [
      "/tf/data/dementia/English/Pitt/Dementia/cookie/213-1.mp3\n"
     ]
    },
    {
     "name": "stderr",
     "output_type": "stream",
     "text": [
      "\n",
      "\n",
      "\n",
      " 89%|████████▉ | 492/552 [17:09<03:27,  3.45s/it]\u001b[A\u001b[A\u001b[A"
     ]
    },
    {
     "name": "stdout",
     "output_type": "stream",
     "text": [
      "/tf/data/dementia/English/Pitt/Dementia/cookie/450-0.mp3\n"
     ]
    },
    {
     "name": "stderr",
     "output_type": "stream",
     "text": [
      "\n",
      "\n",
      "\n",
      " 89%|████████▉ | 493/552 [17:11<03:04,  3.13s/it]\u001b[A\u001b[A\u001b[A"
     ]
    },
    {
     "name": "stdout",
     "output_type": "stream",
     "text": [
      "/tf/data/dementia/English/Pitt/Dementia/cookie/183-1.mp3\n"
     ]
    },
    {
     "name": "stderr",
     "output_type": "stream",
     "text": [
      "\n",
      "\n",
      "\n",
      " 89%|████████▉ | 494/552 [17:13<02:35,  2.68s/it]\u001b[A\u001b[A\u001b[A"
     ]
    },
    {
     "name": "stdout",
     "output_type": "stream",
     "text": [
      "/tf/data/dementia/English/Pitt/Dementia/cookie/010-1.mp3\n"
     ]
    },
    {
     "name": "stderr",
     "output_type": "stream",
     "text": [
      "\n",
      "\n",
      "\n",
      " 90%|████████▉ | 495/552 [17:16<02:30,  2.64s/it]\u001b[A\u001b[A\u001b[A"
     ]
    },
    {
     "name": "stdout",
     "output_type": "stream",
     "text": [
      "/tf/data/dementia/English/Pitt/Dementia/cookie/276-0.mp3\n"
     ]
    },
    {
     "name": "stderr",
     "output_type": "stream",
     "text": [
      "\n",
      "\n",
      "\n",
      " 90%|████████▉ | 496/552 [17:21<03:10,  3.41s/it]\u001b[A\u001b[A\u001b[A"
     ]
    },
    {
     "name": "stdout",
     "output_type": "stream",
     "text": [
      "/tf/data/dementia/English/Pitt/Dementia/cookie/172-1.mp3\n"
     ]
    },
    {
     "name": "stderr",
     "output_type": "stream",
     "text": [
      "\n",
      "\n",
      "\n",
      " 90%|█████████ | 497/552 [17:23<02:45,  3.01s/it]\u001b[A\u001b[A\u001b[A"
     ]
    },
    {
     "name": "stdout",
     "output_type": "stream",
     "text": [
      "/tf/data/dementia/English/Pitt/Dementia/cookie/236-0.mp3\n"
     ]
    },
    {
     "name": "stderr",
     "output_type": "stream",
     "text": [
      "\n",
      "\n",
      "\n",
      " 90%|█████████ | 498/552 [17:27<02:59,  3.32s/it]\u001b[A\u001b[A\u001b[A"
     ]
    },
    {
     "name": "stdout",
     "output_type": "stream",
     "text": [
      "/tf/data/dementia/English/Pitt/Dementia/cookie/184-0.mp3\n"
     ]
    },
    {
     "name": "stderr",
     "output_type": "stream",
     "text": [
      "\n",
      "\n",
      "\n",
      " 90%|█████████ | 499/552 [17:28<02:23,  2.71s/it]\u001b[A\u001b[A\u001b[A"
     ]
    },
    {
     "name": "stdout",
     "output_type": "stream",
     "text": [
      "/tf/data/dementia/English/Pitt/Dementia/cookie/648-0.mp3\n"
     ]
    },
    {
     "name": "stderr",
     "output_type": "stream",
     "text": [
      "\n",
      "\n",
      "\n",
      " 91%|█████████ | 500/552 [17:30<02:02,  2.35s/it]\u001b[A\u001b[A\u001b[A"
     ]
    },
    {
     "name": "stdout",
     "output_type": "stream",
     "text": [
      "/tf/data/dementia/English/Pitt/Dementia/cookie/220-1.mp3\n"
     ]
    },
    {
     "name": "stderr",
     "output_type": "stream",
     "text": [
      "\n",
      "\n",
      "\n",
      " 91%|█████████ | 501/552 [17:30<01:32,  1.82s/it]\u001b[A\u001b[A\u001b[A"
     ]
    },
    {
     "name": "stdout",
     "output_type": "stream",
     "text": [
      "/tf/data/dementia/English/Pitt/Dementia/cookie/001-0.mp3\n"
     ]
    },
    {
     "name": "stderr",
     "output_type": "stream",
     "text": [
      "\n",
      "\n",
      "\n",
      " 91%|█████████ | 502/552 [17:32<01:26,  1.72s/it]\u001b[A\u001b[A\u001b[A"
     ]
    },
    {
     "name": "stdout",
     "output_type": "stream",
     "text": [
      "/tf/data/dementia/English/Pitt/Dementia/cookie/007-1.mp3\n"
     ]
    },
    {
     "name": "stderr",
     "output_type": "stream",
     "text": [
      "\n",
      "\n",
      "\n",
      " 91%|█████████ | 503/552 [17:33<01:20,  1.65s/it]\u001b[A\u001b[A\u001b[A"
     ]
    },
    {
     "name": "stdout",
     "output_type": "stream",
     "text": [
      "/tf/data/dementia/English/Pitt/Dementia/cookie/311-0.mp3\n"
     ]
    },
    {
     "name": "stderr",
     "output_type": "stream",
     "text": [
      "\n",
      "\n",
      "\n",
      " 91%|█████████▏| 504/552 [17:34<01:14,  1.55s/it]\u001b[A\u001b[A\u001b[A"
     ]
    },
    {
     "name": "stdout",
     "output_type": "stream",
     "text": [
      "/tf/data/dementia/English/Pitt/Dementia/cookie/134-2.mp3\n"
     ]
    },
    {
     "name": "stderr",
     "output_type": "stream",
     "text": [
      "\n",
      "\n",
      "\n",
      " 91%|█████████▏| 505/552 [17:36<01:06,  1.41s/it]\u001b[A\u001b[A\u001b[A"
     ]
    },
    {
     "name": "stdout",
     "output_type": "stream",
     "text": [
      "/tf/data/dementia/English/Pitt/Dementia/cookie/293-1.mp3\n"
     ]
    },
    {
     "name": "stderr",
     "output_type": "stream",
     "text": [
      "\n",
      "\n",
      "\n",
      " 92%|█████████▏| 506/552 [17:37<01:08,  1.49s/it]\u001b[A\u001b[A\u001b[A"
     ]
    },
    {
     "name": "stdout",
     "output_type": "stream",
     "text": [
      "/tf/data/dementia/English/Pitt/Dementia/cookie/091-2.mp3\n"
     ]
    },
    {
     "name": "stderr",
     "output_type": "stream",
     "text": [
      "\n",
      "\n",
      "\n",
      " 92%|█████████▏| 507/552 [17:39<01:09,  1.55s/it]\u001b[A\u001b[A\u001b[A"
     ]
    },
    {
     "name": "stdout",
     "output_type": "stream",
     "text": [
      "/tf/data/dementia/English/Pitt/Dementia/cookie/181-2.mp3\n"
     ]
    },
    {
     "name": "stderr",
     "output_type": "stream",
     "text": [
      "\n",
      "\n",
      "\n",
      " 92%|█████████▏| 508/552 [17:40<00:59,  1.36s/it]\u001b[A\u001b[A\u001b[A"
     ]
    },
    {
     "name": "stdout",
     "output_type": "stream",
     "text": [
      "/tf/data/dementia/English/Pitt/Dementia/cookie/476-0.mp3\n"
     ]
    },
    {
     "name": "stderr",
     "output_type": "stream",
     "text": [
      "\n",
      "\n",
      "\n",
      " 92%|█████████▏| 509/552 [17:42<01:11,  1.65s/it]\u001b[A\u001b[A\u001b[A"
     ]
    },
    {
     "name": "stdout",
     "output_type": "stream",
     "text": [
      "/tf/data/dementia/English/Pitt/Dementia/cookie/319-0.mp3\n"
     ]
    },
    {
     "name": "stderr",
     "output_type": "stream",
     "text": [
      "\n",
      "\n",
      "\n",
      " 92%|█████████▏| 510/552 [17:46<01:33,  2.23s/it]\u001b[A\u001b[A\u001b[A"
     ]
    },
    {
     "name": "stdout",
     "output_type": "stream",
     "text": [
      "/tf/data/dementia/English/Pitt/Dementia/cookie/282-1.mp3\n"
     ]
    },
    {
     "name": "stderr",
     "output_type": "stream",
     "text": [
      "\n",
      "\n",
      "\n",
      " 93%|█████████▎| 511/552 [17:47<01:21,  1.99s/it]\u001b[A\u001b[A\u001b[A"
     ]
    },
    {
     "name": "stdout",
     "output_type": "stream",
     "text": [
      "/tf/data/dementia/English/Pitt/Dementia/cookie/592-0.mp3\n"
     ]
    },
    {
     "name": "stderr",
     "output_type": "stream",
     "text": [
      "\n",
      "\n",
      "\n",
      " 93%|█████████▎| 512/552 [17:50<01:26,  2.17s/it]\u001b[A\u001b[A\u001b[A"
     ]
    },
    {
     "name": "stdout",
     "output_type": "stream",
     "text": [
      "/tf/data/dementia/English/Pitt/Dementia/cookie/656-0.mp3\n"
     ]
    },
    {
     "name": "stderr",
     "output_type": "stream",
     "text": [
      "\n",
      "\n",
      "\n",
      " 93%|█████████▎| 513/552 [17:50<01:04,  1.65s/it]\u001b[A\u001b[A\u001b[A"
     ]
    },
    {
     "name": "stdout",
     "output_type": "stream",
     "text": [
      "/tf/data/dementia/English/Pitt/Dementia/cookie/065-2.mp3\n"
     ]
    },
    {
     "name": "stderr",
     "output_type": "stream",
     "text": [
      "\n",
      "\n",
      "\n",
      " 93%|█████████▎| 514/552 [17:55<01:33,  2.47s/it]\u001b[A\u001b[A\u001b[A"
     ]
    },
    {
     "name": "stdout",
     "output_type": "stream",
     "text": [
      "/tf/data/dementia/English/Pitt/Dementia/cookie/361-0.mp3\n"
     ]
    },
    {
     "name": "stderr",
     "output_type": "stream",
     "text": [
      "\n",
      "\n",
      "\n",
      " 93%|█████████▎| 515/552 [17:57<01:33,  2.52s/it]\u001b[A\u001b[A\u001b[A"
     ]
    },
    {
     "name": "stdout",
     "output_type": "stream",
     "text": [
      "/tf/data/dementia/English/Pitt/Dementia/cookie/257-0.mp3\n"
     ]
    },
    {
     "name": "stderr",
     "output_type": "stream",
     "text": [
      "\n",
      "\n",
      "\n",
      " 93%|█████████▎| 516/552 [18:00<01:32,  2.56s/it]\u001b[A\u001b[A\u001b[A"
     ]
    },
    {
     "name": "stdout",
     "output_type": "stream",
     "text": [
      "/tf/data/dementia/English/Pitt/Dementia/cookie/620-0.mp3\n"
     ]
    },
    {
     "name": "stderr",
     "output_type": "stream",
     "text": [
      "\n",
      "\n",
      "\n",
      " 94%|█████████▎| 517/552 [18:02<01:22,  2.36s/it]\u001b[A\u001b[A\u001b[A"
     ]
    },
    {
     "name": "stdout",
     "output_type": "stream",
     "text": [
      "/tf/data/dementia/English/Pitt/Dementia/cookie/172-2.mp3\n"
     ]
    },
    {
     "name": "stderr",
     "output_type": "stream",
     "text": [
      "\n",
      "\n",
      "\n",
      " 94%|█████████▍| 518/552 [18:02<01:01,  1.80s/it]\u001b[A\u001b[A\u001b[A"
     ]
    },
    {
     "name": "stdout",
     "output_type": "stream",
     "text": [
      "/tf/data/dementia/English/Pitt/Dementia/cookie/043-0.mp3\n"
     ]
    },
    {
     "name": "stderr",
     "output_type": "stream",
     "text": [
      "\n",
      "\n",
      "\n",
      " 94%|█████████▍| 519/552 [18:05<01:08,  2.06s/it]\u001b[A\u001b[A\u001b[A"
     ]
    },
    {
     "name": "stdout",
     "output_type": "stream",
     "text": [
      "/tf/data/dementia/English/Pitt/Dementia/cookie/003-0.mp3\n"
     ]
    },
    {
     "name": "stderr",
     "output_type": "stream",
     "text": [
      "\n",
      "\n",
      "\n",
      " 94%|█████████▍| 520/552 [18:14<02:14,  4.21s/it]\u001b[A\u001b[A\u001b[A"
     ]
    },
    {
     "name": "stdout",
     "output_type": "stream",
     "text": [
      "/tf/data/dementia/English/Pitt/Dementia/cookie/216-1.mp3\n"
     ]
    },
    {
     "name": "stderr",
     "output_type": "stream",
     "text": [
      "\n",
      "\n",
      "\n",
      " 94%|█████████▍| 521/552 [18:15<01:40,  3.24s/it]\u001b[A\u001b[A\u001b[A"
     ]
    },
    {
     "name": "stdout",
     "output_type": "stream",
     "text": [
      "/tf/data/dementia/English/Pitt/Dementia/cookie/329-0.mp3\n"
     ]
    },
    {
     "name": "stderr",
     "output_type": "stream",
     "text": [
      "\n",
      "\n",
      "\n",
      " 95%|█████████▍| 522/552 [18:20<01:49,  3.65s/it]\u001b[A\u001b[A\u001b[A"
     ]
    },
    {
     "name": "stdout",
     "output_type": "stream",
     "text": [
      "/tf/data/dementia/English/Pitt/Dementia/cookie/381-0.mp3\n"
     ]
    },
    {
     "name": "stderr",
     "output_type": "stream",
     "text": [
      "\n",
      "\n",
      "\n",
      " 95%|█████████▍| 523/552 [18:21<01:21,  2.80s/it]\u001b[A\u001b[A\u001b[A"
     ]
    },
    {
     "name": "stdout",
     "output_type": "stream",
     "text": [
      "/tf/data/dementia/English/Pitt/Dementia/cookie/544-0.mp3\n"
     ]
    },
    {
     "name": "stderr",
     "output_type": "stream",
     "text": [
      "\n",
      "\n",
      "\n",
      " 95%|█████████▍| 524/552 [18:21<00:58,  2.11s/it]\u001b[A\u001b[A\u001b[A"
     ]
    },
    {
     "name": "stdout",
     "output_type": "stream",
     "text": [
      "/tf/data/dementia/English/Pitt/Dementia/cookie/010-2.mp3\n"
     ]
    },
    {
     "name": "stderr",
     "output_type": "stream",
     "text": [
      "\n",
      "\n",
      "\n",
      " 95%|█████████▌| 525/552 [18:25<01:09,  2.59s/it]\u001b[A\u001b[A\u001b[A"
     ]
    },
    {
     "name": "stdout",
     "output_type": "stream",
     "text": [
      "/tf/data/dementia/English/Pitt/Dementia/cookie/660-0.mp3\n"
     ]
    },
    {
     "name": "stderr",
     "output_type": "stream",
     "text": [
      "\n",
      "\n",
      "\n",
      " 95%|█████████▌| 526/552 [18:25<00:49,  1.90s/it]\u001b[A\u001b[A\u001b[A"
     ]
    },
    {
     "name": "stdout",
     "output_type": "stream",
     "text": [
      "/tf/data/dementia/English/Pitt/Dementia/cookie/050-0.mp3\n"
     ]
    },
    {
     "name": "stderr",
     "output_type": "stream",
     "text": [
      "\n",
      "\n",
      "\n",
      " 95%|█████████▌| 527/552 [18:27<00:46,  1.85s/it]\u001b[A\u001b[A\u001b[A"
     ]
    },
    {
     "name": "stdout",
     "output_type": "stream",
     "text": [
      "/tf/data/dementia/English/Pitt/Dementia/cookie/030-0.mp3\n"
     ]
    },
    {
     "name": "stderr",
     "output_type": "stream",
     "text": [
      "\n",
      "\n",
      "\n",
      " 96%|█████████▌| 528/552 [18:29<00:49,  2.05s/it]\u001b[A\u001b[A\u001b[A"
     ]
    },
    {
     "name": "stdout",
     "output_type": "stream",
     "text": [
      "/tf/data/dementia/English/Pitt/Dementia/cookie/707-0.mp3\n"
     ]
    },
    {
     "name": "stderr",
     "output_type": "stream",
     "text": [
      "\n",
      "\n",
      "\n",
      " 96%|█████████▌| 529/552 [18:30<00:40,  1.75s/it]\u001b[A\u001b[A\u001b[A"
     ]
    },
    {
     "name": "stdout",
     "output_type": "stream",
     "text": [
      "/tf/data/dementia/English/Pitt/Dementia/cookie/529-0.mp3\n"
     ]
    },
    {
     "name": "stderr",
     "output_type": "stream",
     "text": [
      "\n",
      "\n",
      "\n",
      " 96%|█████████▌| 530/552 [18:32<00:34,  1.56s/it]\u001b[A\u001b[A\u001b[A"
     ]
    },
    {
     "name": "stdout",
     "output_type": "stream",
     "text": [
      "/tf/data/dementia/English/Pitt/Dementia/cookie/257-2.mp3\n"
     ]
    },
    {
     "name": "stderr",
     "output_type": "stream",
     "text": [
      "\n",
      "\n",
      "\n",
      " 96%|█████████▌| 531/552 [18:35<00:47,  2.25s/it]\u001b[A\u001b[A\u001b[A"
     ]
    },
    {
     "name": "stdout",
     "output_type": "stream",
     "text": [
      "/tf/data/dementia/English/Pitt/Dementia/cookie/089-0.mp3\n"
     ]
    },
    {
     "name": "stderr",
     "output_type": "stream",
     "text": [
      "\n",
      "\n",
      "\n",
      " 96%|█████████▋| 532/552 [18:39<00:52,  2.63s/it]\u001b[A\u001b[A\u001b[A"
     ]
    },
    {
     "name": "stdout",
     "output_type": "stream",
     "text": [
      "/tf/data/dementia/English/Pitt/Dementia/cookie/598-0.mp3\n"
     ]
    },
    {
     "name": "stderr",
     "output_type": "stream",
     "text": [
      "\n",
      "\n",
      "\n",
      " 97%|█████████▋| 533/552 [18:39<00:38,  2.01s/it]\u001b[A\u001b[A\u001b[A"
     ]
    },
    {
     "name": "stdout",
     "output_type": "stream",
     "text": [
      "/tf/data/dementia/English/Pitt/Dementia/cookie/018-0.mp3\n"
     ]
    },
    {
     "name": "stderr",
     "output_type": "stream",
     "text": [
      "\n",
      "\n",
      "\n",
      " 97%|█████████▋| 534/552 [18:47<01:04,  3.59s/it]\u001b[A\u001b[A\u001b[A"
     ]
    },
    {
     "name": "stdout",
     "output_type": "stream",
     "text": [
      "/tf/data/dementia/English/Pitt/Dementia/cookie/023-2.mp3\n"
     ]
    },
    {
     "name": "stderr",
     "output_type": "stream",
     "text": [
      "\n",
      "\n",
      "\n",
      " 97%|█████████▋| 535/552 [18:51<01:02,  3.67s/it]\u001b[A\u001b[A\u001b[A"
     ]
    },
    {
     "name": "stdout",
     "output_type": "stream",
     "text": [
      "/tf/data/dementia/English/Pitt/Dementia/cookie/164-2.mp3\n"
     ]
    },
    {
     "name": "stderr",
     "output_type": "stream",
     "text": [
      "\n",
      "\n",
      "\n",
      " 97%|█████████▋| 536/552 [18:51<00:43,  2.74s/it]\u001b[A\u001b[A\u001b[A"
     ]
    },
    {
     "name": "stdout",
     "output_type": "stream",
     "text": [
      "/tf/data/dementia/English/Pitt/Dementia/cookie/342-1.mp3\n"
     ]
    },
    {
     "name": "stderr",
     "output_type": "stream",
     "text": [
      "\n",
      "\n",
      "\n",
      " 97%|█████████▋| 537/552 [18:53<00:37,  2.48s/it]\u001b[A\u001b[A\u001b[A"
     ]
    },
    {
     "name": "stdout",
     "output_type": "stream",
     "text": [
      "/tf/data/dementia/English/Pitt/Dementia/cookie/134-0.mp3\n"
     ]
    },
    {
     "name": "stderr",
     "output_type": "stream",
     "text": [
      "\n",
      "\n",
      "\n",
      " 97%|█████████▋| 538/552 [18:55<00:31,  2.23s/it]\u001b[A\u001b[A\u001b[A"
     ]
    },
    {
     "name": "stdout",
     "output_type": "stream",
     "text": [
      "/tf/data/dementia/English/Pitt/Dementia/cookie/334-1.mp3\n"
     ]
    },
    {
     "name": "stderr",
     "output_type": "stream",
     "text": [
      "\n",
      "\n",
      "\n",
      " 98%|█████████▊| 539/552 [18:57<00:30,  2.37s/it]\u001b[A\u001b[A\u001b[A"
     ]
    },
    {
     "name": "stdout",
     "output_type": "stream",
     "text": [
      "/tf/data/dementia/English/Pitt/Dementia/cookie/264-0.mp3\n"
     ]
    },
    {
     "name": "stderr",
     "output_type": "stream",
     "text": [
      "\n",
      "\n",
      "\n",
      " 98%|█████████▊| 540/552 [19:01<00:31,  2.66s/it]\u001b[A\u001b[A\u001b[A"
     ]
    },
    {
     "name": "stdout",
     "output_type": "stream",
     "text": [
      "/tf/data/dementia/English/Pitt/Dementia/cookie/346-0.mp3\n"
     ]
    },
    {
     "name": "stderr",
     "output_type": "stream",
     "text": [
      "\n",
      "\n",
      "\n",
      " 98%|█████████▊| 541/552 [19:01<00:22,  2.07s/it]\u001b[A\u001b[A\u001b[A"
     ]
    },
    {
     "name": "stdout",
     "output_type": "stream",
     "text": [
      "/tf/data/dementia/English/Pitt/Dementia/cookie/058-0.mp3\n"
     ]
    },
    {
     "name": "stderr",
     "output_type": "stream",
     "text": [
      "\n",
      "\n",
      "\n",
      " 98%|█████████▊| 542/552 [19:03<00:18,  1.90s/it]\u001b[A\u001b[A\u001b[A"
     ]
    },
    {
     "name": "stdout",
     "output_type": "stream",
     "text": [
      "/tf/data/dementia/English/Pitt/Dementia/cookie/058-3.mp3\n"
     ]
    },
    {
     "name": "stderr",
     "output_type": "stream",
     "text": [
      "\n",
      "\n",
      "\n",
      " 98%|█████████▊| 543/552 [19:04<00:14,  1.60s/it]\u001b[A\u001b[A\u001b[A"
     ]
    },
    {
     "name": "stdout",
     "output_type": "stream",
     "text": [
      "/tf/data/dementia/English/Pitt/Dementia/cookie/279-0.mp3\n"
     ]
    },
    {
     "name": "stderr",
     "output_type": "stream",
     "text": [
      "\n",
      "\n",
      "\n",
      " 99%|█████████▊| 544/552 [19:07<00:16,  2.04s/it]\u001b[A\u001b[A\u001b[A"
     ]
    },
    {
     "name": "stdout",
     "output_type": "stream",
     "text": [
      "/tf/data/dementia/English/Pitt/Dementia/cookie/226-0.mp3\n"
     ]
    },
    {
     "name": "stderr",
     "output_type": "stream",
     "text": [
      "\n",
      "\n",
      "\n",
      " 99%|█████████▊| 545/552 [19:08<00:13,  1.92s/it]\u001b[A\u001b[A\u001b[A"
     ]
    },
    {
     "name": "stdout",
     "output_type": "stream",
     "text": [
      "/tf/data/dementia/English/Pitt/Dementia/cookie/134-3.mp3\n"
     ]
    },
    {
     "name": "stderr",
     "output_type": "stream",
     "text": [
      "\n",
      "\n",
      "\n",
      " 99%|█████████▉| 546/552 [19:10<00:10,  1.83s/it]\u001b[A\u001b[A\u001b[A"
     ]
    },
    {
     "name": "stdout",
     "output_type": "stream",
     "text": [
      "/tf/data/dementia/English/Pitt/Dementia/cookie/624-0.mp3\n"
     ]
    },
    {
     "name": "stderr",
     "output_type": "stream",
     "text": [
      "\n",
      "\n",
      "\n",
      " 99%|█████████▉| 547/552 [19:12<00:08,  1.76s/it]\u001b[A\u001b[A\u001b[A"
     ]
    },
    {
     "name": "stdout",
     "output_type": "stream",
     "text": [
      "/tf/data/dementia/English/Pitt/Dementia/cookie/190-1.mp3\n"
     ]
    },
    {
     "name": "stderr",
     "output_type": "stream",
     "text": [
      "\n",
      "\n",
      "\n",
      " 99%|█████████▉| 548/552 [19:12<00:05,  1.44s/it]\u001b[A\u001b[A\u001b[A"
     ]
    },
    {
     "name": "stdout",
     "output_type": "stream",
     "text": [
      "/tf/data/dementia/English/Pitt/Dementia/cookie/527-1.mp3\n"
     ]
    },
    {
     "name": "stderr",
     "output_type": "stream",
     "text": [
      "\n",
      "\n",
      "\n",
      " 99%|█████████▉| 549/552 [19:14<00:04,  1.41s/it]\u001b[A\u001b[A\u001b[A"
     ]
    },
    {
     "name": "stdout",
     "output_type": "stream",
     "text": [
      "/tf/data/dementia/English/Pitt/Dementia/cookie/461-0.mp3\n"
     ]
    },
    {
     "name": "stderr",
     "output_type": "stream",
     "text": [
      "\n",
      "\n",
      "\n",
      "100%|█████████▉| 550/552 [19:18<00:04,  2.15s/it]\u001b[A\u001b[A\u001b[A"
     ]
    },
    {
     "name": "stdout",
     "output_type": "stream",
     "text": [
      "/tf/data/dementia/English/Pitt/Dementia/cookie/468-0.mp3\n"
     ]
    },
    {
     "name": "stderr",
     "output_type": "stream",
     "text": [
      "\n",
      "\n",
      "\n",
      "100%|█████████▉| 551/552 [19:21<00:02,  2.61s/it]\u001b[A\u001b[A\u001b[A"
     ]
    },
    {
     "name": "stdout",
     "output_type": "stream",
     "text": [
      "/tf/data/dementia/English/Pitt/Dementia/cookie/097-1.mp3\n"
     ]
    },
    {
     "name": "stderr",
     "output_type": "stream",
     "text": [
      "\n",
      "\n",
      "\n",
      "100%|██████████| 552/552 [19:22<00:00,  2.11s/it]\u001b[A\u001b[A\u001b[A\n"
     ]
    }
   ],
   "source": [
    "meta_pitt = pd.DataFrame(columns= ['file', 'ID', 'Group', 'MMSE', 'predict', 'predict_group', 'predicts'])\n",
    "for file in tqdm(files_pitt):\n",
    "    print(file)\n",
    "    ID = file.split('/')[-1].split('.')[0]\n",
    "    Group = file.split('/')[6]\n",
    "    cha = pd.read_fwf(data_path_pitt + 'Pitt/' + Group + '/cookie/' + ID + '.cha')  \n",
    "    cha_id = [x for x in cha['@UTF8'] if str.startswith(x, '@ID:')][0]\n",
    "    \n",
    "    if (cha_id.split('|')[-3] == ''):\n",
    "        MMSE = np.NaN\n",
    "    else:\n",
    "        MMSE = int(cha_id.split('|')[-3])\n",
    "        \n",
    "    predict, predicts = model_inference(file)\n",
    "    if (predict < 24):\n",
    "        predict_group = 'Dementia'\n",
    "    else:\n",
    "        predict_group = 'Control'\n",
    "    meta_pitt = meta_pitt.append(pd.DataFrame([[file, ID, Group, MMSE, predict, predict_group, predicts]], \n",
    "                                  columns = list(meta_pitt.columns)))"
   ]
  },
  {
   "cell_type": "code",
   "execution_count": 294,
   "metadata": {},
   "outputs": [],
   "source": [
    "meta_pitt['predict_min'] = [min(x) for x in meta_pitt.predicts]\n",
    "meta_pitt['predict_group_min'] = ['Control' if x >= 24 else 'Dementia' for x in meta_pitt.predict_min]"
   ]
  },
  {
   "cell_type": "code",
   "execution_count": 295,
   "metadata": {
    "scrolled": true
   },
   "outputs": [],
   "source": [
    "meta_pitt_eval = meta_pitt[meta_pitt.MMSE.notna()]"
   ]
  },
  {
   "cell_type": "code",
   "execution_count": 296,
   "metadata": {},
   "outputs": [
    {
     "data": {
      "text/plain": [
       "(552, 9)"
      ]
     },
     "execution_count": 296,
     "metadata": {},
     "output_type": "execute_result"
    }
   ],
   "source": [
    "meta_pitt.shape"
   ]
  },
  {
   "cell_type": "code",
   "execution_count": 297,
   "metadata": {},
   "outputs": [
    {
     "data": {
      "text/plain": [
       "(457, 9)"
      ]
     },
     "execution_count": 297,
     "metadata": {},
     "output_type": "execute_result"
    }
   ],
   "source": [
    "meta_pitt_eval.shape"
   ]
  },
  {
   "cell_type": "code",
   "execution_count": 298,
   "metadata": {},
   "outputs": [
    {
     "data": {
      "text/html": [
       "<div>\n",
       "<style scoped>\n",
       "    .dataframe tbody tr th:only-of-type {\n",
       "        vertical-align: middle;\n",
       "    }\n",
       "\n",
       "    .dataframe tbody tr th {\n",
       "        vertical-align: top;\n",
       "    }\n",
       "\n",
       "    .dataframe thead th {\n",
       "        text-align: right;\n",
       "    }\n",
       "</style>\n",
       "<table border=\"1\" class=\"dataframe\">\n",
       "  <thead>\n",
       "    <tr style=\"text-align: right;\">\n",
       "      <th></th>\n",
       "      <th>file</th>\n",
       "      <th>ID</th>\n",
       "      <th>Group</th>\n",
       "      <th>MMSE</th>\n",
       "      <th>predict</th>\n",
       "      <th>predict_group</th>\n",
       "      <th>predicts</th>\n",
       "      <th>predict_min</th>\n",
       "      <th>predict_group_min</th>\n",
       "    </tr>\n",
       "  </thead>\n",
       "  <tbody>\n",
       "    <tr>\n",
       "      <th>0</th>\n",
       "      <td>/tf/data/dementia/English/Pitt/Control/cookie/...</td>\n",
       "      <td>128-3</td>\n",
       "      <td>Control</td>\n",
       "      <td>29</td>\n",
       "      <td>25.855359</td>\n",
       "      <td>Control</td>\n",
       "      <td>[0.8192363, 0.80515444, 0.8759565, 0.9246044, ...</td>\n",
       "      <td>0.482245</td>\n",
       "      <td>Dementia</td>\n",
       "    </tr>\n",
       "    <tr>\n",
       "      <th>0</th>\n",
       "      <td>/tf/data/dementia/English/Pitt/Control/cookie/...</td>\n",
       "      <td>229-2</td>\n",
       "      <td>Control</td>\n",
       "      <td>30</td>\n",
       "      <td>16.437099</td>\n",
       "      <td>Dementia</td>\n",
       "      <td>[0.5487453, 0.54861814, 0.5485862, 0.54736215,...</td>\n",
       "      <td>0.546205</td>\n",
       "      <td>Dementia</td>\n",
       "    </tr>\n",
       "    <tr>\n",
       "      <th>0</th>\n",
       "      <td>/tf/data/dementia/English/Pitt/Control/cookie/...</td>\n",
       "      <td>196-0</td>\n",
       "      <td>Control</td>\n",
       "      <td>28</td>\n",
       "      <td>20.300190</td>\n",
       "      <td>Dementia</td>\n",
       "      <td>[0.6018041, 0.6044841, 0.61234003, 0.6232815, ...</td>\n",
       "      <td>0.601804</td>\n",
       "      <td>Dementia</td>\n",
       "    </tr>\n",
       "    <tr>\n",
       "      <th>0</th>\n",
       "      <td>/tf/data/dementia/English/Pitt/Control/cookie/...</td>\n",
       "      <td>668-0</td>\n",
       "      <td>Control</td>\n",
       "      <td>29</td>\n",
       "      <td>18.987910</td>\n",
       "      <td>Dementia</td>\n",
       "      <td>[0.8942066, 0.91020316, 0.94213617, 0.96051204...</td>\n",
       "      <td>0.379110</td>\n",
       "      <td>Dementia</td>\n",
       "    </tr>\n",
       "    <tr>\n",
       "      <th>0</th>\n",
       "      <td>/tf/data/dementia/English/Pitt/Control/cookie/...</td>\n",
       "      <td>073-1</td>\n",
       "      <td>Control</td>\n",
       "      <td>29</td>\n",
       "      <td>17.749986</td>\n",
       "      <td>Dementia</td>\n",
       "      <td>[0.5269004, 0.52823627, 0.52713543, 0.5275847,...</td>\n",
       "      <td>0.526900</td>\n",
       "      <td>Dementia</td>\n",
       "    </tr>\n",
       "  </tbody>\n",
       "</table>\n",
       "</div>"
      ],
      "text/plain": [
       "                                                file     ID    Group MMSE  \\\n",
       "0  /tf/data/dementia/English/Pitt/Control/cookie/...  128-3  Control   29   \n",
       "0  /tf/data/dementia/English/Pitt/Control/cookie/...  229-2  Control   30   \n",
       "0  /tf/data/dementia/English/Pitt/Control/cookie/...  196-0  Control   28   \n",
       "0  /tf/data/dementia/English/Pitt/Control/cookie/...  668-0  Control   29   \n",
       "0  /tf/data/dementia/English/Pitt/Control/cookie/...  073-1  Control   29   \n",
       "\n",
       "     predict predict_group                                           predicts  \\\n",
       "0  25.855359       Control  [0.8192363, 0.80515444, 0.8759565, 0.9246044, ...   \n",
       "0  16.437099      Dementia  [0.5487453, 0.54861814, 0.5485862, 0.54736215,...   \n",
       "0  20.300190      Dementia  [0.6018041, 0.6044841, 0.61234003, 0.6232815, ...   \n",
       "0  18.987910      Dementia  [0.8942066, 0.91020316, 0.94213617, 0.96051204...   \n",
       "0  17.749986      Dementia  [0.5269004, 0.52823627, 0.52713543, 0.5275847,...   \n",
       "\n",
       "   predict_min predict_group_min  \n",
       "0     0.482245          Dementia  \n",
       "0     0.546205          Dementia  \n",
       "0     0.601804          Dementia  \n",
       "0     0.379110          Dementia  \n",
       "0     0.526900          Dementia  "
      ]
     },
     "execution_count": 298,
     "metadata": {},
     "output_type": "execute_result"
    }
   ],
   "source": [
    "meta_pitt_eval.head()"
   ]
  },
  {
   "cell_type": "code",
   "execution_count": 299,
   "metadata": {},
   "outputs": [
    {
     "data": {
      "text/plain": [
       "<matplotlib.axes._subplots.AxesSubplot at 0x7fc8143a86d8>"
      ]
     },
     "execution_count": 299,
     "metadata": {},
     "output_type": "execute_result"
    },
    {
     "data": {
      "image/png": "[encoded data removed]",
      "text/plain": [
       "<Figure size 720x504 with 2 Axes>"
      ]
     },
     "metadata": {},
     "output_type": "display_data"
    }
   ],
   "source": [
    "y_true = meta_pitt.Group\n",
    "y_pred = meta_pitt.predict_group\n",
    "data = confusion_matrix(y_true, y_pred)\n",
    "df_cm = pd.DataFrame(data, columns=np.unique(y_true), index = np.unique(y_true))\n",
    "df_cm.index.name = 'Actual'\n",
    "df_cm.columns.name = 'Predicted'\n",
    "plt.figure(figsize = (10,7))\n",
    "sn.set(font_scale=1.4)#for label size\n",
    "sn.heatmap(df_cm, cmap=\"Reds\", annot=True, annot_kws={\"size\": 16})# font size"
   ]
  },
  {
   "cell_type": "code",
   "execution_count": 300,
   "metadata": {},
   "outputs": [
    {
     "data": {
      "text/html": [
       "<div>\n",
       "<style scoped>\n",
       "    .dataframe tbody tr th:only-of-type {\n",
       "        vertical-align: middle;\n",
       "    }\n",
       "\n",
       "    .dataframe tbody tr th {\n",
       "        vertical-align: top;\n",
       "    }\n",
       "\n",
       "    .dataframe thead th {\n",
       "        text-align: right;\n",
       "    }\n",
       "</style>\n",
       "<table border=\"1\" class=\"dataframe\">\n",
       "  <thead>\n",
       "    <tr style=\"text-align: right;\">\n",
       "      <th>Predicted</th>\n",
       "      <th>Control</th>\n",
       "      <th>Dementia</th>\n",
       "    </tr>\n",
       "    <tr>\n",
       "      <th>Actual</th>\n",
       "      <th></th>\n",
       "      <th></th>\n",
       "    </tr>\n",
       "  </thead>\n",
       "  <tbody>\n",
       "    <tr>\n",
       "      <th>Control</th>\n",
       "      <td>128</td>\n",
       "      <td>115</td>\n",
       "    </tr>\n",
       "    <tr>\n",
       "      <th>Dementia</th>\n",
       "      <td>105</td>\n",
       "      <td>204</td>\n",
       "    </tr>\n",
       "  </tbody>\n",
       "</table>\n",
       "</div>"
      ],
      "text/plain": [
       "Predicted  Control  Dementia\n",
       "Actual                      \n",
       "Control        128       115\n",
       "Dementia       105       204"
      ]
     },
     "execution_count": 300,
     "metadata": {},
     "output_type": "execute_result"
    }
   ],
   "source": [
    "df_cm"
   ]
  },
  {
   "cell_type": "code",
   "execution_count": 301,
   "metadata": {},
   "outputs": [
    {
     "name": "stdout",
     "output_type": "stream",
     "text": [
      "              precision    recall  f1-score   support\n",
      "\n",
      "     Control       0.55      0.53      0.54       243\n",
      "    Dementia       0.64      0.66      0.65       309\n",
      "\n",
      "    accuracy                           0.60       552\n",
      "   macro avg       0.59      0.59      0.59       552\n",
      "weighted avg       0.60      0.60      0.60       552\n",
      "\n"
     ]
    }
   ],
   "source": [
    "print(classification_report(y_true, y_pred))"
   ]
  },
  {
   "cell_type": "code",
   "execution_count": 310,
   "metadata": {},
   "outputs": [
    {
     "data": {
      "image/png": "[encoded data removed]",
      "text/plain": [
       "<Figure size 1500x800 with 1 Axes>"
      ]
     },
     "metadata": {},
     "output_type": "display_data"
    },
    {
     "data": {
      "text/plain": [
       "<ggplot: (8780796494600)>"
      ]
     },
     "execution_count": 310,
     "metadata": {},
     "output_type": "execute_result"
    }
   ],
   "source": [
    "ggplot(meta_pitt) + \\\n",
    "geom_point(aes(x = 'MMSE', y = 'predict', colour = 'Group')) + \\\n",
    "geom_hline(aes(yintercept = 24, lty = 2)) + \\\n",
    "geom_vline(aes(xintercept = 20, lty = 2)) + \\\n",
    "theme(figure_size = (15, 8))"
   ]
  },
  {
   "cell_type": "code",
   "execution_count": null,
   "metadata": {},
   "outputs": [],
   "source": []
  }
 ],
 "metadata": {
  "kernelspec": {
   "display_name": "Python 3",
   "language": "python",
   "name": "python3"
  },
  "language_info": {
   "codemirror_mode": {
    "name": "ipython",
    "version": 3
   },
   "file_extension": ".py",
   "mimetype": "text/x-python",
   "name": "python",
   "nbconvert_exporter": "python",
   "pygments_lexer": "ipython3",
   "version": "3.6.9"
  }
 },
 "nbformat": 4,
 "nbformat_minor": 4
}
