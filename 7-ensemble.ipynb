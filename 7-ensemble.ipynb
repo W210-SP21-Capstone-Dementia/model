{
 "cells": [
  {
   "cell_type": "code",
   "execution_count": 52,
   "metadata": {},
   "outputs": [],
   "source": [
    "import pandas as pd\n",
    "import numpy as np\n",
    "from sklearn.metrics import confusion_matrix, mean_squared_error, classification_report\n",
    "from plotnine import *\n"
   ]
  },
  {
   "cell_type": "markdown",
   "metadata": {},
   "source": [
    "# ADDRESS"
   ]
  },
  {
   "cell_type": "code",
   "execution_count": 37,
   "metadata": {},
   "outputs": [
    {
     "data": {
      "text/html": [
       "<div>\n",
       "<style scoped>\n",
       "    .dataframe tbody tr th:only-of-type {\n",
       "        vertical-align: middle;\n",
       "    }\n",
       "\n",
       "    .dataframe tbody tr th {\n",
       "        vertical-align: top;\n",
       "    }\n",
       "\n",
       "    .dataframe thead th {\n",
       "        text-align: right;\n",
       "    }\n",
       "</style>\n",
       "<table border=\"1\" class=\"dataframe\">\n",
       "  <thead>\n",
       "    <tr style=\"text-align: right;\">\n",
       "      <th></th>\n",
       "      <th>Unnamed: 0</th>\n",
       "      <th>index</th>\n",
       "      <th>ID</th>\n",
       "      <th>Age</th>\n",
       "      <th>Gender</th>\n",
       "      <th>MMSE</th>\n",
       "      <th>Group</th>\n",
       "      <th>split</th>\n",
       "      <th>predict</th>\n",
       "      <th>predict_group</th>\n",
       "    </tr>\n",
       "  </thead>\n",
       "  <tbody>\n",
       "    <tr>\n",
       "      <th>0</th>\n",
       "      <td>0</td>\n",
       "      <td>0</td>\n",
       "      <td>S001</td>\n",
       "      <td>74</td>\n",
       "      <td>male</td>\n",
       "      <td>30</td>\n",
       "      <td>cc</td>\n",
       "      <td>train</td>\n",
       "      <td>26.871142</td>\n",
       "      <td>cc</td>\n",
       "    </tr>\n",
       "    <tr>\n",
       "      <th>1</th>\n",
       "      <td>1</td>\n",
       "      <td>1</td>\n",
       "      <td>S002</td>\n",
       "      <td>62</td>\n",
       "      <td>female</td>\n",
       "      <td>30</td>\n",
       "      <td>cc</td>\n",
       "      <td>train</td>\n",
       "      <td>26.556385</td>\n",
       "      <td>cc</td>\n",
       "    </tr>\n",
       "    <tr>\n",
       "      <th>2</th>\n",
       "      <td>2</td>\n",
       "      <td>2</td>\n",
       "      <td>S003</td>\n",
       "      <td>69</td>\n",
       "      <td>female</td>\n",
       "      <td>29</td>\n",
       "      <td>cc</td>\n",
       "      <td>train</td>\n",
       "      <td>25.519604</td>\n",
       "      <td>cc</td>\n",
       "    </tr>\n",
       "    <tr>\n",
       "      <th>3</th>\n",
       "      <td>3</td>\n",
       "      <td>3</td>\n",
       "      <td>S004</td>\n",
       "      <td>71</td>\n",
       "      <td>female</td>\n",
       "      <td>30</td>\n",
       "      <td>cc</td>\n",
       "      <td>train</td>\n",
       "      <td>27.771522</td>\n",
       "      <td>cc</td>\n",
       "    </tr>\n",
       "    <tr>\n",
       "      <th>4</th>\n",
       "      <td>4</td>\n",
       "      <td>4</td>\n",
       "      <td>S005</td>\n",
       "      <td>74</td>\n",
       "      <td>female</td>\n",
       "      <td>30</td>\n",
       "      <td>cc</td>\n",
       "      <td>train</td>\n",
       "      <td>26.533502</td>\n",
       "      <td>cc</td>\n",
       "    </tr>\n",
       "  </tbody>\n",
       "</table>\n",
       "</div>"
      ],
      "text/plain": [
       "   Unnamed: 0  index     ID  Age    Gender  MMSE Group  split    predict  \\\n",
       "0           0      0  S001    74     male     30    cc  train  26.871142   \n",
       "1           1      1  S002    62   female     30    cc  train  26.556385   \n",
       "2           2      2  S003    69   female     29    cc  train  25.519604   \n",
       "3           3      3  S004    71   female     30    cc  train  27.771522   \n",
       "4           4      4  S005    74   female     30    cc  train  26.533502   \n",
       "\n",
       "  predict_group  \n",
       "0            cc  \n",
       "1            cc  \n",
       "2            cc  \n",
       "3            cc  \n",
       "4            cc  "
      ]
     },
     "execution_count": 37,
     "metadata": {},
     "output_type": "execute_result"
    }
   ],
   "source": [
    "meta_smile = pd.read_csv('meta_eGeMAPSv01b.csv')\n",
    "meta_smile.head()"
   ]
  },
  {
   "cell_type": "code",
   "execution_count": 38,
   "metadata": {},
   "outputs": [
    {
     "name": "stdout",
     "output_type": "stream",
     "text": [
      "4.8916933197580414\n"
     ]
    }
   ],
   "source": [
    "print(np.sqrt(mean_squared_error(meta_smile['MMSE'], meta_smile['predict'] )))"
   ]
  },
  {
   "cell_type": "code",
   "execution_count": 41,
   "metadata": {},
   "outputs": [
    {
     "data": {
      "text/html": [
       "<div>\n",
       "<style scoped>\n",
       "    .dataframe tbody tr th:only-of-type {\n",
       "        vertical-align: middle;\n",
       "    }\n",
       "\n",
       "    .dataframe tbody tr th {\n",
       "        vertical-align: top;\n",
       "    }\n",
       "\n",
       "    .dataframe thead th {\n",
       "        text-align: right;\n",
       "    }\n",
       "</style>\n",
       "<table border=\"1\" class=\"dataframe\">\n",
       "  <thead>\n",
       "    <tr style=\"text-align: right;\">\n",
       "      <th></th>\n",
       "      <th>Unnamed: 0</th>\n",
       "      <th>index</th>\n",
       "      <th>ID</th>\n",
       "      <th>Age</th>\n",
       "      <th>Gender</th>\n",
       "      <th>MMSE</th>\n",
       "      <th>Group</th>\n",
       "      <th>split</th>\n",
       "      <th>predict</th>\n",
       "      <th>predict_group</th>\n",
       "    </tr>\n",
       "  </thead>\n",
       "  <tbody>\n",
       "    <tr>\n",
       "      <th>0</th>\n",
       "      <td>0</td>\n",
       "      <td>0</td>\n",
       "      <td>S001</td>\n",
       "      <td>74</td>\n",
       "      <td>male</td>\n",
       "      <td>30</td>\n",
       "      <td>cc</td>\n",
       "      <td>train</td>\n",
       "      <td>26.442938</td>\n",
       "      <td>cc</td>\n",
       "    </tr>\n",
       "    <tr>\n",
       "      <th>1</th>\n",
       "      <td>1</td>\n",
       "      <td>1</td>\n",
       "      <td>S002</td>\n",
       "      <td>62</td>\n",
       "      <td>female</td>\n",
       "      <td>30</td>\n",
       "      <td>cc</td>\n",
       "      <td>train</td>\n",
       "      <td>26.371628</td>\n",
       "      <td>cc</td>\n",
       "    </tr>\n",
       "    <tr>\n",
       "      <th>2</th>\n",
       "      <td>2</td>\n",
       "      <td>2</td>\n",
       "      <td>S003</td>\n",
       "      <td>69</td>\n",
       "      <td>female</td>\n",
       "      <td>29</td>\n",
       "      <td>cc</td>\n",
       "      <td>train</td>\n",
       "      <td>23.839193</td>\n",
       "      <td>cd</td>\n",
       "    </tr>\n",
       "    <tr>\n",
       "      <th>3</th>\n",
       "      <td>3</td>\n",
       "      <td>3</td>\n",
       "      <td>S004</td>\n",
       "      <td>71</td>\n",
       "      <td>female</td>\n",
       "      <td>30</td>\n",
       "      <td>cc</td>\n",
       "      <td>train</td>\n",
       "      <td>26.750227</td>\n",
       "      <td>cc</td>\n",
       "    </tr>\n",
       "    <tr>\n",
       "      <th>4</th>\n",
       "      <td>4</td>\n",
       "      <td>4</td>\n",
       "      <td>S005</td>\n",
       "      <td>74</td>\n",
       "      <td>female</td>\n",
       "      <td>30</td>\n",
       "      <td>cc</td>\n",
       "      <td>train</td>\n",
       "      <td>23.580471</td>\n",
       "      <td>cd</td>\n",
       "    </tr>\n",
       "  </tbody>\n",
       "</table>\n",
       "</div>"
      ],
      "text/plain": [
       "   Unnamed: 0  index     ID  Age    Gender  MMSE Group  split    predict  \\\n",
       "0           0      0  S001    74     male     30    cc  train  26.442938   \n",
       "1           1      1  S002    62   female     30    cc  train  26.371628   \n",
       "2           2      2  S003    69   female     29    cc  train  23.839193   \n",
       "3           3      3  S004    71   female     30    cc  train  26.750227   \n",
       "4           4      4  S005    74   female     30    cc  train  23.580471   \n",
       "\n",
       "  predict_group  \n",
       "0            cc  \n",
       "1            cc  \n",
       "2            cd  \n",
       "3            cc  \n",
       "4            cd  "
      ]
     },
     "execution_count": 41,
     "metadata": {},
     "output_type": "execute_result"
    }
   ],
   "source": [
    "meta_lstm = pd.read_csv('4-RollingWindow+LSTM+WN.csv')\n",
    "meta_lstm.head()"
   ]
  },
  {
   "cell_type": "code",
   "execution_count": 40,
   "metadata": {},
   "outputs": [
    {
     "name": "stdout",
     "output_type": "stream",
     "text": [
      "6.008748657564505\n"
     ]
    }
   ],
   "source": [
    "print(np.sqrt(mean_squared_error(meta_lstm['MMSE'], meta_lstm['predict'] )))"
   ]
  },
  {
   "cell_type": "code",
   "execution_count": 75,
   "metadata": {},
   "outputs": [
    {
     "data": {
      "text/html": [
       "<div>\n",
       "<style scoped>\n",
       "    .dataframe tbody tr th:only-of-type {\n",
       "        vertical-align: middle;\n",
       "    }\n",
       "\n",
       "    .dataframe tbody tr th {\n",
       "        vertical-align: top;\n",
       "    }\n",
       "\n",
       "    .dataframe thead th {\n",
       "        text-align: right;\n",
       "    }\n",
       "</style>\n",
       "<table border=\"1\" class=\"dataframe\">\n",
       "  <thead>\n",
       "    <tr style=\"text-align: right;\">\n",
       "      <th></th>\n",
       "      <th>ID</th>\n",
       "      <th>Group</th>\n",
       "      <th>MMSE</th>\n",
       "      <th>predict_smile</th>\n",
       "      <th>split</th>\n",
       "      <th>predict_lstm</th>\n",
       "    </tr>\n",
       "  </thead>\n",
       "  <tbody>\n",
       "    <tr>\n",
       "      <th>0</th>\n",
       "      <td>S001</td>\n",
       "      <td>cc</td>\n",
       "      <td>30</td>\n",
       "      <td>26.871142</td>\n",
       "      <td>train</td>\n",
       "      <td>26.442938</td>\n",
       "    </tr>\n",
       "    <tr>\n",
       "      <th>1</th>\n",
       "      <td>S002</td>\n",
       "      <td>cc</td>\n",
       "      <td>30</td>\n",
       "      <td>26.556385</td>\n",
       "      <td>train</td>\n",
       "      <td>26.371628</td>\n",
       "    </tr>\n",
       "    <tr>\n",
       "      <th>2</th>\n",
       "      <td>S003</td>\n",
       "      <td>cc</td>\n",
       "      <td>29</td>\n",
       "      <td>25.519604</td>\n",
       "      <td>train</td>\n",
       "      <td>23.839193</td>\n",
       "    </tr>\n",
       "    <tr>\n",
       "      <th>3</th>\n",
       "      <td>S004</td>\n",
       "      <td>cc</td>\n",
       "      <td>30</td>\n",
       "      <td>27.771522</td>\n",
       "      <td>train</td>\n",
       "      <td>26.750227</td>\n",
       "    </tr>\n",
       "    <tr>\n",
       "      <th>4</th>\n",
       "      <td>S005</td>\n",
       "      <td>cc</td>\n",
       "      <td>30</td>\n",
       "      <td>26.533502</td>\n",
       "      <td>train</td>\n",
       "      <td>23.580471</td>\n",
       "    </tr>\n",
       "  </tbody>\n",
       "</table>\n",
       "</div>"
      ],
      "text/plain": [
       "      ID Group  MMSE  predict_smile  split  predict_lstm\n",
       "0  S001     cc    30      26.871142  train     26.442938\n",
       "1  S002     cc    30      26.556385  train     26.371628\n",
       "2  S003     cc    29      25.519604  train     23.839193\n",
       "3  S004     cc    30      27.771522  train     26.750227\n",
       "4  S005     cc    30      26.533502  train     23.580471"
      ]
     },
     "execution_count": 75,
     "metadata": {},
     "output_type": "execute_result"
    }
   ],
   "source": [
    "meta_ensemble = pd.merge(meta_smile[['ID', 'Group', 'MMSE', 'predict']], \n",
    "                         meta_lstm[['ID', 'Group', 'split', 'predict']], \n",
    "                         on = ['ID', 'Group'], \n",
    "                         suffixes = ('_smile', '_lstm'))\n",
    "meta_ensemble.head()"
   ]
  },
  {
   "cell_type": "code",
   "execution_count": 76,
   "metadata": {},
   "outputs": [
    {
     "data": {
      "text/plain": [
       "count    108.000000\n",
       "mean      22.665130\n",
       "std        3.169094\n",
       "min        8.174403\n",
       "25%       20.676663\n",
       "50%       23.200161\n",
       "75%       24.988859\n",
       "max       27.260875\n",
       "Name: predict_ensemble, dtype: float64"
      ]
     },
     "execution_count": 76,
     "metadata": {},
     "output_type": "execute_result"
    }
   ],
   "source": [
    "meta_ensemble['predict_ensemble'] = .5 * meta_ensemble['predict_smile'] + .5 * meta_ensemble['predict_lstm']\n",
    "meta_ensemble['predict_ensemble'].describe()\n"
   ]
  },
  {
   "cell_type": "code",
   "execution_count": 77,
   "metadata": {},
   "outputs": [
    {
     "data": {
      "text/html": [
       "<div>\n",
       "<style scoped>\n",
       "    .dataframe tbody tr th:only-of-type {\n",
       "        vertical-align: middle;\n",
       "    }\n",
       "\n",
       "    .dataframe tbody tr th {\n",
       "        vertical-align: top;\n",
       "    }\n",
       "\n",
       "    .dataframe thead th {\n",
       "        text-align: right;\n",
       "    }\n",
       "</style>\n",
       "<table border=\"1\" class=\"dataframe\">\n",
       "  <thead>\n",
       "    <tr style=\"text-align: right;\">\n",
       "      <th></th>\n",
       "      <th>split</th>\n",
       "      <th>rmse_smile</th>\n",
       "      <th>rmse_lstm</th>\n",
       "      <th>rmse_ensemble</th>\n",
       "    </tr>\n",
       "  </thead>\n",
       "  <tbody>\n",
       "    <tr>\n",
       "      <th>0</th>\n",
       "      <td>test</td>\n",
       "      <td>4.857964</td>\n",
       "      <td>6.025420</td>\n",
       "      <td>5.034664</td>\n",
       "    </tr>\n",
       "    <tr>\n",
       "      <th>1</th>\n",
       "      <td>train</td>\n",
       "      <td>4.866979</td>\n",
       "      <td>5.733340</td>\n",
       "      <td>4.832830</td>\n",
       "    </tr>\n",
       "    <tr>\n",
       "      <th>2</th>\n",
       "      <td>val</td>\n",
       "      <td>5.040692</td>\n",
       "      <td>7.144976</td>\n",
       "      <td>5.762146</td>\n",
       "    </tr>\n",
       "  </tbody>\n",
       "</table>\n",
       "</div>"
      ],
      "text/plain": [
       "   split  rmse_smile  rmse_lstm  rmse_ensemble\n",
       "0   test    4.857964   6.025420       5.034664\n",
       "1  train    4.866979   5.733340       4.832830\n",
       "2    val    5.040692   7.144976       5.762146"
      ]
     },
     "execution_count": 77,
     "metadata": {},
     "output_type": "execute_result"
    }
   ],
   "source": [
    "from sklearn.metrics import confusion_matrix, mean_squared_error, classification_report\n",
    "def cal_rmse(g):\n",
    "    rmse_smile = np.sqrt(mean_squared_error(g['MMSE'], g['predict_smile']))\n",
    "    rmse_lstm = np.sqrt(mean_squared_error(g['MMSE'], g['predict_lstm']))\n",
    "    rmse_ensemble = np.sqrt(mean_squared_error(g['MMSE'], g['predict_ensemble']))\n",
    "\n",
    "    return pd.Series(dict(rmse_smile = rmse_smile, \n",
    "                          rmse_lstm = rmse_lstm,\n",
    "                          rmse_ensemble = rmse_ensemble))\n",
    "\n",
    "meta_ensemble.groupby('split').apply(cal_rmse).reset_index()"
   ]
  },
  {
   "cell_type": "code",
   "execution_count": 78,
   "metadata": {},
   "outputs": [
    {
     "data": {
      "text/plain": [
       "rmse_smile       4.891693\n",
       "rmse_lstm        6.008749\n",
       "rmse_ensemble    5.012825\n",
       "dtype: float64"
      ]
     },
     "execution_count": 78,
     "metadata": {},
     "output_type": "execute_result"
    }
   ],
   "source": [
    "cal_rmse(meta_ensemble)"
   ]
  },
  {
   "cell_type": "code",
   "execution_count": 71,
   "metadata": {},
   "outputs": [
    {
     "data": {
      "image/png": "[encoded data removed]",
      "text/plain": [
       "<Figure size 1500x800 with 3 Axes>"
      ]
     },
     "metadata": {},
     "output_type": "display_data"
    },
    {
     "data": {
      "text/plain": [
       "<ggplot: (8776001456034)>"
      ]
     },
     "execution_count": 71,
     "metadata": {},
     "output_type": "execute_result"
    }
   ],
   "source": [
    "ggplot(meta_ensemble) + \\\n",
    "geom_point(aes(x = 'MMSE', y = 'predict_ensemble', colour = 'split')) + \\\n",
    "facet_wrap('split', nrow = 1) + \\\n",
    "geom_abline(aes(intercept = 0, slope = 1, lty = 2)) + \\\n",
    "geom_hline(aes(yintercept = 24, lty = 2)) + \\\n",
    "geom_vline(aes(xintercept = 24, lty = 2)) + \\\n",
    "theme(figure_size = (15, 8))"
   ]
  },
  {
   "cell_type": "code",
   "execution_count": 79,
   "metadata": {},
   "outputs": [
    {
     "name": "stdout",
     "output_type": "stream",
     "text": [
      "              precision    recall  f1-score   support\n",
      "\n",
      "          cc       0.84      0.70      0.77        54\n",
      "          cd       0.75      0.87      0.80        54\n",
      "\n",
      "    accuracy                           0.79       108\n",
      "   macro avg       0.80      0.79      0.79       108\n",
      "weighted avg       0.80      0.79      0.79       108\n",
      "\n"
     ]
    }
   ],
   "source": [
    "meta_ensemble['predict_ensemble_group'] = ['cc' if x >= 24 else 'cd' for x in meta_ensemble.predict_ensemble]\n",
    "y_true = meta_ensemble.Group\n",
    "y_pred = meta_ensemble.predict_ensemble_group\n",
    "print(classification_report(y_true, y_pred))"
   ]
  },
  {
   "cell_type": "markdown",
   "metadata": {},
   "source": [
    "# Pitt Corpus"
   ]
  },
  {
   "cell_type": "code",
   "execution_count": 29,
   "metadata": {},
   "outputs": [
    {
     "data": {
      "text/html": [
       "<div>\n",
       "<style scoped>\n",
       "    .dataframe tbody tr th:only-of-type {\n",
       "        vertical-align: middle;\n",
       "    }\n",
       "\n",
       "    .dataframe tbody tr th {\n",
       "        vertical-align: top;\n",
       "    }\n",
       "\n",
       "    .dataframe thead th {\n",
       "        text-align: right;\n",
       "    }\n",
       "</style>\n",
       "<table border=\"1\" class=\"dataframe\">\n",
       "  <thead>\n",
       "    <tr style=\"text-align: right;\">\n",
       "      <th></th>\n",
       "      <th>Unnamed: 0</th>\n",
       "      <th>file</th>\n",
       "      <th>ID</th>\n",
       "      <th>Group</th>\n",
       "      <th>MMSE</th>\n",
       "      <th>predict</th>\n",
       "      <th>predict_group</th>\n",
       "    </tr>\n",
       "  </thead>\n",
       "  <tbody>\n",
       "    <tr>\n",
       "      <th>0</th>\n",
       "      <td>0</td>\n",
       "      <td>/tf/data/dementia/English/Pitt/Control/cookie/...</td>\n",
       "      <td>255-1</td>\n",
       "      <td>Control</td>\n",
       "      <td>28.0</td>\n",
       "      <td>17.759423</td>\n",
       "      <td>Dementia</td>\n",
       "    </tr>\n",
       "    <tr>\n",
       "      <th>1</th>\n",
       "      <td>0</td>\n",
       "      <td>/tf/data/dementia/English/Pitt/Control/cookie/...</td>\n",
       "      <td>056-3</td>\n",
       "      <td>Control</td>\n",
       "      <td>29.0</td>\n",
       "      <td>25.626785</td>\n",
       "      <td>Control</td>\n",
       "    </tr>\n",
       "    <tr>\n",
       "      <th>2</th>\n",
       "      <td>0</td>\n",
       "      <td>/tf/data/dementia/English/Pitt/Control/cookie/...</td>\n",
       "      <td>139-3</td>\n",
       "      <td>Control</td>\n",
       "      <td>30.0</td>\n",
       "      <td>15.066687</td>\n",
       "      <td>Dementia</td>\n",
       "    </tr>\n",
       "    <tr>\n",
       "      <th>3</th>\n",
       "      <td>0</td>\n",
       "      <td>/tf/data/dementia/English/Pitt/Control/cookie/...</td>\n",
       "      <td>210-2</td>\n",
       "      <td>Control</td>\n",
       "      <td>29.0</td>\n",
       "      <td>25.299405</td>\n",
       "      <td>Control</td>\n",
       "    </tr>\n",
       "    <tr>\n",
       "      <th>4</th>\n",
       "      <td>0</td>\n",
       "      <td>/tf/data/dementia/English/Pitt/Control/cookie/...</td>\n",
       "      <td>109-1</td>\n",
       "      <td>Control</td>\n",
       "      <td>30.0</td>\n",
       "      <td>26.835056</td>\n",
       "      <td>Control</td>\n",
       "    </tr>\n",
       "  </tbody>\n",
       "</table>\n",
       "</div>"
      ],
      "text/plain": [
       "   Unnamed: 0                                               file     ID  \\\n",
       "0           0  /tf/data/dementia/English/Pitt/Control/cookie/...  255-1   \n",
       "1           0  /tf/data/dementia/English/Pitt/Control/cookie/...  056-3   \n",
       "2           0  /tf/data/dementia/English/Pitt/Control/cookie/...  139-3   \n",
       "3           0  /tf/data/dementia/English/Pitt/Control/cookie/...  210-2   \n",
       "4           0  /tf/data/dementia/English/Pitt/Control/cookie/...  109-1   \n",
       "\n",
       "     Group  MMSE    predict predict_group  \n",
       "0  Control  28.0  17.759423      Dementia  \n",
       "1  Control  29.0  25.626785       Control  \n",
       "2  Control  30.0  15.066687      Dementia  \n",
       "3  Control  29.0  25.299405       Control  \n",
       "4  Control  30.0  26.835056       Control  "
      ]
     },
     "execution_count": 29,
     "metadata": {},
     "output_type": "execute_result"
    }
   ],
   "source": [
    "meta_pitt_smile = pd.read_csv('meta_pitt_eGeMAPSv01b.csv')\n",
    "meta_pitt_smile.head()"
   ]
  },
  {
   "cell_type": "code",
   "execution_count": 30,
   "metadata": {},
   "outputs": [
    {
     "name": "stdout",
     "output_type": "stream",
     "text": [
      "7.944049228497729\n"
     ]
    }
   ],
   "source": [
    "meta_pitt_smile = meta_pitt_smile[meta_pitt_smile['MMSE'].notnull()]\n",
    "\n",
    "print(np.sqrt(mean_squared_error(meta_pitt_smile['MMSE'], meta_pitt_smile['predict'] )))"
   ]
  },
  {
   "cell_type": "code",
   "execution_count": 26,
   "metadata": {},
   "outputs": [
    {
     "name": "stdout",
     "output_type": "stream",
     "text": [
      "6.2860519836257875\n"
     ]
    }
   ],
   "source": [
    "meta_pitt_lstm = pd.read_csv('4-RollingWindow+LSTM+WN-pitt.csv')\n",
    "meta_pitt_lstm.head()\n",
    "meta_pitt_lstm = meta_pitt_lstm[meta_pitt_lstm['MMSE'].notnull()]\n",
    "\n",
    "print(np.sqrt(mean_squared_error(meta_pitt_lstm['MMSE'], meta_pitt_lstm['predict'] )))"
   ]
  },
  {
   "cell_type": "code",
   "execution_count": 31,
   "metadata": {},
   "outputs": [
    {
     "data": {
      "text/html": [
       "<div>\n",
       "<style scoped>\n",
       "    .dataframe tbody tr th:only-of-type {\n",
       "        vertical-align: middle;\n",
       "    }\n",
       "\n",
       "    .dataframe tbody tr th {\n",
       "        vertical-align: top;\n",
       "    }\n",
       "\n",
       "    .dataframe thead th {\n",
       "        text-align: right;\n",
       "    }\n",
       "</style>\n",
       "<table border=\"1\" class=\"dataframe\">\n",
       "  <thead>\n",
       "    <tr style=\"text-align: right;\">\n",
       "      <th></th>\n",
       "      <th>ID</th>\n",
       "      <th>Group</th>\n",
       "      <th>MMSE</th>\n",
       "      <th>predict_smile</th>\n",
       "      <th>predict_lstm</th>\n",
       "    </tr>\n",
       "  </thead>\n",
       "  <tbody>\n",
       "    <tr>\n",
       "      <th>0</th>\n",
       "      <td>255-1</td>\n",
       "      <td>Control</td>\n",
       "      <td>28.0</td>\n",
       "      <td>17.759423</td>\n",
       "      <td>26.444284</td>\n",
       "    </tr>\n",
       "    <tr>\n",
       "      <th>1</th>\n",
       "      <td>056-3</td>\n",
       "      <td>Control</td>\n",
       "      <td>29.0</td>\n",
       "      <td>25.626785</td>\n",
       "      <td>25.113256</td>\n",
       "    </tr>\n",
       "    <tr>\n",
       "      <th>2</th>\n",
       "      <td>139-3</td>\n",
       "      <td>Control</td>\n",
       "      <td>30.0</td>\n",
       "      <td>15.066687</td>\n",
       "      <td>23.186214</td>\n",
       "    </tr>\n",
       "    <tr>\n",
       "      <th>3</th>\n",
       "      <td>210-2</td>\n",
       "      <td>Control</td>\n",
       "      <td>29.0</td>\n",
       "      <td>25.299405</td>\n",
       "      <td>26.462302</td>\n",
       "    </tr>\n",
       "    <tr>\n",
       "      <th>4</th>\n",
       "      <td>109-1</td>\n",
       "      <td>Control</td>\n",
       "      <td>30.0</td>\n",
       "      <td>26.835056</td>\n",
       "      <td>24.406082</td>\n",
       "    </tr>\n",
       "  </tbody>\n",
       "</table>\n",
       "</div>"
      ],
      "text/plain": [
       "      ID    Group  MMSE  predict_smile  predict_lstm\n",
       "0  255-1  Control  28.0      17.759423     26.444284\n",
       "1  056-3  Control  29.0      25.626785     25.113256\n",
       "2  139-3  Control  30.0      15.066687     23.186214\n",
       "3  210-2  Control  29.0      25.299405     26.462302\n",
       "4  109-1  Control  30.0      26.835056     24.406082"
      ]
     },
     "execution_count": 31,
     "metadata": {},
     "output_type": "execute_result"
    }
   ],
   "source": [
    "meta_pitt_ensemble = pd.merge(meta_pitt_smile[['ID', 'Group', 'MMSE', 'predict']], \n",
    "                              meta_pitt_lstm[['ID', 'Group', 'predict']], \n",
    "                              on = ['ID', 'Group'], \n",
    "                              suffixes = ('_smile', '_lstm'))\n",
    "meta_pitt_ensemble.head()"
   ]
  },
  {
   "cell_type": "code",
   "execution_count": 34,
   "metadata": {
    "scrolled": true
   },
   "outputs": [
    {
     "data": {
      "text/plain": [
       "count    457.000000\n",
       "mean      23.009577\n",
       "std        2.873090\n",
       "min       12.741621\n",
       "25%       21.095128\n",
       "50%       23.180491\n",
       "75%       25.178343\n",
       "max       28.397079\n",
       "Name: predict_ensemble, dtype: float64"
      ]
     },
     "execution_count": 34,
     "metadata": {},
     "output_type": "execute_result"
    }
   ],
   "source": [
    "meta_pitt_ensemble['predict_ensemble'] = .5 * meta_pitt_ensemble['predict_smile'] + .5 * meta_pitt_ensemble['predict_lstm']\n",
    "meta_pitt_ensemble['predict_ensemble'].describe()\n"
   ]
  },
  {
   "cell_type": "code",
   "execution_count": 36,
   "metadata": {},
   "outputs": [
    {
     "name": "stdout",
     "output_type": "stream",
     "text": [
      "6.57998360609221\n"
     ]
    }
   ],
   "source": [
    "print(np.sqrt(mean_squared_error(meta_pitt_ensemble['MMSE'], meta_pitt_ensemble['predict_ensemble'] )))"
   ]
  }
 ],
 "metadata": {
  "kernelspec": {
   "display_name": "Python 3",
   "language": "python",
   "name": "python3"
  },
  "language_info": {
   "codemirror_mode": {
    "name": "ipython",
    "version": 3
   },
   "file_extension": ".py",
   "mimetype": "text/x-python",
   "name": "python",
   "nbconvert_exporter": "python",
   "pygments_lexer": "ipython3",
   "version": "3.6.9"
  }
 },
 "nbformat": 4,
 "nbformat_minor": 2
}
