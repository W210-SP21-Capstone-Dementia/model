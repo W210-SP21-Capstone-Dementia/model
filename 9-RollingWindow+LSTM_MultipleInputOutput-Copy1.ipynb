{
 "cells": [
  {
   "cell_type": "code",
   "execution_count": 1,
   "metadata": {},
   "outputs": [],
   "source": [
    "import os\n",
    "import numpy as np\n",
    "import pandas as pd\n",
    "import time\n",
    "import glob\n",
    "import pathlib\n",
    "import random\n",
    "import pickle\n",
    "import matplotlib.pyplot as plt\n",
    "import seaborn as sn\n",
    "from statistics import mean \n",
    "from tqdm import tqdm\n",
    "from plotnine import *\n",
    "%matplotlib inline\n",
    "\n",
    "import tensorflow as tf\n",
    "from tensorflow.keras.layers.experimental import preprocessing\n",
    "from tensorflow.keras import layers\n",
    "from tensorflow.keras import models\n",
    "\n",
    "from sklearn.metrics import roc_curve\n",
    "from sklearn.metrics import roc_auc_score\n",
    "from sklearn.metrics import confusion_matrix, mean_squared_error\n",
    "\n",
    "import sys\n",
    "sys.path.append(\"/tf/vggish\")\n",
    "\n",
    "import vggish_params \n",
    "import vggish_input\n",
    "import mel_features\n",
    "\n",
    "seed = 27\n",
    "tf.random.set_seed(seed)\n",
    "random.seed(seed)\n",
    "gpus = tf.config.list_physical_devices('GPU')"
   ]
  },
  {
   "cell_type": "code",
   "execution_count": 2,
   "metadata": {},
   "outputs": [],
   "source": [
    "## need this if training on GPU\n",
    "## tensorflow, get your shit together\n",
    "\n",
    "if len(gpus)>0:\n",
    "\n",
    "    from tensorflow.compat.v1 import ConfigProto\n",
    "    from tensorflow.compat.v1 import InteractiveSession\n",
    "\n",
    "    config = ConfigProto()\n",
    "    config.gpu_options.allow_growth = True\n",
    "    session = InteractiveSession(config=config)"
   ]
  },
  {
   "cell_type": "code",
   "execution_count": 3,
   "metadata": {},
   "outputs": [],
   "source": [
    "EPOCHS = 1000\n",
    "EARLY_STOPPING_PATIENCE = 200\n",
    "\n",
    "BATCH_SIZE=32\n",
    "DROPOUT=0.3\n",
    "LEARNING_RATE=0.001\n",
    "CLASSIFICATION_RATIO=0.999"
   ]
  },
  {
   "cell_type": "code",
   "execution_count": 4,
   "metadata": {},
   "outputs": [],
   "source": [
    "data_path = '/tf/data/dementia/0extra/ADReSS-IS2020-data/train'\n",
    "\n",
    "filenames = tf.random.shuffle(tf.io.gfile.glob(data_path + '/Full_wave_enhanced_audio/*/*'))\n",
    "\n",
    "train_cutoff = int(len(filenames)*0.7)\n",
    "val_cutoff = int(len(filenames)*0.85)\n",
    "\n",
    "train_files = filenames[:train_cutoff]\n",
    "val_files = filenames[train_cutoff:val_cutoff]\n",
    "test_files = filenames[val_cutoff:]"
   ]
  },
  {
   "cell_type": "code",
   "execution_count": 5,
   "metadata": {},
   "outputs": [],
   "source": [
    "meta_cc = pd.read_csv(data_path + '/cc_meta_data.txt', sep=\";\", header=0, \n",
    "                  names = ['ID', 'Age', 'Gender', 'MMSE'])\n",
    "meta_cd = pd.read_csv(data_path + '/cd_meta_data.txt', sep=\";\", header=0, \n",
    "                      names = ['ID', 'Age', 'Gender', 'MMSE'])\n",
    "\n",
    "meta = meta_cc.assign(Group = 'cc').append(meta_cd.assign(Group = 'cd')).reset_index()\n",
    "meta.MMSE = pd.to_numeric(meta.MMSE.replace(' NA', 30))\n",
    "meta.ID = meta.ID.str.strip()\n",
    "meta.Gender = meta.Gender.str.strip()"
   ]
  },
  {
   "cell_type": "code",
   "execution_count": 6,
   "metadata": {},
   "outputs": [],
   "source": [
    "AUTOTUNE = tf.data.AUTOTUNE"
   ]
  },
  {
   "cell_type": "code",
   "execution_count": 7,
   "metadata": {},
   "outputs": [],
   "source": [
    "size_sec = 30\n",
    "stride_sec = 1"
   ]
  },
  {
   "cell_type": "code",
   "execution_count": 22,
   "metadata": {},
   "outputs": [],
   "source": [
    "def window(x, size, stride):\n",
    "    length = int(len(x))\n",
    "    if length // size == 0:\n",
    "        zero_padding =  tf.zeros([size] - tf.shape(x), dtype=tf.float32)\n",
    "        x = tf.cast(x, tf.float32)\n",
    "        x = tf.concat([x, zero_padding], 0)\n",
    "        length = int(len(x))\n",
    "    return tf.map_fn(lambda i: x[i*stride:i*stride+size], tf.range((length-size)//stride+1), dtype=tf.float32)\n",
    "\n",
    "def get_data(file_path):\n",
    "\n",
    "    names = meta.ID\n",
    "    name = tf.strings.split(tf.strings.split(file_path, os.path.sep)[-1], '.')[0]\n",
    "    mmse = tf.gather(meta.MMSE, tf.where(tf.equal(names, name))[0][0])\n",
    "    group = tf.gather(meta.Group.map({'cc': 0, 'cd': 1}), tf.where(tf.equal(names, name))[0][0])\n",
    "    \n",
    "    age = tf.gather(meta.Age, tf.where(tf.equal(names, name))[0][0])\n",
    "    gender = tf.gather(meta.Gender.map({'male': 0, 'female': 1}), tf.where(tf.equal(names, name))[0][0])\n",
    "    \n",
    "    audio_binary = tf.io.read_file(file_path)\n",
    "    audio, _ = tf.audio.decode_wav(audio_binary)\n",
    "    waveform = tf.squeeze(audio, axis=-1)\n",
    "#     waveform = decode_audio(audio_binary)\n",
    "        \n",
    "    rolling_waveform_tensors = window(waveform, size=int(_*size_sec), stride=int(_*stride_sec))\n",
    "    rolling_spectrograms = tf.signal.stft(rolling_waveform_tensors, frame_length=512, frame_step=_)\n",
    "    rolling_spectrograms = tf.abs(rolling_spectrograms)\n",
    "    rolling_spectrograms = tf.expand_dims(rolling_spectrograms, -1)\n",
    "        \n",
    "    return rolling_spectrograms, mmse/30, group #, age, gender"
   ]
  },
  {
   "cell_type": "code",
   "execution_count": 23,
   "metadata": {},
   "outputs": [],
   "source": [
    "def preprocess_dataset(files):\n",
    "    files_ds = tf.data.Dataset.from_tensor_slices(files)\n",
    "    output_ds = files_ds.map(get_data, num_parallel_calls=AUTOTUNE)\\\n",
    "                        .cache()\\\n",
    "                        .prefetch(100)\\\n",
    "                        .flat_map(lambda spec, mmse, group: tf.data.Dataset.zip((\n",
    "                                    tf.data.Dataset.zip((\n",
    "                                        tf.data.Dataset.from_tensor_slices(spec)\n",
    "#                                         tf.data.Dataset.from_tensor_slices([age]),\n",
    "#                                         tf.data.Dataset.from_tensor_slices([gender]),\n",
    "                                    )),\n",
    "                                    tf.data.Dataset.zip((\n",
    "                                        tf.data.Dataset.from_tensor_slices([mmse]), \n",
    "                                        tf.data.Dataset.from_tensor_slices([group]) \n",
    "                                    ))\n",
    "                                )))\\\n",
    "                        .shuffle(100)\n",
    "    return output_ds"
   ]
  },
  {
   "cell_type": "code",
   "execution_count": 24,
   "metadata": {},
   "outputs": [],
   "source": [
    "train_ds = preprocess_dataset(train_files)\n",
    "val_ds = preprocess_dataset(val_files)\n",
    "test_ds = preprocess_dataset(test_files)"
   ]
  },
  {
   "cell_type": "code",
   "execution_count": 25,
   "metadata": {
    "scrolled": true
   },
   "outputs": [
    {
     "name": "stdout",
     "output_type": "stream",
     "text": [
      "(30, 257, 1)\n",
      "tf.Tensor(0.4666666666666667, shape=(), dtype=float64)\n",
      "tf.Tensor(1, shape=(), dtype=int64)\n"
     ]
    }
   ],
   "source": [
    "for input, output in train_ds.take(1):\n",
    "    input_shape = input.shape\n",
    "    print(input_shape)\n",
    "#     print(input[1])\n",
    "#     print(input[2])\n",
    "    print(output[0])\n",
    "    print(output[1])\n"
   ]
  },
  {
   "cell_type": "code",
   "execution_count": 177,
   "metadata": {},
   "outputs": [],
   "source": [
    "BATCH_SIZE=64\n",
    "train_ds_b = train_ds.batch(BATCH_SIZE)\n",
    "val_ds_b = val_ds.batch(BATCH_SIZE)"
   ]
  },
  {
   "cell_type": "code",
   "execution_count": 178,
   "metadata": {},
   "outputs": [],
   "source": [
    "norm_layer = preprocessing.Normalization()\n",
    "norm_layer.adapt(train_ds.map(lambda x, _: x))"
   ]
  },
  {
   "cell_type": "code",
   "execution_count": 212,
   "metadata": {},
   "outputs": [
    {
     "name": "stdout",
     "output_type": "stream",
     "text": [
      "Model: \"model_10\"\n",
      "__________________________________________________________________________________________________\n",
      "Layer (type)                    Output Shape         Param #     Connected to                     \n",
      "==================================================================================================\n",
      "input_11 (InputLayer)           [(None, 30, 257, 1)] 0                                            \n",
      "__________________________________________________________________________________________________\n",
      "reshape_10 (Reshape)            (None, 30, 257)      0           input_11[0][0]                   \n",
      "__________________________________________________________________________________________________\n",
      "normalization_3 (Normalization) (None, 30, 257)      3           reshape_10[0][0]                 \n",
      "__________________________________________________________________________________________________\n",
      "dense_40 (Dense)                (None, 30, 256)      66048       normalization_3[4][0]            \n",
      "__________________________________________________________________________________________________\n",
      "dropout_40 (Dropout)            (None, 30, 256)      0           dense_40[0][0]                   \n",
      "__________________________________________________________________________________________________\n",
      "lstm_20 (LSTM)                  (None, 30, 128)      197120      dropout_40[0][0]                 \n",
      "__________________________________________________________________________________________________\n",
      "dropout_41 (Dropout)            (None, 30, 128)      0           lstm_20[0][0]                    \n",
      "__________________________________________________________________________________________________\n",
      "lstm_21 (LSTM)                  (None, 64)           49408       dropout_41[0][0]                 \n",
      "__________________________________________________________________________________________________\n",
      "dropout_42 (Dropout)            (None, 64)           0           lstm_21[0][0]                    \n",
      "__________________________________________________________________________________________________\n",
      "dense_41 (Dense)                (None, 32)           2080        dropout_42[0][0]                 \n",
      "__________________________________________________________________________________________________\n",
      "dropout_43 (Dropout)            (None, 32)           0           dense_41[0][0]                   \n",
      "__________________________________________________________________________________________________\n",
      "dense_42 (Dense)                (None, 32)           1056        dropout_43[0][0]                 \n",
      "__________________________________________________________________________________________________\n",
      "dense_43 (Dense)                (None, 32)           1056        dropout_43[0][0]                 \n",
      "__________________________________________________________________________________________________\n",
      "mmse (Dense)                    (None, 1)            33          dense_42[0][0]                   \n",
      "__________________________________________________________________________________________________\n",
      "classification (Dense)          (None, 1)            33          dense_43[0][0]                   \n",
      "==================================================================================================\n",
      "Total params: 316,837\n",
      "Trainable params: 316,834\n",
      "Non-trainable params: 3\n",
      "__________________________________________________________________________________________________\n",
      "None\n"
     ]
    }
   ],
   "source": [
    "specInput = layers.Input(shape=input_shape)\n",
    "reshapeSpecInput = layers.Reshape((input_shape[0],input_shape[1]))(specInput)\n",
    "normSpec = norm_layer(reshapeSpecInput)\n",
    "\n",
    "# ageInput = layers.Input(shape=(1,))\n",
    "# genderInput = layers.Input(shape=(1,))\n",
    "\n",
    "\n",
    "dense1 = layers.Dense(256, activation='relu', kernel_initializer='he_normal')(normSpec)\n",
    "dropout1 = layers.Dropout(0.25)(dense1)\n",
    "lstm1 = layers.LSTM(128, activation='relu', kernel_initializer='he_normal', return_sequences=True)(dropout1)\n",
    "dropout2 = layers.Dropout(0.25)(lstm1)\n",
    "lstm2 = layers.LSTM(64, activation='relu', kernel_initializer='he_normal')(dropout2)\n",
    "dropout3 = layers.Dropout(0.25)(lstm2)\n",
    "\n",
    "# concat = tf.keras.layers.Concatenate()([dropout3, ageInput, genderInput])\n",
    "\n",
    "dense2 = layers.Dense(32, activation='relu', kernel_initializer='he_normal')(dropout3) #concat\n",
    "dropout4 = layers.Dropout(0.25)(dense2)\n",
    "\n",
    "mmseDense = layers.Dense(32, activation='relu', kernel_initializer='he_normal')(dropout4)\n",
    "mmse = layers.Dense(1, activation='relu', kernel_initializer='he_normal', name='mmse')(mmseDense)\n",
    "\n",
    "classificationDense = layers.Dense(32, activation='relu', kernel_initializer='he_normal')(dropout4)\n",
    "classification = layers.Dense(1, activation='sigmoid', kernel_initializer='he_normal', name='classification')(classificationDense)\n",
    "\n",
    "model = tf.keras.Model(\n",
    "    inputs=specInput,\n",
    "    outputs=[mmse, classification],\n",
    ")\n",
    "\n",
    "print(model.summary())"
   ]
  },
  {
   "cell_type": "code",
   "execution_count": 213,
   "metadata": {},
   "outputs": [],
   "source": [
    "model.compile(\n",
    "    optimizer=tf.keras.optimizers.Adam(learning_rate=LEARNING_RATE, clipnorm=1),\n",
    "    loss = ['mse','binary_crossentropy'],\n",
    "    loss_weights=[1, 0.1]\n",
    ")"
   ]
  },
  {
   "cell_type": "code",
   "execution_count": 214,
   "metadata": {
    "scrolled": true
   },
   "outputs": [
    {
     "name": "stdout",
     "output_type": "stream",
     "text": [
      "Epoch 1/1000\n",
      "2/2 - 2s - loss: 1657.0570 - mmse_loss: 1656.5442 - classification_loss: 5.1277 - val_loss: 372.1454 - val_mmse_loss: 371.6108 - val_classification_loss: 5.3455\n",
      "Epoch 2/1000\n",
      "2/2 - 1s - loss: 254.2828 - mmse_loss: 253.9449 - classification_loss: 3.3787 - val_loss: 1537.4041 - val_mmse_loss: 1536.3420 - val_classification_loss: 10.6205\n",
      "Epoch 3/1000\n",
      "2/2 - 0s - loss: 1269.4878 - mmse_loss: 1268.6298 - classification_loss: 8.5803 - val_loss: 1268.3956 - val_mmse_loss: 1267.0006 - val_classification_loss: 13.9508\n",
      "Epoch 4/1000\n",
      "2/2 - 0s - loss: 1703.4122 - mmse_loss: 1702.7465 - classification_loss: 6.6579 - val_loss: 359.0197 - val_mmse_loss: 358.0494 - val_classification_loss: 9.7027\n",
      "Epoch 5/1000\n",
      "2/2 - 0s - loss: 1620.9769 - mmse_loss: 1620.0278 - classification_loss: 9.4915 - val_loss: 34.5750 - val_mmse_loss: 34.3382 - val_classification_loss: 2.3675\n",
      "Epoch 6/1000\n",
      "2/2 - 0s - loss: 302.4853 - mmse_loss: 302.2672 - classification_loss: 2.1805 - val_loss: 23.9679 - val_mmse_loss: 23.8837 - val_classification_loss: 0.8422\n",
      "Epoch 7/1000\n",
      "2/2 - 0s - loss: 129.6833 - mmse_loss: 129.5328 - classification_loss: 1.5048 - val_loss: 5.6709 - val_mmse_loss: 5.4923 - val_classification_loss: 1.7857\n",
      "Epoch 8/1000\n",
      "2/2 - 0s - loss: 19.3391 - mmse_loss: 19.2204 - classification_loss: 1.1876 - val_loss: 4.7857 - val_mmse_loss: 4.5828 - val_classification_loss: 2.0284\n",
      "Epoch 9/1000\n",
      "2/2 - 0s - loss: 5.8633 - mmse_loss: 5.7567 - classification_loss: 1.0666 - val_loss: 2.5169 - val_mmse_loss: 2.3506 - val_classification_loss: 1.6637\n",
      "Epoch 10/1000\n",
      "2/2 - 0s - loss: 3.9370 - mmse_loss: 3.8419 - classification_loss: 0.9516 - val_loss: 0.8213 - val_mmse_loss: 0.7093 - val_classification_loss: 1.1197\n",
      "Epoch 11/1000\n",
      "2/2 - 0s - loss: 1.8230 - mmse_loss: 1.7042 - classification_loss: 1.1881 - val_loss: 1.3518 - val_mmse_loss: 1.2598 - val_classification_loss: 0.9196\n",
      "Epoch 12/1000\n",
      "2/2 - 0s - loss: 1.9618 - mmse_loss: 1.8462 - classification_loss: 1.1560 - val_loss: 1.2090 - val_mmse_loss: 1.1236 - val_classification_loss: 0.8547\n",
      "Epoch 13/1000\n",
      "2/2 - 0s - loss: 3.0438 - mmse_loss: 2.9812 - classification_loss: 0.6258 - val_loss: 0.6996 - val_mmse_loss: 0.6163 - val_classification_loss: 0.8332\n",
      "Epoch 14/1000\n",
      "2/2 - 0s - loss: 4.2815 - mmse_loss: 4.2094 - classification_loss: 0.7215 - val_loss: 0.4589 - val_mmse_loss: 0.3862 - val_classification_loss: 0.7265\n",
      "Epoch 15/1000\n",
      "2/2 - 0s - loss: 1.2102 - mmse_loss: 1.1431 - classification_loss: 0.6715 - val_loss: 0.3850 - val_mmse_loss: 0.3170 - val_classification_loss: 0.6794\n",
      "Epoch 16/1000\n",
      "2/2 - 0s - loss: 0.6570 - mmse_loss: 0.5873 - classification_loss: 0.6976 - val_loss: 0.2765 - val_mmse_loss: 0.2010 - val_classification_loss: 0.7545\n",
      "Epoch 17/1000\n",
      "2/2 - 0s - loss: 0.3513 - mmse_loss: 0.2734 - classification_loss: 0.7787 - val_loss: 0.3513 - val_mmse_loss: 0.2669 - val_classification_loss: 0.8435\n",
      "Epoch 18/1000\n",
      "2/2 - 0s - loss: 0.6597 - mmse_loss: 0.5693 - classification_loss: 0.9046 - val_loss: 0.3515 - val_mmse_loss: 0.2618 - val_classification_loss: 0.8968\n",
      "Epoch 19/1000\n",
      "2/2 - 0s - loss: 1.7483 - mmse_loss: 1.6371 - classification_loss: 1.1128 - val_loss: 0.1573 - val_mmse_loss: 0.0734 - val_classification_loss: 0.8392\n",
      "Epoch 20/1000\n",
      "2/2 - 0s - loss: 0.5663 - mmse_loss: 0.4875 - classification_loss: 0.7877 - val_loss: 0.2059 - val_mmse_loss: 0.1300 - val_classification_loss: 0.7584\n",
      "Epoch 21/1000\n",
      "2/2 - 0s - loss: 0.4799 - mmse_loss: 0.4002 - classification_loss: 0.7971 - val_loss: 0.4087 - val_mmse_loss: 0.3392 - val_classification_loss: 0.6954\n",
      "Epoch 22/1000\n",
      "2/2 - 0s - loss: 1.1829 - mmse_loss: 1.1135 - classification_loss: 0.6938 - val_loss: 0.4644 - val_mmse_loss: 0.3959 - val_classification_loss: 0.6858\n",
      "Epoch 23/1000\n",
      "2/2 - 0s - loss: 7.6311 - mmse_loss: 7.5645 - classification_loss: 0.6666 - val_loss: 0.4837 - val_mmse_loss: 0.4142 - val_classification_loss: 0.6949\n",
      "Epoch 24/1000\n",
      "2/2 - 0s - loss: 0.5874 - mmse_loss: 0.5230 - classification_loss: 0.6441 - val_loss: 0.5026 - val_mmse_loss: 0.4337 - val_classification_loss: 0.6884\n",
      "Epoch 25/1000\n",
      "2/2 - 0s - loss: 0.4890 - mmse_loss: 0.4179 - classification_loss: 0.7106 - val_loss: 0.4416 - val_mmse_loss: 0.3730 - val_classification_loss: 0.6860\n",
      "Epoch 26/1000\n",
      "2/2 - 0s - loss: 0.3727 - mmse_loss: 0.3060 - classification_loss: 0.6666 - val_loss: 0.2930 - val_mmse_loss: 0.2245 - val_classification_loss: 0.6859\n",
      "Epoch 27/1000\n",
      "2/2 - 0s - loss: 0.3297 - mmse_loss: 0.2581 - classification_loss: 0.7162 - val_loss: 0.2366 - val_mmse_loss: 0.1667 - val_classification_loss: 0.6989\n",
      "Epoch 28/1000\n",
      "2/2 - 0s - loss: 0.3053 - mmse_loss: 0.2322 - classification_loss: 0.7314 - val_loss: 0.3073 - val_mmse_loss: 0.2366 - val_classification_loss: 0.7075\n",
      "Epoch 29/1000\n",
      "2/2 - 0s - loss: 0.3322 - mmse_loss: 0.2572 - classification_loss: 0.7501 - val_loss: 0.3343 - val_mmse_loss: 0.2644 - val_classification_loss: 0.6993\n",
      "Epoch 30/1000\n",
      "2/2 - 0s - loss: 0.2151 - mmse_loss: 0.1481 - classification_loss: 0.6704 - val_loss: 0.2860 - val_mmse_loss: 0.2161 - val_classification_loss: 0.6993\n",
      "Epoch 31/1000\n",
      "2/2 - 0s - loss: 0.2524 - mmse_loss: 0.1802 - classification_loss: 0.7227 - val_loss: 0.2421 - val_mmse_loss: 0.1715 - val_classification_loss: 0.7059\n",
      "Epoch 32/1000\n",
      "2/2 - 0s - loss: 0.2604 - mmse_loss: 0.1899 - classification_loss: 0.7046 - val_loss: 0.2248 - val_mmse_loss: 0.1534 - val_classification_loss: 0.7132\n",
      "Epoch 33/1000\n",
      "2/2 - 0s - loss: 0.1927 - mmse_loss: 0.1206 - classification_loss: 0.7208 - val_loss: 0.1967 - val_mmse_loss: 0.1210 - val_classification_loss: 0.7575\n",
      "Epoch 34/1000\n",
      "2/2 - 0s - loss: 0.6881 - mmse_loss: 0.6128 - classification_loss: 0.7528 - val_loss: 0.2976 - val_mmse_loss: 0.2179 - val_classification_loss: 0.7961\n",
      "Epoch 35/1000\n",
      "2/2 - 0s - loss: 0.3077 - mmse_loss: 0.2352 - classification_loss: 0.7244 - val_loss: 0.2464 - val_mmse_loss: 0.1737 - val_classification_loss: 0.7274\n",
      "Epoch 36/1000\n",
      "2/2 - 0s - loss: 0.3425 - mmse_loss: 0.2733 - classification_loss: 0.6920 - val_loss: 0.2930 - val_mmse_loss: 0.2262 - val_classification_loss: 0.6686\n",
      "Epoch 37/1000\n",
      "2/2 - 0s - loss: 0.2708 - mmse_loss: 0.2019 - classification_loss: 0.6889 - val_loss: 0.2881 - val_mmse_loss: 0.2210 - val_classification_loss: 0.6712\n",
      "Epoch 38/1000\n",
      "2/2 - 0s - loss: 0.2184 - mmse_loss: 0.1469 - classification_loss: 0.7145 - val_loss: 0.2057 - val_mmse_loss: 0.1374 - val_classification_loss: 0.6834\n",
      "Epoch 39/1000\n",
      "2/2 - 0s - loss: 0.2086 - mmse_loss: 0.1351 - classification_loss: 0.7350 - val_loss: 0.1836 - val_mmse_loss: 0.1149 - val_classification_loss: 0.6877\n",
      "Epoch 40/1000\n",
      "2/2 - 0s - loss: 0.2115 - mmse_loss: 0.1386 - classification_loss: 0.7297 - val_loss: 0.2303 - val_mmse_loss: 0.1613 - val_classification_loss: 0.6901\n",
      "Epoch 41/1000\n",
      "2/2 - 0s - loss: 0.2368 - mmse_loss: 0.1631 - classification_loss: 0.7369 - val_loss: 0.2906 - val_mmse_loss: 0.2208 - val_classification_loss: 0.6978\n",
      "Epoch 42/1000\n",
      "2/2 - 0s - loss: 0.2336 - mmse_loss: 0.1692 - classification_loss: 0.6437 - val_loss: 0.3049 - val_mmse_loss: 0.2344 - val_classification_loss: 0.7045\n",
      "Epoch 43/1000\n",
      "2/2 - 0s - loss: 0.2139 - mmse_loss: 0.1463 - classification_loss: 0.6759 - val_loss: 0.2759 - val_mmse_loss: 0.2039 - val_classification_loss: 0.7196\n",
      "Epoch 44/1000\n",
      "2/2 - 0s - loss: 0.2536 - mmse_loss: 0.1861 - classification_loss: 0.6749 - val_loss: 0.2370 - val_mmse_loss: 0.1641 - val_classification_loss: 0.7288\n",
      "Epoch 45/1000\n",
      "2/2 - 0s - loss: 0.2206 - mmse_loss: 0.1529 - classification_loss: 0.6775 - val_loss: 0.1732 - val_mmse_loss: 0.0990 - val_classification_loss: 0.7413\n",
      "Epoch 46/1000\n",
      "2/2 - 0s - loss: 0.2476 - mmse_loss: 0.1729 - classification_loss: 0.7470 - val_loss: 0.1639 - val_mmse_loss: 0.0890 - val_classification_loss: 0.7491\n",
      "Epoch 47/1000\n",
      "2/2 - 0s - loss: 0.1673 - mmse_loss: 0.0964 - classification_loss: 0.7084 - val_loss: 0.1906 - val_mmse_loss: 0.1159 - val_classification_loss: 0.7472\n",
      "Epoch 48/1000\n",
      "2/2 - 0s - loss: 0.2543 - mmse_loss: 0.1771 - classification_loss: 0.7714 - val_loss: 0.2209 - val_mmse_loss: 0.1470 - val_classification_loss: 0.7385\n",
      "Epoch 49/1000\n",
      "2/2 - 0s - loss: 0.2188 - mmse_loss: 0.1452 - classification_loss: 0.7353 - val_loss: 0.2407 - val_mmse_loss: 0.1678 - val_classification_loss: 0.7291\n",
      "Epoch 50/1000\n",
      "2/2 - 0s - loss: 0.2181 - mmse_loss: 0.1423 - classification_loss: 0.7587 - val_loss: 0.2355 - val_mmse_loss: 0.1631 - val_classification_loss: 0.7231\n"
     ]
    },
    {
     "name": "stdout",
     "output_type": "stream",
     "text": [
      "Epoch 51/1000\n",
      "2/2 - 0s - loss: 0.1849 - mmse_loss: 0.1160 - classification_loss: 0.6887 - val_loss: 0.2216 - val_mmse_loss: 0.1500 - val_classification_loss: 0.7164\n",
      "Epoch 52/1000\n",
      "2/2 - 0s - loss: 0.1760 - mmse_loss: 0.1074 - classification_loss: 0.6861 - val_loss: 0.2036 - val_mmse_loss: 0.1327 - val_classification_loss: 0.7083\n",
      "Epoch 53/1000\n",
      "2/2 - 0s - loss: 0.1665 - mmse_loss: 0.0920 - classification_loss: 0.7456 - val_loss: 0.1860 - val_mmse_loss: 0.1157 - val_classification_loss: 0.7029\n",
      "Epoch 54/1000\n",
      "2/2 - 0s - loss: 0.1917 - mmse_loss: 0.1221 - classification_loss: 0.6958 - val_loss: 0.2077 - val_mmse_loss: 0.1380 - val_classification_loss: 0.6966\n",
      "Epoch 55/1000\n",
      "2/2 - 0s - loss: 0.1856 - mmse_loss: 0.1126 - classification_loss: 0.7294 - val_loss: 0.2174 - val_mmse_loss: 0.1479 - val_classification_loss: 0.6950\n",
      "Epoch 56/1000\n",
      "2/2 - 0s - loss: 0.1903 - mmse_loss: 0.1210 - classification_loss: 0.6929 - val_loss: 0.2418 - val_mmse_loss: 0.1730 - val_classification_loss: 0.6876\n",
      "Epoch 57/1000\n",
      "2/2 - 0s - loss: 0.1621 - mmse_loss: 0.0915 - classification_loss: 0.7054 - val_loss: 0.2652 - val_mmse_loss: 0.1973 - val_classification_loss: 0.6789\n",
      "Epoch 58/1000\n",
      "2/2 - 0s - loss: 0.1572 - mmse_loss: 0.0874 - classification_loss: 0.6988 - val_loss: 0.2409 - val_mmse_loss: 0.1738 - val_classification_loss: 0.6713\n",
      "Epoch 59/1000\n",
      "2/2 - 0s - loss: 0.1553 - mmse_loss: 0.0914 - classification_loss: 0.6392 - val_loss: 0.1913 - val_mmse_loss: 0.1254 - val_classification_loss: 0.6592\n",
      "Epoch 60/1000\n",
      "2/2 - 0s - loss: 0.1447 - mmse_loss: 0.0718 - classification_loss: 0.7284 - val_loss: 0.1696 - val_mmse_loss: 0.1052 - val_classification_loss: 0.6437\n",
      "Epoch 61/1000\n",
      "2/2 - 0s - loss: 0.2032 - mmse_loss: 0.1402 - classification_loss: 0.6292 - val_loss: 0.1936 - val_mmse_loss: 0.1290 - val_classification_loss: 0.6459\n",
      "Epoch 62/1000\n",
      "2/2 - 0s - loss: 0.1886 - mmse_loss: 0.1141 - classification_loss: 0.7452 - val_loss: 0.2810 - val_mmse_loss: 0.2149 - val_classification_loss: 0.6614\n",
      "Epoch 63/1000\n",
      "2/2 - 0s - loss: 0.1795 - mmse_loss: 0.1117 - classification_loss: 0.6778 - val_loss: 0.3075 - val_mmse_loss: 0.2410 - val_classification_loss: 0.6649\n",
      "Epoch 64/1000\n",
      "2/2 - 0s - loss: 0.1859 - mmse_loss: 0.1163 - classification_loss: 0.6963 - val_loss: 0.2656 - val_mmse_loss: 0.1996 - val_classification_loss: 0.6596\n",
      "Epoch 65/1000\n",
      "2/2 - 0s - loss: 0.1849 - mmse_loss: 0.1166 - classification_loss: 0.6823 - val_loss: 0.2023 - val_mmse_loss: 0.1374 - val_classification_loss: 0.6484\n",
      "Epoch 66/1000\n",
      "2/2 - 0s - loss: 0.1671 - mmse_loss: 0.0990 - classification_loss: 0.6804 - val_loss: 0.1567 - val_mmse_loss: 0.0926 - val_classification_loss: 0.6408\n",
      "Epoch 67/1000\n",
      "2/2 - 0s - loss: 0.1603 - mmse_loss: 0.0904 - classification_loss: 0.6993 - val_loss: 0.1417 - val_mmse_loss: 0.0777 - val_classification_loss: 0.6399\n",
      "Epoch 68/1000\n",
      "2/2 - 0s - loss: 0.2866 - mmse_loss: 0.2168 - classification_loss: 0.6978 - val_loss: 0.1591 - val_mmse_loss: 0.0944 - val_classification_loss: 0.6476\n",
      "Epoch 69/1000\n",
      "2/2 - 0s - loss: 0.1720 - mmse_loss: 0.1052 - classification_loss: 0.6677 - val_loss: 0.1925 - val_mmse_loss: 0.1267 - val_classification_loss: 0.6581\n",
      "Epoch 70/1000\n",
      "2/2 - 0s - loss: 0.1515 - mmse_loss: 0.0820 - classification_loss: 0.6951 - val_loss: 0.2156 - val_mmse_loss: 0.1490 - val_classification_loss: 0.6663\n",
      "Epoch 71/1000\n",
      "2/2 - 0s - loss: 0.1622 - mmse_loss: 0.0921 - classification_loss: 0.7005 - val_loss: 0.2266 - val_mmse_loss: 0.1595 - val_classification_loss: 0.6704\n",
      "Epoch 72/1000\n",
      "2/2 - 0s - loss: 0.1493 - mmse_loss: 0.0838 - classification_loss: 0.6552 - val_loss: 0.2222 - val_mmse_loss: 0.1550 - val_classification_loss: 0.6717\n",
      "Epoch 73/1000\n",
      "2/2 - 0s - loss: 0.1584 - mmse_loss: 0.0930 - classification_loss: 0.6538 - val_loss: 0.2101 - val_mmse_loss: 0.1432 - val_classification_loss: 0.6686\n",
      "Epoch 74/1000\n",
      "2/2 - 0s - loss: 0.1821 - mmse_loss: 0.1141 - classification_loss: 0.6798 - val_loss: 0.2085 - val_mmse_loss: 0.1417 - val_classification_loss: 0.6680\n",
      "Epoch 75/1000\n",
      "2/2 - 0s - loss: 0.3019 - mmse_loss: 0.2361 - classification_loss: 0.6575 - val_loss: 0.2014 - val_mmse_loss: 0.1347 - val_classification_loss: 0.6669\n",
      "Epoch 76/1000\n",
      "2/2 - 0s - loss: 0.1610 - mmse_loss: 0.0941 - classification_loss: 0.6696 - val_loss: 0.2105 - val_mmse_loss: 0.1440 - val_classification_loss: 0.6652\n",
      "Epoch 77/1000\n",
      "2/2 - 0s - loss: 0.1371 - mmse_loss: 0.0734 - classification_loss: 0.6374 - val_loss: 0.2301 - val_mmse_loss: 0.1640 - val_classification_loss: 0.6614\n",
      "Epoch 78/1000\n",
      "2/2 - 0s - loss: 0.1581 - mmse_loss: 0.0874 - classification_loss: 0.7067 - val_loss: 0.2299 - val_mmse_loss: 0.1640 - val_classification_loss: 0.6591\n",
      "Epoch 79/1000\n",
      "2/2 - 0s - loss: 0.1715 - mmse_loss: 0.1052 - classification_loss: 0.6626 - val_loss: 0.2068 - val_mmse_loss: 0.1413 - val_classification_loss: 0.6548\n",
      "Epoch 80/1000\n",
      "2/2 - 0s - loss: 0.2128 - mmse_loss: 0.1442 - classification_loss: 0.6864 - val_loss: 0.1665 - val_mmse_loss: 0.1021 - val_classification_loss: 0.6442\n",
      "Epoch 81/1000\n",
      "2/2 - 0s - loss: 0.1614 - mmse_loss: 0.0949 - classification_loss: 0.6644 - val_loss: 0.1555 - val_mmse_loss: 0.0912 - val_classification_loss: 0.6428\n",
      "Epoch 82/1000\n",
      "2/2 - 0s - loss: 0.1424 - mmse_loss: 0.0737 - classification_loss: 0.6867 - val_loss: 0.1697 - val_mmse_loss: 0.1051 - val_classification_loss: 0.6458\n",
      "Epoch 83/1000\n",
      "2/2 - 0s - loss: 0.1453 - mmse_loss: 0.0809 - classification_loss: 0.6436 - val_loss: 0.1832 - val_mmse_loss: 0.1186 - val_classification_loss: 0.6467\n",
      "Epoch 84/1000\n",
      "2/2 - 0s - loss: 0.1512 - mmse_loss: 0.0823 - classification_loss: 0.6894 - val_loss: 0.2065 - val_mmse_loss: 0.1417 - val_classification_loss: 0.6485\n",
      "Epoch 85/1000\n",
      "2/2 - 0s - loss: 0.1607 - mmse_loss: 0.0912 - classification_loss: 0.6945 - val_loss: 0.2370 - val_mmse_loss: 0.1713 - val_classification_loss: 0.6575\n",
      "Epoch 86/1000\n",
      "2/2 - 0s - loss: 0.1489 - mmse_loss: 0.0796 - classification_loss: 0.6929 - val_loss: 0.2292 - val_mmse_loss: 0.1630 - val_classification_loss: 0.6614\n",
      "Epoch 87/1000\n",
      "2/2 - 0s - loss: 0.1492 - mmse_loss: 0.0838 - classification_loss: 0.6543 - val_loss: 0.1966 - val_mmse_loss: 0.1305 - val_classification_loss: 0.6602\n",
      "Epoch 88/1000\n",
      "2/2 - 0s - loss: 0.1614 - mmse_loss: 0.0924 - classification_loss: 0.6908 - val_loss: 0.1726 - val_mmse_loss: 0.1065 - val_classification_loss: 0.6619\n",
      "Epoch 89/1000\n",
      "2/2 - 0s - loss: 0.1525 - mmse_loss: 0.0823 - classification_loss: 0.7021 - val_loss: 0.1837 - val_mmse_loss: 0.1167 - val_classification_loss: 0.6706\n",
      "Epoch 90/1000\n",
      "2/2 - 0s - loss: 0.1530 - mmse_loss: 0.0814 - classification_loss: 0.7164 - val_loss: 0.2113 - val_mmse_loss: 0.1431 - val_classification_loss: 0.6822\n",
      "Epoch 91/1000\n",
      "2/2 - 0s - loss: 0.1515 - mmse_loss: 0.0812 - classification_loss: 0.7028 - val_loss: 0.2224 - val_mmse_loss: 0.1539 - val_classification_loss: 0.6857\n",
      "Epoch 92/1000\n",
      "2/2 - 0s - loss: 0.1508 - mmse_loss: 0.0819 - classification_loss: 0.6892 - val_loss: 0.2137 - val_mmse_loss: 0.1454 - val_classification_loss: 0.6825\n",
      "Epoch 93/1000\n",
      "2/2 - 0s - loss: 0.1429 - mmse_loss: 0.0730 - classification_loss: 0.6987 - val_loss: 0.1971 - val_mmse_loss: 0.1293 - val_classification_loss: 0.6782\n",
      "Epoch 94/1000\n",
      "2/2 - 0s - loss: 0.1536 - mmse_loss: 0.0855 - classification_loss: 0.6811 - val_loss: 0.1936 - val_mmse_loss: 0.1248 - val_classification_loss: 0.6884\n",
      "Epoch 95/1000\n",
      "2/2 - 0s - loss: 0.1566 - mmse_loss: 0.0847 - classification_loss: 0.7182 - val_loss: 0.1964 - val_mmse_loss: 0.1269 - val_classification_loss: 0.6943\n",
      "Epoch 96/1000\n",
      "2/2 - 0s - loss: 0.1349 - mmse_loss: 0.0675 - classification_loss: 0.6739 - val_loss: 0.1925 - val_mmse_loss: 0.1233 - val_classification_loss: 0.6919\n",
      "Epoch 97/1000\n",
      "2/2 - 0s - loss: 0.1702 - mmse_loss: 0.1006 - classification_loss: 0.6953 - val_loss: 0.1977 - val_mmse_loss: 0.1288 - val_classification_loss: 0.6888\n",
      "Epoch 98/1000\n",
      "2/2 - 0s - loss: 0.1494 - mmse_loss: 0.0804 - classification_loss: 0.6902 - val_loss: 0.1909 - val_mmse_loss: 0.1224 - val_classification_loss: 0.6851\n",
      "Epoch 99/1000\n",
      "2/2 - 0s - loss: 0.1386 - mmse_loss: 0.0705 - classification_loss: 0.6806 - val_loss: 0.1767 - val_mmse_loss: 0.1088 - val_classification_loss: 0.6785\n",
      "Epoch 100/1000\n",
      "2/2 - 0s - loss: 0.1330 - mmse_loss: 0.0622 - classification_loss: 0.7084 - val_loss: 0.1610 - val_mmse_loss: 0.0941 - val_classification_loss: 0.6681\n"
     ]
    },
    {
     "name": "stdout",
     "output_type": "stream",
     "text": [
      "Epoch 101/1000\n",
      "2/2 - 0s - loss: 0.1484 - mmse_loss: 0.0825 - classification_loss: 0.6591 - val_loss: 0.1634 - val_mmse_loss: 0.0972 - val_classification_loss: 0.6620\n",
      "Epoch 102/1000\n",
      "2/2 - 0s - loss: 0.1591 - mmse_loss: 0.0894 - classification_loss: 0.6967 - val_loss: 0.1793 - val_mmse_loss: 0.1130 - val_classification_loss: 0.6624\n",
      "Epoch 103/1000\n",
      "2/2 - 0s - loss: 0.1573 - mmse_loss: 0.0874 - classification_loss: 0.6993 - val_loss: 0.1805 - val_mmse_loss: 0.1146 - val_classification_loss: 0.6594\n",
      "Epoch 104/1000\n",
      "2/2 - 0s - loss: 0.1431 - mmse_loss: 0.0745 - classification_loss: 0.6866 - val_loss: 0.1711 - val_mmse_loss: 0.1055 - val_classification_loss: 0.6553\n",
      "Epoch 105/1000\n",
      "2/2 - 0s - loss: 0.1345 - mmse_loss: 0.0668 - classification_loss: 0.6770 - val_loss: 0.1551 - val_mmse_loss: 0.0899 - val_classification_loss: 0.6513\n",
      "Epoch 106/1000\n",
      "2/2 - 0s - loss: 0.1405 - mmse_loss: 0.0722 - classification_loss: 0.6831 - val_loss: 0.1389 - val_mmse_loss: 0.0740 - val_classification_loss: 0.6488\n",
      "Epoch 107/1000\n",
      "2/2 - 0s - loss: 0.1644 - mmse_loss: 0.0970 - classification_loss: 0.6746 - val_loss: 0.1384 - val_mmse_loss: 0.0732 - val_classification_loss: 0.6517\n",
      "Epoch 108/1000\n",
      "2/2 - 0s - loss: 0.1489 - mmse_loss: 0.0827 - classification_loss: 0.6617 - val_loss: 0.1529 - val_mmse_loss: 0.0870 - val_classification_loss: 0.6588\n",
      "Epoch 109/1000\n",
      "2/2 - 0s - loss: 0.1372 - mmse_loss: 0.0691 - classification_loss: 0.6812 - val_loss: 0.1582 - val_mmse_loss: 0.0919 - val_classification_loss: 0.6627\n",
      "Epoch 110/1000\n",
      "2/2 - 0s - loss: 0.1464 - mmse_loss: 0.0791 - classification_loss: 0.6735 - val_loss: 0.1703 - val_mmse_loss: 0.1035 - val_classification_loss: 0.6671\n",
      "Epoch 111/1000\n",
      "2/2 - 0s - loss: 0.1420 - mmse_loss: 0.0716 - classification_loss: 0.7037 - val_loss: 0.1862 - val_mmse_loss: 0.1192 - val_classification_loss: 0.6701\n",
      "Epoch 112/1000\n",
      "2/2 - 0s - loss: 0.1282 - mmse_loss: 0.0593 - classification_loss: 0.6885 - val_loss: 0.1925 - val_mmse_loss: 0.1254 - val_classification_loss: 0.6703\n",
      "Epoch 113/1000\n",
      "2/2 - 0s - loss: 0.1401 - mmse_loss: 0.0709 - classification_loss: 0.6923 - val_loss: 0.1923 - val_mmse_loss: 0.1253 - val_classification_loss: 0.6706\n",
      "Epoch 114/1000\n",
      "2/2 - 0s - loss: 0.1225 - mmse_loss: 0.0558 - classification_loss: 0.6676 - val_loss: 0.1960 - val_mmse_loss: 0.1290 - val_classification_loss: 0.6704\n",
      "Epoch 115/1000\n",
      "2/2 - 0s - loss: 0.1362 - mmse_loss: 0.0709 - classification_loss: 0.6529 - val_loss: 0.1997 - val_mmse_loss: 0.1327 - val_classification_loss: 0.6705\n",
      "Epoch 116/1000\n",
      "2/2 - 0s - loss: 0.1344 - mmse_loss: 0.0648 - classification_loss: 0.6961 - val_loss: 0.1997 - val_mmse_loss: 0.1327 - val_classification_loss: 0.6698\n",
      "Epoch 117/1000\n",
      "2/2 - 0s - loss: 0.1239 - mmse_loss: 0.0574 - classification_loss: 0.6655 - val_loss: 0.2176 - val_mmse_loss: 0.1506 - val_classification_loss: 0.6704\n",
      "Epoch 118/1000\n",
      "2/2 - 0s - loss: 0.1510 - mmse_loss: 0.0840 - classification_loss: 0.6708 - val_loss: 0.2452 - val_mmse_loss: 0.1776 - val_classification_loss: 0.6755\n",
      "Epoch 119/1000\n",
      "2/2 - 0s - loss: 0.1375 - mmse_loss: 0.0756 - classification_loss: 0.6186 - val_loss: 0.2344 - val_mmse_loss: 0.1667 - val_classification_loss: 0.6773\n",
      "Epoch 120/1000\n",
      "2/2 - 0s - loss: 0.1426 - mmse_loss: 0.0758 - classification_loss: 0.6680 - val_loss: 0.2035 - val_mmse_loss: 0.1359 - val_classification_loss: 0.6762\n",
      "Epoch 121/1000\n",
      "2/2 - 0s - loss: 0.1381 - mmse_loss: 0.0693 - classification_loss: 0.6880 - val_loss: 0.1885 - val_mmse_loss: 0.1207 - val_classification_loss: 0.6784\n",
      "Epoch 122/1000\n",
      "2/2 - 0s - loss: 0.1504 - mmse_loss: 0.0790 - classification_loss: 0.7142 - val_loss: 0.1831 - val_mmse_loss: 0.1151 - val_classification_loss: 0.6799\n",
      "Epoch 123/1000\n",
      "2/2 - 0s - loss: 0.1567 - mmse_loss: 0.0907 - classification_loss: 0.6603 - val_loss: 0.2082 - val_mmse_loss: 0.1404 - val_classification_loss: 0.6780\n",
      "Epoch 124/1000\n",
      "2/2 - 0s - loss: 0.1314 - mmse_loss: 0.0635 - classification_loss: 0.6798 - val_loss: 0.2419 - val_mmse_loss: 0.1749 - val_classification_loss: 0.6702\n",
      "Epoch 125/1000\n",
      "2/2 - 0s - loss: 0.1578 - mmse_loss: 0.0862 - classification_loss: 0.7155 - val_loss: 0.2194 - val_mmse_loss: 0.1540 - val_classification_loss: 0.6538\n",
      "Epoch 126/1000\n",
      "2/2 - 0s - loss: 0.1341 - mmse_loss: 0.0637 - classification_loss: 0.7042 - val_loss: 0.1792 - val_mmse_loss: 0.1157 - val_classification_loss: 0.6353\n",
      "Epoch 127/1000\n",
      "2/2 - 0s - loss: 0.1419 - mmse_loss: 0.0718 - classification_loss: 0.7013 - val_loss: 0.1580 - val_mmse_loss: 0.0951 - val_classification_loss: 0.6291\n",
      "Epoch 128/1000\n",
      "2/2 - 0s - loss: 0.1646 - mmse_loss: 0.0956 - classification_loss: 0.6896 - val_loss: 0.1616 - val_mmse_loss: 0.0991 - val_classification_loss: 0.6250\n",
      "Epoch 129/1000\n",
      "2/2 - 0s - loss: 0.1293 - mmse_loss: 0.0616 - classification_loss: 0.6774 - val_loss: 0.1579 - val_mmse_loss: 0.0945 - val_classification_loss: 0.6337\n",
      "Epoch 130/1000\n",
      "2/2 - 0s - loss: 0.1457 - mmse_loss: 0.0814 - classification_loss: 0.6432 - val_loss: 0.1684 - val_mmse_loss: 0.1020 - val_classification_loss: 0.6644\n",
      "Epoch 131/1000\n",
      "2/2 - 0s - loss: 0.1308 - mmse_loss: 0.0653 - classification_loss: 0.6546 - val_loss: 0.1732 - val_mmse_loss: 0.1059 - val_classification_loss: 0.6732\n",
      "Epoch 132/1000\n",
      "2/2 - 0s - loss: 0.1225 - mmse_loss: 0.0557 - classification_loss: 0.6679 - val_loss: 0.1777 - val_mmse_loss: 0.1104 - val_classification_loss: 0.6732\n",
      "Epoch 133/1000\n",
      "2/2 - 0s - loss: 0.1167 - mmse_loss: 0.0544 - classification_loss: 0.6235 - val_loss: 0.1890 - val_mmse_loss: 0.1214 - val_classification_loss: 0.6754\n",
      "Epoch 134/1000\n",
      "2/2 - 0s - loss: 0.1238 - mmse_loss: 0.0553 - classification_loss: 0.6849 - val_loss: 0.2051 - val_mmse_loss: 0.1376 - val_classification_loss: 0.6743\n",
      "Epoch 135/1000\n",
      "2/2 - 0s - loss: 0.1274 - mmse_loss: 0.0579 - classification_loss: 0.6946 - val_loss: 0.2108 - val_mmse_loss: 0.1433 - val_classification_loss: 0.6747\n",
      "Epoch 136/1000\n",
      "2/2 - 0s - loss: 0.1317 - mmse_loss: 0.0667 - classification_loss: 0.6499 - val_loss: 0.1986 - val_mmse_loss: 0.1313 - val_classification_loss: 0.6729\n",
      "Epoch 137/1000\n",
      "2/2 - 0s - loss: 0.1316 - mmse_loss: 0.0594 - classification_loss: 0.7216 - val_loss: 0.1958 - val_mmse_loss: 0.1287 - val_classification_loss: 0.6716\n",
      "Epoch 138/1000\n",
      "2/2 - 0s - loss: 0.1189 - mmse_loss: 0.0557 - classification_loss: 0.6318 - val_loss: 0.1995 - val_mmse_loss: 0.1322 - val_classification_loss: 0.6739\n",
      "Epoch 139/1000\n",
      "2/2 - 0s - loss: 0.1094 - mmse_loss: 0.0439 - classification_loss: 0.6542 - val_loss: 0.1864 - val_mmse_loss: 0.1190 - val_classification_loss: 0.6740\n",
      "Epoch 140/1000\n",
      "2/2 - 0s - loss: 0.1250 - mmse_loss: 0.0585 - classification_loss: 0.6650 - val_loss: 0.1650 - val_mmse_loss: 0.0980 - val_classification_loss: 0.6709\n",
      "Epoch 141/1000\n",
      "2/2 - 0s - loss: 0.1158 - mmse_loss: 0.0455 - classification_loss: 0.7029 - val_loss: 0.1498 - val_mmse_loss: 0.0833 - val_classification_loss: 0.6648\n",
      "Epoch 142/1000\n",
      "2/2 - 0s - loss: 0.1424 - mmse_loss: 0.0778 - classification_loss: 0.6460 - val_loss: 0.1684 - val_mmse_loss: 0.1022 - val_classification_loss: 0.6619\n",
      "Epoch 143/1000\n",
      "2/2 - 0s - loss: 0.1351 - mmse_loss: 0.0679 - classification_loss: 0.6727 - val_loss: 0.2058 - val_mmse_loss: 0.1397 - val_classification_loss: 0.6619\n",
      "Epoch 144/1000\n",
      "2/2 - 0s - loss: 0.1338 - mmse_loss: 0.0695 - classification_loss: 0.6430 - val_loss: 0.2243 - val_mmse_loss: 0.1583 - val_classification_loss: 0.6608\n",
      "Epoch 145/1000\n",
      "2/2 - 0s - loss: 0.1356 - mmse_loss: 0.0691 - classification_loss: 0.6646 - val_loss: 0.2292 - val_mmse_loss: 0.1632 - val_classification_loss: 0.6596\n",
      "Epoch 146/1000\n",
      "2/2 - 0s - loss: 0.1286 - mmse_loss: 0.0630 - classification_loss: 0.6552 - val_loss: 0.2116 - val_mmse_loss: 0.1464 - val_classification_loss: 0.6522\n",
      "Epoch 147/1000\n",
      "2/2 - 0s - loss: 0.1258 - mmse_loss: 0.0623 - classification_loss: 0.6348 - val_loss: 0.1913 - val_mmse_loss: 0.1269 - val_classification_loss: 0.6445\n",
      "Epoch 148/1000\n",
      "2/2 - 0s - loss: 0.1515 - mmse_loss: 0.0865 - classification_loss: 0.6495 - val_loss: 0.1857 - val_mmse_loss: 0.1214 - val_classification_loss: 0.6432\n",
      "Epoch 149/1000\n",
      "2/2 - 0s - loss: 0.1205 - mmse_loss: 0.0543 - classification_loss: 0.6623 - val_loss: 0.1931 - val_mmse_loss: 0.1285 - val_classification_loss: 0.6454\n",
      "Epoch 150/1000\n",
      "2/2 - 0s - loss: 0.1139 - mmse_loss: 0.0496 - classification_loss: 0.6423 - val_loss: 0.2016 - val_mmse_loss: 0.1370 - val_classification_loss: 0.6464\n"
     ]
    },
    {
     "name": "stdout",
     "output_type": "stream",
     "text": [
      "Epoch 151/1000\n",
      "2/2 - 0s - loss: 0.1149 - mmse_loss: 0.0503 - classification_loss: 0.6457 - val_loss: 0.1958 - val_mmse_loss: 0.1314 - val_classification_loss: 0.6448\n",
      "Epoch 152/1000\n",
      "2/2 - 0s - loss: 0.1151 - mmse_loss: 0.0509 - classification_loss: 0.6426 - val_loss: 0.1758 - val_mmse_loss: 0.1116 - val_classification_loss: 0.6421\n",
      "Epoch 153/1000\n",
      "2/2 - 0s - loss: 0.1274 - mmse_loss: 0.0623 - classification_loss: 0.6509 - val_loss: 0.1712 - val_mmse_loss: 0.1071 - val_classification_loss: 0.6406\n",
      "Epoch 154/1000\n",
      "2/2 - 0s - loss: 0.1713 - mmse_loss: 0.1052 - classification_loss: 0.6609 - val_loss: 0.1911 - val_mmse_loss: 0.1267 - val_classification_loss: 0.6444\n",
      "Epoch 155/1000\n",
      "2/2 - 0s - loss: 0.1134 - mmse_loss: 0.0466 - classification_loss: 0.6677 - val_loss: 0.1930 - val_mmse_loss: 0.1286 - val_classification_loss: 0.6434\n",
      "Epoch 156/1000\n",
      "2/2 - 0s - loss: 0.1241 - mmse_loss: 0.0556 - classification_loss: 0.6852 - val_loss: 0.1852 - val_mmse_loss: 0.1213 - val_classification_loss: 0.6394\n",
      "Epoch 157/1000\n",
      "2/2 - 0s - loss: 0.1174 - mmse_loss: 0.0559 - classification_loss: 0.6152 - val_loss: 0.1882 - val_mmse_loss: 0.1243 - val_classification_loss: 0.6392\n",
      "Epoch 158/1000\n",
      "2/2 - 0s - loss: 0.1150 - mmse_loss: 0.0504 - classification_loss: 0.6457 - val_loss: 0.2076 - val_mmse_loss: 0.1433 - val_classification_loss: 0.6433\n",
      "Epoch 159/1000\n",
      "2/2 - 0s - loss: 0.1221 - mmse_loss: 0.0586 - classification_loss: 0.6355 - val_loss: 0.2133 - val_mmse_loss: 0.1489 - val_classification_loss: 0.6448\n",
      "Epoch 160/1000\n",
      "2/2 - 0s - loss: 0.1333 - mmse_loss: 0.0705 - classification_loss: 0.6282 - val_loss: 0.2045 - val_mmse_loss: 0.1400 - val_classification_loss: 0.6454\n",
      "Epoch 161/1000\n",
      "2/2 - 0s - loss: 0.1161 - mmse_loss: 0.0548 - classification_loss: 0.6130 - val_loss: 0.1906 - val_mmse_loss: 0.1260 - val_classification_loss: 0.6463\n",
      "Epoch 162/1000\n",
      "2/2 - 0s - loss: 0.1114 - mmse_loss: 0.0499 - classification_loss: 0.6147 - val_loss: 0.1663 - val_mmse_loss: 0.1020 - val_classification_loss: 0.6431\n",
      "Epoch 163/1000\n",
      "2/2 - 0s - loss: 0.1487 - mmse_loss: 0.0863 - classification_loss: 0.6240 - val_loss: 0.1759 - val_mmse_loss: 0.1107 - val_classification_loss: 0.6518\n",
      "Epoch 164/1000\n",
      "2/2 - 0s - loss: 0.1094 - mmse_loss: 0.0469 - classification_loss: 0.6249 - val_loss: 0.2061 - val_mmse_loss: 0.1400 - val_classification_loss: 0.6609\n",
      "Epoch 165/1000\n",
      "2/2 - 0s - loss: 0.1074 - mmse_loss: 0.0432 - classification_loss: 0.6421 - val_loss: 0.2310 - val_mmse_loss: 0.1644 - val_classification_loss: 0.6658\n",
      "Epoch 166/1000\n",
      "2/2 - 0s - loss: 0.1153 - mmse_loss: 0.0521 - classification_loss: 0.6322 - val_loss: 0.2338 - val_mmse_loss: 0.1673 - val_classification_loss: 0.6655\n",
      "Epoch 167/1000\n",
      "2/2 - 0s - loss: 0.1164 - mmse_loss: 0.0522 - classification_loss: 0.6423 - val_loss: 0.2204 - val_mmse_loss: 0.1543 - val_classification_loss: 0.6611\n",
      "Epoch 168/1000\n",
      "2/2 - 0s - loss: 0.1174 - mmse_loss: 0.0512 - classification_loss: 0.6623 - val_loss: 0.2079 - val_mmse_loss: 0.1424 - val_classification_loss: 0.6549\n",
      "Epoch 169/1000\n",
      "2/2 - 0s - loss: 0.1120 - mmse_loss: 0.0469 - classification_loss: 0.6510 - val_loss: 0.1934 - val_mmse_loss: 0.1287 - val_classification_loss: 0.6476\n",
      "Epoch 170/1000\n",
      "2/2 - 0s - loss: 0.1219 - mmse_loss: 0.0594 - classification_loss: 0.6240 - val_loss: 0.1913 - val_mmse_loss: 0.1270 - val_classification_loss: 0.6432\n",
      "Epoch 171/1000\n",
      "2/2 - 0s - loss: 0.1116 - mmse_loss: 0.0486 - classification_loss: 0.6295 - val_loss: 0.2021 - val_mmse_loss: 0.1376 - val_classification_loss: 0.6450\n",
      "Epoch 172/1000\n",
      "2/2 - 0s - loss: 0.6674 - mmse_loss: 0.5941 - classification_loss: 0.7336 - val_loss: 0.2055 - val_mmse_loss: 0.1407 - val_classification_loss: 0.6480\n",
      "Epoch 173/1000\n",
      "2/2 - 0s - loss: 0.1150 - mmse_loss: 0.0549 - classification_loss: 0.6014 - val_loss: 0.2072 - val_mmse_loss: 0.1422 - val_classification_loss: 0.6502\n",
      "Epoch 174/1000\n",
      "2/2 - 0s - loss: 0.1285 - mmse_loss: 0.0626 - classification_loss: 0.6597 - val_loss: 0.2071 - val_mmse_loss: 0.1418 - val_classification_loss: 0.6530\n",
      "Epoch 175/1000\n",
      "2/2 - 0s - loss: 0.1196 - mmse_loss: 0.0560 - classification_loss: 0.6364 - val_loss: 0.2037 - val_mmse_loss: 0.1382 - val_classification_loss: 0.6542\n",
      "Epoch 176/1000\n",
      "2/2 - 0s - loss: 0.1132 - mmse_loss: 0.0508 - classification_loss: 0.6241 - val_loss: 0.1999 - val_mmse_loss: 0.1343 - val_classification_loss: 0.6562\n",
      "Epoch 177/1000\n",
      "2/2 - 0s - loss: 0.1359 - mmse_loss: 0.0751 - classification_loss: 0.6083 - val_loss: 0.1885 - val_mmse_loss: 0.1228 - val_classification_loss: 0.6565\n",
      "Epoch 178/1000\n",
      "2/2 - 0s - loss: 0.1084 - mmse_loss: 0.0456 - classification_loss: 0.6280 - val_loss: 0.1773 - val_mmse_loss: 0.1117 - val_classification_loss: 0.6563\n",
      "Epoch 179/1000\n",
      "2/2 - 0s - loss: 0.1249 - mmse_loss: 0.0620 - classification_loss: 0.6286 - val_loss: 0.1728 - val_mmse_loss: 0.1072 - val_classification_loss: 0.6562\n",
      "Epoch 180/1000\n",
      "2/2 - 0s - loss: 0.1238 - mmse_loss: 0.0621 - classification_loss: 0.6174 - val_loss: 0.1819 - val_mmse_loss: 0.1162 - val_classification_loss: 0.6573\n",
      "Epoch 181/1000\n",
      "2/2 - 0s - loss: 0.1067 - mmse_loss: 0.0419 - classification_loss: 0.6486 - val_loss: 0.1983 - val_mmse_loss: 0.1322 - val_classification_loss: 0.6606\n",
      "Epoch 182/1000\n",
      "2/2 - 0s - loss: 0.1225 - mmse_loss: 0.0597 - classification_loss: 0.6280 - val_loss: 0.2056 - val_mmse_loss: 0.1394 - val_classification_loss: 0.6619\n",
      "Epoch 183/1000\n",
      "2/2 - 0s - loss: 0.1786 - mmse_loss: 0.1184 - classification_loss: 0.6025 - val_loss: 0.1977 - val_mmse_loss: 0.1317 - val_classification_loss: 0.6604\n",
      "Epoch 184/1000\n",
      "2/2 - 0s - loss: 0.1191 - mmse_loss: 0.0533 - classification_loss: 0.6583 - val_loss: 0.1939 - val_mmse_loss: 0.1279 - val_classification_loss: 0.6592\n",
      "Epoch 185/1000\n",
      "2/2 - 0s - loss: 0.1039 - mmse_loss: 0.0388 - classification_loss: 0.6505 - val_loss: 0.1896 - val_mmse_loss: 0.1240 - val_classification_loss: 0.6566\n",
      "Epoch 186/1000\n",
      "2/2 - 0s - loss: 0.1186 - mmse_loss: 0.0571 - classification_loss: 0.6147 - val_loss: 0.1752 - val_mmse_loss: 0.1100 - val_classification_loss: 0.6527\n",
      "Epoch 187/1000\n",
      "2/2 - 0s - loss: 0.1099 - mmse_loss: 0.0483 - classification_loss: 0.6161 - val_loss: 0.1662 - val_mmse_loss: 0.1012 - val_classification_loss: 0.6499\n",
      "Epoch 188/1000\n",
      "2/2 - 0s - loss: 0.1143 - mmse_loss: 0.0459 - classification_loss: 0.6842 - val_loss: 0.1709 - val_mmse_loss: 0.1059 - val_classification_loss: 0.6503\n",
      "Epoch 189/1000\n",
      "2/2 - 0s - loss: 0.1192 - mmse_loss: 0.0593 - classification_loss: 0.5992 - val_loss: 0.1842 - val_mmse_loss: 0.1190 - val_classification_loss: 0.6519\n",
      "Epoch 190/1000\n",
      "2/2 - 0s - loss: 0.1225 - mmse_loss: 0.0573 - classification_loss: 0.6522 - val_loss: 0.1914 - val_mmse_loss: 0.1262 - val_classification_loss: 0.6515\n",
      "Epoch 191/1000\n",
      "2/2 - 0s - loss: 0.1042 - mmse_loss: 0.0423 - classification_loss: 0.6188 - val_loss: 0.1899 - val_mmse_loss: 0.1250 - val_classification_loss: 0.6492\n",
      "Epoch 192/1000\n",
      "2/2 - 0s - loss: 0.1424 - mmse_loss: 0.0807 - classification_loss: 0.6168 - val_loss: 0.1834 - val_mmse_loss: 0.1190 - val_classification_loss: 0.6446\n",
      "Epoch 193/1000\n",
      "2/2 - 0s - loss: 0.1164 - mmse_loss: 0.0556 - classification_loss: 0.6078 - val_loss: 0.1809 - val_mmse_loss: 0.1167 - val_classification_loss: 0.6412\n",
      "Epoch 194/1000\n",
      "2/2 - 0s - loss: 0.1050 - mmse_loss: 0.0435 - classification_loss: 0.6158 - val_loss: 0.1895 - val_mmse_loss: 0.1255 - val_classification_loss: 0.6409\n",
      "Epoch 195/1000\n",
      "2/2 - 0s - loss: 0.1161 - mmse_loss: 0.0556 - classification_loss: 0.6049 - val_loss: 0.1819 - val_mmse_loss: 0.1181 - val_classification_loss: 0.6383\n",
      "Epoch 196/1000\n",
      "2/2 - 0s - loss: 0.1062 - mmse_loss: 0.0446 - classification_loss: 0.6155 - val_loss: 0.1740 - val_mmse_loss: 0.1099 - val_classification_loss: 0.6413\n",
      "Epoch 197/1000\n",
      "2/2 - 0s - loss: 0.1128 - mmse_loss: 0.0507 - classification_loss: 0.6207 - val_loss: 0.1674 - val_mmse_loss: 0.1030 - val_classification_loss: 0.6435\n",
      "Epoch 198/1000\n",
      "2/2 - 0s - loss: 0.1122 - mmse_loss: 0.0494 - classification_loss: 0.6275 - val_loss: 0.1688 - val_mmse_loss: 0.1045 - val_classification_loss: 0.6427\n",
      "Epoch 199/1000\n",
      "2/2 - 0s - loss: 0.1025 - mmse_loss: 0.0401 - classification_loss: 0.6237 - val_loss: 0.1672 - val_mmse_loss: 0.1036 - val_classification_loss: 0.6366\n",
      "Epoch 200/1000\n",
      "2/2 - 0s - loss: 0.1121 - mmse_loss: 0.0529 - classification_loss: 0.5920 - val_loss: 0.1627 - val_mmse_loss: 0.0996 - val_classification_loss: 0.6311\n"
     ]
    },
    {
     "name": "stdout",
     "output_type": "stream",
     "text": [
      "Epoch 201/1000\n",
      "2/2 - 0s - loss: 0.1102 - mmse_loss: 0.0448 - classification_loss: 0.6538 - val_loss: 0.1555 - val_mmse_loss: 0.0928 - val_classification_loss: 0.6275\n",
      "Epoch 202/1000\n",
      "2/2 - 0s - loss: 0.1084 - mmse_loss: 0.0479 - classification_loss: 0.6048 - val_loss: 0.1538 - val_mmse_loss: 0.0913 - val_classification_loss: 0.6250\n",
      "Epoch 203/1000\n",
      "2/2 - 0s - loss: 0.1132 - mmse_loss: 0.0515 - classification_loss: 0.6172 - val_loss: 0.1680 - val_mmse_loss: 0.1055 - val_classification_loss: 0.6257\n",
      "Epoch 204/1000\n",
      "2/2 - 0s - loss: 0.1267 - mmse_loss: 0.0660 - classification_loss: 0.6074 - val_loss: 0.1998 - val_mmse_loss: 0.1365 - val_classification_loss: 0.6330\n",
      "Epoch 205/1000\n",
      "2/2 - 0s - loss: 0.1223 - mmse_loss: 0.0589 - classification_loss: 0.6339 - val_loss: 0.2238 - val_mmse_loss: 0.1597 - val_classification_loss: 0.6410\n",
      "Epoch 206/1000\n",
      "2/2 - 0s - loss: 0.1069 - mmse_loss: 0.0434 - classification_loss: 0.6348 - val_loss: 0.2194 - val_mmse_loss: 0.1554 - val_classification_loss: 0.6399\n",
      "Epoch 207/1000\n",
      "2/2 - 0s - loss: 0.1145 - mmse_loss: 0.0528 - classification_loss: 0.6163 - val_loss: 0.1955 - val_mmse_loss: 0.1322 - val_classification_loss: 0.6329\n",
      "Epoch 208/1000\n",
      "2/2 - 0s - loss: 0.1172 - mmse_loss: 0.0570 - classification_loss: 0.6020 - val_loss: 0.1740 - val_mmse_loss: 0.1114 - val_classification_loss: 0.6263\n",
      "Epoch 209/1000\n",
      "2/2 - 0s - loss: 0.1209 - mmse_loss: 0.0572 - classification_loss: 0.6370 - val_loss: 0.1853 - val_mmse_loss: 0.1227 - val_classification_loss: 0.6269\n",
      "Epoch 210/1000\n",
      "2/2 - 0s - loss: 0.1113 - mmse_loss: 0.0533 - classification_loss: 0.5796 - val_loss: 0.2144 - val_mmse_loss: 0.1507 - val_classification_loss: 0.6365\n",
      "Epoch 211/1000\n",
      "2/2 - 0s - loss: 0.1162 - mmse_loss: 0.0547 - classification_loss: 0.6153 - val_loss: 0.2092 - val_mmse_loss: 0.1452 - val_classification_loss: 0.6392\n",
      "Epoch 212/1000\n",
      "2/2 - 0s - loss: 0.1127 - mmse_loss: 0.0528 - classification_loss: 0.5985 - val_loss: 0.1953 - val_mmse_loss: 0.1312 - val_classification_loss: 0.6405\n",
      "Epoch 213/1000\n",
      "2/2 - 0s - loss: 0.1165 - mmse_loss: 0.0558 - classification_loss: 0.6070 - val_loss: 0.1743 - val_mmse_loss: 0.1105 - val_classification_loss: 0.6380\n",
      "Epoch 214/1000\n",
      "2/2 - 0s - loss: 0.1106 - mmse_loss: 0.0486 - classification_loss: 0.6206 - val_loss: 0.1587 - val_mmse_loss: 0.0952 - val_classification_loss: 0.6351\n",
      "Epoch 215/1000\n",
      "2/2 - 0s - loss: 0.1060 - mmse_loss: 0.0465 - classification_loss: 0.5944 - val_loss: 0.1741 - val_mmse_loss: 0.1106 - val_classification_loss: 0.6354\n",
      "Epoch 216/1000\n",
      "2/2 - 0s - loss: 0.1054 - mmse_loss: 0.0450 - classification_loss: 0.6043 - val_loss: 0.2015 - val_mmse_loss: 0.1375 - val_classification_loss: 0.6396\n",
      "Epoch 217/1000\n",
      "2/2 - 0s - loss: 0.1037 - mmse_loss: 0.0425 - classification_loss: 0.6123 - val_loss: 0.2172 - val_mmse_loss: 0.1529 - val_classification_loss: 0.6432\n",
      "Epoch 218/1000\n",
      "2/2 - 0s - loss: 0.1048 - mmse_loss: 0.0432 - classification_loss: 0.6160 - val_loss: 0.2161 - val_mmse_loss: 0.1520 - val_classification_loss: 0.6410\n",
      "Epoch 219/1000\n",
      "2/2 - 0s - loss: 0.0975 - mmse_loss: 0.0379 - classification_loss: 0.5954 - val_loss: 0.2065 - val_mmse_loss: 0.1429 - val_classification_loss: 0.6365\n",
      "Epoch 220/1000\n",
      "2/2 - 0s - loss: 0.0973 - mmse_loss: 0.0348 - classification_loss: 0.6248 - val_loss: 0.1975 - val_mmse_loss: 0.1341 - val_classification_loss: 0.6335\n",
      "Epoch 221/1000\n",
      "2/2 - 0s - loss: 0.1037 - mmse_loss: 0.0458 - classification_loss: 0.5790 - val_loss: 0.1888 - val_mmse_loss: 0.1257 - val_classification_loss: 0.6313\n",
      "Epoch 222/1000\n",
      "2/2 - 0s - loss: 0.1055 - mmse_loss: 0.0465 - classification_loss: 0.5902 - val_loss: 0.1845 - val_mmse_loss: 0.1213 - val_classification_loss: 0.6315\n",
      "Epoch 223/1000\n",
      "2/2 - 0s - loss: 0.1034 - mmse_loss: 0.0386 - classification_loss: 0.6477 - val_loss: 0.1839 - val_mmse_loss: 0.1205 - val_classification_loss: 0.6337\n",
      "Epoch 224/1000\n",
      "2/2 - 0s - loss: 0.1059 - mmse_loss: 0.0463 - classification_loss: 0.5966 - val_loss: 0.1780 - val_mmse_loss: 0.1148 - val_classification_loss: 0.6319\n",
      "Epoch 225/1000\n",
      "2/2 - 0s - loss: 0.1043 - mmse_loss: 0.0450 - classification_loss: 0.5926 - val_loss: 0.1768 - val_mmse_loss: 0.1139 - val_classification_loss: 0.6291\n",
      "Epoch 226/1000\n",
      "2/2 - 0s - loss: 0.1128 - mmse_loss: 0.0546 - classification_loss: 0.5814 - val_loss: 0.1930 - val_mmse_loss: 0.1295 - val_classification_loss: 0.6358\n",
      "Epoch 227/1000\n",
      "2/2 - 0s - loss: 0.1116 - mmse_loss: 0.0514 - classification_loss: 0.6026 - val_loss: 0.2171 - val_mmse_loss: 0.1525 - val_classification_loss: 0.6464\n",
      "Epoch 228/1000\n",
      "2/2 - 0s - loss: 0.1061 - mmse_loss: 0.0451 - classification_loss: 0.6100 - val_loss: 0.2199 - val_mmse_loss: 0.1551 - val_classification_loss: 0.6480\n",
      "Epoch 229/1000\n",
      "2/2 - 0s - loss: 0.0942 - mmse_loss: 0.0344 - classification_loss: 0.5980 - val_loss: 0.2068 - val_mmse_loss: 0.1422 - val_classification_loss: 0.6460\n",
      "Epoch 230/1000\n",
      "2/2 - 0s - loss: 0.1049 - mmse_loss: 0.0453 - classification_loss: 0.5961 - val_loss: 0.1926 - val_mmse_loss: 0.1281 - val_classification_loss: 0.6449\n",
      "Epoch 231/1000\n",
      "2/2 - 0s - loss: 0.1113 - mmse_loss: 0.0503 - classification_loss: 0.6107 - val_loss: 0.1992 - val_mmse_loss: 0.1344 - val_classification_loss: 0.6478\n",
      "Epoch 232/1000\n",
      "2/2 - 0s - loss: 0.1014 - mmse_loss: 0.0449 - classification_loss: 0.5645 - val_loss: 0.2077 - val_mmse_loss: 0.1427 - val_classification_loss: 0.6497\n",
      "Epoch 233/1000\n",
      "2/2 - 0s - loss: 0.1078 - mmse_loss: 0.0459 - classification_loss: 0.6186 - val_loss: 0.2074 - val_mmse_loss: 0.1426 - val_classification_loss: 0.6481\n",
      "Epoch 234/1000\n",
      "2/2 - 0s - loss: 0.0973 - mmse_loss: 0.0401 - classification_loss: 0.5725 - val_loss: 0.2219 - val_mmse_loss: 0.1569 - val_classification_loss: 0.6507\n",
      "Epoch 235/1000\n",
      "2/2 - 0s - loss: 0.0995 - mmse_loss: 0.0415 - classification_loss: 0.5799 - val_loss: 0.2228 - val_mmse_loss: 0.1576 - val_classification_loss: 0.6518\n",
      "Epoch 236/1000\n",
      "2/2 - 0s - loss: 0.1016 - mmse_loss: 0.0443 - classification_loss: 0.5723 - val_loss: 0.2080 - val_mmse_loss: 0.1429 - val_classification_loss: 0.6509\n",
      "Epoch 237/1000\n",
      "2/2 - 0s - loss: 0.0983 - mmse_loss: 0.0404 - classification_loss: 0.5792 - val_loss: 0.1965 - val_mmse_loss: 0.1314 - val_classification_loss: 0.6509\n",
      "Epoch 238/1000\n",
      "2/2 - 0s - loss: 0.1105 - mmse_loss: 0.0526 - classification_loss: 0.5793 - val_loss: 0.1851 - val_mmse_loss: 0.1202 - val_classification_loss: 0.6487\n",
      "Epoch 239/1000\n",
      "2/2 - 0s - loss: 0.1072 - mmse_loss: 0.0473 - classification_loss: 0.5985 - val_loss: 0.1809 - val_mmse_loss: 0.1162 - val_classification_loss: 0.6475\n",
      "Epoch 240/1000\n",
      "2/2 - 0s - loss: 0.1056 - mmse_loss: 0.0450 - classification_loss: 0.6059 - val_loss: 0.2011 - val_mmse_loss: 0.1356 - val_classification_loss: 0.6551\n",
      "Epoch 241/1000\n",
      "2/2 - 0s - loss: 0.0962 - mmse_loss: 0.0391 - classification_loss: 0.5713 - val_loss: 0.2166 - val_mmse_loss: 0.1507 - val_classification_loss: 0.6590\n",
      "Epoch 242/1000\n",
      "2/2 - 0s - loss: 0.0979 - mmse_loss: 0.0419 - classification_loss: 0.5599 - val_loss: 0.2041 - val_mmse_loss: 0.1388 - val_classification_loss: 0.6532\n",
      "Epoch 243/1000\n",
      "2/2 - 0s - loss: 0.0982 - mmse_loss: 0.0418 - classification_loss: 0.5643 - val_loss: 0.2058 - val_mmse_loss: 0.1404 - val_classification_loss: 0.6537\n",
      "Epoch 244/1000\n",
      "2/2 - 0s - loss: 0.0923 - mmse_loss: 0.0336 - classification_loss: 0.5869 - val_loss: 0.1973 - val_mmse_loss: 0.1321 - val_classification_loss: 0.6519\n",
      "Epoch 245/1000\n",
      "2/2 - 0s - loss: 0.1240 - mmse_loss: 0.0678 - classification_loss: 0.5628 - val_loss: 0.1880 - val_mmse_loss: 0.1223 - val_classification_loss: 0.6569\n",
      "Epoch 246/1000\n",
      "2/2 - 0s - loss: 0.0908 - mmse_loss: 0.0320 - classification_loss: 0.5888 - val_loss: 0.1736 - val_mmse_loss: 0.1081 - val_classification_loss: 0.6554\n",
      "Epoch 247/1000\n",
      "2/2 - 0s - loss: 0.1032 - mmse_loss: 0.0434 - classification_loss: 0.5982 - val_loss: 0.1883 - val_mmse_loss: 0.1226 - val_classification_loss: 0.6580\n",
      "Epoch 248/1000\n",
      "2/2 - 0s - loss: 0.1075 - mmse_loss: 0.0460 - classification_loss: 0.6156 - val_loss: 0.2148 - val_mmse_loss: 0.1484 - val_classification_loss: 0.6634\n",
      "Epoch 249/1000\n",
      "2/2 - 0s - loss: 0.1028 - mmse_loss: 0.0429 - classification_loss: 0.5995 - val_loss: 0.2177 - val_mmse_loss: 0.1515 - val_classification_loss: 0.6623\n",
      "Epoch 250/1000\n",
      "2/2 - 0s - loss: 0.1002 - mmse_loss: 0.0417 - classification_loss: 0.5848 - val_loss: 0.2027 - val_mmse_loss: 0.1366 - val_classification_loss: 0.6602\n"
     ]
    },
    {
     "name": "stdout",
     "output_type": "stream",
     "text": [
      "Epoch 251/1000\n",
      "2/2 - 0s - loss: 0.0818 - mmse_loss: 0.0279 - classification_loss: 0.5391 - val_loss: 0.1903 - val_mmse_loss: 0.1242 - val_classification_loss: 0.6611\n",
      "Epoch 252/1000\n",
      "2/2 - 0s - loss: 0.0960 - mmse_loss: 0.0406 - classification_loss: 0.5543 - val_loss: 0.2005 - val_mmse_loss: 0.1339 - val_classification_loss: 0.6661\n",
      "Epoch 253/1000\n",
      "2/2 - 0s - loss: 0.0914 - mmse_loss: 0.0344 - classification_loss: 0.5704 - val_loss: 0.2256 - val_mmse_loss: 0.1584 - val_classification_loss: 0.6725\n",
      "Epoch 254/1000\n",
      "2/2 - 0s - loss: 0.0990 - mmse_loss: 0.0440 - classification_loss: 0.5496 - val_loss: 0.2427 - val_mmse_loss: 0.1747 - val_classification_loss: 0.6803\n",
      "Epoch 255/1000\n",
      "2/2 - 0s - loss: 0.0978 - mmse_loss: 0.0426 - classification_loss: 0.5517 - val_loss: 0.2270 - val_mmse_loss: 0.1589 - val_classification_loss: 0.6808\n",
      "Epoch 256/1000\n",
      "2/2 - 0s - loss: 0.0952 - mmse_loss: 0.0416 - classification_loss: 0.5362 - val_loss: 0.1960 - val_mmse_loss: 0.1292 - val_classification_loss: 0.6675\n",
      "Epoch 257/1000\n",
      "2/2 - 0s - loss: 0.1125 - mmse_loss: 0.0592 - classification_loss: 0.5333 - val_loss: 0.1809 - val_mmse_loss: 0.1151 - val_classification_loss: 0.6579\n",
      "Epoch 258/1000\n",
      "2/2 - 0s - loss: 0.1123 - mmse_loss: 0.0510 - classification_loss: 0.6135 - val_loss: 0.1978 - val_mmse_loss: 0.1319 - val_classification_loss: 0.6594\n",
      "Epoch 259/1000\n",
      "2/2 - 0s - loss: 0.1021 - mmse_loss: 0.0438 - classification_loss: 0.5832 - val_loss: 0.2146 - val_mmse_loss: 0.1483 - val_classification_loss: 0.6631\n",
      "Epoch 260/1000\n",
      "2/2 - 0s - loss: 0.0889 - mmse_loss: 0.0366 - classification_loss: 0.5231 - val_loss: 0.2214 - val_mmse_loss: 0.1548 - val_classification_loss: 0.6661\n",
      "Epoch 261/1000\n",
      "2/2 - 0s - loss: 0.1100 - mmse_loss: 0.0539 - classification_loss: 0.5605 - val_loss: 0.2189 - val_mmse_loss: 0.1530 - val_classification_loss: 0.6592\n",
      "Epoch 262/1000\n",
      "2/2 - 0s - loss: 0.1445 - mmse_loss: 0.0895 - classification_loss: 0.5506 - val_loss: 0.2007 - val_mmse_loss: 0.1355 - val_classification_loss: 0.6517\n",
      "Epoch 263/1000\n",
      "2/2 - 0s - loss: 0.1059 - mmse_loss: 0.0486 - classification_loss: 0.5730 - val_loss: 0.1711 - val_mmse_loss: 0.1051 - val_classification_loss: 0.6604\n",
      "Epoch 264/1000\n",
      "2/2 - 0s - loss: 0.0938 - mmse_loss: 0.0382 - classification_loss: 0.5563 - val_loss: 0.1641 - val_mmse_loss: 0.0980 - val_classification_loss: 0.6607\n",
      "Epoch 265/1000\n",
      "2/2 - 0s - loss: 0.0934 - mmse_loss: 0.0382 - classification_loss: 0.5515 - val_loss: 0.1817 - val_mmse_loss: 0.1168 - val_classification_loss: 0.6492\n",
      "Epoch 266/1000\n",
      "2/2 - 0s - loss: 0.0923 - mmse_loss: 0.0427 - classification_loss: 0.4960 - val_loss: 0.2042 - val_mmse_loss: 0.1396 - val_classification_loss: 0.6459\n",
      "Epoch 267/1000\n",
      "2/2 - 0s - loss: 0.0971 - mmse_loss: 0.0435 - classification_loss: 0.5353 - val_loss: 0.2113 - val_mmse_loss: 0.1466 - val_classification_loss: 0.6467\n",
      "Epoch 268/1000\n",
      "2/2 - 0s - loss: 0.1071 - mmse_loss: 0.0499 - classification_loss: 0.5724 - val_loss: 0.1984 - val_mmse_loss: 0.1341 - val_classification_loss: 0.6433\n",
      "Epoch 269/1000\n",
      "2/2 - 0s - loss: 0.0917 - mmse_loss: 0.0360 - classification_loss: 0.5563 - val_loss: 0.1729 - val_mmse_loss: 0.1091 - val_classification_loss: 0.6384\n",
      "Epoch 270/1000\n",
      "2/2 - 0s - loss: 0.1038 - mmse_loss: 0.0521 - classification_loss: 0.5170 - val_loss: 0.1750 - val_mmse_loss: 0.1116 - val_classification_loss: 0.6340\n",
      "Epoch 271/1000\n",
      "2/2 - 0s - loss: 0.1066 - mmse_loss: 0.0511 - classification_loss: 0.5557 - val_loss: 0.1984 - val_mmse_loss: 0.1354 - val_classification_loss: 0.6301\n",
      "Epoch 272/1000\n",
      "2/2 - 0s - loss: 0.0992 - mmse_loss: 0.0455 - classification_loss: 0.5367 - val_loss: 0.2102 - val_mmse_loss: 0.1478 - val_classification_loss: 0.6248\n",
      "Epoch 273/1000\n",
      "2/2 - 0s - loss: 0.0910 - mmse_loss: 0.0391 - classification_loss: 0.5195 - val_loss: 0.2079 - val_mmse_loss: 0.1462 - val_classification_loss: 0.6172\n",
      "Epoch 274/1000\n",
      "2/2 - 0s - loss: 0.0897 - mmse_loss: 0.0350 - classification_loss: 0.5470 - val_loss: 0.2010 - val_mmse_loss: 0.1399 - val_classification_loss: 0.6107\n",
      "Epoch 275/1000\n",
      "2/2 - 0s - loss: 0.0803 - mmse_loss: 0.0310 - classification_loss: 0.4936 - val_loss: 0.2017 - val_mmse_loss: 0.1411 - val_classification_loss: 0.6057\n",
      "Epoch 276/1000\n",
      "2/2 - 0s - loss: 0.0912 - mmse_loss: 0.0410 - classification_loss: 0.5019 - val_loss: 0.2024 - val_mmse_loss: 0.1409 - val_classification_loss: 0.6158\n",
      "Epoch 277/1000\n",
      "2/2 - 0s - loss: 0.0953 - mmse_loss: 0.0442 - classification_loss: 0.5114 - val_loss: 0.1991 - val_mmse_loss: 0.1368 - val_classification_loss: 0.6227\n",
      "Epoch 278/1000\n",
      "2/2 - 0s - loss: 0.0838 - mmse_loss: 0.0325 - classification_loss: 0.5131 - val_loss: 0.1990 - val_mmse_loss: 0.1359 - val_classification_loss: 0.6305\n",
      "Epoch 279/1000\n",
      "2/2 - 0s - loss: 0.0882 - mmse_loss: 0.0334 - classification_loss: 0.5477 - val_loss: 0.2114 - val_mmse_loss: 0.1483 - val_classification_loss: 0.6310\n",
      "Epoch 280/1000\n",
      "2/2 - 0s - loss: 0.0903 - mmse_loss: 0.0344 - classification_loss: 0.5593 - val_loss: 0.2294 - val_mmse_loss: 0.1662 - val_classification_loss: 0.6328\n",
      "Epoch 281/1000\n",
      "2/2 - 0s - loss: 0.0971 - mmse_loss: 0.0447 - classification_loss: 0.5243 - val_loss: 0.2362 - val_mmse_loss: 0.1722 - val_classification_loss: 0.6406\n",
      "Epoch 282/1000\n",
      "2/2 - 0s - loss: 0.0916 - mmse_loss: 0.0388 - classification_loss: 0.5277 - val_loss: 0.2247 - val_mmse_loss: 0.1605 - val_classification_loss: 0.6426\n",
      "Epoch 283/1000\n",
      "2/2 - 0s - loss: 0.0829 - mmse_loss: 0.0305 - classification_loss: 0.5243 - val_loss: 0.1980 - val_mmse_loss: 0.1343 - val_classification_loss: 0.6373\n",
      "Epoch 284/1000\n",
      "2/2 - 0s - loss: 0.0861 - mmse_loss: 0.0351 - classification_loss: 0.5096 - val_loss: 0.1787 - val_mmse_loss: 0.1153 - val_classification_loss: 0.6345\n",
      "Epoch 285/1000\n",
      "2/2 - 0s - loss: 0.0901 - mmse_loss: 0.0360 - classification_loss: 0.5408 - val_loss: 0.1907 - val_mmse_loss: 0.1276 - val_classification_loss: 0.6303\n",
      "Epoch 286/1000\n",
      "2/2 - 0s - loss: 0.0827 - mmse_loss: 0.0345 - classification_loss: 0.4821 - val_loss: 0.2073 - val_mmse_loss: 0.1440 - val_classification_loss: 0.6326\n",
      "Epoch 287/1000\n",
      "2/2 - 0s - loss: 0.0946 - mmse_loss: 0.0444 - classification_loss: 0.5023 - val_loss: 0.2035 - val_mmse_loss: 0.1400 - val_classification_loss: 0.6340\n",
      "Epoch 288/1000\n",
      "2/2 - 0s - loss: 0.0890 - mmse_loss: 0.0344 - classification_loss: 0.5459 - val_loss: 0.1958 - val_mmse_loss: 0.1318 - val_classification_loss: 0.6404\n",
      "Epoch 289/1000\n",
      "2/2 - 0s - loss: 0.0833 - mmse_loss: 0.0306 - classification_loss: 0.5271 - val_loss: 0.2045 - val_mmse_loss: 0.1399 - val_classification_loss: 0.6464\n",
      "Epoch 290/1000\n",
      "2/2 - 0s - loss: 0.0904 - mmse_loss: 0.0374 - classification_loss: 0.5303 - val_loss: 0.2173 - val_mmse_loss: 0.1522 - val_classification_loss: 0.6513\n",
      "Epoch 291/1000\n",
      "2/2 - 0s - loss: 0.0832 - mmse_loss: 0.0329 - classification_loss: 0.5028 - val_loss: 0.1939 - val_mmse_loss: 0.1289 - val_classification_loss: 0.6508\n",
      "Epoch 292/1000\n",
      "2/2 - 0s - loss: 0.0778 - mmse_loss: 0.0286 - classification_loss: 0.4923 - val_loss: 0.1675 - val_mmse_loss: 0.1018 - val_classification_loss: 0.6578\n",
      "Epoch 293/1000\n",
      "2/2 - 0s - loss: 0.0924 - mmse_loss: 0.0352 - classification_loss: 0.5716 - val_loss: 0.1693 - val_mmse_loss: 0.1042 - val_classification_loss: 0.6507\n",
      "Epoch 294/1000\n",
      "2/2 - 0s - loss: 0.0863 - mmse_loss: 0.0359 - classification_loss: 0.5037 - val_loss: 0.1951 - val_mmse_loss: 0.1314 - val_classification_loss: 0.6371\n",
      "Epoch 295/1000\n",
      "2/2 - 0s - loss: 0.0916 - mmse_loss: 0.0403 - classification_loss: 0.5128 - val_loss: 0.2106 - val_mmse_loss: 0.1475 - val_classification_loss: 0.6310\n",
      "Epoch 296/1000\n",
      "2/2 - 0s - loss: 0.0872 - mmse_loss: 0.0340 - classification_loss: 0.5327 - val_loss: 0.2098 - val_mmse_loss: 0.1473 - val_classification_loss: 0.6244\n",
      "Epoch 297/1000\n",
      "2/2 - 0s - loss: 0.0793 - mmse_loss: 0.0297 - classification_loss: 0.4960 - val_loss: 0.1981 - val_mmse_loss: 0.1362 - val_classification_loss: 0.6195\n",
      "Epoch 298/1000\n",
      "2/2 - 0s - loss: 0.0805 - mmse_loss: 0.0290 - classification_loss: 0.5150 - val_loss: 0.1958 - val_mmse_loss: 0.1340 - val_classification_loss: 0.6178\n",
      "Epoch 299/1000\n",
      "2/2 - 0s - loss: 0.0831 - mmse_loss: 0.0338 - classification_loss: 0.4928 - val_loss: 0.1995 - val_mmse_loss: 0.1381 - val_classification_loss: 0.6139\n",
      "Epoch 300/1000\n",
      "2/2 - 0s - loss: 0.0878 - mmse_loss: 0.0371 - classification_loss: 0.5068 - val_loss: 0.2073 - val_mmse_loss: 0.1461 - val_classification_loss: 0.6121\n"
     ]
    },
    {
     "name": "stdout",
     "output_type": "stream",
     "text": [
      "Epoch 301/1000\n",
      "2/2 - 0s - loss: 0.0852 - mmse_loss: 0.0366 - classification_loss: 0.4859 - val_loss: 0.2140 - val_mmse_loss: 0.1525 - val_classification_loss: 0.6153\n",
      "Epoch 302/1000\n",
      "2/2 - 0s - loss: 0.0879 - mmse_loss: 0.0373 - classification_loss: 0.5059 - val_loss: 0.1987 - val_mmse_loss: 0.1375 - val_classification_loss: 0.6121\n",
      "Epoch 303/1000\n",
      "2/2 - 0s - loss: 0.0775 - mmse_loss: 0.0302 - classification_loss: 0.4732 - val_loss: 0.1844 - val_mmse_loss: 0.1235 - val_classification_loss: 0.6093\n",
      "Epoch 304/1000\n",
      "2/2 - 0s - loss: 0.0803 - mmse_loss: 0.0286 - classification_loss: 0.5168 - val_loss: 0.1796 - val_mmse_loss: 0.1189 - val_classification_loss: 0.6077\n",
      "Epoch 305/1000\n",
      "2/2 - 0s - loss: 0.0734 - mmse_loss: 0.0271 - classification_loss: 0.4629 - val_loss: 0.1992 - val_mmse_loss: 0.1376 - val_classification_loss: 0.6160\n",
      "Epoch 306/1000\n",
      "2/2 - 0s - loss: 0.0844 - mmse_loss: 0.0365 - classification_loss: 0.4792 - val_loss: 0.2063 - val_mmse_loss: 0.1446 - val_classification_loss: 0.6174\n",
      "Epoch 307/1000\n",
      "2/2 - 0s - loss: 0.0843 - mmse_loss: 0.0363 - classification_loss: 0.4802 - val_loss: 0.1984 - val_mmse_loss: 0.1377 - val_classification_loss: 0.6073\n"
     ]
    }
   ],
   "source": [
    "class SquareRootScheduler:\n",
    "    def __init__(self, lr=0.1):\n",
    "        self.lr = lr\n",
    "\n",
    "    def __call__(self, num_update):\n",
    "        return self.lr * pow(num_update + 1.0, -0.5)\n",
    "    \n",
    "lr_callback = tf.keras.callbacks.LearningRateScheduler(SquareRootScheduler(lr=LEARNING_RATE))\n",
    "\n",
    "es_callback = tf.keras.callbacks.EarlyStopping(\n",
    "    monitor='val_loss', \n",
    "    patience=EARLY_STOPPING_PATIENCE, \n",
    "    restore_best_weights=True)\n",
    "\n",
    "history = model.fit(\n",
    "    train_ds_b, \n",
    "    validation_data=val_ds_b,  \n",
    "    epochs=EPOCHS,\n",
    "    callbacks=es_callback,  #[lr_callback, \n",
    "    verbose = 2\n",
    ")"
   ]
  },
  {
   "cell_type": "code",
   "execution_count": 217,
   "metadata": {},
   "outputs": [
    {
     "data": {
      "image/png": "[encoded data removed]",
      "text/plain": [
       "<Figure size 432x288 with 1 Axes>"
      ]
     },
     "metadata": {},
     "output_type": "display_data"
    }
   ],
   "source": [
    "metrics = history.history\n",
    "plt.plot(history.epoch, np.sqrt(metrics['mmse_loss']) * 30, np.sqrt(metrics['val_mmse_loss']) * 30)\n",
    "plt.legend(['train', 'val'])\n",
    "plt.show()"
   ]
  },
  {
   "cell_type": "code",
   "execution_count": 218,
   "metadata": {},
   "outputs": [
    {
     "data": {
      "image/png": "[encoded data removed]",
      "text/plain": [
       "<Figure size 432x288 with 1 Axes>"
      ]
     },
     "metadata": {},
     "output_type": "display_data"
    }
   ],
   "source": [
    "metrics = history.history\n",
    "plt.plot(history.epoch, np.sqrt(metrics['classification_loss']), np.sqrt(metrics['val_classification_loss']))\n",
    "plt.legend(['train', 'val'])\n",
    "plt.show()"
   ]
  },
  {
   "cell_type": "code",
   "execution_count": 219,
   "metadata": {},
   "outputs": [],
   "source": [
    "meta = meta.assign(split = '', predict_mmse = -99.99, predict_group_prob = 0)\n",
    "\n",
    "def applyModelStats(file, split_type):\n",
    "    \n",
    "    id = file.numpy().decode('utf-8').split('/')[-1].split('.')[0]\n",
    "    \n",
    "    meta.loc[meta[\"ID\"]==id,'split'] = split_type\n",
    "    predict = model.predict(get_data(file)[0])\n",
    "    \n",
    "    mmse = mean(predict[0].flatten()) * 30\n",
    "    group_prob = mean(predict[1].flatten())\n",
    "    predict_group = 'cd' if group_prob > 0.5 else 'cc'\n",
    "    \n",
    "#     median_predict = np.percentile(predict[0].flatten()[0], 50)   \n",
    "#     predict25 = np.percentile(predict[0].flatten()[0], 25)   \n",
    "#     predict75 = np.percentile(predict[0].flatten()[0], 75)   \n",
    "    \n",
    "#     avg_predict_group_prob = np.median(predict[1][:,0])\n",
    "#     std_predict_group_prob = np.std(predict[1][:,0])\n",
    "    \n",
    "    meta.loc[meta[\"ID\"]==id,'predict_mmse'] = mmse    \n",
    "    meta.loc[meta[\"ID\"]==id,'predict_group_prob'] = group_prob\n",
    "    meta.loc[meta[\"ID\"]==id,'predict_group'] = predict_group\n",
    "\n",
    "\n",
    "for file in train_files:\n",
    "    applyModelStats(file, \"train\")\n",
    "    \n",
    "for file in val_files:\n",
    "    applyModelStats(file, \"val\")\n",
    "    \n",
    "for file in test_files:\n",
    "    applyModelStats(file, \"test\")"
   ]
  },
  {
   "cell_type": "code",
   "execution_count": 220,
   "metadata": {},
   "outputs": [
    {
     "data": {
      "text/html": [
       "<div>\n",
       "<style scoped>\n",
       "    .dataframe tbody tr th:only-of-type {\n",
       "        vertical-align: middle;\n",
       "    }\n",
       "\n",
       "    .dataframe tbody tr th {\n",
       "        vertical-align: top;\n",
       "    }\n",
       "\n",
       "    .dataframe thead th {\n",
       "        text-align: right;\n",
       "    }\n",
       "</style>\n",
       "<table border=\"1\" class=\"dataframe\">\n",
       "  <thead>\n",
       "    <tr style=\"text-align: right;\">\n",
       "      <th></th>\n",
       "      <th>index</th>\n",
       "      <th>ID</th>\n",
       "      <th>Age</th>\n",
       "      <th>Gender</th>\n",
       "      <th>MMSE</th>\n",
       "      <th>Group</th>\n",
       "      <th>split</th>\n",
       "      <th>predict_mmse</th>\n",
       "      <th>predict_group_prob</th>\n",
       "      <th>predict_group</th>\n",
       "    </tr>\n",
       "  </thead>\n",
       "  <tbody>\n",
       "    <tr>\n",
       "      <th>0</th>\n",
       "      <td>0</td>\n",
       "      <td>S001</td>\n",
       "      <td>74</td>\n",
       "      <td>male</td>\n",
       "      <td>30</td>\n",
       "      <td>cc</td>\n",
       "      <td>val</td>\n",
       "      <td>20.705704</td>\n",
       "      <td>0.407075</td>\n",
       "      <td>cc</td>\n",
       "    </tr>\n",
       "    <tr>\n",
       "      <th>1</th>\n",
       "      <td>1</td>\n",
       "      <td>S002</td>\n",
       "      <td>62</td>\n",
       "      <td>female</td>\n",
       "      <td>30</td>\n",
       "      <td>cc</td>\n",
       "      <td>train</td>\n",
       "      <td>19.125767</td>\n",
       "      <td>0.484847</td>\n",
       "      <td>cc</td>\n",
       "    </tr>\n",
       "    <tr>\n",
       "      <th>2</th>\n",
       "      <td>2</td>\n",
       "      <td>S003</td>\n",
       "      <td>69</td>\n",
       "      <td>female</td>\n",
       "      <td>29</td>\n",
       "      <td>cc</td>\n",
       "      <td>train</td>\n",
       "      <td>20.563112</td>\n",
       "      <td>0.420607</td>\n",
       "      <td>cc</td>\n",
       "    </tr>\n",
       "    <tr>\n",
       "      <th>3</th>\n",
       "      <td>3</td>\n",
       "      <td>S004</td>\n",
       "      <td>71</td>\n",
       "      <td>female</td>\n",
       "      <td>30</td>\n",
       "      <td>cc</td>\n",
       "      <td>train</td>\n",
       "      <td>22.202595</td>\n",
       "      <td>0.400678</td>\n",
       "      <td>cc</td>\n",
       "    </tr>\n",
       "    <tr>\n",
       "      <th>4</th>\n",
       "      <td>4</td>\n",
       "      <td>S005</td>\n",
       "      <td>74</td>\n",
       "      <td>female</td>\n",
       "      <td>30</td>\n",
       "      <td>cc</td>\n",
       "      <td>train</td>\n",
       "      <td>19.083654</td>\n",
       "      <td>0.480727</td>\n",
       "      <td>cc</td>\n",
       "    </tr>\n",
       "    <tr>\n",
       "      <th>...</th>\n",
       "      <td>...</td>\n",
       "      <td>...</td>\n",
       "      <td>...</td>\n",
       "      <td>...</td>\n",
       "      <td>...</td>\n",
       "      <td>...</td>\n",
       "      <td>...</td>\n",
       "      <td>...</td>\n",
       "      <td>...</td>\n",
       "      <td>...</td>\n",
       "    </tr>\n",
       "    <tr>\n",
       "      <th>103</th>\n",
       "      <td>49</td>\n",
       "      <td>S150</td>\n",
       "      <td>58</td>\n",
       "      <td>male</td>\n",
       "      <td>20</td>\n",
       "      <td>cd</td>\n",
       "      <td>test</td>\n",
       "      <td>28.087351</td>\n",
       "      <td>0.314872</td>\n",
       "      <td>cc</td>\n",
       "    </tr>\n",
       "    <tr>\n",
       "      <th>104</th>\n",
       "      <td>50</td>\n",
       "      <td>S151</td>\n",
       "      <td>72</td>\n",
       "      <td>male</td>\n",
       "      <td>24</td>\n",
       "      <td>cd</td>\n",
       "      <td>val</td>\n",
       "      <td>20.103647</td>\n",
       "      <td>0.409220</td>\n",
       "      <td>cc</td>\n",
       "    </tr>\n",
       "    <tr>\n",
       "      <th>105</th>\n",
       "      <td>51</td>\n",
       "      <td>S153</td>\n",
       "      <td>68</td>\n",
       "      <td>female</td>\n",
       "      <td>12</td>\n",
       "      <td>cd</td>\n",
       "      <td>train</td>\n",
       "      <td>14.866094</td>\n",
       "      <td>0.454517</td>\n",
       "      <td>cc</td>\n",
       "    </tr>\n",
       "    <tr>\n",
       "      <th>106</th>\n",
       "      <td>52</td>\n",
       "      <td>S154</td>\n",
       "      <td>65</td>\n",
       "      <td>female</td>\n",
       "      <td>20</td>\n",
       "      <td>cd</td>\n",
       "      <td>train</td>\n",
       "      <td>16.724870</td>\n",
       "      <td>0.460362</td>\n",
       "      <td>cc</td>\n",
       "    </tr>\n",
       "    <tr>\n",
       "      <th>107</th>\n",
       "      <td>53</td>\n",
       "      <td>S156</td>\n",
       "      <td>71</td>\n",
       "      <td>female</td>\n",
       "      <td>13</td>\n",
       "      <td>cd</td>\n",
       "      <td>val</td>\n",
       "      <td>17.033333</td>\n",
       "      <td>0.444646</td>\n",
       "      <td>cc</td>\n",
       "    </tr>\n",
       "  </tbody>\n",
       "</table>\n",
       "<p>108 rows × 10 columns</p>\n",
       "</div>"
      ],
      "text/plain": [
       "     index    ID  Age  Gender  MMSE Group  split  predict_mmse  \\\n",
       "0        0  S001   74    male    30    cc    val     20.705704   \n",
       "1        1  S002   62  female    30    cc  train     19.125767   \n",
       "2        2  S003   69  female    29    cc  train     20.563112   \n",
       "3        3  S004   71  female    30    cc  train     22.202595   \n",
       "4        4  S005   74  female    30    cc  train     19.083654   \n",
       "..     ...   ...  ...     ...   ...   ...    ...           ...   \n",
       "103     49  S150   58    male    20    cd   test     28.087351   \n",
       "104     50  S151   72    male    24    cd    val     20.103647   \n",
       "105     51  S153   68  female    12    cd  train     14.866094   \n",
       "106     52  S154   65  female    20    cd  train     16.724870   \n",
       "107     53  S156   71  female    13    cd    val     17.033333   \n",
       "\n",
       "     predict_group_prob predict_group  \n",
       "0              0.407075            cc  \n",
       "1              0.484847            cc  \n",
       "2              0.420607            cc  \n",
       "3              0.400678            cc  \n",
       "4              0.480727            cc  \n",
       "..                  ...           ...  \n",
       "103            0.314872            cc  \n",
       "104            0.409220            cc  \n",
       "105            0.454517            cc  \n",
       "106            0.460362            cc  \n",
       "107            0.444646            cc  \n",
       "\n",
       "[108 rows x 10 columns]"
      ]
     },
     "execution_count": 220,
     "metadata": {},
     "output_type": "execute_result"
    }
   ],
   "source": [
    "meta"
   ]
  },
  {
   "cell_type": "code",
   "execution_count": 221,
   "metadata": {},
   "outputs": [
    {
     "data": {
      "text/html": [
       "<div>\n",
       "<style scoped>\n",
       "    .dataframe tbody tr th:only-of-type {\n",
       "        vertical-align: middle;\n",
       "    }\n",
       "\n",
       "    .dataframe tbody tr th {\n",
       "        vertical-align: top;\n",
       "    }\n",
       "\n",
       "    .dataframe thead th {\n",
       "        text-align: right;\n",
       "    }\n",
       "</style>\n",
       "<table border=\"1\" class=\"dataframe\">\n",
       "  <thead>\n",
       "    <tr style=\"text-align: right;\">\n",
       "      <th></th>\n",
       "      <th>split</th>\n",
       "      <th>rmse</th>\n",
       "    </tr>\n",
       "  </thead>\n",
       "  <tbody>\n",
       "    <tr>\n",
       "      <th>0</th>\n",
       "      <td>test</td>\n",
       "      <td>6.890871</td>\n",
       "    </tr>\n",
       "    <tr>\n",
       "      <th>1</th>\n",
       "      <td>train</td>\n",
       "      <td>8.049758</td>\n",
       "    </tr>\n",
       "    <tr>\n",
       "      <th>2</th>\n",
       "      <td>val</td>\n",
       "      <td>8.361372</td>\n",
       "    </tr>\n",
       "  </tbody>\n",
       "</table>\n",
       "</div>"
      ],
      "text/plain": [
       "   split      rmse\n",
       "0   test  6.890871\n",
       "1  train  8.049758\n",
       "2    val  8.361372"
      ]
     },
     "execution_count": 221,
     "metadata": {},
     "output_type": "execute_result"
    }
   ],
   "source": [
    "from sklearn.metrics import confusion_matrix, mean_squared_error, classification_report\n",
    "def cal_rmse(g):\n",
    "    rmse = np.sqrt(mean_squared_error(g['MMSE'], g['predict_mmse'] ) )\n",
    "    return pd.Series(dict(rmse = rmse ))\n",
    "\n",
    "meta.groupby('split').apply(cal_rmse).reset_index()"
   ]
  },
  {
   "cell_type": "code",
   "execution_count": 222,
   "metadata": {
    "scrolled": true
   },
   "outputs": [
    {
     "data": {
      "text/html": [
       "<div>\n",
       "<style scoped>\n",
       "    .dataframe tbody tr th:only-of-type {\n",
       "        vertical-align: middle;\n",
       "    }\n",
       "\n",
       "    .dataframe tbody tr th {\n",
       "        vertical-align: top;\n",
       "    }\n",
       "\n",
       "    .dataframe thead th {\n",
       "        text-align: right;\n",
       "    }\n",
       "</style>\n",
       "<table border=\"1\" class=\"dataframe\">\n",
       "  <thead>\n",
       "    <tr style=\"text-align: right;\">\n",
       "      <th></th>\n",
       "      <th>Gender</th>\n",
       "      <th>rmse</th>\n",
       "    </tr>\n",
       "  </thead>\n",
       "  <tbody>\n",
       "    <tr>\n",
       "      <th>0</th>\n",
       "      <td>female</td>\n",
       "      <td>7.892753</td>\n",
       "    </tr>\n",
       "    <tr>\n",
       "      <th>1</th>\n",
       "      <td>male</td>\n",
       "      <td>7.968679</td>\n",
       "    </tr>\n",
       "  </tbody>\n",
       "</table>\n",
       "</div>"
      ],
      "text/plain": [
       "   Gender      rmse\n",
       "0  female  7.892753\n",
       "1    male  7.968679"
      ]
     },
     "execution_count": 222,
     "metadata": {},
     "output_type": "execute_result"
    }
   ],
   "source": [
    "meta.groupby('Gender').apply(cal_rmse).reset_index()"
   ]
  },
  {
   "cell_type": "code",
   "execution_count": 223,
   "metadata": {},
   "outputs": [
    {
     "data": {
      "text/plain": [
       "7.926587397349082"
      ]
     },
     "execution_count": 223,
     "metadata": {},
     "output_type": "execute_result"
    }
   ],
   "source": [
    "np.sqrt(mean_squared_error(meta['MMSE'], meta['predict_mmse'] ))"
   ]
  },
  {
   "cell_type": "code",
   "execution_count": 224,
   "metadata": {},
   "outputs": [
    {
     "data": {
      "image/png": "[encoded data removed]",
      "text/plain": [
       "<Figure size 1500x800 with 3 Axes>"
      ]
     },
     "metadata": {},
     "output_type": "display_data"
    },
    {
     "data": {
      "text/plain": [
       "<ggplot: (8794662924664)>"
      ]
     },
     "execution_count": 224,
     "metadata": {},
     "output_type": "execute_result"
    }
   ],
   "source": [
    "ggplot(meta) + \\\n",
    "geom_point(aes(x = 'MMSE', y = 'predict_mmse', colour = 'split')) + \\\n",
    "facet_wrap('split', nrow = 1) + \\\n",
    "geom_abline(aes(intercept = 0, slope = 1, lty = 2)) + \\\n",
    "geom_hline(aes(yintercept = 24, lty = 2)) + \\\n",
    "geom_vline(aes(xintercept = 24, lty = 2)) + \\\n",
    "theme(figure_size = (15, 8))"
   ]
  },
  {
   "cell_type": "code",
   "execution_count": 207,
   "metadata": {},
   "outputs": [
    {
     "name": "stdout",
     "output_type": "stream",
     "text": [
      "Logistic: ROC AUC = 0.721\n"
     ]
    },
    {
     "data": {
      "image/png": "[encoded data removed]",
      "text/plain": [
       "<Figure size 432x288 with 1 Axes>"
      ]
     },
     "metadata": {},
     "output_type": "display_data"
    }
   ],
   "source": [
    "y = meta.Group.apply(lambda x: 1 if x==\"cd\" else 0)\n",
    "probs = meta.predict_group_prob\n",
    "\n",
    "lr_auc = roc_auc_score(y, probs)\n",
    "\n",
    "# summarize scores\n",
    "print('Logistic: ROC AUC = %.3f' % (lr_auc))\n",
    "\n",
    "# calculate roc curves\n",
    "ns_fpr, ns_tpr, _ = roc_curve(y, probs)\n",
    "\n",
    "# plot the roc curve for the model\n",
    "plt.plot(ns_fpr, ns_tpr, marker='.', label='Logistic')\n",
    "# axis labels\n",
    "plt.xlabel('False Positive Rate')\n",
    "plt.ylabel('True Positive Rate')\n",
    "\n",
    "# show the plot\n",
    "plt.show()"
   ]
  },
  {
   "cell_type": "code",
   "execution_count": 208,
   "metadata": {},
   "outputs": [],
   "source": [
    "# model.save('saved_model/base_line/20210222')"
   ]
  },
  {
   "cell_type": "code",
   "execution_count": 209,
   "metadata": {},
   "outputs": [
    {
     "name": "stdout",
     "output_type": "stream",
     "text": [
      "\u001b[0m\u001b[34;42m20210210\u001b[0m/  \u001b[34;42m20210217\u001b[0m/  \u001b[01;34m20210222\u001b[0m/  \u001b[01;34m20210225\u001b[0m/\r\n"
     ]
    }
   ],
   "source": [
    "ls saved_model/base_line"
   ]
  },
  {
   "cell_type": "code",
   "execution_count": 210,
   "metadata": {},
   "outputs": [
    {
     "data": {
      "text/plain": [
       "<matplotlib.axes._subplots.AxesSubplot at 0x7ffa0969db70>"
      ]
     },
     "execution_count": 210,
     "metadata": {},
     "output_type": "execute_result"
    },
    {
     "data": {
      "image/png": "[encoded data removed]",
      "text/plain": [
       "<Figure size 720x504 with 2 Axes>"
      ]
     },
     "metadata": {},
     "output_type": "display_data"
    }
   ],
   "source": [
    "y_true = meta.Group\n",
    "y_pred = meta.predict_group\n",
    "data = confusion_matrix(y_true, y_pred)\n",
    "df_cm = pd.DataFrame(data, columns=np.unique(y_true), index = np.unique(y_true))\n",
    "df_cm.index.name = 'Actual'\n",
    "df_cm.columns.name = 'Predicted'\n",
    "plt.figure(figsize = (10,7))\n",
    "sn.set(font_scale=1.4)#for label size\n",
    "sn.heatmap(df_cm, cmap=\"Reds\", annot=True,annot_kws={\"size\": 16})# font size"
   ]
  },
  {
   "cell_type": "code",
   "execution_count": 211,
   "metadata": {},
   "outputs": [
    {
     "name": "stdout",
     "output_type": "stream",
     "text": [
      "              precision    recall  f1-score   support\n",
      "\n",
      "          cc       0.50      1.00      0.67        54\n",
      "          cd       0.00      0.00      0.00        54\n",
      "\n",
      "    accuracy                           0.50       108\n",
      "   macro avg       0.25      0.50      0.33       108\n",
      "weighted avg       0.25      0.50      0.33       108\n",
      "\n"
     ]
    },
    {
     "name": "stderr",
     "output_type": "stream",
     "text": [
      "/usr/local/lib/python3.6/dist-packages/sklearn/metrics/_classification.py:1272: UndefinedMetricWarning: Precision and F-score are ill-defined and being set to 0.0 in labels with no predicted samples. Use `zero_division` parameter to control this behavior.\n"
     ]
    }
   ],
   "source": [
    "print(classification_report(y_true, y_pred))"
   ]
  },
  {
   "cell_type": "markdown",
   "metadata": {},
   "source": [
    "# Pitts Corpus"
   ]
  },
  {
   "cell_type": "code",
   "execution_count": 92,
   "metadata": {},
   "outputs": [],
   "source": [
    "data_path_pitt = '/tf/data/dementia/English/Pitt/'\n",
    "files_pitt = tf.io.gfile.glob(data_path_pitt + 'Control/cookie/*.wav') + \\\n",
    "             tf.io.gfile.glob(data_path_pitt + 'Dementia/cookie/*.wav')"
   ]
  },
  {
   "cell_type": "code",
   "execution_count": 98,
   "metadata": {},
   "outputs": [],
   "source": [
    "input_file = files_pitt[0]"
   ]
  },
  {
   "cell_type": "code",
   "execution_count": 99,
   "metadata": {},
   "outputs": [
    {
     "data": {
      "text/plain": [
       "'/tf/data/dementia/English/Pitt/Control/cookie/255-1.wav'"
      ]
     },
     "execution_count": 99,
     "metadata": {},
     "output_type": "execute_result"
    }
   ],
   "source": [
    "input_file"
   ]
  },
  {
   "cell_type": "code",
   "execution_count": 94,
   "metadata": {},
   "outputs": [],
   "source": [
    "def model_inference(filepath):\n",
    "\n",
    "    import tensorflow as tf\n",
    "    import numpy as np\n",
    "    import json\n",
    "    import requests\t\n",
    "    import os\n",
    "    from datetime import datetime\n",
    "    \n",
    "    input_file = filepath\n",
    "    if not filepath.lower().endswith(\".wav\"):\n",
    "#         tmp_name = \"tmp-\"+datetime.now().strftime(\"%Y%m%d-%H%M%S\")\n",
    "        input_file = input_file.split('.mp3')[0] + '.wav'\n",
    "        cmd = \"ffmpeg -i \" + filepath + \" \" + input_file\n",
    "        os.system(cmd)\n",
    "    \n",
    "    audio_binary = tf.io.read_file(input_file)\n",
    "    audio, _ = tf.audio.decode_wav(audio_binary)\n",
    "    if audio.shape[1] > 1:\n",
    "        audio = tf.reshape(audio[:, 0], (audio.shape[0],1))\n",
    "\n",
    "    waveform = tf.squeeze(audio, axis=-1)    \n",
    "    rolling_waveform_tensors = window(waveform, size=_*30, stride=_*1)\n",
    "    rolling_spectrograms = tf.signal.stft(rolling_waveform_tensors, frame_length=512, frame_step=_)\n",
    "    rolling_spectrograms = tf.abs(rolling_spectrograms)\n",
    "    rolling_spectrograms = tf.expand_dims(rolling_spectrograms, -1)\n",
    "    rolling_spectrograms = rolling_spectrograms.numpy().tolist()\n",
    "    \n",
    "    predictions = model.predict(rolling_spectrograms)\n",
    "    results = [x[0] for x in predictions]\n",
    "    result = sum(results)/len(results) * 30\n",
    "\n",
    "#     os.system('rm ' + input_file)\n",
    "    return result, results"
   ]
  },
  {
   "cell_type": "code",
   "execution_count": 97,
   "metadata": {
    "scrolled": true
   },
   "outputs": [
    {
     "name": "stderr",
     "output_type": "stream",
     "text": [
      "\r",
      "  0%|          | 0/552 [00:00<?, ?it/s]"
     ]
    },
    {
     "name": "stdout",
     "output_type": "stream",
     "text": [
      "/tf/data/dementia/English/Pitt/Control/cookie/255-1.wav\n"
     ]
    },
    {
     "name": "stderr",
     "output_type": "stream",
     "text": [
      "  0%|          | 0/552 [00:00<?, ?it/s]\n"
     ]
    },
    {
     "ename": "ValueError",
     "evalue": "in user code:\n\n    /usr/local/lib/python3.6/dist-packages/tensorflow/python/keras/engine/training.py:1478 predict_function  *\n        return step_function(self, iterator)\n    /usr/local/lib/python3.6/dist-packages/tensorflow/python/keras/engine/training.py:1468 step_function  **\n        outputs = model.distribute_strategy.run(run_step, args=(data,))\n    /usr/local/lib/python3.6/dist-packages/tensorflow/python/distribute/distribute_lib.py:1259 run\n        return self._extended.call_for_each_replica(fn, args=args, kwargs=kwargs)\n    /usr/local/lib/python3.6/dist-packages/tensorflow/python/distribute/distribute_lib.py:2730 call_for_each_replica\n        return self._call_for_each_replica(fn, args, kwargs)\n    /usr/local/lib/python3.6/dist-packages/tensorflow/python/distribute/distribute_lib.py:3417 _call_for_each_replica\n        return fn(*args, **kwargs)\n    /usr/local/lib/python3.6/dist-packages/tensorflow/python/keras/engine/training.py:1461 run_step  **\n        outputs = model.predict_step(data)\n    /usr/local/lib/python3.6/dist-packages/tensorflow/python/keras/engine/training.py:1434 predict_step\n        return self(x, training=False)\n    /usr/local/lib/python3.6/dist-packages/tensorflow/python/keras/engine/base_layer.py:998 __call__\n        input_spec.assert_input_compatibility(self.input_spec, inputs, self.name)\n    /usr/local/lib/python3.6/dist-packages/tensorflow/python/keras/engine/input_spec.py:207 assert_input_compatibility\n        ' input tensors. Inputs received: ' + str(inputs))\n\n    ValueError: Layer model_7 expects 3 input(s), but it received 1 input tensors. Inputs received: [<tf.Tensor 'IteratorGetNext:0' shape=(None, 30, 257, 1) dtype=float32>]\n",
     "output_type": "error",
     "traceback": [
      "\u001b[0;31m---------------------------------------------------------------------------\u001b[0m",
      "\u001b[0;31mValueError\u001b[0m                                Traceback (most recent call last)",
      "\u001b[0;32m<ipython-input-97-3904d32c9763>\u001b[0m in \u001b[0;36m<module>\u001b[0;34m\u001b[0m\n\u001b[1;32m     12\u001b[0m         \u001b[0mMMSE\u001b[0m \u001b[0;34m=\u001b[0m \u001b[0mint\u001b[0m\u001b[0;34m(\u001b[0m\u001b[0mcha_id\u001b[0m\u001b[0;34m.\u001b[0m\u001b[0msplit\u001b[0m\u001b[0;34m(\u001b[0m\u001b[0;34m'|'\u001b[0m\u001b[0;34m)\u001b[0m\u001b[0;34m[\u001b[0m\u001b[0;34m-\u001b[0m\u001b[0;36m3\u001b[0m\u001b[0;34m]\u001b[0m\u001b[0;34m)\u001b[0m\u001b[0;34m\u001b[0m\u001b[0;34m\u001b[0m\u001b[0m\n\u001b[1;32m     13\u001b[0m \u001b[0;34m\u001b[0m\u001b[0m\n\u001b[0;32m---> 14\u001b[0;31m     \u001b[0mpredict\u001b[0m\u001b[0;34m,\u001b[0m \u001b[0mpredicts\u001b[0m \u001b[0;34m=\u001b[0m \u001b[0mmodel_inference\u001b[0m\u001b[0;34m(\u001b[0m\u001b[0mfile\u001b[0m\u001b[0;34m)\u001b[0m\u001b[0;34m\u001b[0m\u001b[0;34m\u001b[0m\u001b[0m\n\u001b[0m\u001b[1;32m     15\u001b[0m     \u001b[0;32mif\u001b[0m \u001b[0;34m(\u001b[0m\u001b[0mpredict\u001b[0m \u001b[0;34m<\u001b[0m \u001b[0;36m24\u001b[0m\u001b[0;34m)\u001b[0m\u001b[0;34m:\u001b[0m\u001b[0;34m\u001b[0m\u001b[0;34m\u001b[0m\u001b[0m\n\u001b[1;32m     16\u001b[0m         \u001b[0mpredict_group\u001b[0m \u001b[0;34m=\u001b[0m \u001b[0;34m'Dementia'\u001b[0m\u001b[0;34m\u001b[0m\u001b[0;34m\u001b[0m\u001b[0m\n",
      "\u001b[0;32m<ipython-input-94-e9c95de451db>\u001b[0m in \u001b[0;36mmodel_inference\u001b[0;34m(filepath)\u001b[0m\n\u001b[1;32m     27\u001b[0m     \u001b[0mrolling_spectrograms\u001b[0m \u001b[0;34m=\u001b[0m \u001b[0mrolling_spectrograms\u001b[0m\u001b[0;34m.\u001b[0m\u001b[0mnumpy\u001b[0m\u001b[0;34m(\u001b[0m\u001b[0;34m)\u001b[0m\u001b[0;34m.\u001b[0m\u001b[0mtolist\u001b[0m\u001b[0;34m(\u001b[0m\u001b[0;34m)\u001b[0m\u001b[0;34m\u001b[0m\u001b[0;34m\u001b[0m\u001b[0m\n\u001b[1;32m     28\u001b[0m \u001b[0;34m\u001b[0m\u001b[0m\n\u001b[0;32m---> 29\u001b[0;31m     \u001b[0mpredictions\u001b[0m \u001b[0;34m=\u001b[0m \u001b[0mmodel\u001b[0m\u001b[0;34m.\u001b[0m\u001b[0mpredict\u001b[0m\u001b[0;34m(\u001b[0m\u001b[0mrolling_spectrograms\u001b[0m\u001b[0;34m)\u001b[0m\u001b[0;34m\u001b[0m\u001b[0;34m\u001b[0m\u001b[0m\n\u001b[0m\u001b[1;32m     30\u001b[0m     \u001b[0mresults\u001b[0m \u001b[0;34m=\u001b[0m \u001b[0;34m[\u001b[0m\u001b[0mx\u001b[0m\u001b[0;34m[\u001b[0m\u001b[0;36m0\u001b[0m\u001b[0;34m]\u001b[0m \u001b[0;32mfor\u001b[0m \u001b[0mx\u001b[0m \u001b[0;32min\u001b[0m \u001b[0mpredictions\u001b[0m\u001b[0;34m]\u001b[0m\u001b[0;34m\u001b[0m\u001b[0;34m\u001b[0m\u001b[0m\n\u001b[1;32m     31\u001b[0m     \u001b[0mresult\u001b[0m \u001b[0;34m=\u001b[0m \u001b[0msum\u001b[0m\u001b[0;34m(\u001b[0m\u001b[0mresults\u001b[0m\u001b[0;34m)\u001b[0m\u001b[0;34m/\u001b[0m\u001b[0mlen\u001b[0m\u001b[0;34m(\u001b[0m\u001b[0mresults\u001b[0m\u001b[0;34m)\u001b[0m \u001b[0;34m*\u001b[0m \u001b[0;36m30\u001b[0m\u001b[0;34m\u001b[0m\u001b[0;34m\u001b[0m\u001b[0m\n",
      "\u001b[0;32m/usr/local/lib/python3.6/dist-packages/tensorflow/python/keras/engine/training.py\u001b[0m in \u001b[0;36mpredict\u001b[0;34m(self, x, batch_size, verbose, steps, callbacks, max_queue_size, workers, use_multiprocessing)\u001b[0m\n\u001b[1;32m   1627\u001b[0m           \u001b[0;32mfor\u001b[0m \u001b[0mstep\u001b[0m \u001b[0;32min\u001b[0m \u001b[0mdata_handler\u001b[0m\u001b[0;34m.\u001b[0m\u001b[0msteps\u001b[0m\u001b[0;34m(\u001b[0m\u001b[0;34m)\u001b[0m\u001b[0;34m:\u001b[0m\u001b[0;34m\u001b[0m\u001b[0;34m\u001b[0m\u001b[0m\n\u001b[1;32m   1628\u001b[0m             \u001b[0mcallbacks\u001b[0m\u001b[0;34m.\u001b[0m\u001b[0mon_predict_batch_begin\u001b[0m\u001b[0;34m(\u001b[0m\u001b[0mstep\u001b[0m\u001b[0;34m)\u001b[0m\u001b[0;34m\u001b[0m\u001b[0;34m\u001b[0m\u001b[0m\n\u001b[0;32m-> 1629\u001b[0;31m             \u001b[0mtmp_batch_outputs\u001b[0m \u001b[0;34m=\u001b[0m \u001b[0mself\u001b[0m\u001b[0;34m.\u001b[0m\u001b[0mpredict_function\u001b[0m\u001b[0;34m(\u001b[0m\u001b[0miterator\u001b[0m\u001b[0;34m)\u001b[0m\u001b[0;34m\u001b[0m\u001b[0;34m\u001b[0m\u001b[0m\n\u001b[0m\u001b[1;32m   1630\u001b[0m             \u001b[0;32mif\u001b[0m \u001b[0mdata_handler\u001b[0m\u001b[0;34m.\u001b[0m\u001b[0mshould_sync\u001b[0m\u001b[0;34m:\u001b[0m\u001b[0;34m\u001b[0m\u001b[0;34m\u001b[0m\u001b[0m\n\u001b[1;32m   1631\u001b[0m               \u001b[0mcontext\u001b[0m\u001b[0;34m.\u001b[0m\u001b[0masync_wait\u001b[0m\u001b[0;34m(\u001b[0m\u001b[0;34m)\u001b[0m\u001b[0;34m\u001b[0m\u001b[0;34m\u001b[0m\u001b[0m\n",
      "\u001b[0;32m/usr/local/lib/python3.6/dist-packages/tensorflow/python/eager/def_function.py\u001b[0m in \u001b[0;36m__call__\u001b[0;34m(self, *args, **kwds)\u001b[0m\n\u001b[1;32m    826\u001b[0m     \u001b[0mtracing_count\u001b[0m \u001b[0;34m=\u001b[0m \u001b[0mself\u001b[0m\u001b[0;34m.\u001b[0m\u001b[0mexperimental_get_tracing_count\u001b[0m\u001b[0;34m(\u001b[0m\u001b[0;34m)\u001b[0m\u001b[0;34m\u001b[0m\u001b[0;34m\u001b[0m\u001b[0m\n\u001b[1;32m    827\u001b[0m     \u001b[0;32mwith\u001b[0m \u001b[0mtrace\u001b[0m\u001b[0;34m.\u001b[0m\u001b[0mTrace\u001b[0m\u001b[0;34m(\u001b[0m\u001b[0mself\u001b[0m\u001b[0;34m.\u001b[0m\u001b[0m_name\u001b[0m\u001b[0;34m)\u001b[0m \u001b[0;32mas\u001b[0m \u001b[0mtm\u001b[0m\u001b[0;34m:\u001b[0m\u001b[0;34m\u001b[0m\u001b[0;34m\u001b[0m\u001b[0m\n\u001b[0;32m--> 828\u001b[0;31m       \u001b[0mresult\u001b[0m \u001b[0;34m=\u001b[0m \u001b[0mself\u001b[0m\u001b[0;34m.\u001b[0m\u001b[0m_call\u001b[0m\u001b[0;34m(\u001b[0m\u001b[0;34m*\u001b[0m\u001b[0margs\u001b[0m\u001b[0;34m,\u001b[0m \u001b[0;34m**\u001b[0m\u001b[0mkwds\u001b[0m\u001b[0;34m)\u001b[0m\u001b[0;34m\u001b[0m\u001b[0;34m\u001b[0m\u001b[0m\n\u001b[0m\u001b[1;32m    829\u001b[0m       \u001b[0mcompiler\u001b[0m \u001b[0;34m=\u001b[0m \u001b[0;34m\"xla\"\u001b[0m \u001b[0;32mif\u001b[0m \u001b[0mself\u001b[0m\u001b[0;34m.\u001b[0m\u001b[0m_experimental_compile\u001b[0m \u001b[0;32melse\u001b[0m \u001b[0;34m\"nonXla\"\u001b[0m\u001b[0;34m\u001b[0m\u001b[0;34m\u001b[0m\u001b[0m\n\u001b[1;32m    830\u001b[0m       \u001b[0mnew_tracing_count\u001b[0m \u001b[0;34m=\u001b[0m \u001b[0mself\u001b[0m\u001b[0;34m.\u001b[0m\u001b[0mexperimental_get_tracing_count\u001b[0m\u001b[0;34m(\u001b[0m\u001b[0;34m)\u001b[0m\u001b[0;34m\u001b[0m\u001b[0;34m\u001b[0m\u001b[0m\n",
      "\u001b[0;32m/usr/local/lib/python3.6/dist-packages/tensorflow/python/eager/def_function.py\u001b[0m in \u001b[0;36m_call\u001b[0;34m(self, *args, **kwds)\u001b[0m\n\u001b[1;32m    860\u001b[0m       \u001b[0;31m# In this case we have not created variables on the first call. So we can\u001b[0m\u001b[0;34m\u001b[0m\u001b[0;34m\u001b[0m\u001b[0;34m\u001b[0m\u001b[0m\n\u001b[1;32m    861\u001b[0m       \u001b[0;31m# run the first trace but we should fail if variables are created.\u001b[0m\u001b[0;34m\u001b[0m\u001b[0;34m\u001b[0m\u001b[0;34m\u001b[0m\u001b[0m\n\u001b[0;32m--> 862\u001b[0;31m       \u001b[0mresults\u001b[0m \u001b[0;34m=\u001b[0m \u001b[0mself\u001b[0m\u001b[0;34m.\u001b[0m\u001b[0m_stateful_fn\u001b[0m\u001b[0;34m(\u001b[0m\u001b[0;34m*\u001b[0m\u001b[0margs\u001b[0m\u001b[0;34m,\u001b[0m \u001b[0;34m**\u001b[0m\u001b[0mkwds\u001b[0m\u001b[0;34m)\u001b[0m\u001b[0;34m\u001b[0m\u001b[0;34m\u001b[0m\u001b[0m\n\u001b[0m\u001b[1;32m    863\u001b[0m       \u001b[0;32mif\u001b[0m \u001b[0mself\u001b[0m\u001b[0;34m.\u001b[0m\u001b[0m_created_variables\u001b[0m\u001b[0;34m:\u001b[0m\u001b[0;34m\u001b[0m\u001b[0;34m\u001b[0m\u001b[0m\n\u001b[1;32m    864\u001b[0m         raise ValueError(\"Creating variables on a non-first call to a function\"\n",
      "\u001b[0;32m/usr/local/lib/python3.6/dist-packages/tensorflow/python/eager/function.py\u001b[0m in \u001b[0;36m__call__\u001b[0;34m(self, *args, **kwargs)\u001b[0m\n\u001b[1;32m   2939\u001b[0m     \u001b[0;32mwith\u001b[0m \u001b[0mself\u001b[0m\u001b[0;34m.\u001b[0m\u001b[0m_lock\u001b[0m\u001b[0;34m:\u001b[0m\u001b[0;34m\u001b[0m\u001b[0;34m\u001b[0m\u001b[0m\n\u001b[1;32m   2940\u001b[0m       (graph_function,\n\u001b[0;32m-> 2941\u001b[0;31m        filtered_flat_args) = self._maybe_define_function(args, kwargs)\n\u001b[0m\u001b[1;32m   2942\u001b[0m     return graph_function._call_flat(\n\u001b[1;32m   2943\u001b[0m         filtered_flat_args, captured_inputs=graph_function.captured_inputs)  # pylint: disable=protected-access\n",
      "\u001b[0;32m/usr/local/lib/python3.6/dist-packages/tensorflow/python/eager/function.py\u001b[0m in \u001b[0;36m_maybe_define_function\u001b[0;34m(self, args, kwargs)\u001b[0m\n\u001b[1;32m   3356\u001b[0m               call_context_key in self._function_cache.missed):\n\u001b[1;32m   3357\u001b[0m             return self._define_function_with_shape_relaxation(\n\u001b[0;32m-> 3358\u001b[0;31m                 args, kwargs, flat_args, filtered_flat_args, cache_key_context)\n\u001b[0m\u001b[1;32m   3359\u001b[0m \u001b[0;34m\u001b[0m\u001b[0m\n\u001b[1;32m   3360\u001b[0m           \u001b[0mself\u001b[0m\u001b[0;34m.\u001b[0m\u001b[0m_function_cache\u001b[0m\u001b[0;34m.\u001b[0m\u001b[0mmissed\u001b[0m\u001b[0;34m.\u001b[0m\u001b[0madd\u001b[0m\u001b[0;34m(\u001b[0m\u001b[0mcall_context_key\u001b[0m\u001b[0;34m)\u001b[0m\u001b[0;34m\u001b[0m\u001b[0;34m\u001b[0m\u001b[0m\n",
      "\u001b[0;32m/usr/local/lib/python3.6/dist-packages/tensorflow/python/eager/function.py\u001b[0m in \u001b[0;36m_define_function_with_shape_relaxation\u001b[0;34m(self, args, kwargs, flat_args, filtered_flat_args, cache_key_context)\u001b[0m\n\u001b[1;32m   3278\u001b[0m \u001b[0;34m\u001b[0m\u001b[0m\n\u001b[1;32m   3279\u001b[0m     graph_function = self._create_graph_function(\n\u001b[0;32m-> 3280\u001b[0;31m         args, kwargs, override_flat_arg_shapes=relaxed_arg_shapes)\n\u001b[0m\u001b[1;32m   3281\u001b[0m     \u001b[0mself\u001b[0m\u001b[0;34m.\u001b[0m\u001b[0m_function_cache\u001b[0m\u001b[0;34m.\u001b[0m\u001b[0marg_relaxed\u001b[0m\u001b[0;34m[\u001b[0m\u001b[0mrank_only_cache_key\u001b[0m\u001b[0;34m]\u001b[0m \u001b[0;34m=\u001b[0m \u001b[0mgraph_function\u001b[0m\u001b[0;34m\u001b[0m\u001b[0;34m\u001b[0m\u001b[0m\n\u001b[1;32m   3282\u001b[0m \u001b[0;34m\u001b[0m\u001b[0m\n",
      "\u001b[0;32m/usr/local/lib/python3.6/dist-packages/tensorflow/python/eager/function.py\u001b[0m in \u001b[0;36m_create_graph_function\u001b[0;34m(self, args, kwargs, override_flat_arg_shapes)\u001b[0m\n\u001b[1;32m   3204\u001b[0m             \u001b[0marg_names\u001b[0m\u001b[0;34m=\u001b[0m\u001b[0marg_names\u001b[0m\u001b[0;34m,\u001b[0m\u001b[0;34m\u001b[0m\u001b[0;34m\u001b[0m\u001b[0m\n\u001b[1;32m   3205\u001b[0m             \u001b[0moverride_flat_arg_shapes\u001b[0m\u001b[0;34m=\u001b[0m\u001b[0moverride_flat_arg_shapes\u001b[0m\u001b[0;34m,\u001b[0m\u001b[0;34m\u001b[0m\u001b[0;34m\u001b[0m\u001b[0m\n\u001b[0;32m-> 3206\u001b[0;31m             capture_by_value=self._capture_by_value),\n\u001b[0m\u001b[1;32m   3207\u001b[0m         \u001b[0mself\u001b[0m\u001b[0;34m.\u001b[0m\u001b[0m_function_attributes\u001b[0m\u001b[0;34m,\u001b[0m\u001b[0;34m\u001b[0m\u001b[0;34m\u001b[0m\u001b[0m\n\u001b[1;32m   3208\u001b[0m         \u001b[0mfunction_spec\u001b[0m\u001b[0;34m=\u001b[0m\u001b[0mself\u001b[0m\u001b[0;34m.\u001b[0m\u001b[0mfunction_spec\u001b[0m\u001b[0;34m,\u001b[0m\u001b[0;34m\u001b[0m\u001b[0;34m\u001b[0m\u001b[0m\n",
      "\u001b[0;32m/usr/local/lib/python3.6/dist-packages/tensorflow/python/framework/func_graph.py\u001b[0m in \u001b[0;36mfunc_graph_from_py_func\u001b[0;34m(name, python_func, args, kwargs, signature, func_graph, autograph, autograph_options, add_control_dependencies, arg_names, op_return_value, collections, capture_by_value, override_flat_arg_shapes)\u001b[0m\n\u001b[1;32m    988\u001b[0m         \u001b[0m_\u001b[0m\u001b[0;34m,\u001b[0m \u001b[0moriginal_func\u001b[0m \u001b[0;34m=\u001b[0m \u001b[0mtf_decorator\u001b[0m\u001b[0;34m.\u001b[0m\u001b[0munwrap\u001b[0m\u001b[0;34m(\u001b[0m\u001b[0mpython_func\u001b[0m\u001b[0;34m)\u001b[0m\u001b[0;34m\u001b[0m\u001b[0;34m\u001b[0m\u001b[0m\n\u001b[1;32m    989\u001b[0m \u001b[0;34m\u001b[0m\u001b[0m\n\u001b[0;32m--> 990\u001b[0;31m       \u001b[0mfunc_outputs\u001b[0m \u001b[0;34m=\u001b[0m \u001b[0mpython_func\u001b[0m\u001b[0;34m(\u001b[0m\u001b[0;34m*\u001b[0m\u001b[0mfunc_args\u001b[0m\u001b[0;34m,\u001b[0m \u001b[0;34m**\u001b[0m\u001b[0mfunc_kwargs\u001b[0m\u001b[0;34m)\u001b[0m\u001b[0;34m\u001b[0m\u001b[0;34m\u001b[0m\u001b[0m\n\u001b[0m\u001b[1;32m    991\u001b[0m \u001b[0;34m\u001b[0m\u001b[0m\n\u001b[1;32m    992\u001b[0m       \u001b[0;31m# invariant: `func_outputs` contains only Tensors, CompositeTensors,\u001b[0m\u001b[0;34m\u001b[0m\u001b[0;34m\u001b[0m\u001b[0;34m\u001b[0m\u001b[0m\n",
      "\u001b[0;32m/usr/local/lib/python3.6/dist-packages/tensorflow/python/eager/def_function.py\u001b[0m in \u001b[0;36mwrapped_fn\u001b[0;34m(*args, **kwds)\u001b[0m\n\u001b[1;32m    632\u001b[0m             \u001b[0mxla_context\u001b[0m\u001b[0;34m.\u001b[0m\u001b[0mExit\u001b[0m\u001b[0;34m(\u001b[0m\u001b[0;34m)\u001b[0m\u001b[0;34m\u001b[0m\u001b[0;34m\u001b[0m\u001b[0m\n\u001b[1;32m    633\u001b[0m         \u001b[0;32melse\u001b[0m\u001b[0;34m:\u001b[0m\u001b[0;34m\u001b[0m\u001b[0;34m\u001b[0m\u001b[0m\n\u001b[0;32m--> 634\u001b[0;31m           \u001b[0mout\u001b[0m \u001b[0;34m=\u001b[0m \u001b[0mweak_wrapped_fn\u001b[0m\u001b[0;34m(\u001b[0m\u001b[0;34m)\u001b[0m\u001b[0;34m.\u001b[0m\u001b[0m__wrapped__\u001b[0m\u001b[0;34m(\u001b[0m\u001b[0;34m*\u001b[0m\u001b[0margs\u001b[0m\u001b[0;34m,\u001b[0m \u001b[0;34m**\u001b[0m\u001b[0mkwds\u001b[0m\u001b[0;34m)\u001b[0m\u001b[0;34m\u001b[0m\u001b[0;34m\u001b[0m\u001b[0m\n\u001b[0m\u001b[1;32m    635\u001b[0m         \u001b[0;32mreturn\u001b[0m \u001b[0mout\u001b[0m\u001b[0;34m\u001b[0m\u001b[0;34m\u001b[0m\u001b[0m\n\u001b[1;32m    636\u001b[0m \u001b[0;34m\u001b[0m\u001b[0m\n",
      "\u001b[0;32m/usr/local/lib/python3.6/dist-packages/tensorflow/python/framework/func_graph.py\u001b[0m in \u001b[0;36mwrapper\u001b[0;34m(*args, **kwargs)\u001b[0m\n\u001b[1;32m    975\u001b[0m           \u001b[0;32mexcept\u001b[0m \u001b[0mException\u001b[0m \u001b[0;32mas\u001b[0m \u001b[0me\u001b[0m\u001b[0;34m:\u001b[0m  \u001b[0;31m# pylint:disable=broad-except\u001b[0m\u001b[0;34m\u001b[0m\u001b[0;34m\u001b[0m\u001b[0m\n\u001b[1;32m    976\u001b[0m             \u001b[0;32mif\u001b[0m \u001b[0mhasattr\u001b[0m\u001b[0;34m(\u001b[0m\u001b[0me\u001b[0m\u001b[0;34m,\u001b[0m \u001b[0;34m\"ag_error_metadata\"\u001b[0m\u001b[0;34m)\u001b[0m\u001b[0;34m:\u001b[0m\u001b[0;34m\u001b[0m\u001b[0;34m\u001b[0m\u001b[0m\n\u001b[0;32m--> 977\u001b[0;31m               \u001b[0;32mraise\u001b[0m \u001b[0me\u001b[0m\u001b[0;34m.\u001b[0m\u001b[0mag_error_metadata\u001b[0m\u001b[0;34m.\u001b[0m\u001b[0mto_exception\u001b[0m\u001b[0;34m(\u001b[0m\u001b[0me\u001b[0m\u001b[0;34m)\u001b[0m\u001b[0;34m\u001b[0m\u001b[0;34m\u001b[0m\u001b[0m\n\u001b[0m\u001b[1;32m    978\u001b[0m             \u001b[0;32melse\u001b[0m\u001b[0;34m:\u001b[0m\u001b[0;34m\u001b[0m\u001b[0;34m\u001b[0m\u001b[0m\n\u001b[1;32m    979\u001b[0m               \u001b[0;32mraise\u001b[0m\u001b[0;34m\u001b[0m\u001b[0;34m\u001b[0m\u001b[0m\n",
      "\u001b[0;31mValueError\u001b[0m: in user code:\n\n    /usr/local/lib/python3.6/dist-packages/tensorflow/python/keras/engine/training.py:1478 predict_function  *\n        return step_function(self, iterator)\n    /usr/local/lib/python3.6/dist-packages/tensorflow/python/keras/engine/training.py:1468 step_function  **\n        outputs = model.distribute_strategy.run(run_step, args=(data,))\n    /usr/local/lib/python3.6/dist-packages/tensorflow/python/distribute/distribute_lib.py:1259 run\n        return self._extended.call_for_each_replica(fn, args=args, kwargs=kwargs)\n    /usr/local/lib/python3.6/dist-packages/tensorflow/python/distribute/distribute_lib.py:2730 call_for_each_replica\n        return self._call_for_each_replica(fn, args, kwargs)\n    /usr/local/lib/python3.6/dist-packages/tensorflow/python/distribute/distribute_lib.py:3417 _call_for_each_replica\n        return fn(*args, **kwargs)\n    /usr/local/lib/python3.6/dist-packages/tensorflow/python/keras/engine/training.py:1461 run_step  **\n        outputs = model.predict_step(data)\n    /usr/local/lib/python3.6/dist-packages/tensorflow/python/keras/engine/training.py:1434 predict_step\n        return self(x, training=False)\n    /usr/local/lib/python3.6/dist-packages/tensorflow/python/keras/engine/base_layer.py:998 __call__\n        input_spec.assert_input_compatibility(self.input_spec, inputs, self.name)\n    /usr/local/lib/python3.6/dist-packages/tensorflow/python/keras/engine/input_spec.py:207 assert_input_compatibility\n        ' input tensors. Inputs received: ' + str(inputs))\n\n    ValueError: Layer model_7 expects 3 input(s), but it received 1 input tensors. Inputs received: [<tf.Tensor 'IteratorGetNext:0' shape=(None, 30, 257, 1) dtype=float32>]\n"
     ]
    }
   ],
   "source": [
    "meta_pitt = pd.DataFrame(columns= ['file', 'ID', 'Group', 'MMSE', 'predict', 'predict_group', 'predicts'])\n",
    "for file in tqdm(files_pitt):\n",
    "    print(file)\n",
    "    ID = file.split('/')[-1].split('.')[0]\n",
    "    Group = file.split('/')[6]\n",
    "    cha = pd.read_fwf(data_path_pitt + 'Pitt/' + Group + '/cookie/' + ID + '.cha')  \n",
    "    cha_id = [x for x in cha['@UTF8'] if str.startswith(x, '@ID:')][0]\n",
    "    \n",
    "    if (cha_id.split('|')[-3] == ''):\n",
    "        MMSE = np.NaN\n",
    "    else:\n",
    "        MMSE = int(cha_id.split('|')[-3])\n",
    "        \n",
    "    predict, predicts = model_inference(file)\n",
    "    if (predict < 24):\n",
    "        predict_group = 'Dementia'\n",
    "    else:\n",
    "        predict_group = 'Control'\n",
    "    meta_pitt = meta_pitt.append(pd.DataFrame([[file, ID, Group, MMSE, predict, predict_group, predicts]], \n",
    "                                  columns = list(meta_pitt.columns)))"
   ]
  },
  {
   "cell_type": "code",
   "execution_count": 294,
   "metadata": {},
   "outputs": [],
   "source": [
    "meta_pitt['predict_min'] = [min(x) for x in meta_pitt.predicts]\n",
    "meta_pitt['predict_group_min'] = ['Control' if x >= 24 else 'Dementia' for x in meta_pitt.predict_min]"
   ]
  },
  {
   "cell_type": "code",
   "execution_count": 295,
   "metadata": {
    "scrolled": true
   },
   "outputs": [],
   "source": [
    "meta_pitt_eval = meta_pitt[meta_pitt.MMSE.notna()]"
   ]
  },
  {
   "cell_type": "code",
   "execution_count": 296,
   "metadata": {},
   "outputs": [
    {
     "data": {
      "text/plain": [
       "(552, 9)"
      ]
     },
     "execution_count": 296,
     "metadata": {},
     "output_type": "execute_result"
    }
   ],
   "source": [
    "meta_pitt.shape"
   ]
  },
  {
   "cell_type": "code",
   "execution_count": 297,
   "metadata": {},
   "outputs": [
    {
     "data": {
      "text/plain": [
       "(457, 9)"
      ]
     },
     "execution_count": 297,
     "metadata": {},
     "output_type": "execute_result"
    }
   ],
   "source": [
    "meta_pitt_eval.shape"
   ]
  },
  {
   "cell_type": "code",
   "execution_count": 298,
   "metadata": {},
   "outputs": [
    {
     "data": {
      "text/html": [
       "<div>\n",
       "<style scoped>\n",
       "    .dataframe tbody tr th:only-of-type {\n",
       "        vertical-align: middle;\n",
       "    }\n",
       "\n",
       "    .dataframe tbody tr th {\n",
       "        vertical-align: top;\n",
       "    }\n",
       "\n",
       "    .dataframe thead th {\n",
       "        text-align: right;\n",
       "    }\n",
       "</style>\n",
       "<table border=\"1\" class=\"dataframe\">\n",
       "  <thead>\n",
       "    <tr style=\"text-align: right;\">\n",
       "      <th></th>\n",
       "      <th>file</th>\n",
       "      <th>ID</th>\n",
       "      <th>Group</th>\n",
       "      <th>MMSE</th>\n",
       "      <th>predict</th>\n",
       "      <th>predict_group</th>\n",
       "      <th>predicts</th>\n",
       "      <th>predict_min</th>\n",
       "      <th>predict_group_min</th>\n",
       "    </tr>\n",
       "  </thead>\n",
       "  <tbody>\n",
       "    <tr>\n",
       "      <th>0</th>\n",
       "      <td>/tf/data/dementia/English/Pitt/Control/cookie/...</td>\n",
       "      <td>128-3</td>\n",
       "      <td>Control</td>\n",
       "      <td>29</td>\n",
       "      <td>25.855359</td>\n",
       "      <td>Control</td>\n",
       "      <td>[0.8192363, 0.80515444, 0.8759565, 0.9246044, ...</td>\n",
       "      <td>0.482245</td>\n",
       "      <td>Dementia</td>\n",
       "    </tr>\n",
       "    <tr>\n",
       "      <th>0</th>\n",
       "      <td>/tf/data/dementia/English/Pitt/Control/cookie/...</td>\n",
       "      <td>229-2</td>\n",
       "      <td>Control</td>\n",
       "      <td>30</td>\n",
       "      <td>16.437099</td>\n",
       "      <td>Dementia</td>\n",
       "      <td>[0.5487453, 0.54861814, 0.5485862, 0.54736215,...</td>\n",
       "      <td>0.546205</td>\n",
       "      <td>Dementia</td>\n",
       "    </tr>\n",
       "    <tr>\n",
       "      <th>0</th>\n",
       "      <td>/tf/data/dementia/English/Pitt/Control/cookie/...</td>\n",
       "      <td>196-0</td>\n",
       "      <td>Control</td>\n",
       "      <td>28</td>\n",
       "      <td>20.300190</td>\n",
       "      <td>Dementia</td>\n",
       "      <td>[0.6018041, 0.6044841, 0.61234003, 0.6232815, ...</td>\n",
       "      <td>0.601804</td>\n",
       "      <td>Dementia</td>\n",
       "    </tr>\n",
       "    <tr>\n",
       "      <th>0</th>\n",
       "      <td>/tf/data/dementia/English/Pitt/Control/cookie/...</td>\n",
       "      <td>668-0</td>\n",
       "      <td>Control</td>\n",
       "      <td>29</td>\n",
       "      <td>18.987910</td>\n",
       "      <td>Dementia</td>\n",
       "      <td>[0.8942066, 0.91020316, 0.94213617, 0.96051204...</td>\n",
       "      <td>0.379110</td>\n",
       "      <td>Dementia</td>\n",
       "    </tr>\n",
       "    <tr>\n",
       "      <th>0</th>\n",
       "      <td>/tf/data/dementia/English/Pitt/Control/cookie/...</td>\n",
       "      <td>073-1</td>\n",
       "      <td>Control</td>\n",
       "      <td>29</td>\n",
       "      <td>17.749986</td>\n",
       "      <td>Dementia</td>\n",
       "      <td>[0.5269004, 0.52823627, 0.52713543, 0.5275847,...</td>\n",
       "      <td>0.526900</td>\n",
       "      <td>Dementia</td>\n",
       "    </tr>\n",
       "  </tbody>\n",
       "</table>\n",
       "</div>"
      ],
      "text/plain": [
       "                                                file     ID    Group MMSE  \\\n",
       "0  /tf/data/dementia/English/Pitt/Control/cookie/...  128-3  Control   29   \n",
       "0  /tf/data/dementia/English/Pitt/Control/cookie/...  229-2  Control   30   \n",
       "0  /tf/data/dementia/English/Pitt/Control/cookie/...  196-0  Control   28   \n",
       "0  /tf/data/dementia/English/Pitt/Control/cookie/...  668-0  Control   29   \n",
       "0  /tf/data/dementia/English/Pitt/Control/cookie/...  073-1  Control   29   \n",
       "\n",
       "     predict predict_group                                           predicts  \\\n",
       "0  25.855359       Control  [0.8192363, 0.80515444, 0.8759565, 0.9246044, ...   \n",
       "0  16.437099      Dementia  [0.5487453, 0.54861814, 0.5485862, 0.54736215,...   \n",
       "0  20.300190      Dementia  [0.6018041, 0.6044841, 0.61234003, 0.6232815, ...   \n",
       "0  18.987910      Dementia  [0.8942066, 0.91020316, 0.94213617, 0.96051204...   \n",
       "0  17.749986      Dementia  [0.5269004, 0.52823627, 0.52713543, 0.5275847,...   \n",
       "\n",
       "   predict_min predict_group_min  \n",
       "0     0.482245          Dementia  \n",
       "0     0.546205          Dementia  \n",
       "0     0.601804          Dementia  \n",
       "0     0.379110          Dementia  \n",
       "0     0.526900          Dementia  "
      ]
     },
     "execution_count": 298,
     "metadata": {},
     "output_type": "execute_result"
    }
   ],
   "source": [
    "meta_pitt_eval.head()"
   ]
  },
  {
   "cell_type": "code",
   "execution_count": 299,
   "metadata": {},
   "outputs": [
    {
     "data": {
      "text/plain": [
       "<matplotlib.axes._subplots.AxesSubplot at 0x7fc8143a86d8>"
      ]
     },
     "execution_count": 299,
     "metadata": {},
     "output_type": "execute_result"
    },
    {
     "data": {
      "image/png": "[encoded data removed]",
      "text/plain": [
       "<Figure size 720x504 with 2 Axes>"
      ]
     },
     "metadata": {},
     "output_type": "display_data"
    }
   ],
   "source": [
    "y_true = meta_pitt.Group\n",
    "y_pred = meta_pitt.predict_group\n",
    "data = confusion_matrix(y_true, y_pred)\n",
    "df_cm = pd.DataFrame(data, columns=np.unique(y_true), index = np.unique(y_true))\n",
    "df_cm.index.name = 'Actual'\n",
    "df_cm.columns.name = 'Predicted'\n",
    "plt.figure(figsize = (10,7))\n",
    "sn.set(font_scale=1.4)#for label size\n",
    "sn.heatmap(df_cm, cmap=\"Reds\", annot=True, annot_kws={\"size\": 16})# font size"
   ]
  },
  {
   "cell_type": "code",
   "execution_count": 300,
   "metadata": {},
   "outputs": [
    {
     "data": {
      "text/html": [
       "<div>\n",
       "<style scoped>\n",
       "    .dataframe tbody tr th:only-of-type {\n",
       "        vertical-align: middle;\n",
       "    }\n",
       "\n",
       "    .dataframe tbody tr th {\n",
       "        vertical-align: top;\n",
       "    }\n",
       "\n",
       "    .dataframe thead th {\n",
       "        text-align: right;\n",
       "    }\n",
       "</style>\n",
       "<table border=\"1\" class=\"dataframe\">\n",
       "  <thead>\n",
       "    <tr style=\"text-align: right;\">\n",
       "      <th>Predicted</th>\n",
       "      <th>Control</th>\n",
       "      <th>Dementia</th>\n",
       "    </tr>\n",
       "    <tr>\n",
       "      <th>Actual</th>\n",
       "      <th></th>\n",
       "      <th></th>\n",
       "    </tr>\n",
       "  </thead>\n",
       "  <tbody>\n",
       "    <tr>\n",
       "      <th>Control</th>\n",
       "      <td>128</td>\n",
       "      <td>115</td>\n",
       "    </tr>\n",
       "    <tr>\n",
       "      <th>Dementia</th>\n",
       "      <td>105</td>\n",
       "      <td>204</td>\n",
       "    </tr>\n",
       "  </tbody>\n",
       "</table>\n",
       "</div>"
      ],
      "text/plain": [
       "Predicted  Control  Dementia\n",
       "Actual                      \n",
       "Control        128       115\n",
       "Dementia       105       204"
      ]
     },
     "execution_count": 300,
     "metadata": {},
     "output_type": "execute_result"
    }
   ],
   "source": [
    "df_cm"
   ]
  },
  {
   "cell_type": "code",
   "execution_count": 301,
   "metadata": {},
   "outputs": [
    {
     "name": "stdout",
     "output_type": "stream",
     "text": [
      "              precision    recall  f1-score   support\n",
      "\n",
      "     Control       0.55      0.53      0.54       243\n",
      "    Dementia       0.64      0.66      0.65       309\n",
      "\n",
      "    accuracy                           0.60       552\n",
      "   macro avg       0.59      0.59      0.59       552\n",
      "weighted avg       0.60      0.60      0.60       552\n",
      "\n"
     ]
    }
   ],
   "source": [
    "print(classification_report(y_true, y_pred))"
   ]
  },
  {
   "cell_type": "code",
   "execution_count": 310,
   "metadata": {},
   "outputs": [
    {
     "data": {
      "image/png": "[encoded data removed]",
      "text/plain": [
       "<Figure size 1500x800 with 1 Axes>"
      ]
     },
     "metadata": {},
     "output_type": "display_data"
    },
    {
     "data": {
      "text/plain": [
       "<ggplot: (8780796494600)>"
      ]
     },
     "execution_count": 310,
     "metadata": {},
     "output_type": "execute_result"
    }
   ],
   "source": [
    "ggplot(meta_pitt) + \\\n",
    "geom_point(aes(x = 'MMSE', y = 'predict', colour = 'Group')) + \\\n",
    "geom_hline(aes(yintercept = 24, lty = 2)) + \\\n",
    "geom_vline(aes(xintercept = 20, lty = 2)) + \\\n",
    "theme(figure_size = (15, 8))"
   ]
  },
  {
   "cell_type": "code",
   "execution_count": null,
   "metadata": {},
   "outputs": [],
   "source": []
  }
 ],
 "metadata": {
  "kernelspec": {
   "display_name": "Python 3",
   "language": "python",
   "name": "python3"
  },
  "language_info": {
   "codemirror_mode": {
    "name": "ipython",
    "version": 3
   },
   "file_extension": ".py",
   "mimetype": "text/x-python",
   "name": "python",
   "nbconvert_exporter": "python",
   "pygments_lexer": "ipython3",
   "version": "3.6.9"
  }
 },
 "nbformat": 4,
 "nbformat_minor": 4
}
