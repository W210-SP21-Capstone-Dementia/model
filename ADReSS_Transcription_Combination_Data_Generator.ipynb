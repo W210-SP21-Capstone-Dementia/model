{
  "nbformat": 4,
  "nbformat_minor": 0,
  "metadata": {
    "kernelspec": {
      "display_name": "Python 3",
      "language": "python",
      "name": "python3"
    },
    "language_info": {
      "codemirror_mode": {
        "name": "ipython",
        "version": 3
      },
      "file_extension": ".py",
      "mimetype": "text/x-python",
      "name": "python",
      "nbconvert_exporter": "python",
      "pygments_lexer": "ipython3",
      "version": "3.6.9"
    },
    "colab": {
      "name": "ADReSS Transcription Combination Data Generator.ipynb",
      "provenance": [],
      "collapsed_sections": [],
      "machine_shape": "hm"
    }
  },
  "cells": [
    {
      "cell_type": "code",
      "metadata": {
        "colab": {
          "base_uri": "https://localhost:8080/"
        },
        "id": "NUtZDYs87V-R",
        "outputId": "d9346e87-8e90-4cd9-e810-d6af00ffe1e1"
      },
      "source": [
        "! python3 -m pip install --upgrade pip\n",
        "! python3 -m pip install --upgrade pylangacq"
      ],
      "execution_count": 54,
      "outputs": [
        {
          "output_type": "stream",
          "text": [
            "Requirement already satisfied: pip in /usr/local/lib/python3.7/dist-packages (21.0.1)\n",
            "Requirement already satisfied: pylangacq in /usr/local/lib/python3.7/dist-packages (0.13.1)\n",
            "Requirement already satisfied: python-dateutil<=3.0.0,>=2.0.0 in /usr/local/lib/python3.7/dist-packages (from pylangacq) (2.8.1)\n",
            "Requirement already satisfied: requests<=3.0.0,>=2.18.0 in /usr/local/lib/python3.7/dist-packages (from pylangacq) (2.23.0)\n",
            "Requirement already satisfied: six>=1.5 in /usr/local/lib/python3.7/dist-packages (from python-dateutil<=3.0.0,>=2.0.0->pylangacq) (1.15.0)\n",
            "Requirement already satisfied: chardet<4,>=3.0.2 in /usr/local/lib/python3.7/dist-packages (from requests<=3.0.0,>=2.18.0->pylangacq) (3.0.4)\n",
            "Requirement already satisfied: certifi>=2017.4.17 in /usr/local/lib/python3.7/dist-packages (from requests<=3.0.0,>=2.18.0->pylangacq) (2020.12.5)\n",
            "Requirement already satisfied: urllib3!=1.25.0,!=1.25.1,<1.26,>=1.21.1 in /usr/local/lib/python3.7/dist-packages (from requests<=3.0.0,>=2.18.0->pylangacq) (1.24.3)\n",
            "Requirement already satisfied: idna<3,>=2.5 in /usr/local/lib/python3.7/dist-packages (from requests<=3.0.0,>=2.18.0->pylangacq) (2.10)\n"
          ],
          "name": "stdout"
        }
      ]
    },
    {
      "cell_type": "code",
      "metadata": {
        "id": "7AIUCb9L7V-a"
      },
      "source": [
        "\n",
        "# Python packages\n",
        "import io\n",
        "import os\n",
        "import pandas as pd\n",
        "import random\n",
        "from os import listdir\n",
        "from os.path import isfile, join\n",
        "from os import path\n",
        "\n",
        "# Cloud storage\n",
        "from google.cloud import storage\n",
        "\n",
        "# .cha file reader\n",
        "import pylangacq"
      ],
      "execution_count": 55,
      "outputs": []
    },
    {
      "cell_type": "code",
      "metadata": {
        "colab": {
          "base_uri": "https://localhost:8080/"
        },
        "id": "VIOZu3Yp7yoV",
        "outputId": "44d83d36-a9a1-480f-f87b-963b782c1c96"
      },
      "source": [
        "from google.colab import drive\n",
        "drive.mount('/content/drive')"
      ],
      "execution_count": 56,
      "outputs": [
        {
          "output_type": "stream",
          "text": [
            "Drive already mounted at /content/drive; to attempt to forcibly remount, call drive.mount(\"/content/drive\", force_remount=True).\n"
          ],
          "name": "stdout"
        }
      ]
    },
    {
      "cell_type": "code",
      "metadata": {
        "id": "E4LBmqHeyPx8"
      },
      "source": [
        "data_path = '/content/drive/My Drive/Berkeley/W210/Capstone/ADReSS-IS2020-data/train'\n",
        "text_path_cc = data_path + '/transcription/cc/'"
      ],
      "execution_count": 57,
      "outputs": []
    },
    {
      "cell_type": "markdown",
      "metadata": {
        "id": "MtdXwvQzlW4f"
      },
      "source": [
        "## Define all the file path variables"
      ]
    },
    {
      "cell_type": "code",
      "metadata": {
        "id": "D82fPasS7V-b"
      },
      "source": [
        "# TODO make an input from user\n",
        "# data_path = '/tf/dementia/0extra/ADReSS-IS2020-train/ADReSS-IS2020-data/train'\n",
        "data_path = '/content/drive/My Drive/Berkeley/W210/Capstone/ADReSS-IS2020-data/train'\n",
        "\n",
        "audio_path_cc = data_path + '/Full_wave_enhanced_audio/cc/'\n",
        "audio_path_cd = data_path + '/Full_wave_enhanced_audio/cd/'\n",
        "\n",
        "\n",
        "text_path_cc = data_path + '/transcription/cc/'\n",
        "text_path_cd = data_path + '/transcription/cd/'\n",
        "\n",
        "lang_ = 'en-US'\n",
        "\n"
      ],
      "execution_count": 58,
      "outputs": []
    },
    {
      "cell_type": "markdown",
      "metadata": {
        "id": "C2sLAkE-lD8k"
      },
      "source": [
        "## Convert .cha transcriptions to text file by selecting only the participants part of the text"
      ]
    },
    {
      "cell_type": "code",
      "metadata": {
        "colab": {
          "base_uri": "https://localhost:8080/",
          "height": 204
        },
        "id": "oYaIEaxokvx7",
        "outputId": "84b27982-cef0-4f9c-c61f-15cec6ba0ddb"
      },
      "source": [
        "def convertChaToTextFormat(input_file_dir, output_file_dir, combination_count = 1):\n",
        "  df_id_txt = pd.DataFrame(columns=['ID', 'TEXT'])\n",
        "\n",
        "  # If the output directory doesn't exists, create one\n",
        "  if not os.path.exists(output_file_dir):\n",
        "      os.makedirs(output_file_dir)    \n",
        "\n",
        "  onlyfiles = [f for f in sorted(listdir(input_file_dir)) if isfile(join(input_file_dir, f))]\n",
        "  # print(len(onlyfiles))\n",
        "\n",
        "  for filename in onlyfiles:\n",
        "    file_path = input_file_dir + \"/\" + filename\n",
        "    # print(file_path)\n",
        "    reader = pylangacq.read_chat(file_path)\n",
        "    reader.participants()\n",
        "    sentence_words = reader.words(participants=\"PAR\", by_utterances=True)\n",
        "    file_name_prefix = filename.partition('.')[0]\n",
        "\n",
        "    max_combination_count = combination_count\n",
        "    if len(sentence_words) < max_combination_count:\n",
        "      max_combination_count = len(sentence_words)\n",
        "\n",
        "    # create combinations of sentences using random shuffling of the list\n",
        "    for count in range(0, max_combination_count):\n",
        "      random.shuffle(sentence_words)\n",
        "      final_text = ''\n",
        "      for sentence in sentence_words:\n",
        "        for word in sentence:\n",
        "          final_text = final_text + ' ' + word\n",
        "\n",
        "      final_text_modified = final_text.replace(\". and\", \"and\")\n",
        "      final_text_modified = final_text_modified.replace(\" . \", \".\")\n",
        "\n",
        "      output_text_file = file_name_prefix + \"_\" + str(count) + \".txt\"\n",
        "      output_text_file_path = output_file_dir + output_text_file\n",
        "      fh = open(output_text_file_path, \"w+\") \n",
        "      fh.write(final_text)\n",
        "      df_id_txt.loc[len(df_id_txt.index)] = [file_name_prefix, final_text]\n",
        "\n",
        "  return df_id_txt\n",
        "\n",
        "df_id_txt_cc = convertChaToTextFormat(text_path_cc, data_path + \"/transcription_shuffled_text/\", combination_count=20)\n",
        "df_id_txt_cd = convertChaToTextFormat(text_path_cd, data_path + \"/transcription_shuffled_text/\", combination_count=20)\n",
        "df_id_txt = pd.DataFrame()\n",
        "df_id_txt = df_id_txt.append(df_id_txt_cc)\n",
        "df_id_txt = df_id_txt.append(df_id_txt_cd)\n",
        "df_id_txt = df_id_txt[[\"ID\", \"TEXT\"]]\n",
        "df_id_txt = df_id_txt.reset_index()\n",
        "\n",
        "df_id_txt.tail()\n"
      ],
      "execution_count": 59,
      "outputs": [
        {
          "output_type": "execute_result",
          "data": {
            "text/html": [
              "<div>\n",
              "<style scoped>\n",
              "    .dataframe tbody tr th:only-of-type {\n",
              "        vertical-align: middle;\n",
              "    }\n",
              "\n",
              "    .dataframe tbody tr th {\n",
              "        vertical-align: top;\n",
              "    }\n",
              "\n",
              "    .dataframe thead th {\n",
              "        text-align: right;\n",
              "    }\n",
              "</style>\n",
              "<table border=\"1\" class=\"dataframe\">\n",
              "  <thead>\n",
              "    <tr style=\"text-align: right;\">\n",
              "      <th></th>\n",
              "      <th>index</th>\n",
              "      <th>ID</th>\n",
              "      <th>TEXT</th>\n",
              "    </tr>\n",
              "  </thead>\n",
              "  <tbody>\n",
              "    <tr>\n",
              "      <th>1395</th>\n",
              "      <td>677</td>\n",
              "      <td>S156</td>\n",
              "      <td>and over here must be the mother . I don't kn...</td>\n",
              "    </tr>\n",
              "    <tr>\n",
              "      <th>1396</th>\n",
              "      <td>678</td>\n",
              "      <td>S156</td>\n",
              "      <td>this boy tried to get in the cookie jar . wha...</td>\n",
              "    </tr>\n",
              "    <tr>\n",
              "      <th>1397</th>\n",
              "      <td>679</td>\n",
              "      <td>S156</td>\n",
              "      <td>and she tried to climb the ... she was doing ...</td>\n",
              "    </tr>\n",
              "    <tr>\n",
              "      <th>1398</th>\n",
              "      <td>680</td>\n",
              "      <td>S156</td>\n",
              "      <td>well this one is in the cookie jar . what's g...</td>\n",
              "    </tr>\n",
              "    <tr>\n",
              "      <th>1399</th>\n",
              "      <td>681</td>\n",
              "      <td>S156</td>\n",
              "      <td>and over here must be the mother . what's goi...</td>\n",
              "    </tr>\n",
              "  </tbody>\n",
              "</table>\n",
              "</div>"
            ],
            "text/plain": [
              "      index    ID                                               TEXT\n",
              "1395    677  S156   and over here must be the mother . I don't kn...\n",
              "1396    678  S156   this boy tried to get in the cookie jar . wha...\n",
              "1397    679  S156   and she tried to climb the ... she was doing ...\n",
              "1398    680  S156   well this one is in the cookie jar . what's g...\n",
              "1399    681  S156   and over here must be the mother . what's goi..."
            ]
          },
          "metadata": {
            "tags": []
          },
          "execution_count": 59
        }
      ]
    },
    {
      "cell_type": "markdown",
      "metadata": {
        "id": "S7pDqEm27V-a"
      },
      "source": [
        "# Merge meta data to txt data by ID and update the MMSE score"
      ]
    },
    {
      "cell_type": "code",
      "metadata": {
        "colab": {
          "base_uri": "https://localhost:8080/",
          "height": 419
        },
        "id": "HZFhldPJ7V-b",
        "outputId": "d572d336-d7b4-412a-a449-7a2d1a7d1baf"
      },
      "source": [
        "meta_cc = pd.read_csv(data_path + '/cc_meta_data.txt', sep=\";\", header=0, \n",
        "                      names = ['ID', 'Age', 'Gender', 'MMSE'])\n",
        "meta_cd = pd.read_csv(data_path + '/cd_meta_data.txt', sep=\";\", header=0, \n",
        "                      names = ['ID', 'Age', 'Gender', 'MMSE'])\n",
        "\n",
        "meta = meta_cc.assign(Group = 'cc').append(meta_cd.assign(Group = 'cd')).reset_index()\n",
        "\n",
        "meta['ID'] = meta['ID'].str.strip()\n",
        "\n",
        "meta"
      ],
      "execution_count": 60,
      "outputs": [
        {
          "output_type": "execute_result",
          "data": {
            "text/html": [
              "<div>\n",
              "<style scoped>\n",
              "    .dataframe tbody tr th:only-of-type {\n",
              "        vertical-align: middle;\n",
              "    }\n",
              "\n",
              "    .dataframe tbody tr th {\n",
              "        vertical-align: top;\n",
              "    }\n",
              "\n",
              "    .dataframe thead th {\n",
              "        text-align: right;\n",
              "    }\n",
              "</style>\n",
              "<table border=\"1\" class=\"dataframe\">\n",
              "  <thead>\n",
              "    <tr style=\"text-align: right;\">\n",
              "      <th></th>\n",
              "      <th>index</th>\n",
              "      <th>ID</th>\n",
              "      <th>Age</th>\n",
              "      <th>Gender</th>\n",
              "      <th>MMSE</th>\n",
              "      <th>Group</th>\n",
              "    </tr>\n",
              "  </thead>\n",
              "  <tbody>\n",
              "    <tr>\n",
              "      <th>0</th>\n",
              "      <td>0</td>\n",
              "      <td>S001</td>\n",
              "      <td>74</td>\n",
              "      <td>male</td>\n",
              "      <td>NA</td>\n",
              "      <td>cc</td>\n",
              "    </tr>\n",
              "    <tr>\n",
              "      <th>1</th>\n",
              "      <td>1</td>\n",
              "      <td>S002</td>\n",
              "      <td>62</td>\n",
              "      <td>female</td>\n",
              "      <td>30</td>\n",
              "      <td>cc</td>\n",
              "    </tr>\n",
              "    <tr>\n",
              "      <th>2</th>\n",
              "      <td>2</td>\n",
              "      <td>S003</td>\n",
              "      <td>69</td>\n",
              "      <td>female</td>\n",
              "      <td>29</td>\n",
              "      <td>cc</td>\n",
              "    </tr>\n",
              "    <tr>\n",
              "      <th>3</th>\n",
              "      <td>3</td>\n",
              "      <td>S004</td>\n",
              "      <td>71</td>\n",
              "      <td>female</td>\n",
              "      <td>30</td>\n",
              "      <td>cc</td>\n",
              "    </tr>\n",
              "    <tr>\n",
              "      <th>4</th>\n",
              "      <td>4</td>\n",
              "      <td>S005</td>\n",
              "      <td>74</td>\n",
              "      <td>female</td>\n",
              "      <td>30</td>\n",
              "      <td>cc</td>\n",
              "    </tr>\n",
              "    <tr>\n",
              "      <th>...</th>\n",
              "      <td>...</td>\n",
              "      <td>...</td>\n",
              "      <td>...</td>\n",
              "      <td>...</td>\n",
              "      <td>...</td>\n",
              "      <td>...</td>\n",
              "    </tr>\n",
              "    <tr>\n",
              "      <th>103</th>\n",
              "      <td>49</td>\n",
              "      <td>S150</td>\n",
              "      <td>58</td>\n",
              "      <td>male</td>\n",
              "      <td>20</td>\n",
              "      <td>cd</td>\n",
              "    </tr>\n",
              "    <tr>\n",
              "      <th>104</th>\n",
              "      <td>50</td>\n",
              "      <td>S151</td>\n",
              "      <td>72</td>\n",
              "      <td>male</td>\n",
              "      <td>24</td>\n",
              "      <td>cd</td>\n",
              "    </tr>\n",
              "    <tr>\n",
              "      <th>105</th>\n",
              "      <td>51</td>\n",
              "      <td>S153</td>\n",
              "      <td>68</td>\n",
              "      <td>female</td>\n",
              "      <td>12</td>\n",
              "      <td>cd</td>\n",
              "    </tr>\n",
              "    <tr>\n",
              "      <th>106</th>\n",
              "      <td>52</td>\n",
              "      <td>S154</td>\n",
              "      <td>65</td>\n",
              "      <td>female</td>\n",
              "      <td>20</td>\n",
              "      <td>cd</td>\n",
              "    </tr>\n",
              "    <tr>\n",
              "      <th>107</th>\n",
              "      <td>53</td>\n",
              "      <td>S156</td>\n",
              "      <td>71</td>\n",
              "      <td>female</td>\n",
              "      <td>13</td>\n",
              "      <td>cd</td>\n",
              "    </tr>\n",
              "  </tbody>\n",
              "</table>\n",
              "<p>108 rows × 6 columns</p>\n",
              "</div>"
            ],
            "text/plain": [
              "     index    ID  Age    Gender MMSE Group\n",
              "0        0  S001   74     male    NA    cc\n",
              "1        1  S002   62   female    30    cc\n",
              "2        2  S003   69   female    29    cc\n",
              "3        3  S004   71   female    30    cc\n",
              "4        4  S005   74   female    30    cc\n",
              "..     ...   ...  ...       ...  ...   ...\n",
              "103     49  S150   58     male    20    cd\n",
              "104     50  S151   72     male    24    cd\n",
              "105     51  S153   68   female    12    cd\n",
              "106     52  S154   65   female    20    cd\n",
              "107     53  S156   71   female    13    cd\n",
              "\n",
              "[108 rows x 6 columns]"
            ]
          },
          "metadata": {
            "tags": []
          },
          "execution_count": 60
        }
      ]
    },
    {
      "cell_type": "code",
      "metadata": {
        "id": "RJSdZE7-7V-c"
      },
      "source": [
        "sum(meta.MMSE == ' NA')\n",
        "meta.MMSE = pd.to_numeric(meta.MMSE.replace(' NA', 30))"
      ],
      "execution_count": 61,
      "outputs": []
    },
    {
      "cell_type": "code",
      "metadata": {
        "colab": {
          "base_uri": "https://localhost:8080/",
          "height": 419
        },
        "id": "AdTtqcO37V-f",
        "outputId": "4e88c1e7-1f1a-45e8-9db3-53543950db82"
      },
      "source": [
        "merged_data = pd.merge(meta, df_id_txt, on = \"ID\", how = \"inner\")\n",
        "merged_data"
      ],
      "execution_count": 62,
      "outputs": [
        {
          "output_type": "execute_result",
          "data": {
            "text/html": [
              "<div>\n",
              "<style scoped>\n",
              "    .dataframe tbody tr th:only-of-type {\n",
              "        vertical-align: middle;\n",
              "    }\n",
              "\n",
              "    .dataframe tbody tr th {\n",
              "        vertical-align: top;\n",
              "    }\n",
              "\n",
              "    .dataframe thead th {\n",
              "        text-align: right;\n",
              "    }\n",
              "</style>\n",
              "<table border=\"1\" class=\"dataframe\">\n",
              "  <thead>\n",
              "    <tr style=\"text-align: right;\">\n",
              "      <th></th>\n",
              "      <th>index_x</th>\n",
              "      <th>ID</th>\n",
              "      <th>Age</th>\n",
              "      <th>Gender</th>\n",
              "      <th>MMSE</th>\n",
              "      <th>Group</th>\n",
              "      <th>index_y</th>\n",
              "      <th>TEXT</th>\n",
              "    </tr>\n",
              "  </thead>\n",
              "  <tbody>\n",
              "    <tr>\n",
              "      <th>0</th>\n",
              "      <td>0</td>\n",
              "      <td>S001</td>\n",
              "      <td>74</td>\n",
              "      <td>male</td>\n",
              "      <td>30</td>\n",
              "      <td>cc</td>\n",
              "      <td>0</td>\n",
              "      <td>she seems to be oblivious to the fact that th...</td>\n",
              "    </tr>\n",
              "    <tr>\n",
              "      <th>1</th>\n",
              "      <td>0</td>\n",
              "      <td>S001</td>\n",
              "      <td>74</td>\n",
              "      <td>male</td>\n",
              "      <td>30</td>\n",
              "      <td>cc</td>\n",
              "      <td>1</td>\n",
              "      <td>he's standing up there in the cupboard taking...</td>\n",
              "    </tr>\n",
              "    <tr>\n",
              "      <th>2</th>\n",
              "      <td>0</td>\n",
              "      <td>S001</td>\n",
              "      <td>74</td>\n",
              "      <td>male</td>\n",
              "      <td>30</td>\n",
              "      <td>cc</td>\n",
              "      <td>2</td>\n",
              "      <td>and the kid on the stool is gonna fall off th...</td>\n",
              "    </tr>\n",
              "    <tr>\n",
              "      <th>3</th>\n",
              "      <td>0</td>\n",
              "      <td>S001</td>\n",
              "      <td>74</td>\n",
              "      <td>male</td>\n",
              "      <td>30</td>\n",
              "      <td>cc</td>\n",
              "      <td>3</td>\n",
              "      <td>the kids are somewhere around seven or eight ...</td>\n",
              "    </tr>\n",
              "    <tr>\n",
              "      <th>4</th>\n",
              "      <td>0</td>\n",
              "      <td>S001</td>\n",
              "      <td>74</td>\n",
              "      <td>male</td>\n",
              "      <td>30</td>\n",
              "      <td>cc</td>\n",
              "      <td>4</td>\n",
              "      <td>looks like a garage or something with curtain...</td>\n",
              "    </tr>\n",
              "    <tr>\n",
              "      <th>...</th>\n",
              "      <td>...</td>\n",
              "      <td>...</td>\n",
              "      <td>...</td>\n",
              "      <td>...</td>\n",
              "      <td>...</td>\n",
              "      <td>...</td>\n",
              "      <td>...</td>\n",
              "      <td>...</td>\n",
              "    </tr>\n",
              "    <tr>\n",
              "      <th>1395</th>\n",
              "      <td>53</td>\n",
              "      <td>S156</td>\n",
              "      <td>71</td>\n",
              "      <td>female</td>\n",
              "      <td>13</td>\n",
              "      <td>cd</td>\n",
              "      <td>677</td>\n",
              "      <td>and over here must be the mother . I don't kn...</td>\n",
              "    </tr>\n",
              "    <tr>\n",
              "      <th>1396</th>\n",
              "      <td>53</td>\n",
              "      <td>S156</td>\n",
              "      <td>71</td>\n",
              "      <td>female</td>\n",
              "      <td>13</td>\n",
              "      <td>cd</td>\n",
              "      <td>678</td>\n",
              "      <td>this boy tried to get in the cookie jar . wha...</td>\n",
              "    </tr>\n",
              "    <tr>\n",
              "      <th>1397</th>\n",
              "      <td>53</td>\n",
              "      <td>S156</td>\n",
              "      <td>71</td>\n",
              "      <td>female</td>\n",
              "      <td>13</td>\n",
              "      <td>cd</td>\n",
              "      <td>679</td>\n",
              "      <td>and she tried to climb the ... she was doing ...</td>\n",
              "    </tr>\n",
              "    <tr>\n",
              "      <th>1398</th>\n",
              "      <td>53</td>\n",
              "      <td>S156</td>\n",
              "      <td>71</td>\n",
              "      <td>female</td>\n",
              "      <td>13</td>\n",
              "      <td>cd</td>\n",
              "      <td>680</td>\n",
              "      <td>well this one is in the cookie jar . what's g...</td>\n",
              "    </tr>\n",
              "    <tr>\n",
              "      <th>1399</th>\n",
              "      <td>53</td>\n",
              "      <td>S156</td>\n",
              "      <td>71</td>\n",
              "      <td>female</td>\n",
              "      <td>13</td>\n",
              "      <td>cd</td>\n",
              "      <td>681</td>\n",
              "      <td>and over here must be the mother . what's goi...</td>\n",
              "    </tr>\n",
              "  </tbody>\n",
              "</table>\n",
              "<p>1400 rows × 8 columns</p>\n",
              "</div>"
            ],
            "text/plain": [
              "      index_x    ID  ...  index_y                                               TEXT\n",
              "0           0  S001  ...        0   she seems to be oblivious to the fact that th...\n",
              "1           0  S001  ...        1   he's standing up there in the cupboard taking...\n",
              "2           0  S001  ...        2   and the kid on the stool is gonna fall off th...\n",
              "3           0  S001  ...        3   the kids are somewhere around seven or eight ...\n",
              "4           0  S001  ...        4   looks like a garage or something with curtain...\n",
              "...       ...   ...  ...      ...                                                ...\n",
              "1395       53  S156  ...      677   and over here must be the mother . I don't kn...\n",
              "1396       53  S156  ...      678   this boy tried to get in the cookie jar . wha...\n",
              "1397       53  S156  ...      679   and she tried to climb the ... she was doing ...\n",
              "1398       53  S156  ...      680   well this one is in the cookie jar . what's g...\n",
              "1399       53  S156  ...      681   and over here must be the mother . what's goi...\n",
              "\n",
              "[1400 rows x 8 columns]"
            ]
          },
          "metadata": {
            "tags": []
          },
          "execution_count": 62
        }
      ]
    },
    {
      "cell_type": "code",
      "metadata": {
        "colab": {
          "base_uri": "https://localhost:8080/",
          "height": 419
        },
        "id": "SY7IeOIt7B7_",
        "outputId": "336de366-e4e1-49c3-8316-73edc3d4c609"
      },
      "source": [
        "\n",
        "filtered_merged_data = merged_data[merged_data['TEXT'].apply(lambda x: len(x) > 0)]\n",
        "filtered_merged_data = filtered_merged_data[[\"ID\", \"TEXT\", \"MMSE\"]]\n",
        "filtered_merged_data\n"
      ],
      "execution_count": 63,
      "outputs": [
        {
          "output_type": "execute_result",
          "data": {
            "text/html": [
              "<div>\n",
              "<style scoped>\n",
              "    .dataframe tbody tr th:only-of-type {\n",
              "        vertical-align: middle;\n",
              "    }\n",
              "\n",
              "    .dataframe tbody tr th {\n",
              "        vertical-align: top;\n",
              "    }\n",
              "\n",
              "    .dataframe thead th {\n",
              "        text-align: right;\n",
              "    }\n",
              "</style>\n",
              "<table border=\"1\" class=\"dataframe\">\n",
              "  <thead>\n",
              "    <tr style=\"text-align: right;\">\n",
              "      <th></th>\n",
              "      <th>ID</th>\n",
              "      <th>TEXT</th>\n",
              "      <th>MMSE</th>\n",
              "    </tr>\n",
              "  </thead>\n",
              "  <tbody>\n",
              "    <tr>\n",
              "      <th>0</th>\n",
              "      <td>S001</td>\n",
              "      <td>she seems to be oblivious to the fact that th...</td>\n",
              "      <td>30</td>\n",
              "    </tr>\n",
              "    <tr>\n",
              "      <th>1</th>\n",
              "      <td>S001</td>\n",
              "      <td>he's standing up there in the cupboard taking...</td>\n",
              "      <td>30</td>\n",
              "    </tr>\n",
              "    <tr>\n",
              "      <th>2</th>\n",
              "      <td>S001</td>\n",
              "      <td>and the kid on the stool is gonna fall off th...</td>\n",
              "      <td>30</td>\n",
              "    </tr>\n",
              "    <tr>\n",
              "      <th>3</th>\n",
              "      <td>S001</td>\n",
              "      <td>the kids are somewhere around seven or eight ...</td>\n",
              "      <td>30</td>\n",
              "    </tr>\n",
              "    <tr>\n",
              "      <th>4</th>\n",
              "      <td>S001</td>\n",
              "      <td>looks like a garage or something with curtain...</td>\n",
              "      <td>30</td>\n",
              "    </tr>\n",
              "    <tr>\n",
              "      <th>...</th>\n",
              "      <td>...</td>\n",
              "      <td>...</td>\n",
              "      <td>...</td>\n",
              "    </tr>\n",
              "    <tr>\n",
              "      <th>1395</th>\n",
              "      <td>S156</td>\n",
              "      <td>and over here must be the mother . I don't kn...</td>\n",
              "      <td>13</td>\n",
              "    </tr>\n",
              "    <tr>\n",
              "      <th>1396</th>\n",
              "      <td>S156</td>\n",
              "      <td>this boy tried to get in the cookie jar . wha...</td>\n",
              "      <td>13</td>\n",
              "    </tr>\n",
              "    <tr>\n",
              "      <th>1397</th>\n",
              "      <td>S156</td>\n",
              "      <td>and she tried to climb the ... she was doing ...</td>\n",
              "      <td>13</td>\n",
              "    </tr>\n",
              "    <tr>\n",
              "      <th>1398</th>\n",
              "      <td>S156</td>\n",
              "      <td>well this one is in the cookie jar . what's g...</td>\n",
              "      <td>13</td>\n",
              "    </tr>\n",
              "    <tr>\n",
              "      <th>1399</th>\n",
              "      <td>S156</td>\n",
              "      <td>and over here must be the mother . what's goi...</td>\n",
              "      <td>13</td>\n",
              "    </tr>\n",
              "  </tbody>\n",
              "</table>\n",
              "<p>1400 rows × 3 columns</p>\n",
              "</div>"
            ],
            "text/plain": [
              "        ID                                               TEXT  MMSE\n",
              "0     S001   she seems to be oblivious to the fact that th...    30\n",
              "1     S001   he's standing up there in the cupboard taking...    30\n",
              "2     S001   and the kid on the stool is gonna fall off th...    30\n",
              "3     S001   the kids are somewhere around seven or eight ...    30\n",
              "4     S001   looks like a garage or something with curtain...    30\n",
              "...    ...                                                ...   ...\n",
              "1395  S156   and over here must be the mother . I don't kn...    13\n",
              "1396  S156   this boy tried to get in the cookie jar . wha...    13\n",
              "1397  S156   and she tried to climb the ... she was doing ...    13\n",
              "1398  S156   well this one is in the cookie jar . what's g...    13\n",
              "1399  S156   and over here must be the mother . what's goi...    13\n",
              "\n",
              "[1400 rows x 3 columns]"
            ]
          },
          "metadata": {
            "tags": []
          },
          "execution_count": 63
        }
      ]
    },
    {
      "cell_type": "code",
      "metadata": {
        "id": "_0n8YZ9IJiaP"
      },
      "source": [
        "transcription_combination_txt_file_path = data_path + \"/transcription_shuffled_text/\" + \"transcription_combination_id_txt_mmse.csv\""
      ],
      "execution_count": 64,
      "outputs": []
    },
    {
      "cell_type": "code",
      "metadata": {
        "id": "zvLiFHdTJJLQ"
      },
      "source": [
        "filtered_merged_data.to_csv(transcription_combination_txt_file_path)"
      ],
      "execution_count": 65,
      "outputs": []
    },
    {
      "cell_type": "code",
      "metadata": {
        "colab": {
          "base_uri": "https://localhost:8080/",
          "height": 204
        },
        "id": "srTOAE4lJXlL",
        "outputId": "eb5a265d-421c-49fd-df6f-91600df31ba3"
      },
      "source": [
        "filtered_merged_data = pd.read_csv(transcription_combination_txt_file_path)\n",
        "filtered_merged_data.tail()"
      ],
      "execution_count": 66,
      "outputs": [
        {
          "output_type": "execute_result",
          "data": {
            "text/html": [
              "<div>\n",
              "<style scoped>\n",
              "    .dataframe tbody tr th:only-of-type {\n",
              "        vertical-align: middle;\n",
              "    }\n",
              "\n",
              "    .dataframe tbody tr th {\n",
              "        vertical-align: top;\n",
              "    }\n",
              "\n",
              "    .dataframe thead th {\n",
              "        text-align: right;\n",
              "    }\n",
              "</style>\n",
              "<table border=\"1\" class=\"dataframe\">\n",
              "  <thead>\n",
              "    <tr style=\"text-align: right;\">\n",
              "      <th></th>\n",
              "      <th>Unnamed: 0</th>\n",
              "      <th>ID</th>\n",
              "      <th>TEXT</th>\n",
              "      <th>MMSE</th>\n",
              "    </tr>\n",
              "  </thead>\n",
              "  <tbody>\n",
              "    <tr>\n",
              "      <th>1395</th>\n",
              "      <td>1395</td>\n",
              "      <td>S156</td>\n",
              "      <td>and over here must be the mother . I don't kn...</td>\n",
              "      <td>13</td>\n",
              "    </tr>\n",
              "    <tr>\n",
              "      <th>1396</th>\n",
              "      <td>1396</td>\n",
              "      <td>S156</td>\n",
              "      <td>this boy tried to get in the cookie jar . wha...</td>\n",
              "      <td>13</td>\n",
              "    </tr>\n",
              "    <tr>\n",
              "      <th>1397</th>\n",
              "      <td>1397</td>\n",
              "      <td>S156</td>\n",
              "      <td>and she tried to climb the ... she was doing ...</td>\n",
              "      <td>13</td>\n",
              "    </tr>\n",
              "    <tr>\n",
              "      <th>1398</th>\n",
              "      <td>1398</td>\n",
              "      <td>S156</td>\n",
              "      <td>well this one is in the cookie jar . what's g...</td>\n",
              "      <td>13</td>\n",
              "    </tr>\n",
              "    <tr>\n",
              "      <th>1399</th>\n",
              "      <td>1399</td>\n",
              "      <td>S156</td>\n",
              "      <td>and over here must be the mother . what's goi...</td>\n",
              "      <td>13</td>\n",
              "    </tr>\n",
              "  </tbody>\n",
              "</table>\n",
              "</div>"
            ],
            "text/plain": [
              "      Unnamed: 0    ID                                               TEXT  MMSE\n",
              "1395        1395  S156   and over here must be the mother . I don't kn...    13\n",
              "1396        1396  S156   this boy tried to get in the cookie jar . wha...    13\n",
              "1397        1397  S156   and she tried to climb the ... she was doing ...    13\n",
              "1398        1398  S156   well this one is in the cookie jar . what's g...    13\n",
              "1399        1399  S156   and over here must be the mother . what's goi...    13"
            ]
          },
          "metadata": {
            "tags": []
          },
          "execution_count": 66
        }
      ]
    },
    {
      "cell_type": "code",
      "metadata": {
        "id": "LX4W41_RL3iF"
      },
      "source": [
        ""
      ],
      "execution_count": null,
      "outputs": []
    }
  ]
}