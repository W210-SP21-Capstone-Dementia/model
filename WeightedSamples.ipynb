{
 "cells": [
  {
   "cell_type": "code",
   "execution_count": 1,
   "metadata": {},
   "outputs": [],
   "source": [
    "import librosa\n",
    "import librosa.display\n",
    "import tensorflow as tf\n",
    "import kapre\n",
    "%matplotlib inline\n",
    "import matplotlib.pyplot as plt\n",
    "import IPython.display as ipd\n",
    "import pandas as pd\n",
    "import numpy as np\n",
    "import pathlib\n",
    "import os\n",
    "import glob\n",
    "import random\n",
    "import math \n",
    "import soundfile as sf\n",
    "import librosa \n",
    "from plotnine import *\n",
    "from sklearn.metrics import confusion_matrix, mean_squared_error\n",
    "import seaborn as sn\n",
    "from sklearn.model_selection import GroupKFold, LeaveOneGroupOut\n",
    "from sklearn.utils import shuffle\n",
    "from tqdm.notebook import trange, tqdm\n",
    "import tensorflow.keras.backend as K"
   ]
  },
  {
   "cell_type": "code",
   "execution_count": 2,
   "metadata": {},
   "outputs": [],
   "source": [
    "from tensorflow.keras import layers\n",
    "from tensorflow.keras import models"
   ]
  },
  {
   "cell_type": "code",
   "execution_count": 3,
   "metadata": {},
   "outputs": [],
   "source": [
    "seed = 27\n",
    "tf.random.set_seed(seed)\n",
    "random.seed(seed)\n",
    "gpus = tf.config.list_physical_devices('GPU')\n",
    "\n",
    "## need this if training on GPU\n",
    "## tensorflow, get your shit together\n",
    "\n",
    "if len(gpus)>0:\n",
    "\n",
    "    from tensorflow.compat.v1 import ConfigProto\n",
    "    from tensorflow.compat.v1 import InteractiveSession\n",
    "\n",
    "    config = ConfigProto()\n",
    "    config.gpu_options.allow_growth = True\n",
    "    session = InteractiveSession(config=config)"
   ]
  },
  {
   "cell_type": "code",
   "execution_count": 4,
   "metadata": {},
   "outputs": [],
   "source": [
    "data_path = '/tf/data/ADReSS-IS2020'\n",
    "audio_path_cc = data_path + '/Full_wave_enhanced_audio/cc/'\n",
    "audio_path_cd = data_path + '/Full_wave_enhanced_audio/cd/'\n",
    "\n",
    "\n",
    "text_path_cc = data_path + '/transcription/cc/'\n",
    "text_path_cd = data_path + '/transcription/cd/'"
   ]
  },
  {
   "cell_type": "markdown",
   "metadata": {},
   "source": [
    "# Meta Data"
   ]
  },
  {
   "cell_type": "code",
   "execution_count": 5,
   "metadata": {},
   "outputs": [],
   "source": [
    "meta_cc = pd.read_csv(data_path + '/cc_meta_data.txt', sep=\";\", header=0, \n",
    "                      names = ['ID', 'Age', 'Gender', 'MMSE'])\n",
    "meta_cd = pd.read_csv(data_path + '/cd_meta_data.txt', sep=\";\", header=0, \n",
    "                      names = ['ID', 'Age', 'Gender', 'MMSE'])\n",
    "\n",
    "meta = meta_cc.assign(Group = 'cc').append(meta_cd.assign(Group = 'cd')).reset_index()\n",
    "meta.MMSE = pd.to_numeric(meta.MMSE.replace(' NA', 30))\n",
    "meta.ID = meta.ID.str.strip()"
   ]
  },
  {
   "cell_type": "code",
   "execution_count": 6,
   "metadata": {},
   "outputs": [
    {
     "data": {
      "text/html": [
       "<div>\n",
       "<style scoped>\n",
       "    .dataframe tbody tr th:only-of-type {\n",
       "        vertical-align: middle;\n",
       "    }\n",
       "\n",
       "    .dataframe tbody tr th {\n",
       "        vertical-align: top;\n",
       "    }\n",
       "\n",
       "    .dataframe thead th {\n",
       "        text-align: right;\n",
       "    }\n",
       "</style>\n",
       "<table border=\"1\" class=\"dataframe\">\n",
       "  <thead>\n",
       "    <tr style=\"text-align: right;\">\n",
       "      <th></th>\n",
       "      <th>index</th>\n",
       "      <th>ID</th>\n",
       "      <th>Age</th>\n",
       "      <th>Gender</th>\n",
       "      <th>MMSE</th>\n",
       "      <th>Group</th>\n",
       "    </tr>\n",
       "  </thead>\n",
       "  <tbody>\n",
       "    <tr>\n",
       "      <th>49</th>\n",
       "      <td>49</td>\n",
       "      <td>S071</td>\n",
       "      <td>74</td>\n",
       "      <td>male</td>\n",
       "      <td>29</td>\n",
       "      <td>cc</td>\n",
       "    </tr>\n",
       "    <tr>\n",
       "      <th>28</th>\n",
       "      <td>28</td>\n",
       "      <td>S036</td>\n",
       "      <td>73</td>\n",
       "      <td>male</td>\n",
       "      <td>28</td>\n",
       "      <td>cc</td>\n",
       "    </tr>\n",
       "    <tr>\n",
       "      <th>10</th>\n",
       "      <td>10</td>\n",
       "      <td>S013</td>\n",
       "      <td>57</td>\n",
       "      <td>male</td>\n",
       "      <td>30</td>\n",
       "      <td>cc</td>\n",
       "    </tr>\n",
       "    <tr>\n",
       "      <th>31</th>\n",
       "      <td>31</td>\n",
       "      <td>S040</td>\n",
       "      <td>66</td>\n",
       "      <td>female</td>\n",
       "      <td>30</td>\n",
       "      <td>cc</td>\n",
       "    </tr>\n",
       "    <tr>\n",
       "      <th>91</th>\n",
       "      <td>37</td>\n",
       "      <td>S136</td>\n",
       "      <td>79</td>\n",
       "      <td>male</td>\n",
       "      <td>23</td>\n",
       "      <td>cd</td>\n",
       "    </tr>\n",
       "  </tbody>\n",
       "</table>\n",
       "</div>"
      ],
      "text/plain": [
       "    index    ID  Age    Gender  MMSE Group\n",
       "49     49  S071   74     male     29    cc\n",
       "28     28  S036   73     male     28    cc\n",
       "10     10  S013   57     male     30    cc\n",
       "31     31  S040   66   female     30    cc\n",
       "91     37  S136   79     male     23    cd"
      ]
     },
     "execution_count": 6,
     "metadata": {},
     "output_type": "execute_result"
    }
   ],
   "source": [
    "meta.sample(5)"
   ]
  },
  {
   "cell_type": "markdown",
   "metadata": {},
   "source": [
    "# Baseline "
   ]
  },
  {
   "cell_type": "code",
   "execution_count": 7,
   "metadata": {},
   "outputs": [],
   "source": [
    "filenames = list(glob.glob('/tf/data/ADReSS-IS2020/Full_wave_enhanced_audio/*/*'))\n",
    "random.shuffle(filenames)"
   ]
  },
  {
   "cell_type": "code",
   "execution_count": 8,
   "metadata": {},
   "outputs": [],
   "source": [
    "def getMelSpectrogramSamples(filename, n_mels=128, fmin=20, fmax=8000):\n",
    "    y, sr = librosa.load(filename)\n",
    "\n",
    "    ps = librosa.feature.melspectrogram(y=y, sr=sr, n_mels=n_mels, fmin=fmin, fmax=fmax, power=2)\n",
    "    S_dB = librosa.power_to_db(ps, ref=np.max)\n",
    "    \n",
    "    #15 seconds\n",
    "    window_size = 640\n",
    "    window_hop = 160\n",
    "\n",
    "    # truncate at start and end to only have windows full data\n",
    "    # alternative would be to zero-pad\n",
    "    start_frame = window_size \n",
    "    end_frame = window_hop * math.floor(float(S_dB.shape[1]) / window_hop)\n",
    "\n",
    "    samples = np.array([S_dB[:, frame_idx-window_size:frame_idx] for frame_idx in range(start_frame, end_frame, window_hop)])\n",
    "    \n",
    "    return samples\n",
    "\n",
    "def getSpectrogramSamples(filename):\n",
    "    y, sr = librosa.load(filename)\n",
    "    S = np.abs(librosa.stft(y, n_fft=512))\n",
    "    S_dB = librosa.amplitude_to_db(S, ref=np.max)\n",
    "    \n",
    "    #15 seconds\n",
    "    window_size = 640\n",
    "    window_hop = 20\n",
    "\n",
    "    # truncate at start and end to only have windows full data\n",
    "    # alternative would be to zero-pad\n",
    "    start_frame = window_size \n",
    "    end_frame = window_hop * math.floor(float(S_dB.shape[1]) / window_hop)\n",
    "\n",
    "    samples = np.array([S_dB[:, frame_idx-window_size:frame_idx] for frame_idx in range(start_frame, end_frame, window_hop)])\n",
    "    \n",
    "    return samples"
   ]
  },
  {
   "cell_type": "code",
   "execution_count": 9,
   "metadata": {},
   "outputs": [
    {
     "data": {
      "application/vnd.jupyter.widget-view+json": {
       "model_id": "70b0cae920f4443e9db3f9e4a73424d2",
       "version_major": 2,
       "version_minor": 0
      },
      "text/plain": [
       "HBox(children=(FloatProgress(value=0.0, max=108.0), HTML(value='')))"
      ]
     },
     "metadata": {},
     "output_type": "display_data"
    },
    {
     "name": "stdout",
     "output_type": "stream",
     "text": [
      "\n"
     ]
    }
   ],
   "source": [
    "allSamples = []\n",
    "ids = np.array([])\n",
    "mmse_scores = np.array([])\n",
    "classes = np.array([])\n",
    "\n",
    "for file in tqdm(filenames):\n",
    "    id = file.split('/')[-1].split('.')[0]\n",
    "    mmse = meta.loc[meta.ID==id,\"MMSE\"].values[0]\n",
    "    group = meta.loc[meta.ID==id,\"Group\"].values[0]\n",
    "    \n",
    "    samples = getMelSpectrogramSamples(file)\n",
    "    allSamples.append(samples)\n",
    "    \n",
    "    numSamples = samples.shape[0]\n",
    "    \n",
    "    ids = np.append(ids, np.repeat(int(id[1:]), numSamples))\n",
    "    mmse_scores = np.append(mmse_scores, np.repeat(mmse, numSamples))\n",
    "    classes = np.append(classes, np.repeat(group, numSamples))"
   ]
  },
  {
   "cell_type": "code",
   "execution_count": 10,
   "metadata": {},
   "outputs": [],
   "source": [
    "X = np.expand_dims(np.vstack(allSamples), -1)\n",
    "y = mmse_scores"
   ]
  },
  {
   "cell_type": "code",
   "execution_count": 11,
   "metadata": {},
   "outputs": [
    {
     "data": {
      "text/plain": [
       "5"
      ]
     },
     "execution_count": 11,
     "metadata": {},
     "output_type": "execute_result"
    }
   ],
   "source": [
    "group_kfold = GroupKFold(n_splits=5)\n",
    "group_kfold.get_n_splits(X, y, groups=ids)"
   ]
  },
  {
   "cell_type": "code",
   "execution_count": 12,
   "metadata": {},
   "outputs": [],
   "source": [
    "train_index, test_index = next(group_kfold.split(X, y, groups=ids))\n",
    "X_train, X_test = X[train_index], X[test_index]\n",
    "y_train, y_test = y[train_index], y[test_index]\n",
    "ids_train, ids_test = ids[train_index], ids[test_index]\n",
    "\n",
    "X_train, y_train, ids_train = shuffle(X_train, y_train, ids_train)\n",
    "X_test, y_test, ids_test = shuffle(X_test, y_test, ids_test)"
   ]
  },
  {
   "cell_type": "code",
   "execution_count": 13,
   "metadata": {},
   "outputs": [],
   "source": [
    "train_segment_mapping = {id:i for i, id in enumerate(np.unique(ids_train))}\n",
    "segments_train = np.array([train_segment_mapping[id] for id in ids_train])\n",
    "\n",
    "test_segment_mapping = {id:i for i, id in enumerate(np.unique(ids_test))}\n",
    "segments_test = np.array([test_segment_mapping[id] for id in ids_test])"
   ]
  },
  {
   "cell_type": "code",
   "execution_count": 14,
   "metadata": {},
   "outputs": [],
   "source": [
    "class SquareRootScheduler:\n",
    "    def __init__(self, lr=0.1):\n",
    "        self.lr = lr\n",
    "\n",
    "    def __call__(self, num_update):\n",
    "        return self.lr * pow(num_update + 1.0, -0.5)\n",
    "    \n",
    "lr_callback = tf.keras.callbacks.LearningRateScheduler(SquareRootScheduler(lr=0.001))\n",
    "\n",
    "es_callback = tf.keras.callbacks.EarlyStopping(\n",
    "    monitor='loss', \n",
    "    patience=10, \n",
    "    restore_best_weights=True)"
   ]
  },
  {
   "cell_type": "code",
   "execution_count": 15,
   "metadata": {},
   "outputs": [],
   "source": [
    "def CustomWeightedLoss(y_true, y_pred, segments):\n",
    "    \n",
    "    y_true = tf.cast(y_true,tf.float32)\n",
    "    y_pred = tf.cast(y_pred,tf.float32)\n",
    "    segments = tf.cast(segments,tf.int32)\n",
    "        \n",
    "    grouped_y_true = tf.math.unsorted_segment_mean(\n",
    "        y_true, segments, 1000\n",
    "    )\n",
    "\n",
    "    grouped_y_pred = tf.math.unsorted_segment_mean(\n",
    "        y_pred, segments, 1000\n",
    "    )\n",
    "\n",
    "    # this returns the sum of squared errors across all samples. \n",
    "    # to find the actual RMSE, use this: lambda x: sqrt(X/num_samples)\n",
    "    return tf.reduce_sum(tf.math.square(grouped_y_pred - grouped_y_true), axis=-1)"
   ]
  },
  {
   "cell_type": "code",
   "execution_count": null,
   "metadata": {},
   "outputs": [],
   "source": [
    "inp = layers.Input(X.shape[1:])\n",
    "true = layers.Input((1))\n",
    "segment = layers.Input((1))\n",
    "\n",
    "conv1 = layers.Conv2D(filters=32, kernel_size=(3,3), strides=1, padding='same', activation='relu', name='conv1')(inp)\n",
    "pool1 = layers.MaxPooling2D(pool_size=(2,2), strides=2, name='pool1')(conv1)\n",
    "flatten = layers.Flatten()(pool1)\n",
    "\n",
    "dense1 = layers.Dense(128, activation='relu')(flatten)\n",
    "dropout1 = layers.Dropout(0.5)(dense1)\n",
    "dense2 = layers.Dense(32, activation='relu')(dropout1)\n",
    "dropout2 = layers.Dropout(0.5)(dense2)\n",
    "out = layers.Dense(1)(dropout2)\n",
    "\n",
    "    \n",
    "model = tf.keras.Model([inp, true, segment], out)\n",
    "\n",
    "model.add_loss(CustomWeightedLoss(true, out, segment) )\n",
    "\n",
    "model.compile(\n",
    "    optimizer=tf.keras.optimizers.Adam(learning_rate=0.001, clipnorm=1.0),\n",
    "    loss=None\n",
    ")"
   ]
  },
  {
   "cell_type": "code",
   "execution_count": 20,
   "metadata": {},
   "outputs": [
    {
     "name": "stdout",
     "output_type": "stream",
     "text": [
      "Epoch 1/1000\n",
      "21/21 [==============================] - 1s 57ms/step - loss: 10561.3291\n",
      "Epoch 2/1000\n",
      "21/21 [==============================] - 1s 57ms/step - loss: 9873.2324\n",
      "Epoch 3/1000\n",
      "21/21 [==============================] - 1s 59ms/step - loss: 8638.4932\n",
      "Epoch 4/1000\n",
      "21/21 [==============================] - 1s 57ms/step - loss: 9159.5518\n",
      "Epoch 5/1000\n",
      "21/21 [==============================] - 1s 59ms/step - loss: 7813.8779\n",
      "Epoch 6/1000\n",
      "21/21 [==============================] - 1s 61ms/step - loss: 7389.1279\n",
      "Epoch 7/1000\n",
      "21/21 [==============================] - 1s 60ms/step - loss: 6653.0552\n",
      "Epoch 8/1000\n",
      "21/21 [==============================] - 1s 59ms/step - loss: 7096.7148\n",
      "Epoch 9/1000\n",
      "21/21 [==============================] - 1s 59ms/step - loss: 6313.3496\n",
      "Epoch 10/1000\n",
      "21/21 [==============================] - 1s 59ms/step - loss: 7023.3081\n",
      "Epoch 11/1000\n",
      "21/21 [==============================] - 1s 59ms/step - loss: 6497.7129\n",
      "Epoch 12/1000\n",
      "21/21 [==============================] - 1s 58ms/step - loss: 5793.0308\n",
      "Epoch 13/1000\n",
      "21/21 [==============================] - 1s 59ms/step - loss: 6314.1304\n",
      "Epoch 14/1000\n",
      "21/21 [==============================] - 1s 59ms/step - loss: 5816.1958\n",
      "Epoch 15/1000\n",
      "21/21 [==============================] - 1s 59ms/step - loss: 6017.8643\n",
      "Epoch 16/1000\n",
      "21/21 [==============================] - 1s 58ms/step - loss: 6254.7671\n",
      "Epoch 17/1000\n",
      "21/21 [==============================] - 1s 59ms/step - loss: 5630.4727\n",
      "Epoch 18/1000\n",
      "21/21 [==============================] - 1s 59ms/step - loss: 5212.8135\n",
      "Epoch 19/1000\n",
      "21/21 [==============================] - 1s 60ms/step - loss: 5958.8213\n",
      "Epoch 20/1000\n",
      "21/21 [==============================] - 1s 59ms/step - loss: 6213.2397\n",
      "Epoch 21/1000\n",
      "21/21 [==============================] - 1s 59ms/step - loss: 5655.9243\n",
      "Epoch 22/1000\n",
      "21/21 [==============================] - 1s 60ms/step - loss: 5398.0762\n",
      "Epoch 23/1000\n",
      "21/21 [==============================] - 1s 60ms/step - loss: 5684.7026\n",
      "Epoch 24/1000\n",
      "21/21 [==============================] - 1s 60ms/step - loss: 5130.5205\n",
      "Epoch 25/1000\n",
      "21/21 [==============================] - 1s 59ms/step - loss: 5118.4287\n",
      "Epoch 26/1000\n",
      "21/21 [==============================] - 1s 60ms/step - loss: 5301.7925\n",
      "Epoch 27/1000\n",
      "21/21 [==============================] - 1s 58ms/step - loss: 5332.5825\n",
      "Epoch 28/1000\n",
      "21/21 [==============================] - 1s 59ms/step - loss: 5486.8428\n",
      "Epoch 29/1000\n",
      "21/21 [==============================] - 1s 59ms/step - loss: 5701.9321\n",
      "Epoch 30/1000\n",
      "21/21 [==============================] - 1s 59ms/step - loss: 5750.7744\n",
      "Epoch 31/1000\n",
      "21/21 [==============================] - 1s 58ms/step - loss: 4629.7119\n",
      "Epoch 32/1000\n",
      "21/21 [==============================] - 1s 59ms/step - loss: 5568.4390\n",
      "Epoch 33/1000\n",
      "21/21 [==============================] - 1s 59ms/step - loss: 5285.3618\n",
      "Epoch 34/1000\n",
      "21/21 [==============================] - 1s 59ms/step - loss: 5522.0659\n",
      "Epoch 35/1000\n",
      "21/21 [==============================] - 1s 59ms/step - loss: 5185.2041\n",
      "Epoch 36/1000\n",
      "21/21 [==============================] - 1s 60ms/step - loss: 6047.7437\n",
      "Epoch 37/1000\n",
      "21/21 [==============================] - 1s 60ms/step - loss: 5570.0776\n",
      "Epoch 38/1000\n",
      "21/21 [==============================] - 1s 59ms/step - loss: 5130.0127\n",
      "Epoch 39/1000\n",
      "21/21 [==============================] - 1s 59ms/step - loss: 5391.0928\n",
      "Epoch 40/1000\n",
      "21/21 [==============================] - 1s 60ms/step - loss: 5303.8975\n",
      "Epoch 41/1000\n",
      "21/21 [==============================] - 1s 60ms/step - loss: 4977.1943\n"
     ]
    }
   ],
   "source": [
    "history = model.fit(\n",
    "    [X_train, y_train, segments_train], \n",
    "    y_train, \n",
    "    epochs=1000, \n",
    "    batch_size=64,\n",
    "    verbose=1,\n",
    "    callbacks = [es_callback, lr_callback]\n",
    ")"
   ]
  },
  {
   "cell_type": "code",
   "execution_count": 21,
   "metadata": {},
   "outputs": [],
   "source": [
    "def evaluateRMSE(model, X, y, segments):\n",
    "    return np.sqrt(model.evaluate([X,y,segments],y)/len(np.unique(segments)))"
   ]
  },
  {
   "cell_type": "code",
   "execution_count": 22,
   "metadata": {},
   "outputs": [
    {
     "name": "stdout",
     "output_type": "stream",
     "text": [
      "41/41 [==============================] - 0s 11ms/step - loss: 3390.8154\n"
     ]
    },
    {
     "data": {
      "text/plain": [
       "6.24298726543696"
      ]
     },
     "execution_count": 22,
     "metadata": {},
     "output_type": "execute_result"
    }
   ],
   "source": [
    "evaluateRMSE(model, X_train, y_train, segments_train)"
   ]
  },
  {
   "cell_type": "code",
   "execution_count": 23,
   "metadata": {},
   "outputs": [
    {
     "name": "stdout",
     "output_type": "stream",
     "text": [
      "11/11 [==============================] - 0s 10ms/step - loss: 1967.9429\n"
     ]
    },
    {
     "data": {
      "text/plain": [
       "9.680473402172984"
      ]
     },
     "execution_count": 23,
     "metadata": {},
     "output_type": "execute_result"
    }
   ],
   "source": [
    "evaluateRMSE(model, X_test, y_test, segments_test)"
   ]
  },
  {
   "cell_type": "code",
   "execution_count": null,
   "metadata": {},
   "outputs": [],
   "source": []
  }
 ],
 "metadata": {
  "kernelspec": {
   "display_name": "Python 3",
   "language": "python",
   "name": "python3"
  },
  "language_info": {
   "codemirror_mode": {
    "name": "ipython",
    "version": 3
   },
   "file_extension": ".py",
   "mimetype": "text/x-python",
   "name": "python",
   "nbconvert_exporter": "python",
   "pygments_lexer": "ipython3",
   "version": "3.6.9"
  }
 },
 "nbformat": 4,
 "nbformat_minor": 2
}
