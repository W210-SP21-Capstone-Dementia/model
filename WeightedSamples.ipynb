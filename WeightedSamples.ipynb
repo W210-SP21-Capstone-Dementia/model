{
 "cells": [
  {
   "cell_type": "code",
   "execution_count": 1,
   "metadata": {},
   "outputs": [],
   "source": [
    "import librosa\n",
    "import librosa.display\n",
    "import tensorflow as tf\n",
    "import kapre\n",
    "%matplotlib inline\n",
    "import matplotlib.pyplot as plt\n",
    "import IPython.display as ipd\n",
    "import pandas as pd\n",
    "import numpy as np\n",
    "import pathlib\n",
    "import os\n",
    "import glob\n",
    "import random\n",
    "import math \n",
    "import soundfile as sf\n",
    "import librosa \n",
    "from plotnine import *\n",
    "from sklearn.metrics import confusion_matrix, mean_squared_error, classification_report\n",
    "import seaborn as sn\n",
    "from sklearn.model_selection import GroupKFold, LeaveOneGroupOut\n",
    "from sklearn.utils import shuffle\n",
    "from tqdm.notebook import trange, tqdm\n",
    "import tensorflow.keras.backend as K"
   ]
  },
  {
   "cell_type": "code",
   "execution_count": 2,
   "metadata": {},
   "outputs": [],
   "source": [
    "from tensorflow.keras import layers\n",
    "from tensorflow.keras import models"
   ]
  },
  {
   "cell_type": "code",
   "execution_count": 3,
   "metadata": {},
   "outputs": [],
   "source": [
    "seed = 27\n",
    "tf.random.set_seed(seed)\n",
    "random.seed(seed)\n",
    "gpus = tf.config.list_physical_devices('GPU')\n",
    "\n",
    "## need this if training on GPU\n",
    "## tensorflow, get your shit together\n",
    "\n",
    "if len(gpus)>0:\n",
    "\n",
    "    from tensorflow.compat.v1 import ConfigProto\n",
    "    from tensorflow.compat.v1 import InteractiveSession\n",
    "\n",
    "    config = ConfigProto()\n",
    "    config.gpu_options.allow_growth = True\n",
    "    session = InteractiveSession(config=config)"
   ]
  },
  {
   "cell_type": "code",
   "execution_count": 4,
   "metadata": {},
   "outputs": [],
   "source": [
    "data_path = '/tf/data/dementia/0extra/ADReSS-IS2020-data/train/'\n",
    "audio_path_cc = data_path + '/Full_wave_enhanced_audio/cc/'\n",
    "audio_path_cd = data_path + '/Full_wave_enhanced_audio/cd/'\n",
    "\n",
    "\n",
    "text_path_cc = data_path + '/transcription/cc/'\n",
    "text_path_cd = data_path + '/transcription/cd/'"
   ]
  },
  {
   "cell_type": "markdown",
   "metadata": {},
   "source": [
    "# Meta Data"
   ]
  },
  {
   "cell_type": "code",
   "execution_count": 26,
   "metadata": {},
   "outputs": [],
   "source": [
    "meta_cc = pd.read_csv(data_path + '/cc_meta_data.txt', sep=\";\", header=0, \n",
    "                      names = ['ID', 'Age', 'Gender', 'MMSE'])\n",
    "meta_cd = pd.read_csv(data_path + '/cd_meta_data.txt', sep=\";\", header=0, \n",
    "                      names = ['ID', 'Age', 'Gender', 'MMSE'])\n",
    "\n",
    "meta = meta_cc.assign(Group = 'cc').append(meta_cd.assign(Group = 'cd')).reset_index()\n",
    "meta.MMSE = pd.to_numeric(meta.MMSE.replace(' NA', 30))\n",
    "meta.ID = meta.ID.str.strip()"
   ]
  },
  {
   "cell_type": "code",
   "execution_count": 6,
   "metadata": {},
   "outputs": [
    {
     "data": {
      "text/html": [
       "<div>\n",
       "<style scoped>\n",
       "    .dataframe tbody tr th:only-of-type {\n",
       "        vertical-align: middle;\n",
       "    }\n",
       "\n",
       "    .dataframe tbody tr th {\n",
       "        vertical-align: top;\n",
       "    }\n",
       "\n",
       "    .dataframe thead th {\n",
       "        text-align: right;\n",
       "    }\n",
       "</style>\n",
       "<table border=\"1\" class=\"dataframe\">\n",
       "  <thead>\n",
       "    <tr style=\"text-align: right;\">\n",
       "      <th></th>\n",
       "      <th>index</th>\n",
       "      <th>ID</th>\n",
       "      <th>Age</th>\n",
       "      <th>Gender</th>\n",
       "      <th>MMSE</th>\n",
       "      <th>Group</th>\n",
       "    </tr>\n",
       "  </thead>\n",
       "  <tbody>\n",
       "    <tr>\n",
       "      <th>71</th>\n",
       "      <td>17</td>\n",
       "      <td>S101</td>\n",
       "      <td>56</td>\n",
       "      <td>female</td>\n",
       "      <td>24</td>\n",
       "      <td>cd</td>\n",
       "    </tr>\n",
       "    <tr>\n",
       "      <th>25</th>\n",
       "      <td>25</td>\n",
       "      <td>S033</td>\n",
       "      <td>61</td>\n",
       "      <td>female</td>\n",
       "      <td>30</td>\n",
       "      <td>cc</td>\n",
       "    </tr>\n",
       "    <tr>\n",
       "      <th>24</th>\n",
       "      <td>24</td>\n",
       "      <td>S032</td>\n",
       "      <td>57</td>\n",
       "      <td>female</td>\n",
       "      <td>28</td>\n",
       "      <td>cc</td>\n",
       "    </tr>\n",
       "    <tr>\n",
       "      <th>58</th>\n",
       "      <td>4</td>\n",
       "      <td>S083</td>\n",
       "      <td>52</td>\n",
       "      <td>male</td>\n",
       "      <td>30</td>\n",
       "      <td>cd</td>\n",
       "    </tr>\n",
       "    <tr>\n",
       "      <th>3</th>\n",
       "      <td>3</td>\n",
       "      <td>S004</td>\n",
       "      <td>71</td>\n",
       "      <td>female</td>\n",
       "      <td>30</td>\n",
       "      <td>cc</td>\n",
       "    </tr>\n",
       "  </tbody>\n",
       "</table>\n",
       "</div>"
      ],
      "text/plain": [
       "    index    ID  Age    Gender  MMSE Group\n",
       "71     17  S101   56   female     24    cd\n",
       "25     25  S033   61   female     30    cc\n",
       "24     24  S032   57   female     28    cc\n",
       "58      4  S083   52     male     30    cd\n",
       "3       3  S004   71   female     30    cc"
      ]
     },
     "execution_count": 6,
     "metadata": {},
     "output_type": "execute_result"
    }
   ],
   "source": [
    "meta.sample(5)"
   ]
  },
  {
   "cell_type": "markdown",
   "metadata": {},
   "source": [
    "# Baseline "
   ]
  },
  {
   "cell_type": "code",
   "execution_count": 7,
   "metadata": {},
   "outputs": [],
   "source": [
    "filenames = list(glob.glob('/tf/data/dementia/0extra/ADReSS-IS2020-data/train/Full_wave_enhanced_audio/*/*'))\n",
    "random.shuffle(filenames)"
   ]
  },
  {
   "cell_type": "code",
   "execution_count": 8,
   "metadata": {},
   "outputs": [],
   "source": [
    "def getMelSpectrogramSamples(filename, n_mels=128, fmin=20, fmax=8000):\n",
    "    y, sr = librosa.load(filename)\n",
    "\n",
    "    ps = librosa.feature.melspectrogram(y=y, sr=sr, n_mels=n_mels, fmin=fmin, fmax=fmax, power=2)\n",
    "    S_dB = librosa.power_to_db(ps, ref=np.max)\n",
    "    \n",
    "    #15 seconds\n",
    "    window_size = 640\n",
    "    window_hop = 160\n",
    "\n",
    "    # truncate at start and end to only have windows full data\n",
    "    # alternative would be to zero-pad\n",
    "    start_frame = window_size \n",
    "    end_frame = window_hop * math.floor(float(S_dB.shape[1]) / window_hop)\n",
    "\n",
    "    samples = np.array([S_dB[:, frame_idx-window_size:frame_idx] for frame_idx in range(start_frame, end_frame, window_hop)])\n",
    "    \n",
    "    return samples\n",
    "\n",
    "def getSpectrogramSamples(filename):\n",
    "    y, sr = librosa.load(filename)\n",
    "    S = np.abs(librosa.stft(y, n_fft=512))\n",
    "    S_dB = librosa.amplitude_to_db(S, ref=np.max)\n",
    "    \n",
    "    #15 seconds\n",
    "    window_size = 640\n",
    "    window_hop = 20\n",
    "\n",
    "    # truncate at start and end to only have windows full data\n",
    "    # alternative would be to zero-pad\n",
    "    start_frame = window_size \n",
    "    end_frame = window_hop * math.floor(float(S_dB.shape[1]) / window_hop)\n",
    "\n",
    "    samples = np.array([S_dB[:, frame_idx-window_size:frame_idx] for frame_idx in range(start_frame, end_frame, window_hop)])\n",
    "    \n",
    "    return samples"
   ]
  },
  {
   "cell_type": "code",
   "execution_count": 9,
   "metadata": {},
   "outputs": [
    {
     "data": {
      "application/vnd.jupyter.widget-view+json": {
       "model_id": "e0d71cce87a34771886e5ef4db5a9a93",
       "version_major": 2,
       "version_minor": 0
      },
      "text/plain": [
       "HBox(children=(FloatProgress(value=0.0, max=108.0), HTML(value='')))"
      ]
     },
     "metadata": {},
     "output_type": "display_data"
    },
    {
     "name": "stdout",
     "output_type": "stream",
     "text": [
      "\n"
     ]
    }
   ],
   "source": [
    "allSamples = []\n",
    "ids = np.array([])\n",
    "mmse_scores = np.array([])\n",
    "classes = np.array([])\n",
    "\n",
    "for file in tqdm(filenames):\n",
    "    id = file.split('/')[-1].split('.')[0]\n",
    "    mmse = meta.loc[meta.ID==id,\"MMSE\"].values[0]\n",
    "    group = meta.loc[meta.ID==id,\"Group\"].values[0]\n",
    "    \n",
    "    samples = getMelSpectrogramSamples(file)\n",
    "    allSamples.append(samples)\n",
    "    \n",
    "    numSamples = samples.shape[0]\n",
    "    \n",
    "    ids = np.append(ids, np.repeat(int(id[1:]), numSamples))\n",
    "    mmse_scores = np.append(mmse_scores, np.repeat(mmse, numSamples))\n",
    "    classes = np.append(classes, np.repeat(group, numSamples))"
   ]
  },
  {
   "cell_type": "code",
   "execution_count": 10,
   "metadata": {},
   "outputs": [],
   "source": [
    "X = np.expand_dims(np.vstack(allSamples), -1)\n",
    "y = mmse_scores"
   ]
  },
  {
   "cell_type": "code",
   "execution_count": 11,
   "metadata": {},
   "outputs": [
    {
     "data": {
      "text/plain": [
       "5"
      ]
     },
     "execution_count": 11,
     "metadata": {},
     "output_type": "execute_result"
    }
   ],
   "source": [
    "group_kfold = GroupKFold(n_splits=5)\n",
    "group_kfold.get_n_splits(X, y, groups=ids)"
   ]
  },
  {
   "cell_type": "code",
   "execution_count": 12,
   "metadata": {},
   "outputs": [],
   "source": [
    "train_index, test_index = next(group_kfold.split(X, y, groups=ids))\n",
    "X_train, X_test = X[train_index], X[test_index]\n",
    "y_train, y_test = y[train_index], y[test_index]\n",
    "ids_train, ids_test = ids[train_index], ids[test_index]\n",
    "\n",
    "X_train, y_train, ids_train = shuffle(X_train, y_train, ids_train)\n",
    "X_test, y_test, ids_test = shuffle(X_test, y_test, ids_test)"
   ]
  },
  {
   "cell_type": "code",
   "execution_count": 13,
   "metadata": {},
   "outputs": [],
   "source": [
    "train_segment_mapping = {id:i for i, id in enumerate(np.unique(ids_train))}\n",
    "segments_train = np.array([train_segment_mapping[id] for id in ids_train])\n",
    "\n",
    "test_segment_mapping = {id:i for i, id in enumerate(np.unique(ids_test))}\n",
    "segments_test = np.array([test_segment_mapping[id] for id in ids_test])"
   ]
  },
  {
   "cell_type": "code",
   "execution_count": 14,
   "metadata": {},
   "outputs": [],
   "source": [
    "class SquareRootScheduler:\n",
    "    def __init__(self, lr=0.1):\n",
    "        self.lr = lr\n",
    "\n",
    "    def __call__(self, num_update):\n",
    "        return self.lr * pow(num_update + 1.0, -0.5)\n",
    "    \n",
    "lr_callback = tf.keras.callbacks.LearningRateScheduler(SquareRootScheduler(lr=0.001))\n",
    "\n",
    "es_callback = tf.keras.callbacks.EarlyStopping(\n",
    "    monitor='loss', \n",
    "    patience=10, \n",
    "    restore_best_weights=True)"
   ]
  },
  {
   "cell_type": "code",
   "execution_count": 15,
   "metadata": {},
   "outputs": [],
   "source": [
    "def CustomWeightedLoss(y_true, y_pred, segments):\n",
    "    \n",
    "    y_true = tf.cast(y_true,tf.float32)\n",
    "    y_pred = tf.cast(y_pred,tf.float32)\n",
    "    segments = tf.cast(segments,tf.int32)\n",
    "        \n",
    "    grouped_y_true = tf.math.unsorted_segment_mean(\n",
    "        y_true, segments, 1000\n",
    "    )\n",
    "\n",
    "    grouped_y_pred = tf.math.unsorted_segment_mean(\n",
    "        y_pred, segments, 1000\n",
    "    )\n",
    "\n",
    "    # this returns the sum of squared errors across all samples. \n",
    "    # to find the actual RMSE, use this: lambda x: sqrt(X/num_samples)\n",
    "    return tf.reduce_sum(tf.math.square(grouped_y_pred - grouped_y_true), axis=-1)"
   ]
  },
  {
   "cell_type": "code",
   "execution_count": 16,
   "metadata": {},
   "outputs": [],
   "source": [
    "inp = layers.Input(X.shape[1:])\n",
    "true = layers.Input((1))\n",
    "segment = layers.Input((1))\n",
    "\n",
    "conv1 = layers.Conv2D(filters=32, kernel_size=(3,3), strides=1, padding='same', activation='relu', name='conv1')(inp)\n",
    "pool1 = layers.MaxPooling2D(pool_size=(2,2), strides=2, name='pool1')(conv1)\n",
    "flatten = layers.Flatten()(pool1)\n",
    "\n",
    "dense1 = layers.Dense(128, activation='relu')(flatten)\n",
    "dropout1 = layers.Dropout(0.5)(dense1)\n",
    "dense2 = layers.Dense(32, activation='relu')(dropout1)\n",
    "dropout2 = layers.Dropout(0.5)(dense2)\n",
    "out = layers.Dense(1)(dropout2)\n",
    "\n",
    "    \n",
    "model = tf.keras.Model([inp, true, segment], out)\n",
    "\n",
    "model.add_loss(CustomWeightedLoss(true, out, segment) )\n",
    "\n",
    "model.compile(\n",
    "    optimizer=tf.keras.optimizers.Adam(learning_rate=0.001, clipnorm=1.0),\n",
    "    loss=None\n",
    ")"
   ]
  },
  {
   "cell_type": "code",
   "execution_count": 17,
   "metadata": {},
   "outputs": [
    {
     "name": "stdout",
     "output_type": "stream",
     "text": [
      "Model: \"model\"\n",
      "__________________________________________________________________________________________________\n",
      "Layer (type)                    Output Shape         Param #     Connected to                     \n",
      "==================================================================================================\n",
      "input_1 (InputLayer)            [(None, 128, 640, 1) 0                                            \n",
      "__________________________________________________________________________________________________\n",
      "conv1 (Conv2D)                  (None, 128, 640, 32) 320         input_1[0][0]                    \n",
      "__________________________________________________________________________________________________\n",
      "pool1 (MaxPooling2D)            (None, 64, 320, 32)  0           conv1[0][0]                      \n",
      "__________________________________________________________________________________________________\n",
      "flatten (Flatten)               (None, 655360)       0           pool1[0][0]                      \n",
      "__________________________________________________________________________________________________\n",
      "dense (Dense)                   (None, 128)          83886208    flatten[0][0]                    \n",
      "__________________________________________________________________________________________________\n",
      "dropout (Dropout)               (None, 128)          0           dense[0][0]                      \n",
      "__________________________________________________________________________________________________\n",
      "dense_1 (Dense)                 (None, 32)           4128        dropout[0][0]                    \n",
      "__________________________________________________________________________________________________\n",
      "dropout_1 (Dropout)             (None, 32)           0           dense_1[0][0]                    \n",
      "__________________________________________________________________________________________________\n",
      "input_2 (InputLayer)            [(None, 1)]          0                                            \n",
      "__________________________________________________________________________________________________\n",
      "input_3 (InputLayer)            [(None, 1)]          0                                            \n",
      "__________________________________________________________________________________________________\n",
      "dense_2 (Dense)                 (None, 1)            33          dropout_1[0][0]                  \n",
      "__________________________________________________________________________________________________\n",
      "tf.cast_1 (TFOpLambda)          (None, 1)            0           dense_2[0][0]                    \n",
      "__________________________________________________________________________________________________\n",
      "tf.cast_2 (TFOpLambda)          (None, 1)            0           input_3[0][0]                    \n",
      "__________________________________________________________________________________________________\n",
      "tf.cast (TFOpLambda)            (None, 1)            0           input_2[0][0]                    \n",
      "__________________________________________________________________________________________________\n",
      "tf.math.unsorted_segment_mean_1 (1000,)              0           tf.cast_1[0][0]                  \n",
      "                                                                 tf.cast_2[0][0]                  \n",
      "__________________________________________________________________________________________________\n",
      "tf.math.unsorted_segment_mean ( (1000,)              0           tf.cast[0][0]                    \n",
      "                                                                 tf.cast_2[0][0]                  \n",
      "__________________________________________________________________________________________________\n",
      "tf.math.subtract (TFOpLambda)   (1000,)              0           tf.math.unsorted_segment_mean_1[0\n",
      "                                                                 tf.math.unsorted_segment_mean[0][\n",
      "__________________________________________________________________________________________________\n",
      "tf.math.square (TFOpLambda)     (1000,)              0           tf.math.subtract[0][0]           \n",
      "__________________________________________________________________________________________________\n",
      "tf.math.reduce_sum (TFOpLambda) ()                   0           tf.math.square[0][0]             \n",
      "__________________________________________________________________________________________________\n",
      "add_loss (AddLoss)              ()                   0           tf.math.reduce_sum[0][0]         \n",
      "==================================================================================================\n",
      "Total params: 83,890,689\n",
      "Trainable params: 83,890,689\n",
      "Non-trainable params: 0\n",
      "__________________________________________________________________________________________________\n"
     ]
    }
   ],
   "source": [
    "model.summary()"
   ]
  },
  {
   "cell_type": "code",
   "execution_count": 18,
   "metadata": {
    "scrolled": true
   },
   "outputs": [
    {
     "name": "stdout",
     "output_type": "stream",
     "text": [
      "Epoch 1/1000\n",
      "21/21 [==============================] - 14s 653ms/step - loss: 159626714.1850\n",
      "Epoch 2/1000\n",
      "21/21 [==============================] - 17s 813ms/step - loss: 30765.7874\n",
      "Epoch 3/1000\n",
      "21/21 [==============================] - 18s 835ms/step - loss: 18563.1764\n",
      "Epoch 4/1000\n",
      "21/21 [==============================] - 18s 834ms/step - loss: 21365.0891\n",
      "Epoch 5/1000\n",
      "21/21 [==============================] - 18s 845ms/step - loss: 15018.3768\n",
      "Epoch 6/1000\n",
      "21/21 [==============================] - 18s 841ms/step - loss: 13099.8108\n",
      "Epoch 7/1000\n",
      "21/21 [==============================] - 18s 855ms/step - loss: 12744.5562\n",
      "Epoch 8/1000\n",
      "21/21 [==============================] - 18s 856ms/step - loss: 13093.4456\n",
      "Epoch 9/1000\n",
      "21/21 [==============================] - 18s 847ms/step - loss: 10592.5038\n",
      "Epoch 10/1000\n",
      "21/21 [==============================] - 18s 860ms/step - loss: 10816.3536\n",
      "Epoch 11/1000\n",
      "21/21 [==============================] - 18s 850ms/step - loss: 9043.0554\n",
      "Epoch 12/1000\n",
      "21/21 [==============================] - 18s 840ms/step - loss: 7780.6575\n",
      "Epoch 13/1000\n",
      "21/21 [==============================] - 18s 846ms/step - loss: 7588.6530\n",
      "Epoch 14/1000\n",
      "21/21 [==============================] - 18s 857ms/step - loss: 7013.2042\n",
      "Epoch 15/1000\n",
      "21/21 [==============================] - 18s 860ms/step - loss: 7360.0179\n",
      "Epoch 16/1000\n",
      "21/21 [==============================] - 18s 854ms/step - loss: 7343.7289\n",
      "Epoch 17/1000\n",
      "21/21 [==============================] - 18s 852ms/step - loss: 6301.4162\n",
      "Epoch 18/1000\n",
      "21/21 [==============================] - 18s 865ms/step - loss: 7171.6790\n",
      "Epoch 19/1000\n",
      "21/21 [==============================] - 18s 867ms/step - loss: 6853.7552\n",
      "Epoch 20/1000\n",
      "21/21 [==============================] - 18s 865ms/step - loss: 7186.6809\n",
      "Epoch 21/1000\n",
      "21/21 [==============================] - 18s 850ms/step - loss: 6694.1705\n",
      "Epoch 22/1000\n",
      "21/21 [==============================] - 18s 859ms/step - loss: 6005.4390\n",
      "Epoch 23/1000\n",
      "21/21 [==============================] - 18s 856ms/step - loss: 6476.3241\n",
      "Epoch 24/1000\n",
      "21/21 [==============================] - 18s 872ms/step - loss: 6365.5418\n",
      "Epoch 25/1000\n",
      "21/21 [==============================] - 18s 870ms/step - loss: 5879.5223\n",
      "Epoch 26/1000\n",
      "21/21 [==============================] - 18s 862ms/step - loss: 5887.2404\n",
      "Epoch 27/1000\n",
      "21/21 [==============================] - 18s 859ms/step - loss: 6581.9184\n",
      "Epoch 28/1000\n",
      "21/21 [==============================] - 18s 872ms/step - loss: 5851.7046\n",
      "Epoch 29/1000\n",
      "21/21 [==============================] - 18s 876ms/step - loss: 6053.0876\n",
      "Epoch 30/1000\n",
      "21/21 [==============================] - 19s 883ms/step - loss: 6453.4139\n",
      "Epoch 31/1000\n",
      "21/21 [==============================] - 18s 878ms/step - loss: 5664.5959\n",
      "Epoch 32/1000\n",
      "21/21 [==============================] - 18s 875ms/step - loss: 5345.0136\n",
      "Epoch 33/1000\n",
      "21/21 [==============================] - 18s 865ms/step - loss: 6085.9237\n",
      "Epoch 34/1000\n",
      "21/21 [==============================] - 18s 872ms/step - loss: 5269.7765\n",
      "Epoch 35/1000\n",
      "21/21 [==============================] - 19s 882ms/step - loss: 5963.2225\n",
      "Epoch 36/1000\n",
      "21/21 [==============================] - 19s 888ms/step - loss: 5458.3352\n",
      "Epoch 37/1000\n",
      "21/21 [==============================] - 19s 882ms/step - loss: 5315.6613\n",
      "Epoch 38/1000\n",
      "21/21 [==============================] - 19s 879ms/step - loss: 5346.4692\n",
      "Epoch 39/1000\n",
      "21/21 [==============================] - 19s 884ms/step - loss: 6122.1932\n",
      "Epoch 40/1000\n",
      "21/21 [==============================] - 19s 882ms/step - loss: 4622.2841\n",
      "Epoch 41/1000\n",
      "21/21 [==============================] - 18s 876ms/step - loss: 5404.6161\n",
      "Epoch 42/1000\n",
      "21/21 [==============================] - 18s 868ms/step - loss: 5169.5370\n",
      "Epoch 43/1000\n",
      "21/21 [==============================] - 19s 884ms/step - loss: 4848.6066\n",
      "Epoch 44/1000\n",
      "21/21 [==============================] - 19s 884ms/step - loss: 5002.3317\n",
      "Epoch 45/1000\n",
      "21/21 [==============================] - 19s 894ms/step - loss: 5144.9324\n",
      "Epoch 46/1000\n",
      "21/21 [==============================] - 19s 888ms/step - loss: 4923.0174\n",
      "Epoch 47/1000\n",
      "21/21 [==============================] - 19s 887ms/step - loss: 5643.3511\n",
      "Epoch 48/1000\n",
      "21/21 [==============================] - 19s 889ms/step - loss: 4873.9947\n",
      "Epoch 49/1000\n",
      "21/21 [==============================] - 18s 871ms/step - loss: 5150.4130\n",
      "Epoch 50/1000\n",
      "21/21 [==============================] - 18s 876ms/step - loss: 5510.9768\n"
     ]
    }
   ],
   "source": [
    "history = model.fit(\n",
    "    [X_train, y_train, segments_train], \n",
    "    y_train, \n",
    "    epochs=1000, \n",
    "    batch_size=64,\n",
    "    verbose=1,\n",
    "    callbacks = [es_callback, lr_callback]\n",
    ")"
   ]
  },
  {
   "cell_type": "code",
   "execution_count": 61,
   "metadata": {},
   "outputs": [
    {
     "name": "stderr",
     "output_type": "stream",
     "text": [
      "/usr/local/lib/python3.6/dist-packages/ipykernel_launcher.py:4: MatplotlibDeprecationWarning: Adding an axes using the same arguments as a previous axes currently reuses the earlier instance.  In a future version, a new instance will always be created and returned.  Meanwhile, this warning can be suppressed, and the future behavior ensured, by passing a unique label to each axes instance.\n"
     ]
    },
    {
     "data": {
      "image/png": "[encoded data removed]",
      "text/plain": [
       "<Figure size 432x288 with 1 Axes>"
      ]
     },
     "metadata": {},
     "output_type": "display_data"
    }
   ],
   "source": [
    "metrics = history.history\n",
    "plt.plot(history.epoch, metrics['loss'])\n",
    "plt.legend(['loss'])\n",
    "axes = plt.axes()\n",
    "axes.set_ylim([0, 20000])\n",
    "plt.show()"
   ]
  },
  {
   "cell_type": "code",
   "execution_count": 19,
   "metadata": {},
   "outputs": [],
   "source": [
    "def evaluateRMSE(model, X, y, segments):\n",
    "    return np.sqrt(model.evaluate([X,y,segments],y)/len(np.unique(segments)))"
   ]
  },
  {
   "cell_type": "code",
   "execution_count": 20,
   "metadata": {},
   "outputs": [
    {
     "name": "stdout",
     "output_type": "stream",
     "text": [
      "41/41 [==============================] - 5s 120ms/step - loss: 2529.8127\n"
     ]
    },
    {
     "data": {
      "text/plain": [
       "5.3924305655163725"
      ]
     },
     "execution_count": 20,
     "metadata": {},
     "output_type": "execute_result"
    }
   ],
   "source": [
    "evaluateRMSE(model, X_train, y_train, segments_train)"
   ]
  },
  {
   "cell_type": "code",
   "execution_count": 21,
   "metadata": {},
   "outputs": [
    {
     "name": "stdout",
     "output_type": "stream",
     "text": [
      "11/11 [==============================] - 1s 126ms/step - loss: 1681.6367\n"
     ]
    },
    {
     "data": {
      "text/plain": [
       "8.948627771233712"
      ]
     },
     "execution_count": 21,
     "metadata": {},
     "output_type": "execute_result"
    }
   ],
   "source": [
    "evaluateRMSE(model, X_test, y_test, segments_test)"
   ]
  },
  {
   "cell_type": "markdown",
   "metadata": {},
   "source": [
    "# Inference "
   ]
  },
  {
   "cell_type": "code",
   "execution_count": null,
   "metadata": {
    "scrolled": true
   },
   "outputs": [],
   "source": [
    "meta = meta.assign(split = '', predict = -99.99, predict_group = 'cc')\n",
    "for file in tqdm(filenames):\n",
    "    id = file.split('/')[-1].split('.')[0]\n",
    "    mmse = meta.loc[meta.ID==id,\"MMSE\"].values[0]\n",
    "    group = meta.loc[meta.ID==id,\"Group\"].values[0]\n",
    "    \n",
    "    samples = getMelSpectrogramSamples(file)\n",
    "    predict = model.predict([samples, np.zeros(len(samples)), np.zeros(len(samples))]).flatten().mean()\n",
    "    meta.at[np.where(meta.ID == (id))[0][0], 'predict'] = max(1, min(predict, 30))\n",
    "    if (predict < 24):\n",
    "        meta.at[np.where(meta.ID == (id))[0][0], 'predict_group'] = 'cd'"
   ]
  },
  {
   "cell_type": "code",
   "execution_count": 41,
   "metadata": {},
   "outputs": [
    {
     "data": {
      "text/plain": [
       "count    108.000000\n",
       "mean      13.878784\n",
       "std        2.491499\n",
       "min        8.044751\n",
       "25%       12.023446\n",
       "50%       13.950255\n",
       "75%       16.237095\n",
       "max       18.499434\n",
       "Name: predict, dtype: float64"
      ]
     },
     "execution_count": 41,
     "metadata": {},
     "output_type": "execute_result"
    }
   ],
   "source": [
    "meta.predict.describe()"
   ]
  },
  {
   "cell_type": "code",
   "execution_count": 42,
   "metadata": {},
   "outputs": [
    {
     "data": {
      "text/plain": [
       "10.60644077165574"
      ]
     },
     "execution_count": 42,
     "metadata": {},
     "output_type": "execute_result"
    }
   ],
   "source": [
    "np.sqrt(mean_squared_error(meta['MMSE'], meta['predict'] ))"
   ]
  },
  {
   "cell_type": "code",
   "execution_count": 43,
   "metadata": {},
   "outputs": [
    {
     "data": {
      "image/png": "[encoded data removed]",
      "text/plain": [
       "<Figure size 1500x800 with 1 Axes>"
      ]
     },
     "metadata": {},
     "output_type": "display_data"
    },
    {
     "data": {
      "text/plain": [
       "<ggplot: (-9223363281593256013)>"
      ]
     },
     "execution_count": 43,
     "metadata": {},
     "output_type": "execute_result"
    }
   ],
   "source": [
    "ggplot(meta) + \\\n",
    "geom_point(aes(x = 'MMSE', y = 'predict', colour = 'split')) + \\\n",
    "geom_abline(aes(intercept = 0, slope = 1, lty = 2)) + \\\n",
    "geom_hline(aes(yintercept = 24, lty = 2)) + \\\n",
    "geom_vline(aes(xintercept = 24, lty = 2)) + \\\n",
    "theme(figure_size = (15, 8))"
   ]
  },
  {
   "cell_type": "code",
   "execution_count": 44,
   "metadata": {},
   "outputs": [
    {
     "data": {
      "text/plain": [
       "<matplotlib.axes._subplots.AxesSubplot at 0x7f67dc67b2e8>"
      ]
     },
     "execution_count": 44,
     "metadata": {},
     "output_type": "execute_result"
    },
    {
     "data": {
      "image/png": "[encoded data removed]",
      "text/plain": [
       "<Figure size 720x504 with 2 Axes>"
      ]
     },
     "metadata": {},
     "output_type": "display_data"
    }
   ],
   "source": [
    "y_true = meta.Group\n",
    "y_pred = meta.predict_group\n",
    "data_c = confusion_matrix(y_true, y_pred)\n",
    "df_cm = pd.DataFrame(data_c, columns=np.unique(y_true), index = np.unique(y_true))\n",
    "df_cm.index.name = 'Actual'\n",
    "df_cm.columns.name = 'Predicted'\n",
    "plt.figure(figsize = (10,7))\n",
    "sn.set(font_scale=1.4)#for label size\n",
    "sn.heatmap(df_cm, cmap=\"Reds\", annot=True,annot_kws={\"size\": 16})# font size"
   ]
  },
  {
   "cell_type": "markdown",
   "metadata": {},
   "source": [
    "# Pitts Corpus"
   ]
  },
  {
   "cell_type": "code",
   "execution_count": 45,
   "metadata": {},
   "outputs": [],
   "source": [
    "data_path_pitt = '/tf/data/dementia/English/Pitt/'\n",
    "files_pitt = tf.io.gfile.glob(data_path_pitt + 'Control/cookie/*.wav') + \\\n",
    "             tf.io.gfile.glob(data_path_pitt + 'Dementia/cookie/*.wav')"
   ]
  },
  {
   "cell_type": "code",
   "execution_count": 48,
   "metadata": {
    "scrolled": true
   },
   "outputs": [
    {
     "data": {
      "application/vnd.jupyter.widget-view+json": {
       "model_id": "a1e8038ff59d405ab91f033c7699034a",
       "version_major": 2,
       "version_minor": 0
      },
      "text/plain": [
       "HBox(children=(FloatProgress(value=0.0, max=552.0), HTML(value='')))"
      ]
     },
     "metadata": {},
     "output_type": "display_data"
    },
    {
     "name": "stdout",
     "output_type": "stream",
     "text": [
      "\n"
     ]
    }
   ],
   "source": [
    "meta_pitt = pd.DataFrame(columns= ['file', 'ID', 'Group', 'MMSE', 'predict', 'predict_group'])\n",
    "for file in tqdm(files_pitt):\n",
    "#     print(file)\n",
    "    ID = file.split('/')[-1].split('.')[0]\n",
    "    Group = file.split('/')[6]\n",
    "    cha = pd.read_fwf(data_path_pitt + 'Pitt/' + Group + '/cookie/' + ID + '.cha')  \n",
    "    cha_id = [x for x in cha['@UTF8'] if str.startswith(x, '@ID:')][0]\n",
    "    \n",
    "    if (cha_id.split('|')[-3] == ''):\n",
    "        MMSE = np.NaN\n",
    "    else:\n",
    "        MMSE = int(cha_id.split('|')[-3])\n",
    "        \n",
    "    samples = getMelSpectrogramSamples(file)\n",
    "    if len(samples) == 0:\n",
    "        predict = np.nan\n",
    "    else:\n",
    "        predict = model.predict([samples, np.zeros(len(samples)), np.zeros(len(samples))]).flatten().mean()\n",
    "        predict = max(1, min(predict, 30))\n",
    "            \n",
    "    if (predict < 24):\n",
    "        predict_group = 'Dementia'\n",
    "    else:\n",
    "        predict_group = 'Control'\n",
    "        \n",
    "    meta_pitt = meta_pitt.append(pd.DataFrame([[file, ID, Group, MMSE, predict, predict_group]], \n",
    "                                  columns = list(meta_pitt.columns)))"
   ]
  },
  {
   "cell_type": "code",
   "execution_count": 49,
   "metadata": {},
   "outputs": [
    {
     "data": {
      "text/plain": [
       "count    550.000000\n",
       "mean      11.731840\n",
       "std        1.358399\n",
       "min        8.093636\n",
       "25%       10.756529\n",
       "50%       11.609234\n",
       "75%       12.620004\n",
       "max       16.568659\n",
       "Name: predict, dtype: float64"
      ]
     },
     "execution_count": 49,
     "metadata": {},
     "output_type": "execute_result"
    }
   ],
   "source": [
    "meta_pitt['predict'].describe()"
   ]
  },
  {
   "cell_type": "code",
   "execution_count": 50,
   "metadata": {
    "scrolled": true
   },
   "outputs": [],
   "source": [
    "meta_pitt_eval = meta_pitt[meta_pitt.MMSE.notna()]"
   ]
  },
  {
   "cell_type": "code",
   "execution_count": 51,
   "metadata": {},
   "outputs": [
    {
     "data": {
      "text/plain": [
       "(552, 6)"
      ]
     },
     "execution_count": 51,
     "metadata": {},
     "output_type": "execute_result"
    }
   ],
   "source": [
    "meta_pitt.shape"
   ]
  },
  {
   "cell_type": "code",
   "execution_count": 52,
   "metadata": {},
   "outputs": [
    {
     "data": {
      "text/plain": [
       "(457, 6)"
      ]
     },
     "execution_count": 52,
     "metadata": {},
     "output_type": "execute_result"
    }
   ],
   "source": [
    "\n",
    "\n",
    "meta_pitt_eval.shape"
   ]
  },
  {
   "cell_type": "code",
   "execution_count": 53,
   "metadata": {},
   "outputs": [
    {
     "ename": "SyntaxError",
     "evalue": "invalid syntax (<ipython-input-53-78268038d28a>, line 1)",
     "output_type": "error",
     "traceback": [
      "\u001b[0;36m  File \u001b[0;32m\"<ipython-input-53-78268038d28a>\"\u001b[0;36m, line \u001b[0;32m1\u001b[0m\n\u001b[0;31m    meta_pitt_eval.head()sssssdddd\u001b[0m\n\u001b[0m                                 ^\u001b[0m\n\u001b[0;31mSyntaxError\u001b[0m\u001b[0;31m:\u001b[0m invalid syntax\n"
     ]
    }
   ],
   "source": [
    "meta_pitt_eval.head()sssssdddd"
   ]
  },
  {
   "cell_type": "code",
   "execution_count": null,
   "metadata": {},
   "outputs": [],
   "source": [
    "y_true = meta_pitt.Group\n",
    "y_pred = meta_pitt.predict_group\n",
    "data = confusion_matrix(y_true, y_pred)\n",
    "df_cm = pd.DataFrame(data, columns=np.unique(y_true), index = np.unique(y_true))\n",
    "df_cm.index.name = 'Actual'\n",
    "df_cm.columns.name = 'Predicted'\n",
    "plt.figure(figsize = (10,7))\n",
    "sn.set(font_scale=1.4)#for label size\n",
    "sn.heatmap(df_cm, cmap=\"Reds\", annot=True, annot_kws={\"size\": 16})# font size"
   ]
  }
 ],
 "metadata": {
  "kernelspec": {
   "display_name": "Python 3",
   "language": "python",
   "name": "python3"
  }
 },
 "nbformat": 4,
 "nbformat_minor": 2
}
